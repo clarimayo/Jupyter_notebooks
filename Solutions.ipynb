{
 "cells": [
  {
   "cell_type": "markdown",
   "metadata": {},
   "source": [
    "1. Create a function that executes in constant time. Then create a function that executes in linear time. Curry the two functions to produce an output."
   ]
  },
  {
   "cell_type": "code",
   "execution_count": 2,
   "metadata": {},
   "outputs": [
    {
     "data": {
      "text/plain": [
       "[2, 4, 6, 8]"
      ]
     },
     "execution_count": 2,
     "metadata": {},
     "output_type": "execute_result"
    }
   ],
   "source": [
    "def const_time(intvalue):\n",
    "    return intvalue*2\n",
    "\n",
    "def linear_time(array):\n",
    "    for idx,val in enumerate(array):\n",
    "        array[idx] = const_time(val)\n",
    "    return array\n",
    "\n",
    "linear_time([1,2,3,4])"
   ]
  },
  {
   "cell_type": "markdown",
   "metadata": {},
   "source": [
    "2. Create a function using the following function that will take your choice of the following and input:\n",
    "\"R\" (rock), \"P\" (paper), or \"S\" (scissors) and return whether or not you beat the computer."
   ]
  },
  {
   "cell_type": "code",
   "execution_count": 5,
   "metadata": {},
   "outputs": [
    {
     "name": "stdout",
     "output_type": "stream",
     "text": [
      "Enter your choice from R or P or S \n"
     ]
    },
    {
     "name": "stdin",
     "output_type": "stream",
     "text": [
      " S\n"
     ]
    },
    {
     "name": "stdout",
     "output_type": "stream",
     "text": [
      "User chose:  S\n",
      "Computer chose:  P\n",
      "\n",
      "\n",
      "User Won!\n"
     ]
    }
   ],
   "source": [
    "#Python provide function\n",
    "import random\n",
    "\n",
    "def computers_turn():\n",
    "    choices = {\n",
    "    0: 'rock',\n",
    "    1: 'paper',\n",
    "    2: 'scissors',\n",
    "    }\n",
    "    turn = random.randint(0,2)\n",
    "    return (turn, choices[turn])\n",
    "\n",
    "def users_turn():\n",
    "    print('Enter your choice from R or P or S ')\n",
    "    x = input()\n",
    "    print('User chose: ', x)\n",
    "    return x\n",
    "\n",
    "def winner_decision():\n",
    "    user = users_turn()\n",
    "    comp = computers_turn()[1][0].upper()\n",
    "    print('Computer chose: ', comp)\n",
    "    \n",
    "    order = {\n",
    "        'R':0,\n",
    "        'S':1,\n",
    "        'P':2}\n",
    "    \n",
    "    print('\\n')\n",
    "    diff = order[user] - order[comp]\n",
    "    if(diff == 2):\n",
    "        print('User Won!')\n",
    "    elif diff ==1:\n",
    "        print('Computer Won!')\n",
    "    elif diff == 0 :\n",
    "        print('Its a draw')\n",
    "    elif diff == -1 :\n",
    "        print('User Won!')\n",
    "    elif diff == -2:\n",
    "        print('Computer Won!')\n",
    "\n",
    "winner_decision()"
   ]
  },
  {
   "cell_type": "markdown",
   "metadata": {},
   "source": [
    "What is the time complexity of the following code? Explain your answer.\n",
    "\n",
    "\n",
    "def function_a(*args):\n",
    "    \n",
    "    array = []\n",
    "    length = len(args)\n",
    "    \n",
    "    for i in range(0, length-1):\n",
    "        print(i)\n",
    "\n",
    "    for i in range(0, length-1):\n",
    "        for j in range(0, length-1):\n",
    "            for k in range(0, length-1):\n",
    "                array.append([i, j, k])\n",
    "\n",
    "    for val in array:\n",
    "        print(val)\n",
    "\n",
    "    return array\n",
    "    \n",
    "#### Answer is O(length^3)"
   ]
  },
  {
   "cell_type": "markdown",
   "metadata": {},
   "source": [
    "3. Create a function of your own choosing that uses if, for or while. What is the time complexity?"
   ]
  },
  {
   "cell_type": "code",
   "execution_count": 8,
   "metadata": {},
   "outputs": [
    {
     "name": "stdout",
     "output_type": "stream",
     "text": [
      "0\n",
      "1\n",
      "2\n",
      "3\n",
      "4\n",
      "This is a positive number\n",
      "Time complexity is O(n) where n is the value given to this function\n"
     ]
    }
   ],
   "source": [
    "def generic_func(value):\n",
    "    #for loop\n",
    "    for i in range(value):\n",
    "        print(i)\n",
    "    # if statement\n",
    "    if i>0:\n",
    "        print('This is a positive number')\n",
    "    print('Time complexity is O(n) where n is the value given to this function')\n",
    "generic_func(5)"
   ]
  },
  {
   "cell_type": "markdown",
   "metadata": {},
   "source": [
    "4. Write a lambda function that checks whether or not a given string starts with a given character.\n",
    "You can use a string method."
   ]
  },
  {
   "cell_type": "code",
   "execution_count": 11,
   "metadata": {},
   "outputs": [
    {
     "name": "stdout",
     "output_type": "stream",
     "text": [
      "Yes, the string starts with the given character\n"
     ]
    },
    {
     "data": {
      "text/plain": [
       "1"
      ]
     },
     "execution_count": 11,
     "metadata": {},
     "output_type": "execute_result"
    }
   ],
   "source": [
    "def check_start_char(stringvalue, given_character):\n",
    "    if stringvalue[0] == given_character:\n",
    "        print('Yes, the string starts with the given character')\n",
    "        return 1\n",
    "    else:\n",
    "        print('No, the string doesnt start with the given character')\n",
    "    return 0\n",
    "check_start_char('hello','h')\n",
    "#In a pandas dataframe, the lambda function will look like below:\n",
    "#df['column_name'] = df['column_name_for_lambda_application'].apply(lambda x : check_start_char(x,given_character))"
   ]
  },
  {
   "cell_type": "markdown",
   "metadata": {},
   "source": [
    "5. Create your own naive (unsophisticated) sorting algorithm that takes a list of ints and sorts the elements. It doesn't not have to be efficient, it just needs to give the correct sorted list as output. No points for using any built in or library method that sorts."
   ]
  },
  {
   "cell_type": "code",
   "execution_count": 9,
   "metadata": {},
   "outputs": [
    {
     "data": {
      "text/plain": [
       "[4, 10, 29, 75]"
      ]
     },
     "execution_count": 9,
     "metadata": {},
     "output_type": "execute_result"
    }
   ],
   "source": [
    "def bubbleSort(array): \n",
    "    length = len(array) \n",
    "    # Traverse through all array elements \n",
    "    for i in range(length-1):  \n",
    "\n",
    "        for j in range(0, length-i-1): \n",
    "            # traverse the array from 0 to length-i-1\n",
    "            # This loop does pair-wise comparisions to push largest element to the last\n",
    "            # Swap if the element found is greater than the next element\n",
    "            if array[j] > array[j+1] : \n",
    "                array[j], array[j+1] = array[j+1], array[j]\n",
    "    return(array)\n",
    "   \n",
    "  \n",
    "bubbleSort([4, 29, 75, 10]) "
   ]
  }
 ],
 "metadata": {
  "kernelspec": {
   "display_name": "Python 3",
   "language": "python",
   "name": "python3"
  },
  "language_info": {
   "codemirror_mode": {
    "name": "ipython",
    "version": 3
   },
   "file_extension": ".py",
   "mimetype": "text/x-python",
   "name": "python",
   "nbconvert_exporter": "python",
   "pygments_lexer": "ipython3",
   "version": "3.8.3"
  }
 },
 "nbformat": 4,
 "nbformat_minor": 4
}
