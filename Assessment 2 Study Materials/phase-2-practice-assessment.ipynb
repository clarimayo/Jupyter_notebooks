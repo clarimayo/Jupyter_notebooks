{
 "cells": [
  {
   "cell_type": "markdown",
   "id": "expanded-technical",
   "metadata": {},
   "source": [
    "<div style=\"background: #000;\n",
    "            color: #FFF;\n",
    "            margin: 0px;\n",
    "            padding: 10px 0px 20px 0px;\n",
    "            text-align: center; \n",
    "                \">\n",
    "    <h1>Phase 2 Practice Assessment</h1>\n",
    "</div>"
   ]
  },
  {
   "cell_type": "code",
   "execution_count": null,
   "id": "center-artist",
   "metadata": {},
   "outputs": [],
   "source": [
    "import pandas as pd\n",
    "import numpy as np\n",
    "import matplotlib.pyplot as plt\n",
    "import seaborn as sns"
   ]
  },
  {
   "cell_type": "markdown",
   "id": "unnecessary-northwest",
   "metadata": {},
   "source": [
    "# Multiple Choice Questions \n",
    "\n",
    "**[5% each; 25% total]**\n",
    "\n",
    "**1. What is a main benefit of test-driven development?**\n",
    "\n",
    "**a.** Less money needed  \n",
    "**b.** More fun   \n",
    "**c.** Slower development  \n",
    "**d.** Fewer bugs to deal with  "
   ]
  },
  {
   "cell_type": "raw",
   "id": "advanced-retail",
   "metadata": {},
   "source": []
  },
  {
   "cell_type": "markdown",
   "id": "conservative-humanitarian",
   "metadata": {},
   "source": [
    "**2. What would we use to calculate the number of ways we could arrange 20 students into a 5 person committee if we didn't care about committees having the same 5 members?**\n",
    "\n",
    "**a.** Factorial  \n",
    "**b.** Permutation  \n",
    "**c.** Combination  \n",
    "**d.** Probability Mass Function  "
   ]
  },
  {
   "cell_type": "raw",
   "id": "exceptional-allowance",
   "metadata": {},
   "source": []
  },
  {
   "cell_type": "markdown",
   "id": "suspended-confirmation",
   "metadata": {},
   "source": [
    "**3. What is the set of possible outcomes for a random variable called?**\n",
    "\n",
    "**a.** Event Space  \n",
    "**b.** Experiment    \n",
    "**c.** Sample Space   \n",
    "**d.** Probability Distribution  "
   ]
  },
  {
   "cell_type": "raw",
   "id": "dutch-specialist",
   "metadata": {},
   "source": []
  },
  {
   "cell_type": "markdown",
   "id": "traditional-chosen",
   "metadata": {},
   "source": [
    "**4. Multiplying a matrix by its inverse results in what type of matrix**\n",
    "\n",
    "**a.** Square Matrix  \n",
    "**b.** The Matrix Trilogy  \n",
    "**c.** Zero Matrix  \n",
    "**d.** Identity Matrix  "
   ]
  },
  {
   "cell_type": "raw",
   "id": "after-victoria",
   "metadata": {},
   "source": []
  },
  {
   "cell_type": "markdown",
   "id": "upper-newton",
   "metadata": {},
   "source": [
    "**5. What's a consequence of underfitting?**\n",
    "\n",
    "**a.** Incorrect predictions   \n",
    "**b.** High bias  \n",
    "**c.** Getting fired    \n",
    "**d.** High variance  "
   ]
  },
  {
   "cell_type": "raw",
   "id": "indonesian-pickup",
   "metadata": {},
   "source": []
  },
  {
   "cell_type": "markdown",
   "id": "median-special",
   "metadata": {},
   "source": [
    "# Python \n",
    "\n",
    "**[5% each; 25% total]** \n",
    "\n",
    "\n",
    "**1. Implement a binary tree in a python class that has the four methods we've covered.**"
   ]
  },
  {
   "cell_type": "code",
   "execution_count": null,
   "id": "indoor-exemption",
   "metadata": {},
   "outputs": [],
   "source": []
  },
  {
   "cell_type": "markdown",
   "id": "chicken-chamber",
   "metadata": {},
   "source": [
    "**2. Create a generator function that yields a power of 2 every time it's used. Demonstrate that it works.**"
   ]
  },
  {
   "cell_type": "code",
   "execution_count": null,
   "id": "promotional-channels",
   "metadata": {},
   "outputs": [],
   "source": []
  },
  {
   "cell_type": "markdown",
   "id": "known-entrepreneur",
   "metadata": {},
   "source": [
    "**3. Convert the numbers 718 and 917 into binary values and then XOR them.**"
   ]
  },
  {
   "cell_type": "code",
   "execution_count": null,
   "id": "moving-gender",
   "metadata": {},
   "outputs": [],
   "source": []
  },
  {
   "cell_type": "markdown",
   "id": "thrown-photography",
   "metadata": {},
   "source": [
    "**4. Create a dataclass that has the following attributes: name, age, grade and course.**"
   ]
  },
  {
   "cell_type": "code",
   "execution_count": null,
   "id": "temporal-pitch",
   "metadata": {},
   "outputs": [],
   "source": []
  },
  {
   "cell_type": "markdown",
   "id": "bacterial-treat",
   "metadata": {},
   "source": [
    "**5. Convert the following formula into a python function. Then use it to calculate the the standard deviation of the list.**\n",
    "\n",
    "$$ \\sigma = \\sqrt{\\frac{1}{N}\\sum_{i=1}^{N}(x_i - \\mu)^{2}}$$"
   ]
  },
  {
   "cell_type": "code",
   "execution_count": null,
   "id": "split-degree",
   "metadata": {},
   "outputs": [],
   "source": [
    "l = [10, 12, 23, 23, 16, 23, 21, 16]\n"
   ]
  },
  {
   "cell_type": "markdown",
   "id": "controlling-alaska",
   "metadata": {},
   "source": [
    "# Machine Learning Questions \n",
    "\n",
    "**1. Why would we not want a macine learning model to perfectly fit the data we used to train it?**"
   ]
  },
  {
   "cell_type": "code",
   "execution_count": null,
   "id": "approximate-coordination",
   "metadata": {},
   "outputs": [],
   "source": []
  },
  {
   "cell_type": "markdown",
   "id": "soviet-morocco",
   "metadata": {},
   "source": [
    "**2. What assumption must we make in order to do a linear regressions? Why do we make this assumption?**"
   ]
  },
  {
   "cell_type": "code",
   "execution_count": null,
   "id": "pretty-marina",
   "metadata": {},
   "outputs": [],
   "source": []
  },
  {
   "cell_type": "markdown",
   "id": "compact-representation",
   "metadata": {},
   "source": [
    "**3. Explain what variance is and why increasing the complexity of our model causes it. What sacrifice might we make by lowering the complexity of our model?**"
   ]
  },
  {
   "cell_type": "code",
   "execution_count": null,
   "id": "unknown-heater",
   "metadata": {},
   "outputs": [],
   "source": []
  },
  {
   "cell_type": "markdown",
   "id": "fifth-finnish",
   "metadata": {},
   "source": [
    "# Numpy\n",
    "\n",
    "**This section is worth 12.5%**\n",
    "\n",
    "**1. Create an array of array of numbers from 1 to 100. Then use that array to get the results of the following formula for all of those values.**\n",
    "\n",
    "$$ y = x^{2}-x-6$$"
   ]
  },
  {
   "cell_type": "code",
   "execution_count": null,
   "id": "linear-institute",
   "metadata": {},
   "outputs": [],
   "source": []
  },
  {
   "cell_type": "markdown",
   "id": "qualified-blame",
   "metadata": {},
   "source": [
    "**2. Create two arrays containing the following matrices. Then prove they are inverses.**\n",
    "\n",
    "$$ A = \\begin{bmatrix}\n",
    "5&2\\\\\n",
    "-7&-3\\\\\n",
    "\\end{bmatrix}$$\n",
    "\n",
    "$$ B = \\begin{bmatrix}\n",
    "3&2\\\\\n",
    "-7&-5\\\\\n",
    "\\end{bmatrix}$$"
   ]
  },
  {
   "cell_type": "code",
   "execution_count": null,
   "id": "black-approach",
   "metadata": {},
   "outputs": [],
   "source": []
  },
  {
   "cell_type": "markdown",
   "id": "supreme-worthy",
   "metadata": {},
   "source": [
    "**3. Create an array using the following matrix so we have the values from the odd rows of the even columns.**\n",
    "\n",
    "Odd rows meaning rows with odd indices. Even columns meaning columns with even indices."
   ]
  },
  {
   "cell_type": "code",
   "execution_count": null,
   "id": "environmental-cookie",
   "metadata": {},
   "outputs": [],
   "source": [
    "a = np.array([[1,2,3,4,5,6,7],[8,9,10,11,12,13,14],[15,16,17,18,19,20,21]])\n",
    "a"
   ]
  },
  {
   "cell_type": "code",
   "execution_count": null,
   "id": "temporal-bristol",
   "metadata": {},
   "outputs": [],
   "source": []
  },
  {
   "cell_type": "markdown",
   "id": "seasonal-yorkshire",
   "metadata": {},
   "source": [
    "**4. Create a square matrix containing the first 9 values of the following function. Reverse it and then flatten it. Show all of your code.**\n",
    "\n",
    "$$ y = |x|$$\n"
   ]
  },
  {
   "cell_type": "code",
   "execution_count": null,
   "id": "approximate-alfred",
   "metadata": {},
   "outputs": [],
   "source": []
  },
  {
   "cell_type": "markdown",
   "id": "expected-finder",
   "metadata": {},
   "source": [
    "**5. Create a sqaure numpy array of random numbers. Sort the array and then concatenate it with a similar sized matrix of zeros. Then compute the mean. Show all work.**"
   ]
  },
  {
   "cell_type": "code",
   "execution_count": null,
   "id": "spiritual-wealth",
   "metadata": {},
   "outputs": [],
   "source": []
  },
  {
   "cell_type": "markdown",
   "id": "corporate-approval",
   "metadata": {},
   "source": [
    "# Pandas \n",
    "\n",
    "**This section is worth 12.5%**\n",
    "\n",
    "The questions for this section use the dataframe below:"
   ]
  },
  {
   "cell_type": "code",
   "execution_count": null,
   "id": "inside-postcard",
   "metadata": {},
   "outputs": [],
   "source": [
    "df = pd.DataFrame([\n",
    "[\"alice\", 9, 50, np.nan,75],\n",
    "[\"bob\", 5, 75, np.nan, 65],\n",
    "[\"carol\", 8, 90, np.nan, 90],\n",
    "[\"dave\", 8, 85, 90, 85],\n",
    "[\"erica\", 9, 95, 100, 95],\n",
    "[\"frank\", 0, 30, 60, 30],\n",
    "[\"gina\", 10,85, 100, np.nan],\n",
    "[\"hector\", 10, 95, np.nan, 95],\n",
    "[\"ivan\", 9,85, 90, np.nan],\n",
    "[\"john\", 5,70, 80, np.nan]\n",
    "], columns=['student', 'hws completed', 'test average', 'project grade', 'final score'])\n",
    "\n",
    "df"
   ]
  },
  {
   "cell_type": "markdown",
   "id": "surgical-thanks",
   "metadata": {},
   "source": [
    "**1. Fix the `\"hws completed\"` column by turning the number of hws completed into a percentage. There were 10 hws in the semester and students got 100% on each hw they completed.**"
   ]
  },
  {
   "cell_type": "code",
   "execution_count": null,
   "id": "structural-colony",
   "metadata": {},
   "outputs": [],
   "source": []
  },
  {
   "cell_type": "markdown",
   "id": "statutory-substance",
   "metadata": {},
   "source": [
    "**2. Fix the missing values in the column `\"project grade\"` using the following formula**.\n",
    "\n",
    "$$ \\textbf{final grade} = \\frac{\\textbf{hw grade} + \\textbf{test grade} + \\textbf{project grade}}{3} $$"
   ]
  },
  {
   "cell_type": "code",
   "execution_count": null,
   "id": "opposed-testament",
   "metadata": {},
   "outputs": [],
   "source": []
  },
  {
   "cell_type": "markdown",
   "id": "secret-language",
   "metadata": {},
   "source": [
    "**3. Fix the missing values in the column `\"final grade\"` using the formula from the previous exercise.**"
   ]
  },
  {
   "cell_type": "code",
   "execution_count": null,
   "id": "eastern-horse",
   "metadata": {},
   "outputs": [],
   "source": []
  },
  {
   "cell_type": "markdown",
   "id": "involved-carter",
   "metadata": {},
   "source": [
    "**4. Filter our dataframe and output the top 3 students by final grade.**"
   ]
  },
  {
   "cell_type": "code",
   "execution_count": null,
   "id": "everyday-norfolk",
   "metadata": {},
   "outputs": [],
   "source": []
  },
  {
   "cell_type": "markdown",
   "id": "dominican-spotlight",
   "metadata": {},
   "source": [
    "**5. Calculate the average grade for each of our four columns.**"
   ]
  },
  {
   "cell_type": "code",
   "execution_count": null,
   "id": "leading-johnson",
   "metadata": {},
   "outputs": [],
   "source": []
  },
  {
   "cell_type": "markdown",
   "id": "welsh-peeing",
   "metadata": {},
   "source": [
    "# SQL \n",
    "\n",
    "Carol just received a job offer for a position as data scientist paying \\$140,000. Given the following sql database, update her information to reflect this new position."
   ]
  },
  {
   "cell_type": "code",
   "execution_count": null,
   "id": "oriented-crown",
   "metadata": {},
   "outputs": [],
   "source": [
    "# run this cell to set up your sqlite3 db.\n",
    "import sqlite3\n",
    "\n",
    "sql_commands = \\\n",
    "\"\"\"\n",
    "DROP TABLE IF EXISTS employees;\n",
    "\n",
    "CREATE TABLE employees (\n",
    " id INTEGER PRIMARY KEY,\n",
    " name TEXT NOT NULL,\n",
    " position TEXT NOT NULL,\n",
    " salary INTEGER NOT NULL\n",
    ");\n",
    "\n",
    "INSERT INTO employees \n",
    "(name, position, salary)\n",
    "VALUES \n",
    "('Alice', 'software engineer', 120000),\n",
    "('Bob', 'web developer',  80000),\n",
    "('Carol', 'intern', 10000);\n",
    "\"\"\"\n",
    "\n",
    "db = sqlite3.connect('employees.db')\n",
    "cursor = db.cursor()\n",
    "cursor.executescript(sql_commands)\n",
    "db.commit()\n",
    "db.close()"
   ]
  },
  {
   "cell_type": "code",
   "execution_count": null,
   "id": "anticipated-finland",
   "metadata": {},
   "outputs": [],
   "source": [
    "# use this function for your answers.\n",
    "def with_conn(statement):\n",
    "    conn = sqlite3.connect('employees.db')\n",
    "    with conn:\n",
    "        cur = conn.cursor()\n",
    "        cur.execute(statement)\n",
    "        result = cur.fetchall()\n",
    "        return result "
   ]
  },
  {
   "cell_type": "code",
   "execution_count": null,
   "id": "rapid-soccer",
   "metadata": {},
   "outputs": [],
   "source": [
    "with_conn(';')"
   ]
  },
  {
   "cell_type": "markdown",
   "id": "golden-toronto",
   "metadata": {},
   "source": [
    "# Matplotlib \n",
    "**This section is worth 5%**\n",
    "\n",
    "Using the following dataset, create a chart of the data using the right chart to convey the information. Make sure your chart is professional looking, utilizing axis labeling and a proper title. "
   ]
  },
  {
   "cell_type": "code",
   "execution_count": null,
   "id": "subject-afternoon",
   "metadata": {},
   "outputs": [],
   "source": [
    "df = pd.DataFrame([['alice',3.4,2016, '1LdRcdxfbSnmCYYNdeYpUnztiYzVfBEQeC'],['bob',0.4555, 2018,'12ib7dApVFvg82TXKycWBNpN8kFyiAN1dr'], ['carol', 5.42482302, 2015, '1LdRcdxfbSnmCYYNdeYpUnztiYzVfBEQeC'], ['davin',20.25, 2013,'3ETUmNhL2JuCFFVNSpk8Bqx2eorxyP9FVh'], ['eric',0.05,2021, '1LdRcdxfbSnmCYYNdeYpUnztiYzVfBEQeC']], columns=['name', 'bitcoins', 'year started', 'public key'])\n",
    "df.head()"
   ]
  },
  {
   "cell_type": "code",
   "execution_count": null,
   "id": "formed-belly",
   "metadata": {},
   "outputs": [],
   "source": []
  }
 ],
 "metadata": {
  "kernelspec": {
   "display_name": "Python 3",
   "language": "python",
   "name": "python3"
  },
  "language_info": {
   "codemirror_mode": {
    "name": "ipython",
    "version": 3
   },
   "file_extension": ".py",
   "mimetype": "text/x-python",
   "name": "python",
   "nbconvert_exporter": "python",
   "pygments_lexer": "ipython3",
   "version": "3.9.1"
  }
 },
 "nbformat": 4,
 "nbformat_minor": 5
}
