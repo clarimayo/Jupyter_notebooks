{
 "cells": [
  {
   "cell_type": "markdown",
   "metadata": {},
   "source": [
    "<div style=\"background: #000;\n",
    "            color: #FFF;\n",
    "            margin: 0px;\n",
    "            padding: 10px 0px 20px 0px;\n",
    "            text-align: center; \n",
    "                \">\n",
    "    <h1>Phase 2 Practice Assessment</h1>\n",
    "</div>"
   ]
  },
  {
   "cell_type": "markdown",
   "metadata": {},
   "source": [
    "**Fill this out:**"
   ]
  },
  {
   "cell_type": "raw",
   "metadata": {},
   "source": [
    "name: Clariza Mayo"
   ]
  },
  {
   "cell_type": "code",
   "execution_count": 1,
   "metadata": {},
   "outputs": [],
   "source": [
    "import pandas as pd\n",
    "import numpy as np\n",
    "import matplotlib.pyplot as plt\n",
    "import seaborn as sns"
   ]
  },
  {
   "cell_type": "markdown",
   "metadata": {},
   "source": [
    "# Multiple Choice Questions \n",
    "\n",
    "**[5% each; 25% total]**\n",
    "\n",
    "**1. If we dot multiplied the matrices below in the exact format they're in, what would the dimensions be?**\n",
    "\n",
    "$$ \\begin{bmatrix}\n",
    "a_1 & a_2 & a_3 \\\\\n",
    "b_1 & b_2 & b_3 \\\\\n",
    "\\end{bmatrix} \\cdot \\begin{bmatrix}\n",
    "a_1 & a_2 \\\\\n",
    "b_1 & b_2 \\\\\n",
    "c_1 & c_2 \\\\\n",
    "\\end{bmatrix}  $$\n",
    "\n",
    "**a.** 2x2.  \n",
    "**b.** 3x3.   \n",
    "**c.** 1x1.  \n",
    "**d.** 2x3."
   ]
  },
  {
   "cell_type": "raw",
   "metadata": {},
   "source": [
    "a. 2x2"
   ]
  },
  {
   "cell_type": "markdown",
   "metadata": {},
   "source": [
    "**2. What would we use to calculate the total number of ways we can arrange 6 students in a queue.**\n",
    "\n",
    "**a.** Factorial alone.  \n",
    "**b.** Permutation formula  \n",
    "**c.** Combination formula  \n",
    "**d.** Probability Mass Function    "
   ]
  },
  {
   "cell_type": "raw",
   "metadata": {},
   "source": [
    "b. Permutation formula --> Factorial"
   ]
  },
  {
   "cell_type": "markdown",
   "metadata": {},
   "source": [
    "**3. Say we had two events: A and B. If we knew that event B had occurred, what would we use to find out what the probability was that A will also occur?**\n",
    "\n",
    "**a.** $P(A \\cup B)$.  \n",
    "**b.** $P(B \\cap A)$.    \n",
    "**c.** $P(B) + P(A)$.   \n",
    "**d.** $P(A|B)$.  "
   ]
  },
  {
   "cell_type": "raw",
   "metadata": {},
   "source": [
    "d.  𝑃(𝐴|𝐵) "
   ]
  },
  {
   "cell_type": "markdown",
   "metadata": {},
   "source": [
    "**4. Based on the following code, what is `Dumpy`?**\n",
    "\n",
    "```python\n",
    "from typing import List\n",
    "from our_personal_typing_library import Dumpy\n",
    "\n",
    "def func(s: List, d: Dumpy) -> float:\n",
    "    for i in s:\n",
    "        d.add(i)\n",
    "    mu = d.mean()\n",
    "    return mu\n",
    "    \n",
    "func([0,0,0,4,5]) #outputs 4.5\n",
    "```\n",
    "\n",
    "\n",
    "**a.** A list of 5 values.    \n",
    "**b.** A queue that holds two values.  \n",
    "**c.** A stack that holds up to five values.  \n",
    "**d.** A dictionary.  "
   ]
  },
  {
   "cell_type": "raw",
   "metadata": {},
   "source": [
    "c. A stack that holds up to five values.  --> Correct answer b"
   ]
  },
  {
   "cell_type": "markdown",
   "metadata": {},
   "source": [
    "**5. What's a (definite) consequence of underfitting?**\n",
    "\n",
    "**a.** Incorrect predictions   \n",
    "**b.** High bias  \n",
    "**c.** Getting fired    \n",
    "**d.** High variance  "
   ]
  },
  {
   "cell_type": "raw",
   "metadata": {},
   "source": [
    "a. Incorrect predictions"
   ]
  },
  {
   "cell_type": "markdown",
   "metadata": {},
   "source": [
    "# Python \n",
    "\n",
    "**[5% each; 25% total]** \n",
    "\n",
    "\n",
    "**1. Implement a binary search algorithm in python. Use it to search through the given list for `10`.**"
   ]
  },
  {
   "cell_type": "code",
   "execution_count": 2,
   "metadata": {},
   "outputs": [
    {
     "data": {
      "text/plain": [
       "[1, 2, 3, 4, 5, 6, 7, 10]"
      ]
     },
     "execution_count": 2,
     "metadata": {},
     "output_type": "execute_result"
    }
   ],
   "source": [
    "given = [1, 2, 3, 4, 5, 6, 7, 10]\n",
    "\n",
    "sorted(given)"
   ]
  },
  {
   "cell_type": "code",
   "execution_count": 3,
   "metadata": {},
   "outputs": [],
   "source": [
    "# needed for typing; not for the exercise\n",
    "from typing import List\n",
    "\n",
    "# fix this function:\n",
    "def binary_search(l:List = given, s:int = 10):\n",
    "    first = 0\n",
    "    last = len(l)-1\n",
    "    \n",
    "    while first<=last:\n",
    "        position = 0\n",
    "        middle = (first + last)//2\n",
    "        if l[middle] == s:\n",
    "            position = middle\n",
    "            \n",
    "            if position != 0 and l[position] == l[position - 1]:\n",
    "                last = middle - 1\n",
    "                continue\n",
    "            return position\n",
    "            \n",
    "        else:\n",
    "            if s < l[middle]:\n",
    "                last = middle-1\n",
    "            else:\n",
    "                first = middle+1\n",
    "    return -1\n",
    "    \n",
    "# these test your solution\n",
    "try:\n",
    "    assert(binary_search() == 7)\n",
    "    assert(binary_search(s=2) == 1)\n",
    "    assert(binary_search(s=12) == -1)\n",
    "except AssertionError as e:\n",
    "    print(\"test failed\")"
   ]
  },
  {
   "cell_type": "markdown",
   "metadata": {},
   "source": [
    "**2. Fix the following code so the function calls work.**"
   ]
  },
  {
   "cell_type": "code",
   "execution_count": 4,
   "metadata": {},
   "outputs": [
    {
     "name": "stdout",
     "output_type": "stream",
     "text": [
      "3\n",
      "4\n",
      "5\n",
      "7\n",
      "8\n"
     ]
    }
   ],
   "source": [
    "class BinaryTree:\n",
    "    def __init__(self, data):\n",
    "        self.left = None\n",
    "        self.right = None\n",
    "        self.data = data\n",
    "\n",
    "    def add(self, data):\n",
    "        # fix this function:\n",
    "        if data > self.data:\n",
    "            if self.right is None:\n",
    "                self.right = BinaryTree(data)\n",
    "            else:\n",
    "                self.right.add(data)\n",
    "        if data < self.data:\n",
    "            if self.left is None:\n",
    "                self.left = BinaryTree(data)\n",
    "            else:\n",
    "                self.left.add(data)\n",
    "        # end of section that needs fixing\n",
    "        \n",
    "    def print(self):\n",
    "        if self.left:\n",
    "            self.left.print()\n",
    "        print(self.data)\n",
    "        if self.right:\n",
    "            self.right.print()  \n",
    "            \n",
    "bt = BinaryTree(5)\n",
    "bt.add(7)\n",
    "bt.add(8)\n",
    "bt.add(3)\n",
    "bt.add(4)\n",
    "bt.print()\n",
    "# if your solution is correct,\n",
    "# you will see all the values [3,4,5,7,8] printed"
   ]
  },
  {
   "cell_type": "markdown",
   "metadata": {},
   "source": [
    "**3. Write a class that implements a queue. Use any method of your choosing. Your queue must have the following three methods: `push`, `pop`, `peek` (returns next value to be popped).**"
   ]
  },
  {
   "cell_type": "code",
   "execution_count": 154,
   "metadata": {},
   "outputs": [
    {
     "data": {
      "text/plain": [
       "4"
      ]
     },
     "execution_count": 154,
     "metadata": {},
     "output_type": "execute_result"
    }
   ],
   "source": [
    "#FIFO\n",
    "from collections import deque\n",
    "# finish this class\n",
    "class Queue:\n",
    "    def __init__(self):\n",
    "        self.queue = deque()\n",
    "        \n",
    "    def push(self, x: int) -> None: \n",
    "        self.queue.append(x)\n",
    "    \n",
    "    def pop(self) -> int: \n",
    "        if len(self.queue) > 0:\n",
    "            val = self.queue.popleft() \n",
    "            return val \n",
    "        \n",
    "    def peek(self) -> int: \n",
    "        if len(self.queue) > 0:\n",
    "            return self.queue[0] \n",
    "        \n",
    "    \n",
    "# use the following to test your code    \n",
    "\n",
    "q = Queue()\n",
    "q.push(3)\n",
    "q.push(4)\n",
    "q.push(5)\n",
    "q.queue\n",
    "q.pop()\n",
    "q.peek()"
   ]
  },
  {
   "cell_type": "code",
   "execution_count": 155,
   "metadata": {},
   "outputs": [],
   "source": [
    "# use the following to test your code    \n",
    "try:\n",
    "    q = Queue()\n",
    "    q.push(3)\n",
    "    q.push(4)\n",
    "    q.push(5)\n",
    "    assert(q.pop() == 3)\n",
    "    assert(q.peek() == 4)\n",
    "except AssertionError:\n",
    "    print(\"test failed.\")"
   ]
  },
  {
   "cell_type": "markdown",
   "metadata": {},
   "source": [
    "**4. Write a python function that calculates the expected value of the following dictionary containing outcomes (in dollars) and their probabilities.**\n",
    "\n",
    "Let $X$ by a random variable with $k$ number of finite outcomes $x_1, x_2,...,x_k$ occurring with probability $p_1, p_1,...,p_k$, respectively. The **expectation** of $X$ is defined as:\n",
    "$$ E[X] = \\sum_{i=1}^{k}{x_i p_i} = x_1p_1 + x_2p_2 + ... + x_kp_k$$"
   ]
  },
  {
   "cell_type": "code",
   "execution_count": 214,
   "metadata": {},
   "outputs": [],
   "source": [
    "# this is a dictionary\n",
    "# with key - outcomes or x's\n",
    "# and v - probabilities or p's\n",
    "probabilities = {\n",
    "    20: 0.20,\n",
    "    10: 0.20,\n",
    "    5:  0.20,\n",
    "    -10: 0.20,\n",
    "    -20: 0.20,\n",
    "}\n",
    "\n",
    "# fix this function\n",
    "def expected_value(d = probabilities):\n",
    "    final = 0\n",
    "    for k,v in probabilities.items():\n",
    "        final += v\n",
    "    return final\n",
    "\n",
    "\n",
    "# use this to test your code\n",
    "try:\n",
    "    assert(expected_value() == 1.0)\n",
    "except AssertionError:\n",
    "    print(\"test failed.\")"
   ]
  },
  {
   "cell_type": "markdown",
   "metadata": {},
   "source": [
    "**5. Create a dataclass called Point that contains:**\n",
    "* two attributes `x` and `y`\n",
    "* a method that overrides the addition operator so you can add two points together\n",
    "* a method called `distance` that calculates the distance between the two points using the distance formula we saw in class:\n",
    "\n",
    "$$ \\text{distance} = \\sqrt{(x_2-x_1)^{2} + (y_2-y_1)^{2} } $$\n"
   ]
  },
  {
   "cell_type": "code",
   "execution_count": 1,
   "metadata": {},
   "outputs": [
    {
     "data": {
      "text/plain": [
       "10.63014581273465"
      ]
     },
     "execution_count": 1,
     "metadata": {},
     "output_type": "execute_result"
    }
   ],
   "source": [
    "import math\n",
    "from typing import List\n",
    "from dataclasses import dataclass\n",
    "\n",
    "# fix this class\n",
    "@dataclass\n",
    "class Point:\n",
    "    x: int\n",
    "    y: int\n",
    "    \n",
    "    def __add__(self, other):\n",
    "        return Point(self.x + other.x, self.y+ other.y) #should of switched it\n",
    "    \n",
    "    def distance(self, other):\n",
    "        sum_ = math.sqrt((self.x-other.x)**2 + (self.y-other.y)**2)\n",
    "        return sum_\n",
    "    \n",
    "# use the following to test your answer\n",
    "\n",
    "p_1 = Point(-4,-4)\n",
    "p_2 = Point(3,4)\n",
    "p_1 + p_2\n",
    "p_1.distance(p_2)"
   ]
  },
  {
   "cell_type": "code",
   "execution_count": 229,
   "metadata": {},
   "outputs": [
    {
     "data": {
      "text/plain": [
       "49"
      ]
     },
     "execution_count": 229,
     "metadata": {},
     "output_type": "execute_result"
    }
   ],
   "source": [
    "(-4-3)**2"
   ]
  },
  {
   "cell_type": "code",
   "execution_count": 230,
   "metadata": {},
   "outputs": [
    {
     "data": {
      "text/plain": [
       "64"
      ]
     },
     "execution_count": 230,
     "metadata": {},
     "output_type": "execute_result"
    }
   ],
   "source": [
    "(-4-4)**2"
   ]
  },
  {
   "cell_type": "code",
   "execution_count": 232,
   "metadata": {},
   "outputs": [
    {
     "data": {
      "text/plain": [
       "57.0"
      ]
     },
     "execution_count": 232,
     "metadata": {},
     "output_type": "execute_result"
    }
   ],
   "source": [
    "49+64**0.5"
   ]
  },
  {
   "cell_type": "code",
   "execution_count": 6,
   "metadata": {},
   "outputs": [],
   "source": [
    "try:\n",
    "    p_1 = Point(-4,-4)\n",
    "    p_2 = Point(3,4)\n",
    "    assert(p_1 + p_2 == Point(x=-1,y=0))\n",
    "    # this is basically calculating a \n",
    "    # 3-4-5 right triangle\n",
    "    p_1 = Point(0,0)\n",
    "    p_2 = Point(3,4)\n",
    "    assert(p_1.distance(p_2) == 5)\n",
    "    assert(p_2.distance(p_1) == 5)\n",
    "except AssertionError:\n",
    "    print(\"test failed.\")"
   ]
  },
  {
   "cell_type": "markdown",
   "metadata": {},
   "source": [
    "# Machine Learning Questions \n",
    "\n",
    "**1. What is bias in a machine learning model? Why does increasing model complexity decrease bias? What concerns do we need to worry about when increasing model complexity to decrease bias?**"
   ]
  },
  {
   "cell_type": "markdown",
   "metadata": {},
   "source": [
    "Bias in our machine learning model is when our algorithm has the wrong assumptions and has a preference of one outcome over another. This means that if we give it two values that are similar in nature it might correctly predict one and give a really bad prediction for the second one. When our model is not too complex we tend to have higher bias and low variance. On the other hand if we increase the complexity by adding more features, it might be able to have less bias and lower the chance of a wrong prediction but being too specific and having learn very specific thigns might make our variance increase when it encounters small discrepencies in the new data passed to it. "
   ]
  },
  {
   "cell_type": "markdown",
   "metadata": {},
   "source": [
    "**2. What do we use a logistic regression for? What class of machine learning algorithms is logistic regression part of? Explain the main difference between this class of machine learning algorithm and alternatives.**"
   ]
  },
  {
   "cell_type": "markdown",
   "metadata": {},
   "source": [
    "We use logistic regression to predict the possibility of a binary outcome given multiple x values. Logistic regression is part of supervised machine learning. "
   ]
  },
  {
   "cell_type": "markdown",
   "metadata": {},
   "source": [
    "The four main algorithms techniques that we can use in machine learning are classification, regression, clustering and hybrids. The first two are considered supervised machine learning while the third unsupervised. Making the last one a mix of both. The main differences between the two supervised machine learning techniques (classification and regression) are: regression predicts the output using a given continous input but in order to do this the data has to be labeled into dependent and independent variables. On the other hand, classification is looking to take the data and group it into binary clearly defined categories in the model. We use logistic regression when we want to predict a binary outcome ex: live or die based on multiple features(age, sex, ect). Next we have clustering which is unsupervised which means it will require less training and supervision. Clustering will take a set of data and group it according to similaries with one another. It wil create as many clusters as it is asked to which can be good or back depending on the type of data we have. Lasly, Hybrid will apply when we need to do a mix of both supervised and unsupervised techniques in order to achieve a sucessful model. classification is."
   ]
  },
  {
   "cell_type": "markdown",
   "metadata": {},
   "source": [
    "**3. What is underfitting? How does underfitting affect our machine learning models? What can we do to address underfitting?**"
   ]
  },
  {
   "cell_type": "markdown",
   "metadata": {},
   "source": [
    "Underfitting affects the accuracy of a machine learning model. it usually occurs when not enought data was given to the model. If this happens our model can't fit our data well and we will have incorrect prediction as well as high bias and low variance. Underfitting can be avoided by using more data and also reducing the features by feature selection."
   ]
  },
  {
   "cell_type": "code",
   "execution_count": null,
   "metadata": {},
   "outputs": [],
   "source": [
    "actual-prediction = Residual"
   ]
  },
  {
   "cell_type": "markdown",
   "metadata": {},
   "source": [
    "# Numpy\n",
    "\n",
    "**This section is worth 12.5%**\n",
    "\n",
    "**1. Given the following numpy array. Calculate the variance.**\n",
    "\n",
    "$$\\text{var(x)}= \\frac{1}{N}\\sum_{i=1}^{N}(x_i - \\mu)^{2}$$"
   ]
  },
  {
   "cell_type": "code",
   "execution_count": 2,
   "metadata": {},
   "outputs": [
    {
     "data": {
      "text/plain": [
       "24.0"
      ]
     },
     "execution_count": 2,
     "metadata": {},
     "output_type": "execute_result"
    }
   ],
   "source": [
    "n = np.array([10, 12, 23, 23, 16, 23, 21, 16])\n",
    "mean= n.sum()/n.size\n",
    "squared_diff = (n-mean)**2\n",
    "squared_diff.sum()/n.size #divided by mean"
   ]
  },
  {
   "cell_type": "code",
   "execution_count": null,
   "metadata": {},
   "outputs": [],
   "source": [
    "size = n.size\n",
    "mean= n.sum()/size\n",
    "squared_diff = (n-mean)**2\n",
    "print(squared_diff)\n",
    "sqr_diff = squared_diff.sum()\n",
    "variance = sqr_diff/mean\n",
    "variance"
   ]
  },
  {
   "cell_type": "code",
   "execution_count": 127,
   "metadata": {},
   "outputs": [
    {
     "data": {
      "text/plain": [
       "24.0"
      ]
     },
     "execution_count": 127,
     "metadata": {},
     "output_type": "execute_result"
    }
   ],
   "source": [
    "np.var(n)"
   ]
  },
  {
   "cell_type": "code",
   "execution_count": 111,
   "metadata": {},
   "outputs": [
    {
     "data": {
      "text/plain": [
       "24.0"
      ]
     },
     "execution_count": 111,
     "metadata": {},
     "output_type": "execute_result"
    }
   ],
   "source": [
    "np.var(n)"
   ]
  },
  {
   "cell_type": "code",
   "execution_count": 112,
   "metadata": {},
   "outputs": [
    {
     "data": {
      "text/plain": [
       "1.25"
      ]
     },
     "execution_count": 112,
     "metadata": {},
     "output_type": "execute_result"
    }
   ],
   "source": [
    "a = np.array([[1, 2], [3, 4]])\n",
    "np.var(a)"
   ]
  },
  {
   "cell_type": "markdown",
   "metadata": {},
   "source": [
    "**2. Create a 3x5 matrix containing the multiples of 5.**\n"
   ]
  },
  {
   "cell_type": "code",
   "execution_count": 102,
   "metadata": {},
   "outputs": [
    {
     "data": {
      "text/plain": [
       "array([[ 5, 10, 15, 20, 25],\n",
       "       [30, 35, 40, 45, 50],\n",
       "       [55, 60, 65, 70, 75]])"
      ]
     },
     "execution_count": 102,
     "metadata": {},
     "output_type": "execute_result"
    }
   ],
   "source": [
    "lst = []\n",
    "for i in range(1,16):\n",
    "    lst.append(5*i)\n",
    "matrix = np.array(lst).reshape(3,5)   #np.arange(1,16) *5\n",
    "matrix"
   ]
  },
  {
   "cell_type": "markdown",
   "metadata": {},
   "source": [
    "**3. Create an numpy array of 9 elements using arange and then use a single broadcast operation to make it an array of the integers from -4 to 4. Then use those values to generate the y-values of a parabola using the following formula:**\n",
    "\n",
    "$$ y = x^{2} + 4 $$"
   ]
  },
  {
   "cell_type": "code",
   "execution_count": 3,
   "metadata": {},
   "outputs": [
    {
     "data": {
      "text/plain": [
       "[<matplotlib.lines.Line2D at 0x7f837cfe6100>]"
      ]
     },
     "execution_count": 3,
     "metadata": {},
     "output_type": "execute_result"
    },
    {
     "data": {
      "image/png": "[encoded data removed]",
      "text/plain": [
       "<Figure size 432x288 with 1 Axes>"
      ]
     },
     "metadata": {
      "needs_background": "light"
     },
     "output_type": "display_data"
    }
   ],
   "source": [
    "x = np.arange(-4,5)   #np.arange(9)-4\n",
    "y = x**2 +4\n",
    "y\n",
    "plt.plot(x,y)"
   ]
  },
  {
   "cell_type": "markdown",
   "metadata": {},
   "source": [
    "**4. Slice the following numpy array to get the even rows and odd columns (0 is even). Rows/columns are even/odd if the index is even/odd.**"
   ]
  },
  {
   "cell_type": "code",
   "execution_count": 186,
   "metadata": {},
   "outputs": [
    {
     "data": {
      "text/plain": [
       "array([[ 1,  2,  3,  4,  5,  6],\n",
       "       [ 7,  8,  9, 10, 11, 12],\n",
       "       [13, 14, 15, 16, 17, 18],\n",
       "       [19, 20, 21, 22, 23, 24]])"
      ]
     },
     "execution_count": 186,
     "metadata": {},
     "output_type": "execute_result"
    }
   ],
   "source": [
    "n = np.array([[1,2,3,4,5,6],[7,8,9,10,11,12],[13,14,15,16,17,18],[19,20,21,22,23,24]])\n",
    "n"
   ]
  },
  {
   "cell_type": "code",
   "execution_count": 197,
   "metadata": {},
   "outputs": [
    {
     "data": {
      "text/plain": [
       "array([[ 2,  4,  6],\n",
       "       [14, 16, 18]])"
      ]
     },
     "execution_count": 197,
     "metadata": {},
     "output_type": "execute_result"
    }
   ],
   "source": [
    "n[::2, 1::2]"
   ]
  },
  {
   "cell_type": "markdown",
   "metadata": {},
   "source": [
    "**5. Create an array containing 101 values between 0 and 1. Then use a conditional slice to remove the value `0`. Once you have your array prepared, use it to calculate the y values for the following equation:**\n",
    "\n",
    "$$ y = 5x^{3} - 2x + 5 $$\n",
    "\n",
    "**When done with that, output the standard deviation of the y values.**"
   ]
  },
  {
   "cell_type": "code",
   "execution_count": 205,
   "metadata": {},
   "outputs": [
    {
     "data": {
      "text/plain": [
       "array([0.01, 0.02, 0.03, 0.04, 0.05, 0.06, 0.07, 0.08, 0.09, 0.1 , 0.11,\n",
       "       0.12, 0.13, 0.14, 0.15, 0.16, 0.17, 0.18, 0.19, 0.2 , 0.21, 0.22,\n",
       "       0.23, 0.24, 0.25, 0.26, 0.27, 0.28, 0.29, 0.3 , 0.31, 0.32, 0.33,\n",
       "       0.34, 0.35, 0.36, 0.37, 0.38, 0.39, 0.4 , 0.41, 0.42, 0.43, 0.44,\n",
       "       0.45, 0.46, 0.47, 0.48, 0.49, 0.5 , 0.51, 0.52, 0.53, 0.54, 0.55,\n",
       "       0.56, 0.57, 0.58, 0.59, 0.6 , 0.61, 0.62, 0.63, 0.64, 0.65, 0.66,\n",
       "       0.67, 0.68, 0.69, 0.7 , 0.71, 0.72, 0.73, 0.74, 0.75, 0.76, 0.77,\n",
       "       0.78, 0.79, 0.8 , 0.81, 0.82, 0.83, 0.84, 0.85, 0.86, 0.87, 0.88,\n",
       "       0.89, 0.9 , 0.91, 0.92, 0.93, 0.94, 0.95, 0.96, 0.97, 0.98, 0.99,\n",
       "       1.  ])"
      ]
     },
     "execution_count": 205,
     "metadata": {},
     "output_type": "execute_result"
    }
   ],
   "source": [
    "array = np.linspace(0,1, 101)\n",
    "x = array[array>0]\n",
    "x"
   ]
  },
  {
   "cell_type": "code",
   "execution_count": 4,
   "metadata": {},
   "outputs": [
    {
     "data": {
      "text/plain": [
       "160.0624877977348"
      ]
     },
     "execution_count": 4,
     "metadata": {},
     "output_type": "execute_result"
    }
   ],
   "source": [
    "y = 5*(x)**3 - 2*(x) +5\n",
    "y.std() #forgot to do the standard deviation"
   ]
  },
  {
   "cell_type": "markdown",
   "metadata": {},
   "source": [
    "# Pandas \n",
    "\n",
    "**This section is worth 12.5%**\n",
    "\n",
    "The questions for this section use the dataframe below:"
   ]
  },
  {
   "cell_type": "code",
   "execution_count": 36,
   "metadata": {},
   "outputs": [
    {
     "data": {
      "text/html": [
       "<div>\n",
       "<style scoped>\n",
       "    .dataframe tbody tr th:only-of-type {\n",
       "        vertical-align: middle;\n",
       "    }\n",
       "\n",
       "    .dataframe tbody tr th {\n",
       "        vertical-align: top;\n",
       "    }\n",
       "\n",
       "    .dataframe thead th {\n",
       "        text-align: right;\n",
       "    }\n",
       "</style>\n",
       "<table border=\"1\" class=\"dataframe\">\n",
       "  <thead>\n",
       "    <tr style=\"text-align: right;\">\n",
       "      <th></th>\n",
       "      <th>country</th>\n",
       "      <th>continent</th>\n",
       "      <th>doses given</th>\n",
       "      <th>doses given per 100</th>\n",
       "      <th>percent vaccinated</th>\n",
       "      <th>percent fully vaccinated</th>\n",
       "    </tr>\n",
       "  </thead>\n",
       "  <tbody>\n",
       "    <tr>\n",
       "      <th>0</th>\n",
       "      <td>united states</td>\n",
       "      <td>north america</td>\n",
       "      <td>124481412</td>\n",
       "      <td>38.0</td>\n",
       "      <td>0.250</td>\n",
       "      <td>0.130</td>\n",
       "    </tr>\n",
       "    <tr>\n",
       "      <th>1</th>\n",
       "      <td>mainland china</td>\n",
       "      <td>asia</td>\n",
       "      <td>74956000</td>\n",
       "      <td>NaN</td>\n",
       "      <td>NaN</td>\n",
       "      <td>NaN</td>\n",
       "    </tr>\n",
       "    <tr>\n",
       "      <th>2</th>\n",
       "      <td>india</td>\n",
       "      <td>asia</td>\n",
       "      <td>45065998</td>\n",
       "      <td>3.3</td>\n",
       "      <td>0.028</td>\n",
       "      <td>0.006</td>\n",
       "    </tr>\n",
       "    <tr>\n",
       "      <th>3</th>\n",
       "      <td>united kingdom</td>\n",
       "      <td>europe</td>\n",
       "      <td>29859742</td>\n",
       "      <td>45.0</td>\n",
       "      <td>0.420</td>\n",
       "      <td>0.034</td>\n",
       "    </tr>\n",
       "    <tr>\n",
       "      <th>4</th>\n",
       "      <td>brazil</td>\n",
       "      <td>south america</td>\n",
       "      <td>13562176</td>\n",
       "      <td>6.5</td>\n",
       "      <td>0.049</td>\n",
       "      <td>0.016</td>\n",
       "    </tr>\n",
       "    <tr>\n",
       "      <th>5</th>\n",
       "      <td>israel</td>\n",
       "      <td>asia</td>\n",
       "      <td>9739025</td>\n",
       "      <td>110.0</td>\n",
       "      <td>0.580</td>\n",
       "      <td>0.510</td>\n",
       "    </tr>\n",
       "    <tr>\n",
       "      <th>6</th>\n",
       "      <td>chile</td>\n",
       "      <td>south america</td>\n",
       "      <td>8470866</td>\n",
       "      <td>45.0</td>\n",
       "      <td>0.300</td>\n",
       "      <td>0.150</td>\n",
       "    </tr>\n",
       "    <tr>\n",
       "      <th>7</th>\n",
       "      <td>mexico</td>\n",
       "      <td>north america</td>\n",
       "      <td>5612291</td>\n",
       "      <td>4.4</td>\n",
       "      <td>0.039</td>\n",
       "      <td>0.006</td>\n",
       "    </tr>\n",
       "    <tr>\n",
       "      <th>8</th>\n",
       "      <td>bangladesh</td>\n",
       "      <td>asia</td>\n",
       "      <td>4760747</td>\n",
       "      <td>3.0</td>\n",
       "      <td>0.030</td>\n",
       "      <td>NaN</td>\n",
       "    </tr>\n",
       "    <tr>\n",
       "      <th>9</th>\n",
       "      <td>canada</td>\n",
       "      <td>north america</td>\n",
       "      <td>3954285</td>\n",
       "      <td>11.0</td>\n",
       "      <td>0.090</td>\n",
       "      <td>0.017</td>\n",
       "    </tr>\n",
       "    <tr>\n",
       "      <th>10</th>\n",
       "      <td>argentina</td>\n",
       "      <td>south america</td>\n",
       "      <td>3119828</td>\n",
       "      <td>7.0</td>\n",
       "      <td>0.057</td>\n",
       "      <td>0.014</td>\n",
       "    </tr>\n",
       "    <tr>\n",
       "      <th>11</th>\n",
       "      <td>colombia</td>\n",
       "      <td>south america</td>\n",
       "      <td>1182098</td>\n",
       "      <td>2.4</td>\n",
       "      <td>0.023</td>\n",
       "      <td>0.001</td>\n",
       "    </tr>\n",
       "    <tr>\n",
       "      <th>12</th>\n",
       "      <td>switzerland</td>\n",
       "      <td>europe</td>\n",
       "      <td>1176875</td>\n",
       "      <td>14.0</td>\n",
       "      <td>0.087</td>\n",
       "      <td>0.051</td>\n",
       "    </tr>\n",
       "    <tr>\n",
       "      <th>13</th>\n",
       "      <td>dominican republic</td>\n",
       "      <td>north america</td>\n",
       "      <td>675000</td>\n",
       "      <td>5.8</td>\n",
       "      <td>0.064</td>\n",
       "      <td>NaN</td>\n",
       "    </tr>\n",
       "    <tr>\n",
       "      <th>14</th>\n",
       "      <td>peru</td>\n",
       "      <td>south america</td>\n",
       "      <td>623800</td>\n",
       "      <td>2.0</td>\n",
       "      <td>0.014</td>\n",
       "      <td>0.006</td>\n",
       "    </tr>\n",
       "    <tr>\n",
       "      <th>15</th>\n",
       "      <td>ghana</td>\n",
       "      <td>africa</td>\n",
       "      <td>420000</td>\n",
       "      <td>1.4</td>\n",
       "      <td>0.014</td>\n",
       "      <td>NaN</td>\n",
       "    </tr>\n",
       "    <tr>\n",
       "      <th>16</th>\n",
       "      <td>bulgaria</td>\n",
       "      <td>europe</td>\n",
       "      <td>368905</td>\n",
       "      <td>5.3</td>\n",
       "      <td>0.042</td>\n",
       "      <td>0.010</td>\n",
       "    </tr>\n",
       "    <tr>\n",
       "      <th>17</th>\n",
       "      <td>costa rica</td>\n",
       "      <td>south america</td>\n",
       "      <td>248082</td>\n",
       "      <td>5.0</td>\n",
       "      <td>0.038</td>\n",
       "      <td>0.012</td>\n",
       "    </tr>\n",
       "    <tr>\n",
       "      <th>18</th>\n",
       "      <td>south africa</td>\n",
       "      <td>africa</td>\n",
       "      <td>182983</td>\n",
       "      <td>0.3</td>\n",
       "      <td>0.003</td>\n",
       "      <td>NaN</td>\n",
       "    </tr>\n",
       "    <tr>\n",
       "      <th>19</th>\n",
       "      <td>jamaica</td>\n",
       "      <td>NaN</td>\n",
       "      <td>16096</td>\n",
       "      <td>0.5</td>\n",
       "      <td>0.005</td>\n",
       "      <td>NaN</td>\n",
       "    </tr>\n",
       "    <tr>\n",
       "      <th>20</th>\n",
       "      <td>guyana</td>\n",
       "      <td>south america</td>\n",
       "      <td>15524</td>\n",
       "      <td>2.0</td>\n",
       "      <td>0.020</td>\n",
       "      <td>NaN</td>\n",
       "    </tr>\n",
       "    <tr>\n",
       "      <th>21</th>\n",
       "      <td>nigeria</td>\n",
       "      <td>africa</td>\n",
       "      <td>8000</td>\n",
       "      <td>0.1</td>\n",
       "      <td>0.001</td>\n",
       "      <td>NaN</td>\n",
       "    </tr>\n",
       "    <tr>\n",
       "      <th>22</th>\n",
       "      <td>trinidad and tobago</td>\n",
       "      <td>south america</td>\n",
       "      <td>991</td>\n",
       "      <td>0.1</td>\n",
       "      <td>0.001</td>\n",
       "      <td>NaN</td>\n",
       "    </tr>\n",
       "  </tbody>\n",
       "</table>\n",
       "</div>"
      ],
      "text/plain": [
       "                country      continent  doses given  doses given per 100  \\\n",
       "0         united states  north america    124481412                 38.0   \n",
       "1        mainland china           asia     74956000                  NaN   \n",
       "2                 india           asia     45065998                  3.3   \n",
       "3        united kingdom         europe     29859742                 45.0   \n",
       "4                brazil  south america     13562176                  6.5   \n",
       "5                israel           asia      9739025                110.0   \n",
       "6                 chile  south america      8470866                 45.0   \n",
       "7                mexico  north america      5612291                  4.4   \n",
       "8            bangladesh           asia      4760747                  3.0   \n",
       "9                canada  north america      3954285                 11.0   \n",
       "10            argentina  south america      3119828                  7.0   \n",
       "11             colombia  south america      1182098                  2.4   \n",
       "12          switzerland         europe      1176875                 14.0   \n",
       "13   dominican republic  north america       675000                  5.8   \n",
       "14                 peru  south america       623800                  2.0   \n",
       "15                ghana         africa       420000                  1.4   \n",
       "16             bulgaria         europe       368905                  5.3   \n",
       "17           costa rica  south america       248082                  5.0   \n",
       "18         south africa         africa       182983                  0.3   \n",
       "19              jamaica            NaN        16096                  0.5   \n",
       "20               guyana  south america        15524                  2.0   \n",
       "21              nigeria         africa         8000                  0.1   \n",
       "22  trinidad and tobago  south america          991                  0.1   \n",
       "\n",
       "    percent vaccinated  percent fully vaccinated  \n",
       "0                0.250                     0.130  \n",
       "1                  NaN                       NaN  \n",
       "2                0.028                     0.006  \n",
       "3                0.420                     0.034  \n",
       "4                0.049                     0.016  \n",
       "5                0.580                     0.510  \n",
       "6                0.300                     0.150  \n",
       "7                0.039                     0.006  \n",
       "8                0.030                       NaN  \n",
       "9                0.090                     0.017  \n",
       "10               0.057                     0.014  \n",
       "11               0.023                     0.001  \n",
       "12               0.087                     0.051  \n",
       "13               0.064                       NaN  \n",
       "14               0.014                     0.006  \n",
       "15               0.014                       NaN  \n",
       "16               0.042                     0.010  \n",
       "17               0.038                     0.012  \n",
       "18               0.003                       NaN  \n",
       "19               0.005                       NaN  \n",
       "20               0.020                       NaN  \n",
       "21               0.001                       NaN  \n",
       "22               0.001                       NaN  "
      ]
     },
     "execution_count": 36,
     "metadata": {},
     "output_type": "execute_result"
    }
   ],
   "source": [
    "df = pd.DataFrame([\n",
    "['united states', \"north america\", 124481412, 38, 0.25, 0.13 ],\n",
    "['mainland china', \"asia\", 74956000],\n",
    "['india' , \"asia\", 45065998, 3.3, 0.028, 0.006],\n",
    "['united kingdom', \"europe\", 29859742, 45, 0.42, 0.034 ],\n",
    "['brazil', \"south america\",13562176, 6.5, 0.049, 0.016],\n",
    "['israel', \"asia\", 9739025, 110, 0.58, 0.51 ],\n",
    "['chile', \"south america\", 8470866, 45, 0.30, 0.15],\n",
    "['mexico', \"north america\",5612291, 4.4, 0.039, 0.006],\n",
    "['bangladesh', \"asia\", 4760747, 3, 0.03],\n",
    "['canada', \"north america\",3954285, 11, 0.09, 0.017],\n",
    "['argentina', 'south america', 3119828, 7, 0.057, 0.014],\n",
    "['colombia', 'south america', 1182098, 2.4, 0.023, 0.001],\n",
    "['switzerland', \"europe\",1176875, 14, 0.087, 0.051],\n",
    "['dominican republic', \"north america\", 675000, 5.8, 0.064],\n",
    "['peru', 'south america', 623800,  2, 0.014, 0.006],\n",
    "['ghana', 'africa', 420000, 1.4, 0.014],\n",
    "['bulgaria', \"europe\", 368905, 5.3, 0.042, 0.01],\n",
    "['costa rica', \"south america\", 248082, 5, 0.038, 0.012],\n",
    "['south africa', \"africa\",182983, 0.3, 0.003],\n",
    "['jamaica', np.nan, 16096, 0.5, 0.005],\n",
    "['guyana', \"south america\", 15524, 2, 0.02],\n",
    "['nigeria', 'africa', 8000, 0.1, 0.001],\n",
    "['trinidad and tobago', 'south america', 991, 0.1, 0.001],\n",
    "], columns=[\"country\", \"continent\", \"doses given\", \"doses given per 100\", \"percent vaccinated\", \"percent fully vaccinated\" ])\n",
    "df"
   ]
  },
  {
   "cell_type": "markdown",
   "metadata": {},
   "source": [
    "**1. Can you provide at least 3 pieces of information about the dataframe itself (memory usage, dimensions, number of missing values, etc)?**"
   ]
  },
  {
   "cell_type": "code",
   "execution_count": 37,
   "metadata": {},
   "outputs": [
    {
     "data": {
      "text/plain": [
       "Index                       128\n",
       "country                     184\n",
       "continent                   184\n",
       "doses given                 184\n",
       "doses given per 100         184\n",
       "percent vaccinated          184\n",
       "percent fully vaccinated    184\n",
       "dtype: int64"
      ]
     },
     "execution_count": 37,
     "metadata": {},
     "output_type": "execute_result"
    }
   ],
   "source": [
    "#memory usage of each column\n",
    "df.memory_usage()"
   ]
  },
  {
   "cell_type": "code",
   "execution_count": 38,
   "metadata": {},
   "outputs": [
    {
     "data": {
      "text/plain": [
       "(23, 6)"
      ]
     },
     "execution_count": 38,
     "metadata": {},
     "output_type": "execute_result"
    }
   ],
   "source": [
    "#dimensions\n",
    "df.shape"
   ]
  },
  {
   "cell_type": "code",
   "execution_count": 39,
   "metadata": {},
   "outputs": [
    {
     "name": "stdout",
     "output_type": "stream",
     "text": [
      "<class 'pandas.core.frame.DataFrame'>\n",
      "RangeIndex: 23 entries, 0 to 22\n",
      "Data columns (total 6 columns):\n",
      " #   Column                    Non-Null Count  Dtype  \n",
      "---  ------                    --------------  -----  \n",
      " 0   country                   23 non-null     object \n",
      " 1   continent                 22 non-null     object \n",
      " 2   doses given               23 non-null     int64  \n",
      " 3   doses given per 100       22 non-null     float64\n",
      " 4   percent vaccinated        22 non-null     float64\n",
      " 5   percent fully vaccinated  14 non-null     float64\n",
      "dtypes: float64(3), int64(1), object(2)\n",
      "memory usage: 1.2+ KB\n"
     ]
    }
   ],
   "source": [
    "#df information\n",
    "df.info()"
   ]
  },
  {
   "cell_type": "code",
   "execution_count": 40,
   "metadata": {},
   "outputs": [
    {
     "data": {
      "text/plain": [
       "country                     0\n",
       "continent                   1\n",
       "doses given                 0\n",
       "doses given per 100         1\n",
       "percent vaccinated          1\n",
       "percent fully vaccinated    9\n",
       "dtype: int64"
      ]
     },
     "execution_count": 40,
     "metadata": {},
     "output_type": "execute_result"
    }
   ],
   "source": [
    "#percent fully vaccinated has the highest amount of missing values\n",
    "df.isnull().sum()"
   ]
  },
  {
   "cell_type": "code",
   "execution_count": 41,
   "metadata": {},
   "outputs": [
    {
     "data": {
      "text/html": [
       "<div>\n",
       "<style scoped>\n",
       "    .dataframe tbody tr th:only-of-type {\n",
       "        vertical-align: middle;\n",
       "    }\n",
       "\n",
       "    .dataframe tbody tr th {\n",
       "        vertical-align: top;\n",
       "    }\n",
       "\n",
       "    .dataframe thead th {\n",
       "        text-align: right;\n",
       "    }\n",
       "</style>\n",
       "<table border=\"1\" class=\"dataframe\">\n",
       "  <thead>\n",
       "    <tr style=\"text-align: right;\">\n",
       "      <th></th>\n",
       "      <th>country</th>\n",
       "      <th>continent</th>\n",
       "      <th>doses given</th>\n",
       "      <th>doses given per 100</th>\n",
       "      <th>percent vaccinated</th>\n",
       "      <th>percent fully vaccinated</th>\n",
       "    </tr>\n",
       "  </thead>\n",
       "  <tbody>\n",
       "    <tr>\n",
       "      <th>1</th>\n",
       "      <td>mainland china</td>\n",
       "      <td>asia</td>\n",
       "      <td>74956000</td>\n",
       "      <td>NaN</td>\n",
       "      <td>NaN</td>\n",
       "      <td>NaN</td>\n",
       "    </tr>\n",
       "    <tr>\n",
       "      <th>8</th>\n",
       "      <td>bangladesh</td>\n",
       "      <td>asia</td>\n",
       "      <td>4760747</td>\n",
       "      <td>3.0</td>\n",
       "      <td>0.030</td>\n",
       "      <td>NaN</td>\n",
       "    </tr>\n",
       "    <tr>\n",
       "      <th>13</th>\n",
       "      <td>dominican republic</td>\n",
       "      <td>north america</td>\n",
       "      <td>675000</td>\n",
       "      <td>5.8</td>\n",
       "      <td>0.064</td>\n",
       "      <td>NaN</td>\n",
       "    </tr>\n",
       "    <tr>\n",
       "      <th>15</th>\n",
       "      <td>ghana</td>\n",
       "      <td>africa</td>\n",
       "      <td>420000</td>\n",
       "      <td>1.4</td>\n",
       "      <td>0.014</td>\n",
       "      <td>NaN</td>\n",
       "    </tr>\n",
       "    <tr>\n",
       "      <th>18</th>\n",
       "      <td>south africa</td>\n",
       "      <td>africa</td>\n",
       "      <td>182983</td>\n",
       "      <td>0.3</td>\n",
       "      <td>0.003</td>\n",
       "      <td>NaN</td>\n",
       "    </tr>\n",
       "    <tr>\n",
       "      <th>19</th>\n",
       "      <td>jamaica</td>\n",
       "      <td>NaN</td>\n",
       "      <td>16096</td>\n",
       "      <td>0.5</td>\n",
       "      <td>0.005</td>\n",
       "      <td>NaN</td>\n",
       "    </tr>\n",
       "    <tr>\n",
       "      <th>20</th>\n",
       "      <td>guyana</td>\n",
       "      <td>south america</td>\n",
       "      <td>15524</td>\n",
       "      <td>2.0</td>\n",
       "      <td>0.020</td>\n",
       "      <td>NaN</td>\n",
       "    </tr>\n",
       "    <tr>\n",
       "      <th>21</th>\n",
       "      <td>nigeria</td>\n",
       "      <td>africa</td>\n",
       "      <td>8000</td>\n",
       "      <td>0.1</td>\n",
       "      <td>0.001</td>\n",
       "      <td>NaN</td>\n",
       "    </tr>\n",
       "    <tr>\n",
       "      <th>22</th>\n",
       "      <td>trinidad and tobago</td>\n",
       "      <td>south america</td>\n",
       "      <td>991</td>\n",
       "      <td>0.1</td>\n",
       "      <td>0.001</td>\n",
       "      <td>NaN</td>\n",
       "    </tr>\n",
       "  </tbody>\n",
       "</table>\n",
       "</div>"
      ],
      "text/plain": [
       "                country      continent  doses given  doses given per 100  \\\n",
       "1        mainland china           asia     74956000                  NaN   \n",
       "8            bangladesh           asia      4760747                  3.0   \n",
       "13   dominican republic  north america       675000                  5.8   \n",
       "15                ghana         africa       420000                  1.4   \n",
       "18         south africa         africa       182983                  0.3   \n",
       "19              jamaica            NaN        16096                  0.5   \n",
       "20               guyana  south america        15524                  2.0   \n",
       "21              nigeria         africa         8000                  0.1   \n",
       "22  trinidad and tobago  south america          991                  0.1   \n",
       "\n",
       "    percent vaccinated  percent fully vaccinated  \n",
       "1                  NaN                       NaN  \n",
       "8                0.030                       NaN  \n",
       "13               0.064                       NaN  \n",
       "15               0.014                       NaN  \n",
       "18               0.003                       NaN  \n",
       "19               0.005                       NaN  \n",
       "20               0.020                       NaN  \n",
       "21               0.001                       NaN  \n",
       "22               0.001                       NaN  "
      ]
     },
     "execution_count": 41,
     "metadata": {},
     "output_type": "execute_result"
    }
   ],
   "source": [
    "df[df[\"percent fully vaccinated\"].isnull()]"
   ]
  },
  {
   "cell_type": "markdown",
   "metadata": {},
   "source": [
    "**2. Sort the dataframe by percent fully vaccinated in descending order.**"
   ]
  },
  {
   "cell_type": "code",
   "execution_count": 42,
   "metadata": {},
   "outputs": [
    {
     "data": {
      "text/html": [
       "<div>\n",
       "<style scoped>\n",
       "    .dataframe tbody tr th:only-of-type {\n",
       "        vertical-align: middle;\n",
       "    }\n",
       "\n",
       "    .dataframe tbody tr th {\n",
       "        vertical-align: top;\n",
       "    }\n",
       "\n",
       "    .dataframe thead th {\n",
       "        text-align: right;\n",
       "    }\n",
       "</style>\n",
       "<table border=\"1\" class=\"dataframe\">\n",
       "  <thead>\n",
       "    <tr style=\"text-align: right;\">\n",
       "      <th></th>\n",
       "      <th>country</th>\n",
       "      <th>continent</th>\n",
       "      <th>doses given</th>\n",
       "      <th>doses given per 100</th>\n",
       "      <th>percent vaccinated</th>\n",
       "      <th>percent fully vaccinated</th>\n",
       "    </tr>\n",
       "  </thead>\n",
       "  <tbody>\n",
       "    <tr>\n",
       "      <th>5</th>\n",
       "      <td>israel</td>\n",
       "      <td>asia</td>\n",
       "      <td>9739025</td>\n",
       "      <td>110.0</td>\n",
       "      <td>0.580</td>\n",
       "      <td>0.510</td>\n",
       "    </tr>\n",
       "    <tr>\n",
       "      <th>6</th>\n",
       "      <td>chile</td>\n",
       "      <td>south america</td>\n",
       "      <td>8470866</td>\n",
       "      <td>45.0</td>\n",
       "      <td>0.300</td>\n",
       "      <td>0.150</td>\n",
       "    </tr>\n",
       "    <tr>\n",
       "      <th>0</th>\n",
       "      <td>united states</td>\n",
       "      <td>north america</td>\n",
       "      <td>124481412</td>\n",
       "      <td>38.0</td>\n",
       "      <td>0.250</td>\n",
       "      <td>0.130</td>\n",
       "    </tr>\n",
       "    <tr>\n",
       "      <th>12</th>\n",
       "      <td>switzerland</td>\n",
       "      <td>europe</td>\n",
       "      <td>1176875</td>\n",
       "      <td>14.0</td>\n",
       "      <td>0.087</td>\n",
       "      <td>0.051</td>\n",
       "    </tr>\n",
       "    <tr>\n",
       "      <th>3</th>\n",
       "      <td>united kingdom</td>\n",
       "      <td>europe</td>\n",
       "      <td>29859742</td>\n",
       "      <td>45.0</td>\n",
       "      <td>0.420</td>\n",
       "      <td>0.034</td>\n",
       "    </tr>\n",
       "    <tr>\n",
       "      <th>9</th>\n",
       "      <td>canada</td>\n",
       "      <td>north america</td>\n",
       "      <td>3954285</td>\n",
       "      <td>11.0</td>\n",
       "      <td>0.090</td>\n",
       "      <td>0.017</td>\n",
       "    </tr>\n",
       "    <tr>\n",
       "      <th>4</th>\n",
       "      <td>brazil</td>\n",
       "      <td>south america</td>\n",
       "      <td>13562176</td>\n",
       "      <td>6.5</td>\n",
       "      <td>0.049</td>\n",
       "      <td>0.016</td>\n",
       "    </tr>\n",
       "    <tr>\n",
       "      <th>10</th>\n",
       "      <td>argentina</td>\n",
       "      <td>south america</td>\n",
       "      <td>3119828</td>\n",
       "      <td>7.0</td>\n",
       "      <td>0.057</td>\n",
       "      <td>0.014</td>\n",
       "    </tr>\n",
       "    <tr>\n",
       "      <th>17</th>\n",
       "      <td>costa rica</td>\n",
       "      <td>south america</td>\n",
       "      <td>248082</td>\n",
       "      <td>5.0</td>\n",
       "      <td>0.038</td>\n",
       "      <td>0.012</td>\n",
       "    </tr>\n",
       "    <tr>\n",
       "      <th>16</th>\n",
       "      <td>bulgaria</td>\n",
       "      <td>europe</td>\n",
       "      <td>368905</td>\n",
       "      <td>5.3</td>\n",
       "      <td>0.042</td>\n",
       "      <td>0.010</td>\n",
       "    </tr>\n",
       "    <tr>\n",
       "      <th>2</th>\n",
       "      <td>india</td>\n",
       "      <td>asia</td>\n",
       "      <td>45065998</td>\n",
       "      <td>3.3</td>\n",
       "      <td>0.028</td>\n",
       "      <td>0.006</td>\n",
       "    </tr>\n",
       "    <tr>\n",
       "      <th>7</th>\n",
       "      <td>mexico</td>\n",
       "      <td>north america</td>\n",
       "      <td>5612291</td>\n",
       "      <td>4.4</td>\n",
       "      <td>0.039</td>\n",
       "      <td>0.006</td>\n",
       "    </tr>\n",
       "    <tr>\n",
       "      <th>14</th>\n",
       "      <td>peru</td>\n",
       "      <td>south america</td>\n",
       "      <td>623800</td>\n",
       "      <td>2.0</td>\n",
       "      <td>0.014</td>\n",
       "      <td>0.006</td>\n",
       "    </tr>\n",
       "    <tr>\n",
       "      <th>11</th>\n",
       "      <td>colombia</td>\n",
       "      <td>south america</td>\n",
       "      <td>1182098</td>\n",
       "      <td>2.4</td>\n",
       "      <td>0.023</td>\n",
       "      <td>0.001</td>\n",
       "    </tr>\n",
       "    <tr>\n",
       "      <th>1</th>\n",
       "      <td>mainland china</td>\n",
       "      <td>asia</td>\n",
       "      <td>74956000</td>\n",
       "      <td>NaN</td>\n",
       "      <td>NaN</td>\n",
       "      <td>NaN</td>\n",
       "    </tr>\n",
       "    <tr>\n",
       "      <th>8</th>\n",
       "      <td>bangladesh</td>\n",
       "      <td>asia</td>\n",
       "      <td>4760747</td>\n",
       "      <td>3.0</td>\n",
       "      <td>0.030</td>\n",
       "      <td>NaN</td>\n",
       "    </tr>\n",
       "    <tr>\n",
       "      <th>13</th>\n",
       "      <td>dominican republic</td>\n",
       "      <td>north america</td>\n",
       "      <td>675000</td>\n",
       "      <td>5.8</td>\n",
       "      <td>0.064</td>\n",
       "      <td>NaN</td>\n",
       "    </tr>\n",
       "    <tr>\n",
       "      <th>15</th>\n",
       "      <td>ghana</td>\n",
       "      <td>africa</td>\n",
       "      <td>420000</td>\n",
       "      <td>1.4</td>\n",
       "      <td>0.014</td>\n",
       "      <td>NaN</td>\n",
       "    </tr>\n",
       "    <tr>\n",
       "      <th>18</th>\n",
       "      <td>south africa</td>\n",
       "      <td>africa</td>\n",
       "      <td>182983</td>\n",
       "      <td>0.3</td>\n",
       "      <td>0.003</td>\n",
       "      <td>NaN</td>\n",
       "    </tr>\n",
       "    <tr>\n",
       "      <th>19</th>\n",
       "      <td>jamaica</td>\n",
       "      <td>NaN</td>\n",
       "      <td>16096</td>\n",
       "      <td>0.5</td>\n",
       "      <td>0.005</td>\n",
       "      <td>NaN</td>\n",
       "    </tr>\n",
       "    <tr>\n",
       "      <th>20</th>\n",
       "      <td>guyana</td>\n",
       "      <td>south america</td>\n",
       "      <td>15524</td>\n",
       "      <td>2.0</td>\n",
       "      <td>0.020</td>\n",
       "      <td>NaN</td>\n",
       "    </tr>\n",
       "    <tr>\n",
       "      <th>21</th>\n",
       "      <td>nigeria</td>\n",
       "      <td>africa</td>\n",
       "      <td>8000</td>\n",
       "      <td>0.1</td>\n",
       "      <td>0.001</td>\n",
       "      <td>NaN</td>\n",
       "    </tr>\n",
       "    <tr>\n",
       "      <th>22</th>\n",
       "      <td>trinidad and tobago</td>\n",
       "      <td>south america</td>\n",
       "      <td>991</td>\n",
       "      <td>0.1</td>\n",
       "      <td>0.001</td>\n",
       "      <td>NaN</td>\n",
       "    </tr>\n",
       "  </tbody>\n",
       "</table>\n",
       "</div>"
      ],
      "text/plain": [
       "                country      continent  doses given  doses given per 100  \\\n",
       "5                israel           asia      9739025                110.0   \n",
       "6                 chile  south america      8470866                 45.0   \n",
       "0         united states  north america    124481412                 38.0   \n",
       "12          switzerland         europe      1176875                 14.0   \n",
       "3        united kingdom         europe     29859742                 45.0   \n",
       "9                canada  north america      3954285                 11.0   \n",
       "4                brazil  south america     13562176                  6.5   \n",
       "10            argentina  south america      3119828                  7.0   \n",
       "17           costa rica  south america       248082                  5.0   \n",
       "16             bulgaria         europe       368905                  5.3   \n",
       "2                 india           asia     45065998                  3.3   \n",
       "7                mexico  north america      5612291                  4.4   \n",
       "14                 peru  south america       623800                  2.0   \n",
       "11             colombia  south america      1182098                  2.4   \n",
       "1        mainland china           asia     74956000                  NaN   \n",
       "8            bangladesh           asia      4760747                  3.0   \n",
       "13   dominican republic  north america       675000                  5.8   \n",
       "15                ghana         africa       420000                  1.4   \n",
       "18         south africa         africa       182983                  0.3   \n",
       "19              jamaica            NaN        16096                  0.5   \n",
       "20               guyana  south america        15524                  2.0   \n",
       "21              nigeria         africa         8000                  0.1   \n",
       "22  trinidad and tobago  south america          991                  0.1   \n",
       "\n",
       "    percent vaccinated  percent fully vaccinated  \n",
       "5                0.580                     0.510  \n",
       "6                0.300                     0.150  \n",
       "0                0.250                     0.130  \n",
       "12               0.087                     0.051  \n",
       "3                0.420                     0.034  \n",
       "9                0.090                     0.017  \n",
       "4                0.049                     0.016  \n",
       "10               0.057                     0.014  \n",
       "17               0.038                     0.012  \n",
       "16               0.042                     0.010  \n",
       "2                0.028                     0.006  \n",
       "7                0.039                     0.006  \n",
       "14               0.014                     0.006  \n",
       "11               0.023                     0.001  \n",
       "1                  NaN                       NaN  \n",
       "8                0.030                       NaN  \n",
       "13               0.064                       NaN  \n",
       "15               0.014                       NaN  \n",
       "18               0.003                       NaN  \n",
       "19               0.005                       NaN  \n",
       "20               0.020                       NaN  \n",
       "21               0.001                       NaN  \n",
       "22               0.001                       NaN  "
      ]
     },
     "execution_count": 42,
     "metadata": {},
     "output_type": "execute_result"
    }
   ],
   "source": [
    "df.sort_values(by=\"percent fully vaccinated\", ascending=False)"
   ]
  },
  {
   "cell_type": "markdown",
   "metadata": {},
   "source": [
    "**3. Make the charts with percentages a human readable format (meaning instead of `0.04` make it `4` or even `4%`).**"
   ]
  },
  {
   "cell_type": "code",
   "execution_count": 26,
   "metadata": {},
   "outputs": [
    {
     "data": {
      "text/plain": [
       "4.0"
      ]
     },
     "execution_count": 26,
     "metadata": {},
     "output_type": "execute_result"
    }
   ],
   "source": [
    "0.04*100"
   ]
  },
  {
   "cell_type": "code",
   "execution_count": 44,
   "metadata": {},
   "outputs": [],
   "source": [
    "df[\"percent vaccinated\"] = df[\"percent vaccinated\"] * 100"
   ]
  },
  {
   "cell_type": "code",
   "execution_count": 45,
   "metadata": {},
   "outputs": [],
   "source": [
    "df[\"percent fully vaccinated\"] = df[\"percent fully vaccinated\"] *100"
   ]
  },
  {
   "cell_type": "code",
   "execution_count": 46,
   "metadata": {},
   "outputs": [
    {
     "data": {
      "text/html": [
       "<div>\n",
       "<style scoped>\n",
       "    .dataframe tbody tr th:only-of-type {\n",
       "        vertical-align: middle;\n",
       "    }\n",
       "\n",
       "    .dataframe tbody tr th {\n",
       "        vertical-align: top;\n",
       "    }\n",
       "\n",
       "    .dataframe thead th {\n",
       "        text-align: right;\n",
       "    }\n",
       "</style>\n",
       "<table border=\"1\" class=\"dataframe\">\n",
       "  <thead>\n",
       "    <tr style=\"text-align: right;\">\n",
       "      <th></th>\n",
       "      <th>country</th>\n",
       "      <th>continent</th>\n",
       "      <th>doses given</th>\n",
       "      <th>doses given per 100</th>\n",
       "      <th>percent vaccinated</th>\n",
       "      <th>percent fully vaccinated</th>\n",
       "    </tr>\n",
       "  </thead>\n",
       "  <tbody>\n",
       "    <tr>\n",
       "      <th>0</th>\n",
       "      <td>united states</td>\n",
       "      <td>north america</td>\n",
       "      <td>124481412</td>\n",
       "      <td>38.0</td>\n",
       "      <td>25.0</td>\n",
       "      <td>13.0</td>\n",
       "    </tr>\n",
       "    <tr>\n",
       "      <th>1</th>\n",
       "      <td>mainland china</td>\n",
       "      <td>asia</td>\n",
       "      <td>74956000</td>\n",
       "      <td>NaN</td>\n",
       "      <td>NaN</td>\n",
       "      <td>NaN</td>\n",
       "    </tr>\n",
       "    <tr>\n",
       "      <th>2</th>\n",
       "      <td>india</td>\n",
       "      <td>asia</td>\n",
       "      <td>45065998</td>\n",
       "      <td>3.3</td>\n",
       "      <td>2.8</td>\n",
       "      <td>0.6</td>\n",
       "    </tr>\n",
       "    <tr>\n",
       "      <th>3</th>\n",
       "      <td>united kingdom</td>\n",
       "      <td>europe</td>\n",
       "      <td>29859742</td>\n",
       "      <td>45.0</td>\n",
       "      <td>42.0</td>\n",
       "      <td>3.4</td>\n",
       "    </tr>\n",
       "    <tr>\n",
       "      <th>4</th>\n",
       "      <td>brazil</td>\n",
       "      <td>south america</td>\n",
       "      <td>13562176</td>\n",
       "      <td>6.5</td>\n",
       "      <td>4.9</td>\n",
       "      <td>1.6</td>\n",
       "    </tr>\n",
       "    <tr>\n",
       "      <th>5</th>\n",
       "      <td>israel</td>\n",
       "      <td>asia</td>\n",
       "      <td>9739025</td>\n",
       "      <td>110.0</td>\n",
       "      <td>58.0</td>\n",
       "      <td>51.0</td>\n",
       "    </tr>\n",
       "    <tr>\n",
       "      <th>6</th>\n",
       "      <td>chile</td>\n",
       "      <td>south america</td>\n",
       "      <td>8470866</td>\n",
       "      <td>45.0</td>\n",
       "      <td>30.0</td>\n",
       "      <td>15.0</td>\n",
       "    </tr>\n",
       "    <tr>\n",
       "      <th>7</th>\n",
       "      <td>mexico</td>\n",
       "      <td>north america</td>\n",
       "      <td>5612291</td>\n",
       "      <td>4.4</td>\n",
       "      <td>3.9</td>\n",
       "      <td>0.6</td>\n",
       "    </tr>\n",
       "    <tr>\n",
       "      <th>8</th>\n",
       "      <td>bangladesh</td>\n",
       "      <td>asia</td>\n",
       "      <td>4760747</td>\n",
       "      <td>3.0</td>\n",
       "      <td>3.0</td>\n",
       "      <td>NaN</td>\n",
       "    </tr>\n",
       "    <tr>\n",
       "      <th>9</th>\n",
       "      <td>canada</td>\n",
       "      <td>north america</td>\n",
       "      <td>3954285</td>\n",
       "      <td>11.0</td>\n",
       "      <td>9.0</td>\n",
       "      <td>1.7</td>\n",
       "    </tr>\n",
       "    <tr>\n",
       "      <th>10</th>\n",
       "      <td>argentina</td>\n",
       "      <td>south america</td>\n",
       "      <td>3119828</td>\n",
       "      <td>7.0</td>\n",
       "      <td>5.7</td>\n",
       "      <td>1.4</td>\n",
       "    </tr>\n",
       "    <tr>\n",
       "      <th>11</th>\n",
       "      <td>colombia</td>\n",
       "      <td>south america</td>\n",
       "      <td>1182098</td>\n",
       "      <td>2.4</td>\n",
       "      <td>2.3</td>\n",
       "      <td>0.1</td>\n",
       "    </tr>\n",
       "    <tr>\n",
       "      <th>12</th>\n",
       "      <td>switzerland</td>\n",
       "      <td>europe</td>\n",
       "      <td>1176875</td>\n",
       "      <td>14.0</td>\n",
       "      <td>8.7</td>\n",
       "      <td>5.1</td>\n",
       "    </tr>\n",
       "    <tr>\n",
       "      <th>13</th>\n",
       "      <td>dominican republic</td>\n",
       "      <td>north america</td>\n",
       "      <td>675000</td>\n",
       "      <td>5.8</td>\n",
       "      <td>6.4</td>\n",
       "      <td>NaN</td>\n",
       "    </tr>\n",
       "    <tr>\n",
       "      <th>14</th>\n",
       "      <td>peru</td>\n",
       "      <td>south america</td>\n",
       "      <td>623800</td>\n",
       "      <td>2.0</td>\n",
       "      <td>1.4</td>\n",
       "      <td>0.6</td>\n",
       "    </tr>\n",
       "    <tr>\n",
       "      <th>15</th>\n",
       "      <td>ghana</td>\n",
       "      <td>africa</td>\n",
       "      <td>420000</td>\n",
       "      <td>1.4</td>\n",
       "      <td>1.4</td>\n",
       "      <td>NaN</td>\n",
       "    </tr>\n",
       "    <tr>\n",
       "      <th>16</th>\n",
       "      <td>bulgaria</td>\n",
       "      <td>europe</td>\n",
       "      <td>368905</td>\n",
       "      <td>5.3</td>\n",
       "      <td>4.2</td>\n",
       "      <td>1.0</td>\n",
       "    </tr>\n",
       "    <tr>\n",
       "      <th>17</th>\n",
       "      <td>costa rica</td>\n",
       "      <td>south america</td>\n",
       "      <td>248082</td>\n",
       "      <td>5.0</td>\n",
       "      <td>3.8</td>\n",
       "      <td>1.2</td>\n",
       "    </tr>\n",
       "    <tr>\n",
       "      <th>18</th>\n",
       "      <td>south africa</td>\n",
       "      <td>africa</td>\n",
       "      <td>182983</td>\n",
       "      <td>0.3</td>\n",
       "      <td>0.3</td>\n",
       "      <td>NaN</td>\n",
       "    </tr>\n",
       "    <tr>\n",
       "      <th>19</th>\n",
       "      <td>jamaica</td>\n",
       "      <td>NaN</td>\n",
       "      <td>16096</td>\n",
       "      <td>0.5</td>\n",
       "      <td>0.5</td>\n",
       "      <td>NaN</td>\n",
       "    </tr>\n",
       "    <tr>\n",
       "      <th>20</th>\n",
       "      <td>guyana</td>\n",
       "      <td>south america</td>\n",
       "      <td>15524</td>\n",
       "      <td>2.0</td>\n",
       "      <td>2.0</td>\n",
       "      <td>NaN</td>\n",
       "    </tr>\n",
       "    <tr>\n",
       "      <th>21</th>\n",
       "      <td>nigeria</td>\n",
       "      <td>africa</td>\n",
       "      <td>8000</td>\n",
       "      <td>0.1</td>\n",
       "      <td>0.1</td>\n",
       "      <td>NaN</td>\n",
       "    </tr>\n",
       "    <tr>\n",
       "      <th>22</th>\n",
       "      <td>trinidad and tobago</td>\n",
       "      <td>south america</td>\n",
       "      <td>991</td>\n",
       "      <td>0.1</td>\n",
       "      <td>0.1</td>\n",
       "      <td>NaN</td>\n",
       "    </tr>\n",
       "  </tbody>\n",
       "</table>\n",
       "</div>"
      ],
      "text/plain": [
       "                country      continent  doses given  doses given per 100  \\\n",
       "0         united states  north america    124481412                 38.0   \n",
       "1        mainland china           asia     74956000                  NaN   \n",
       "2                 india           asia     45065998                  3.3   \n",
       "3        united kingdom         europe     29859742                 45.0   \n",
       "4                brazil  south america     13562176                  6.5   \n",
       "5                israel           asia      9739025                110.0   \n",
       "6                 chile  south america      8470866                 45.0   \n",
       "7                mexico  north america      5612291                  4.4   \n",
       "8            bangladesh           asia      4760747                  3.0   \n",
       "9                canada  north america      3954285                 11.0   \n",
       "10            argentina  south america      3119828                  7.0   \n",
       "11             colombia  south america      1182098                  2.4   \n",
       "12          switzerland         europe      1176875                 14.0   \n",
       "13   dominican republic  north america       675000                  5.8   \n",
       "14                 peru  south america       623800                  2.0   \n",
       "15                ghana         africa       420000                  1.4   \n",
       "16             bulgaria         europe       368905                  5.3   \n",
       "17           costa rica  south america       248082                  5.0   \n",
       "18         south africa         africa       182983                  0.3   \n",
       "19              jamaica            NaN        16096                  0.5   \n",
       "20               guyana  south america        15524                  2.0   \n",
       "21              nigeria         africa         8000                  0.1   \n",
       "22  trinidad and tobago  south america          991                  0.1   \n",
       "\n",
       "    percent vaccinated  percent fully vaccinated  \n",
       "0                 25.0                      13.0  \n",
       "1                  NaN                       NaN  \n",
       "2                  2.8                       0.6  \n",
       "3                 42.0                       3.4  \n",
       "4                  4.9                       1.6  \n",
       "5                 58.0                      51.0  \n",
       "6                 30.0                      15.0  \n",
       "7                  3.9                       0.6  \n",
       "8                  3.0                       NaN  \n",
       "9                  9.0                       1.7  \n",
       "10                 5.7                       1.4  \n",
       "11                 2.3                       0.1  \n",
       "12                 8.7                       5.1  \n",
       "13                 6.4                       NaN  \n",
       "14                 1.4                       0.6  \n",
       "15                 1.4                       NaN  \n",
       "16                 4.2                       1.0  \n",
       "17                 3.8                       1.2  \n",
       "18                 0.3                       NaN  \n",
       "19                 0.5                       NaN  \n",
       "20                 2.0                       NaN  \n",
       "21                 0.1                       NaN  \n",
       "22                 0.1                       NaN  "
      ]
     },
     "execution_count": 46,
     "metadata": {},
     "output_type": "execute_result"
    }
   ],
   "source": [
    "df"
   ]
  },
  {
   "cell_type": "markdown",
   "metadata": {},
   "source": [
    "**4. Even though it isn't very accurate (we're missing too many countries), what is the average number of doses given per continent?**"
   ]
  },
  {
   "cell_type": "code",
   "execution_count": 47,
   "metadata": {},
   "outputs": [
    {
     "data": {
      "text/plain": [
       "continent\n",
       "africa           2.036610e+05\n",
       "asia             3.363044e+07\n",
       "europe           1.046851e+07\n",
       "north america    3.368075e+07\n",
       "south america    3.402921e+06\n",
       "Name: doses given, dtype: float64"
      ]
     },
     "execution_count": 47,
     "metadata": {},
     "output_type": "execute_result"
    }
   ],
   "source": [
    "df.groupby(\"continent\")[\"doses given\"].mean()"
   ]
  },
  {
   "cell_type": "markdown",
   "metadata": {},
   "source": [
    "**5. Slice the dataframe so we can have a copy of our dataframe that contains the following information.**\n",
    "* columns - `'country'`,`'doses given'`, and `'percent fully vaccinated'`\n",
    "* rows - all rows with more than 500,000 doses given."
   ]
  },
  {
   "cell_type": "code",
   "execution_count": 52,
   "metadata": {},
   "outputs": [],
   "source": [
    "new_df = df[new_df[\"doses given\"]> 500000][[\"country\", \"doses given\", \"percent fully vaccinated\"]]"
   ]
  },
  {
   "cell_type": "code",
   "execution_count": 53,
   "metadata": {},
   "outputs": [
    {
     "data": {
      "text/html": [
       "<div>\n",
       "<style scoped>\n",
       "    .dataframe tbody tr th:only-of-type {\n",
       "        vertical-align: middle;\n",
       "    }\n",
       "\n",
       "    .dataframe tbody tr th {\n",
       "        vertical-align: top;\n",
       "    }\n",
       "\n",
       "    .dataframe thead th {\n",
       "        text-align: right;\n",
       "    }\n",
       "</style>\n",
       "<table border=\"1\" class=\"dataframe\">\n",
       "  <thead>\n",
       "    <tr style=\"text-align: right;\">\n",
       "      <th></th>\n",
       "      <th>country</th>\n",
       "      <th>doses given</th>\n",
       "      <th>percent fully vaccinated</th>\n",
       "    </tr>\n",
       "  </thead>\n",
       "  <tbody>\n",
       "    <tr>\n",
       "      <th>0</th>\n",
       "      <td>united states</td>\n",
       "      <td>124481412</td>\n",
       "      <td>13.0</td>\n",
       "    </tr>\n",
       "    <tr>\n",
       "      <th>1</th>\n",
       "      <td>mainland china</td>\n",
       "      <td>74956000</td>\n",
       "      <td>NaN</td>\n",
       "    </tr>\n",
       "    <tr>\n",
       "      <th>2</th>\n",
       "      <td>india</td>\n",
       "      <td>45065998</td>\n",
       "      <td>0.6</td>\n",
       "    </tr>\n",
       "    <tr>\n",
       "      <th>3</th>\n",
       "      <td>united kingdom</td>\n",
       "      <td>29859742</td>\n",
       "      <td>3.4</td>\n",
       "    </tr>\n",
       "    <tr>\n",
       "      <th>4</th>\n",
       "      <td>brazil</td>\n",
       "      <td>13562176</td>\n",
       "      <td>1.6</td>\n",
       "    </tr>\n",
       "    <tr>\n",
       "      <th>5</th>\n",
       "      <td>israel</td>\n",
       "      <td>9739025</td>\n",
       "      <td>51.0</td>\n",
       "    </tr>\n",
       "    <tr>\n",
       "      <th>6</th>\n",
       "      <td>chile</td>\n",
       "      <td>8470866</td>\n",
       "      <td>15.0</td>\n",
       "    </tr>\n",
       "    <tr>\n",
       "      <th>7</th>\n",
       "      <td>mexico</td>\n",
       "      <td>5612291</td>\n",
       "      <td>0.6</td>\n",
       "    </tr>\n",
       "    <tr>\n",
       "      <th>8</th>\n",
       "      <td>bangladesh</td>\n",
       "      <td>4760747</td>\n",
       "      <td>NaN</td>\n",
       "    </tr>\n",
       "    <tr>\n",
       "      <th>9</th>\n",
       "      <td>canada</td>\n",
       "      <td>3954285</td>\n",
       "      <td>1.7</td>\n",
       "    </tr>\n",
       "    <tr>\n",
       "      <th>10</th>\n",
       "      <td>argentina</td>\n",
       "      <td>3119828</td>\n",
       "      <td>1.4</td>\n",
       "    </tr>\n",
       "    <tr>\n",
       "      <th>11</th>\n",
       "      <td>colombia</td>\n",
       "      <td>1182098</td>\n",
       "      <td>0.1</td>\n",
       "    </tr>\n",
       "    <tr>\n",
       "      <th>12</th>\n",
       "      <td>switzerland</td>\n",
       "      <td>1176875</td>\n",
       "      <td>5.1</td>\n",
       "    </tr>\n",
       "    <tr>\n",
       "      <th>13</th>\n",
       "      <td>dominican republic</td>\n",
       "      <td>675000</td>\n",
       "      <td>NaN</td>\n",
       "    </tr>\n",
       "    <tr>\n",
       "      <th>14</th>\n",
       "      <td>peru</td>\n",
       "      <td>623800</td>\n",
       "      <td>0.6</td>\n",
       "    </tr>\n",
       "  </tbody>\n",
       "</table>\n",
       "</div>"
      ],
      "text/plain": [
       "               country  doses given  percent fully vaccinated\n",
       "0        united states    124481412                      13.0\n",
       "1       mainland china     74956000                       NaN\n",
       "2                india     45065998                       0.6\n",
       "3       united kingdom     29859742                       3.4\n",
       "4               brazil     13562176                       1.6\n",
       "5               israel      9739025                      51.0\n",
       "6                chile      8470866                      15.0\n",
       "7               mexico      5612291                       0.6\n",
       "8           bangladesh      4760747                       NaN\n",
       "9               canada      3954285                       1.7\n",
       "10           argentina      3119828                       1.4\n",
       "11            colombia      1182098                       0.1\n",
       "12         switzerland      1176875                       5.1\n",
       "13  dominican republic       675000                       NaN\n",
       "14                peru       623800                       0.6"
      ]
     },
     "execution_count": 53,
     "metadata": {},
     "output_type": "execute_result"
    }
   ],
   "source": [
    "new_df"
   ]
  },
  {
   "cell_type": "markdown",
   "metadata": {},
   "source": [
    "# SQL \n",
    "\n",
    "Our company has a number of positions on our books. We want to add some positions to it. Add the following  information (making sure to use new cells so your work can be saved as you won't submit the db file). Keep in mind that direction means if we've bought or sold the stock (`0` means we sold it short, `1` means we bought it).\n",
    "\n",
    "Add the following:\n",
    "\n",
    "```\n",
    "We bought 200 shares of GME at $50.\n",
    "We sold 500 shares of AMD at $75.\n",
    "We bought 1 share of BRK at $380000.00.\n",
    "```"
   ]
  },
  {
   "cell_type": "code",
   "execution_count": 5,
   "metadata": {},
   "outputs": [],
   "source": [
    "# run this cell to set up your sqlite3 db.\n",
    "import sqlite3\n",
    "\n",
    "sql_commands = \\\n",
    "\"\"\"\n",
    "DROP TABLE IF EXISTS stocks;\n",
    "\n",
    "CREATE TABLE stocks (\n",
    " id INTEGER PRIMARY KEY,\n",
    " ticker TEXT NOT NULL,\n",
    " position TEXT NOT NULL,\n",
    " price FLOAT NOT NULL,\n",
    " direction BOOLEAN NOT NULL\n",
    ");\n",
    "\n",
    "INSERT INTO stocks \n",
    "(ticker, position, price, direction)\n",
    "VALUES \n",
    "('TSLA', 100, 700.00, 0),\n",
    "('VIX', 19,  292.00, 1),\n",
    "('SPY', 167, 395.00, 0);\n",
    "\"\"\"\n",
    "\n",
    "db = sqlite3.connect('stocks.db')\n",
    "cursor = db.cursor()\n",
    "cursor.executescript(sql_commands)\n",
    "db.commit()\n",
    "db.close()"
   ]
  },
  {
   "cell_type": "code",
   "execution_count": 6,
   "metadata": {},
   "outputs": [],
   "source": [
    "# use this function for your answers.\n",
    "def with_conn(statement):\n",
    "    conn = sqlite3.connect('stocks.db')\n",
    "    with conn:\n",
    "        cur = conn.cursor()\n",
    "        cur.execute(statement)\n",
    "        result = cur.fetchall()\n",
    "        return result "
   ]
  },
  {
   "cell_type": "code",
   "execution_count": 7,
   "metadata": {},
   "outputs": [
    {
     "data": {
      "text/plain": [
       "[(1, 'TSLA', '100', 700.0, 0),\n",
       " (2, 'VIX', '19', 292.0, 1),\n",
       " (3, 'SPY', '167', 395.0, 0)]"
      ]
     },
     "execution_count": 7,
     "metadata": {},
     "output_type": "execute_result"
    }
   ],
   "source": [
    "with_conn('SELECT * FROM stocks;')"
   ]
  },
  {
   "cell_type": "markdown",
   "metadata": {},
   "source": [
    "(`0` means we sold it short, `1` means we bought it).\n",
    "\n",
    "Add the following:\n",
    "\n",
    "```\n",
    "ticker, position, price, direction\n",
    "\n",
    "We bought 200 shares of GME at $50.\n",
    "We sold 500 shares of AMD at $75.\n",
    "We bought 1 share of BRK at $380000.00.\n",
    "```"
   ]
  },
  {
   "cell_type": "code",
   "execution_count": 54,
   "metadata": {},
   "outputs": [
    {
     "data": {
      "text/plain": [
       "\"('GME', '100', 50.0, 1), ('AMD', '500', 75.0, 0), ('SPY', '1', 380000.0, 1)\""
      ]
     },
     "execution_count": 54,
     "metadata": {},
     "output_type": "execute_result"
    }
   ],
   "source": [
    "new_rows =', '.join(map(str,[('GME', '100', 50.0, 1), ('AMD', '500', 75.0, 0), ('SPY', '1', 380000.0, 1)]))\n",
    "new_rows"
   ]
  },
  {
   "cell_type": "code",
   "execution_count": 56,
   "metadata": {},
   "outputs": [
    {
     "data": {
      "text/plain": [
       "[]"
      ]
     },
     "execution_count": 56,
     "metadata": {},
     "output_type": "execute_result"
    }
   ],
   "source": [
    "with_conn(\"INSERT INTO stocks(ticker, position, price, direction) VALUES {}\".format(new_rows))"
   ]
  },
  {
   "cell_type": "code",
   "execution_count": null,
   "metadata": {},
   "outputs": [],
   "source": [
    "#we could of passed the three values"
   ]
  },
  {
   "cell_type": "code",
   "execution_count": 57,
   "metadata": {},
   "outputs": [
    {
     "data": {
      "text/plain": [
       "[(1, 'TSLA', '100', 700.0, 0),\n",
       " (2, 'VIX', '19', 292.0, 1),\n",
       " (3, 'SPY', '167', 395.0, 0),\n",
       " (4, 'GME', '100', 50.0, 1),\n",
       " (5, 'AMD', '500', 75.0, 0),\n",
       " (6, 'SPY', '1', 380000.0, 1)]"
      ]
     },
     "execution_count": 57,
     "metadata": {},
     "output_type": "execute_result"
    }
   ],
   "source": [
    "with_conn('SELECT * FROM stocks;')"
   ]
  },
  {
   "cell_type": "markdown",
   "metadata": {},
   "source": [
    "# Matplotlib \n",
    "**This section is worth 5%**\n",
    "\n",
    "Using the following dataset, create a chart of the data using the right chart to convey the information. Make sure your chart is professional looking, utilizing axis labeling and a proper title. "
   ]
  },
  {
   "cell_type": "code",
   "execution_count": 58,
   "metadata": {},
   "outputs": [
    {
     "data": {
      "text/html": [
       "<div>\n",
       "<style scoped>\n",
       "    .dataframe tbody tr th:only-of-type {\n",
       "        vertical-align: middle;\n",
       "    }\n",
       "\n",
       "    .dataframe tbody tr th {\n",
       "        vertical-align: top;\n",
       "    }\n",
       "\n",
       "    .dataframe thead th {\n",
       "        text-align: right;\n",
       "    }\n",
       "</style>\n",
       "<table border=\"1\" class=\"dataframe\">\n",
       "  <thead>\n",
       "    <tr style=\"text-align: right;\">\n",
       "      <th></th>\n",
       "      <th>name</th>\n",
       "      <th>position</th>\n",
       "      <th>salary</th>\n",
       "      <th>years worked at company</th>\n",
       "      <th>percent of project</th>\n",
       "    </tr>\n",
       "  </thead>\n",
       "  <tbody>\n",
       "    <tr>\n",
       "      <th>0</th>\n",
       "      <td>alice</td>\n",
       "      <td>software engineer</td>\n",
       "      <td>120000</td>\n",
       "      <td>2.00</td>\n",
       "      <td>20</td>\n",
       "    </tr>\n",
       "    <tr>\n",
       "      <th>1</th>\n",
       "      <td>bob</td>\n",
       "      <td>data engineer</td>\n",
       "      <td>105000</td>\n",
       "      <td>1.75</td>\n",
       "      <td>15</td>\n",
       "    </tr>\n",
       "    <tr>\n",
       "      <th>2</th>\n",
       "      <td>carol</td>\n",
       "      <td>machine learning engineer</td>\n",
       "      <td>180000</td>\n",
       "      <td>3.00</td>\n",
       "      <td>20</td>\n",
       "    </tr>\n",
       "    <tr>\n",
       "      <th>3</th>\n",
       "      <td>davin</td>\n",
       "      <td>data scientist</td>\n",
       "      <td>120000</td>\n",
       "      <td>2.00</td>\n",
       "      <td>15</td>\n",
       "    </tr>\n",
       "    <tr>\n",
       "      <th>4</th>\n",
       "      <td>eric</td>\n",
       "      <td>assistant</td>\n",
       "      <td>60000</td>\n",
       "      <td>1.00</td>\n",
       "      <td>30</td>\n",
       "    </tr>\n",
       "  </tbody>\n",
       "</table>\n",
       "</div>"
      ],
      "text/plain": [
       "    name                   position  salary  years worked at company  \\\n",
       "0  alice          software engineer  120000                     2.00   \n",
       "1    bob              data engineer  105000                     1.75   \n",
       "2  carol  machine learning engineer  180000                     3.00   \n",
       "3  davin             data scientist  120000                     2.00   \n",
       "4   eric                  assistant   60000                     1.00   \n",
       "\n",
       "   percent of project  \n",
       "0                  20  \n",
       "1                  15  \n",
       "2                  20  \n",
       "3                  15  \n",
       "4                  30  "
      ]
     },
     "execution_count": 58,
     "metadata": {},
     "output_type": "execute_result"
    }
   ],
   "source": [
    "df = pd.DataFrame([['alice',\"software engineer\",120000, 2, 20],['bob',\"data engineer\", 105000, 1.75, 15], ['carol',\"machine learning engineer\", 180000, 3, 20], ['davin',\"data scientist\", 120000, 2, 15], ['eric',\"assistant\",60000, 1 ,30]], columns=['name', 'position', 'salary','years worked at company', 'percent of project'])\n",
    "df.head()"
   ]
  },
  {
   "cell_type": "code",
   "execution_count": 171,
   "metadata": {},
   "outputs": [],
   "source": [
    "names = df[\"name\"]\n",
    "position = df[\"position\"]\n",
    "salary = df[\"salary\"]\n",
    "experience = df[\"years worked at company\"]"
   ]
  },
  {
   "cell_type": "code",
   "execution_count": 185,
   "metadata": {},
   "outputs": [
    {
     "data": {
      "text/plain": [
       "[Text(0, 0.5, 'years of experience'),\n",
       " Text(0.5, 0, 'employee'),\n",
       " Text(0.5, 1.0, 'Years of Experience of each Employee')]"
      ]
     },
     "execution_count": 185,
     "metadata": {},
     "output_type": "execute_result"
    },
    {
     "data": {
      "image/png": "[encoded data removed]",
      "text/plain": [
       "<Figure size 1080x360 with 2 Axes>"
      ]
     },
     "metadata": {
      "needs_background": "light"
     },
     "output_type": "display_data"
    }
   ],
   "source": [
    "fig, (ax1, ax2) = plt.subplots(1,2, figsize= (15,5))\n",
    "ax1.bar(names, experience)\n",
    "\n",
    "ax2.barh(position, salary)\n",
    "ax2.set(xlabel=\"position\", ylabel=\"salary\", title=\"Salary based on Position\")\n",
    "ax1.set(xlabel=\"employee\", ylabel=\"years of experience\", title=\"Years of Experience of each Employee\")"
   ]
  },
  {
   "cell_type": "code",
   "execution_count": null,
   "metadata": {},
   "outputs": [],
   "source": []
  }
 ],
 "metadata": {
  "kernelspec": {
   "display_name": "Python 3",
   "language": "python",
   "name": "python3"
  },
  "language_info": {
   "codemirror_mode": {
    "name": "ipython",
    "version": 3
   },
   "file_extension": ".py",
   "mimetype": "text/x-python",
   "name": "python",
   "nbconvert_exporter": "python",
   "pygments_lexer": "ipython3",
   "version": "3.8.3"
  }
 },
 "nbformat": 4,
 "nbformat_minor": 5
}
