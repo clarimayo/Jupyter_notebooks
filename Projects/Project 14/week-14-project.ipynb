{
 "cells": [
  {
   "cell_type": "markdown",
   "metadata": {},
   "source": [
    "<div style=\"background: #000;\n",
    "            color: #FFF;\n",
    "            margin: 0px;\n",
    "            padding: 10px 0px 20px 0px;\n",
    "            text-align: center; \n",
    "                \">\n",
    "    <h1>Week 14 Project</h1>\n",
    "</div>"
   ]
  },
  {
   "cell_type": "markdown",
   "metadata": {},
   "source": [
    "# Preparing for our phase:\n",
    "\n",
    "So a summary of the data science process can be described as follows:\n",
    "1.  Setting the research goal\n",
    "2.  Gathering data\n",
    "3.  Data preparation\n",
    "4.  Data exploration\n",
    "5.  Modeling\n",
    "6.  Presentation and automation\n",
    "\n",
    "For your projects this phase, you will be going through this process from the first step until the last. In the next few weeks we will be working on preparing and exploring data so we can set it up for modeling. In order to do that we need to figure out the first two steps of the list above.\n",
    "\n",
    "For this project you need to do two things:\n",
    "1. Set a research goal.\n",
    "2. Gather data."
   ]
  },
  {
   "cell_type": "markdown",
   "metadata": {},
   "source": [
    "### Setting a research goal\n",
    "\n",
    ">  The main purpose here ismaking sure all the stakeholders understand the what, how, and why of the proj-ect. In every serious project this will result in a project charter.\n",
    "\n",
    "Read more in Chapter 1, Section 2.2 of [\"Introducing Data Science\"](https://www.programmer-books.com/wp-content/uploads/2018/07/Introducing-Data-Science-Big-Data-Machine-Learning-and-more-using-Python-tools-2016.pdf)"
   ]
  },
  {
   "cell_type": "markdown",
   "metadata": {},
   "source": [
    "### Gather data\n",
    "\n",
    "> You want to have data available for analysis, so this step includes finding suitable data and getting access to the data from the data owner. The result is data in its raw form, which probably needs polishing and transformation before it becomes usable.\n",
    "\n",
    "Read more in Chapter 1, Section 2.3 of [\"Introducing Data Science\"](https://www.programmer-books.com/wp-content/uploads/2018/07/Introducing-Data-Science-Big-Data-Machine-Learning-and-more-using-Python-tools-2016.pdf)"
   ]
  },
  {
   "cell_type": "markdown",
   "metadata": {},
   "source": [
    "### __Deliverables: (Due Wednesday January 20th)__\n",
    "* #### __A proposal of a research goal.__\n",
    "* #### __A proposal of data you'd like to analyze this phase.__ (this can be obtained or soon to be obtained but you need to provide the source)"
   ]
  },
  {
   "cell_type": "markdown",
   "metadata": {},
   "source": [
    "## Research Goal: a good understading of the context, well-defined deliverables and a plan of action with a timetable.\n",
    "### What: \n",
    "I want to study the impact USA epidemics have had on people living in this country: https://www.healthline.com/health/worst-disease-outbreaks-history \n",
    "I want to compare the number of people that were affected (based on the population of that time) and perhaps try to find a trend as to why they were affected. I will like to focus on the ones I find the most information on and narrow it down to the top 3 to focus on. \n",
    "\n",
    "I found this dataset that looks at the health indicators: https://data.world/hdx/0403b8f6-6fb6-475b-b910-e5b55adb1f8b/workspace/file?filename=health-indicators-for-united-states-of-america-2.csv\n",
    "\n",
    "I think once I clean it I might be able to find which one has the highest cases reported. \n",
    "\n",
    "### Why:\n",
    "I am very interested on the community and will like to learn more about what has affected and is affecting USA at this moment. By having a better knowledge at previous pandemics then I might be able to cathegorize the impacts the most recent pandemic (Covid-19) have.\n",
    "\n",
    "### How:\n",
    "I want to use at least 2 datasets from https://data.world/datasets/disease and https://data.cdc.gov/ and convine the data to have a better senses of how many cases of each pandemic were reported and when. I want to compare the number of people that were affected (based on the population of that time) and perhaps try to find a trend as to why they were affected."
   ]
  },
  {
   "cell_type": "code",
   "execution_count": null,
   "metadata": {},
   "outputs": [],
   "source": []
  }
 ],
 "metadata": {
  "kernelspec": {
   "display_name": "Python 3",
   "language": "python",
   "name": "python3"
  },
  "language_info": {
   "codemirror_mode": {
    "name": "ipython",
    "version": 3
   },
   "file_extension": ".py",
   "mimetype": "text/x-python",
   "name": "python",
   "nbconvert_exporter": "python",
   "pygments_lexer": "ipython3",
   "version": "3.8.3"
  }
 },
 "nbformat": 4,
 "nbformat_minor": 4
}
