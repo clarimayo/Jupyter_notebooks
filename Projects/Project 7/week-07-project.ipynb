{
 "cells": [
  {
   "cell_type": "markdown",
   "metadata": {},
   "source": [
    "# Week 6 + 7 Project\n",
    "\n",
    "#### See Week 6 project for more information."
   ]
  },
  {
   "cell_type": "markdown",
   "metadata": {},
   "source": [
    "Take your class from Week 6 project and create a command line script that runs your rock-paper-scissor game.\n",
    "\n",
    "Fix the following code and put it into your script."
   ]
  },
  {
   "cell_type": "code",
   "execution_count": null,
   "metadata": {},
   "outputs": [
    {
     "name": "stdout",
     "output_type": "stream",
     "text": [
      "Welcome to Rock, Paper, Scissors Game!\n",
      "running RPS:\n",
      "Please select Rock (R), Paper (P), or Scissors (S).R\n",
      "Computer's choice is: (2, 'scissor')\n",
      "your choice is: (0, 'rock')'\n",
      "User wins.\n",
      "There is 2 round(s) left.\n",
      "\n",
      "\n",
      "Please select Rock (R), Paper (P), or Scissors (S).P\n",
      "Computer's choice is: (2, 'scissor')\n",
      "your choice is: (1, 'paper')'\n",
      "Computer wins.\n",
      "There is 1 round(s) left.\n",
      "\n",
      "\n"
     ]
    }
   ],
   "source": [
    "import random\n",
    "class RockPaperScissor:\n",
    "    def __init__(self, rounds=3):\n",
    "        self.rounds = rounds\n",
    "        \n",
    "    @staticmethod\n",
    "    def welcome_message():\n",
    "        print(\"Welcome to Rock, Paper, Scissors Game!\")\n",
    "        \n",
    "    def computers_turn(self):\n",
    "        choices = {\n",
    "            0: 'rock',\n",
    "            1: 'paper',\n",
    "            2: 'scissor'\n",
    "        }\n",
    "        turn = random.randint(0,2)\n",
    "        return (turn, choices[turn])\n",
    "    \n",
    "    def your_turn(self, choice):\n",
    "        if choice not in ['R', 'P', 'S']:\n",
    "            raise ValueError(\"Choice must be one of ['R', 'P', 'S']\")\n",
    "\n",
    "        choices = {\n",
    "            'R': (0, 'rock'),\n",
    "            'P': (1, 'paper'),\n",
    "            'S': (2, 'scissors'),\n",
    "        }    \n",
    "        return choices[choice] \n",
    "\n",
    "    def compare_turns(self,user_choice, computer_choice):\n",
    "        game_results = {\n",
    "            0: 'Draw.',\n",
    "            1: 'User wins.',\n",
    "            2: 'Computer wins.'\n",
    "        }\n",
    "        key = (user_choice[0] - computer_choice[0]) % 3\n",
    "        return game_results[key]\n",
    "                \n",
    "    def won_round(self):\n",
    "        user_input = input(\"Please select Rock (R), Paper (P), or Scissors (S).\")\n",
    "        computer_choice = self.computers_turn()\n",
    "        print(f\"Computer's choice is: {computer_choice}\")\n",
    "        user_choice = self.your_turn(user_input)\n",
    "        print(f\"your choice is: {user_choice}'\")\n",
    "        return self.compare_turns(user_choice, computer_choice)\n",
    "        \n",
    "    def run(self):\n",
    "        RockPaperScissor.welcome_message()\n",
    "        print('running RPS:')\n",
    "        count = int(self.rounds)\n",
    "        while count > 0:\n",
    "            win = self.won_round()\n",
    "            print(win)\n",
    "            count -=1\n",
    "            print(f\"There is {count} round(s) left.\")\n",
    "            print(\"\\n\")\n",
    "    \n",
    "if __name__ == '__main__':\n",
    "    rps = RockPaperScissor()\n",
    "    rps.run()"
   ]
  },
  {
   "cell_type": "code",
   "execution_count": null,
   "metadata": {},
   "outputs": [],
   "source": [
    "import random\n",
    "class RockPaperScissor:\n",
    "    def __init__(self, rounds=3):\n",
    "        self.rounds = rounds\n",
    "        \n",
    "    @staticmethod\n",
    "    def welcome_message():\n",
    "        print(\"Welcome to Rock, Paper, Scissors Game!\")\n",
    "        \n",
    "    def computers_turn(self):\n",
    "        choices = {\n",
    "            0: 'rock',\n",
    "            1: 'paper',\n",
    "            2: 'scissor'\n",
    "        }\n",
    "        turn = random.randint(0,2)\n",
    "        return (turn, choices[turn])\n",
    "    \n",
    "    def your_turn(self, choice):\n",
    "        if choice not in ['R', 'P', 'S']:\n",
    "            raise ValueError(\"Choice must be one of ['R', 'P', 'S']\")\n",
    "\n",
    "        choices = {\n",
    "            'R': (0, 'rock'),\n",
    "            'P': (1, 'paper'),\n",
    "            'S': (2, 'scissors'),\n",
    "        }    \n",
    "        return choices[choice] \n",
    "\n",
    "    def compare_turns(self,user_choice, computer_choice):\n",
    "        game_results = {\n",
    "            0: 'Draw.',\n",
    "            1: 'User wins.',\n",
    "            2: 'Computer wins.'\n",
    "        }\n",
    "        key = (user_choice[0] - computer_choice[0]) % 3\n",
    "        return game_results[key]\n",
    "                \n",
    "    def won_round(self):\n",
    "        user_input = input(\"Please select Rock (R), Paper (P), or Scissors (S).\")\n",
    "        computer_choice = self.computers_turn()\n",
    "        print(f\"Computer's choice is: {computer_choice}\")\n",
    "        user_choice = self.your_turn(user_input)\n",
    "        print(f\"your choice is: {user_choice}'\")\n",
    "        return self.compare_turns(user_choice, computer_choice)\n",
    "        \n",
    "    def run(self):\n",
    "        RockPaperScissor.welcome_message()\n",
    "        print('running RPS:')\n",
    "        count = int(self.rounds)\n",
    "        while count > 0:\n",
    "            win = self.won_round()\n",
    "            print(win)\n",
    "            count -=1\n",
    "            print(f\"There is {count} round(s) left.\")\n",
    "            print(\"\\n\")\n",
    "    \n",
    "if __name__ == '__main__':\n",
    "    rps = RockPaperScissor()\n",
    "    rps.run()"
   ]
  },
  {
   "cell_type": "markdown",
   "metadata": {},
   "source": [
    "**hint:** Consider the following cells"
   ]
  },
  {
   "cell_type": "code",
   "execution_count": 2,
   "metadata": {},
   "outputs": [
    {
     "name": "stdout",
     "output_type": "stream",
     "text": [
      "same values are ties: \n",
      "True\n",
      "True\n",
      "True\n",
      "situations where you lose:\n",
      "True\n",
      "True\n",
      "False\n",
      "the three outcomes for any particular choice\n",
      "True\n",
      "True\n"
     ]
    }
   ],
   "source": [
    "rock = 0\n",
    "paper = 1\n",
    "scissor = 2\n",
    "\n",
    "print(\"same values are ties: \")\n",
    "# if the values are the same, it's a tie\n",
    "print(rock == rock) #0==0 - True\n",
    "print(paper == paper) #1==1 - True\n",
    "print(scissor == scissor) # 2==2 - True\n",
    "\n",
    "print(\"situations where you lose:\")\n",
    "# if you choose rock and the computer chooses paper\n",
    "print(rock + 1 == paper) \n",
    "# if you choose paper and the computer chooses scissors\n",
    "print(paper + 1 == scissor)\n",
    "# if you choose scissors and the computer chooses rock\n",
    "print(scissor + 1 == rock) # wait, this is False though! 3 =! 0\n",
    "\n",
    "# if your opponents choice is not one above yours\n",
    "# or if not the same as yours, the only other option\n",
    "# is the losing option:\n",
    "\n",
    "print(\"the three outcomes for any particular choice\")\n",
    "your_choice = paper # you choose paper\n",
    "print(your_choice == paper) # paper ties with paper\n",
    "print(your_choice + 1 == scissor) # paper loses to scissors\n",
    "# the only other choice option is rock\n",
    "# (remember: your \"opponent\" is a computer that can\n",
    "# only choose from 0,1, and 2)"
   ]
  },
  {
   "cell_type": "markdown",
   "metadata": {},
   "source": [
    "If you notice in the past cell, we have a problem:\n",
    "\n",
    "`scissors + 1 == rock` checks \"2 + 1 == 0\" which is \"3 == 0\" or `False`.\n",
    "\n",
    "But technically 0 is correct. Rock beats scissors. So we need a way that adds 1 to scissors (2) but within our cycle of 0-1-2 so instead of getting 3 which is not in our range, it cycles back around to 0. Then if we added 1 to scissors, we would get 0 (rock).\n",
    "\n",
    "Consider modulos. Try running the following cell.\n",
    "\n"
   ]
  },
  {
   "cell_type": "code",
   "execution_count": 3,
   "metadata": {},
   "outputs": [
    {
     "name": "stdout",
     "output_type": "stream",
     "text": [
      "1\n",
      "2\n",
      "3\n",
      "\n",
      "\n",
      "1\n",
      "2\n",
      "0\n"
     ]
    }
   ],
   "source": [
    "nums = list(range(3))\n",
    "\n",
    "print(nums[0] + 1) \n",
    "print(nums[1] + 1)\n",
    "print(nums[2] + 1)\n",
    "print('\\n')\n",
    "print((nums[0]+1) % 3)\n",
    "print((nums[1]+1) % 3)\n",
    "print((nums[2]+1) % 3)"
   ]
  },
  {
   "cell_type": "code",
   "execution_count": null,
   "metadata": {},
   "outputs": [],
   "source": []
  }
 ],
 "metadata": {
  "kernelspec": {
   "display_name": "Python 3",
   "language": "python",
   "name": "python3"
  },
  "language_info": {
   "codemirror_mode": {
    "name": "ipython",
    "version": 3
   },
   "file_extension": ".py",
   "mimetype": "text/x-python",
   "name": "python",
   "nbconvert_exporter": "python",
   "pygments_lexer": "ipython3",
   "version": "3.8.3"
  }
 },
 "nbformat": 4,
 "nbformat_minor": 4
}
