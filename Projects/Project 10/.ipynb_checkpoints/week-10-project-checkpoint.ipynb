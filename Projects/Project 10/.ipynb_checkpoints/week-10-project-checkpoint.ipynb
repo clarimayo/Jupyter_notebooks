{
 "cells": [
  {
   "cell_type": "markdown",
   "metadata": {},
   "source": [
    "<div style=\"background: #000;\n",
    "            color: #FFF;\n",
    "            margin: 0px;\n",
    "                padding: 10px 0px 20px 0px;\n",
    "            text-align: center; \n",
    "                \">\n",
    "    <h1>Week 10 Project</h1>\n",
    "</div>"
   ]
  },
  {
   "cell_type": "markdown",
   "metadata": {},
   "source": [
    "For your final project, you will:\n",
    "* Scrape data of significance (will need approval) and clean it up.\n",
    "* Automate the process of storing it in your database. \n",
    "* Create a flask application that will make our database accessible from the web. Your flask views can return html or json depending on your preference.\n",
    "\n",
    "### First deliverable for your final project:\n",
    "Due next week (data tbd)\n",
    "* The script that scrapes your data and stores it in your database.\n",
    "* The git repo to store your work with the script included.\n"
   ]
  },
  {
   "cell_type": "code",
   "execution_count": 1,
   "metadata": {},
   "outputs": [],
   "source": [
    "from bs4 import BeautifulSoup\n",
    "import requests\n",
    "import csv\n",
    "url = \"https://en.wikipedia.org/wiki/List_of_countries_by_carbon_dioxide_emissions\"\n",
    "\n",
    "def co2_emissions(url):\n",
    "    response = requests.get(url)\n",
    "    soup = BeautifulSoup(response.text)\n",
    "    table = soup.find(\"table\", attrs = {\"class\":[\"wikitable\", \"sortable\", \"jquery-tablesorter\"]}) \n",
    "    rows = table.find_all('tr')\n",
    "    th_td_list = []\n",
    "    for row in rows[2:]:\n",
    "        th = row.findAll('th')\n",
    "        tds = row.findAll('td')\n",
    "        th_td_data_row = []\n",
    "        for td in tds:\n",
    "            td_text = td.text.strip()\n",
    "            td_text = td_text.replace(',',\"\")\n",
    "            if td_text == 'n/a':\n",
    "                td_text = None      \n",
    "            else:\n",
    "                td_text = td_text              \n",
    "            th_td_data_row.append(td_text)              \n",
    "        th_td_list.append(th_td_data_row)\n",
    "    return th_td_list\n",
    "\n",
    "def data_to_csv(url):\n",
    "    with open(\"clariza_mayo_emissions.csv\", \"w\") as csvfile:\n",
    "        file = csv.writer(csvfile)\n",
    "        file.writerow([\"Country\",\"1990\",\"2005\",\"2017\",\"Percentage of world Emmisions\",\"2017 vs 1990 Percentage Change\", \"Per Land Area\", \"Per Capita\"])\n",
    "        file.writerows(co2_emissions(url))\n",
    "        \n",
    "data_to_csv(url)"
   ]
  },
  {
   "cell_type": "code",
   "execution_count": 34,
   "metadata": {},
   "outputs": [],
   "source": [
    "from bs4 import BeautifulSoup\n",
    "import requests\n",
    "import csv\n",
    "url = \"https://en.wikipedia.org/wiki/List_of_countries_by_population_in_2005\"\n",
    "\n",
    "def world_pop_2005(url):\n",
    "    response = requests.get(url)\n",
    "    soup = BeautifulSoup(response.text)\n",
    "    table = soup.findAll(\"table\")[1]\n",
    "    rows = table.find_all('tr')[1:]\n",
    "    th_td_list = []\n",
    "    for row in rows[1:-1]:\n",
    "        th = row.findAll('th')\n",
    "        tds = row.findAll('td')[1:-1]\n",
    "        th_td_data_row = []\n",
    "        for td in tds:\n",
    "            td_text = td.text.strip()            \n",
    "            th_td_data_row.append(td_text)              \n",
    "        th_td_list.append(th_td_data_row)\n",
    "    return sorted(th_td_list)\n",
    "\n",
    "def data_to_csv(url):\n",
    "    with open(\"clariza_mayo_population.csv\", \"w\") as csvfile:\n",
    "        file = csv.writer(csvfile)\n",
    "        file.writerow([\"Country\", \"2005 Population\"])\n",
    "        file.writerows(world_pop_2005(url))\n",
    "        \n",
    "data_to_csv(url)"
   ]
  },
  {
   "cell_type": "code",
   "execution_count": null,
   "metadata": {},
   "outputs": [],
   "source": []
  }
 ],
 "metadata": {
  "kernelspec": {
   "display_name": "Python 3",
   "language": "python",
   "name": "python3"
  },
  "language_info": {
   "codemirror_mode": {
    "name": "ipython",
    "version": 3
   },
   "file_extension": ".py",
   "mimetype": "text/x-python",
   "name": "python",
   "nbconvert_exporter": "python",
   "pygments_lexer": "ipython3",
   "version": "3.8.3"
  }
 },
 "nbformat": 4,
 "nbformat_minor": 4
}
