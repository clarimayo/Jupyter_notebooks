{
 "cells": [
  {
   "cell_type": "markdown",
   "metadata": {},
   "source": [
    "# Week 2 Project"
   ]
  },
  {
   "cell_type": "markdown",
   "metadata": {},
   "source": [
    "Our company \"Zeta\" has an algorithmic trading bot that purchases shares of stocks. We've been buying shares of TSLA and MSFT for a while now. Our bot buys 1 share at a time and the prices of each purchase is listed below."
   ]
  },
  {
   "cell_type": "code",
   "execution_count": 1,
   "metadata": {},
   "outputs": [
    {
     "name": "stdout",
     "output_type": "stream",
     "text": [
      "tsla prices are correct\n"
     ]
    }
   ],
   "source": [
    "tsla = [132.56, 105.2, 137.54, 124.31, 124.54, 108.52, 139.35, 121.49, 117.89, 100.79, 116.63, 108.02, 103.25, 105.72, 114.12, 128.8, 102.37, 114.9, 132.4, 135.3, 151.3, 134.8, 111.1, 132.1, 156.31, 114.58, 140.42, 127.02, 126.36, 132.64, 152.15, 126.19, 156.41, 148.95, 164.27, 129.99, 145.17, 151.98, 148.75, 144.75, 133.51, 146.97, 144.09, 129.79, 152.15, 161.55, 158.24, 157.89, 163.06, 180.86, 185.57, 198.29, 184.2, 183.68, 193.8, 201.32]\n",
    "\n",
    "# to verify your numbers are correct and have not been altered, uncomment and run the following:\n",
    "import hashlib; print(\"tsla prices are correct\" if hashlib.md5(str(tsla).encode()).hexdigest() == '2157a3cc6c68b3ae3e26ae3101cf2c44' else \"tsla prices are incorrect\")"
   ]
  },
  {
   "cell_type": "code",
   "execution_count": 2,
   "metadata": {},
   "outputs": [
    {
     "name": "stdout",
     "output_type": "stream",
     "text": [
      "msft prices are correct\n"
     ]
    }
   ],
   "source": [
    "msft = [167.69, 151.72, 141.38, 136.95, 146.5, 157.5, 177.42, 152.06, 147.97, 174.94, 162.73, 183.69, 139.53, 181.82, 167.49, 176.05, 179.25, 149.65, 183.38, 149.73, 151.2, 189.22, 166.28, 187.13, 195.46, 158.8, 154.24, 190.19, 153.23, 192.82, 176.67, 192.04, 177.19, 165.53, 184.44, 186.13, 199.71, 174.14, 175.61, 184.14, 205.52, 202.13, 180.19, 198.55, 204.91, 187.49, 183.52, 199.76, 212.38, 191.2, 222.39, 195.15, 185.7, 224.32, 195.49, 208.56, 184.11, 211.48, 207.77, 202.89, 186.68, 203.91, 234.01, 202.05, 205.86, 193.8, 213.51, 220.2, 234.56, 200.86, 206.04, 243.46, 243.3, 208.68, 220.96, 237.67, 208.42, 214.33, 251.64, 212.35, 217.35, 213.11, 251.61, 247.34, 234.95, 256.97, 235.53, 240.86, 213.03, 235.38, 257.89, 246.18, 234.4, 222.91, 253.5, 257.53, 266.9, 226.3, 230.97, 270.01]\n",
    "\n",
    "# to verify your numbers are correct and have not been altered, uncomment and run the following:\n",
    "import hashlib; print(\"msft prices are correct\" if hashlib.md5(str(msft).encode()).hexdigest() == '5e0b3acc2d380c957f9db6487c0f4807' else \"msft prices are incorrect\")"
   ]
  },
  {
   "cell_type": "markdown",
   "metadata": {},
   "source": [
    "### How many shares of TSLA did we buy?\n",
    "\n",
    "Note: remember that for each buy, we bought 1 share."
   ]
  },
  {
   "cell_type": "code",
   "execution_count": 7,
   "metadata": {},
   "outputs": [
    {
     "name": "stdout",
     "output_type": "stream",
     "text": [
      "We bought 56 shares.\n"
     ]
    }
   ],
   "source": [
    "number_of_shares = len(tsla)\n",
    "print(\"We bought \" + str(number_of_shares) + \" shares.\")"
   ]
  },
  {
   "cell_type": "markdown",
   "metadata": {},
   "source": [
    "### What was the average price of our TSLA shares?\n",
    "\n",
    "Average price = cost of all shares / number of shares"
   ]
  },
  {
   "cell_type": "code",
   "execution_count": 10,
   "metadata": {},
   "outputs": [
    {
     "name": "stdout",
     "output_type": "stream",
     "text": [
      "the average price of our TSLA shares is 140.07.\n"
     ]
    }
   ],
   "source": [
    "cost_of_all_shares = sum(tsla)\n",
    "average_price = cost_of_all_shares / number_of_shares\n",
    "print(\"the average price of our TSLA shares\" + (\" is %.2f.\" % (average_price)))"
   ]
  },
  {
   "cell_type": "markdown",
   "metadata": {},
   "source": [
    "### What was the lowest price we paid for a share of TSLA?"
   ]
  },
  {
   "cell_type": "code",
   "execution_count": 11,
   "metadata": {},
   "outputs": [
    {
     "name": "stdout",
     "output_type": "stream",
     "text": [
      "the lowest price we paid for a share of TSLA is 100.79\n"
     ]
    }
   ],
   "source": [
    "sorted_list = sorted(tsla)\n",
    "print(\"the lowest price we paid for a share of TSLA is \" + str(sorted_list[0]))"
   ]
  },
  {
   "cell_type": "markdown",
   "metadata": {},
   "source": [
    "### What was the highest price we paid for a share of TSLA?"
   ]
  },
  {
   "cell_type": "code",
   "execution_count": 12,
   "metadata": {},
   "outputs": [
    {
     "name": "stdout",
     "output_type": "stream",
     "text": [
      "the highest price we paid for a share of TSLA is 201.32\n"
     ]
    }
   ],
   "source": [
    "print(\"the highest price we paid for a share of TSLA is \" + str(sorted_list[-1]))"
   ]
  },
  {
   "cell_type": "markdown",
   "metadata": {},
   "source": [
    "### Sort the list of TSLA shares in place. What was the five lowest prices we paid for TSLA shares?"
   ]
  },
  {
   "cell_type": "code",
   "execution_count": 13,
   "metadata": {},
   "outputs": [
    {
     "name": "stdout",
     "output_type": "stream",
     "text": [
      "the five lowest prices we paid for TSLA shares were [100.79, 102.37, 103.25, 105.2, 105.72]\n"
     ]
    }
   ],
   "source": [
    "print(\"the five lowest prices we paid for TSLA shares were \" + str(sorted_list[:5]))"
   ]
  },
  {
   "cell_type": "markdown",
   "metadata": {},
   "source": [
    "### What were the five highest prices we paid for TSLA shares? \n",
    "\n",
    "Use a slice that includes a negative number"
   ]
  },
  {
   "cell_type": "code",
   "execution_count": 14,
   "metadata": {},
   "outputs": [
    {
     "name": "stdout",
     "output_type": "stream",
     "text": [
      "the five highest prices we paid for TSLA shares were [184.2, 185.57, 193.8, 198.29, 201.32]\n"
     ]
    }
   ],
   "source": [
    "print(\"the five highest prices we paid for TSLA shares were \" + str(sorted_list[-5:]))"
   ]
  },
  {
   "cell_type": "markdown",
   "metadata": {},
   "source": [
    "### How many unique values do we have in our list of TSLA prices? "
   ]
  },
  {
   "cell_type": "code",
   "execution_count": 15,
   "metadata": {},
   "outputs": [
    {
     "data": {
      "text/plain": [
       "55"
      ]
     },
     "execution_count": 15,
     "metadata": {},
     "output_type": "execute_result"
    }
   ],
   "source": [
    "#convert it into a set so we can get rid of any repeats\n",
    "unique_values = set(tsla)\n",
    "len(unique_values)"
   ]
  },
  {
   "cell_type": "markdown",
   "metadata": {},
   "source": [
    "### We have another algo running that also buys shares of TSLA. Using the following list and the set from before, output a list of the unique set of prices of the combined lists."
   ]
  },
  {
   "cell_type": "code",
   "execution_count": 16,
   "metadata": {},
   "outputs": [
    {
     "name": "stdout",
     "output_type": "stream",
     "text": [
      "other tsla prices are correct\n"
     ]
    }
   ],
   "source": [
    "other_tsla_list = [114.12, 128.8, 102.37, 114.9, 132.4, 135.3, 151.3, 134.8, 111.1, 132.1]\n",
    "\n",
    "# to verify the above numbers are correct and have not been altered, uncomment and run the following:\n",
    "import hashlib; print(\"other tsla prices are correct\" if hashlib.md5(str(other_tsla_list).encode()).hexdigest() == '9d855ef64203308925c4259ca8864cda' else \"other prices are incorrect\")"
   ]
  },
  {
   "cell_type": "code",
   "execution_count": 17,
   "metadata": {},
   "outputs": [
    {
     "name": "stdout",
     "output_type": "stream",
     "text": [
      "{128.8, 129.99, 129.79, 132.56, 132.4, 134.8, 135.3, 132.1, 137.54, 132.64, 139.35, 140.42, 133.51, 144.75, 145.17, 146.97, 144.09, 148.95, 148.75, 151.3, 152.15, 151.98, 156.31, 156.41, 158.24, 157.89, 161.55, 163.06, 164.27, 180.86, 183.68, 184.2, 185.57, 193.8, 198.29, 201.32, 100.79, 102.37, 103.25, 105.2, 105.72, 108.52, 108.02, 111.1, 124.31, 114.12, 114.9, 116.63, 117.89, 114.58, 121.49, 126.19, 124.54, 126.36, 127.02}\n"
     ]
    },
    {
     "data": {
      "text/plain": [
       "55"
      ]
     },
     "execution_count": 17,
     "metadata": {},
     "output_type": "execute_result"
    }
   ],
   "source": [
    "#list with all unique values. the reason why it's 55 is because all the values from other_tsla_list are rep#list with all unique values. the reason why it's 55 is because all the values from other_tsla_list are repeated\n",
    "#on the tsla list\n",
    "combined_list = set(tsla + other_tsla_list)\n",
    "print(combined_list)\n",
    "len(combined_list)"
   ]
  },
  {
   "cell_type": "markdown",
   "metadata": {},
   "source": [
    "### Create a dictionary from the list of TSLA prices. Use the index of the sorted list as the key."
   ]
  },
  {
   "cell_type": "code",
   "execution_count": 18,
   "metadata": {},
   "outputs": [
    {
     "name": "stdout",
     "output_type": "stream",
     "text": [
      "{0: 132.56, 1: 105.2, 2: 137.54, 3: 124.31, 4: 124.54, 5: 108.52, 6: 139.35, 7: 121.49, 8: 117.89, 9: 100.79, 10: 116.63, 11: 108.02, 12: 103.25, 13: 105.72, 14: 114.12, 15: 128.8, 16: 102.37, 17: 114.9, 18: 132.4, 19: 135.3, 20: 151.3, 21: 134.8, 22: 111.1, 23: 132.1, 24: 156.31, 25: 114.58, 26: 140.42, 27: 127.02, 28: 126.36, 29: 132.64, 30: 152.15, 31: 126.19, 32: 156.41, 33: 148.95, 34: 164.27, 35: 129.99, 36: 145.17, 37: 151.98, 38: 148.75, 39: 144.75, 40: 133.51, 41: 146.97, 42: 144.09, 43: 129.79, 44: 152.15, 45: 161.55, 46: 158.24, 47: 157.89, 48: 163.06, 49: 180.86, 50: 185.57, 51: 198.29, 52: 184.2, 53: 183.68, 54: 193.8, 55: 201.32}\n"
     ]
    }
   ],
   "source": [
    "dictionary = dict(enumerate(tsla))\n",
    "print(dictionary)"
   ]
  },
  {
   "cell_type": "markdown",
   "metadata": {},
   "source": [
    "### How many shares of MSFT did we buy? \n",
    "\n",
    "Note: remember that for each buy, we bought only 1 share."
   ]
  },
  {
   "cell_type": "code",
   "execution_count": 19,
   "metadata": {},
   "outputs": [
    {
     "name": "stdout",
     "output_type": "stream",
     "text": [
      "100\n"
     ]
    }
   ],
   "source": [
    "number_of_msft_shares = len(msft)\n",
    "print(number_of_msft_shares)"
   ]
  },
  {
   "cell_type": "markdown",
   "metadata": {},
   "source": [
    "### What was the average price of our MSFT shares?"
   ]
  },
  {
   "cell_type": "code",
   "execution_count": 21,
   "metadata": {},
   "outputs": [
    {
     "name": "stdout",
     "output_type": "stream",
     "text": [
      "the average price of our MSFT shares is 199.40.\n"
     ]
    }
   ],
   "source": [
    "cost_of_msft_shares = sum(msft)\n",
    "average_msft_price = cost_of_msft_shares / number_of_msft_shares\n",
    "print(\"the average price of our MSFT shares\" + (\" is %.2f.\" % (average_msft_price)))"
   ]
  },
  {
   "cell_type": "markdown",
   "metadata": {},
   "source": [
    "### What was the lowest price we paid for a share of MSFT?"
   ]
  },
  {
   "cell_type": "code",
   "execution_count": 22,
   "metadata": {},
   "outputs": [
    {
     "name": "stdout",
     "output_type": "stream",
     "text": [
      "the lowest price of our MSFT shares is 136.95.\n"
     ]
    }
   ],
   "source": [
    "sorted_msft = sorted(msft)\n",
    "print(\"the lowest price of our MSFT shares\" + (\" is %.2f.\" % (sorted_msft[0])))"
   ]
  },
  {
   "cell_type": "markdown",
   "metadata": {},
   "source": [
    "### What was the highest price we paid for a share of MSFT?"
   ]
  },
  {
   "cell_type": "code",
   "execution_count": 23,
   "metadata": {},
   "outputs": [
    {
     "name": "stdout",
     "output_type": "stream",
     "text": [
      "the highest price we paid for a share of MSFT is 270.01\n"
     ]
    }
   ],
   "source": [
    "print(\"the highest price we paid for a share of MSFT is \" + str(sorted_msft[-1]))"
   ]
  },
  {
   "cell_type": "markdown",
   "metadata": {},
   "source": [
    "### Sort the list of MSFT prices in place. What were the five lowest prices we paid for MSFT shares?"
   ]
  },
  {
   "cell_type": "code",
   "execution_count": 24,
   "metadata": {},
   "outputs": [
    {
     "name": "stdout",
     "output_type": "stream",
     "text": [
      "the five lowest prices we paid for a share of MSFT are [136.95, 139.53, 141.38, 146.5, 147.97]\n"
     ]
    }
   ],
   "source": [
    "print(\"the five lowest prices we paid for a share of MSFT are \" + str(sorted_msft[:5]))"
   ]
  },
  {
   "cell_type": "markdown",
   "metadata": {},
   "source": [
    "### What were the five highest prices we paid for MSFT shares? \n",
    "\n",
    "Use a slice that includes a negative number"
   ]
  },
  {
   "cell_type": "code",
   "execution_count": 25,
   "metadata": {},
   "outputs": [
    {
     "name": "stdout",
     "output_type": "stream",
     "text": [
      "the five highest prices we paid for a share of MSFT are [184.2, 185.57, 193.8, 198.29, 201.32]\n"
     ]
    }
   ],
   "source": [
    "print(\"the five highest prices we paid for a share of MSFT are \" + str(sorted_list[-5:]))"
   ]
  },
  {
   "cell_type": "markdown",
   "metadata": {},
   "source": [
    "### How many unique values do we have in our list of MSFT prices?"
   ]
  },
  {
   "cell_type": "code",
   "execution_count": 26,
   "metadata": {},
   "outputs": [
    {
     "data": {
      "text/plain": [
       "100"
      ]
     },
     "execution_count": 26,
     "metadata": {},
     "output_type": "execute_result"
    }
   ],
   "source": [
    "unique_msft_values = set(msft)\n",
    "len(unique_msft_values)"
   ]
  },
  {
   "cell_type": "markdown",
   "metadata": {},
   "source": [
    "### We have another algo running that also buys shares of TSLA. Using the following list and the set from before, output a list of the unique prices of the combined lists."
   ]
  },
  {
   "cell_type": "code",
   "execution_count": 27,
   "metadata": {},
   "outputs": [
    {
     "name": "stdout",
     "output_type": "stream",
     "text": [
      "other_msft_prices are correct\n"
     ]
    }
   ],
   "source": [
    "other_msft_list = [149.73, 151.2, 189.22, 166.28, 187.13, 195.46, 158.8, 154.24, 190.19, 153.23, 192.82, 176.67, 192.04, 177.19]\n",
    "\n",
    "# to verify the above numbers are correct and have not been altered, uncomment and run the following:\n",
    "import hashlib; print(\"other_msft_prices are correct\" if hashlib.md5(str(other_msft_list).encode()).hexdigest() == '2340257f15e1472379a92741c3a83fdd' else \"other msft prices are incorrect\")"
   ]
  },
  {
   "cell_type": "code",
   "execution_count": 28,
   "metadata": {},
   "outputs": [
    {
     "name": "stdout",
     "output_type": "stream",
     "text": [
      "{206.04, 213.11, 213.03, 136.95, 139.53, 141.38, 146.5, 147.97, 149.65, 149.73, 151.72, 152.06, 151.2, 154.24, 153.23, 157.5, 158.8, 162.73, 165.53, 166.28, 167.69, 167.49, 174.94, 174.14, 176.05, 177.42, 176.67, 179.25, 180.19, 177.19, 181.82, 183.52, 184.11, 185.7, 186.68, 183.69, 183.38, 184.44, 186.13, 187.13, 184.14, 189.22, 190.19, 187.49, 192.82, 192.04, 191.2, 195.46, 195.15, 195.49, 198.55, 199.71, 199.76, 202.13, 202.89, 204.91, 205.52, 203.91, 207.77, 208.56, 205.86, 211.48, 212.38, 213.51, 208.68, 208.42, 214.33, 212.35, 220.2, 220.96, 222.39, 217.35, 224.32, 222.91, 226.3, 230.97, 234.01, 234.56, 234.95, 237.67, 235.53, 235.38, 240.86, 234.4, 243.46, 243.3, 246.18, 247.34, 251.64, 251.61, 253.5, 256.97, 257.89, 257.53, 266.9, 270.01, 175.61, 193.8, 200.86, 202.05}\n"
     ]
    },
    {
     "data": {
      "text/plain": [
       "100"
      ]
     },
     "execution_count": 28,
     "metadata": {},
     "output_type": "execute_result"
    }
   ],
   "source": [
    "#list with all unique values. the reason why it's 100 is because all the values from other_msft_list are repeated\n",
    "#on the msft list\n",
    "combined_msft_list = set(msft + other_msft_list)\n",
    "print(combined_msft_list)\n",
    "len(combined_msft_list)"
   ]
  },
  {
   "cell_type": "markdown",
   "metadata": {},
   "source": [
    "### Create a dictionary from the list of MSFT prices. Use the index of the sorted list as the key."
   ]
  },
  {
   "cell_type": "code",
   "execution_count": 29,
   "metadata": {},
   "outputs": [
    {
     "name": "stdout",
     "output_type": "stream",
     "text": [
      "{0: 167.69, 1: 151.72, 2: 141.38, 3: 136.95, 4: 146.5, 5: 157.5, 6: 177.42, 7: 152.06, 8: 147.97, 9: 174.94, 10: 162.73, 11: 183.69, 12: 139.53, 13: 181.82, 14: 167.49, 15: 176.05, 16: 179.25, 17: 149.65, 18: 183.38, 19: 149.73, 20: 151.2, 21: 189.22, 22: 166.28, 23: 187.13, 24: 195.46, 25: 158.8, 26: 154.24, 27: 190.19, 28: 153.23, 29: 192.82, 30: 176.67, 31: 192.04, 32: 177.19, 33: 165.53, 34: 184.44, 35: 186.13, 36: 199.71, 37: 174.14, 38: 175.61, 39: 184.14, 40: 205.52, 41: 202.13, 42: 180.19, 43: 198.55, 44: 204.91, 45: 187.49, 46: 183.52, 47: 199.76, 48: 212.38, 49: 191.2, 50: 222.39, 51: 195.15, 52: 185.7, 53: 224.32, 54: 195.49, 55: 208.56, 56: 184.11, 57: 211.48, 58: 207.77, 59: 202.89, 60: 186.68, 61: 203.91, 62: 234.01, 63: 202.05, 64: 205.86, 65: 193.8, 66: 213.51, 67: 220.2, 68: 234.56, 69: 200.86, 70: 206.04, 71: 243.46, 72: 243.3, 73: 208.68, 74: 220.96, 75: 237.67, 76: 208.42, 77: 214.33, 78: 251.64, 79: 212.35, 80: 217.35, 81: 213.11, 82: 251.61, 83: 247.34, 84: 234.95, 85: 256.97, 86: 235.53, 87: 240.86, 88: 213.03, 89: 235.38, 90: 257.89, 91: 246.18, 92: 234.4, 93: 222.91, 94: 253.5, 95: 257.53, 96: 266.9, 97: 226.3, 98: 230.97, 99: 270.01}\n"
     ]
    }
   ],
   "source": [
    "second_dictionary = dict(enumerate(msft))\n",
    "print(second_dictionary)"
   ]
  },
  {
   "cell_type": "code",
   "execution_count": null,
   "metadata": {},
   "outputs": [],
   "source": []
  }
 ],
 "metadata": {
  "kernelspec": {
   "display_name": "Python 3",
   "language": "python",
   "name": "python3"
  },
  "language_info": {
   "codemirror_mode": {
    "name": "ipython",
    "version": 3
   },
   "file_extension": ".py",
   "mimetype": "text/x-python",
   "name": "python",
   "nbconvert_exporter": "python",
   "pygments_lexer": "ipython3",
   "version": "3.8.3"
  }
 },
 "nbformat": 4,
 "nbformat_minor": 4
}
