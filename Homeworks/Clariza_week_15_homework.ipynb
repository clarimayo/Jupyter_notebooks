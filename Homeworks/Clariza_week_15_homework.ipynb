{
 "cells": [
  {
   "cell_type": "markdown",
   "metadata": {
    "id": "iVLXk1WkK7Y5"
   },
   "source": [
    "<div style=\"background: #000;\n",
    "            color: #FFF;\n",
    "            margin: 0px;\n",
    "                padding: 10px 0px 20px 0px;\n",
    "            text-align: center; \n",
    "                \">\n",
    "    <span style=\"margin-left: -15px;\"><img src=\"https://tkhv2-static.s3.amazonaws.com/static-final/assets/img/sec_logo2sec.png\"></img></span>\n",
    "    <h1 style=\"padding: 0px 0px 0px 0px;\">Week 15 Homework</h1>\n",
    "</div>"
   ]
  },
  {
   "cell_type": "markdown",
   "metadata": {
    "id": "FNOTdVXHK7ZB"
   },
   "source": [
    "### Exercise 1:\n",
    "(due Jan 19th)\n",
    "\n",
    "Given a positive integer, return its corresponding column title as appear in an Excel sheet.\n",
    "\n",
    "For example:\n",
    "\n",
    "```\n",
    "    1 -> A\n",
    "    2 -> B\n",
    "    3 -> C\n",
    "    ...\n",
    "    26 -> Z\n",
    "    27 -> AA\n",
    "    28 -> AB \n",
    "    ...\n",
    "```\n",
    "\n",
    "`Example 1:`  \n",
    "__Input__: 1  \n",
    "__Output__: \"A\"  \n",
    "\n",
    "`Example 2:`  \n",
    "__Input__: 28  \n",
    "__Output__: \"AB\"  \n",
    "\n",
    "`Example 3:`   \n",
    "__Input__: 701    \n",
    "__Output__: \"ZY\"  "
   ]
  },
  {
   "cell_type": "code",
   "execution_count": 1,
   "metadata": {
    "colab": {
     "base_uri": "https://localhost:8080/"
    },
    "id": "ABKFeEGJK7ZF",
    "outputId": "d4d2b8ef-5fd9-4f5d-e64e-ef536c7bdaf0"
   },
   "outputs": [
    {
     "name": "stdout",
     "output_type": "stream",
     "text": [
      "solution is correct\n"
     ]
    }
   ],
   "source": [
    "import string\n",
    "def ex1(num):\n",
    "    alphabet = string.ascii_uppercase\n",
    "    new_string = \"\"\n",
    "    while num > 0:\n",
    "        remainder = (num-1) % 26\n",
    "        num =(num-1) // 26   \n",
    "        new_string = alphabet[remainder] + new_string\n",
    "    return new_string\n",
    "\n",
    "try:\n",
    "    # assert(ex1(1) == \"A\")\n",
    "    # assert(ex1(28) == \"AB\")\n",
    "    assert(ex1(701) == \"ZY\")\n",
    "    print(\"solution is correct\")\n",
    "except AssertionError:\n",
    "    print(\"solution is incorrect\")"
   ]
  },
  {
   "cell_type": "code",
   "execution_count": null,
   "metadata": {},
   "outputs": [],
   "source": [
    "def ex1(num):\n",
    "    if num <= 26:\n",
    "        return chr(num + 64)\n",
    "    else:\n",
    "        f_char = chr(num // 26 + 64)\n",
    "        l_char = chr(num % 26 + 64)\n",
    "        return ''.join([f_char, l_char])"
   ]
  },
  {
   "cell_type": "markdown",
   "metadata": {
    "id": "CJa4hkVSK7ZG"
   },
   "source": [
    "### Exercise 2: \n",
    "(Due Jan 20th)\n",
    "\n",
    "Given integer array `nums`, return the third maximum number in this array. If the third maximum does not exist, return the maximum number.\n",
    "\n",
    "`Example 1:`  \n",
    "__Input__: nums = [3,2,1]  \n",
    "__Output__: 1  \n",
    "__Explanation__: The third maximum is 1.  \n",
    "\n",
    "`Example 2:`  \n",
    "__Input__: nums = [1,2]  \n",
    "__Output__: 2  \n",
    "__Explanation__: The third maximum does not exist, so the maximum (2) is returned instead.  \n",
    "\n",
    "`Example 3:`  \n",
    "__Input__: nums = [2,2,3,1]  \n",
    "__Output__: 1  \n",
    "__Explanation__: Note that the third maximum here means the third maximum distinct number.\n",
    "Both numbers with value 2 are both considered as second maximum.  \n",
    " \n",
    " "
   ]
  },
  {
   "cell_type": "code",
   "execution_count": 100,
   "metadata": {
    "colab": {
     "base_uri": "https://localhost:8080/"
    },
    "id": "Hg_b_3-dK7ZI",
    "outputId": "1dc65959-5e4d-4f03-faa6-c46282134b73"
   },
   "outputs": [
    {
     "name": "stdout",
     "output_type": "stream",
     "text": [
      "solution is correct\n"
     ]
    }
   ],
   "source": [
    "def ex2(nums):\n",
    "    max_lst = []\n",
    "    for iteratation in range(3):\n",
    "    temp = 0\n",
    "    for num in nums:\n",
    "      if num > temp and num not in max_lst:\n",
    "        temp = num\n",
    "    if temp >0:\n",
    "      max_lst.append(temp)\n",
    "  if len(max_lst) < 3:\n",
    "    return max_lst[0]\n",
    "  return max_lst[-1]\n",
    " \n",
    "try:\n",
    "    assert(ex2([3,2,1]) == 1)\n",
    "    assert(ex2([1,2]) == 2)\n",
    "    assert(ex2([2,2,3,1]) == 1)\n",
    "    print(\"solution is correct\")\n",
    "except AssertionError:\n",
    "    print(\"solution is incorrect\")\n",
    "    #homework ex2([0,0,0])== 0\n",
    "    #third lowest === third last"
   ]
  },
  {
   "cell_type": "code",
   "execution_count": null,
   "metadata": {
    "id": "UN-6Gt_PiISB"
   },
   "outputs": [],
   "source": []
  }
 ],
 "metadata": {
  "colab": {
   "collapsed_sections": [],
   "name": "Clariza_week-15-homework.ipynb",
   "provenance": []
  },
  "kernelspec": {
   "display_name": "Python 3",
   "language": "python",
   "name": "python3"
  },
  "language_info": {
   "codemirror_mode": {
    "name": "ipython",
    "version": 3
   },
   "file_extension": ".py",
   "mimetype": "text/x-python",
   "name": "python",
   "nbconvert_exporter": "python",
   "pygments_lexer": "ipython3",
   "version": "3.8.5"
  }
 },
 "nbformat": 4,
 "nbformat_minor": 1
}
