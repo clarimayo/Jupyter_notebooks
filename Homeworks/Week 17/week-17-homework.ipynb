{
 "cells": [
  {
   "cell_type": "markdown",
   "metadata": {},
   "source": [
    "<div style=\"background: #000;\n",
    "            color: #FFF;\n",
    "            margin: 0px;\n",
    "            padding: 10px 0px 20px 0px;\n",
    "            text-align: center; \n",
    "                \">\n",
    "    <h1 >Week 17 Homework</h1>\n",
    "</div>"
   ]
  },
  {
   "cell_type": "markdown",
   "metadata": {},
   "source": [
    "## Exercise 1:\n",
    "    \n",
    "Given a positive integer, check whether it has alternating bits: namely, if two adjacent bits will always have different values.\n",
    "\n",
    " "
   ]
  },
  {
   "cell_type": "markdown",
   "metadata": {},
   "source": [
    "**Example 1:**\n",
    "\n",
    "Input: n = 5  \n",
    "Output: true  \n",
    "Explanation: The binary representation of 5 is: 101  \n",
    "\n",
    "**Example 2:**\n",
    "\n",
    "Input: n = 7  \n",
    "Output: false  \n",
    "Explanation: The binary representation of 7 is: 111.  \n",
    "\n",
    "**Example 3:**\n",
    "\n",
    "Input: n = 11  \n",
    "Output: false  \n",
    "Explanation: The binary representation of 11 is: 1011.  \n",
    "\n",
    "**Example 4:**\n",
    "\n",
    "Input: n = 10  \n",
    "Output: true  \n",
    "Explanation: The binary representation of 10 is: 1010.  \n",
    "\n",
    "**Example 5:**\n",
    "\n",
    "Input: n = 3  \n",
    "Output: false  \n"
   ]
  },
  {
   "cell_type": "code",
   "execution_count": 3,
   "metadata": {},
   "outputs": [
    {
     "name": "stdout",
     "output_type": "stream",
     "text": [
      "solution is correct\n"
     ]
    }
   ],
   "source": [
    "def ex1(n):\n",
    "    #class's solution\n",
    "    num = n ^ (n)\n",
    "    \n",
    "    \n",
    "#     bit_n = bin(n)[2:]\n",
    "#     string_bit = str(bit_n)\n",
    "#     current_bit = 0\n",
    "#     next_bit = 0\n",
    "#     for iteration in range(len(bit_n)-1):\n",
    "#         if string_bit[iteration] == string_bit[iteration+1]:\n",
    "#             return False\n",
    "#     return True\n",
    "\n",
    "\n",
    "#Anna's answer\n",
    "#     def ex1(n):\n",
    "#         s = bin(n)\n",
    "#         return '00' not in s and '11' not in s\n",
    "\n",
    "try:\n",
    "    assert(ex1(5) == True)\n",
    "    assert(ex1(7) == False)\n",
    "    assert(ex1(11) == False)\n",
    "    assert(ex1(10) == True)\n",
    "    assert(ex1(3) == False)\n",
    "    print(\"solution is correct\")\n",
    "except AssertionError:\n",
    "    print(\"solution is incorrect\")"
   ]
  },
  {
   "cell_type": "code",
   "execution_count": 1,
   "metadata": {},
   "outputs": [
    {
     "data": {
      "text/plain": [
       "('0b1010', '0b101')"
      ]
     },
     "execution_count": 1,
     "metadata": {},
     "output_type": "execute_result"
    }
   ],
   "source": [
    "bin(10), bin(10>>1)  #bit shitfing. It will take one digit off from the right   #"
   ]
  },
  {
   "cell_type": "code",
   "execution_count": 2,
   "metadata": {},
   "outputs": [],
   "source": [
    "#if you get two alternating numbers then you will get a series of 1st"
   ]
  },
  {
   "cell_type": "code",
   "execution_count": null,
   "metadata": {},
   "outputs": [],
   "source": [
    "#if you add 1 to 11- you will get 100 because it will overflow.   0+1 = 2 so it will take 1 to the next digit. "
   ]
  },
  {
   "cell_type": "markdown",
   "metadata": {},
   "source": [
    "## Exercise 2\n",
    "\n",
    "The $k$-digit number $N$ is an **Armstrong number** if and only if the $k$-th power of each digit sums to $N$.\n",
    "\n",
    "Given a positive integer $N$, return true if and only if it is an Armstrong number.\n",
    "\n",
    " \n",
    "\n",
    "**Example 1:**\n",
    "\n",
    "Input: 153  \n",
    "Output: `True`  \n",
    "Explanation:  \n",
    "153 is a 3-digit number, and $153 = 1^3 + 5^3 + 3^3$.\n",
    "\n",
    "Example 2:\n",
    "\n",
    "Input: 123  \n",
    "Output: `False`  \n",
    "Explanation: \n",
    "123 is a 3-digit number, and $123$ is not $1^3 + 2^3 + 3^3 = 36$.\n",
    "\n",
    " \n",
    "\n",
    "Note:  \n",
    "$1 <= N <= 10^8$\n"
   ]
  },
  {
   "cell_type": "code",
   "execution_count": 1,
   "metadata": {},
   "outputs": [
    {
     "name": "stdout",
     "output_type": "stream",
     "text": [
      "solution is correct\n"
     ]
    }
   ],
   "source": [
    "#split dig of number: string- split- int\n",
    "#elevate each part of n to the 3rd power and add them together= assign this answer to a new_variable\n",
    "#compare new_variable to n: if they are same return True, else False\n",
    "def ex2(n):\n",
    "    new_n = sum([int(num)**3 for num in str(n)])\n",
    "    return new_n == n\n",
    "\n",
    "try:\n",
    "    assert(ex2(153) == True)\n",
    "    assert(ex2(123) == False)\n",
    "    assert(ex2(1) == True)\n",
    "    print(\"solution is correct\")\n",
    "except AssertionError:\n",
    "    print(\"solution is incorrect\")"
   ]
  },
  {
   "cell_type": "markdown",
   "metadata": {},
   "source": [
    "## Exercise 3\n",
    "\n",
    "Given a stream of integers and a window size, calculate the moving average of all integers in the sliding window.\n",
    "\n",
    "Implement the `MovingAverage` class:\n",
    "* `MovingAverage(size)` Initializes the object with the size of the window size.\n",
    "* `next(val)` Returns the moving average of the last size values of the stream.\n",
    "\n",
    "**Example 1:** \n",
    "movingAverage = MovingAverage(3);  \n",
    "movingAverage.next(1); // return 1.0 = 1 / 1  \n",
    "movingAverage.next(10); // return 5.5 = (1 + 10) / 2  \n",
    "movingAverage.next(3); // return 4.66667 = (1 + 10 + 3) / 3  \n",
    "movingAverage.next(5); // return 6.0 = (10 + 3 + 5) / 3  \n",
    " "
   ]
  },
  {
   "cell_type": "code",
   "execution_count": 24,
   "metadata": {},
   "outputs": [
    {
     "name": "stdout",
     "output_type": "stream",
     "text": [
      "solution is correct\n"
     ]
    }
   ],
   "source": [
    "#FIFO- Queue: This is a queue because when it reaches size limit- the first number that came in will be dumped-\n",
    "#and the rest will be shift. The 2nd will come first and so on. \n",
    "#FILO- Stacks\n",
    "class MovingAverage(object):\n",
    "\n",
    "    def __init__(self, size):\n",
    "        self.size = size\n",
    "        self.new_lst = []\n",
    "\n",
    "    def next(self, val):\n",
    "        if len(self.new_lst) == self.size:\n",
    "            self.new_lst.pop(0)\n",
    "        self.new_lst.append(val)\n",
    "        average = sum(self.new_lst)/ len(self.new_lst)\n",
    "        return average\n",
    "            \n",
    "try:\n",
    "    moving_average = MovingAverage(3)\n",
    "    assert(moving_average.next(1) == 1.0)\n",
    "    assert(moving_average.next(10) == 5.5)\n",
    "    assert(moving_average.next(3) == 4.666666666666667)\n",
    "    assert(moving_average.next(5) == 6.0)\n",
    "    moving_average = MovingAverage(5)\n",
    "    assert(moving_average.next(4) == 4.0)\n",
    "    assert(moving_average.next(1) == 2.5)\n",
    "    assert(moving_average.next(10) == 5.0)\n",
    "    assert(moving_average.next(5) == 5.0)\n",
    "    print(\"solution is correct\")\n",
    "except AssertionError:\n",
    "    print(\"solution is incorrect\")\n"
   ]
  },
  {
   "cell_type": "code",
   "execution_count": null,
   "metadata": {},
   "outputs": [],
   "source": []
  }
 ],
 "metadata": {
  "kernelspec": {
   "display_name": "Python 3",
   "language": "python",
   "name": "python3"
  },
  "language_info": {
   "codemirror_mode": {
    "name": "ipython",
    "version": 3
   },
   "file_extension": ".py",
   "mimetype": "text/x-python",
   "name": "python",
   "nbconvert_exporter": "python",
   "pygments_lexer": "ipython3",
   "version": "3.8.5"
  }
 },
 "nbformat": 4,
 "nbformat_minor": 4
}
