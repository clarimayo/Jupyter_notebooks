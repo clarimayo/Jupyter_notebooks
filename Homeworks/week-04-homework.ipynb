{
 "cells": [
  {
   "cell_type": "markdown",
   "metadata": {},
   "source": [
    "<div style=\"background: #000;\n",
    "            color: #FFF;\n",
    "            margin: 0px;\n",
    "                padding: 10px 0px 20px 0px;\n",
    "            text-align: center; \n",
    "                \">\n",
    "    <h1>Week 4 - Homework</h1>\n",
    "</div>\n",
    "\n",
    "<hr>\n",
    "<pre style=\"text-align: center;\">\n",
    "<h3>Due Tuesday before class time.</h3>\n",
    "Be prepared to present Exercise 1 and 2 on Tuesday.\n",
    "Be prepared to present Exercise 3 and 4 on Tuesday.\n",
    "</pre>\n",
    "<hr>\n"
   ]
  },
  {
   "cell_type": "markdown",
   "metadata": {},
   "source": [
    "# Exercise 1\n",
    "\n",
    "Create a function that takes both postional arguments and a keyword arguments. "
   ]
  },
  {
   "cell_type": "code",
   "execution_count": null,
   "metadata": {},
   "outputs": [],
   "source": [
    "def multi_purpose_func(age, name=\"hector\"):\n",
    "    print(f\"{name} {age}\")\n",
    "    \n",
    "\n",
    "multi_purpose_func(56, \"silvia\") #This uses positional parameters\n",
    "multi_purpose_func(name=\"joseph\", age=7) #This uses keyword arguments\n",
    "multi_purpose_func(45) #This uses default value for name"
   ]
  },
  {
   "cell_type": "markdown",
   "metadata": {},
   "source": [
    "# Exercise 2\n",
    "\n",
    "Fix the following function so that it takes an arbitrary number of arguments. Demonstrate this function works by unpacking `lst` into the function as 11 arguements."
   ]
  },
  {
   "cell_type": "code",
   "execution_count": 25,
   "metadata": {},
   "outputs": [
    {
     "data": {
      "text/plain": [
       "['1', '2', '3', '4', '5', '6', '7', '8', '9', '10']"
      ]
     },
     "execution_count": 25,
     "metadata": {},
     "output_type": "execute_result"
    }
   ],
   "source": [
    "#original function and list\n",
    "lst = [1,2,3,4,5,6,7,8,9,10]\n",
    "\n",
    "def values_to_string(lst):\n",
    "    new_list = []\n",
    "    for i in lst:\n",
    "        new_list.append(str(i))\n",
    "    return new_list\n",
    "\n",
    "values_to_string(lst)"
   ]
  },
  {
   "cell_type": "code",
   "execution_count": 26,
   "metadata": {},
   "outputs": [
    {
     "name": "stdout",
     "output_type": "stream",
     "text": [
      "['1', '2', '3', '4', '5', '6', '7', '8', '9', '10', '11']\n",
      "['1', '2', '3', '4', '5', 'a', '4.5', 'True']\n"
     ]
    }
   ],
   "source": [
    "lst = [1,2,3,4,5,6,7,8,9,10]\n",
    "\n",
    "def values_to_string(*lst): #* means multiple positional arguments\n",
    "    new_list = []\n",
    "    for i in lst:\n",
    "        new_list.append(str(i))\n",
    "    return new_list\n",
    "\n",
    "print(values_to_string(*lst,11)) #* unpacking lst\n",
    "print(values_to_string(1,2,3,4,5,'a',4.5, True))"
   ]
  },
  {
   "cell_type": "markdown",
   "metadata": {},
   "source": [
    "# Exercise 3\n",
    "\n",
    "Write a function that has an algorithm that is worst case 0(n)."
   ]
  },
  {
   "cell_type": "code",
   "execution_count": 27,
   "metadata": {},
   "outputs": [
    {
     "name": "stdout",
     "output_type": "stream",
     "text": [
      "the best case scenario is \n",
      "2\n",
      "the worst case scenario is \n",
      "3\n",
      "2\n",
      "1\n",
      "2\n",
      "3\n",
      "4\n"
     ]
    }
   ],
   "source": [
    "best_case_num = [2,1,2,3,4]\n",
    "worst_case_num = [3,2,1,2,3,4]\n",
    "\n",
    "def numbers_(numbers):\n",
    "    if numbers[0] % 2 == 0:\n",
    "        return numbers[0]\n",
    "    else:\n",
    "        for i in numbers:\n",
    "            print(i)\n",
    "print(\"the best case scenario is \")\n",
    "print(numbers_(best_case_num))\n",
    "print(\"the worst case scenario is \")\n",
    "numbers_(worst_case_num)     "
   ]
  },
  {
   "cell_type": "markdown",
   "metadata": {},
   "source": [
    "# Exercise 4\n",
    "\n",
    "Write a function called `summer` that takes an arbitrary number of keyword arguments and then adds any arguments that are ints/floats to produce a sum.\n",
    "\n",
    "Hint:  \n",
    "`summer(**{a=True, b=1})` would return 1.   \n",
    "`summer(**{c=3, d=\"4\" })` would return 3."
   ]
  },
  {
   "cell_type": "code",
   "execution_count": 28,
   "metadata": {},
   "outputs": [
    {
     "name": "stdout",
     "output_type": "stream",
     "text": [
      "1\n"
     ]
    },
    {
     "data": {
      "text/plain": [
       "3"
      ]
     },
     "execution_count": 28,
     "metadata": {},
     "output_type": "execute_result"
    }
   ],
   "source": [
    "def summer(**kwargs):\n",
    "    sum_ = 0\n",
    "    for key,value in kwargs.items():\n",
    "        if type(value) is int or type(value) is float:\n",
    "            sum_ += value\n",
    "    return sum_\n",
    "                  \n",
    "print(summer(a=True, b=1))\n",
    "summer(c=3, d='4')"
   ]
  },
  {
   "cell_type": "markdown",
   "metadata": {},
   "source": [
    "# Bonus\n",
    "\n",
    "Create a function that returns a lambda function. Show how it can be used to create new functions. Can you turn this into a decorator?\n",
    "\n",
    "Hint: see example from `week-04-class-02.ipynb` with the `mytripler` function"
   ]
  },
  {
   "cell_type": "code",
   "execution_count": 22,
   "metadata": {},
   "outputs": [
    {
     "name": "stdout",
     "output_type": "stream",
     "text": [
      "*** This is beginning of the function\n",
      "60\n",
      "*** This is end of the function\n"
     ]
    }
   ],
   "source": [
    "#Creating lambda functions and storing them in variables so I can use it in my decorator\n",
    "lamb = lambda x: print(x)\n",
    "\n",
    "#Making a decorator function that will take the lambda function and then tranform the function that gets passed on it\n",
    "def new_func(lambda_): \n",
    "    def wrapper(x):\n",
    "        print(\"*** This is beginning of the function\")\n",
    "        lambda_(x)\n",
    "        print(\"*** This is end of the function\")              \n",
    "    return wrapper\n",
    "\n",
    "wrapped_new_func = new_func(lamb)\n",
    "wrapped_new_func(60)"
   ]
  },
  {
   "cell_type": "code",
   "execution_count": 21,
   "metadata": {},
   "outputs": [
    {
     "name": "stdout",
     "output_type": "stream",
     "text": [
      "*** This is beginning of the function\n",
      "20\n",
      "*** This is end of the function\n"
     ]
    }
   ],
   "source": [
    "multiple_arg_lamb = lambda x,num: print(x * num)\n",
    "\n",
    "#Making a second decorator that takes multiple arguments\n",
    "def new_func_2(lambda_): \n",
    "    def wrapper(*x):\n",
    "        print(\"*** This is beginning of the function\")\n",
    "        lambda_(*x)\n",
    "        print(\"*** This is end of the function\")              \n",
    "    return wrapper\n",
    "\n",
    "#storing wrapped function in a variable\n",
    "wrapped_new_func_2 = new_func_2(multiple_arg_lamb)\n",
    "wrapped_new_func_2(2,10)"
   ]
  },
  {
   "cell_type": "code",
   "execution_count": 37,
   "metadata": {},
   "outputs": [
    {
     "ename": "SyntaxError",
     "evalue": "invalid syntax (<ipython-input-37-aee482528256>, line 12)",
     "output_type": "error",
     "traceback": [
      "\u001b[0;36m  File \u001b[0;32m\"<ipython-input-37-aee482528256>\"\u001b[0;36m, line \u001b[0;32m12\u001b[0m\n\u001b[0;31m    lamb = lambda x: print(x)\u001b[0m\n\u001b[0m    ^\u001b[0m\n\u001b[0;31mSyntaxError\u001b[0m\u001b[0;31m:\u001b[0m invalid syntax\n"
     ]
    }
   ],
   "source": [
    "#tring to make it cleaner but I couldn't accomplish that.\n",
    "#I will revisit this problem after some more practice\n",
    "def new_func(lambda_): \n",
    "    def wrapper(*x):\n",
    "        print(\"*** This is beginning of the function\")\n",
    "        lambda_(x)\n",
    "        print(\"*** This is end of the function\")              \n",
    "    return wrapper\n",
    "\n",
    "\n",
    "@new_func\n",
    "lamb = lambda x: print(x)\n",
    "\n",
    "lamb(5)"
   ]
  },
  {
   "cell_type": "code",
   "execution_count": null,
   "metadata": {},
   "outputs": [],
   "source": []
  }
 ],
 "metadata": {
  "kernelspec": {
   "display_name": "Python 3",
   "language": "python",
   "name": "python3"
  },
  "language_info": {
   "codemirror_mode": {
    "name": "ipython",
    "version": 3
   },
   "file_extension": ".py",
   "mimetype": "text/x-python",
   "name": "python",
   "nbconvert_exporter": "python",
   "pygments_lexer": "ipython3",
   "version": "3.8.3"
  }
 },
 "nbformat": 4,
 "nbformat_minor": 4
}
