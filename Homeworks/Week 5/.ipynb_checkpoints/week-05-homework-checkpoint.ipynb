{
 "cells": [
  {
   "cell_type": "markdown",
   "metadata": {},
   "source": [
    "<div style=\"background: #000;\n",
    "            color: #FFF;\n",
    "            margin: 0px;\n",
    "                padding: 10px 0px 20px 0px;\n",
    "            text-align: center; \n",
    "                \">\n",
    "    <h1>Week 5 - Homework</h1>\n",
    "</div>\n",
    "\n",
    "<hr>\n",
    "<pre style=\"text-align: center;\">\n",
    "Exercise 1 due Monday before class time.\n",
    "Exercise 2 due Tuesday before class time.\n",
    "Exercise 3 due Wednesday before class time.\n",
    "</pre>\n",
    "<hr>\n"
   ]
  },
  {
   "cell_type": "markdown",
   "metadata": {},
   "source": [
    "# Exercise 1\n",
    "\n",
    "Create a function that calculates the double factorial of an odd number. The double factorial of `n` is denoted by `n!!` and is the product of all odd integers up to and including `n`. You can do it using recursion (for bonus points) or any other method you can come up with.\n",
    "\n",
    "e.g. \n",
    "\n",
    "```\n",
    "9!! = 1 x 3 x 5 x 7 x 9 = 945\n",
    "```\n",
    "\n",
    "Output the following once your function works.\n",
    "\n",
    "`double_factorial(13)` "
   ]
  },
  {
   "cell_type": "code",
   "execution_count": 23,
   "metadata": {},
   "outputs": [
    {
     "name": "stdout",
     "output_type": "stream",
     "text": [
      "input: 0, output: 1 \n",
      "\n",
      "12 is not an odd number.\n",
      "input: 12, output: None \n",
      "\n",
      "input: 9, output: 945 \n",
      "\n",
      "input: -1, output: 1 \n",
      "\n",
      "4.0 is not an odd number.\n",
      "input: 4.0, output: None \n",
      "\n"
     ]
    }
   ],
   "source": [
    "def double_factorial(n=13):\n",
    "    if n <= 0:            \n",
    "        return 1\n",
    "    elif n % 2 == 1:\n",
    "        return n * double_factorial(n-2)\n",
    "    else:\n",
    "        print(f\"{n} is not an odd number.\")\n",
    "            \n",
    "#testing different values for n            \n",
    "input_number = [0,12,9,-1,4.0]\n",
    "for n in input_number:\n",
    "    print(f\"input: {n}, output: {double_factorial(n)} \\n\")"
   ]
  },
  {
   "cell_type": "code",
   "execution_count": 3,
   "metadata": {},
   "outputs": [
    {
     "name": "stdout",
     "output_type": "stream",
     "text": [
      "135135\n"
     ]
    },
    {
     "data": {
      "text/plain": [
       "135135"
      ]
     },
     "execution_count": 3,
     "metadata": {},
     "output_type": "execute_result"
    }
   ],
   "source": [
    "#To make sure we still multiple the odds in an even input\n",
    "def double_factorial_2(n=13):\n",
    "    if (n == 1) or (n ==0):           \n",
    "        return 1\n",
    "    elif n % 2 == 0:\n",
    "        return 1 * double_factorial_2(n-1)\n",
    "    else:\n",
    "        return n * double_factorial_2(n-2)\n",
    "\n",
    "print(double_factorial_2(13))\n",
    "double_factorial_2(14)"
   ]
  },
  {
   "cell_type": "markdown",
   "metadata": {},
   "source": [
    "# Exercise 2\n",
    "\n",
    "Create the decorator function(s) that wraps the `hello` function in the following html tags.\n",
    "\n",
    "hello() -> `<div><p><b>hello</b></p></div>`"
   ]
  },
  {
   "cell_type": "code",
   "execution_count": 24,
   "metadata": {},
   "outputs": [
    {
     "name": "stdout",
     "output_type": "stream",
     "text": [
      "<div><p><b>hello</b></p></div>\n"
     ]
    }
   ],
   "source": [
    "def tagger(tag1,tag2,tag3):\n",
    "    def decorator_function(func):\n",
    "        def wrapper():\n",
    "            print(f\"<{tag1}><{tag2}><{tag3}>{func()}</{tag3}></{tag2}></{tag1}>\")\n",
    "        return wrapper\n",
    "    return decorator_function\n",
    "    \n",
    "@tagger(tag1='div',tag2='p',tag3='b')\n",
    "def hello():\n",
    "    return \"hello\"\n",
    "\n",
    "hello()"
   ]
  },
  {
   "cell_type": "code",
   "execution_count": 1,
   "metadata": {},
   "outputs": [
    {
     "data": {
      "text/plain": [
       "'<div><b><p>hello</p></b></div>'"
      ]
     },
     "execution_count": 1,
     "metadata": {},
     "output_type": "execute_result"
    }
   ],
   "source": [
    "def tagger(tag):\n",
    "    def decorator_function(func):\n",
    "        def wrapper():\n",
    "            return f\"<{tag}>{func()}</{tag}>\"\n",
    "        return wrapper\n",
    "    return decorator_function\n",
    "@tagger('div')\n",
    "@tagger('b')\n",
    "@tagger('p')\n",
    "def hello():\n",
    "    return \"hello\"\n",
    "hello()"
   ]
  },
  {
   "cell_type": "markdown",
   "metadata": {},
   "source": [
    "# Exercise 3\n",
    "\n",
    "If we list all the natural numbers below 10 that are multiples of 3 or 5, we get 3, 5, 6 and 9. The sum of these multiples is 23.\n",
    "\n",
    "Create a function that returns the sum of all the multiples of 3 or 5 below `n` where `n` is the inputted number.\n",
    "\n",
    "e.g. \n",
    "\n",
    "```\n",
    "n=10 -> 23\n",
    "n=25 -> 143\n",
    "n=50 -> 543\n",
    "n=100 -> 2318\n",
    "```"
   ]
  },
  {
   "cell_type": "code",
   "execution_count": 30,
   "metadata": {},
   "outputs": [
    {
     "name": "stdout",
     "output_type": "stream",
     "text": [
      "input: 10, output: 23 \n",
      "\n",
      "input: 25, output: 143 \n",
      "\n",
      "input: 50, output: 543 \n",
      "\n",
      "input: 100, output: 2318 \n",
      "\n",
      "input: 3, output: 0 \n",
      "\n",
      "input: 5, output: 3 \n",
      "\n",
      "input: 0, output: 0 \n",
      "\n",
      "input: -1, output: 0 \n",
      "\n"
     ]
    }
   ],
   "source": [
    "def sum_of_threes_and_fives(n=100):\n",
    "    summation = 0\n",
    "    for num in range(n):\n",
    "        if num % 3==0 or num % 5==0:\n",
    "            summation += num\n",
    "    return summation\n",
    "\n",
    "input_number = [10,25,50,100,3,5,0,-1]\n",
    "for n in input_number:\n",
    "    print(f\"input: {n}, output: {sum_of_threes_and_fives(n)} \\n\")"
   ]
  },
  {
   "cell_type": "code",
   "execution_count": null,
   "metadata": {},
   "outputs": [],
   "source": []
  }
 ],
 "metadata": {
  "kernelspec": {
   "display_name": "Python 3",
   "language": "python",
   "name": "python3"
  },
  "language_info": {
   "codemirror_mode": {
    "name": "ipython",
    "version": 3
   },
   "file_extension": ".py",
   "mimetype": "text/x-python",
   "name": "python",
   "nbconvert_exporter": "python",
   "pygments_lexer": "ipython3",
   "version": "3.8.3"
  }
 },
 "nbformat": 4,
 "nbformat_minor": 4
}
