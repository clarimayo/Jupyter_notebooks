{
 "cells": [
  {
   "cell_type": "markdown",
   "metadata": {},
   "source": [
    "<div style=\"background: #000;\n",
    "            color: #FFF;\n",
    "            margin: 0px;\n",
    "                padding: 10px 0px 20px 0px;\n",
    "            text-align: center; \n",
    "                \">\n",
    "    <h1>Week 8 Homework</h1>\n",
    "</div>"
   ]
  },
  {
   "cell_type": "markdown",
   "metadata": {},
   "source": [
    "# Exercise 3:\n",
    "\n",
    "Given a string s containing just the characters `'('`, `')'`, `'{'`, `'}'`, `'['` and `']'`, determine if the input string is valid.\n",
    "\n",
    "An input string is valid if:\n",
    "* Open brackets must be closed by the same type of brackets.\n",
    "* Open brackets must be closed in the correct order.\n",
    "\n",
    "test cases:\n",
    "```\n",
    "Input: s = \"()\"\n",
    "Output: True\n",
    "\n",
    "Input: s = \"()[]{}\"\n",
    "Output: True\n",
    "\n",
    "Input: s = \"(]\"\n",
    "Output: False\n",
    "\n",
    "Input: s = \"([)]\"\n",
    "Output: False\n",
    "\n",
    "Input: s = \"{[]}\"\n",
    "Output: True\n",
    "```"
   ]
  },
  {
   "cell_type": "code",
   "execution_count": 1,
   "metadata": {},
   "outputs": [
    {
     "name": "stdout",
     "output_type": "stream",
     "text": [
      "solution is correct\n"
     ]
    }
   ],
   "source": [
    "# complete the following function:\n",
    "#I made three answers. 1st one passes all test but requires a list and a dictionary to be used. \n",
    "def check_string(input):\n",
    "    temp = []\n",
    "    all_options = {')': '(', '}': '{', ']': '['}\n",
    "    for ch in input:\n",
    "        if ch ==\"[\" or ch==\"(\" or ch==\"{\":\n",
    "            temp.append(ch)\n",
    "        else:\n",
    "            if len(temp) == 0 or all_options[ch] != temp[-1]: \n",
    "                return False\n",
    "            else: temp.pop()\n",
    "    if temp == []:\n",
    "        return True\n",
    "    else:\n",
    "        return False  \n",
    "        \n",
    "#second one passes almost all test. But fails: assert(check_string(\"([)]\")==False) because it's not able to recorgnize\n",
    "#closing parenthesis in between open ones. \n",
    "# def check_string(input):\n",
    "#     temp = []\n",
    "#     for ch in input:\n",
    "#         if ch ==\"[\" or ch==\"(\" or ch==\"{\":   #stack [, (, {\n",
    "#             temp.append(ch)\n",
    "#         for par in temp:\n",
    "#             if ch == \"]\" and par ==\"[\":\n",
    "#                 temp.remove(par)\n",
    "#             elif ch == \")\" and par ==\"(\":\n",
    "#                 temp.remove(par)\n",
    "#             elif ch == \"}\" and par ==\"{\":\n",
    "#                 temp.remove(par)\n",
    "                \n",
    "#     if temp == []:\n",
    "#         return True\n",
    "#     else:\n",
    "# #         print(f\"{temp} still has an open parenthesis in it.\")\n",
    "#         return False\n",
    "\n",
    "\n",
    "#third one passes almost all test. It fails at: assert(check_string(\"()[]{}\") == True) because it can't pair sets of \n",
    "#parenthesis\n",
    "# def check_string(input):\n",
    "#     user_input = input\n",
    "#     while len(user_input)>0:\n",
    "#         if (user_input[0]==\"[\" and user_input[-1] == \"]\") or (user_input[0]==\"(\" and user_input[-1] == \")\") or (user_input[0]==\"{\" and user_input[-1] == \"}\"):\n",
    "#             user_input = user_input[1:-1]\n",
    "#         else:\n",
    "#             return False\n",
    "#     return True\n",
    "\n",
    "\n",
    "# run the cell with the following code\n",
    "# to test your solution\n",
    "try:\n",
    "    assert(check_string(\"()\") == True)\n",
    "    assert(check_string(\"()[]{}\") == True)\n",
    "    assert(check_string(\"(]\") == False)\n",
    "    # bonus points:\n",
    "    # get this test case to work\n",
    "    assert(check_string(\"([)]\")==False)\n",
    "    assert(check_string(\"{[]}\") == True)\n",
    "    assert(check_string(\"[[[\") == False)\n",
    "    print(\"solution is correct\")\n",
    "except AssertionError:\n",
    "    print(\"solution is incorrect\")\n",
    "    print(\"please check your code.\")"
   ]
  },
  {
   "cell_type": "code",
   "execution_count": null,
   "metadata": {},
   "outputs": [],
   "source": [
    "soup.select('div') ",
    "# All elements named <div> ",
    " ",
    "soup.select('#author') ",
    "# The element with an id attribute of author ",
    " ",
    "soup.select('.notice') ",
    "# All elements that use a CSS class attribute named notice ",
    " ",
    "soup.select('div span') ",
    "# All elements named <span> that are within an element named <div> ",
    " ",
    "soup.select('div > span') ",
    "# All elements named <span> that are directly within an element named <div>, ",
    "# with no other element in between ",
    " ",
    "soup.select('input[name]') ",
    "# All elements named <input> that have a name attribute with any value ",
    " ",
    "soup.select('input[type=\"button\"]') ",
    "# All elements named <input> that have an attribute named type with value button ",
    "\n",
    "From Juan P to Everyone: (9:07 PM)\n",
    " ",
    "it looks like the selector is called #thetable? ",
    "\n"
   ]
  }
 ],
 "metadata": {
  "kernelspec": {
   "display_name": "Python 3",
   "language": "python",
   "name": "python3"
  },
  "language_info": {
   "codemirror_mode": {
    "name": "ipython",
    "version": 3
   },
   "file_extension": ".py",
   "mimetype": "text/x-python",
   "name": "python",
   "nbconvert_exporter": "python",
   "pygments_lexer": "ipython3",
   "version": "3.8.3"
  }
 },
 "nbformat": 4,
 "nbformat_minor": 4
}
