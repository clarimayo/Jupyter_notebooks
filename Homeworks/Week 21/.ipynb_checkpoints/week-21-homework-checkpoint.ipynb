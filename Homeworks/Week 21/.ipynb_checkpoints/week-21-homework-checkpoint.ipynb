{
 "cells": [
  {
   "cell_type": "markdown",
   "metadata": {},
   "source": [
    "<div style=\"background: #000;\n",
    "            color: #FFF;\n",
    "            margin: 0px;\n",
    "            padding: 10px 0px 20px 0px;\n",
    "            text-align: center; \n",
    "                \">\n",
    "    <h1 >Week 21 Homework</h1>\n",
    "</div>"
   ]
  },
  {
   "cell_type": "markdown",
   "metadata": {},
   "source": [
    "# Exercise 1\n"
   ]
  },
  {
   "cell_type": "markdown",
   "metadata": {},
   "source": [
    "Given a $m x n$ matrix grid which is sorted in non-increasing order **both row-wise and column-wise**, return the number of negative numbers in grid.\n",
    "\n",
    "**Example 1**:  \n",
    "**Input**: `grid = [[4,3,2,-1],[3,2,1,-1],[1,1,-1,-2],[-1,-1,-2,-3]]`  \n",
    "**Output**: 8  \n",
    "**Explanation**: There are 8 negatives number in the matrix.  \n",
    "\n",
    "**Example 2**:  \n",
    "**Input**: `grid = [[3,2],[1,0]]`  \n",
    "**Output**: 0  \n",
    "\n",
    "**Example 3**:  \n",
    "**Input**: `grid = [[1,-1],[-1,-1]]`   \n",
    "**Output**: 3  \n",
    "\n",
    "**Example 4**:  \n",
    "**Input**: `grid = [[-1]]`  \n",
    "**Output**: 1  \n",
    "\n",
    "**hint**: there's a way to do this that is worst case `O(m * log(n))` where m is the number of rows. And even this solution can be optimized if you consider the non-increasing order of both rows and columns.\n",
    "\n",
    "**side note**: there's an even quicker way to do all of this that can be done in one line but it's sorta cheating."
   ]
  },
  {
   "cell_type": "code",
   "execution_count": null,
   "metadata": {},
   "outputs": [],
   "source": [
    "#Using python\n",
    "def exercise1(grid):\n",
    "    count = 0\n",
    "    for num in grid:\n",
    "        for item in num:\n",
    "            if item <0:\n",
    "                count+=1\n",
    "    return count\n",
    "            \n",
    "\n",
    "exercise1([[4,3,2,-1],[3,2,1,-1],[1,1,-1,-2],[-1,-1,-2,-3]])"
   ]
  },
  {
   "cell_type": "code",
   "execution_count": null,
   "metadata": {},
   "outputs": [],
   "source": [
    "#Using numpy library\n",
    "import numpy as np\n",
    "def exercise1(grid):\n",
    "    return np.count_nonzero(np.array(grid) < 0)\n",
    "\n",
    "exercise1([[4,3,2,-1],[3,2,1,-1],[1,1,-1,-2],[-1,-1,-2,-3]])"
   ]
  },
  {
   "cell_type": "code",
   "execution_count": null,
   "metadata": {},
   "outputs": [],
   "source": [
    "import unittest\n",
    "\n",
    "class Test(unittest.TestCase):\n",
    "    def test(self):\n",
    "        args = {\n",
    "            # here we're using ret as keys and args as values\n",
    "            # because lists cannot be keys (since they're mutable)\n",
    "            8: [[4,3,2,-1],[3,2,1,-1],[1,1,-1,-2],[-1,-1,-2,-3]],\n",
    "            0: [[3,2],[1,0]],\n",
    "            3: [[1,-1],[-1,-1]],\n",
    "            1: [[-1]]\n",
    "        }\n",
    "        for ret, arg in args.items():\n",
    "            # subTest continues tests even if one fails\n",
    "            # also allows us to see arguments passed to test\n",
    "            with self.subTest(arg=arg, ret=ret):\n",
    "                self.assertEqual(exercise1(arg), ret)\n",
    "        \n",
    "\n",
    "unittest.main(argv=[''], verbosity=0, exit=False)"
   ]
  },
  {
   "cell_type": "markdown",
   "metadata": {},
   "source": [
    "# Exercise 2\n",
    "\n"
   ]
  },
  {
   "cell_type": "markdown",
   "metadata": {},
   "source": [
    "**Balanced** strings are those that have an equal quantity of `'L'` and `'R'` characters.\n",
    "\n",
    "Given a balanced string `s`, split it in the maximum amount of balanced strings.\n",
    "\n",
    "Return the maximum amount of split balanced strings.\n",
    "\n",
    "**Example 1**:\n",
    "\n",
    "**Input**: s = \"RLRRLLRLRL\"  \n",
    "**Output**: 4  \n",
    "**Explanation**: s can be split into \"RL\", \"RRLL\", \"RL\", \"RL\", each substring contains same number of 'L' and 'R'.\n",
    "\n",
    "**Example 2**:\n",
    "\n",
    "**Input**: s = \"RLLLLRRRLR\"  \n",
    "**Output**: 3  \n",
    "**Explanation**: s can be split into \"RL\", \"LLLRRR\", \"LR\", each substring contains same number of 'L' and 'R'.\n",
    "\n",
    "**Example 3**:\n",
    "\n",
    "**Input**: s = \"LLLLRRRR\"  \n",
    "**Output**: 1  \n",
    "**Explanation**: s can be split into \"LLLLRRRR\".\n",
    "\n",
    "**Example 4**:\n",
    "\n",
    "**Input**: s = \"RLRRRLLRLL\"  \n",
    "**Output**: 2  \n",
    "**Explanation**: s can be split into \"RL\", \"RRRLLRLL\", since each substring contains an equal number of 'L' and 'R'\n"
   ]
  },
  {
   "cell_type": "markdown",
   "metadata": {},
   "source": [
    "1. Define 3 counters. One that will increase everytime we encounter L and another will increase everytime we encounter R. The third counter will count the amount of times that our R and L counters were restarted to zero. \n",
    "2. Loop through the string.\n",
    "3. Everytime our letter is equal to R, the R counter will increase. Everytime the L is encounter, the L counter will increase.\n",
    "4. When R conter and L counter are equal to each other: We will restart them to zero and increase the third counter by one. \n",
    "3. Finally return the third counter"
   ]
  },
  {
   "cell_type": "code",
   "execution_count": 2,
   "metadata": {},
   "outputs": [
    {
     "name": "stdout",
     "output_type": "stream",
     "text": [
      "4\n",
      "3\n",
      "1\n",
      "2\n",
      "0\n"
     ]
    }
   ],
   "source": [
    "def exercise2(s):\n",
    "    final_counter = 0\n",
    "    r_counter =0\n",
    "    l_counter =0\n",
    "    if s == None or len(s)==0:\n",
    "        return 0\n",
    "    for letter in s:\n",
    "        if letter == \"R\":\n",
    "            r_counter += 1\n",
    "        if letter == \"L\":\n",
    "            l_counter += 1\n",
    "        if r_counter == l_counter:\n",
    "            final_counter +=1\n",
    "            r_counter = 0\n",
    "            l_counter = 0\n",
    "    return final_counter\n",
    "\n",
    "    \n",
    "print(exercise2(\"RLRRLLRLRL\"))  #\n",
    "print(exercise2(\"RLLLLRRRLR\"))\n",
    "print(exercise2(\"LLLLRRRR\"))\n",
    "print(exercise2(\"RLRRRLLRLL\"))\n",
    "print(exercise2(\"\"))"
   ]
  },
  {
   "cell_type": "code",
   "execution_count": 3,
   "metadata": {},
   "outputs": [
    {
     "name": "stderr",
     "output_type": "stream",
     "text": [
      "----------------------------------------------------------------------\n",
      "Ran 1 test in 0.000s\n",
      "\n",
      "OK\n"
     ]
    },
    {
     "data": {
      "text/plain": [
       "<unittest.main.TestProgram at 0x7fa7054476a0>"
      ]
     },
     "execution_count": 3,
     "metadata": {},
     "output_type": "execute_result"
    }
   ],
   "source": [
    "import unittest\n",
    "\n",
    "class Test(unittest.TestCase):\n",
    "    def test_exercise2(self):\n",
    "        args = {\n",
    "            \"\": 0,\n",
    "            \"RLRRLLRLRL\": 4,\n",
    "            \"RLLLLRRRLR\": 3,\n",
    "            \"LLLLRRRR\": 1,\n",
    "            \"RLRRRLLRLL\": 2,\n",
    "        }\n",
    "        for arg, ret in args.items():\n",
    "            # subTest continues tests even if one fails\n",
    "            # also allows us to see arguments passed to test\n",
    "            with self.subTest(arg=arg, ret=ret):\n",
    "                self.assertEqual(exercise2(arg), ret)\n",
    "\n",
    "unittest.main(argv=[''], verbosity=0, exit=False)"
   ]
  },
  {
   "cell_type": "markdown",
   "metadata": {},
   "source": [
    "# Exercise 3\n",
    "\n",
    "Implement a last in first out (LIFO) stack using only two queues. The implemented stack should support all the functions of a normal queue (push, top, pop, and empty).\n",
    "\n",
    "Implement the MyStack class:\n",
    "* `void push(int x)` Pushes element x to the top of the stack.\n",
    "* `int pop()` Removes the element on the top of the stack and returns it.\n",
    "* `int top()` Returns the element on the top of the stack.\n",
    "* `boolean empty()` Returns true if the stack is empty, false otherwise.  \n",
    "(`void push(int x)` is C/C++ style syntax that means function `push` takes an integer `x` and returns `void` meaning nothing; `int pop()` means function `pop` takes no arguments but returns an integer) \n",
    "\n",
    "\n",
    "Notes:\n",
    "* You must use only standard operations of a queue, which means only push to back, peek/pop from front, size, and is empty operations are valid.\n",
    "* Depending on your language, the queue may not be supported natively. You may simulate a queue using a list or deque (double-ended queue), as long as you use only a queue's standard operations."
   ]
  },
  {
   "cell_type": "markdown",
   "metadata": {},
   "source": [
    "--LIFO(LastInFirstOut)- Last in first out- similar to stacking books inside a box-- The last book in is the first one to come out. You can't get to the bottom one wihout taking all the top ones first (STACK)\n",
    "\n",
    "\n",
    "Stack: if we have 3 elements [1,2,3] if we pop, 3 will be the first element to be popped. If you push 4, then you will have [1,2,4]\n",
    "\n",
    "\n",
    "--FIFO(FirstInFirstOut)- similar to going to supermarket and being on the line-The first customer on the line is the first to be attended and leave. You can't get to the last customer before attending all the ones before it (or they will get upset because there is an order) (Queue)\n",
    "\n",
    "Queue: [1,2,3] if we pop, 1 will be the number to be popped. If we push 4,  [2,3,4]\n",
    "#similar operation is push. it will always push at the end of it. "
   ]
  },
  {
   "cell_type": "code",
   "execution_count": 34,
   "metadata": {},
   "outputs": [],
   "source": [
    "from collections import deque\n",
    "\n",
    "class MyStack:\n",
    "    def __init__(self):\n",
    "        self.queue = deque() \n",
    "\n",
    "    def push(self, x: int) -> None: \n",
    "        \"\"\"\n",
    "        Push element x onto stack.\n",
    "        \"\"\"\n",
    "        self.queue.appendleft(x)\n",
    "        \n",
    "\n",
    "    def pop(self) -> int: \n",
    "        \"\"\"\n",
    "        Removes the element on top of the stack and returns that element.\n",
    "        \"\"\"\n",
    "        if len(self.queue) > 0:\n",
    "            val = self.queue.popleft() \n",
    "            return val \n",
    "\n",
    "    def top(self) -> int: \n",
    "        \"\"\"\n",
    "        Get the top element.\n",
    "        \"\"\"\n",
    "        if len(self.queue) > 0:\n",
    "            return self.queue[0] \n",
    "\n",
    "    def empty(self) -> bool:\n",
    "        \"\"\"\n",
    "        Returns whether the stack is empty.\n",
    "        \"\"\"\n",
    "        return len(self.queue) == 0"
   ]
  },
  {
   "cell_type": "code",
   "execution_count": 35,
   "metadata": {},
   "outputs": [],
   "source": [
    "# Your MyStack object will be instantiated\n",
    "# and called using the following function:\n",
    "def test_stack(*args):\n",
    "    obj = MyStack()\n",
    "    for arg in args:\n",
    "        obj.push(arg)\n",
    "    pop = obj.pop()\n",
    "    top = obj.top()\n",
    "    empty = obj.empty()\n",
    "    return pop, top, empty"
   ]
  },
  {
   "cell_type": "code",
   "execution_count": 36,
   "metadata": {},
   "outputs": [
    {
     "data": {
      "text/plain": [
       "(6, 5, False)"
      ]
     },
     "execution_count": 36,
     "metadata": {},
     "output_type": "execute_result"
    }
   ],
   "source": [
    "test_stack(1,2,3,4,5,6)"
   ]
  },
  {
   "cell_type": "code",
   "execution_count": 37,
   "metadata": {},
   "outputs": [
    {
     "name": "stderr",
     "output_type": "stream",
     "text": [
      "----------------------------------------------------------------------\n",
      "Ran 1 test in 0.000s\n",
      "\n",
      "OK\n"
     ]
    },
    {
     "data": {
      "text/plain": [
       "<unittest.main.TestProgram at 0x7fa7054d0fa0>"
      ]
     },
     "execution_count": 37,
     "metadata": {},
     "output_type": "execute_result"
    }
   ],
   "source": [
    "import unittest\n",
    "\n",
    "class Test(unittest.TestCase):\n",
    "    def test_exercise3(self):\n",
    "        args = {\n",
    "            # key is arguments\n",
    "            # value is expected return\n",
    "            ():(None, None, True), \n",
    "            (1,): (1, None, True), \n",
    "            (1,2,3): (3, 2, False), \n",
    "            (3,4): (4, 3, False), \n",
    "            (1,2,3,4,5,6): (6, 5, False),\n",
    "        }\n",
    "        for arg, ret in args.items():\n",
    "            # subTest continues tests even if one fails\n",
    "            # also allows us to see arguments passed to test\n",
    "            with self.subTest(arg=arg, ret=ret):\n",
    "                \n",
    "                self.assertEqual(test_stack(*arg), ret)\n",
    "        \n",
    "unittest.main(argv=[''], verbosity=0, exit=False)"
   ]
  },
  {
   "cell_type": "code",
   "execution_count": null,
   "metadata": {},
   "outputs": [],
   "source": []
  }
 ],
 "metadata": {
  "kernelspec": {
   "display_name": "Python 3",
   "language": "python",
   "name": "python3"
  },
  "language_info": {
   "codemirror_mode": {
    "name": "ipython",
    "version": 3
   },
   "file_extension": ".py",
   "mimetype": "text/x-python",
   "name": "python",
   "nbconvert_exporter": "python",
   "pygments_lexer": "ipython3",
   "version": "3.8.3"
  }
 },
 "nbformat": 4,
 "nbformat_minor": 5
}
