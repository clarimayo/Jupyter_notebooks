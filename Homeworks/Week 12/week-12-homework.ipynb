{
 "cells": [
  {
   "cell_type": "markdown",
   "metadata": {},
   "source": [
    "# Week 12 Homework\n",
    "\n",
    "Due Wednesday December 8th. \n",
    "\n",
    "Try to take this as a practice test with a 3 hour limit."
   ]
  },
  {
   "cell_type": "markdown",
   "metadata": {},
   "source": [
    "### Exercise 1\n",
    "\n",
    "Create a function that takes a list of strings and outputs a dictionary where the key is the string and the value is the length of the corresponding string."
   ]
  },
  {
   "cell_type": "code",
   "execution_count": 40,
   "metadata": {},
   "outputs": [
    {
     "name": "stdout",
     "output_type": "stream",
     "text": [
      "solution is correct\n"
     ]
    }
   ],
   "source": [
    "def ex1(lst):\n",
    "    return {string: len(string) for string in lst }\n",
    "\n",
    "try:\n",
    "    assert(ex1(['']) == {'': 0})\n",
    "    assert(ex1(['a']) == {'a': 1})\n",
    "    assert(ex1(['hello', 'world']) == {'hello': 5, 'world': 5})\n",
    "    assert(ex1(['python', 'data', 'science']) == {'python': 6, 'data': 4, 'science': 7})\n",
    "    assert(ex1(['a']) == {'a': 1})\n",
    "    print(\"solution is correct\")\n",
    "except:\n",
    "    print(\"solution is incorrect\")\n",
    "    "
   ]
  },
  {
   "cell_type": "markdown",
   "metadata": {},
   "source": [
    "### Exercise 2\n",
    "\n",
    "Create a function that outputs all the even numbers under 500 that are also divisible by 9."
   ]
  },
  {
   "cell_type": "code",
   "execution_count": 1,
   "metadata": {},
   "outputs": [
    {
     "name": "stdout",
     "output_type": "stream",
     "text": [
      "solution is correct\n"
     ]
    }
   ],
   "source": [
    "def ex2():\n",
    "    new_list = []\n",
    "    for num in range(500):\n",
    "        if num % 2 ==0 and num % 9 == 0:\n",
    "            new_list.append(num)\n",
    "    return new_list\n",
    "\n",
    "try:\n",
    "    assert(ex2() == [0,18,36,54,72,90,108,126,144,162,180,198,216,234,252,270,288,306,324,342,360,378,396,414,432,450,468,486])\n",
    "    print(\"solution is correct\")\n",
    "except:\n",
    "    print(\"solution is incorrect\")"
   ]
  },
  {
   "cell_type": "markdown",
   "metadata": {},
   "source": [
    "### Exercise 3\n",
    "\n",
    "Create a class that implements a linked list."
   ]
  },
  {
   "cell_type": "code",
   "execution_count": 31,
   "metadata": {},
   "outputs": [
    {
     "data": {
      "text/plain": [
       "4"
      ]
     },
     "execution_count": 31,
     "metadata": {},
     "output_type": "execute_result"
    }
   ],
   "source": [
    "class Node:  #1.create reference to Node class\n",
    "    def __init__(self, data): #structure of the data that we will be putting inside the list. The elements\n",
    "        self.data = data  #piece of data\n",
    "        self.next = None  #pointer to the other class\n",
    "        \n",
    "class LinkedList: ##2. creare reference of second class\n",
    "    def __init__(self):  #we could pass node = None so is optional to pass \n",
    "        self.tail = None #and then set this to node\n",
    "        self.head = None  #and this to node\n",
    "        self.count = 0   #zero elements\n",
    "        \n",
    "    def iterate_items(self):   #generator that iterate through the list. we can pass it in next() to get one value at a time\n",
    "        current_item = self.head  #start from the beginning of the list\n",
    "        while current_item:\n",
    "            val = current_item.data\n",
    "            current_item = current_item.next\n",
    "            yield val\n",
    "            \n",
    "    def append(self, data):   \n",
    "        node = Node(data)  #we will pass the data inside the tail. #create a node using data\n",
    "        if self.tail:  #if there is a list that exist because if there is\n",
    "            #a list then there is already a tail\n",
    "            self.tail.next = node\n",
    "            self.tail = node\n",
    "        else:\n",
    "            self.tail = node  #if tail doesn't exist the list is empty\n",
    "            self.head = node\n",
    "        self.count += 1\n",
    "        \n",
    "items = LinkedList()\n",
    "items.append('HTML')  # we can pass a value to method append\n",
    "items.append('CSS')\n",
    "items.append('Javascript')\n",
    "items.append('Python')\n",
    "items.count"
   ]
  },
  {
   "cell_type": "code",
   "execution_count": 30,
   "metadata": {},
   "outputs": [
    {
     "name": "stdout",
     "output_type": "stream",
     "text": [
      "<Node data: 5>\n",
      "<Node data: 10>\n",
      "<Node data: 15>\n",
      "<Node data: 20>\n",
      "<Node data: 25>\n",
      "<Node data: 30>\n",
      "<Node data: 35>\n",
      "<Node data: 40>\n"
     ]
    }
   ],
   "source": [
    "class Node:\n",
    "    def __init__(self, data):\n",
    "        self.data = data\n",
    "        self.next = None\n",
    "    def __repr__(self):\n",
    "        return f\"<Node data: {self.data}>\"\n",
    "class LinkedList:\n",
    "    def __init__(self, node=None):\n",
    "        self.head = node\n",
    "        self.tail = node\n",
    "    def append(self, data):\n",
    "        new_node = Node(data)\n",
    "        if self.tail:\n",
    "            self.tail.next = new_node\n",
    "            self.tail = new_node\n",
    "        else: \n",
    "            self.head = new_node\n",
    "            self.tail = new_node\n",
    "    def output_list(self):\n",
    "        current_node = self.head\n",
    "        while current_node:\n",
    "            print(current_node)\n",
    "            current_node = current_node.next\n",
    "    def __repr__(self):\n",
    "        return f\"<Linked List {self.head} {self.tail}>\"\n",
    "node = Node(5)        \n",
    "linked_list = LinkedList(node)\n",
    "linked_list.append(10)\n",
    "linked_list.append(15)\n",
    "linked_list.append(20)\n",
    "linked_list.append(25)\n",
    "linked_list.append(30)\n",
    "linked_list.append(35)\n",
    "linked_list.append(40)\n",
    "linked_list.output_list()"
   ]
  },
  {
   "cell_type": "markdown",
   "metadata": {},
   "source": [
    "### Exercise 4\n",
    "\n",
    "Given the following two sets, assign to variable `m` the numbers that are contained by both sets (the numbers that are in both s and t)."
   ]
  },
  {
   "cell_type": "code",
   "execution_count": 52,
   "metadata": {},
   "outputs": [
    {
     "name": "stdout",
     "output_type": "stream",
     "text": [
      "solution is correct\n"
     ]
    }
   ],
   "source": [
    "s = {0,2,4,6,8,10}\n",
    "t = {0,1,3,5,7,9}\n",
    "\n",
    "m = s.intersection(t)\n",
    "\n",
    "try:\n",
    "    assert(m == {0})\n",
    "    print(\"solution is correct\")\n",
    "except:\n",
    "    print(\"solution is incorrect\")"
   ]
  },
  {
   "cell_type": "markdown",
   "metadata": {},
   "source": [
    "### Exercise 5\n",
    "\n",
    "Fix the following class definition so that the code runs without error. (Only change the class definition)."
   ]
  },
  {
   "cell_type": "code",
   "execution_count": 33,
   "metadata": {},
   "outputs": [
    {
     "name": "stdout",
     "output_type": "stream",
     "text": [
      "solution is correct\n"
     ]
    }
   ],
   "source": [
    "class Exercise5:\n",
    "    def __init__(self, num, lname, fname):\n",
    "        self.num = num\n",
    "        self.last_name = lname\n",
    "        self.first_name = fname\n",
    "        \n",
    "    @property\n",
    "    def get_attrs(self):\n",
    "        return [self.num, self.last_name, self.first_name]\n",
    "    \n",
    "instance = Exercise5('46', 'Biden', 'Joe')\n",
    "\n",
    "try:\n",
    "    assert(instance.get_attrs == ['46', 'Biden', 'Joe'])\n",
    "    print(\"solution is correct\")\n",
    "except:\n",
    "    print(\"solution is incorrect\")"
   ]
  },
  {
   "cell_type": "markdown",
   "metadata": {},
   "source": [
    "### Exercise 6\n",
    "\n",
    "Create a class called `Time` that takes two arguments (`hours` and `minutes`) and sets them as instance attributes. Then create a function that overloads the addition and equality operators so you can add the times together and then check if two instances are equal in time."
   ]
  },
  {
   "cell_type": "code",
   "execution_count": 94,
   "metadata": {},
   "outputs": [
    {
     "name": "stdout",
     "output_type": "stream",
     "text": [
      "solution is correct\n"
     ]
    }
   ],
   "source": [
    "class Time:\n",
    "    def __init__(self, hours, minutes):\n",
    "        self.hours = hours\n",
    "        self.minutes= minutes\n",
    "        \n",
    "    def __add__(self, other):\n",
    "        #30 + 30 = 60 --> 1 hour\n",
    "        minutes = self.minutes + other.minutes\n",
    "        carry = 0\n",
    "        if minutes >= 60:\n",
    "            minutes -= 60\n",
    "            carry += 1\n",
    "            \n",
    "        hours = self.hours + other.hours + carry\n",
    "        return Time(hours,minutes)\n",
    "    \n",
    "    def __eq__(self,other):\n",
    "        return self.minutes == other.minutes and self.hours == other.hours\n",
    "        \n",
    "time1 = Time(0, 30)\n",
    "time2 = Time(1, 30)\n",
    "time3 = Time(2, 0)\n",
    "\n",
    "try:\n",
    "    assert(time1 + time2 == time3)\n",
    "    print(\"solution is correct\")\n",
    "except:\n",
    "    print(\"solution is incorrect\")"
   ]
  },
  {
   "cell_type": "code",
   "execution_count": 6,
   "metadata": {},
   "outputs": [
    {
     "name": "stdout",
     "output_type": "stream",
     "text": [
      "solution is correct\n"
     ]
    }
   ],
   "source": [
    "#Second solution we worked on in class\n",
    "class Time:\n",
    "    def __init__(self, hours, minutes):\n",
    "        self.hours = hours\n",
    "        self.minutes= minutes\n",
    "        self.total_time = self.hours * 60 + self.minutes\n",
    "        \n",
    "    def __repr__(self):\n",
    "        return f\"Time h: {self.hours} m: {self.minutes})\"\n",
    "\n",
    "    def __add__(self, other):\n",
    "        if isinstance(other, Time):\n",
    "            added_time = self.total_time +other.total_time\n",
    "            return Time(added_time // 60 , added_time % 60)\n",
    "    \n",
    "    def __eq__(self,other):\n",
    "        if isinstance(other, Time):     \n",
    "            if self.total_time == other.total_time:\n",
    "                return True\n",
    "\n",
    "        \n",
    "time1 = Time(0, 30)\n",
    "time2 = Time(1, 30)\n",
    "time3 = Time(2, 0)\n",
    "\n",
    "try:\n",
    "    assert(time1 + time2 == time3)\n",
    "    print(\"solution is correct\")\n",
    "except:\n",
    "    print(\"solution is incorrect\")"
   ]
  },
  {
   "cell_type": "markdown",
   "metadata": {},
   "source": [
    "### Exercise 7\n",
    "\n",
    "Create a function that creates an `m` by `n` matrix (`m` rows and `n` columns) filled with zeros."
   ]
  },
  {
   "cell_type": "code",
   "execution_count": 7,
   "metadata": {},
   "outputs": [
    {
     "name": "stdout",
     "output_type": "stream",
     "text": [
      "solution is correct\n"
     ]
    }
   ],
   "source": [
    "def ex7(m,n):\n",
    "    lst = [[0] *n for num in range(m)]\n",
    "    return lst\n",
    "\n",
    "try:\n",
    "    assert(ex7(0,0) == [])\n",
    "    assert(ex7(1,1) == [[0]])\n",
    "    assert(ex7(2,2) == [[0,0],[0,0]])\n",
    "    assert(ex7(3,5) == [[0, 0, 0, 0, 0], [0, 0, 0, 0, 0], [0, 0, 0, 0, 0]])\n",
    "    print(\"solution is correct\")\n",
    "except:\n",
    "    print(\"solution is incorrect\")"
   ]
  },
  {
   "cell_type": "markdown",
   "metadata": {},
   "source": [
    "### Exercise 8\n",
    "\n",
    "Create a function that takes an arbitrary number of integer arguments and sums them."
   ]
  },
  {
   "cell_type": "code",
   "execution_count": 8,
   "metadata": {},
   "outputs": [
    {
     "name": "stdout",
     "output_type": "stream",
     "text": [
      "solution is correct\n"
     ]
    }
   ],
   "source": [
    "def ex8(*args):\n",
    "    return sum(args)\n",
    "        \n",
    "try:\n",
    "    assert(ex8(3,5,7) == 15)\n",
    "    assert(ex8(2,4) == 6)\n",
    "    assert(ex8(*range(10)) == 45)\n",
    "    print(\"solution is correct\")\n",
    "except:\n",
    "    print(\"solution is incorrect\")"
   ]
  },
  {
   "cell_type": "markdown",
   "metadata": {},
   "source": [
    "### Exercise 9\n",
    "\n",
    "Create a decorator function that wraps the following function so that the string returned has anchor tags (e.g `<a>hello world</a>`)"
   ]
  },
  {
   "cell_type": "code",
   "execution_count": 59,
   "metadata": {},
   "outputs": [
    {
     "name": "stdout",
     "output_type": "stream",
     "text": [
      "solution is correct\n"
     ]
    }
   ],
   "source": [
    "def decorator_function(func):\n",
    "    def wrapper():\n",
    "        return f\"<a>{func()}</a>\"   #if we print it will only print but function will not return something\n",
    "    return wrapper\n",
    "\n",
    "@decorator_function\n",
    "def func():\n",
    "    return \"hello world\"\n",
    "try:\n",
    "    assert(func() == '<a>hello world</a>')  #asserting that it returns something\n",
    "    print(\"solution is correct\")\n",
    "except:\n",
    "    print(\"solution is incorrect\")"
   ]
  },
  {
   "cell_type": "markdown",
   "metadata": {},
   "source": [
    "### Exercise 10\n",
    "\n",
    "Using list comprehension, create a list with two for loops that generate the following output:\n",
    "\n",
    "[('0', '0'), ('0', '1'), ('1', '0'), ('1', '1')]"
   ]
  },
  {
   "cell_type": "code",
   "execution_count": 9,
   "metadata": {},
   "outputs": [
    {
     "name": "stdout",
     "output_type": "stream",
     "text": [
      "solution is correct\n"
     ]
    }
   ],
   "source": [
    "l = [(str(num), str(new_num)) for num in range(2) for new_num in range(2)]\n",
    "\n",
    "try:\n",
    "    assert(l == [('0', '0'), ('0', '1'), ('1', '0'), ('1', '1')])\n",
    "    print(\"solution is correct\")\n",
    "except:\n",
    "    print(\"solution is incorrect\")"
   ]
  },
  {
   "cell_type": "markdown",
   "metadata": {},
   "source": [
    "### Exercise 11\n",
    "\n",
    "Create a dictionary comprehension that generates the following dictionary:\n",
    "```\n",
    "{'a': ['*'], 'b': ['*'], 'c': ['*']}\n",
    "```"
   ]
  },
  {
   "cell_type": "code",
   "execution_count": 10,
   "metadata": {},
   "outputs": [
    {
     "name": "stdout",
     "output_type": "stream",
     "text": [
      "solution is correct\n"
     ]
    }
   ],
   "source": [
    "abc = ['a','b', 'c']\n",
    "d = {key:[val] for key in abc for val in ['*']}\n",
    "\n",
    "try:\n",
    "    assert(d == {'a': ['*'], 'b': ['*'], 'c': ['*']})\n",
    "    print(\"solution is correct\")\n",
    "except:\n",
    "    print(\"solution is incorrect\")"
   ]
  },
  {
   "cell_type": "markdown",
   "metadata": {},
   "source": [
    "### Exercise 12\n",
    "\n",
    "Create a lambda expression that takes `a` and `b` and computes `c`: \n",
    "\n",
    "$$ a^2 + b^2 = c^2 $$"
   ]
  },
  {
   "cell_type": "code",
   "execution_count": 11,
   "metadata": {},
   "outputs": [
    {
     "name": "stdout",
     "output_type": "stream",
     "text": [
      "solution is correct\n"
     ]
    }
   ],
   "source": [
    "from math import sqrt\n",
    "\n",
    "f = lambda a,b: sqrt(a**2 + b**2)\n",
    "\n",
    "try:\n",
    "    assert(f(3,4) == 5.0)\n",
    "    assert(f(5,12) == 13.0)\n",
    "    print(\"solution is correct\")\n",
    "except:\n",
    "    print(\"solution is incorrect\")"
   ]
  },
  {
   "cell_type": "markdown",
   "metadata": {},
   "source": [
    "### Exercise 13\n",
    "\n",
    "Create a generator function that yields one even number at a time."
   ]
  },
  {
   "cell_type": "code",
   "execution_count": 12,
   "metadata": {},
   "outputs": [],
   "source": [
    "def print_even(n) : \n",
    "    for i in range(n): \n",
    "        if i % 2 == 0:\n",
    "            yield i\n",
    "\n",
    "var = print_even(25)"
   ]
  },
  {
   "cell_type": "code",
   "execution_count": 13,
   "metadata": {},
   "outputs": [
    {
     "data": {
      "text/plain": [
       "0"
      ]
     },
     "execution_count": 13,
     "metadata": {},
     "output_type": "execute_result"
    }
   ],
   "source": [
    "next(var)"
   ]
  },
  {
   "cell_type": "markdown",
   "metadata": {},
   "source": [
    "### Exercise 14\n",
    "\n",
    "Write a function that recursively calculates the following if `n` is greater than 0. If `n` is less than 0, return 0.5.\n",
    "\n",
    "$$ n = (n-1) + (n-1)$$"
   ]
  },
  {
   "cell_type": "code",
   "execution_count": 15,
   "metadata": {},
   "outputs": [
    {
     "name": "stdout",
     "output_type": "stream",
     "text": [
      "solution is correct\n"
     ]
    }
   ],
   "source": [
    "def ex14(n):\n",
    "    if n < 0:\n",
    "        return 0.5\n",
    "    else:\n",
    "        return 2 * ex14(n-1)        \n",
    "try:\n",
    "    assert(ex14(1) == 2**1)\n",
    "    assert(ex14(2) == 2**2) \n",
    "    assert(ex14(3) == 2**3) \n",
    "    assert(ex14(4) == 2**4) \n",
    "    assert(ex14(10) == 2**10)\n",
    "    print(\"solution is correct\")\n",
    "except:\n",
    "    print(\"solution is incorrect\")"
   ]
  },
  {
   "cell_type": "markdown",
   "metadata": {},
   "source": [
    "#### Exercise 15\n",
    "\n",
    "Write a function that sends a get request to a url and returns the headers. Use the following url to test.\n",
    "\n",
    "https://www.httpbin.org"
   ]
  },
  {
   "cell_type": "code",
   "execution_count": 64,
   "metadata": {},
   "outputs": [
    {
     "data": {
      "text/plain": [
       "{'Date': 'Sun, 06 Dec 2020 21:51:40 GMT', 'Content-Type': 'text/html; charset=utf-8', 'Content-Length': '9593', 'Connection': 'keep-alive', 'Server': 'gunicorn/19.9.0', 'Access-Control-Allow-Origin': '*', 'Access-Control-Allow-Credentials': 'true'}"
      ]
     },
     "execution_count": 64,
     "metadata": {},
     "output_type": "execute_result"
    }
   ],
   "source": [
    "import requests\n",
    "def get_headers():\n",
    "    url = \"https://www.httpbin.org\"\n",
    "    request = requests.get(url)\n",
    "    return request.headers\n",
    "    \n",
    "r = get_headers()\n",
    "r"
   ]
  },
  {
   "cell_type": "markdown",
   "metadata": {},
   "source": [
    "### Exercise 16\n",
    "\n",
    "Write a ternary operator that sets the variable `s` to an input if the length of the input is greater than 25 characters, otherwise set `s` to `None`"
   ]
  },
  {
   "cell_type": "code",
   "execution_count": 19,
   "metadata": {},
   "outputs": [
    {
     "name": "stdout",
     "output_type": "stream",
     "text": [
      "use this inputstringlongerthantwentyfivechar\n",
      "stringlongerthantwentyfivechar\n"
     ]
    }
   ],
   "source": [
    "m = input(\"use this input\")\n",
    "\n",
    "s = m if len(m) > 25 else None\n",
    "\n",
    "print(s)"
   ]
  },
  {
   "cell_type": "markdown",
   "metadata": {},
   "source": [
    "### Exercise 17\n",
    "\n",
    "Using the json library, output the value of the key `menuitem`."
   ]
  },
  {
   "cell_type": "code",
   "execution_count": 70,
   "metadata": {},
   "outputs": [
    {
     "data": {
      "text/plain": [
       "[{'value': 'New', 'onclick': 'CreateNewDoc()'},\n",
       " {'value': 'Open', 'onclick': 'OpenDoc()'},\n",
       " {'value': 'Close', 'onclick': 'CloseDoc()'}]"
      ]
     },
     "execution_count": 70,
     "metadata": {},
     "output_type": "execute_result"
    }
   ],
   "source": [
    "import json\n",
    "\n",
    "s = \"\"\"{\"menu\": {\n",
    "  \"id\": \"file\",\n",
    "  \"value\": \"File\",\n",
    "  \"popup\": {\n",
    "    \"menuitem\": [\n",
    "      {\"value\": \"New\", \"onclick\": \"CreateNewDoc()\"},\n",
    "      {\"value\": \"Open\", \"onclick\": \"OpenDoc()\"},\n",
    "      {\"value\": \"Close\", \"onclick\": \"CloseDoc()\"}\n",
    "    ]\n",
    "  }\n",
    "}}\"\"\"\n",
    "\n",
    "dct = json.loads(s)\n",
    "\n",
    "dct[\"menu\"][\"popup\"][\"menuitem\"]"
   ]
  },
  {
   "cell_type": "markdown",
   "metadata": {},
   "source": [
    "### Exercise 18\n",
    "\n",
    "Using a slice, output the even numbers backwards"
   ]
  },
  {
   "cell_type": "code",
   "execution_count": 83,
   "metadata": {},
   "outputs": [
    {
     "name": "stdout",
     "output_type": "stream",
     "text": [
      "solution is correct\n"
     ]
    }
   ],
   "source": [
    "s = [1,2,3,4,5,6,7,8,9,10]\n",
    "\n",
    "s = s[::-2]\n",
    "\n",
    "try:\n",
    "    assert(s == [10, 8, 6, 4, 2])\n",
    "    print(\"solution is correct\")\n",
    "except:\n",
    "    print(\"solution is incorrect\")"
   ]
  },
  {
   "cell_type": "markdown",
   "metadata": {},
   "source": [
    "### Exercise 19\n",
    "\n",
    "Create a class called `Square` that inherits from `Shape` and overrides the area method."
   ]
  },
  {
   "cell_type": "code",
   "execution_count": 84,
   "metadata": {},
   "outputs": [
    {
     "data": {
      "text/plain": [
       "25"
      ]
     },
     "execution_count": 84,
     "metadata": {},
     "output_type": "execute_result"
    }
   ],
   "source": [
    "class Shape:\n",
    "    def __init__(self, color):\n",
    "        self.color = color\n",
    "        \n",
    "    def area():\n",
    "        pass\n",
    "    \n",
    "class Square(Shape):\n",
    "    def area(self,x):\n",
    "        return x**2\n",
    "        \n",
    "b = Square(\"blue\")\n",
    "b.area(5)    "
   ]
  },
  {
   "cell_type": "code",
   "execution_count": 85,
   "metadata": {},
   "outputs": [
    {
     "name": "stdout",
     "output_type": "stream",
     "text": [
      "True\n"
     ]
    }
   ],
   "source": [
    "class Shape:\n",
    "    def __init__(self, color):\n",
    "        self.color = color\n",
    "        self.shape = \"Shape\"\n",
    "    \n",
    "    def shape_type(self):\n",
    "        return self.shape\n",
    "    \n",
    "    def area():\n",
    "        pass\n",
    "    \n",
    "class Square(Shape):\n",
    "    def __init__(self, color, length):\n",
    "        super().__init__(color)\n",
    "        self.shape = \"Square\"\n",
    "        self.length = length\n",
    "    \n",
    "    def is_square(self):\n",
    "        return True\n",
    "    \n",
    "    def area(self):\n",
    "        return self.length**2\n",
    "    \n",
    "s = Square(\"blue\", 2)\n",
    "print(s.is_square())"
   ]
  },
  {
   "cell_type": "markdown",
   "metadata": {},
   "source": [
    "### Exercise 20\n",
    "\n",
    "Create a function that at worst executes in linear time."
   ]
  },
  {
   "cell_type": "code",
   "execution_count": 20,
   "metadata": {},
   "outputs": [
    {
     "name": "stdout",
     "output_type": "stream",
     "text": [
      "1\n",
      "2\n",
      "3\n",
      "4\n",
      "5\n",
      "6\n",
      "7\n",
      "8\n",
      "9\n"
     ]
    }
   ],
   "source": [
    "#finding item in a list\n",
    "#anything that goes through every item in a list for a constant number of times\n",
    "\n",
    "lst = [1,2,3,4,5,6,7,8,9]\n",
    "for num in lst:\n",
    "    print(num)"
   ]
  },
  {
   "cell_type": "markdown",
   "metadata": {},
   "source": [
    "### Topics for final assessment:\n",
    "\n",
    "### Data Types\n",
    "* Strings\n",
    "* Ints\n",
    "* Floats\n",
    "* Bools\n",
    "\n",
    "### Python Collection Data Structures\n",
    "* Lists \n",
    "* Tuples\n",
    "* Sets\n",
    "* Dictionaries\n",
    "\n",
    "Related topics:\n",
    "* related methods (string, list, dict, set)\n",
    "* built in methods (`abs`, `all`, `any`, `dir`, `format`, `input`, `getattr`, `len`, `max`, `min`, `ord`, `pow`, `print`, `range`, `reversed`, `round`, `setattr`, `sum`, `type`)\n",
    "* indexing/slicing\n",
    "* casting (`bool`, `int`, `str`, `float`, `dict`, `set`)\n",
    "* comprehensions\n",
    "* mutability\n",
    "* arithmetic operators (`+`, `-`, `*`, `/`, `//`, `%`,`**`)\n",
    "* assignment operators (`=`, `+=`, `-=`, `/=`, `//=`, etc.)\n",
    "* comparison operator (`==`, `!=`, `>`, `<`, `>=`, `<=`)\n",
    "* identity operators (`is`, `is not`)\n",
    "* membership operators (`in`, `not in`)\n",
    "\n",
    "### Control Flow/Structures\n",
    "* `if`/`elif`/`else`\n",
    "* `for`\n",
    "* `while`\n",
    "* `with`\n",
    "* `try`/`except`\n",
    "* `pass`/`break`/`continue`\n",
    "* `finally`\n",
    "\n",
    "Related topics:\n",
    "* conditional statements\n",
    "* logical operators (`and`/`or`/`not`)\n",
    "* nested conditionals/loops\n",
    "* boolean values of objects\n",
    "* ternary operators\n",
    "\n",
    "### Functions\n",
    "* function definition/declaration\n",
    "* scope of variables inside functions\n",
    "* positional arguments\n",
    "* keyword arguments\n",
    "* arbitrary arguments (positional and keyword)\n",
    "* unpacking arguments (`*` and `**`)\n",
    "* lambda functions\n",
    "* currying functions\n",
    "* decorator functions\n",
    "* recursion\n",
    "* iterators/generators (`yield`, `next`, `iter`)\n",
    "* functional programming built ins (`map`, `filter`, `zip`)\n",
    "All of these are lazy method\n",
    "#map runs every element in a list through a function and updates the values of the list \n",
    "[1+1,1+2,1+3]\n",
    "\n",
    "filter checks if a condition is true for every element in a list\n",
    "[1%2 ==1 --> remove, 2%2==0 --> keep]\n",
    "\n",
    "reduce will take all elements of a list and turn it into a single value\n",
    "from functiools import reduce since it's not a built in method\n",
    "1+2+3+5+6+7\n",
    "reduce first takes the first two elements, x+ \n",
    "\n",
    "### Classes\n",
    "* class definition\n",
    "* class objects\n",
    "* instance objects\n",
    "* class/instance attributes\n",
    "* class methods\n",
    "* inheritance\n",
    "* multiple inheritance\n",
    "* operator overloading\n",
    "* decorators (`classmethod`, `staticmethod`, `property`)\n",
    "\n",
    "### Modules\n",
    "* modules\n",
    "* packages\n",
    "* importing\n",
    "* scripts\n",
    "\n",
    "### Algorithms and Data Structures\n",
    "* sorting algorithms (no code)\n",
    "* queues\n",
    "* stacks\n",
    "* linked lists\n",
    "* Big O Notation\n",
    "\n",
    "### Other Topics:\n",
    "* errors (handling with `try`/`except` and raising with `raise`\n",
    "* reading and writing files (`with` statement)\n",
    "* file formats (json and csv)\n",
    "* sending web requests (`requests`)\n",
    "* parsing html (`BeautifulSoup`)\n",
    "* crawling/scraping\n",
    "* web requests (`GET`, `POST`, `PUT`, `DELETE`)\n",
    "* CRUD (create, read, update, delete\n",
    "* SQL (tables, columns, rows)\n",
    "* git (adding files, committing, pushing)"
   ]
  },
  {
   "cell_type": "code",
   "execution_count": null,
   "metadata": {},
   "outputs": [],
   "source": []
  }
 ],
 "metadata": {
  "kernelspec": {
   "display_name": "Python 3",
   "language": "python",
   "name": "python3"
  },
  "language_info": {
   "codemirror_mode": {
    "name": "ipython",
    "version": 3
   },
   "file_extension": ".py",
   "mimetype": "text/x-python",
   "name": "python",
   "nbconvert_exporter": "python",
   "pygments_lexer": "ipython3",
   "version": "3.8.3"
  }
 },
 "nbformat": 4,
 "nbformat_minor": 4
}
