{
 "cells": [
  {
   "cell_type": "markdown",
   "metadata": {},
   "source": [
    "<div style=\"background: #000;\n",
    "            color: #FFF;\n",
    "            margin: 0px;\n",
    "            padding: 10px 0px 20px 0px;\n",
    "            text-align: center; \n",
    "                \">\n",
    "    <h1>Week 19 Homework</h1>\n",
    "</div>"
   ]
  },
  {
   "cell_type": "markdown",
   "metadata": {},
   "source": [
    "# Exercise 1\n",
    "\n",
    "Given a $m * n$ matrix mat of ones (representing soldiers) and zeros (representing civilians), return the indexes of the $k$ weakest rows in the matrix ordered from the weakest to the strongest.\n",
    "\n",
    "A row $i$ is weaker than row $j$, if the number of soldiers in row $i$ is less than the number of soldiers in row $j$, or they have the same number of soldiers but $i$ is less than $j$. Soldiers are always stand in the frontier of a row, that is, always ones may appear first and then zeros.\n",
    "\n",
    "Example 1:\n",
    "```\n",
    "Input: mat = \n",
    "[[1,1,0,0,0],\n",
    " [1,1,1,1,0],\n",
    " [1,0,0,0,0],\n",
    " [1,1,0,0,0],\n",
    " [1,1,1,1,1]], \n",
    "k = 3\n",
    "Output: [2,0,3]\n",
    "Explanation: \n",
    "The number of soldiers for each row is: \n",
    "row 0 -> 2 \n",
    "row 1 -> 4 \n",
    "row 2 -> 1 \n",
    "row 3 -> 2 \n",
    "row 4 -> 5 \n",
    "Rows ordered from the weakest to the strongest are [2,0,3,1,4]\n",
    "```\n",
    "Example 2:\n",
    "```\n",
    "Input: mat = \n",
    "[[1,0,0,0],\n",
    " [1,1,1,1],\n",
    " [1,0,0,0],\n",
    " [1,0,0,0]], \n",
    "k = 2\n",
    "Output: [0,2]\n",
    "Explanation: \n",
    "The number of soldiers for each row is: \n",
    "row 0 -> 1 \n",
    "row 1 -> 4 \n",
    "row 2 -> 1 \n",
    "row 3 -> 1 \n",
    "Rows ordered from the weakest to the strongest are [0,2,3,1]\n",
    "```\n",
    " \n",
    "\n",
    "Constraints:\n",
    "\n",
    "    m == mat.length\n",
    "    n == mat[i].length\n",
    "    2 <= n, m <= 100\n",
    "    1 <= k <= m\n",
    "    matrix[i][j] is either 0 or 1.\n"
   ]
  },
  {
   "cell_type": "code",
   "execution_count": 6,
   "metadata": {},
   "outputs": [
    {
     "name": "stdout",
     "output_type": "stream",
     "text": [
      "solution is correct\n"
     ]
    }
   ],
   "source": [
    "from collections import Counter\n",
    "def ex1(matrix, k):\n",
    "    counts = {}\n",
    "    for j, row in enumerate(matrix):\n",
    "        ones_count = 0\n",
    "        for i,v in enumerate(row):\n",
    "            if v ==0: #breaking on the first instance of zero\n",
    "                break\n",
    "            ones_count +=1\n",
    "        counts[j] = ones_count\n",
    "    return sorted(counts.keys(), key=counts.get)[:k]\n",
    "    \n",
    "try:\n",
    "    assert(ex1([[1,1,0,0,0],[1,1,1,1,0],[1,0,0,0,0],[1,1,0,0,0],[1,1,1,1,1]], 3) == [2,0,3]) \n",
    "    assert(ex1([[1,0,0,0],[1,1,1,1],[1,0,0,0],[1,0,0,0]], 2) == [0,2])\n",
    "    print(\"solution is correct\")\n",
    "except AssertionError:\n",
    "    print(\"solution is incorrect\")"
   ]
  },
  {
   "cell_type": "code",
   "execution_count": 5,
   "metadata": {},
   "outputs": [
    {
     "name": "stdout",
     "output_type": "stream",
     "text": [
      "solution is correct\n"
     ]
    }
   ],
   "source": [
    "#1. Loop through each outter list and sum(inner list). \n",
    "#2. Create a dictionary where the key will be the indexes and the values will be the sums.\n",
    "#3. Sort the dictionary by values\n",
    "#4. Convert dictionary.keys() to a list\n",
    "#5. return that lst[:k]\n",
    "\n",
    "               \n",
    "def ex1(matrix, k):\n",
    "    rows = {i:sum(matrix[i]) for i in range(len(matrix))}\n",
    "#     return list(dict(sorted(rows.items(), key=lambda item: item[1])).keys())[:k]\n",
    "    return sorted(rows.keys(), key=rows.get)[:k]\n",
    "\n",
    "    \n",
    "try:\n",
    "    assert(ex1([[1,1,0,0,0],[1,1,1,1,0],[1,0,0,0,0],[1,1,0,0,0],[1,1,1,1,1]], 3) == [2,0,3]) \n",
    "    assert(ex1([[1,0,0,0],[1,1,1,1],[1,0,0,0],[1,0,0,0]], 2) == [0,2])\n",
    "    print(\"solution is correct\")\n",
    "except AssertionError:\n",
    "    print(\"solution is incorrect\")"
   ]
  },
  {
   "cell_type": "markdown",
   "metadata": {},
   "source": [
    "# Exercise 2\n",
    "\n",
    "Given an array of distinct integers arr, where arr is sorted in ascending order, return the smallest index i that satisfies arr[i] == i. If there is no such index, return -1.\n",
    "\n",
    "**Example 1:**\n",
    "\n",
    "`Input`: arr = [-10,-5,0,3,7]  \n",
    "`Output`: 3  \n",
    "Explanation: For the given array, arr[0] = -10, arr[1] = -5, arr[2] = 0, arr[3] = 3, thus the output is 3.  \n",
    "\n",
    "**Example 2:**\n",
    "\n",
    "`Input`: arr = [0,2,5,8,17]  \n",
    "`Output`: 0  \n",
    "Explanation: arr[0] = 0, thus the output is 0.  \n",
    "\n",
    "**Example 3:**\n",
    "\n",
    "`Input`: arr = [-10,-5,3,4,7,9]  \n",
    "`Output`: -1  \n",
    "Explanation: There is no such i that arr[i] == i, thus the output is -1.  "
   ]
  },
  {
   "cell_type": "code",
   "execution_count": 10,
   "metadata": {},
   "outputs": [
    {
     "name": "stdout",
     "output_type": "stream",
     "text": [
      "solution is correct\n"
     ]
    }
   ],
   "source": [
    "def ex2(arr):\n",
    "    for key,val in enumerate(arr):\n",
    "        if key==val:\n",
    "            return val\n",
    "    return -1\n",
    "try:\n",
    "    assert(ex2([-10,-5,0,3,7]) == 3)\n",
    "    assert(ex2([0,2,5,8,17]) == 0)\n",
    "    print(\"solution is correct\")\n",
    "except AssertionError:\n",
    "    print(\"solution is incorrect\")"
   ]
  },
  {
   "cell_type": "code",
   "execution_count": null,
   "metadata": {},
   "outputs": [],
   "source": []
  }
 ],
 "metadata": {
  "kernelspec": {
   "display_name": "Python 3",
   "language": "python",
   "name": "python3"
  },
  "language_info": {
   "codemirror_mode": {
    "name": "ipython",
    "version": 3
   },
   "file_extension": ".py",
   "mimetype": "text/x-python",
   "name": "python",
   "nbconvert_exporter": "python",
   "pygments_lexer": "ipython3",
   "version": "3.8.3"
  }
 },
 "nbformat": 4,
 "nbformat_minor": 4
}
