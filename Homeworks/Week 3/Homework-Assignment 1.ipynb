{
 "cells": [
  {
   "cell_type": "markdown",
   "metadata": {},
   "source": [
    "# Week 1 HW\n",
    "\n",
    "**Exercise 1 and 3 are due Monday 9/21**  \n",
    "**Exercise 2 and 4 are due Tuesday 9/22**  \n",
    "**Exercise 5 and 6 are due Wednesday 9/23**  "
   ]
  },
  {
   "cell_type": "markdown",
   "metadata": {},
   "source": [
    "# Exercise 1"
   ]
  },
  {
   "cell_type": "markdown",
   "metadata": {},
   "source": [
    "a. Set a variable to a user input. "
   ]
  },
  {
   "cell_type": "code",
   "execution_count": 19,
   "metadata": {},
   "outputs": [
    {
     "name": "stdout",
     "output_type": "stream",
     "text": [
      "enter your name: clariza\n"
     ]
    }
   ],
   "source": [
    "name = input(\"enter your name: \")"
   ]
  },
  {
   "cell_type": "markdown",
   "metadata": {},
   "source": [
    "b. Set two variables in the same statement."
   ]
  },
  {
   "cell_type": "code",
   "execution_count": 20,
   "metadata": {},
   "outputs": [
    {
     "name": "stdout",
     "output_type": "stream",
     "text": [
      "hello\n",
      "world\n"
     ]
    }
   ],
   "source": [
    "variable_1 , variable_2 = [\"hello\", \"world\"]\n",
    "print(variable_1)\n",
    "print(variable_2)"
   ]
  },
  {
   "cell_type": "markdown",
   "metadata": {},
   "source": [
    "c. Create a variable with a value that when cast as a bool returns True."
   ]
  },
  {
   "cell_type": "code",
   "execution_count": 21,
   "metadata": {},
   "outputs": [
    {
     "data": {
      "text/plain": [
       "True"
      ]
     },
     "execution_count": 21,
     "metadata": {},
     "output_type": "execute_result"
    }
   ],
   "source": [
    "variable_3 = 34\n",
    "bool(34)"
   ]
  },
  {
   "cell_type": "markdown",
   "metadata": {},
   "source": [
    "d. If we add up all the numbers from 0 to 100, we get 5050. \n",
    "\n",
    "What sum do we get if we add up all the numbers from 0 to 1000?\n",
    "\n",
    "(Show your work)"
   ]
  },
  {
   "cell_type": "code",
   "execution_count": 6,
   "metadata": {},
   "outputs": [
    {
     "ename": "TypeError",
     "evalue": "'int' object is not callable",
     "output_type": "error",
     "traceback": [
      "\u001b[0;31m---------------------------------------------------------------------------\u001b[0m",
      "\u001b[0;31mTypeError\u001b[0m                                 Traceback (most recent call last)",
      "\u001b[0;32m<ipython-input-6-266dfd1eb2e3>\u001b[0m in \u001b[0;36m<module>\u001b[0;34m\u001b[0m\n\u001b[1;32m      5\u001b[0m \u001b[0;34m\u001b[0m\u001b[0m\n\u001b[1;32m      6\u001b[0m \u001b[0;34m\u001b[0m\u001b[0m\n\u001b[0;32m----> 7\u001b[0;31m \u001b[0mprint\u001b[0m\u001b[0;34m(\u001b[0m\u001b[0msum\u001b[0m\u001b[0;34m(\u001b[0m\u001b[0mrange\u001b[0m\u001b[0;34m(\u001b[0m\u001b[0;36m0\u001b[0m\u001b[0;34m,\u001b[0m\u001b[0;36m1001\u001b[0m\u001b[0;34m)\u001b[0m\u001b[0;34m)\u001b[0m\u001b[0;34m)\u001b[0m\u001b[0;34m\u001b[0m\u001b[0;34m\u001b[0m\u001b[0m\n\u001b[0m",
      "\u001b[0;31mTypeError\u001b[0m: 'int' object is not callable"
     ]
    }
   ],
   "source": [
    "# sum = 0\n",
    "# for x in range(1001):\n",
    "#     sum += x\n",
    "# print(sum)\n",
    "\n",
    "\n",
    "print(sum(range(0,1001)))"
   ]
  },
  {
   "cell_type": "markdown",
   "metadata": {},
   "source": [
    "# Exercise 2 \n",
    "\n",
    "Convert the following logical statements into python. Print the result for each possible combination (TT, TF, FT, FF)"
   ]
  },
  {
   "cell_type": "markdown",
   "metadata": {},
   "source": [
    "¬(p || q )  "
   ]
  },
  {
   "cell_type": "code",
   "execution_count": 1,
   "metadata": {},
   "outputs": [
    {
     "data": {
      "text/plain": [
       "False"
      ]
     },
     "execution_count": 1,
     "metadata": {},
     "output_type": "execute_result"
    }
   ],
   "source": [
    "p = True\n",
    "q = True\n",
    "not (p or q)"
   ]
  },
  {
   "cell_type": "code",
   "execution_count": 2,
   "metadata": {},
   "outputs": [
    {
     "data": {
      "text/plain": [
       "False"
      ]
     },
     "execution_count": 2,
     "metadata": {},
     "output_type": "execute_result"
    }
   ],
   "source": [
    "p = True\n",
    "q = False\n",
    "not (p or q)"
   ]
  },
  {
   "cell_type": "code",
   "execution_count": 3,
   "metadata": {},
   "outputs": [
    {
     "data": {
      "text/plain": [
       "False"
      ]
     },
     "execution_count": 3,
     "metadata": {},
     "output_type": "execute_result"
    }
   ],
   "source": [
    "p = False\n",
    "q = True\n",
    "not (p or q)"
   ]
  },
  {
   "cell_type": "code",
   "execution_count": 4,
   "metadata": {},
   "outputs": [
    {
     "data": {
      "text/plain": [
       "True"
      ]
     },
     "execution_count": 4,
     "metadata": {},
     "output_type": "execute_result"
    }
   ],
   "source": [
    "p = False\n",
    "q = False\n",
    "not (p or q)"
   ]
  },
  {
   "cell_type": "markdown",
   "metadata": {},
   "source": [
    "( p || q ) ⊕ ( p & q)"
   ]
  },
  {
   "cell_type": "code",
   "execution_count": 9,
   "metadata": {},
   "outputs": [
    {
     "data": {
      "text/plain": [
       "False"
      ]
     },
     "execution_count": 9,
     "metadata": {},
     "output_type": "execute_result"
    }
   ],
   "source": [
    "p = True\n",
    "q = True\n",
    "(p or q) and (not p or not q)"
   ]
  },
  {
   "cell_type": "code",
   "execution_count": 10,
   "metadata": {},
   "outputs": [
    {
     "data": {
      "text/plain": [
       "True"
      ]
     },
     "execution_count": 10,
     "metadata": {},
     "output_type": "execute_result"
    }
   ],
   "source": [
    "p = True\n",
    "q = False\n",
    "(p or q) and (not p or not q)"
   ]
  },
  {
   "cell_type": "code",
   "execution_count": 11,
   "metadata": {},
   "outputs": [
    {
     "data": {
      "text/plain": [
       "True"
      ]
     },
     "execution_count": 11,
     "metadata": {},
     "output_type": "execute_result"
    }
   ],
   "source": [
    "p = False\n",
    "q = True\n",
    "(p or q) and (not p or not q)"
   ]
  },
  {
   "cell_type": "code",
   "execution_count": 14,
   "metadata": {},
   "outputs": [
    {
     "data": {
      "text/plain": [
       "False"
      ]
     },
     "execution_count": 14,
     "metadata": {},
     "output_type": "execute_result"
    }
   ],
   "source": [
    "p = False\n",
    "q = False\n",
    "(p or q) and (not p or not q)"
   ]
  },
  {
   "cell_type": "markdown",
   "metadata": {},
   "source": [
    "(p & ¬q ) || (¬p & q)"
   ]
  },
  {
   "cell_type": "code",
   "execution_count": 13,
   "metadata": {},
   "outputs": [
    {
     "data": {
      "text/plain": [
       "False"
      ]
     },
     "execution_count": 13,
     "metadata": {},
     "output_type": "execute_result"
    }
   ],
   "source": [
    "p = True\n",
    "q = True\n",
    "(p and not q) or (not p and q)"
   ]
  },
  {
   "cell_type": "code",
   "execution_count": 16,
   "metadata": {},
   "outputs": [
    {
     "data": {
      "text/plain": [
       "True"
      ]
     },
     "execution_count": 16,
     "metadata": {},
     "output_type": "execute_result"
    }
   ],
   "source": [
    "p = True\n",
    "q = False\n",
    "(p and not q) or (not p and q)"
   ]
  },
  {
   "cell_type": "code",
   "execution_count": 17,
   "metadata": {},
   "outputs": [
    {
     "data": {
      "text/plain": [
       "True"
      ]
     },
     "execution_count": 17,
     "metadata": {},
     "output_type": "execute_result"
    }
   ],
   "source": [
    "p = False\n",
    "q = True\n",
    "(p and not q) or (not p and q)"
   ]
  },
  {
   "cell_type": "code",
   "execution_count": 18,
   "metadata": {},
   "outputs": [
    {
     "data": {
      "text/plain": [
       "False"
      ]
     },
     "execution_count": 18,
     "metadata": {},
     "output_type": "execute_result"
    }
   ],
   "source": [
    "p = False\n",
    "q = False\n",
    "(p and not q) or (not p and q)"
   ]
  },
  {
   "cell_type": "markdown",
   "metadata": {},
   "source": [
    "# Exercise 3"
   ]
  },
  {
   "cell_type": "markdown",
   "metadata": {},
   "source": [
    " a. Create an array of strings that consist of five individual zeros followed by five individual ones. Demonstrate that it's an array, and that this is an array of strings using a built-in python function."
   ]
  },
  {
   "cell_type": "code",
   "execution_count": 23,
   "metadata": {},
   "outputs": [
    {
     "name": "stdout",
     "output_type": "stream",
     "text": [
      "['0', '0', '0', '0', '0', '1', '1', '1', '1', '1']\n",
      "<class 'list'>\n",
      "<class 'str'>\n"
     ]
    }
   ],
   "source": [
    "array_of_strings = ['0', '0', '0', '0', '0', '1', '1', '1', '1', '1']\n",
    "\n",
    "print(array_of_strings)\n",
    "print(type(array_of_strings))\n",
    "print(type(array_of_strings[1]))\n",
    "\n",
    "# if '1' or '0' in array_of_strings:\n",
    "#     print(\"strings inside\")\n",
    "# else:\n",
    "#     print(\"not string\")\n",
    "    \n",
    "#if any( 1 in s for s in array_numbers):              #another way of writting the if statement\n",
    "    #print(\"strings inside\")"
   ]
  },
  {
   "cell_type": "markdown",
   "metadata": {},
   "source": [
    "b. Create an array of integers that consists of the same. Output the number of elements in the array using a built-in python function"
   ]
  },
  {
   "cell_type": "code",
   "execution_count": 24,
   "metadata": {},
   "outputs": [
    {
     "name": "stdout",
     "output_type": "stream",
     "text": [
      "<class 'list'>\n"
     ]
    },
    {
     "data": {
      "text/plain": [
       "10"
      ]
     },
     "execution_count": 24,
     "metadata": {},
     "output_type": "execute_result"
    }
   ],
   "source": [
    "#(array of integers\n",
    "array = [0,0,0,0,0,1,1,1,1,1]\n",
    "print(type(array))\n",
    "len(array)"
   ]
  },
  {
   "cell_type": "markdown",
   "metadata": {},
   "source": [
    "c. Create an array of floats that consists of the same. Demonstrate that this array is one of floats using a built-in python function."
   ]
  },
  {
   "cell_type": "code",
   "execution_count": 25,
   "metadata": {},
   "outputs": [
    {
     "name": "stdout",
     "output_type": "stream",
     "text": [
      "<class 'list'>\n",
      "<class 'float'>\n"
     ]
    }
   ],
   "source": [
    "#array_of floats\n",
    "array_of_floats = [1.1, 1.2, 1.3, 1.4, 1.5]\n",
    "print(type(array_of_floats))\n",
    "print(type(array_of_floats[1]))\n",
    "\n",
    "# if (1.1) in array:\n",
    "#     print(\"float inside\")\n",
    "# else:\n",
    "#     print(\"no floats inside\")"
   ]
  },
  {
   "cell_type": "markdown",
   "metadata": {},
   "source": [
    "d. Create an array of bools that consists of the same. Demonstrate that this array is one of bools using a built-in python function."
   ]
  },
  {
   "cell_type": "code",
   "execution_count": 26,
   "metadata": {},
   "outputs": [
    {
     "name": "stdout",
     "output_type": "stream",
     "text": [
      "<class 'list'>\n",
      "<class 'bool'>\n"
     ]
    }
   ],
   "source": [
    "#array_of bools\n",
    "array_of_bools = [True, False, True, False]\n",
    "print(type(array_of_bools))\n",
    "print(type(array_of_bools[1]))\n",
    "\n",
    "# if True or False in array:\n",
    "#     print(\"bool inside\")\n",
    "# else:\n",
    "#     print(\"no bool inside\")"
   ]
  },
  {
   "cell_type": "markdown",
   "metadata": {},
   "source": [
    "# Exercise 4\n",
    "\n",
    "Without actually using Python, determine what the following would evaluate\n",
    "to in Python and explain step-by-step how you arrived at this answer:\n",
    "\n",
    "    a. (1 or ((0 or 0) or 1)) or 1   #because it starts with 1. It stops and evaluates whole\n",
    "    b. ((1 or 0) or 0 or 1) or 1     #statement as True\n",
    "    c. 1 or 0 or 0 or 1 or 1\n",
    "    \n",
    "Change the following cells to markdown and fill your answer in them."
   ]
  },
  {
   "cell_type": "markdown",
   "metadata": {},
   "source": [
    "I first converted each statement into the bool equivalent, then did order or operations: inner parenthesis first and then outer parenthesis:\n",
    "For a:\n",
    "1.(True or ((False or False) or True) or True)\n",
    "2.(True or (    (False)      or True) or True)\n",
    "3.(True or (    (True)                 or True)\n",
    "4.(True or                 (True)\n",
    "5. True       # a would evaluate as True\n",
    "\n",
    "For b:\n",
    "1. ((True or False) or False or True) or True)\n",
    "2. (    (True)      or False or True) or True)\n",
    "3. (                True            ) or True)\n",
    "4. True      # b would evaluate as True\n",
    "\n",
    "For c:\n",
    "1. True or False or False or True or True   # as long as one statement is True (1), the whole statement will evaluate True\n",
    "2. True      #c would evaluate as True\n"
   ]
  },
  {
   "cell_type": "markdown",
   "metadata": {},
   "source": [
    "# Exercise 5\n",
    "\n",
    "To convert Fahrenheit to Celsius, you use the following formula:\n",
    "\n",
    "$$\n",
    "    C^{\\circ} = \\frac{ (F^{\\circ} - 32)}{1.8}\n",
    "$$\n",
    "\n",
    "Given a Fahrenheit input `temperature`, write some python statements to print the temperature in Celsius.\n"
   ]
  },
  {
   "cell_type": "code",
   "execution_count": 27,
   "metadata": {},
   "outputs": [
    {
     "name": "stdout",
     "output_type": "stream",
     "text": [
      "Enter temperature in Fahrenheit: 76\n",
      "the temperature in celcius is 24.\n"
     ]
    }
   ],
   "source": [
    "temperature = int(input(\"Enter temperature in Fahrenheit: \"))\n",
    "celcius = (temperature - 32) / 1.8\n",
    "print(\"the temperature in celcius\" + (\" is %.0f.\" % (celcius)))  \n",
    "# or print(f\"{celsius:.2f}\")"
   ]
  },
  {
   "cell_type": "markdown",
   "metadata": {},
   "source": [
    "# Exercise 6\n",
    "\n",
    "If given a height and a radius, print the volume of a cylinder.\n",
    "\n",
    "$$ \n",
    "    V = \\pi r^2h\n",
    "$$"
   ]
  },
  {
   "cell_type": "code",
   "execution_count": 28,
   "metadata": {},
   "outputs": [
    {
     "name": "stdout",
     "output_type": "stream",
     "text": [
      "Enter a height: 5\n",
      "Enter a radius: 3\n",
      "141.3716694115407\n",
      "the rounded up volume of a cylinder with a height of: 5 and a radius of: 3 is 141.\n"
     ]
    }
   ],
   "source": [
    "height = int(input(\"Enter a height: \"))\n",
    "radius = int(input(\"Enter a radius: \"))\n",
    "import math\n",
    "volume = math.pi * (radius**2) * height\n",
    "print(volume)\n",
    "print(\"the rounded up volume of a cylinder with a height of: \" + str(height) + \" and a radius of: \" + str(radius) + (\" is %.0f.\" % (volume)))\n"
   ]
  },
  {
   "cell_type": "code",
   "execution_count": null,
   "metadata": {},
   "outputs": [],
   "source": []
  }
 ],
 "metadata": {
  "kernelspec": {
   "display_name": "Python 3",
   "language": "python",
   "name": "python3"
  },
  "language_info": {
   "codemirror_mode": {
    "name": "ipython",
    "version": 3
   },
   "file_extension": ".py",
   "mimetype": "text/x-python",
   "name": "python",
   "nbconvert_exporter": "python",
   "pygments_lexer": "ipython3",
   "version": "3.8.3"
  }
 },
 "nbformat": 4,
 "nbformat_minor": 4
}
