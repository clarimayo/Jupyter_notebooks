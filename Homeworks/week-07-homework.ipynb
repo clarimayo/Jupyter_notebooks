{
 "cells": [
  {
   "cell_type": "markdown",
   "metadata": {},
   "source": [
    "# Week 7 HW"
   ]
  },
  {
   "cell_type": "markdown",
   "metadata": {},
   "source": [
    "# Exercise 1\n",
    "\n",
    "Fix the following class declaration:"
   ]
  },
  {
   "cell_type": "code",
   "execution_count": 37,
   "metadata": {},
   "outputs": [
    {
     "name": "stdout",
     "output_type": "stream",
     "text": [
      "['2♠', '2♥', '2♣', '2♦', '3♠', '3♥', '3♣', '3♦', '4♠', '4♥', '4♣', '4♦', '5♠', '5♥', '5♣', '5♦', '6♠', '6♥', '6♣', '6♦', '7♠', '7♥', '7♣', '7♦', '8♠', '8♥', '8♣', '8♦', '9♠', '9♥', '9♣', '9♦', '10♠', '10♥', '10♣', '10♦', 'J♠', 'J♥', 'J♣', 'J♦', 'Q♠', 'Q♥', 'Q♣', 'Q♦', 'K♠', 'K♥', 'K♣', 'K♦', 'A♠', 'A♥', 'A♣', 'A♦']\n",
      "\n",
      "\n",
      "['9♥', 'A♠', 'Q♦', '9♠', '10♥', 'K♥', '10♦', 'A♣', '7♥', 'K♠', 'Q♥', '2♠', '8♦', '4♣', '3♣', '4♥', '2♣', '6♥', '9♦', '10♠', '9♣', 'K♣', 'K♦', '3♦', '3♠', '6♦', '6♠', '5♥', '2♦', '7♣', 'A♦', '5♦', '7♠', '7♦', '8♠', 'Q♠', '4♦', '5♠', 'J♠', '2♥', '10♣', 'Q♣', '6♣', 'J♥', 'J♦', 'J♣', '8♥', '8♣', 'A♥', '3♥', '5♣', '4♠']\n"
     ]
    }
   ],
   "source": [
    "import random\n",
    "\n",
    "class Deck:\n",
    "    faces = ['2', '3', '4', '5', '6', '7', \\\n",
    "             '8', '9', '10', 'J', 'Q', 'K', 'A']\n",
    "    suits = ['♠', '♥', '♣', '♦']\n",
    "    \n",
    "    def __init__(self):\n",
    "        self.cards = self.generate_deck()\n",
    "    \n",
    "    def generate_deck(self):\n",
    "        return ['{}{}'.format(face,suit) for face in self.faces for suit in self.suits]\n",
    "    \n",
    "    def random_shuffle(self):\n",
    "        return random.shuffle(self.cards)\n",
    "    \n",
    "deck = Deck()\n",
    "print(deck.cards)\n",
    "print(\"\\n\")\n",
    "deck.random_shuffle()\n",
    "print(deck.cards)"
   ]
  },
  {
   "cell_type": "markdown",
   "metadata": {},
   "source": [
    "hint: the first`deck.cards` should print a list of the following\n",
    "```\n",
    "['2♠', '2♥', '2♣', '2♦', '3♠', '3♥', '3♣', '3♦', '4♠', '4♥', '4♣', '4♦', '5♠', '5♥', '5♣', '5♦', '6♠', '6♥', '6♣', '6♦', '7♠', '7♥', '7♣', '7♦', '8♠', '8♥', '8♣', '8♦', '9♠', '9♥', '9♣', '9♦', '10♠', '10♥', '10♣', '10♦', 'J♠', 'J♥', 'J♣', 'J♦', 'Q♠', 'Q♥', 'Q♣', 'Q♦', 'K♠', 'K♥', 'K♣', 'K♦', 'A♠', 'A♥', 'A♣', 'A♦']\n",
    "```"
   ]
  },
  {
   "cell_type": "markdown",
   "metadata": {},
   "source": [
    "### Exercise 2"
   ]
  },
  {
   "cell_type": "markdown",
   "metadata": {},
   "source": [
    "#### a. Create a function that takes a dictionary and returns two lists."
   ]
  },
  {
   "cell_type": "code",
   "execution_count": 10,
   "metadata": {},
   "outputs": [],
   "source": [
    "# fix the following function defintion so it \n",
    "# so no AssertionError is thrown\n",
    "def ex1a(args):\n",
    "    keys = []\n",
    "    values = []\n",
    "    for key,value in args.items():\n",
    "        keys.append(key)\n",
    "        values.append(value)\n",
    "    return keys, values \n",
    "\n",
    "#class solution:\n",
    "#     list1 = list(args.keys())\n",
    "#     list2 = list(args.values())\n",
    "#     return list1,list2\n",
    "\n",
    "\n",
    "assert(ex1a({'a':1,'b':2}) == (['a','b'], [1,2]))\n",
    "assert(ex1a({1:'a', 2:'b'}) == ([1,2], ['a', 'b']))"
   ]
  },
  {
   "cell_type": "markdown",
   "metadata": {},
   "source": [
    "#### b. Create a function that takes two sets and returns a list of the shared elements.\n",
    "\n",
    "Use `for` loops. Do not use any set methods. "
   ]
  },
  {
   "cell_type": "code",
   "execution_count": 3,
   "metadata": {},
   "outputs": [
    {
     "name": "stdout",
     "output_type": "stream",
     "text": [
      "code runs without error\n"
     ]
    }
   ],
   "source": [
    "# fix the following code so the cell\n",
    "# runs without error\n",
    "def ex1b(s,t):\n",
    "    shared_list = []\n",
    "    for item in s:\n",
    "        if item in t:   # this is the same as: for second_item in t:if item == second_item:\n",
    "            shared_list.append(item)\n",
    "    return shared_list\n",
    "\n",
    "# use the following code to check your solution -- catching an specific assertion error.\n",
    "try:\n",
    "    assert(ex1b({}, {1}) == [])\n",
    "    assert(ex1b({1,2}, {2,3}) == [2])\n",
    "    assert(ex1b({1,2,3,4}, {3,4,5,6}) == [3,4])\n",
    "    print(\"code runs without error\")\n",
    "except AssertionError:\n",
    "    print(\"code is incorrect\")"
   ]
  },
  {
   "cell_type": "markdown",
   "metadata": {},
   "source": [
    "#### c. Create the code to test the following function.\n",
    "\n",
    "Hint: Take a look at how it's set up in _**a**_ and _**b**_"
   ]
  },
  {
   "cell_type": "code",
   "execution_count": 4,
   "metadata": {},
   "outputs": [
    {
     "name": "stdout",
     "output_type": "stream",
     "text": [
      "code runs without error\n"
     ]
    }
   ],
   "source": [
    "from functools import reduce\n",
    "\n",
    "def ex1c(g):\n",
    "    if isinstance(g, list):\n",
    "        if len(g) == 0:\n",
    "            return []\n",
    "        else:\n",
    "            return reduce(lambda x,y: x+y, g)\n",
    "    \n",
    "# Use the following test cases in your solution:\n",
    "try:\n",
    "    assert(ex1c(\"sd\") == None)\n",
    "    assert(ex1c([]) == [])\n",
    "    assert(ex1c([0]) == 0)\n",
    "    assert(ex1c([1,2,3,4,5]) == 15)\n",
    "    print(\"code runs without error\")\n",
    "except AssertionError:\n",
    "    print(\"code is incorrect\")"
   ]
  },
  {
   "cell_type": "markdown",
   "metadata": {},
   "source": [
    "# Exercise 3"
   ]
  },
  {
   "cell_type": "markdown",
   "metadata": {},
   "source": [
    "Create a script that will do the following:\n",
    "\n",
    "if you ran the script with an arbitrary amount of strings:\n",
    "```bash\n",
    "$ python your-name-ex3-script.py word1 word2 word3\n",
    "\n",
    "```\n",
    "\n",
    "the script would produce a file in the same directory called `output.html` with the following text:\n",
    "\n",
    "```\n",
    "<body>\n",
    "word1 word2 word3\n",
    "</body>\n",
    "\n",
    "```\n",
    "\n",
    "Submit your script. Not necessary to submit `output.html` file."
   ]
  },
  {
   "cell_type": "code",
   "execution_count": 38,
   "metadata": {},
   "outputs": [
    {
     "name": "stdout",
     "output_type": "stream",
     "text": [
      "<body> \r\n",
      "word1 word2 word3 \r\n",
      "</body>"
     ]
    }
   ],
   "source": [
    "!cat output.html"
   ]
  },
  {
   "cell_type": "code",
   "execution_count": 31,
   "metadata": {},
   "outputs": [],
   "source": [
    "import sys"
   ]
  },
  {
   "cell_type": "code",
   "execution_count": 32,
   "metadata": {},
   "outputs": [
    {
     "data": {
      "text/plain": [
       "['__breakpointhook__',\n",
       " '__displayhook__',\n",
       " '__doc__',\n",
       " '__excepthook__',\n",
       " '__interactivehook__',\n",
       " '__loader__',\n",
       " '__name__',\n",
       " '__package__',\n",
       " '__spec__',\n",
       " '__stderr__',\n",
       " '__stdin__',\n",
       " '__stdout__',\n",
       " '__unraisablehook__',\n",
       " '_base_executable',\n",
       " '_clear_type_cache',\n",
       " '_current_frames',\n",
       " '_debugmallocstats',\n",
       " '_framework',\n",
       " '_getframe',\n",
       " '_git',\n",
       " '_home',\n",
       " '_xoptions',\n",
       " 'abiflags',\n",
       " 'addaudithook',\n",
       " 'api_version',\n",
       " 'argv',\n",
       " 'audit',\n",
       " 'base_exec_prefix',\n",
       " 'base_prefix',\n",
       " 'breakpointhook',\n",
       " 'builtin_module_names',\n",
       " 'byteorder',\n",
       " 'call_tracing',\n",
       " 'callstats',\n",
       " 'copyright',\n",
       " 'displayhook',\n",
       " 'dont_write_bytecode',\n",
       " 'exc_info',\n",
       " 'excepthook',\n",
       " 'exec_prefix',\n",
       " 'executable',\n",
       " 'exit',\n",
       " 'flags',\n",
       " 'float_info',\n",
       " 'float_repr_style',\n",
       " 'get_asyncgen_hooks',\n",
       " 'get_coroutine_origin_tracking_depth',\n",
       " 'getallocatedblocks',\n",
       " 'getcheckinterval',\n",
       " 'getdefaultencoding',\n",
       " 'getdlopenflags',\n",
       " 'getfilesystemencodeerrors',\n",
       " 'getfilesystemencoding',\n",
       " 'getprofile',\n",
       " 'getrecursionlimit',\n",
       " 'getrefcount',\n",
       " 'getsizeof',\n",
       " 'getswitchinterval',\n",
       " 'gettrace',\n",
       " 'hash_info',\n",
       " 'hexversion',\n",
       " 'implementation',\n",
       " 'int_info',\n",
       " 'intern',\n",
       " 'is_finalizing',\n",
       " 'last_traceback',\n",
       " 'last_type',\n",
       " 'last_value',\n",
       " 'maxsize',\n",
       " 'maxunicode',\n",
       " 'meta_path',\n",
       " 'modules',\n",
       " 'path',\n",
       " 'path_hooks',\n",
       " 'path_importer_cache',\n",
       " 'platform',\n",
       " 'prefix',\n",
       " 'ps1',\n",
       " 'ps2',\n",
       " 'ps3',\n",
       " 'pycache_prefix',\n",
       " 'set_asyncgen_hooks',\n",
       " 'set_coroutine_origin_tracking_depth',\n",
       " 'setcheckinterval',\n",
       " 'setdlopenflags',\n",
       " 'setprofile',\n",
       " 'setrecursionlimit',\n",
       " 'setswitchinterval',\n",
       " 'settrace',\n",
       " 'stderr',\n",
       " 'stdin',\n",
       " 'stdout',\n",
       " 'thread_info',\n",
       " 'unraisablehook',\n",
       " 'version',\n",
       " 'version_info',\n",
       " 'warnoptions']"
      ]
     },
     "execution_count": 32,
     "metadata": {},
     "output_type": "execute_result"
    }
   ],
   "source": [
    "dir(sys)"
   ]
  },
  {
   "cell_type": "code",
   "execution_count": null,
   "metadata": {},
   "outputs": [],
   "source": []
  }
 ],
 "metadata": {
  "kernelspec": {
   "display_name": "Python 3",
   "language": "python",
   "name": "python3"
  },
  "language_info": {
   "codemirror_mode": {
    "name": "ipython",
    "version": 3
   },
   "file_extension": ".py",
   "mimetype": "text/x-python",
   "name": "python",
   "nbconvert_exporter": "python",
   "pygments_lexer": "ipython3",
   "version": "3.8.3"
  }
 },
 "nbformat": 4,
 "nbformat_minor": 4
}
