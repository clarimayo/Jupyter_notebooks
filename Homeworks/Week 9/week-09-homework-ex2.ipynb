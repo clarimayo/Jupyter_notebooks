{
 "cells": [
  {
   "cell_type": "markdown",
   "metadata": {},
   "source": [
    "<div style=\"background: #000;\n",
    "            color: #FFF;\n",
    "            margin: 0px;\n",
    "                padding: 10px 0px 20px 0px;\n",
    "            text-align: center; \n",
    "                \">\n",
    "    <h1>Week 8 Homework</h1>\n",
    "</div>"
   ]
  },
  {
   "cell_type": "markdown",
   "metadata": {},
   "source": [
    "# Exercise 2\n",
    "Given an array nums. We define a running sum of an array as runningSum[i] = sum(nums[0]…nums[i]).\n",
    "\n",
    "Return the running sum of nums.\n",
    "\n",
    "Example 1:\n",
    "```\n",
    "Input: nums = [1,2,3,4]\n",
    "Output: [1,3,6,10]\n",
    "Explanation: Running sum is obtained as follows: [1, 1+2, 1+2+3, 1+2+3+4].\n",
    "```\n",
    "Example 2:\n",
    "```\n",
    "Input: nums = [1,1,1,1,1]\n",
    "Output: [1,2,3,4,5]\n",
    "Explanation: Running sum is obtained as follows: [1, 1+1, 1+1+1, 1+1+1+1, 1+1+1+1+1].\n",
    "```\n",
    "Example 3:\n",
    "```\n",
    "Input: nums = [3,1,2,10,1]\n",
    "Output: [3,4,6,16,17]\n",
    "```"
   ]
  },
  {
   "cell_type": "code",
   "execution_count": 9,
   "metadata": {},
   "outputs": [
    {
     "name": "stdout",
     "output_type": "stream",
     "text": [
      "your solution is valid\n"
     ]
    }
   ],
   "source": [
    "nums= [3,1,2,10,1]\n",
    "\n",
    "# change the following\n",
    "def ex2(nums):\n",
    "    nums_summated = []\n",
    "    int_sum = 0\n",
    "    for num in nums:\n",
    "        int_sum += num\n",
    "        nums_summated.append(int_sum)\n",
    "    return nums_summated\n",
    "\n",
    "# use the try/except block below\n",
    "# to test your solution\n",
    "try:\n",
    "    assert(ex2([1,2,3,4]) == [1,3,6,10])\n",
    "    assert(ex2([1,1,1,1,1]) == [1,2,3,4,5])\n",
    "    assert(ex2([3,1,2,10,1]) == [3,4,6,16,17])\n",
    "    print(\"your solution is valid\")\n",
    "except AssertionError:\n",
    "    print(\"your solution is incorrect\")"
   ]
  },
  {
   "cell_type": "code",
   "execution_count": 2,
   "metadata": {},
   "outputs": [],
   "source": [
    "def ex2(nums):\n",
    "    s = [sum(num[0:i+1]) for i,k in enumerate(nums)]\n",
    "    return s"
   ]
  },
  {
   "cell_type": "code",
   "execution_count": 3,
   "metadata": {},
   "outputs": [
    {
     "name": "stdout",
     "output_type": "stream",
     "text": [
      "0 0\n",
      "1 1\n",
      "2 2\n",
      "3 3\n",
      "4 4\n",
      "5 5\n",
      "6 6\n"
     ]
    }
   ],
   "source": [
    "#range is an iterator\n",
    "for i,k in enumerate([0,1,2,3,4,5,6]):  #we can loop through ennumarate\n",
    "    print(i,k)"
   ]
  },
  {
   "cell_type": "code",
   "execution_count": 4,
   "metadata": {},
   "outputs": [
    {
     "name": "stdout",
     "output_type": "stream",
     "text": [
      "  2           0 LOAD_CONST               1 (<code object <listcomp> at 0x7f9e9bbea030, file \"<ipython-input-2-2ec0168979df>\", line 2>)\n",
      "              2 LOAD_CONST               2 ('ex2.<locals>.<listcomp>')\n",
      "              4 MAKE_FUNCTION            0\n",
      "              6 LOAD_GLOBAL              0 (enumerate)\n",
      "              8 LOAD_FAST                0 (nums)\n",
      "             10 CALL_FUNCTION            1\n",
      "             12 GET_ITER\n",
      "             14 CALL_FUNCTION            1\n",
      "             16 STORE_FAST               1 (s)\n",
      "             18 LOAD_CONST               0 (None)\n",
      "             20 RETURN_VALUE\n",
      "\n",
      "Disassembly of <code object <listcomp> at 0x7f9e9bbea030, file \"<ipython-input-2-2ec0168979df>\", line 2>:\n",
      "  2           0 BUILD_LIST               0\n",
      "              2 LOAD_FAST                0 (.0)\n",
      "        >>    4 FOR_ITER                28 (to 34)\n",
      "              6 UNPACK_SEQUENCE          2\n",
      "              8 STORE_FAST               1 (i)\n",
      "             10 STORE_FAST               2 (k)\n",
      "             12 LOAD_GLOBAL              0 (sum)\n",
      "             14 LOAD_GLOBAL              1 (num)\n",
      "             16 LOAD_CONST               0 (0)\n",
      "             18 LOAD_FAST                1 (i)\n",
      "             20 LOAD_CONST               1 (1)\n",
      "             22 BINARY_ADD\n",
      "             24 BUILD_SLICE              2\n",
      "             26 BINARY_SUBSCR\n",
      "             28 CALL_FUNCTION            1\n",
      "             30 LIST_APPEND              2\n",
      "             32 JUMP_ABSOLUTE            4\n",
      "        >>   34 RETURN_VALUE\n"
     ]
    }
   ],
   "source": [
    "import dis   #dis shows you what is going on behind the scenes \n",
    "dis.dis(ex2)"
   ]
  },
  {
   "cell_type": "code",
   "execution_count": null,
   "metadata": {},
   "outputs": [],
   "source": [
    "def ex2_a(nums):\n",
    "    sum_ = 0\n",
    "    list_ = []\n",
    "    for nums in nums:\n",
    "        sum_ += nums\n",
    "        list_.append(sum_)\n",
    "    return list_\n",
    "def ex2_b(nums):\n",
    "    s = [sum(nums[0:i]) for i, k in enumerate(nums)]\n",
    "    return s\n",
    "def ex2_c(nums):\n",
    "    sum_ = 0\n",
    "    for nums in nums:\n",
    "        sum_ += nums\n",
    "        yield sum_\n",
    "def ex2_d(nums):\n",
    "    return map(lambda x: sum(nums[:x[0]+1]), enumerate(nums))"
   ]
  }
 ],
 "metadata": {
  "kernelspec": {
   "display_name": "Python 3",
   "language": "python",
   "name": "python3"
  },
  "language_info": {
   "codemirror_mode": {
    "name": "ipython",
    "version": 3
   },
   "file_extension": ".py",
   "mimetype": "text/x-python",
   "name": "python",
   "nbconvert_exporter": "python",
   "pygments_lexer": "ipython3",
   "version": "3.8.3"
  }
 },
 "nbformat": 4,
 "nbformat_minor": 4
}
