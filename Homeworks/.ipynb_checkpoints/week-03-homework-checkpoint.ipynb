{
 "cells": [
  {
   "cell_type": "markdown",
   "metadata": {},
   "source": [
    "<div style=\"background: #000;\n",
    "            color: #FFF;\n",
    "            margin: 0px;\n",
    "                padding: 10px 0px 20px 0px;\n",
    "            text-align: center; \n",
    "                \">\n",
    "    <h1>Week 3 - Homework</h1>\n",
    "</div>\n",
    "\n",
    "<hr>\n",
    "\n",
    "Exercise 1 and 2 will be presented Tuesday.  \n",
    "Exercise 3 and 4 will be presented Wednesday. \n",
    "<hr>"
   ]
  },
  {
   "cell_type": "markdown",
   "metadata": {},
   "source": [
    "# Exercise 1\n",
    "\n",
    "Write a for loop that sums the values of the following list and appends the different values to the correct list.\n",
    "\n",
    "Remember what we learned about the value of an `int` and `str`.\n",
    "\n",
    "Hint: try one part before the other."
   ]
  },
  {
   "cell_type": "code",
   "execution_count": 1,
   "metadata": {},
   "outputs": [
    {
     "name": "stdout",
     "output_type": "stream",
     "text": [
      "list_vals is correct\n"
     ]
    }
   ],
   "source": [
    "# list to sum\n",
    "list_vals = [82,True,'d',False,'v',7301,False,1,True,'x','F','w','Q','f',True]\n",
    "import hashlib;print(\"list_vals is correct\" if hashlib.md5(str(list_vals).encode()).hexdigest() == '867f5d64395c44f016668cc442fb650c' else \"list_vals is incorrect\")"
   ]
  },
  {
   "cell_type": "code",
   "execution_count": 2,
   "metadata": {},
   "outputs": [
    {
     "name": "stdout",
     "output_type": "stream",
     "text": [
      "8097\n",
      "[True, False, False, True, True]\n",
      "[82, 7301, 1]\n",
      "['d', 'v', 'x', 'F', 'w', 'Q', 'f']\n"
     ]
    }
   ],
   "source": [
    "list_for_bools = []\n",
    "list_for_ints = []\n",
    "list_for_chars = []\n",
    "sum_of_all = 0\n",
    "\n",
    "for value in list_vals:\n",
    "    if type(value) == int:\n",
    "        sum_of_all += value\n",
    "        list_for_ints.append(value)\n",
    "    elif type(value) == str:\n",
    "        sum_of_all += ord(value)\n",
    "        list_for_chars.append(value)\n",
    "    elif type(value) == bool:\n",
    "        sum_of_all += value\n",
    "        list_for_bools.append(value)\n",
    "    \n",
    "\n",
    "\n",
    "# use the following to output your results:\n",
    "print(sum_of_all)\n",
    "print(list_for_bools)\n",
    "print(list_for_ints)\n",
    "print(list_for_chars)"
   ]
  },
  {
   "cell_type": "markdown",
   "metadata": {},
   "source": [
    "### Notes: \n",
    "`sum == 8099`  \n",
    "`len(list_for_bools) == 3`  \n",
    "`len(list_for_ints) == 5`   \n",
    "`len(list_for_ints) == 7`   "
   ]
  },
  {
   "cell_type": "markdown",
   "metadata": {},
   "source": [
    "# Exercise 2\n",
    "\n",
    "Given a tuple of strings. Find the following value `x` and print it. The loop should end when `x` is found"
   ]
  },
  {
   "cell_type": "code",
   "execution_count": 3,
   "metadata": {},
   "outputs": [],
   "source": [
    "x = '------'\n",
    "\n",
    "tuple_of_strings = ('steel', 'collect', 'capable', '------', 'shelter', 'language', 'mug', 'flowers')"
   ]
  },
  {
   "cell_type": "code",
   "execution_count": 4,
   "metadata": {},
   "outputs": [
    {
     "name": "stdout",
     "output_type": "stream",
     "text": [
      "steel\n",
      "collect\n",
      "capable\n",
      "------\n",
      "found x! Time to stop\n"
     ]
    }
   ],
   "source": [
    "# enter your code here:\n",
    "for string in tuple_of_strings:\n",
    "    print(string)\n",
    "    if string == x:\n",
    "        print(\"found x! Time to stop\")\n",
    "        break"
   ]
  },
  {
   "cell_type": "markdown",
   "metadata": {},
   "source": [
    "# Exercise 3\n",
    "\n",
    "Create a game in python. \n",
    "\n",
    "Rules:  \n",
    "    1. You have 3 tries to guess a secret number.   \n",
    "    2. Each try you are prompted to input a number.  \n",
    "    3. You get a success message if you guess correctly and stop looping, else you subtract a try and go again.\n",
    "    "
   ]
  },
  {
   "cell_type": "code",
   "execution_count": 5,
   "metadata": {},
   "outputs": [
    {
     "name": "stdout",
     "output_type": "stream",
     "text": [
      "2\n"
     ]
    }
   ],
   "source": [
    "##### use secret_number in your code but don't cheat\n",
    "import random\n",
    "secret_number = random.randint(0,3)\n",
    "print(secret_number)"
   ]
  },
  {
   "cell_type": "code",
   "execution_count": 6,
   "metadata": {},
   "outputs": [
    {
     "name": "stdout",
     "output_type": "stream",
     "text": [
      "guess the secret number between 0 and 3 :0\n",
      "you have  2  guesses left\n",
      "guess the secret number between 0 and 3 :1\n",
      "you have  1  guesses left\n",
      "guess the secret number between 0 and 3 :2\n",
      "Great job! You guessed correctly!\n"
     ]
    }
   ],
   "source": [
    "number_of_tries = 3\n",
    "for i in range(number_of_tries):\n",
    "    number = int(input(\"guess the secret number between 0 and 3 :\"))\n",
    "    if secret_number == number:\n",
    "        print(\"Great job! You guessed correctly!\")\n",
    "        break\n",
    "    elif secret_number != number:\n",
    "        print(\"you have \", number_of_tries -1 , \" guesses left\")\n",
    "        number_of_tries -= 1\n",
    "        if number_of_tries == 0:\n",
    "            break"
   ]
  },
  {
   "cell_type": "markdown",
   "metadata": {},
   "source": [
    "# Exercise 4\n",
    "\n",
    "a. \n",
    "Create a list comprehension that prints the following.\n",
    "```python\n",
    "[0, '*',2, '*', 4, '*', 6]\n",
    "\n",
    "```\n",
    "\n",
    "Hint: start from the most basic list comprehension  "
   ]
  },
  {
   "cell_type": "code",
   "execution_count": 7,
   "metadata": {},
   "outputs": [
    {
     "data": {
      "text/plain": [
       "[0, '*', 2, '*', 4, '*', 6]"
      ]
     },
     "execution_count": 7,
     "metadata": {},
     "output_type": "execute_result"
    }
   ],
   "source": [
    "#figuring out the list comprehension by writting it out. Using odd numbers.\n",
    "some_list_one = []\n",
    "for x in range(7):\n",
    "    if x % 2:\n",
    "        some_list_one.append('*')\n",
    "    else:\n",
    "        some_list_one.append(x)\n",
    "some_list_one"
   ]
  },
  {
   "cell_type": "code",
   "execution_count": 8,
   "metadata": {},
   "outputs": [
    {
     "name": "stdout",
     "output_type": "stream",
     "text": [
      "[0, '*', 2, '*', 4, '*', 6]\n"
     ]
    }
   ],
   "source": [
    "#Transforming the solution from above into a list comprehension. Answer #1\n",
    "first_list_comp = ['*' if x % 2 else x for x in range(7)]\n",
    "print(first_list_comp)"
   ]
  },
  {
   "cell_type": "code",
   "execution_count": 9,
   "metadata": {},
   "outputs": [
    {
     "data": {
      "text/plain": [
       "[0, '*', 2, '*', 4, '*', 6]"
      ]
     },
     "execution_count": 9,
     "metadata": {},
     "output_type": "execute_result"
    }
   ],
   "source": [
    "#figuring out the list comprehension by writting it out. Using even numbers.\n",
    "some_list = []\n",
    "for x in range(7):\n",
    "    if not x % 2:   # or we can use if (x+1) % 2:\n",
    "        some_list.append(x)\n",
    "    else:\n",
    "        some_list.append('*')\n",
    "some_list"
   ]
  },
  {
   "cell_type": "code",
   "execution_count": 10,
   "metadata": {},
   "outputs": [
    {
     "data": {
      "text/plain": [
       "[0, '*', 2, '*', 4, '*', 6]"
      ]
     },
     "execution_count": 10,
     "metadata": {},
     "output_type": "execute_result"
    }
   ],
   "source": [
    "#Transforming the solution from above into a list comprehension. Answer #2\n",
    "new_list = [x if not x % 2 else '*' for x in range(7)]\n",
    "new_list"
   ]
  },
  {
   "cell_type": "markdown",
   "metadata": {},
   "source": [
    "b. Create a dict comprehension that prints the following:\n",
    "```python\n",
    "{'a': ['*', '*'], 'b': ['*', '*'],}\n",
    "\n",
    "```\n"
   ]
  },
  {
   "cell_type": "code",
   "execution_count": 12,
   "metadata": {},
   "outputs": [
    {
     "data": {
      "text/plain": [
       "{'a': ['*', '*'], 'b': ['*', '*']}"
      ]
     },
     "execution_count": 12,
     "metadata": {},
     "output_type": "execute_result"
    }
   ],
   "source": [
    "#figuring out the list comprehension by writting it out.\n",
    "l = ['a', 'b']\n",
    "s = '*'\n",
    "\n",
    "dict_ = {}\n",
    "for elem in l:\n",
    "    array = []\n",
    "    for _ in range(2):\n",
    "        array.append(s)    \n",
    "    dict_[elem] = array   \n",
    "dict_"
   ]
  },
  {
   "cell_type": "code",
   "execution_count": 13,
   "metadata": {},
   "outputs": [
    {
     "data": {
      "text/plain": [
       "{'a': ['*', '*'], 'b': ['*', '*']}"
      ]
     },
     "execution_count": 13,
     "metadata": {},
     "output_type": "execute_result"
    }
   ],
   "source": [
    "# For each element in `l` i want the element `s` twice.\n",
    "new_dict = {elem: [s] * 2 for elem in l}    # [s] * 2 is also equal to [s for _ in range(2)]\n",
    "new_dict"
   ]
  },
  {
   "cell_type": "code",
   "execution_count": null,
   "metadata": {},
   "outputs": [],
   "source": []
  }
 ],
 "metadata": {
  "kernelspec": {
   "display_name": "Python 3",
   "language": "python",
   "name": "python3"
  },
  "language_info": {
   "codemirror_mode": {
    "name": "ipython",
    "version": 3
   },
   "file_extension": ".py",
   "mimetype": "text/x-python",
   "name": "python",
   "nbconvert_exporter": "python",
   "pygments_lexer": "ipython3",
   "version": "3.8.3"
  }
 },
 "nbformat": 4,
 "nbformat_minor": 4
}
