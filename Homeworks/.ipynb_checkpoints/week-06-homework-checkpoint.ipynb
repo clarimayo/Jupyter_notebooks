{
 "cells": [
  {
   "cell_type": "markdown",
   "metadata": {},
   "source": [
    "<div style=\"background: #000;\n",
    "            color: #FFF;\n",
    "            margin: 0px;\n",
    "                padding: 10px 0px 20px 0px;\n",
    "            text-align: center; \n",
    "                \">\n",
    "    <h1>Week 6 - Homework</h1>\n",
    "</div>\n",
    "\n",
    "<pre style=\"text-align:center;\">\n",
    "Exercise 1 is due Monday 10/26\n",
    "Exercise 2 is due Tuesday 10/27\n",
    "Exercise 3 is due Wednesday 10/28\n",
    "</pre>"
   ]
  },
  {
   "cell_type": "markdown",
   "metadata": {},
   "source": [
    "# Exercise 1\n",
    "\n",
    "Create a class called `Course` and a class called `Student` based on what you think they will need. Create a way to store 20 \"students\" (instances of the `Student` class into an instance of `Course` to represent our Data Science course. \n",
    "\n",
    "Demonstrate that your code works. Message on slack if stuck or need clarification."
   ]
  },
  {
   "cell_type": "code",
   "execution_count": 1,
   "metadata": {
    "scrolled": false
   },
   "outputs": [
    {
     "data": {
      "text/plain": [
       "[(first name: Amy,last name: Rosa, hw grade: 100),\n",
       " (first name: Anna,last name: Levy, hw grade: 100),\n",
       " (first name: Bryant,last name: Novas, hw grade: 100),\n",
       " (first name: Chioma,last name: Dunkley, hw grade: 100),\n",
       " (first name: Clariza,last name: Mayo, hw grade: 100),\n",
       " (first name: Claudia,last name: De Los Santos, hw grade: 100),\n",
       " (first name: Elston,last name: Bell, hw grade: 100),\n",
       " (first name: Fausto,last name: Rosado, hw grade: 100),\n",
       " (first name: Gyasi,last name: Sturgis, hw grade: 100),\n",
       " (first name: Irene,last name: Merette, hw grade: 100),\n",
       " (first name: Janet,last name: Perez, hw grade: 100),\n",
       " (first name: Jessica,last name: D., hw grade: 100),\n",
       " (first name: Ishraq,last name: Khan, hw grade: 100),\n",
       " (first name: Juan,last name: Peralta, hw grade: 100),\n",
       " (first name: Judi,last name: Desire, hw grade: 100),\n",
       " (first name: Kari,last name: Sakib, hw grade: 100),\n",
       " (first name: Luis,last name: Alejo, hw grade: 100),\n",
       " (first name: Michael,last name: Alford, hw grade: 100),\n",
       " (first name: Rakhshanda,last name: Mirza, hw grade: 100),\n",
       " (first name: Stanislava,last name: Hristova, hw grade: 100)]"
      ]
     },
     "execution_count": 1,
     "metadata": {},
     "output_type": "execute_result"
    }
   ],
   "source": [
    "class Course:\n",
    "    def __init__(self,subject,professor,room_number, students = []):\n",
    "        self.subject = subject\n",
    "        self.professor = professor\n",
    "        self.students = students\n",
    "        self.room_number = room_number\n",
    "        \n",
    "    def add_student(self,student):\n",
    "        self.students.append(student)\n",
    "        \n",
    "    def get_students(self):\n",
    "        return self.students\n",
    "           \n",
    "class Student:\n",
    "    def __init__(self,first_name, last_name, hw_grade):\n",
    "        self.first_name = first_name\n",
    "        self.last_name = last_name\n",
    "        self.hw_grade = hw_grade\n",
    "    \n",
    "    def __str__(self):\n",
    "        return f\"(first name: {self.first_name},last name: {self.last_name}, hw grade: {self.hw_grade})\"\n",
    "    \n",
    "    def __repr__(self):\n",
    "        return self.__str__()\n",
    "\n",
    "students = [[\"Amy\",\"Rosa\", 100],\n",
    "            [\"Anna\",\"Levy\", 100],\n",
    "            [\"Bryant\",\"Novas\", 100],\n",
    "            [\"Chioma\",\"Dunkley\", 100],\n",
    "            [\"Clariza\", \"Mayo\", 100],\n",
    "            [\"Claudia\", \"De Los Santos\", 100],\n",
    "            [\"Elston\", \"Bell\", 100],\n",
    "            [\"Fausto\",\"Rosado\", 100],\n",
    "            [\"Gyasi\",\"Sturgis\", 100],\n",
    "            [\"Irene\",\"Merette\", 100],\n",
    "            [\"Janet\",\"Perez\", 100],\n",
    "            [\"Jessica\",\"D.\", 100],\n",
    "            [\"Ishraq\",\"Khan\", 100],\n",
    "            [\"Juan\",\"Peralta\", 100],\n",
    "            [\"Judi\",\"Desire\", 100],\n",
    "            [\"Kari\",\"Sakib\", 100],\n",
    "            [\"Luis\",\"Alejo\", 100],\n",
    "            [\"Michael\",\"Alford\", 100],\n",
    "            [\"Rakhshanda\",\"Mirza\", 100],\n",
    "            [\"Stanislava\",\"Hristova\", 100]]\n",
    "students_array = []\n",
    "for student in students:\n",
    "    students_array.append(Student(*student)) \n",
    "\n",
    "new_course = Course(\"Data Science\", \"Anil\", \"Online\", students_array)\n",
    "new_course.get_students()         "
   ]
  },
  {
   "cell_type": "markdown",
   "metadata": {},
   "source": [
    "# Exercise 2\n",
    "\n",
    "Create a class called `SafeFloat` that stores an attribute called `num` as an instance attribute set during initialization and sets `num_as_float` based on `num`\n",
    "\n",
    "Include the following three methods:\n",
    "\n",
    "`to_float` - that converts `num` to a float and stores that an attribute `num_as_float`. If `num` cannot be converted, set `num_as_float` to `None`. Do on mutate the original `num`, we'd like to keep it.\n",
    "\n",
    "`check_type` - that returns `True` if `num_as_float` is a float. It should create `num_as_float` if it doesn't exist. \n",
    "\n",
    "and a method that overrides the addition operator so that when instances of `SafeFloat` are added, `num_as_float` is used to add. Return the sum of the two instances or return `None` if the two cannot be added.\n",
    "\n",
    "Demonstrate that this works for strings, ints, bools and floats."
   ]
  },
  {
   "cell_type": "code",
   "execution_count": 14,
   "metadata": {},
   "outputs": [
    {
     "name": "stdout",
     "output_type": "stream",
     "text": [
      "0.0\n",
      "0.0\n",
      "True\n",
      "True\n",
      "0.0\n",
      "\n",
      "\n",
      "1.4\n",
      "1.0\n",
      "True\n",
      "True\n",
      "2.4\n",
      "\n",
      "\n",
      "None\n",
      "None\n",
      "False\n",
      "False\n",
      "None\n",
      "\n",
      "\n",
      "1.5\n",
      "2.0\n",
      "True\n",
      "True\n",
      "3.5\n"
     ]
    }
   ],
   "source": [
    "class SafeFloat:\n",
    "    def __init__(self,num):\n",
    "        self.num = num\n",
    "        self.to_float()\n",
    "        \n",
    "    def to_float(self):\n",
    "        try: \n",
    "            self.num_as_float = float(self.num)\n",
    "        except:\n",
    "            self.num_as_float = None        \n",
    "    \n",
    "    def check_type(self):\n",
    "        if hasattr(SafeFloat,\"num_as_float\"):  #checking whether attribute is in the class hasattr(class, attribute)\n",
    "            self.num_as_float = self.num\n",
    "        if type(self.num_as_float) == float:\n",
    "            return True\n",
    "        else:\n",
    "            return False\n",
    "\n",
    "    def __add__(self,other):  #oevrloading the + operator\n",
    "        if self.check_type() == False:\n",
    "            return None\n",
    "        else:\n",
    "            return self.num_as_float + other.num_as_float\n",
    "                                   \n",
    "# test with ints, floats, bools and strings\n",
    "e = SafeFloat(0)\n",
    "f = SafeFloat(0)\n",
    "print(e.num_as_float)\n",
    "print(f.num_as_float)\n",
    "print(e.check_type())\n",
    "print(f.check_type())\n",
    "print(e + f)    # e.__add__(f)   e = self, f = other\n",
    "print(\"\\n\")\n",
    "a = SafeFloat(1.4)\n",
    "b = SafeFloat(True)\n",
    "print(a.num_as_float)\n",
    "print(b.num_as_float)\n",
    "print(a.check_type())\n",
    "print(b.check_type())\n",
    "print(a + b)\n",
    "print(\"\\n\")\n",
    "c = SafeFloat(\"str1\")\n",
    "d = SafeFloat(\"string2\")\n",
    "print(d.num_as_float)\n",
    "print(d.num_as_float)\n",
    "print(c.check_type())\n",
    "print(d.check_type())\n",
    "print(c + d)\n",
    "print(\"\\n\")\n",
    "g = SafeFloat(\"1.5\")\n",
    "h = SafeFloat(\"2\")\n",
    "print(g.num_as_float)\n",
    "print(h.num_as_float)\n",
    "print(g.check_type())\n",
    "print(h.check_type())\n",
    "g.num_as_float\n",
    "h.num_as_float\n",
    "print(g + h)"
   ]
  },
  {
   "cell_type": "markdown",
   "metadata": {},
   "source": [
    "# Exercise 3\n",
    "\n",
    "Create a base class `Shape` and two classes that inherits that base class called `Triangle` and `Rectangle`. Consider what those two share in common (height and width) and use that to create your base class `Shape`. Create a method for base class called `area` that returns `None` for the base class. Override that method for `Triangle` and `Rectangle` so instances of those two classes can calculate the correct area.\n",
    "\n",
    "Demonstrate that your code works."
   ]
  },
  {
   "cell_type": "code",
   "execution_count": 25,
   "metadata": {},
   "outputs": [
    {
     "name": "stdout",
     "output_type": "stream",
     "text": [
      "The area of the triangle is 27\n",
      "The area of the restangle is 91\n"
     ]
    }
   ],
   "source": [
    "class Shape:\n",
    "    def __init__(self,height, width):\n",
    "        self.height = height\n",
    "        self.width = width\n",
    "        \n",
    "    def area(self):\n",
    "        return None\n",
    "        \n",
    "class Triangle(Shape):\n",
    "    def area(self):\n",
    "        area = 0.5 * self.height * self.width\n",
    "        print(\"The area of the triangle is %0.0f\" % area)\n",
    "        \n",
    "class Rectangle(Shape):   \n",
    "    def area(self):\n",
    "        area = self.height * self.width\n",
    "        print(\"The area of the restangle is %0.0f\" % area)\n",
    "        \n",
    "new_triangle = Triangle(9,6)\n",
    "new_rectangle = Rectangle(7,13)\n",
    "\n",
    "new_triangle.area()\n",
    "new_rectangle.area()"
   ]
  },
  {
   "cell_type": "code",
   "execution_count": null,
   "metadata": {},
   "outputs": [],
   "source": []
  }
 ],
 "metadata": {
  "kernelspec": {
   "display_name": "Python 3",
   "language": "python",
   "name": "python3"
  },
  "language_info": {
   "codemirror_mode": {
    "name": "ipython",
    "version": 3
   },
   "file_extension": ".py",
   "mimetype": "text/x-python",
   "name": "python",
   "nbconvert_exporter": "python",
   "pygments_lexer": "ipython3",
   "version": "3.8.3"
  }
 },
 "nbformat": 4,
 "nbformat_minor": 4
}
