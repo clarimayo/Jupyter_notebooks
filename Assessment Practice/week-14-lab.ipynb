{
 "cells": [
  {
   "cell_type": "markdown",
   "metadata": {},
   "source": [
    "<div style=\"background: #000;\n",
    "            color: #FFF;\n",
    "            margin: 0px;\n",
    "                padding: 10px 0px 10px 0px;\n",
    "            text-align: center; \n",
    "                \">\n",
    "    <h1 style=\"padding: 120px 120px -30px 0px;\">Week 14 Lab</h1>\n",
    "</div>"
   ]
  },
  {
   "cell_type": "code",
   "execution_count": 1,
   "metadata": {},
   "outputs": [],
   "source": [
    "# imports\n",
    "\n",
    "import numpy as np"
   ]
  },
  {
   "cell_type": "markdown",
   "metadata": {},
   "source": [
    "## Exercise 1\n",
    "\n",
    "Create the following numpy arrays:\n",
    "    \n",
    "a) An array using the following lists (make it interesting if you can)"
   ]
  },
  {
   "cell_type": "code",
   "execution_count": 5,
   "metadata": {},
   "outputs": [
    {
     "data": {
      "text/plain": [
       "array([[0.        , 0.        , 0.        , 0.        , 0.        ],\n",
       "       [0.02040816, 0.04081633, 0.06122449, 0.08163265, 0.10204082],\n",
       "       [0.04081633, 0.08163265, 0.12244898, 0.16326531, 0.20408163],\n",
       "       [0.06122449, 0.12244898, 0.18367347, 0.24489796, 0.30612245],\n",
       "       [0.08163265, 0.16326531, 0.24489796, 0.32653061, 0.40816327],\n",
       "       [0.10204082, 0.20408163, 0.30612245, 0.40816327, 0.51020408],\n",
       "       [0.12244898, 0.24489796, 0.36734694, 0.48979592, 0.6122449 ],\n",
       "       [0.14285714, 0.28571429, 0.42857143, 0.57142857, 0.71428571],\n",
       "       [0.16326531, 0.32653061, 0.48979592, 0.65306122, 0.81632653],\n",
       "       [0.18367347, 0.36734694, 0.55102041, 0.73469388, 0.91836735],\n",
       "       [0.20408163, 0.40816327, 0.6122449 , 0.81632653, 1.02040816],\n",
       "       [0.2244898 , 0.44897959, 0.67346939, 0.89795918, 1.12244898],\n",
       "       [0.24489796, 0.48979592, 0.73469388, 0.97959184, 1.2244898 ],\n",
       "       [0.26530612, 0.53061224, 0.79591837, 1.06122449, 1.32653061],\n",
       "       [0.28571429, 0.57142857, 0.85714286, 1.14285714, 1.42857143],\n",
       "       [0.30612245, 0.6122449 , 0.91836735, 1.2244898 , 1.53061224],\n",
       "       [0.32653061, 0.65306122, 0.97959184, 1.30612245, 1.63265306],\n",
       "       [0.34693878, 0.69387755, 1.04081633, 1.3877551 , 1.73469388],\n",
       "       [0.36734694, 0.73469388, 1.10204082, 1.46938776, 1.83673469],\n",
       "       [0.3877551 , 0.7755102 , 1.16326531, 1.55102041, 1.93877551],\n",
       "       [0.40816327, 0.81632653, 1.2244898 , 1.63265306, 2.04081633],\n",
       "       [0.42857143, 0.85714286, 1.28571429, 1.71428571, 2.14285714],\n",
       "       [0.44897959, 0.89795918, 1.34693878, 1.79591837, 2.24489796],\n",
       "       [0.46938776, 0.93877551, 1.40816327, 1.87755102, 2.34693878],\n",
       "       [0.48979592, 0.97959184, 1.46938776, 1.95918367, 2.44897959],\n",
       "       [0.51020408, 1.02040816, 1.53061224, 2.04081633, 2.55102041],\n",
       "       [0.53061224, 1.06122449, 1.59183673, 2.12244898, 2.65306122],\n",
       "       [0.55102041, 1.10204082, 1.65306122, 2.20408163, 2.75510204],\n",
       "       [0.57142857, 1.14285714, 1.71428571, 2.28571429, 2.85714286],\n",
       "       [0.59183673, 1.18367347, 1.7755102 , 2.36734694, 2.95918367],\n",
       "       [0.6122449 , 1.2244898 , 1.83673469, 2.44897959, 3.06122449],\n",
       "       [0.63265306, 1.26530612, 1.89795918, 2.53061224, 3.16326531],\n",
       "       [0.65306122, 1.30612245, 1.95918367, 2.6122449 , 3.26530612],\n",
       "       [0.67346939, 1.34693878, 2.02040816, 2.69387755, 3.36734694],\n",
       "       [0.69387755, 1.3877551 , 2.08163265, 2.7755102 , 3.46938776],\n",
       "       [0.71428571, 1.42857143, 2.14285714, 2.85714286, 3.57142857],\n",
       "       [0.73469388, 1.46938776, 2.20408163, 2.93877551, 3.67346939],\n",
       "       [0.75510204, 1.51020408, 2.26530612, 3.02040816, 3.7755102 ],\n",
       "       [0.7755102 , 1.55102041, 2.32653061, 3.10204082, 3.87755102],\n",
       "       [0.79591837, 1.59183673, 2.3877551 , 3.18367347, 3.97959184],\n",
       "       [0.81632653, 1.63265306, 2.44897959, 3.26530612, 4.08163265],\n",
       "       [0.83673469, 1.67346939, 2.51020408, 3.34693878, 4.18367347],\n",
       "       [0.85714286, 1.71428571, 2.57142857, 3.42857143, 4.28571429],\n",
       "       [0.87755102, 1.75510204, 2.63265306, 3.51020408, 4.3877551 ],\n",
       "       [0.89795918, 1.79591837, 2.69387755, 3.59183673, 4.48979592],\n",
       "       [0.91836735, 1.83673469, 2.75510204, 3.67346939, 4.59183673],\n",
       "       [0.93877551, 1.87755102, 2.81632653, 3.75510204, 4.69387755],\n",
       "       [0.95918367, 1.91836735, 2.87755102, 3.83673469, 4.79591837],\n",
       "       [0.97959184, 1.95918367, 2.93877551, 3.91836735, 4.89795918],\n",
       "       [1.        , 2.        , 3.        , 4.        , 5.        ]])"
      ]
     },
     "execution_count": 5,
     "metadata": {},
     "output_type": "execute_result"
    }
   ],
   "source": [
    "l = [0,0,0,0,0] \n",
    "m = [1,2,3,4,5]\n",
    "\n",
    "np.linspace(l,m)"
   ]
  },
  {
   "cell_type": "markdown",
   "metadata": {},
   "source": [
    "b) A 3 x 4 matrix of zeros: "
   ]
  },
  {
   "cell_type": "code",
   "execution_count": 9,
   "metadata": {},
   "outputs": [
    {
     "data": {
      "text/plain": [
       "array([[0., 0., 0., 0.],\n",
       "       [0., 0., 0., 0.],\n",
       "       [0., 0., 0., 0.]])"
      ]
     },
     "execution_count": 9,
     "metadata": {},
     "output_type": "execute_result"
    }
   ],
   "source": [
    "np.zeros((3,4))"
   ]
  },
  {
   "cell_type": "markdown",
   "metadata": {},
   "source": [
    "c) A 2 x 4 matrix of zeros and ones of the following format:\n",
    "\n",
    "[[0,0,1,1], [0,0,1,1]]\n",
    "\n",
    "(try without using python lists)"
   ]
  },
  {
   "cell_type": "code",
   "execution_count": 19,
   "metadata": {},
   "outputs": [
    {
     "name": "stdout",
     "output_type": "stream",
     "text": [
      "[[0. 0.]\n",
      " [0. 0.]]\n",
      "[[1. 1.]\n",
      " [1. 1.]]\n"
     ]
    },
    {
     "data": {
      "text/plain": [
       "array([[0., 0., 1., 1.],\n",
       "       [0., 0., 1., 1.]])"
      ]
     },
     "execution_count": 19,
     "metadata": {},
     "output_type": "execute_result"
    }
   ],
   "source": [
    "zeros= np.zeros((2,2))\n",
    "ones= np.ones((2,2))\n",
    "print(zeros)\n",
    "print(ones)\n",
    "np.hstack((zeros,ones))  # a[:, 2:]=1 Two dimensional"
   ]
  },
  {
   "cell_type": "markdown",
   "metadata": {},
   "source": [
    "e) A 3 x 4 array from the following numpy array (do not change the already existing code):"
   ]
  },
  {
   "cell_type": "code",
   "execution_count": 21,
   "metadata": {},
   "outputs": [
    {
     "name": "stdout",
     "output_type": "stream",
     "text": [
      "[ 0  1  2  3  4  5  6  7  8  9 10 11]\n"
     ]
    },
    {
     "data": {
      "text/plain": [
       "array([[ 0,  1,  2,  3],\n",
       "       [ 4,  5,  6,  7],\n",
       "       [ 8,  9, 10, 11]])"
      ]
     },
     "execution_count": 21,
     "metadata": {},
     "output_type": "execute_result"
    }
   ],
   "source": [
    "r = np.arange(0,12)\n",
    "# enter your code below\n",
    "print(r)\n",
    "r.reshape(3,4)"
   ]
  },
  {
   "cell_type": "markdown",
   "metadata": {},
   "source": [
    "f) A 1 x 13 array from the following array\n",
    "\n",
    "look into the `resize` method"
   ]
  },
  {
   "cell_type": "code",
   "execution_count": 33,
   "metadata": {},
   "outputs": [
    {
     "name": "stdout",
     "output_type": "stream",
     "text": [
      "[[ 3.10503618e+231 -3.11108461e+231  3.95252517e-323  0.00000000e+000\n",
      "   0.00000000e+000  0.00000000e+000]\n",
      " [ 0.00000000e+000  0.00000000e+000  0.00000000e+000  0.00000000e+000\n",
      "   0.00000000e+000  0.00000000e+000]]\n",
      "[[ 3.10503618e+231 -3.11108461e+231  3.95252517e-323  0.00000000e+000\n",
      "   0.00000000e+000  0.00000000e+000  0.00000000e+000  0.00000000e+000\n",
      "   0.00000000e+000  0.00000000e+000  0.00000000e+000  0.00000000e+000\n",
      "   3.10503618e+231]]\n"
     ]
    }
   ],
   "source": [
    "n = np.empty(shape=(2,6))\n",
    "### enter your code below\n",
    "print(n)\n",
    "print(np.resize(n, (1,13)))  #resize repeats from the beginning if the original shape has \n",
    "#less values than the new shape"
   ]
  },
  {
   "cell_type": "markdown",
   "metadata": {},
   "source": [
    ") using the following array, create an array that consists of the same numbers but squared and in order from smallest to largest"
   ]
  },
  {
   "cell_type": "code",
   "execution_count": 34,
   "metadata": {},
   "outputs": [
    {
     "data": {
      "text/plain": [
       "array([  0,   1,   1,   4,   9,   9,   9,  16,  25,  25,  36,  36,  36,\n",
       "        36,  49,  64,  64,  81,  81, 100])"
      ]
     },
     "execution_count": 34,
     "metadata": {},
     "output_type": "execute_result"
    }
   ],
   "source": [
    "n = np.array([7, 6, 9, 5, 8, 9, 6, 10, 3, 4, 3, 3, 1, 2, 5, 8, 6, 1, 6, 0])\n",
    "### enter your code below\n",
    "np.sort(n**2)"
   ]
  },
  {
   "cell_type": "markdown",
   "metadata": {},
   "source": [
    "## Exercise 2\n",
    "\n",
    "Produce  the array as asked\n",
    "\n",
    "a) Create a 3x3x3 array with the numbers from 1, 27. Then slice it to produce the 3x3 array in the middle."
   ]
  },
  {
   "cell_type": "code",
   "execution_count": 50,
   "metadata": {},
   "outputs": [
    {
     "data": {
      "text/plain": [
       "array([[10, 11, 12],\n",
       "       [13, 14, 15],\n",
       "       [16, 17, 18]])"
      ]
     },
     "execution_count": 50,
     "metadata": {},
     "output_type": "execute_result"
    }
   ],
   "source": [
    "a = np.arange(1,28).reshape(3,3,3)\n",
    "a[1,:,:] #matrix, rows, columns"
   ]
  },
  {
   "cell_type": "code",
   "execution_count": 49,
   "metadata": {},
   "outputs": [
    {
     "data": {
      "text/plain": [
       "array([[[ 1,  2,  3],\n",
       "        [ 4,  5,  6],\n",
       "        [ 7,  8,  9]],\n",
       "\n",
       "       [[10, 11, 12],\n",
       "        [13, 14, 15],\n",
       "        [16, 17, 18]],\n",
       "\n",
       "       [[19, 20, 21],\n",
       "        [22, 23, 24],\n",
       "        [25, 26, 27]]])"
      ]
     },
     "execution_count": 49,
     "metadata": {},
     "output_type": "execute_result"
    }
   ],
   "source": [
    "a"
   ]
  },
  {
   "cell_type": "markdown",
   "metadata": {},
   "source": [
    "b) Create a 3 x 3 array of random numbers. Then slice it to produce the numbers in the 2-index column."
   ]
  },
  {
   "cell_type": "code",
   "execution_count": 56,
   "metadata": {},
   "outputs": [
    {
     "data": {
      "text/plain": [
       "array([0.26978671, 0.81327024, 0.72949656])"
      ]
     },
     "execution_count": 56,
     "metadata": {},
     "output_type": "execute_result"
    }
   ],
   "source": [
    "rng = np.random.default_rng(0)\n",
    "### enter your code below \n",
    "rng.random(9).reshape(3,3)[:,1]  #rows, columns"
   ]
  },
  {
   "cell_type": "markdown",
   "metadata": {},
   "source": [
    "c) Create a 3x3x3 array of zeros. Slice a 2x2 array from it and change the values to 1s. Then output the original 3x3x3 with `0`'s and `1`s"
   ]
  },
  {
   "cell_type": "code",
   "execution_count": 59,
   "metadata": {},
   "outputs": [],
   "source": [
    "a= np.zeros((3,3,3))\n",
    "a[1,1:,1:]=1 #it does affect the original"
   ]
  },
  {
   "cell_type": "code",
   "execution_count": 60,
   "metadata": {},
   "outputs": [
    {
     "data": {
      "text/plain": [
       "array([[[0., 0., 0.],\n",
       "        [0., 0., 0.],\n",
       "        [0., 0., 0.]],\n",
       "\n",
       "       [[0., 0., 0.],\n",
       "        [0., 1., 1.],\n",
       "        [0., 1., 1.]],\n",
       "\n",
       "       [[0., 0., 0.],\n",
       "        [0., 0., 0.],\n",
       "        [0., 0., 0.]]])"
      ]
     },
     "execution_count": 60,
     "metadata": {},
     "output_type": "execute_result"
    }
   ],
   "source": [
    "a"
   ]
  },
  {
   "cell_type": "markdown",
   "metadata": {},
   "source": [
    "d) Create an array of all the numbers from 1, 27 (inclusive). Then produce a slice that outputs only the even numbers less than 14."
   ]
  },
  {
   "cell_type": "code",
   "execution_count": 62,
   "metadata": {},
   "outputs": [
    {
     "data": {
      "text/plain": [
       "array([ 2,  4,  6,  8, 10, 12])"
      ]
     },
     "execution_count": 62,
     "metadata": {},
     "output_type": "execute_result"
    }
   ],
   "source": [
    "a = np.arange(1,28)\n",
    "a[(a%2==0) & (a<14)]"
   ]
  },
  {
   "cell_type": "markdown",
   "metadata": {},
   "source": [
    "## Exercise 3\n",
    "\n",
    "a) Create an array of all postive integers from 1 to 100.    \n",
    "b) Reshape it into a 10 x 10 matrix  \n",
    "c) Remove multiples (so numbers that aren't prime  \n",
    "d) Output the prime numbers.  \n",
    "\n",
    "a)"
   ]
  },
  {
   "cell_type": "markdown",
   "metadata": {},
   "source": [
    "b) reshape it into a 10 x 10 matrix"
   ]
  },
  {
   "cell_type": "code",
   "execution_count": 64,
   "metadata": {},
   "outputs": [
    {
     "data": {
      "text/plain": [
       "array([[  1,   2,   3,   4,   5,   6,   7,   8,   9,  10],\n",
       "       [ 11,  12,  13,  14,  15,  16,  17,  18,  19,  20],\n",
       "       [ 21,  22,  23,  24,  25,  26,  27,  28,  29,  30],\n",
       "       [ 31,  32,  33,  34,  35,  36,  37,  38,  39,  40],\n",
       "       [ 41,  42,  43,  44,  45,  46,  47,  48,  49,  50],\n",
       "       [ 51,  52,  53,  54,  55,  56,  57,  58,  59,  60],\n",
       "       [ 61,  62,  63,  64,  65,  66,  67,  68,  69,  70],\n",
       "       [ 71,  72,  73,  74,  75,  76,  77,  78,  79,  80],\n",
       "       [ 81,  82,  83,  84,  85,  86,  87,  88,  89,  90],\n",
       "       [ 91,  92,  93,  94,  95,  96,  97,  98,  99, 100]])"
      ]
     },
     "execution_count": 64,
     "metadata": {},
     "output_type": "execute_result"
    }
   ],
   "source": [
    "a= np.arange(1,101).reshape(10,10)\n",
    "a"
   ]
  },
  {
   "cell_type": "markdown",
   "metadata": {},
   "source": [
    "c) starting with 2 (until you get to sqrt(100) or 10), replace multiples of that number with 0"
   ]
  },
  {
   "cell_type": "code",
   "execution_count": null,
   "metadata": {},
   "outputs": [],
   "source": [
    "for i in range(2,10):\n",
    "    a[(a%i == 0) & (a != i)]=0\n",
    "a"
   ]
  },
  {
   "cell_type": "markdown",
   "metadata": {},
   "source": [
    "d) Using a slice, output your prime sieve containing all of the prime numbers less than 0 (be sure to exclude 1 from your slice)\n",
    "\n",
    "hint: the length of such slice should be `25`"
   ]
  },
  {
   "cell_type": "code",
   "execution_count": 71,
   "metadata": {},
   "outputs": [
    {
     "data": {
      "text/plain": [
       "array([ 2,  3,  5,  7, 11, 13, 17, 19, 23, 29, 31, 37, 41, 43, 47, 53, 59,\n",
       "       61, 67, 71, 73, 79, 83, 89, 97])"
      ]
     },
     "execution_count": 71,
     "metadata": {},
     "output_type": "execute_result"
    }
   ],
   "source": [
    "a[(a!=0) & (a!=1)]"
   ]
  }
 ],
 "metadata": {
  "kernelspec": {
   "display_name": "Python 3",
   "language": "python",
   "name": "python3"
  },
  "language_info": {
   "codemirror_mode": {
    "name": "ipython",
    "version": 3
   },
   "file_extension": ".py",
   "mimetype": "text/x-python",
   "name": "python",
   "nbconvert_exporter": "python",
   "pygments_lexer": "ipython3",
   "version": "3.8.3"
  }
 },
 "nbformat": 4,
 "nbformat_minor": 4
}
