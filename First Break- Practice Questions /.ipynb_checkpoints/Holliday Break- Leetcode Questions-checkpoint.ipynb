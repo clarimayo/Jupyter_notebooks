{
 "cells": [
  {
   "cell_type": "raw",
   "metadata": {},
   "source": [
    "12/21/20. 442. Find All Duplicates in an Array\n",
    "Medium\n",
    "\n",
    "3096\n",
    "\n",
    "167\n",
    "\n",
    "Add to List\n",
    "\n",
    "Share\n",
    "Given an array of integers, 1 ≤ a[i] ≤ n (n = size of array), some elements appear twice and others appear once.\n",
    "\n",
    "Find all the elements that appear twice in this array.\n",
    "\n",
    "Could you do it without extra space and in O(n) runtime?\n",
    "\n",
    "Example:\n",
    "Input:\n",
    "[4,3,2,7,8,2,3,1]\n",
    "\n",
    "Output:\n",
    "[2,3]"
   ]
  },
  {
   "cell_type": "code",
   "execution_count": 1,
   "metadata": {},
   "outputs": [
    {
     "name": "stdout",
     "output_type": "stream",
     "text": [
      "[2, 3]\n"
     ]
    }
   ],
   "source": [
    "class Solution:\n",
    "    def findDuplicates(self, lst_of_num):\n",
    "        \"\"\"\n",
    "        :type nums: List[int]\n",
    "        :rtype: List[int]\n",
    "        \"\"\"\n",
    "        new_set = set()\n",
    "        for element in lst_of_num:\n",
    "            if lst_of_num.count(element)>1:\n",
    "                new_set.add(element)\n",
    "        return list(new_set)\n",
    "\n",
    "new_sol = Solution()\n",
    "val1 = new_sol.findDuplicates([4,3,2,7,8,2,3,1])\n",
    "print(val1)"
   ]
  },
  {
   "cell_type": "code",
   "execution_count": null,
   "metadata": {},
   "outputs": [],
   "source": [
    "class Solution:\n",
    "    def findDuplicates(self, lst_of_num):\n",
    "        \"\"\"\n",
    "        :type nums: List[int]\n",
    "        :rtype: List[int]\n",
    "        \"\"\"\n",
    "           \n",
    "        for element in lst_of_num:\n",
    "            if lst_of_num.count(element)==2:\n",
    "                new_set.add(element)\n",
    "        return list(new_set)\n",
    "\n",
    "new_sol = Solution()\n",
    "val1 = new_sol.findDuplicates([4,3,2,7,8,2,3,1])\n",
    "print(val1)"
   ]
  },
  {
   "cell_type": "raw",
   "metadata": {},
   "source": [
    "12/22/20. 387. First Unique Character in a String\n",
    "Easy\n",
    "\n",
    "2471\n",
    "\n",
    "129\n",
    "\n",
    "Add to List\n",
    "\n",
    "Share\n",
    "Given a string, find the first non-repeating character in it and return its index. If it doesn't exist, return -1.\n",
    "\n",
    "Examples:\n",
    "\n",
    "s = \"leetcode\"\n",
    "return 0.\n",
    "\n",
    "s = \"loveleetcode\"\n",
    "return 2."
   ]
  },
  {
   "cell_type": "code",
   "execution_count": 9,
   "metadata": {},
   "outputs": [
    {
     "name": "stdout",
     "output_type": "stream",
     "text": [
      "2\n"
     ]
    }
   ],
   "source": [
    "s = \"leetcode\"\n",
    "s2 = \"loveleetcode\"\n",
    "\n",
    "from collections import Counter\n",
    "class Solution:\n",
    "    def firstUniqChar(self, s):\n",
    "        d = {}\n",
    "        for elem in s:\n",
    "            if not elem in d.keys():\n",
    "                d[elem] = 1\n",
    "            else:\n",
    "                d[elem] += 1\n",
    "        for index, value in enumerate(s):\n",
    "            if d[value] == 1:\n",
    "                return index\n",
    "        return -1\n",
    "        \n",
    "new_sol = Solution()\n",
    "val1 = new_sol.firstUniqChar(s2)\n",
    "print(val1)\n",
    "# val2 = new_sol.firstUniqChar(s2)\n",
    "# print(val2)"
   ]
  },
  {
   "cell_type": "code",
   "execution_count": 10,
   "metadata": {},
   "outputs": [],
   "source": [
    "s = \"leetcode\"\n",
    "s2 = \"loveleetcode\"\n",
    "\n",
    "from collections import Counter\n",
    "class Solution:\n",
    "    def firstUniqChar(self, s):\n",
    "        d = Counter(s) #creating a dictionary with each value as the key and the count of it as the value\n",
    "        for index, value in enumerate(s):\n",
    "            if d[value] == 1:\n",
    "                return index\n",
    "        return -1"
   ]
  },
  {
   "cell_type": "code",
   "execution_count": 62,
   "metadata": {},
   "outputs": [
    {
     "name": "stdout",
     "output_type": "stream",
     "text": [
      "2\n"
     ]
    }
   ],
   "source": [
    "#using count and index to return the first unique character\n",
    "s = \"leetcode\"\n",
    "s2 = \"loveleetcode\"\n",
    "\n",
    "from collections import Counter\n",
    "class Solution:\n",
    "    def firstUniqChar(self, s):\n",
    "        for i in s:\n",
    "            if s.count(i) ==1:\n",
    "                return s.index(i)\n",
    "        return -1\n",
    "        \n",
    "new_sol = Solution()\n",
    "val1 = new_sol.firstUniqChar(s2)\n",
    "print(val1)"
   ]
  },
  {
   "cell_type": "raw",
   "metadata": {},
   "source": [
    "12/23/20: 1431. \n",
    "Kids With the Greatest Number of Candies: https://leetcode.com/problems/kids-with-the-greatest-number-of-candies/\n",
    "Easy\n",
    "\n",
    "Given the array candies and the integer extraCandies, where candies[i] represents the number of candies that the ith kid has.\n",
    "\n",
    "For each kid check if there is a way to distribute extraCandies among the kids such that he or she can have the greatest number of candies among them. Notice that multiple kids can have the greatest number of candies.\n",
    "\n",
    "Example 1:\n",
    "\n",
    "Input: candies = [2,3,5,1,3], extraCandies = 3\n",
    "Output: [true,true,true,false,true] \n",
    "Explanation: \n",
    "Kid 1 has 2 candies and if he or she receives all extra candies (3) will have 5 candies --- the greatest number of candies among the kids. \n",
    "Kid 2 has 3 candies and if he or she receives at least 2 extra candies will have the greatest number of candies among the kids. \n",
    "Kid 3 has 5 candies and this is already the greatest number of candies among the kids. \n",
    "Kid 4 has 1 candy and even if he or she receives all extra candies will only have 4 candies. \n",
    "Kid 5 has 3 candies and if he or she receives at least 2 extra candies will have the greatest number of candies among the kids. \n",
    "Example 2:\n",
    "\n",
    "Input: candies = [4,2,1,1,2], extraCandies = 1\n",
    "Output: [true,false,false,false,false] \n",
    "Explanation: There is only 1 extra candy, therefore only kid 1 will have the greatest number of candies among the kids regardless of who takes the extra candy.\n",
    "Example 3:\n",
    "\n",
    "Input: candies = [12,1,12], extraCandies = 10\n",
    "Output: [true,false,true]\n",
    " \n",
    "\n",
    "Constraints:\n",
    "\n",
    "2 <= candies.length <= 100\n",
    "1 <= candies[i] <= 100\n",
    "1 <= extraCandies <= 50"
   ]
  },
  {
   "cell_type": "code",
   "execution_count": 4,
   "metadata": {},
   "outputs": [
    {
     "name": "stdout",
     "output_type": "stream",
     "text": [
      "[True, True, True, False, True]\n",
      "[True, False, False, False, False]\n",
      "[True, False, True]\n"
     ]
    }
   ],
   "source": [
    "#the raise ValueError will be added if we want to take the constrainst into account but this will increase\n",
    "#the memory and runtime. With it: 24ms and without it: 20 ms\n",
    "class Solution(object):\n",
    "    def kidsWithCandies(self, candies, extraCandies):\n",
    "        # if extraCandies not in range(1,51):\n",
    "        #     raise ValueError(\"extraCandies must be equal or greater than 1 and less than or equal to 50\")\n",
    "        # arry_lenght = len(candies)\n",
    "        # if arry_lenght not in range(2,101):\n",
    "        #     raise ValueError(\"Lenght of array must be equal or greater than 2 and less than or equal to 100\")\n",
    "        largest = max(candies)\n",
    "        arry = []\n",
    "        for num in candies:\n",
    "            arry.append(True) if num + extraCandies >= largest else arry.append(False)   #one liner of if and else\n",
    "            # if num not in range(1,101):\n",
    "            #     raise ValueError(\"candies[i] must be equal or greater than 1 and less than or equal to 100\")\n",
    "        return arry\n",
    "\n",
    "new_sol = Solution()\n",
    "val1 = new_sol.kidsWithCandies([2,3,5,1,3],3)\n",
    "val2 = new_sol.kidsWithCandies([4,2,1,1,2],1)\n",
    "val3 = new_sol.kidsWithCandies([12,1,12],10)\n",
    "print(val1)\n",
    "print(val2)\n",
    "print(val3)"
   ]
  },
  {
   "cell_type": "raw",
   "metadata": {},
   "source": [
    "12/26/20: Given a non-negative integer num, repeatedly add all its digits until the result has only one digit.\n",
    "\n",
    "Example:\n",
    "\n",
    "Input: 38\n",
    "Output: 2 \n",
    "Explanation: The process is like: 3 + 8 = 11, 1 + 1 = 2. \n",
    "             Since 2 has only one digit, return it.\n",
    "Follow up:\n",
    "Could you do it without any loop/recursion in O(1) runtime?"
   ]
  },
  {
   "cell_type": "code",
   "execution_count": 115,
   "metadata": {},
   "outputs": [
    {
     "data": {
      "text/plain": [
       "6"
      ]
     },
     "execution_count": 115,
     "metadata": {},
     "output_type": "execute_result"
    }
   ],
   "source": [
    "class Solution:\n",
    "    def addDigits2(self, num):\n",
    "        new_str = [int(i) for i in str(num)]\n",
    "        if len(new_str) == 1:\n",
    "            return new_str[0]\n",
    "        else:\n",
    "            var = sum(new_str)\n",
    "            return self.addDigits2(var)\n",
    "        \n",
    "        \n",
    "new_sol = Solution()\n",
    "new_sol.addDigits2(42)"
   ]
  },
  {
   "cell_type": "code",
   "execution_count": 118,
   "metadata": {},
   "outputs": [
    {
     "data": {
      "text/plain": [
       "6"
      ]
     },
     "execution_count": 118,
     "metadata": {},
     "output_type": "execute_result"
    }
   ],
   "source": [
    "#O(1) runtime\n",
    "class Solution:\n",
    "    def addDigits(self, num):\n",
    "        if num == 0:\n",
    "            return 0\n",
    "        if num % 9 == 0:\n",
    "            return 9\n",
    "        return num % 9\n",
    "                \n",
    "new_sol = Solution()\n",
    "new_sol.addDigits(42)"
   ]
  },
  {
   "cell_type": "raw",
   "metadata": {},
   "source": [
    "12/26/20: Given two non-negative integers num1 and num2 represented as string, return the sum of num1 and num2.\n",
    "\n",
    "Note:\n",
    "\n",
    "The length of both num1 and num2 is < 5100.\n",
    "Both num1 and num2 contains only digits 0-9.\n",
    "Both num1 and num2 does not contain any leading zero.\n",
    "You must not use any built-in BigInteger library or convert the inputs to integer directly."
   ]
  },
  {
   "cell_type": "code",
   "execution_count": 105,
   "metadata": {},
   "outputs": [
    {
     "data": {
      "text/plain": [
       "'108'"
      ]
     },
     "execution_count": 105,
     "metadata": {},
     "output_type": "execute_result"
    }
   ],
   "source": [
    "class Solution:\n",
    "    def addStrings(self, num1: str, num2: str) -> str:\n",
    "        str_concat = num1 + \" \" + num2\n",
    "        st_list = str_concat.split()\n",
    "        total = str(sum([int(i) for i in st_list]))\n",
    "        return total\n",
    "    \n",
    "new_sol = Solution()\n",
    "new_sol.addStrings(\"9\", \"99\")"
   ]
  },
  {
   "cell_type": "raw",
   "metadata": {},
   "source": [
    "12/27/20: 1365. How Many Numbers Are Smaller Than the Current Number\n",
    "Easy\n",
    "\n",
    "1258\n",
    "\n",
    "31\n",
    "\n",
    "Add to List\n",
    "\n",
    "Share\n",
    "Given the array nums, for each nums[i] find out how many numbers in the array are smaller than it. That is, for each nums[i] you have to count the number of valid j's such that j != i and nums[j] < nums[i].\n",
    "\n",
    "Return the answer in an array.\n",
    "\n",
    " \n",
    "\n",
    "Example 1:\n",
    "\n",
    "Input: nums = [8,1,2,2,3]\n",
    "Output: [4,0,1,1,3]\n",
    "Explanation: \n",
    "For nums[0]=8 there exist four smaller numbers than it (1, 2, 2 and 3). \n",
    "For nums[1]=1 does not exist any smaller number than it.\n",
    "For nums[2]=2 there exist one smaller number than it (1). \n",
    "For nums[3]=2 there exist one smaller number than it (1). \n",
    "For nums[4]=3 there exist three smaller numbers than it (1, 2 and 2).\n",
    "Example 2:\n",
    "\n",
    "Input: nums = [6,5,4,8]\n",
    "Output: [2,1,0,3]\n",
    "Example 3:\n",
    "\n",
    "Input: nums = [7,7,7,7]\n",
    "Output: [0,0,0,0]"
   ]
  },
  {
   "cell_type": "code",
   "execution_count": 34,
   "metadata": {},
   "outputs": [
    {
     "name": "stdout",
     "output_type": "stream",
     "text": [
      "[0, 0, 0, 0, 0]\n"
     ]
    },
    {
     "data": {
      "text/plain": [
       "[4, 0, 1, 1, 3]"
      ]
     },
     "execution_count": 34,
     "metadata": {},
     "output_type": "execute_result"
    }
   ],
   "source": [
    "#making a list with the same amount of zeros as the lenght of nums and them updating it after each loop\n",
    "class Solution:\n",
    "    def smallerNumbersThanCurrent(self, nums):\n",
    "        counter = [0 for i in nums]\n",
    "        for index, value in enumerate(nums):\n",
    "            for j in nums:\n",
    "                if value > j:\n",
    "                    counter[index] +=1\n",
    "        return counter\n",
    "\n",
    "\n",
    "new_sol = Solution()\n",
    "new_sol.smallerNumbersThanCurrent([8,1,2,2,3])"
   ]
  },
  {
   "cell_type": "code",
   "execution_count": 35,
   "metadata": {},
   "outputs": [
    {
     "data": {
      "text/plain": [
       "[4, 0, 1, 1, 3]"
      ]
     },
     "execution_count": 35,
     "metadata": {},
     "output_type": "execute_result"
    }
   ],
   "source": [
    "#creating a counter inside the first loop and appending it to an empty list\n",
    "class Solution:\n",
    "    def smallerNumbersThanCurrent(self, nums):\n",
    "        new_lst = []\n",
    "        for i in nums:\n",
    "            counter = 0\n",
    "            for j in nums:\n",
    "                if i > j:\n",
    "                    counter +=1\n",
    "            new_lst.append(counter)\n",
    "        return new_lst\n",
    "\n",
    "new_sol = Solution()\n",
    "new_sol.smallerNumbersThanCurrent([8,1,2,2,3])"
   ]
  },
  {
   "cell_type": "code",
   "execution_count": 1,
   "metadata": {},
   "outputs": [
    {
     "data": {
      "text/plain": [
       "[4, 0, 1, 1, 3]"
      ]
     },
     "execution_count": 1,
     "metadata": {},
     "output_type": "execute_result"
    }
   ],
   "source": [
    "#sorting the list and returning the index. the index will tell us how many items are before it\n",
    "class Solution:\n",
    "    def smallerNumbersThanCurrent(self, nums):\n",
    "        sorted_lst = sorted(nums)\n",
    "        ret = []\n",
    "        for i in nums:\n",
    "            ret.append(sorted_lst.index(i))\n",
    "        return ret\n",
    "                \n",
    "new_sol = Solution()\n",
    "new_sol.smallerNumbersThanCurrent([8,1,2,2,3])  "
   ]
  },
  {
   "cell_type": "raw",
   "metadata": {},
   "source": [
    "12/28/20: 512. Number of Good Pairs\n",
    "Easy\n",
    "\n",
    "756\n",
    "\n",
    "68\n",
    "\n",
    "Add to List\n",
    "\n",
    "Share\n",
    "Given an array of integers nums.\n",
    "\n",
    "A pair (i,j) is called good if nums[i] == nums[j] and i < j.\n",
    "\n",
    "Return the number of good pairs.\n",
    "\n",
    " \n",
    "\n",
    "Example 1:\n",
    "\n",
    "Input: nums = [1,2,3,1,1,3]\n",
    "              \n",
    "\n",
    "Output: 4\n",
    "Explanation: There are 4 good pairs (0,3), (0,4), (3,4), (2,5) 0-indexed.\n",
    "Example 2:\n",
    "\n",
    "Input: nums = [1,1,1,1]\n",
    "Output: 6\n",
    "Explanation: Each pair in the array are good.\n",
    "Example 3:\n",
    "\n",
    "Input: nums = [1,2,3]\n",
    "Output: 0\n",
    " \n",
    "\n",
    "Constraints:\n",
    "\n",
    "1 <= nums.length <= 100\n",
    "1 <= nums[i] <= 100"
   ]
  },
  {
   "cell_type": "code",
   "execution_count": 34,
   "metadata": {},
   "outputs": [
    {
     "data": {
      "text/plain": [
       "4"
      ]
     },
     "execution_count": 34,
     "metadata": {},
     "output_type": "execute_result"
    }
   ],
   "source": [
    "class Solution:\n",
    "    def numIdenticalPairs(self, nums):\n",
    "        count = 0\n",
    "        for i,val in enumerate(nums):\n",
    "            for j,val in enumerate(nums):\n",
    "                if nums[i] == nums[j] and i<j:\n",
    "                    count +=1\n",
    "        return count\n",
    "    \n",
    "new_sol = Solution()\n",
    "new_sol.numIdenticalPairs([1,2,3,1,1,3])  "
   ]
  },
  {
   "cell_type": "code",
   "execution_count": 95,
   "metadata": {},
   "outputs": [
    {
     "data": {
      "text/plain": [
       "4"
      ]
     },
     "execution_count": 95,
     "metadata": {},
     "output_type": "execute_result"
    }
   ],
   "source": [
    "#video solution\n",
    "class Solution:\n",
    "    def numIdenticalPairs(self, nums):\n",
    "        dec = {}\n",
    "        for i in range(len(nums)):\n",
    "            if nums[i] in dec:\n",
    "                dec[nums[i]].append(i)\n",
    "            else:\n",
    "                dec[nums[i]] = [i]\n",
    "        res = 0\n",
    "        for key, values in dec.items():\n",
    "            if len(values) >= 2:\n",
    "                n = len(values)\n",
    "                res += n * (n-1) /2\n",
    "        return int(res)\n",
    "        \n",
    "new_sol = Solution()\n",
    "new_sol.numIdenticalPairs([1,2,3,1,1,3]) "
   ]
  },
  {
   "cell_type": "raw",
   "metadata": {},
   "source": [
    "12/28/20: 1662. Check If Two String Arrays are Equivalent\n",
    "Easy\n",
    "\n",
    "118\n",
    "\n",
    "19\n",
    "\n",
    "Add to List\n",
    "\n",
    "Share\n",
    "Given two string arrays word1 and word2, return true if the two arrays represent the same string, and false otherwise.\n",
    "\n",
    "A string is represented by an array if the array elements concatenated in order forms the string.\n",
    "\n",
    " \n",
    "\n",
    "Example 1:\n",
    "\n",
    "Input: word1 = [\"ab\", \"c\"], word2 = [\"a\", \"bc\"]\n",
    "Output: true\n",
    "Explanation:\n",
    "word1 represents string \"ab\" + \"c\" -> \"abc\"\n",
    "word2 represents string \"a\" + \"bc\" -> \"abc\"\n",
    "The strings are the same, so return true.\n",
    "Example 2:\n",
    "\n",
    "Input: word1 = [\"a\", \"cb\"], word2 = [\"ab\", \"c\"]\n",
    "Output: false\n",
    "Example 3:\n",
    "\n",
    "Input: word1  = [\"abc\", \"d\", \"defg\"], word2 = [\"abcddefg\"]\n",
    "Output: true\n",
    " \n",
    "\n",
    "Constraints:\n",
    "\n",
    "1 <= word1.length, word2.length <= 103\n",
    "1 <= word1[i].length, word2[i].length <= 103\n",
    "1 <= sum(word1[i].length), sum(word2[i].length) <= 103\n",
    "word1[i] and word2[i] consist of lowercase letters."
   ]
  },
  {
   "cell_type": "code",
   "execution_count": 30,
   "metadata": {},
   "outputs": [
    {
     "data": {
      "text/plain": [
       "False"
      ]
     },
     "execution_count": 30,
     "metadata": {},
     "output_type": "execute_result"
    }
   ],
   "source": [
    "class Solution:\n",
    "    def arrayStringsAreEqual(self, word1, word2):\n",
    "        new1 = \"\".join(word1)\n",
    "        new2 = \"\".join(word2)\n",
    "        if new1 == new2:\n",
    "            return True\n",
    "        return False\n",
    "        \n",
    "\n",
    "new_sol = Solution()\n",
    "new_sol.arrayStringsAreEqual([\"a\", \"cb\"], [\"ab\", \"c\"]) "
   ]
  },
  {
   "cell_type": "raw",
   "metadata": {},
   "source": [
    "12/28/20: 1389. Create Target Array in the Given Order\n",
    "Easy\n",
    "\n",
    "365\n",
    "\n",
    "500\n",
    "\n",
    "Add to List\n",
    "\n",
    "Share\n",
    "Given two arrays of integers nums and index. Your task is to create target array under the following rules:\n",
    "\n",
    "Initially target array is empty.\n",
    "From left to right read nums[i] and index[i], insert at index index[i] the value nums[i] in target array.\n",
    "Repeat the previous step until there are no elements to read in nums and index.\n",
    "Return the target array.\n",
    "\n",
    "It is guaranteed that the insertion operations will be valid.\n",
    "\n",
    " \n",
    "\n",
    "Example 1:\n",
    "\n",
    "Input: nums = [0,1,2,3,4], index = [0,1,2,2,1]\n",
    "Output: [0,4,1,3,2]\n",
    "Explanation:\n",
    "nums       index     target\n",
    "0            0        [0]\n",
    "1            1        [0,1]\n",
    "2            2        [0,1,2]\n",
    "3            2        [0,1,3,2]\n",
    "4            1        [0,4,1,3,2]\n",
    "Example 2:\n",
    "\n",
    "Input: nums = [1,2,3,4,0], index = [0,1,2,3,0]\n",
    "Output: [0,1,2,3,4]\n",
    "Explanation:\n",
    "nums       index     target\n",
    "1            0        [1]\n",
    "2            1        [1,2]\n",
    "3            2        [1,2,3]\n",
    "4            3        [1,2,3,4]\n",
    "0            0        [0,1,2,3,4]\n",
    "Example 3:\n",
    "\n",
    "Input: nums = [1], index = [0]\n",
    "Output: [1]"
   ]
  },
  {
   "cell_type": "code",
   "execution_count": 89,
   "metadata": {},
   "outputs": [
    {
     "data": {
      "text/plain": [
       "[0, 4, 1, 3, 2]"
      ]
     },
     "execution_count": 89,
     "metadata": {},
     "output_type": "execute_result"
    }
   ],
   "source": [
    "class Solution:\n",
    "    def createTargetArray(self, nums, index):\n",
    "        target = []\n",
    "        d = dict(zip(nums, index))\n",
    "        for num, index in d.items():\n",
    "            target.insert(index, num)\n",
    "        return target\n",
    "\n",
    "new_sol = Solution()\n",
    "new_sol.createTargetArray([0,1,2,3,4], [0,1,2,2,1]) "
   ]
  },
  {
   "cell_type": "code",
   "execution_count": null,
   "metadata": {},
   "outputs": [],
   "source": []
  }
 ],
 "metadata": {
  "kernelspec": {
   "display_name": "Python 3",
   "language": "python",
   "name": "python3"
  },
  "language_info": {
   "codemirror_mode": {
    "name": "ipython",
    "version": 3
   },
   "file_extension": ".py",
   "mimetype": "text/x-python",
   "name": "python",
   "nbconvert_exporter": "python",
   "pygments_lexer": "ipython3",
   "version": "3.8.3"
  }
 },
 "nbformat": 4,
 "nbformat_minor": 4
}
