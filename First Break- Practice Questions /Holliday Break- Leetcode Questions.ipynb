{
 "cells": [
  {
   "cell_type": "raw",
   "metadata": {},
   "source": [
    "12/21/20. 442. Find All Duplicates in an Array\n",
    "Medium\n",
    "\n",
    "3096\n",
    "\n",
    "167\n",
    "\n",
    "Add to List\n",
    "\n",
    "Share\n",
    "Given an array of integers, 1 ≤ a[i] ≤ n (n = size of array), some elements appear twice and others appear once.\n",
    "\n",
    "Find all the elements that appear twice in this array.\n",
    "\n",
    "Could you do it without extra space and in O(n) runtime?\n",
    "\n",
    "Example:\n",
    "Input:\n",
    "[4,3,2,7,8,2,3,1]\n",
    "\n",
    "Output:\n",
    "[2,3]"
   ]
  },
  {
   "cell_type": "code",
   "execution_count": 108,
   "metadata": {},
   "outputs": [
    {
     "name": "stdout",
     "output_type": "stream",
     "text": [
      "[2, 3]\n"
     ]
    }
   ],
   "source": [
    "class Solution:\n",
    "    def findDuplicates(self, lst_of_num):\n",
    "        \"\"\"\n",
    "        :type nums: List[int]\n",
    "        :rtype: List[int]\n",
    "        \"\"\"\n",
    "        new_set = set()\n",
    "        for element in lst_of_num:\n",
    "            if lst_of_num.count(element)==2:\n",
    "                new_set.add(element)\n",
    "        return list(new_set)\n",
    "\n",
    "new_sol = Solution()\n",
    "val1 = new_sol.findDuplicates([4,3,2,7,8,2,3,1])\n",
    "print(val1)"
   ]
  },
  {
   "cell_type": "raw",
   "metadata": {},
   "source": [
    "12/22/20. 387. First Unique Character in a String\n",
    "Easy\n",
    "\n",
    "2471\n",
    "\n",
    "129\n",
    "\n",
    "Add to List\n",
    "\n",
    "Share\n",
    "Given a string, find the first non-repeating character in it and return its index. If it doesn't exist, return -1.\n",
    "\n",
    "Examples:\n",
    "\n",
    "s = \"leetcode\"\n",
    "return 0.\n",
    "\n",
    "s = \"loveleetcode\"\n",
    "return 2."
   ]
  },
  {
   "cell_type": "code",
   "execution_count": 112,
   "metadata": {},
   "outputs": [
    {
     "name": "stdout",
     "output_type": "stream",
     "text": [
      "0\n",
      "2\n"
     ]
    }
   ],
   "source": [
    "s = \"leetcode\"\n",
    "s2 = \"loveleetcode\"\n",
    "\n",
    "class Solution:\n",
    "    def firstUniqChar(self, s):\n",
    "        d = {}\n",
    "        for elem in s:\n",
    "            if not elem in d.keys():\n",
    "                d[elem] = 1\n",
    "            else:\n",
    "                d[elem] += 1\n",
    "        select = [key for key,value in d.items() if value ==1]\n",
    "        for index, value in enumerate(s):\n",
    "            if value == select[0]:\n",
    "                return index\n",
    "        \n",
    "new_sol = Solution()\n",
    "val1 = new_sol.firstUniqChar(s)\n",
    "print(val1)\n",
    "val2 = new_sol.firstUniqChar(s2)\n",
    "print(val2)"
   ]
  },
  {
   "cell_type": "raw",
   "metadata": {},
   "source": [
    "12/23/20: 1431. \n",
    "Kids With the Greatest Number of Candies: https://leetcode.com/problems/kids-with-the-greatest-number-of-candies/\n",
    "Easy\n",
    "\n",
    "Given the array candies and the integer extraCandies, where candies[i] represents the number of candies that the ith kid has.\n",
    "\n",
    "For each kid check if there is a way to distribute extraCandies among the kids such that he or she can have the greatest number of candies among them. Notice that multiple kids can have the greatest number of candies.\n",
    "\n",
    "Example 1:\n",
    "\n",
    "Input: candies = [2,3,5,1,3], extraCandies = 3\n",
    "Output: [true,true,true,false,true] \n",
    "Explanation: \n",
    "Kid 1 has 2 candies and if he or she receives all extra candies (3) will have 5 candies --- the greatest number of candies among the kids. \n",
    "Kid 2 has 3 candies and if he or she receives at least 2 extra candies will have the greatest number of candies among the kids. \n",
    "Kid 3 has 5 candies and this is already the greatest number of candies among the kids. \n",
    "Kid 4 has 1 candy and even if he or she receives all extra candies will only have 4 candies. \n",
    "Kid 5 has 3 candies and if he or she receives at least 2 extra candies will have the greatest number of candies among the kids. \n",
    "Example 2:\n",
    "\n",
    "Input: candies = [4,2,1,1,2], extraCandies = 1\n",
    "Output: [true,false,false,false,false] \n",
    "Explanation: There is only 1 extra candy, therefore only kid 1 will have the greatest number of candies among the kids regardless of who takes the extra candy.\n",
    "Example 3:\n",
    "\n",
    "Input: candies = [12,1,12], extraCandies = 10\n",
    "Output: [true,false,true]\n",
    " \n",
    "\n",
    "Constraints:\n",
    "\n",
    "2 <= candies.length <= 100\n",
    "1 <= candies[i] <= 100\n",
    "1 <= extraCandies <= 50"
   ]
  },
  {
   "cell_type": "code",
   "execution_count": 4,
   "metadata": {},
   "outputs": [
    {
     "name": "stdout",
     "output_type": "stream",
     "text": [
      "[True, True, True, False, True]\n",
      "[True, False, False, False, False]\n",
      "[True, False, True]\n"
     ]
    }
   ],
   "source": [
    "#the raise ValueError will be added if we want to take the constrainst into account but this will increase\n",
    "#the memory and runtime. With it: 24ms and without it: 20 ms\n",
    "class Solution(object):\n",
    "    def kidsWithCandies(self, candies, extraCandies):\n",
    "        # if extraCandies not in range(1,51):\n",
    "        #     raise ValueError(\"extraCandies must be equal or greater than 1 and less than or equal to 50\")\n",
    "        # arry_lenght = len(candies)\n",
    "        # if arry_lenght not in range(2,101):\n",
    "        #     raise ValueError(\"Lenght of array must be equal or greater than 2 and less than or equal to 100\")\n",
    "        largest = max(candies)\n",
    "        arry = []\n",
    "        for num in candies:\n",
    "            arry.append(True) if num + extraCandies >= largest else arry.append(False)   #one liner of if and else\n",
    "            # if num not in range(1,101):\n",
    "            #     raise ValueError(\"candies[i] must be equal or greater than 1 and less than or equal to 100\")\n",
    "        return arry\n",
    "\n",
    "new_sol = Solution()\n",
    "val1 = new_sol.kidsWithCandies([2,3,5,1,3],3)\n",
    "val2 = new_sol.kidsWithCandies([4,2,1,1,2],1)\n",
    "val3 = new_sol.kidsWithCandies([12,1,12],10)\n",
    "print(val1)\n",
    "print(val2)\n",
    "print(val3)"
   ]
  },
  {
   "cell_type": "raw",
   "metadata": {},
   "source": [
    "12/26/20: Given a non-negative integer num, repeatedly add all its digits until the result has only one digit.\n",
    "\n",
    "Example:\n",
    "\n",
    "Input: 38\n",
    "Output: 2 \n",
    "Explanation: The process is like: 3 + 8 = 11, 1 + 1 = 2. \n",
    "             Since 2 has only one digit, return it.\n",
    "Follow up:\n",
    "Could you do it without any loop/recursion in O(1) runtime?"
   ]
  },
  {
   "cell_type": "code",
   "execution_count": 115,
   "metadata": {},
   "outputs": [
    {
     "data": {
      "text/plain": [
       "6"
      ]
     },
     "execution_count": 115,
     "metadata": {},
     "output_type": "execute_result"
    }
   ],
   "source": [
    "class Solution:\n",
    "    def addDigits2(self, num):\n",
    "        new_str = [int(i) for i in str(num)]\n",
    "        if len(new_str) == 1:\n",
    "            return new_str[0]\n",
    "        else:\n",
    "            var = sum(new_str)\n",
    "            return self.addDigits2(var)\n",
    "        \n",
    "        \n",
    "new_sol = Solution()\n",
    "new_sol.addDigits2(42)"
   ]
  },
  {
   "cell_type": "code",
   "execution_count": 118,
   "metadata": {},
   "outputs": [
    {
     "data": {
      "text/plain": [
       "6"
      ]
     },
     "execution_count": 118,
     "metadata": {},
     "output_type": "execute_result"
    }
   ],
   "source": [
    "#O(1) runtime\n",
    "class Solution:\n",
    "    def addDigits(self, num):\n",
    "        if num == 0:\n",
    "            return 0\n",
    "        if num % 9 == 0:\n",
    "            return 9\n",
    "        return num % 9\n",
    "                \n",
    "new_sol = Solution()\n",
    "new_sol.addDigits(42)"
   ]
  },
  {
   "cell_type": "raw",
   "metadata": {},
   "source": [
    "12/26/20: Given two non-negative integers num1 and num2 represented as string, return the sum of num1 and num2.\n",
    "\n",
    "Note:\n",
    "\n",
    "The length of both num1 and num2 is < 5100.\n",
    "Both num1 and num2 contains only digits 0-9.\n",
    "Both num1 and num2 does not contain any leading zero.\n",
    "You must not use any built-in BigInteger library or convert the inputs to integer directly."
   ]
  },
  {
   "cell_type": "code",
   "execution_count": 105,
   "metadata": {},
   "outputs": [
    {
     "data": {
      "text/plain": [
       "'108'"
      ]
     },
     "execution_count": 105,
     "metadata": {},
     "output_type": "execute_result"
    }
   ],
   "source": [
    "class Solution:\n",
    "    def addStrings(self, num1: str, num2: str) -> str:\n",
    "        str_concat = num1 + \" \" + num2\n",
    "        st_list = str_concat.split()\n",
    "        total = str(sum([int(i) for i in st_list]))\n",
    "        return total\n",
    "    \n",
    "new_sol = Solution()\n",
    "new_sol.addStrings(\"9\", \"99\")"
   ]
  },
  {
   "cell_type": "code",
   "execution_count": null,
   "metadata": {},
   "outputs": [],
   "source": []
  }
 ],
 "metadata": {
  "kernelspec": {
   "display_name": "Python 3",
   "language": "python",
   "name": "python3"
  },
  "language_info": {
   "codemirror_mode": {
    "name": "ipython",
    "version": 3
   },
   "file_extension": ".py",
   "mimetype": "text/x-python",
   "name": "python",
   "nbconvert_exporter": "python",
   "pygments_lexer": "ipython3",
   "version": "3.8.3"
  }
 },
 "nbformat": 4,
 "nbformat_minor": 4
}
