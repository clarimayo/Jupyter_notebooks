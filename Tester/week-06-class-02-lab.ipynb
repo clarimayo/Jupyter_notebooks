{
 "cells": [
  {
   "cell_type": "markdown",
   "metadata": {},
   "source": [
    "<div style=\"background: #000;\n",
    "            color: #FFF;\n",
    "            margin: 0px;\n",
    "                padding: 10px 0px 20px 0px;\n",
    "            text-align: center; \n",
    "                \">\n",
    "    <h1>Week 6 - Class 2 - Lab</h1>\n",
    "</div>\n"
   ]
  },
  {
   "cell_type": "markdown",
   "metadata": {},
   "source": [
    "## Question 1:\n",
    "    \n",
    "Explain one of the dunder methods describing what it does, how it works and why we might need to use it."
   ]
  },
  {
   "cell_type": "raw",
   "metadata": {},
   "source": []
  },
  {
   "cell_type": "markdown",
   "metadata": {},
   "source": [
    "## Exercise 1:\n",
    "\n",
    "Create a class called `Employee`, add in attributes and methods you think would be associated with an employee. Use at least 2 attributes and 2 methods (not including the `__init__` method you'll create as well)."
   ]
  },
  {
   "cell_type": "code",
   "execution_count": null,
   "metadata": {},
   "outputs": [],
   "source": []
  },
  {
   "cell_type": "markdown",
   "metadata": {},
   "source": [
    "## Exercise 2:\n",
    "\n",
    "Create a class called `Paper` with the `content`, `length`, `width`, `margin`, `print_layout` (landscape or portrait) and `doublesided` (boolean value) as attributes. Provide methods that allow us to change those attributes."
   ]
  },
  {
   "cell_type": "code",
   "execution_count": 1,
   "metadata": {},
   "outputs": [],
   "source": [
    "class Paper:        \n",
    "    def __init__(self, content=None, length=None, width=None, margin=None,print_layout=\"landscape\",\n",
    "                 doublesided= True):\n",
    "        self.content = content\n",
    "        self.length = length\n",
    "        self.width = width\n",
    "        self.margin = margin\n",
    "        self.print_layout = print_layout\n",
    "        self.doublesided = doublesided\n",
    "        \n",
    "    def paper_surface_area(self):\n",
    "        return self.width * self.length\n",
    "    \n",
    "    def get_print_layout(self):\n",
    "        return self.print_layout\n",
    "    \n",
    "    def set_print_layout(self, new_print_layout):\n",
    "        if new_print_layout == \"portrait\":\n",
    "            self.print_layout = new_print_layout   \n",
    "        else: \n",
    "            print(f\"please select from landscape or portrait options only\")"
   ]
  },
  {
   "cell_type": "code",
   "execution_count": 3,
   "metadata": {},
   "outputs": [],
   "source": [
    "paper_3 = Paper()\n",
    "paper_4 = Paper()\n",
    "paper_5 = Paper()\n",
    "paper_6 = Paper()\n",
    "paper_7 = Paper()"
   ]
  },
  {
   "cell_type": "markdown",
   "metadata": {},
   "source": [
    "## Exercise 3\n",
    "\n",
    "Create a class called `Printer` that implements a queue. You should be able to store `Paper` objects in this queue so provide methods that add instances of `Paper` to the `Printer`'s queue and a toy method that \"prints\" `n` amount of \"jobs\" from the queue at a time. Demonstrate that this code works."
   ]
  },
  {
   "cell_type": "code",
   "execution_count": 6,
   "metadata": {},
   "outputs": [
    {
     "name": "stdout",
     "output_type": "stream",
     "text": [
      "<__main__.Paper object at 0x7fef23b40670>\n",
      "<__main__.Paper object at 0x7fef23b40400>\n"
     ]
    },
    {
     "data": {
      "text/plain": [
       "[<__main__.Paper at 0x7fef23b40cd0>,\n",
       " <__main__.Paper at 0x7fef23b40a90>,\n",
       " <__main__.Paper at 0x7fef23b40490>]"
      ]
     },
     "execution_count": 6,
     "metadata": {},
     "output_type": "execute_result"
    }
   ],
   "source": [
    "class Printer:\n",
    "    def __init__(self, queue = []):\n",
    "        self.queue = queue\n",
    "        \n",
    "    def add_object(self, *papers):\n",
    "        for paper in papers:\n",
    "            self.queue.append(paper)\n",
    "        return self.queue\n",
    "    \n",
    "    def removing_item(self, n):\n",
    "        for num in range(n):\n",
    "            item = self.queue.pop()\n",
    "            print(item)\n",
    "        return self.queue\n",
    "        \n",
    "new_printer = Printer()\n",
    "new_printer.add_object(*[paper_3,paper_4,paper_5,paper_6,paper_7])\n",
    "new_printer.removing_item(2)"
   ]
  },
  {
   "cell_type": "markdown",
   "metadata": {},
   "source": [
    "## Exercise 4:\n",
    "    \n",
    "Create a class called `Square` that overloads the addition operator by adding the area of two squares. You will need at least an attribute for length, a method for calculating area and the overloaded `+` operator method.\n",
    "\n",
    "e.g. `Square(3) + Square(4) == 25`"
   ]
  },
  {
   "cell_type": "code",
   "execution_count": 10,
   "metadata": {},
   "outputs": [
    {
     "data": {
      "text/plain": [
       "25"
      ]
     },
     "execution_count": 10,
     "metadata": {},
     "output_type": "execute_result"
    }
   ],
   "source": [
    "class Square:\n",
    "    def __init__(self, lenght):\n",
    "        self.lenght = lenght\n",
    "        self.area = self.calculating_area()\n",
    "        \n",
    "    def calculating_area(self):\n",
    "        return self.lenght **2\n",
    "        \n",
    "    def __add__(self,other):\n",
    "        if isinstance(other,Square):\n",
    "            return self.area + other.area\n",
    "        \n",
    "a = Square(3)\n",
    "b = Square(4)\n",
    "a+b"
   ]
  },
  {
   "cell_type": "code",
   "execution_count": null,
   "metadata": {},
   "outputs": [],
   "source": []
  }
 ],
 "metadata": {
  "kernelspec": {
   "display_name": "Python 3",
   "language": "python",
   "name": "python3"
  },
  "language_info": {
   "codemirror_mode": {
    "name": "ipython",
    "version": 3
   },
   "file_extension": ".py",
   "mimetype": "text/x-python",
   "name": "python",
   "nbconvert_exporter": "python",
   "pygments_lexer": "ipython3",
   "version": "3.8.3"
  }
 },
 "nbformat": 4,
 "nbformat_minor": 4
}
