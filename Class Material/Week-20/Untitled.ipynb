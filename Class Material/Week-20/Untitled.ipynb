{
 "cells": [
  {
   "cell_type": "markdown",
   "metadata": {},
   "source": [
    "Algorithom on how to make a Peanut butter sandwich\n",
    "\n",
    "1. Open peanut butter jar and one strawberry jelly jar\n",
    "2. Stick the knife inside the jar\n",
    "3. Take one piece of bread\n",
    "4. Using the knife, take some peanut butter and spread it on the front face of the bread\n",
    "5. Once it's evenly spread. \n",
    "6. Repeat again for another piece of bread but using the strawberry jelly instead\n",
    "7. Once both breads are done then place them, peanut butter and jelly facing each other. "
   ]
  }
 ],
 "metadata": {
  "kernelspec": {
   "display_name": "Python 3",
   "language": "python",
   "name": "python3"
  },
  "language_info": {
   "codemirror_mode": {
    "name": "ipython",
    "version": 3
   },
   "file_extension": ".py",
   "mimetype": "text/x-python",
   "name": "python",
   "nbconvert_exporter": "python",
   "pygments_lexer": "ipython3",
   "version": "3.8.3"
  }
 },
 "nbformat": 4,
 "nbformat_minor": 4
}
