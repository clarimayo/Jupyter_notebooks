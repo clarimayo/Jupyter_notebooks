{
 "cells": [
  {
   "cell_type": "markdown",
   "metadata": {},
   "source": [
    "<div style=\"background: #000;\n",
    "            color: #FFF;\n",
    "            margin: 0px;\n",
    "            padding: 10px 0px 20px 0px;\n",
    "            text-align: center; \n",
    "                \">\n",
    "    <h1 >Week 20 Quiz</h1>\n",
    "</div>"
   ]
  },
  {
   "cell_type": "markdown",
   "metadata": {},
   "source": [
    "# Exercise 1\n",
    "\n",
    "The sum of the squares of the first ten natural numbers is,\n",
    "\n",
    "$$ 1^{2} + 2^{2} + \\ldots + 10^{2} = 385 $$\n",
    "\n",
    "The square of the sum of the first ten natural numbers is,\n",
    "\n",
    "$$ (1+2+\\ldots+10)^{2} = 55^{2} = 3025 $$\n",
    "\n",
    "Hence the difference between the sum of the squares of the first ten natural numbers and the square of the sum is\n",
    "\n",
    "$$ 3025 - 385 = 2640 $$\n",
    "\n",
    "Find the difference between the sum of the squares of the first one hundred natural numbers and the square of the sum."
   ]
  },
  {
   "cell_type": "code",
   "execution_count": 28,
   "metadata": {},
   "outputs": [
    {
     "name": "stdout",
     "output_type": "stream",
     "text": [
      "385\n",
      "3025\n",
      "2640\n"
     ]
    },
    {
     "name": "stderr",
     "output_type": "stream",
     "text": [
      "----------------------------------------------------------------------\n",
      "Ran 1 test in 0.000s\n",
      "\n",
      "OK\n"
     ]
    },
    {
     "data": {
      "text/plain": [
       "<unittest.main.TestProgram at 0x7ff88b9a5310>"
      ]
     },
     "execution_count": 28,
     "metadata": {},
     "output_type": "execute_result"
    }
   ],
   "source": [
    "def sum_of_squares(n):\n",
    "    total = 0\n",
    "    for num in range(1,n+1):\n",
    "        total+=num**2\n",
    "    return total\n",
    "\n",
    "def square_of_sum(n):\n",
    "    lst= []\n",
    "    for num in range(1,n+1):\n",
    "        lst.append(num)\n",
    "    return sum(lst) **2\n",
    "\n",
    "def difference(n):\n",
    "    return square_of_sum(n) - sum_of_squares(n)\n",
    " \n",
    "print(sum_of_squares(10))\n",
    "print(square_of_sum(10))\n",
    "print(difference(10))\n",
    "\n",
    "def sha256it(n):\n",
    "    return sha256(str(n).encode('utf-8')).hexdigest()\n",
    "\n",
    "class TestExercise1(unittest.TestCase):\n",
    "    new_squares = Squares(10)\n",
    "    new_squares2 = Squares(100)\n",
    "    def test(self):\n",
    "        self.assertEqual(sha256it(difference(10)), \"6c6ece85b5d6ea8c5b1901b34909d170569478006b74472e49d7535ab4b4a94d\")\n",
    "        self.assertEqual(sha256it(difference(100)), \"537942be3eb323c507623a6a73fa87bf5aeb97b7c7422993a82aa7c15f6d9cd6\")\n",
    "        \n",
    "unittest.main(argv=[''], verbosity=0, exit=False)"
   ]
  },
  {
   "cell_type": "code",
   "execution_count": 31,
   "metadata": {},
   "outputs": [
    {
     "name": "stdout",
     "output_type": "stream",
     "text": [
      "2640\n"
     ]
    },
    {
     "name": "stderr",
     "output_type": "stream",
     "text": [
      "======================================================================\n",
      "ERROR: test (__main__.TestExercise1)\n",
      "----------------------------------------------------------------------\n",
      "Traceback (most recent call last):\n",
      "  File \"<ipython-input-31-43236c3b3295>\", line 45, in test\n",
      "    self.assertEqual(sha256it(new_squares2.difference()), \"537942be3eb323c507623a6a73fa87bf5aeb97b7c7422993a82aa7c15f6d9cd6\")\n",
      "NameError: name 'new_squares2' is not defined\n",
      "\n",
      "----------------------------------------------------------------------\n",
      "Ran 1 test in 0.000s\n",
      "\n",
      "FAILED (errors=1)\n"
     ]
    },
    {
     "data": {
      "text/plain": [
       "<unittest.main.TestProgram at 0x7ff88b97f460>"
      ]
     },
     "execution_count": 31,
     "metadata": {},
     "output_type": "execute_result"
    }
   ],
   "source": [
    "#i attempted to make the three functions into a class but couldn't figure out how to change the assert\n",
    "\n",
    "\n",
    "# imports for checking solution\n",
    "import unittest\n",
    "from hashlib import sha256\n",
    "#####################################################\n",
    "\n",
    "# change this section:\n",
    "\n",
    "class Squares:\n",
    "    def __init__(self, n):\n",
    "        self.n = n\n",
    "        self.total = 0\n",
    "        self.lst = self.square_of_sum()\n",
    "\n",
    "    def sum_of_squares(self):\n",
    "        for num in range(1,self.n+1):\n",
    "            self.total+=num**2\n",
    "        return self.total\n",
    "    \n",
    "    def square_of_sum(self):\n",
    "        lst = []\n",
    "        for num in range(1,self.n+1):\n",
    "            lst.append(num)\n",
    "        return sum(lst) **2\n",
    "    \n",
    "    def difference(self):\n",
    "        return self.lst - self.total\n",
    "    \n",
    "    \n",
    "print(new_squares.difference())\n",
    "\n",
    "\n",
    "######################################################\n",
    "# if this part returns OK, your tests pass\n",
    "def sha256it(n):\n",
    "    return sha256(str(n).encode('utf-8')).hexdigest()\n",
    "\n",
    "class TestExercise1(unittest.TestCase):\n",
    "    new_squares = Squares(10)\n",
    "    new_squares2 = Squares(100)\n",
    "    def test(self):\n",
    "        self.assertEqual(sha256it(new_squares.difference()), \"6c6ece85b5d6ea8c5b1901b34909d170569478006b74472e49d7535ab4b4a94d\")\n",
    "        self.assertEqual(sha256it(new_squares2.difference()), \"537942be3eb323c507623a6a73fa87bf5aeb97b7c7422993a82aa7c15f6d9cd6\")\n",
    "        \n",
    "unittest.main(argv=[''], verbosity=0, exit=False)"
   ]
  },
  {
   "cell_type": "code",
   "execution_count": null,
   "metadata": {},
   "outputs": [],
   "source": []
  }
 ],
 "metadata": {
  "kernelspec": {
   "display_name": "Python 3",
   "language": "python",
   "name": "python3"
  },
  "language_info": {
   "codemirror_mode": {
    "name": "ipython",
    "version": 3
   },
   "file_extension": ".py",
   "mimetype": "text/x-python",
   "name": "python",
   "nbconvert_exporter": "python",
   "pygments_lexer": "ipython3",
   "version": "3.8.3"
  }
 },
 "nbformat": 4,
 "nbformat_minor": 5
}
