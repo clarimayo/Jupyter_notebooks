{
 "cells": [
  {
   "cell_type": "markdown",
   "metadata": {},
   "source": [
    "<div style=\"background: #000;\n",
    "            color: #FFF;\n",
    "            margin: 0px;\n",
    "                padding: 10px 0px 20px 0px;\n",
    "            text-align: center; \n",
    "                \">\n",
    "    <h1>Week 6 - Class 3 - 10/21</h1>\n",
    "</div>\n",
    "\n",
    "\n",
    "## Objectives for this week:\n",
    "* Objects, \n",
    "* Class declarations, Attributes, Methods\n",
    "* Self keywords\n",
    "* Object Inheritance, Generating Object Instances\n",
    "* Dot Notation\n",
    "\n",
    "## Todays Agenda\n",
    "* Homework Presentations\n",
    "* Object Inheritance, \n",
    "* Generating Object, Instances"
   ]
  },
  {
   "cell_type": "markdown",
   "metadata": {},
   "source": [
    "# Homework Presentations"
   ]
  },
  {
   "cell_type": "markdown",
   "metadata": {},
   "source": [
    "# Exercise 3\n",
    "\n",
    "If we list all the natural numbers below 10 that are multiples of 3 or 5, we get 3, 5, 6 and 9. The sum of these multiples is 23.\n",
    "\n",
    "Create a function that returns the sum of all the multiples of 3 or 5 below `n` where `n` is the inputted number.\n",
    "\n",
    "e.g. \n",
    "\n",
    "```\n",
    "n=10 -> 23\n",
    "n=25 -> 143\n",
    "n=50 -> 543\n",
    "n=100 -> 2318\n",
    "```"
   ]
  },
  {
   "cell_type": "code",
   "execution_count": 42,
   "metadata": {},
   "outputs": [],
   "source": [
    "def sum_of_threes_and_fives(n=100):\n",
    "    pass\n",
    "\n",
    "sum_of_threes_and_fives() "
   ]
  },
  {
   "cell_type": "markdown",
   "metadata": {},
   "source": [
    "This code will allow you to solve problem 1 of the Project Euler problems.\n",
    "\n",
    "https://projecteuler.net/archives"
   ]
  },
  {
   "cell_type": "markdown",
   "metadata": {},
   "source": [
    "# Operator Overloading\n",
    "\n",
    "Certain operators like `==`, `+`, `-`, `*` can be overloaded to be used with user-defined datatypes like classes as well as built-in type like integers\n",
    "\n",
    "`==`  `__eq__`  \n",
    "`+` `__add__`\n",
    "`-` `__sub__`  \n",
    "`*` `__mul__`  \n",
    "`/` `__truediv__`  \n",
    "`//` `__floordiv__`  \n",
    "`%` `__mod__`  \n",
    "`**` `__pow__`  \n",
    "`<`  `__lt__`   \n",
    "`>`  `__gt__`  \n",
    "`<=` `__le__`  \n",
    "`>=` `__ge__`  \n",
    "`!=` `__ne__`"
   ]
  },
  {
   "cell_type": "markdown",
   "metadata": {},
   "source": [
    "# Vector example"
   ]
  },
  {
   "cell_type": "code",
   "execution_count": 1,
   "metadata": {},
   "outputs": [
    {
     "data": {
      "text/plain": [
       "False"
      ]
     },
     "execution_count": 1,
     "metadata": {},
     "output_type": "execute_result"
    }
   ],
   "source": [
    "class Vector:\n",
    "    def __init__(self, x=0, y=0):\n",
    "        self.x = x\n",
    "        self.y = y\n",
    "\n",
    "p = Vector(2,4)\n",
    "q = Vector(2,4)\n",
    "\n",
    "p == q  #python doesn't know how to equate the two"
   ]
  },
  {
   "cell_type": "code",
   "execution_count": 6,
   "metadata": {},
   "outputs": [
    {
     "name": "stdout",
     "output_type": "stream",
     "text": [
      "Vector(5, 10)\n",
      "None\n"
     ]
    }
   ],
   "source": [
    "class Vector:\n",
    "    def __init__(self, x=0, y=0):\n",
    "        self.x = x\n",
    "        self.y = y\n",
    "        \n",
    "    def print_vector(self):\n",
    "        print(f\"x: {x}, y: {y}\")\n",
    "    \n",
    "#     def __eq__(self, other):  #dunder method to override python built in\n",
    "#         return self.x == other.x and self.y == other.y   #comparison statement \n",
    "    \n",
    "    #adding the the p and q vectors\n",
    "    def __add__(self,other):\n",
    "        if isinstance(other, Vector): #to check if instance is the same type as the class\n",
    "            return Vector(self.x + other.x , self.y + other.y)  #creating new vector not changing the original one\n",
    "\n",
    "    #scalar is a number that we can multiply to the vector. Is a math equation\n",
    "    def __mul__(self, scalar): #scalar is suppose to be an int or float\n",
    "        if isinstance(scalar, (int, float)):  # we can make tuple of the things we want to check\n",
    "            return Vector(self.x * scalar, self.y * scalar)\n",
    "    \n",
    "    #changing the output so we can see the output of the class Vector\n",
    "    def __repr__(self):\n",
    "        return f\"Vector({self.x}, {self.y})\"     #the format of the output\n",
    "    \n",
    "    def __st__(self):\n",
    "        return f\"Vector x: {self.x} y: {self.y}\"\n",
    "    \n",
    "p = Vector(2,4)\n",
    "q = Vector(3,6)\n",
    "\n",
    "p == q  #is the same as below\n",
    "\n",
    "#p.__eq__(q) #runnning the new dunder method that we wrote. __eq__() means you are calling the method\n",
    "\n",
    "\n",
    "print(p + q)\n",
    "print(p * q)  #mul doesn't know how to handle Vector * Vector Multiplication"
   ]
  },
  {
   "cell_type": "code",
   "execution_count": 3,
   "metadata": {},
   "outputs": [
    {
     "name": "stdout",
     "output_type": "stream",
     "text": [
      "Vector x: 5 y: 10\n"
     ]
    }
   ],
   "source": [
    "class Vector:\n",
    "    def __init__(self, x=0, y=0):\n",
    "        self.x = x\n",
    "        self.y = y    \n",
    "    \n",
    "    def print_vector(self):\n",
    "        print(f\"x: {x}, y: {y}\")        \n",
    "        \n",
    "    def __eq__(self, other):\n",
    "        if isinstance(other, Vector):\n",
    "            return self.x == other.x and self.y == other.y\n",
    "        \n",
    "    def __add__(self, other):\n",
    "        if isinstance(other, Vector):\n",
    "            return Vector(self.x + other.x,self.y + other.y)    \n",
    "    \n",
    "    def __mul__(self, scalar):\n",
    "            if isinstance(scalar, (int, float)):\n",
    "                return Vector(self.x * scalar, self.y * scalar)\n",
    "    \n",
    "    def __repr__(self):\n",
    "                return f\"Vector({self.x}, {self.y})\"\n",
    "    \n",
    "    def __str__(self):\n",
    "            return f\"Vector x: {self.x} y: {self.y}\"   \n",
    "        \n",
    "        \n",
    "p = Vector(2,4)\n",
    "q = Vector(3,6)\n",
    "print(p + q)"
   ]
  },
  {
   "cell_type": "markdown",
   "metadata": {},
   "source": [
    "#### How do we implement others? (code along)"
   ]
  },
  {
   "cell_type": "code",
   "execution_count": null,
   "metadata": {},
   "outputs": [],
   "source": [
    "class Vector:\n",
    "    def __init__(self, x=0, y=0):\n",
    "        self.x = x\n",
    "        self.y = y\n",
    "    \n",
    "    def __eq__(self, other):\n",
    "        return self.x == other.x and self.y == other.y\n",
    "\n",
    "        \n",
    "    \n",
    "p = Vector(2,4)\n",
    "q = Vector(2,4)"
   ]
  },
  {
   "cell_type": "markdown",
   "metadata": {},
   "source": [
    "# Getters and Setters"
   ]
  },
  {
   "cell_type": "code",
   "execution_count": null,
   "metadata": {},
   "outputs": [],
   "source": [
    "class Point:\n",
    "    def __init__(self, x, y):\n",
    "        self.__x = x\n",
    "        self.__y = y\n",
    "    \n",
    "    def get_x(self):\n",
    "        return self.__x\n",
    "    \n",
    "    def set_x(self, x):\n",
    "        if type(x) == int:\n",
    "            self.__x = x\n",
    "        \n",
    "    def get_y(self):\n",
    "        return self.__y\n",
    "    \n",
    "    def set_y(self, y):\n",
    "        if type(y) == int:\n",
    "            self.__y = y\n",
    "        \n",
    "p = Point(0,1)\n",
    "\n",
    " #instead of messing with the value of p.__x directly we use methods to change it\n",
    "#we DON'T do it this way below. \n",
    "print(p.get_x())\n",
    "print(p.get_y())\n",
    "print()\n",
    "\n",
    "p.set_x(3)\n",
    "p.set_y(5)\n",
    "\n",
    "print(p.get_x())\n",
    "print(p.get_y())"
   ]
  },
  {
   "cell_type": "markdown",
   "metadata": {},
   "source": [
    "# `@property`\n",
    "\n",
    "Makes a method of `cls` accessible via attribute "
   ]
  },
  {
   "cell_type": "code",
   "execution_count": 18,
   "metadata": {},
   "outputs": [
    {
     "data": {
      "text/plain": [
       "'Barack Obama'"
      ]
     },
     "execution_count": 18,
     "metadata": {},
     "output_type": "execute_result"
    }
   ],
   "source": [
    "class Person:\n",
    "    def __init__(self, first_name, last_name, age): #making the instance\n",
    "        self.first_name = first_name\n",
    "        self.last_name = last_name\n",
    "        self.age = age\n",
    "        self.full_name = f\"{self.first_name} {self.last_name}\"  # a string of last name ad first name      \n",
    "        \n",
    "p = Person('Kamala', 'Harris', 56)  #attributes of the instance\n",
    "p.full_name = \"Barack Obama\"#get the string\\\n",
    "\n",
    "p.full_name  #only full name change not first name and last name"
   ]
  },
  {
   "cell_type": "code",
   "execution_count": null,
   "metadata": {},
   "outputs": [],
   "source": [
    "class Person:\n",
    "    def __init__(self, first_name, last_name, age):\n",
    "        self.first_name = first_name\n",
    "        self.last_name = last_name\n",
    "        self.age = age\n",
    "        \n",
    "    @property\n",
    "    def full_name(self):\n",
    "        return f\"{self.first_name} {self.last_name}\"\n",
    "        \n",
    "        \n",
    "p = Person('Kamala', 'Harris', 56)\n",
    "p.full_name"
   ]
  },
  {
   "cell_type": "markdown",
   "metadata": {},
   "source": [
    "# Setters using `@property`"
   ]
  },
  {
   "cell_type": "code",
   "execution_count": 41,
   "metadata": {},
   "outputs": [
    {
     "name": "stdout",
     "output_type": "stream",
     "text": [
      "Joe Biden\n"
     ]
    },
    {
     "data": {
      "text/plain": [
       "'Kamala'"
      ]
     },
     "execution_count": 41,
     "metadata": {},
     "output_type": "execute_result"
    }
   ],
   "source": [
    "class Person:\n",
    "    def __init__(self, first_name, last_name, age):\n",
    "        self.first_name = first_name\n",
    "        self.last_name = last_name\n",
    "        self.age = age\n",
    "        \n",
    "    def full_name(self): \n",
    "        return f\"{self.first_name} {self.last_name}\"  #what the attribute is built by\n",
    "        \n",
    "        \n",
    "p = Person('Kamala', 'Harris', 56)\n",
    "p.full_name = 'Joe Biden'\n",
    "\n",
    "print(p.full_name)  #create an attribute that wasn't created in the creation of the instance \n",
    "p.first_name"
   ]
  },
  {
   "cell_type": "code",
   "execution_count": 24,
   "metadata": {},
   "outputs": [
    {
     "data": {
      "text/plain": [
       "'Joe'"
      ]
     },
     "execution_count": 24,
     "metadata": {},
     "output_type": "execute_result"
    }
   ],
   "source": [
    "class Person:\n",
    "    def __init__(self, first_name, last_name, age):\n",
    "        self.first_name = first_name\n",
    "        self.last_name = last_name\n",
    "        self.age = age\n",
    "        \n",
    "    @property\n",
    "    def full_name(self):\n",
    "        return f\"{self.first_name} {self.last_name}\"\n",
    "        \n",
    "    @full_name.setter   #to set new value to first and last name\n",
    "    def full_name(self, fullname): #changed fullname so it doesn't get confused with the instance full_name\n",
    "        self.first_name, self.last_name = fullname.split(' ') #change what was used to create full name\n",
    "        \n",
    "        \n",
    "p = Person('Kamala', 'Harris', 56)\n",
    "p.full_name = 'Joe Biden'\n",
    "p.full_name\n",
    "\n",
    "p.first_name  #allow us to set attribute"
   ]
  },
  {
   "cell_type": "markdown",
   "metadata": {},
   "source": [
    "# Deleters using `@property`"
   ]
  },
  {
   "cell_type": "code",
   "execution_count": 25,
   "metadata": {},
   "outputs": [
    {
     "data": {
      "text/plain": [
       "'None None'"
      ]
     },
     "execution_count": 25,
     "metadata": {},
     "output_type": "execute_result"
    }
   ],
   "source": [
    "class Person:\n",
    "    def __init__(self, first_name, last_name, age):\n",
    "        self.first_name = first_name\n",
    "        self.last_name = last_name\n",
    "        self.age = age\n",
    "        \n",
    "    @property\n",
    "    def full_name(self):\n",
    "        return f\"{self.first_name} {self.last_name}\"\n",
    "    \n",
    "    @full_name.setter\n",
    "    def full_name(self, full_name):\n",
    "        self.first_name, self.last_name = full_name.split(' ')\n",
    "        \n",
    "    @full_name.deleter\n",
    "    def full_name(self):\n",
    "        self.first_name, self.last_name = (None, None)\n",
    "        \n",
    "        \n",
    "p = Person('Kamala', 'Harris', 56)\n",
    "p.full_name = 'Joe Biden'\n",
    "del p.full_name\n",
    "\n",
    "p.full_name"
   ]
  },
  {
   "cell_type": "markdown",
   "metadata": {},
   "source": [
    "Before"
   ]
  },
  {
   "cell_type": "code",
   "execution_count": null,
   "metadata": {},
   "outputs": [],
   "source": [
    "class Point:\n",
    "    def __init__(self, x, y):\n",
    "        self.__x = x\n",
    "        self.__y = y\n",
    "    \n",
    "    def get_x(self):\n",
    "        return self.__x\n",
    "    \n",
    "    def set_x(self, x):\n",
    "        if type(x) == int:\n",
    "            self.__x = x\n",
    "        \n",
    "    def get_y(self):\n",
    "        return self.__y\n",
    "    \n",
    "    def set_y(self, y):\n",
    "        if type(y) == int:\n",
    "            self.__y = y\n",
    "        \n",
    "p = Point(0,1)\n",
    "\n",
    "print(p.get_x())\n",
    "print(p.get_y())\n",
    "print()\n",
    "\n",
    "p.set_x(3)\n",
    "p.set_y(5)\n",
    "\n",
    "print(p.get_x())\n",
    "print(p.get_y())"
   ]
  },
  {
   "cell_type": "markdown",
   "metadata": {},
   "source": [
    "After"
   ]
  },
  {
   "cell_type": "code",
   "execution_count": null,
   "metadata": {},
   "outputs": [],
   "source": [
    "class Point:        \n",
    "    def __init__(self, x, y):\n",
    "        self.__x = x\n",
    "        self.__y = y\n",
    "    \n",
    "    @property\n",
    "    def x(self):\n",
    "        return self.__x\n",
    "    \n",
    "    @x.setter   #setting the value of x but first checking if its an integer\n",
    "    def x(self, x):\n",
    "        if type(x) == int:\n",
    "            self.__x = x\n",
    "        \n",
    "    @property\n",
    "    def y(self):\n",
    "        return self.__y\n",
    "    \n",
    "    @y.setter\n",
    "    def y(self, y):\n",
    "        if type(y) == int:\n",
    "            self.__y = y\n",
    "        \n",
    "p = Point(0,1)\n",
    "\n",
    "print(p.x)\n",
    "print(p.y)\n",
    "print()\n",
    "\n",
    "p.x = 3\n",
    "p.y = 5\n",
    "\n",
    "print(p.x)\n",
    "print(p.y)\n",
    "     "
   ]
  },
  {
   "cell_type": "markdown",
   "metadata": {},
   "source": [
    "# `@staticmethod`"
   ]
  },
  {
   "cell_type": "code",
   "execution_count": null,
   "metadata": {},
   "outputs": [],
   "source": [
    "from datetime import datetime\n",
    "\n",
    "def current_year():\n",
    "    return datetime.now().year\n",
    "\n",
    "class Person:\n",
    "    def __init__(self, name, age):\n",
    "        self.name = name\n",
    "        self.age = age\n",
    "        \n",
    "    def calculate_birth_year(self):\n",
    "        return current_year() - self.age\n",
    "\n",
    "s = Person(\"John Doe\", 30)\n",
    "s.calculate_birth_year()\n",
    "print(s.calculate_birth_year())\n",
    "current_year()  "
   ]
  },
  {
   "cell_type": "code",
   "execution_count": null,
   "metadata": {},
   "outputs": [],
   "source": [
    "from datetime import datetime\n",
    "\n",
    "def current_year():\n",
    "    return datetime.now().year\n",
    "\n",
    "class Person:\n",
    "    def __init__(self, name, age):\n",
    "        self.name = name\n",
    "        self.age = age\n",
    "        \n",
    "    def calculate_birth_year(self):\n",
    "        return current_year() - self.age\n",
    "    \n",
    "    @staticmethod\n",
    "    def current_year():\n",
    "        return datetime.now().year\n",
    "    \n",
    "\n",
    "s = Person(\"John Doe\", 30)\n",
    "print(s.calculate_birth_year())\n",
    "s.current_year()      "
   ]
  },
  {
   "cell_type": "markdown",
   "metadata": {},
   "source": [
    "# `@classmethod`"
   ]
  },
  {
   "cell_type": "code",
   "execution_count": null,
   "metadata": {},
   "outputs": [],
   "source": [
    "class Example:    \n",
    "    def __init__(self, first_name=None, last_name=None):\n",
    "        self.first_name = first_name\n",
    "        self.last_name = last_name\n",
    "        \n",
    "    @classmethod\n",
    "    def from_full_name(cls, full_name): # note that it takes argument `cls`\n",
    "        first, last = full_name.split(' ')\n",
    "        return cls(first_name=first, last_name=last)\n",
    "\n",
    "x = Example.from_full_name(\"John Doe\")\n",
    "\n",
    "y = Example(first_name='John', last_name='Doe')\n",
    "\n",
    "print(x.first_name)\n",
    "print(x.last_name)\n",
    "\n",
    "print(y.first_name)\n",
    "print(y.last_name)"
   ]
  },
  {
   "cell_type": "code",
   "execution_count": 48,
   "metadata": {},
   "outputs": [
    {
     "data": {
      "text/plain": [
       "4"
      ]
     },
     "execution_count": 48,
     "metadata": {},
     "output_type": "execute_result"
    }
   ],
   "source": [
    "class Base:\n",
    "    count = int(0)\n",
    "    \n",
    "    def __init__(self):\n",
    "        self._count()\n",
    "    \n",
    "    @classmethod\n",
    "    def _count(cls):\n",
    "        cls.count += 1\n",
    "        return cls.count\n",
    "    \n",
    "    \n",
    "     inventory[count]\n",
    "        \n",
    "a = Base()\n",
    "b = Base()\n",
    "c = Base()\n",
    "d = Base()\n",
    "Base.count"
   ]
  },
  {
   "cell_type": "markdown",
   "metadata": {},
   "source": [
    "# Introduction to inheritance\n",
    "\n",
    "Object inheritance is when you want to create an object that's based off of the structure of another class or you want to create an object that others are based off of.\n",
    "\n",
    "The format for inherited classes are such:\n",
    "```python\n",
    "    class BaseClass:\n",
    "        pass\n",
    "    \n",
    "    class AlternateBaseClass\n",
    "        pass\n",
    "    \n",
    "    class DerivedClass(BaseClass, AlternateBaseclass)\n",
    "        pass\n",
    "```"
   ]
  },
  {
   "cell_type": "code",
   "execution_count": 26,
   "metadata": {},
   "outputs": [
    {
     "name": "stdout",
     "output_type": "stream",
     "text": [
      "hello Anil\n"
     ]
    }
   ],
   "source": [
    "class BaseClass:    #left to right inheriting\n",
    "    greeting = \"hello\"\n",
    "    \n",
    "    def greet(self, name):\n",
    "        print(f\"{self.greeting} {name}\")\n",
    "    \n",
    "b = BaseClass()\n",
    "b.greet('Anil')"
   ]
  },
  {
   "cell_type": "code",
   "execution_count": null,
   "metadata": {},
   "outputs": [],
   "source": [
    "class DerivedClass(BaseClass):\n",
    "    pass\n",
    "\n",
    "d = DerivedClass()\n",
    "\n",
    "d.greet('Anil')"
   ]
  },
  {
   "cell_type": "code",
   "execution_count": 28,
   "metadata": {},
   "outputs": [],
   "source": [
    "class C:\n",
    "    def __init__(self):\n",
    "        self.string =  \"string\"   #creating attributes and setting values\n",
    "        self.integer = 42  #if we had self.__integer it will not be inherited\n",
    "\n",
    "class D(C):  # D will inherit C. D is the inherited\n",
    "    def __init__(self):\n",
    "        self.bools = (True, False)\n",
    "        C.__init__(self)  #create attribute bool in class C so we can access them in Class D"
   ]
  },
  {
   "cell_type": "code",
   "execution_count": 29,
   "metadata": {},
   "outputs": [
    {
     "name": "stdout",
     "output_type": "stream",
     "text": [
      "string\n",
      "(True, False)\n"
     ]
    }
   ],
   "source": [
    "objectD = D()  #create instance of D\n",
    "print(objectD.string)  #string from C\n",
    "print(objectD.bools)   #bools from C"
   ]
  },
  {
   "cell_type": "code",
   "execution_count": 30,
   "metadata": {},
   "outputs": [
    {
     "data": {
      "text/plain": [
       "42"
      ]
     },
     "execution_count": 30,
     "metadata": {},
     "output_type": "execute_result"
    }
   ],
   "source": [
    "objectD.integer"
   ]
  },
  {
   "cell_type": "code",
   "execution_count": 31,
   "metadata": {},
   "outputs": [
    {
     "name": "stdout",
     "output_type": "stream",
     "text": [
      "a cat meows\n",
      "a dog barks\n",
      "a cow moos\n"
     ]
    }
   ],
   "source": [
    "class Animal:\n",
    "    def __init__(self, name, type_of_animal=None, sound=None):\n",
    "        self.name = name\n",
    "        self.type = type_of_animal\n",
    "        self.sound = sound\n",
    "        \n",
    "    def make_sound(self):\n",
    "        print(f\"a {self.type} {self.sound}\")\n",
    "    \n",
    "cat = Animal('matilda', 'cat', 'meows')\n",
    "dog = Animal('clifford', 'dog', 'barks')\n",
    "cow = Animal('spot', 'cow', 'moos')\n",
    "cat.make_sound()\n",
    "dog.make_sound()\n",
    "cow.make_sound()"
   ]
  },
  {
   "cell_type": "code",
   "execution_count": 32,
   "metadata": {},
   "outputs": [
    {
     "name": "stdout",
     "output_type": "stream",
     "text": [
      "a cat meows\n"
     ]
    }
   ],
   "source": [
    "class Cat(Animal):   #definying a more specific version of the mother class. \n",
    "    def __init__(self, name):\n",
    "        Animal.__init__(self, name, type_of_animal='cat', sound='meows')\n",
    "        \n",
    "matilda = Cat('matilda')\n",
    "\n",
    "matilda.make_sound()"
   ]
  },
  {
   "cell_type": "markdown",
   "metadata": {},
   "source": [
    "#  Special inheritance cases to consider"
   ]
  },
  {
   "cell_type": "code",
   "execution_count": 34,
   "metadata": {},
   "outputs": [
    {
     "data": {
      "text/plain": [
       "('Curtis', 'Jackson')"
      ]
     },
     "execution_count": 34,
     "metadata": {},
     "output_type": "execute_result"
    }
   ],
   "source": [
    "class Parent:\n",
    "    last_name = \"Jackson\"\n",
    "\n",
    "class Child(Parent):   #is going to inherit last_name from the parent\n",
    "    first_name = \"Curtis\"  #if we use the same name it will overwrite it\n",
    "\n",
    "p = Parent()\n",
    "c = Child()\n",
    "\n",
    "c.first_name, c.last_name"
   ]
  },
  {
   "cell_type": "code",
   "execution_count": 33,
   "metadata": {},
   "outputs": [
    {
     "data": {
      "text/plain": [
       "('brown', 'black')"
      ]
     },
     "execution_count": 33,
     "metadata": {},
     "output_type": "execute_result"
    }
   ],
   "source": [
    "class Mother:\n",
    "    eyes = \"brown\"\n",
    "\n",
    "class Father:\n",
    "    hair = \"black\"\n",
    "\n",
    "class Child(Mother, Father):  #inherit both attributes in the classes \n",
    "    pass\n",
    "\n",
    "c = Child()\n",
    "c.eyes, c.hair"
   ]
  },
  {
   "cell_type": "code",
   "execution_count": 36,
   "metadata": {},
   "outputs": [
    {
     "data": {
      "text/plain": [
       "('earth', 'earth')"
      ]
     },
     "execution_count": 36,
     "metadata": {},
     "output_type": "execute_result"
    }
   ],
   "source": [
    "class Animal:\n",
    "    planet = \"earth\"\n",
    "\n",
    "class Cat(Animal):\n",
    "    s = True\n",
    "    pass\n",
    "\n",
    "class Dog(Animal):\n",
    "    t = False\n",
    "    pass\n",
    "\n",
    "c = Cat()\n",
    "d = Dog()\n",
    "\n",
    "c.planet, d.planet"
   ]
  },
  {
   "cell_type": "code",
   "execution_count": 37,
   "metadata": {},
   "outputs": [
    {
     "ename": "AttributeError",
     "evalue": "'Dog' object has no attribute 's'",
     "output_type": "error",
     "traceback": [
      "\u001b[0;31m---------------------------------------------------------------------------\u001b[0m",
      "\u001b[0;31mAttributeError\u001b[0m                            Traceback (most recent call last)",
      "\u001b[0;32m<ipython-input-37-fe7661fce724>\u001b[0m in \u001b[0;36m<module>\u001b[0;34m\u001b[0m\n\u001b[0;32m----> 1\u001b[0;31m \u001b[0mc\u001b[0m\u001b[0;34m.\u001b[0m\u001b[0ms\u001b[0m\u001b[0;34m,\u001b[0m \u001b[0md\u001b[0m\u001b[0;34m.\u001b[0m\u001b[0ms\u001b[0m\u001b[0;34m\u001b[0m\u001b[0;34m\u001b[0m\u001b[0m\n\u001b[0m",
      "\u001b[0;31mAttributeError\u001b[0m: 'Dog' object has no attribute 's'"
     ]
    }
   ],
   "source": [
    "c.s, d.s#d won't have s. Even if they share from the parent they won't share anything else that is not in the parent"
   ]
  },
  {
   "cell_type": "code",
   "execution_count": 38,
   "metadata": {},
   "outputs": [
    {
     "ename": "AttributeError",
     "evalue": "'Cat' object has no attribute 't'",
     "output_type": "error",
     "traceback": [
      "\u001b[0;31m---------------------------------------------------------------------------\u001b[0m",
      "\u001b[0;31mAttributeError\u001b[0m                            Traceback (most recent call last)",
      "\u001b[0;32m<ipython-input-38-22936e1c4e1f>\u001b[0m in \u001b[0;36m<module>\u001b[0;34m\u001b[0m\n\u001b[0;32m----> 1\u001b[0;31m \u001b[0mc\u001b[0m\u001b[0;34m.\u001b[0m\u001b[0mt\u001b[0m\u001b[0;34m,\u001b[0m \u001b[0md\u001b[0m\u001b[0;34m.\u001b[0m\u001b[0mt\u001b[0m\u001b[0;34m\u001b[0m\u001b[0;34m\u001b[0m\u001b[0m\n\u001b[0m",
      "\u001b[0;31mAttributeError\u001b[0m: 'Cat' object has no attribute 't'"
     ]
    }
   ],
   "source": [
    "c.t, d.t  # t only exist in Dog not in Cat"
   ]
  },
  {
   "cell_type": "code",
   "execution_count": null,
   "metadata": {},
   "outputs": [],
   "source": []
  }
 ],
 "metadata": {
  "kernelspec": {
   "display_name": "Python 3",
   "language": "python",
   "name": "python3"
  },
  "language_info": {
   "codemirror_mode": {
    "name": "ipython",
    "version": 3
   },
   "file_extension": ".py",
   "mimetype": "text/x-python",
   "name": "python",
   "nbconvert_exporter": "python",
   "pygments_lexer": "ipython3",
   "version": "3.8.3"
  }
 },
 "nbformat": 4,
 "nbformat_minor": 4
}
