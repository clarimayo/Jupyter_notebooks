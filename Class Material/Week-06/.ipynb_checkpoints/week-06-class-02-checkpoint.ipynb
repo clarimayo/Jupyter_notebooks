{
 "cells": [
  {
   "cell_type": "markdown",
   "metadata": {},
   "source": [
    "<div style=\"background: #000;\n",
    "            color: #FFF;\n",
    "            margin: 0px;\n",
    "                padding: 10px 0px 20px 0px;\n",
    "            text-align: center; \n",
    "                \">\n",
    "    <h1>Week 6 - Class 2 - 10/20</h1>\n",
    "</div>\n",
    "\n",
    "## Objectives for this week:\n",
    "* Objects, \n",
    "* Class declarations, Attributes, Methods\n",
    "* Self keywords\n",
    "* Object Inheritance, Generating Object Instances\n",
    "* Dot Notation\n",
    "\n",
    "## Todays Agenda\n",
    "* Homework Presentations\n",
    "* Dot Notation\n",
    "* More on Generating Object, Instances\n",
    "* More on Class attributes and methods\n",
    "* Dunder methods/attributes\n",
    "* Operator Overloading\n",
    "* Intro to inheritance\n"
   ]
  },
  {
   "cell_type": "markdown",
   "metadata": {},
   "source": [
    "# Homework Presentations"
   ]
  },
  {
   "cell_type": "markdown",
   "metadata": {},
   "source": [
    "# Exercise 2\n",
    "\n",
    "Create the decorator function(s) that wraps the `hello` function in the following html tags.\n",
    "\n",
    "hello() -> `<div><p><b>hello</b></p></div>`\n",
    "\n"
   ]
  },
  {
   "cell_type": "code",
   "execution_count": null,
   "metadata": {},
   "outputs": [],
   "source": []
  },
  {
   "cell_type": "markdown",
   "metadata": {},
   "source": [
    "# Dot Notation\n",
    "\n",
    "Dot notation refers to the use of `.` to reference attributes or methods of an object\n",
    "\n",
    "example:\n",
    "```python\n",
    "    s = Example()\n",
    "    s.arg1\n",
    "    s.method1()\n",
    "```\n",
    "\n",
    "The `.` allows us to access attributes of the object.\n",
    "\n",
    "We've been using this since week 1. \n",
    "\n",
    "examples:\n",
    "\n",
    "```python\n",
    "import string\n",
    "    \n",
    "string.ascii_lowercase\n",
    "```\n",
    "\n",
    "or\n",
    "\n",
    "```python\n",
    "s = list()\n",
    "\n",
    "s.append(3)\n",
    "```\n"
   ]
  },
  {
   "cell_type": "code",
   "execution_count": null,
   "metadata": {},
   "outputs": [],
   "source": [
    "from IPython.lib.display import YouTubeVideo\n",
    "\n",
    "YouTubeVideo('AsafkCAJpJ0', width=600)"
   ]
  },
  {
   "cell_type": "markdown",
   "metadata": {},
   "source": [
    "# Reading for objects\n",
    "\n",
    "https://docs.python.org/3/tutorial/classes.html  \n",
    "\n",
    "https://www.digitalocean.com/community/tutorials/how-to-construct-classes-and-define-objects-in-python-3  \n",
    "\n",
    "https://www.hackerearth.com/practice/python/object-oriented-programming/classes-and-objects-i/tutorial/  \n",
    "\n",
    "https://www.bitdegree.org/learn/python-class  \n",
    "\n",
    "https://dev.to/codemouse92/dead-simple-python-classes-42f7  \n",
    "\n",
    "https://techsparx.com/software-development/python/classes.html  \n",
    "\n",
    "https://opensource.com/article/19/7/get-modular-python-classes  \n",
    "\n",
    "https://medium.com/better-programming/python-how-object-and-class-attributes-work-8edf4ed9caa4  \n",
    "\n",
    "https://dzone.com/articles/python-class-attributes-vs-instance-attributes  "
   ]
  },
  {
   "cell_type": "markdown",
   "metadata": {},
   "source": [
    "# Generating Objects, Instances"
   ]
  },
  {
   "cell_type": "code",
   "execution_count": null,
   "metadata": {},
   "outputs": [],
   "source": [
    "class Example1:\n",
    "    def __init__(self, arg1, arg2, kwarg1=True):\n",
    "        self.arg1 = arg1\n",
    "        self.arg2 = arg2\n",
    "        self.kwarg1 = kwarg1\n",
    "        \n",
    "    def method1(self):\n",
    "        return \"method1\""
   ]
  },
  {
   "cell_type": "code",
   "execution_count": null,
   "metadata": {},
   "outputs": [],
   "source": [
    "s = Example1(\"arg1\", \"arg2\", kwarg1=False)\n",
    "print(s.arg1)\n",
    "print(s.arg2)\n",
    "print(s.kwarg1)\n",
    "print(s.method1())"
   ]
  },
  {
   "cell_type": "code",
   "execution_count": 2,
   "metadata": {},
   "outputs": [
    {
     "name": "stdout",
     "output_type": "stream",
     "text": [
      "4\n",
      "5\n",
      "a 3\n",
      "b 5\n"
     ]
    }
   ],
   "source": [
    "class Example2:\n",
    "    def __init__(self, *args, **kwargs):\n",
    "        self.args = args\n",
    "        self.kwargs = kwargs\n",
    "        for i in args:\n",
    "            print(i)\n",
    "        for k,v in kwargs.items():\n",
    "            print(k,v)\n",
    "            \n",
    "s = Example2(4,5, a =3, b=5)"
   ]
  },
  {
   "cell_type": "markdown",
   "metadata": {},
   "source": [
    "# Using objects"
   ]
  },
  {
   "cell_type": "code",
   "execution_count": null,
   "metadata": {},
   "outputs": [
    {
     "name": "stdout",
     "output_type": "stream",
     "text": [
      "A: Donald Trump\n",
      "B: Joe Biden\n"
     ]
    }
   ],
   "source": [
    "class Ballot:\n",
    "    presidential_choices = {\n",
    "        'A' : 'Donald Trump',\n",
    "        'B' : 'Joe Biden'\n",
    "    }\n",
    "    \n",
    "    def __init__(self, president=None, governor=None,\n",
    "                 senator=None, congressperson=None):\n",
    "        self.president = president\n",
    "        self.governor = governor\n",
    "        self.senator = senator\n",
    "        self.congressperson = congressperson\n",
    "    \n",
    "    def pick_president(self, choice):\n",
    "        if type(choice) == str:\n",
    "            self.president = choice\n",
    "            \n",
    "    def display_choices(self,choices):\n",
    "        for k,v in choices.items():\n",
    "            print(f\"{k}: {v}\")\n",
    "        choice= input(\"Choose A or B: \")\n",
    "    \n",
    "    @staticmethod\n",
    "    def print_year():\n",
    "        print(2020)\n",
    "        \n",
    "my_ballot = Ballot()\n",
    "\n",
    "my_ballot.pick_president = \"my dog\"\n",
    "\n",
    "my_ballot.display_choices(my_ballot.presidential_choices)"
   ]
  },
  {
   "cell_type": "markdown",
   "metadata": {},
   "source": [
    "# `getattr()`\n",
    "\n",
    "`getattr(object, name[, default])` -> `value`\n",
    "\n",
    "Get a named attribute from an object \n",
    "\n",
    "`getattr(x, 'y')` is equivalent to `x.y` \n",
    "\n",
    "When a default argument is given, it is returned when the attribute doesn't exist; without it, an exception is raised in that case."
   ]
  },
  {
   "cell_type": "code",
   "execution_count": 2,
   "metadata": {},
   "outputs": [
    {
     "name": "stdout",
     "output_type": "stream",
     "text": [
      "war and peace\n",
      "war and peace\n",
      "None\n"
     ]
    }
   ],
   "source": [
    "class Book:\n",
    "    title = \"war and peace\"\n",
    "    author = \"hello\"\n",
    "\n",
    "book = Book()\n",
    "\n",
    "print(getattr(book, \"title\")) # gets attribute from this instance\n",
    "print(book.title)\n",
    "getattr(book, 'title') == book.title #return the same thing\n",
    "\n",
    "#getattr has default attribute\n",
    "print(getattr(book, 'jhsk', None))"
   ]
  },
  {
   "cell_type": "code",
   "execution_count": 5,
   "metadata": {},
   "outputs": [
    {
     "ename": "AttributeError",
     "evalue": "'Book' object has no attribute 'author'",
     "output_type": "error",
     "traceback": [
      "\u001b[0;31m---------------------------------------------------------------------------\u001b[0m",
      "\u001b[0;31mAttributeError\u001b[0m                            Traceback (most recent call last)",
      "\u001b[0;32m<ipython-input-5-3edfc5ff6c74>\u001b[0m in \u001b[0;36m<module>\u001b[0;34m\u001b[0m\n\u001b[1;32m      2\u001b[0m \u001b[0;34m\u001b[0m\u001b[0m\n\u001b[1;32m      3\u001b[0m \u001b[0;32mfor\u001b[0m \u001b[0mattr\u001b[0m \u001b[0;32min\u001b[0m \u001b[0mlist_of_attrs\u001b[0m\u001b[0;34m:\u001b[0m\u001b[0;34m\u001b[0m\u001b[0;34m\u001b[0m\u001b[0m\n\u001b[0;32m----> 4\u001b[0;31m     \u001b[0mgetattr\u001b[0m\u001b[0;34m(\u001b[0m\u001b[0mbook\u001b[0m\u001b[0;34m,\u001b[0m\u001b[0mattr\u001b[0m\u001b[0;34m)\u001b[0m\u001b[0;34m\u001b[0m\u001b[0;34m\u001b[0m\u001b[0m\n\u001b[0m",
      "\u001b[0;31mAttributeError\u001b[0m: 'Book' object has no attribute 'author'"
     ]
    }
   ],
   "source": [
    "list_of_attrs = [\"title\", \"author\"]\n",
    "\n",
    "for attr in list_of_attrs:\n",
    "    getattr(book,attr)"
   ]
  },
  {
   "cell_type": "markdown",
   "metadata": {},
   "source": [
    "# `setattr()`\n",
    "\n",
    "Sets the named attribute on the given object to the specified value.\n",
    "\n",
    "The `setattr()` function takes three parameters:\n",
    "* object - object whose attribute is to be set\n",
    "* name - attribute name\n",
    "* value - value given to the attribute\n",
    "\n",
    "\n",
    "`setattr(x, 'y', v)` is equivalent to `x.y = v`"
   ]
  },
  {
   "cell_type": "code",
   "execution_count": null,
   "metadata": {},
   "outputs": [],
   "source": [
    "class Book:\n",
    "    title = None\n",
    "\n",
    "book = Book()\n",
    "\n",
    "setattr(book,\"title\", \"war and peace\")\n",
    "\n",
    "print(book.title)\n",
    "print(getattr(book, 'title'))"
   ]
  },
  {
   "cell_type": "markdown",
   "metadata": {},
   "source": [
    "# \"Dunder\" Methods/Attributes"
   ]
  },
  {
   "cell_type": "markdown",
   "metadata": {},
   "source": [
    "## `__dict__`\n",
    "\n",
    "This attribute contains a dictionary of the class/object attributes"
   ]
  },
  {
   "cell_type": "code",
   "execution_count": 7,
   "metadata": {},
   "outputs": [
    {
     "name": "stdout",
     "output_type": "stream",
     "text": [
      "{'__module__': '__main__', 'attribute1': 'attribute1 value', '__init__': <function DictExample.__init__ at 0x7f8f4db17820>, 'classmethod1': <function DictExample.classmethod1 at 0x7f8f4dbe6040>, '__dict__': <attribute '__dict__' of 'DictExample' objects>, '__weakref__': <attribute '__weakref__' of 'DictExample' objects>, '__doc__': None}\n"
     ]
    },
    {
     "data": {
      "text/plain": [
       "{'attribute1': 'attr', 'new_attribute': False}"
      ]
     },
     "execution_count": 7,
     "metadata": {},
     "output_type": "execute_result"
    }
   ],
   "source": [
    "class DictExample:\n",
    "    attribute1 = \"attribute1 value\"\n",
    "    \n",
    "    def __init__(self, attr):\n",
    "        self.attribute1 = attr\n",
    "        \n",
    "    def classmethod1(self):\n",
    "        return \"classmethod1 value\"\n",
    "    \n",
    "print(DictExample.__dict__)\n",
    "\n",
    "d = DictExample('attr')\n",
    "d.new_attribute = False  # we can add an attribute\n",
    "d.__dict__"
   ]
  },
  {
   "cell_type": "markdown",
   "metadata": {},
   "source": [
    "## `__getattr__` \n",
    "\n",
    "This method will control how python accesses attributes of your object/class"
   ]
  },
  {
   "cell_type": "code",
   "execution_count": 8,
   "metadata": {},
   "outputs": [
    {
     "name": "stdout",
     "output_type": "stream",
     "text": [
      "war and peace\n",
      "Leo Tolstoy\n"
     ]
    },
    {
     "ename": "AttributeError",
     "evalue": "'Book' object has no attribute 'year'",
     "output_type": "error",
     "traceback": [
      "\u001b[0;31m---------------------------------------------------------------------------\u001b[0m",
      "\u001b[0;31mAttributeError\u001b[0m                            Traceback (most recent call last)",
      "\u001b[0;32m<ipython-input-8-aa9ccbe6d233>\u001b[0m in \u001b[0;36m<module>\u001b[0;34m\u001b[0m\n\u001b[1;32m      8\u001b[0m \u001b[0mprint\u001b[0m\u001b[0;34m(\u001b[0m\u001b[0mbook\u001b[0m\u001b[0;34m.\u001b[0m\u001b[0mtitle\u001b[0m\u001b[0;34m)\u001b[0m\u001b[0;34m\u001b[0m\u001b[0;34m\u001b[0m\u001b[0m\n\u001b[1;32m      9\u001b[0m \u001b[0mprint\u001b[0m\u001b[0;34m(\u001b[0m\u001b[0mbook\u001b[0m\u001b[0;34m.\u001b[0m\u001b[0mauthor\u001b[0m\u001b[0;34m)\u001b[0m\u001b[0;34m\u001b[0m\u001b[0;34m\u001b[0m\u001b[0m\n\u001b[0;32m---> 10\u001b[0;31m \u001b[0mprint\u001b[0m\u001b[0;34m(\u001b[0m\u001b[0mbook\u001b[0m\u001b[0;34m.\u001b[0m\u001b[0myear\u001b[0m\u001b[0;34m)\u001b[0m\u001b[0;34m\u001b[0m\u001b[0;34m\u001b[0m\u001b[0m\n\u001b[0m",
      "\u001b[0;31mAttributeError\u001b[0m: 'Book' object has no attribute 'year'"
     ]
    }
   ],
   "source": [
    "class Book:\n",
    "    def __init__(self, title=None, author=None):\n",
    "        self.title = title\n",
    "        self.author = author\n",
    "        \n",
    "book = Book('war and peace', author = 'Leo Tolstoy')\n",
    "\n",
    "print(book.title)\n",
    "print(book.author)\n",
    "print(book.year)  # year attribute doesn't exist"
   ]
  },
  {
   "cell_type": "code",
   "execution_count": 9,
   "metadata": {},
   "outputs": [
    {
     "name": "stdout",
     "output_type": "stream",
     "text": [
      "war and peace\n",
      "Leo Tolstoy\n",
      "None\n"
     ]
    }
   ],
   "source": [
    "class Book:\n",
    "    def __init__(self, title=None, author=None):\n",
    "        self.title = title\n",
    "        self.author = author\n",
    "    \n",
    "    def __getattr__(self, attr): #overwritting python method\n",
    "        #we can do some costumization\n",
    "        if attr not in self.__dict__:\n",
    "            #self.__dict__[attr] = None \n",
    "            #self.attr = None\n",
    "            setattr(self, attr, None)  #set attribute \n",
    "        else:\n",
    "            return getattr(self, attr) #if it does exist then\n",
    "        #return attribute\n",
    "        \n",
    "book = Book('war and peace', author = 'Leo Tolstoy')\n",
    "\n",
    "print(book.title)\n",
    "print(book.author)\n",
    "print(book.year)"
   ]
  },
  {
   "cell_type": "markdown",
   "metadata": {},
   "source": [
    "## `__setattr__`  \n",
    "\n",
    "This method will control how your object sets attributes."
   ]
  },
  {
   "cell_type": "code",
   "execution_count": 12,
   "metadata": {},
   "outputs": [
    {
     "name": "stdout",
     "output_type": "stream",
     "text": [
      "war and peace\n",
      "Leo Tolstoy\n"
     ]
    }
   ],
   "source": [
    "class Book:\n",
    "    def __init__(self, title=None, author=None):\n",
    "        self.title = title\n",
    "        self.author = author\n",
    "        \n",
    "book = Book('war and peace', author = 'Leo Tolstoy')\n",
    "\n",
    "print(book.title)\n",
    "print(book.author)"
   ]
  },
  {
   "cell_type": "code",
   "execution_count": 13,
   "metadata": {},
   "outputs": [
    {
     "name": "stdout",
     "output_type": "stream",
     "text": [
      "War And Peace\n",
      "None\n"
     ]
    }
   ],
   "source": [
    "class Book:\n",
    "    def __init__(self, title=None, author=None):\n",
    "        self.title = title\n",
    "        self.author = author\n",
    "    \n",
    "    def __setattr__(self, attr, value): #overwrite setattr method\n",
    "        if type(value) == str:\n",
    "            #self.attr = value.capitalize() incorrect way\n",
    "            #setattr(self, attr, value)  are going to call itself\n",
    "            #and it will infinite loop. incorrect way of using it\n",
    "            \n",
    "            self.__dict__[attr] = value.title() #make each 1st\n",
    "            #letter capitalized. Use __dic__ instead of dunder\n",
    "            #method\n",
    "        else:\n",
    "            self.__dict__[attr] = None\n",
    "        \n",
    "book = Book('war and peace', author = 3) #create an instance\n",
    "#is going to run the __setattr__ method instead\n",
    "\n",
    "print(book.title)\n",
    "print(book.author) #because 3 is not a string it will return None"
   ]
  },
  {
   "cell_type": "markdown",
   "metadata": {},
   "source": [
    "## `__getitem__`  \n",
    "\n",
    "This method will control how you can access attributes using subscription.  \n",
    "\n",
    "`cls['key']`"
   ]
  },
  {
   "cell_type": "code",
   "execution_count": 14,
   "metadata": {},
   "outputs": [
    {
     "ename": "TypeError",
     "evalue": "'Book' object is not subscriptable",
     "output_type": "error",
     "traceback": [
      "\u001b[0;31m---------------------------------------------------------------------------\u001b[0m",
      "\u001b[0;31mTypeError\u001b[0m                                 Traceback (most recent call last)",
      "\u001b[0;32m<ipython-input-14-78216793505a>\u001b[0m in \u001b[0;36m<module>\u001b[0;34m\u001b[0m\n\u001b[1;32m      7\u001b[0m \u001b[0mbook\u001b[0m \u001b[0;34m=\u001b[0m \u001b[0mBook\u001b[0m\u001b[0;34m(\u001b[0m\u001b[0;34m'war and peace'\u001b[0m\u001b[0;34m,\u001b[0m \u001b[0mauthor\u001b[0m\u001b[0;34m=\u001b[0m\u001b[0;34m'leo tolstoy'\u001b[0m\u001b[0;34m)\u001b[0m\u001b[0;34m\u001b[0m\u001b[0;34m\u001b[0m\u001b[0m\n\u001b[1;32m      8\u001b[0m \u001b[0;34m\u001b[0m\u001b[0m\n\u001b[0;32m----> 9\u001b[0;31m \u001b[0mbook\u001b[0m\u001b[0;34m[\u001b[0m\u001b[0;34m'title'\u001b[0m\u001b[0;34m]\u001b[0m \u001b[0;31m#syntax dictionary\u001b[0m\u001b[0;34m\u001b[0m\u001b[0;34m\u001b[0m\u001b[0m\n\u001b[0m",
      "\u001b[0;31mTypeError\u001b[0m: 'Book' object is not subscriptable"
     ]
    }
   ],
   "source": [
    "#without using the __getitem__\n",
    "class Book:\n",
    "    def __init__(self, title=None,author=None):\n",
    "        self.title = title\n",
    "        self.author = author\n",
    "    \n",
    "book = Book('war and peace', author='leo tolstoy')\n",
    "\n",
    "book['title'] #because it's not a dictionary"
   ]
  },
  {
   "cell_type": "code",
   "execution_count": 16,
   "metadata": {},
   "outputs": [
    {
     "name": "stdout",
     "output_type": "stream",
     "text": [
      "war and peace\n"
     ]
    },
    {
     "data": {
      "text/plain": [
       "2020"
      ]
     },
     "execution_count": 16,
     "metadata": {},
     "output_type": "execute_result"
    }
   ],
   "source": [
    "class Book:\n",
    "    def __init__(self, title=None,author=None):\n",
    "        self.title = title\n",
    "        self.author = author\n",
    "    \n",
    "    def __getitem__(self, key): #overwritten __getitem__\n",
    "        return getattr(self,key) #the key will be the argument\n",
    "    \n",
    "book = Book('war and peace', author='leo tolstoy')\n",
    "book.year = 2020 #add a new attribute\n",
    "print(book['title'])\n",
    "book['year']  #it will give the value of the new attribute"
   ]
  },
  {
   "cell_type": "markdown",
   "metadata": {},
   "source": [
    "## `__setitem__`  \n",
    "\n",
    "This method will control how you can set attributes using item assignment.  \n",
    "\n",
    "e.g. `cls['key'] = 'value'`"
   ]
  },
  {
   "cell_type": "code",
   "execution_count": 17,
   "metadata": {},
   "outputs": [
    {
     "ename": "TypeError",
     "evalue": "'Book' object does not support item assignment",
     "output_type": "error",
     "traceback": [
      "\u001b[0;31m---------------------------------------------------------------------------\u001b[0m",
      "\u001b[0;31mTypeError\u001b[0m                                 Traceback (most recent call last)",
      "\u001b[0;32m<ipython-input-17-968561da043d>\u001b[0m in \u001b[0;36m<module>\u001b[0;34m\u001b[0m\n\u001b[1;32m      6\u001b[0m \u001b[0mbook\u001b[0m \u001b[0;34m=\u001b[0m \u001b[0mBook\u001b[0m\u001b[0;34m(\u001b[0m\u001b[0;34m'war and peace'\u001b[0m\u001b[0;34m,\u001b[0m \u001b[0mauthor\u001b[0m\u001b[0;34m=\u001b[0m\u001b[0;34m'leo tolstoy'\u001b[0m\u001b[0;34m)\u001b[0m\u001b[0;34m\u001b[0m\u001b[0;34m\u001b[0m\u001b[0m\n\u001b[1;32m      7\u001b[0m \u001b[0;34m\u001b[0m\u001b[0m\n\u001b[0;32m----> 8\u001b[0;31m \u001b[0mbook\u001b[0m\u001b[0;34m[\u001b[0m\u001b[0;34m'title'\u001b[0m\u001b[0;34m]\u001b[0m \u001b[0;34m=\u001b[0m \u001b[0;34m'new book'\u001b[0m \u001b[0;31m#set new value to attribute of this\u001b[0m\u001b[0;34m\u001b[0m\u001b[0;34m\u001b[0m\u001b[0m\n\u001b[0m\u001b[1;32m      9\u001b[0m \u001b[0;31m#instance\u001b[0m\u001b[0;34m\u001b[0m\u001b[0;34m\u001b[0m\u001b[0;34m\u001b[0m\u001b[0m\n\u001b[1;32m     10\u001b[0m \u001b[0;34m\u001b[0m\u001b[0m\n",
      "\u001b[0;31mTypeError\u001b[0m: 'Book' object does not support item assignment"
     ]
    }
   ],
   "source": [
    "class Book:\n",
    "    def __init__(self, title=None,author=None):\n",
    "        self.title = title\n",
    "        self.author = author\n",
    "    \n",
    "book = Book('war and peace', author='leo tolstoy')\n",
    "\n",
    "book['title'] = 'new book' #set new value to attribute of this\n",
    "#instance\n",
    "\n",
    "book['title'] #doesn't work because of __getitem method"
   ]
  },
  {
   "cell_type": "code",
   "execution_count": 18,
   "metadata": {},
   "outputs": [
    {
     "data": {
      "text/plain": [
       "'new book'"
      ]
     },
     "execution_count": 18,
     "metadata": {},
     "output_type": "execute_result"
    }
   ],
   "source": [
    "class Book:\n",
    "    def __init__(self, title=None,author=None):\n",
    "        self.title = title\n",
    "        self.author = author\n",
    "        \n",
    "    def __getitem__(self, key):\n",
    "        return getattr(self,key)\n",
    "    \n",
    "    def __setitem__(self, key, value):\n",
    "        return setattr(self,key, value)\n",
    "    \n",
    "    \n",
    "book = Book('war and peace', author='leo tolstoy')\n",
    "\n",
    "book['title'] = 'new book'\n",
    "book['title'] # __getitem__ has been overwritten"
   ]
  },
  {
   "cell_type": "markdown",
   "metadata": {},
   "source": [
    "## `__repr__`  \n",
    "\n",
    "This method controls how your class is presented (like when outputted)"
   ]
  },
  {
   "cell_type": "code",
   "execution_count": 10,
   "metadata": {},
   "outputs": [
    {
     "data": {
      "text/plain": [
       "<__main__.Book at 0x7f8f4db58e80>"
      ]
     },
     "execution_count": 10,
     "metadata": {},
     "output_type": "execute_result"
    }
   ],
   "source": [
    "class Book:\n",
    "    def __init__(self, title=None,author=None):\n",
    "        self.title = title\n",
    "        self.author = author\n",
    "    \n",
    "book = Book('war and peace', author='leo tolstoy')\n",
    "\n",
    "book   #how to return it"
   ]
  },
  {
   "cell_type": "code",
   "execution_count": 11,
   "metadata": {},
   "outputs": [
    {
     "data": {
      "text/plain": [
       "Book Class - title: war and peace, author: leo tolstoy"
      ]
     },
     "execution_count": 11,
     "metadata": {},
     "output_type": "execute_result"
    }
   ],
   "source": [
    "class Book:\n",
    "    def __init__(self, title=None,author=None):\n",
    "        self.title = title\n",
    "        self.author = author\n",
    "        \n",
    "    def __repr__(self):  #replace what python provided and\n",
    "        #customize it\n",
    "        return f\"Book Class - title: {self.title}, author: {self.author}\"\n",
    "    \n",
    "    \n",
    "    \n",
    "book = Book('war and peace', author='leo tolstoy')\n",
    "\n",
    "book"
   ]
  },
  {
   "cell_type": "markdown",
   "metadata": {},
   "source": [
    "## `__str__`  \n",
    "\n",
    "This method controls how your method is turned into a str (like if printed)."
   ]
  },
  {
   "cell_type": "code",
   "execution_count": 19,
   "metadata": {},
   "outputs": [
    {
     "name": "stdout",
     "output_type": "stream",
     "text": [
      "<__main__.Book object at 0x7f8f4dbf0940>\n"
     ]
    }
   ],
   "source": [
    "class Book:\n",
    "    def __init__(self, title=None,author=None):\n",
    "        self.title = title\n",
    "        self.author = author\n",
    "    \n",
    "book = Book('war and peace', author='leo tolstoy')\n",
    "\n",
    "print(book)"
   ]
  },
  {
   "cell_type": "code",
   "execution_count": 20,
   "metadata": {},
   "outputs": [
    {
     "name": "stdout",
     "output_type": "stream",
     "text": [
      "book: 'war and peace' by author leo tolstoy\n"
     ]
    }
   ],
   "source": [
    "class Book:\n",
    "    def __init__(self, title=None,author=None):\n",
    "        self.title = title\n",
    "        self.author = author\n",
    "    \n",
    "    def __str__(self): #set it to return a customized string\n",
    "        return f\"book: '{self.title}' by author {self.author}\"\n",
    "    \n",
    "    \n",
    "book = Book('war and peace', author='leo tolstoy')\n",
    "\n",
    "print(book)"
   ]
  },
  {
   "cell_type": "code",
   "execution_count": 21,
   "metadata": {},
   "outputs": [
    {
     "name": "stdout",
     "output_type": "stream",
     "text": [
      "book: 'war and peace' by author leo tolstoy\n"
     ]
    }
   ],
   "source": [
    "class Book:\n",
    "    def __init__(self, title=None,author=None):\n",
    "        self.title = title\n",
    "        self.author = author\n",
    "    \n",
    "    def __str__(self): #print it\n",
    "        return f\"book: '{self.title}' by author {self.author}\"\n",
    "    \n",
    "    def __repr__(self): #output it\n",
    "        return f\"Book Class - title: {self.title}, author: {self.author}\"\n",
    "\n",
    "book = Book('war and peace', author='leo tolstoy')\n",
    "\n",
    "print(book)"
   ]
  },
  {
   "cell_type": "markdown",
   "metadata": {},
   "source": [
    "## Putting it all together"
   ]
  },
  {
   "cell_type": "code",
   "execution_count": 28,
   "metadata": {},
   "outputs": [
    {
     "name": "stdout",
     "output_type": "stream",
     "text": [
      "Leo Tolstoy\n"
     ]
    },
    {
     "data": {
      "text/plain": [
       "War And Peace - Leo Tolstoy"
      ]
     },
     "execution_count": 28,
     "metadata": {},
     "output_type": "execute_result"
    }
   ],
   "source": [
    "import datetime\n",
    "\n",
    "class Book:\n",
    "    def __init__(self, title=None,author=None, \n",
    "     time_entered = datetime.datetime.now()):\n",
    "        self.title = title\n",
    "        self.author = author\n",
    "        self.time_entered = time_entered\n",
    "    \n",
    "    def __repr__(self):  # so it doesn't return <__main__.Book at 0x7f8f4dc0b610>\n",
    "        return f\"{self.title} - {self.author}\"\n",
    "    \n",
    "    def __str__(self):\n",
    "        return f\"Book-{self}\"\n",
    "    \n",
    "    def __setattr__(self, attr, value):\n",
    "        if type(value) == str:\n",
    "            #self.attr = value.capitalize()\n",
    "            #setattr(self, attr, value)\n",
    "            self.__dict__[attr] = value.title()\n",
    "        else:\n",
    "            self.__dict__[attr] = None\n",
    "    \n",
    "    def __getattr__(self, attr):\n",
    "        if attr not in self.__dict__:\n",
    "            #self.__dict__[attr] = None \n",
    "            #self.attr = None\n",
    "            setattr(self, attr, None)   \n",
    "        else:\n",
    "            return getattr(self, attr)\n",
    "    \n",
    "    def __getitem__(self, key):\n",
    "        return getattr(self,key)\n",
    "    \n",
    "    def __setitem__(self,key, value):\n",
    "        return setattr(self,key,value)\n",
    "    \n",
    "catalog = {\n",
    "    'war and peace': 'leo tolstoy', \n",
    "    '1984': 'george orwell', \n",
    "    'brave new world': 'aldous huxley', \n",
    "    'catch-22': 'joseph heller'\n",
    "}\n",
    "\n",
    "books = [Book(title, author=author) for title, author in catalog.items()]\n",
    "         # creating instances.            #unpacking the k,v dict\n",
    "print(books[0]['author'])\n",
    "\n",
    "books[0]\n",
    "    "
   ]
  },
  {
   "cell_type": "code",
   "execution_count": null,
   "metadata": {},
   "outputs": [],
   "source": []
  },
  {
   "cell_type": "markdown",
   "metadata": {},
   "source": [
    "# Operator Overloading\n",
    "\n",
    "Certain operators like `==`, `+`, `-`, `*` can be overloaded to be used with user-defined datatypes like classes as well as built-in type like integers\n",
    "\n",
    "`==`  `__eq__`  \n",
    "`-` `__sub__`  \n",
    "`*` `__mul__`  \n",
    "`/` `__truediv__`  \n",
    "`//` `__floordiv__`  \n",
    "`%` `__mod__`  \n",
    "`**` `__pow__`  \n",
    "`<`  `__lt__`   \n",
    "`>`  `__gt__`  \n",
    "`<=` `__le__`  \n",
    "`>=` `__ge__`  \n",
    "`!=` `__ne__`"
   ]
  },
  {
   "cell_type": "markdown",
   "metadata": {},
   "source": [
    "# Point example"
   ]
  },
  {
   "cell_type": "code",
   "execution_count": 32,
   "metadata": {},
   "outputs": [
    {
     "data": {
      "text/plain": [
       "True"
      ]
     },
     "execution_count": 32,
     "metadata": {},
     "output_type": "execute_result"
    }
   ],
   "source": [
    "class Point:\n",
    "    def __init__(self, x=0, y=0):\n",
    "        self.x = x\n",
    "        self.y = y\n",
    "    \n",
    "    def __eq__(self, other):\n",
    "        return self.x == other.x and self.y == other.y\n",
    "    \n",
    "p = Point(2,4)\n",
    "q = Point(2,4)\n",
    "\n",
    "p == q"
   ]
  },
  {
   "cell_type": "markdown",
   "metadata": {},
   "source": [
    "#### How do we implement others? (code along)"
   ]
  },
  {
   "cell_type": "code",
   "execution_count": 33,
   "metadata": {},
   "outputs": [
    {
     "data": {
      "text/plain": [
       "True"
      ]
     },
     "execution_count": 33,
     "metadata": {},
     "output_type": "execute_result"
    }
   ],
   "source": [
    "class Point:\n",
    "    def __init__(self, x=0, y=0):\n",
    "        self.x = x\n",
    "        self.y = y\n",
    "    \n",
    "    def __eq__(self, other):\n",
    "        return self.x == other.x and self.y == other.y\n",
    "    \n",
    "p = Point(2,4)\n",
    "q = Point(2,4)\n",
    "\n",
    "p == q"
   ]
  },
  {
   "cell_type": "markdown",
   "metadata": {},
   "source": [
    "# Introduction to inheritance\n",
    "\n",
    "Object inheritance is when you want to create an object that's based off of the structure of another class or you want to create an object that others are based off of.\n",
    "\n",
    "The format for inherited classes are such:\n",
    "```python\n",
    "    class BaseClass:\n",
    "        pass\n",
    "    \n",
    "    class AlternateBaseClass\n",
    "        pass\n",
    "    \n",
    "    class DerivedClass(BaseClass, AlternateBaseclass)\n",
    "        pass\n",
    "```"
   ]
  },
  {
   "cell_type": "code",
   "execution_count": null,
   "metadata": {},
   "outputs": [],
   "source": [
    "class Animal:\n",
    "    def __init__(self, name, type_of_animal=None, sound=None):\n",
    "        self.name = name\n",
    "        self.type = type_of_animal\n",
    "        self.sound = sound\n",
    "        \n",
    "    def make_sound(self):\n",
    "        print(f\"a {self.type} {self.sound}\")\n",
    "    \n",
    "cat = Animal('matilda', 'cat', 'meows')\n",
    "dog = Animal('clifford', 'dog', 'barks')\n",
    "cow = Animal('spot', 'cow', 'moos')\n",
    "cat.make_sound()\n",
    "dog.make_sound()\n",
    "cow.make_sound()\n",
    "        "
   ]
  },
  {
   "cell_type": "code",
   "execution_count": null,
   "metadata": {},
   "outputs": [],
   "source": [
    "class Cat(Animal):\n",
    "    def __init__(self, name):\n",
    "        Animal.__init__(self, name, type_of_animal='cat', sound='meows')\n",
    "        \n",
    "matilda = Cat('matilda')\n",
    "\n",
    "matilda.make_sound()"
   ]
  },
  {
   "cell_type": "code",
   "execution_count": null,
   "metadata": {},
   "outputs": [],
   "source": []
  }
 ],
 "metadata": {
  "kernelspec": {
   "display_name": "Python 3",
   "language": "python",
   "name": "python3"
  },
  "language_info": {
   "codemirror_mode": {
    "name": "ipython",
    "version": 3
   },
   "file_extension": ".py",
   "mimetype": "text/x-python",
   "name": "python",
   "nbconvert_exporter": "python",
   "pygments_lexer": "ipython3",
   "version": "3.8.3"
  }
 },
 "nbformat": 4,
 "nbformat_minor": 4
}
