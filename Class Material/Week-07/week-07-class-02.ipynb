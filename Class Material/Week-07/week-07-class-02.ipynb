{
 "cells": [
  {
   "cell_type": "markdown",
   "metadata": {},
   "source": [
    "<div style=\"background: #000;\n",
    "            color: #FFF;\n",
    "            margin: 0px;\n",
    "                padding: 10px 0px 20px 0px;\n",
    "            text-align: center; \n",
    "                \">\n",
    "    <h1>Week 7 - Class 2 - 10/27</h1>\n",
    "</div>\n",
    "\n",
    "## Objectives for this week:\n",
    "* Modules in Python\n",
    "* Calling Modules, Exporting Modules\n",
    "* File Structures\n",
    "\n",
    "## Todays Agenda\n",
    "* Homework Presentations\n",
    "* Working on our own Module\n",
    "* Exporting Modules"
   ]
  },
  {
   "cell_type": "markdown",
   "metadata": {},
   "source": [
    "# Homework Presentations"
   ]
  },
  {
   "cell_type": "markdown",
   "metadata": {},
   "source": [
    "# Exercise 2\n",
    "\n",
    "Create a class called `SafeFloat` that stores an attribute called `num` as an instance attribute set during initialization and sets `num_as_float` based on `num`\n",
    "\n",
    "Include the following three methods:\n",
    "\n",
    "`to_float` - that converts `num` to a float and stores that an attribute `num_as_float`. If `num` cannot be converted, set `num_as_float` to `None`. Do on mutate the original `num`, we'd like to keep it.\n",
    "\n",
    "`check_type` - that returns `True` if `num_as_float` is a float. It should create `num_as_float` if it doesn't exist. \n",
    "\n",
    "and a method that overrides the addition operator so that when instances of `SafeFloat` are added, `num_as_float` is used to add. Return the sum of the two instances or return `None` if the two cannot be added.\n",
    "\n",
    "Demonstrate that this works for strings, ints, bools and floats."
   ]
  },
  {
   "cell_type": "code",
   "execution_count": 12,
   "metadata": {},
   "outputs": [
    {
     "name": "stdout",
     "output_type": "stream",
     "text": [
      "24.0\n",
      "None\n",
      "True\n",
      "False\n",
      "None\n",
      "\n",
      "\n",
      "24.0\n",
      "None\n",
      "True\n",
      "False\n",
      "None\n"
     ]
    }
   ],
   "source": [
    "class SafeFloat:\n",
    "    def __init__(self, num):\n",
    "        self.num = num\n",
    "        self.to_float() \n",
    "    \n",
    "    def to_float(self):\n",
    "        self.num_as_float = None\n",
    "        if not isinstance(self.num, str):\n",
    "            self.num_as_float = float(self.num)\n",
    "    \n",
    "    def check_type(self):\n",
    "        self.to_float()\n",
    "        if isinstance(self.num_as_float, (float)):\n",
    "            return True\n",
    "        return False\n",
    "    \n",
    "    def __add__(self, other):\n",
    "        if isinstance(other, SafeFloat):\n",
    "            if self.check_type() and other.check_type():\n",
    "            #if self.num_as_float and other.num_as_float:\n",
    "                return self.num_as_float + other.num_as_float\n",
    "            \n",
    "    \n",
    "    # replace pass with your code\n",
    "\n",
    "# test with ints, floats, bools and strings\n",
    "e = SafeFloat(24)\n",
    "f = SafeFloat('string')\n",
    "print(e.num_as_float)\n",
    "print(f.num_as_float)\n",
    "print(e.check_type())\n",
    "print(f.check_type())\n",
    "print(e + f)\n",
    "print(\"\\n\")\n",
    "e = SafeFloat(24)\n",
    "f = SafeFloat('string')\n",
    "print(e.num_as_float)\n",
    "print(f.num_as_float)\n",
    "print(e.check_type())\n",
    "print(f.check_type())\n",
    "print(e + f)"
   ]
  },
  {
   "cell_type": "markdown",
   "metadata": {},
   "source": [
    "# Review:"
   ]
  },
  {
   "cell_type": "markdown",
   "metadata": {},
   "source": [
    "Data Types (that we deal with):\n",
    "* `int`\n",
    "* `str`\n",
    "* `bool`\n",
    "* `float`"
   ]
  },
  {
   "cell_type": "markdown",
   "metadata": {},
   "source": [
    "Data Structures (that we deal with):\n",
    "* `list`\n",
    "* `tuple`\n",
    "* `set`\n",
    "* `dict`"
   ]
  },
  {
   "cell_type": "markdown",
   "metadata": {},
   "source": [
    "Control Structures:\n",
    "* `if`/`elif`/`else`\n",
    "* `for`\n",
    "* `while`\n",
    "* `with`"
   ]
  },
  {
   "cell_type": "markdown",
   "metadata": {},
   "source": [
    "### Functions"
   ]
  },
  {
   "cell_type": "code",
   "execution_count": null,
   "metadata": {},
   "outputs": [],
   "source": [
    "# function with no arguments and no return\n",
    "def example_1():  #doesnt need an argument and no return\n",
    "    print(\"hello\")\n",
    "    \n",
    "example_1()  #even if we store it in a variable it won't have a value because there is no return"
   ]
  },
  {
   "cell_type": "code",
   "execution_count": null,
   "metadata": {},
   "outputs": [],
   "source": [
    "# function with 1 argument and no return\n",
    "def example_2(arg):\n",
    "    print(arg)   #we can add a return here if we want to store it later.\n",
    "    \n",
    "example_2('string')"
   ]
  },
  {
   "cell_type": "code",
   "execution_count": null,
   "metadata": {},
   "outputs": [],
   "source": [
    "# function with arbitrary number of arguments and 1 return\n",
    "def example_3(*args):    #when you pass multiple args in a func it will return it as a tupple. One * to unpack\n",
    "    return args\n",
    "\n",
    "example_3(3,4,5)"
   ]
  },
  {
   "cell_type": "code",
   "execution_count": 1,
   "metadata": {},
   "outputs": [
    {
     "name": "stdout",
     "output_type": "stream",
     "text": [
      "a 1\n",
      "b 2\n"
     ]
    }
   ],
   "source": [
    "def example_4(**kwargs):   #when multiple keyword arguments get placed and will return as a dict. Two ** to unpack. \n",
    "#     return kwargs\n",
    "#     for k in kwargs.keys():   #returns the key values\n",
    "#         print(k)\n",
    "        \n",
    "    for k,v in kwargs.items():  #refering both keys and values\n",
    "        print(k,v)\n",
    "\n",
    "example_4(a=1, b=2)"
   ]
  },
  {
   "cell_type": "code",
   "execution_count": 3,
   "metadata": {},
   "outputs": [
    {
     "data": {
      "text/plain": [
       "0"
      ]
     },
     "execution_count": 3,
     "metadata": {},
     "output_type": "execute_result"
    }
   ],
   "source": [
    "def example_5():\n",
    "    return 0, 1\n",
    "\n",
    "a,b =  example_5()   #we can unpack the tuple that is returning and assigning it to two variables. \n",
    "a"
   ]
  },
  {
   "cell_type": "code",
   "execution_count": null,
   "metadata": {},
   "outputs": [],
   "source": [
    "def example_6():\n",
    "    pass\n",
    "\n",
    "example_6()"
   ]
  },
  {
   "cell_type": "markdown",
   "metadata": {},
   "source": [
    "### Classes:"
   ]
  },
  {
   "cell_type": "code",
   "execution_count": 5,
   "metadata": {},
   "outputs": [
    {
     "data": {
      "text/plain": [
       "0"
      ]
     },
     "execution_count": 5,
     "metadata": {},
     "output_type": "execute_result"
    }
   ],
   "source": [
    "# instance attribute\n",
    "class Example:\n",
    "    def __init__(self):\n",
    "        self.value = 0\n",
    "        \n",
    "e = Example()\n",
    "e.value\n",
    "#Example.value   #templete doesn't have the attribute. self refers to the instance. "
   ]
  },
  {
   "cell_type": "code",
   "execution_count": 9,
   "metadata": {},
   "outputs": [
    {
     "data": {
      "text/plain": [
       "0"
      ]
     },
     "execution_count": 9,
     "metadata": {},
     "output_type": "execute_result"
    }
   ],
   "source": [
    "# class attribute\n",
    "\n",
    "class Example:\n",
    "    value = 0\n",
    "    \n",
    "e = Example()\n",
    "e.value\n",
    "#Example.value"
   ]
  },
  {
   "cell_type": "code",
   "execution_count": null,
   "metadata": {},
   "outputs": [],
   "source": [
    "# class attribute `value`\n",
    "# becomes instance attribute\n",
    "\n",
    "class Example:\n",
    "    value = 0\n",
    "    def __init__(self, val):\n",
    "        self.value = val\n",
    "        \n",
    "e = Example(\"string\")\n",
    "e.value\n",
    "#Example.value"
   ]
  },
  {
   "cell_type": "code",
   "execution_count": null,
   "metadata": {},
   "outputs": [],
   "source": [
    "# instance attribute \n",
    "# with default `val`\n",
    "\n",
    "class Example:\n",
    "    def __init__(self, val=45):\n",
    "        self.value = val\n",
    "        \n",
    "e = Example(46)\n",
    "e.value\n",
    "#Example.value"
   ]
  },
  {
   "cell_type": "markdown",
   "metadata": {},
   "source": [
    "# Code along:"
   ]
  },
  {
   "cell_type": "code",
   "execution_count": null,
   "metadata": {},
   "outputs": [],
   "source": [
    "class Ballot:\n",
    "    presidential_choices = {\n",
    "        'A': 'Donald Trump',\n",
    "        'B': 'Joe Biden'\n",
    "    }\n",
    "    \n",
    "    def __init__(self, president=None, governor=None,\n",
    "                 senator=None, congressperson=None):\n",
    "        self.president = president\n",
    "        self.governor = governor\n",
    "        self.senator = senator\n",
    "        self.congressperson = congressperson\n",
    "        \n",
    "    def pick_president(self):\n",
    "        display_choices(presidential_choices)\n",
    "            \n",
    "    def display_choices(self, choices):\n",
    "        for k,v in choices.items():\n",
    "            print(f\"{k}: {v}\")\n",
    "        choice = input(\"Choose A or B\")\n",
    "        \n",
    "    @staticmethod\n",
    "    def print_year():\n",
    "        print(2020)\n",
    "    \n",
    "my_ballot = Ballot()\n",
    "\n",
    "my_ballot.pick_president(\"my dog\")\n",
    "\n",
    "my_ballot.display_choices(my_ballot.presidential_choices)"
   ]
  },
  {
   "cell_type": "markdown",
   "metadata": {},
   "source": [
    "# Library module"
   ]
  },
  {
   "cell_type": "markdown",
   "metadata": {},
   "source": [
    "## Let's create your own `library.py` file\n",
    "\n",
    "### open \"library.py\" in your text editor and then enter the following function:\n",
    "\n",
    "```python\n",
    "    def hello_world():\n",
    "        print(\"hello world\")\n",
    "```"
   ]
  },
  {
   "cell_type": "code",
   "execution_count": 2,
   "metadata": {},
   "outputs": [
    {
     "name": "stdout",
     "output_type": "stream",
     "text": [
      "hello world\n"
     ]
    }
   ],
   "source": [
    "import library   # has to be in the same place from where jupyter is opening from\n",
    "\n",
    "library.hello_world() # we can reference the module.function() to access the function"
   ]
  },
  {
   "cell_type": "markdown",
   "metadata": {},
   "source": [
    "# Reloading Modules"
   ]
  },
  {
   "cell_type": "code",
   "execution_count": 3,
   "metadata": {},
   "outputs": [],
   "source": [
    "import library"
   ]
  },
  {
   "cell_type": "code",
   "execution_count": 11,
   "metadata": {},
   "outputs": [
    {
     "name": "stdout",
     "output_type": "stream",
     "text": [
      "hello world\n"
     ]
    }
   ],
   "source": [
    "library.hello_world()"
   ]
  },
  {
   "cell_type": "code",
   "execution_count": 5,
   "metadata": {},
   "outputs": [
    {
     "data": {
      "text/plain": [
       "<module 'library' from '/Users/clarizamayo/Desktop/JupyterNotebooks/Class Material/Week-07/library.py'>"
      ]
     },
     "execution_count": 5,
     "metadata": {},
     "output_type": "execute_result"
    }
   ],
   "source": [
    "import importlib\n",
    "\n",
    "importlib.reload(library)"
   ]
  },
  {
   "cell_type": "code",
   "execution_count": 6,
   "metadata": {},
   "outputs": [
    {
     "name": "stdout",
     "output_type": "stream",
     "text": [
      "hello world\n"
     ]
    }
   ],
   "source": [
    "library.hello_world()"
   ]
  },
  {
   "cell_type": "markdown",
   "metadata": {},
   "source": [
    "## Executing modules as scripts"
   ]
  },
  {
   "cell_type": "code",
   "execution_count": 9,
   "metadata": {},
   "outputs": [],
   "source": [
    "# function defined in module\n",
    "def func(arg):\n",
    "    return 100 * arg"
   ]
  },
  {
   "cell_type": "markdown",
   "metadata": {},
   "source": [
    "Add this to the module file.\n",
    "\n",
    "```python\n",
    "    if __name__ == \"__main__\":\n",
    "        func(100)\n",
    "```"
   ]
  },
  {
   "cell_type": "code",
   "execution_count": 10,
   "metadata": {},
   "outputs": [
    {
     "data": {
      "text/plain": [
       "['/Users/clarizamayo/opt/anaconda3/lib/python3.8/site-packages/ipykernel_launcher.py',\n",
       " '-f',\n",
       " '/Users/clarizamayo/Library/Jupyter/runtime/kernel-0445ca05-9503-4f38-b17d-a58062ee272f.json']"
      ]
     },
     "execution_count": 10,
     "metadata": {},
     "output_type": "execute_result"
    }
   ],
   "source": [
    "import sys\n",
    "\n",
    "sys.argv"
   ]
  },
  {
   "cell_type": "markdown",
   "metadata": {},
   "source": [
    "```python\n",
    "    if __name__ == \"__main__\":\n",
    "        import sys\n",
    "        func(sys.argv[0])\n",
    "```"
   ]
  },
  {
   "cell_type": "markdown",
   "metadata": {},
   "source": [
    "# Code Along:\n",
    "\n",
    "How can we make a Guessing Game module."
   ]
  },
  {
   "cell_type": "code",
   "execution_count": null,
   "metadata": {},
   "outputs": [],
   "source": []
  }
 ],
 "metadata": {
  "kernelspec": {
   "display_name": "Python 3",
   "language": "python",
   "name": "python3"
  },
  "language_info": {
   "codemirror_mode": {
    "name": "ipython",
    "version": 3
   },
   "file_extension": ".py",
   "mimetype": "text/x-python",
   "name": "python",
   "nbconvert_exporter": "python",
   "pygments_lexer": "ipython3",
   "version": "3.8.3"
  }
 },
 "nbformat": 4,
 "nbformat_minor": 4
}
