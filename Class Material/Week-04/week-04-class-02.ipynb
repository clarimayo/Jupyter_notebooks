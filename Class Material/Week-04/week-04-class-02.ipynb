{
 "cells": [
  {
   "cell_type": "markdown",
   "metadata": {},
   "source": [
    "<div style=\"background: #000;\n",
    "            color: #FFF;\n",
    "            margin: 0px;\n",
    "                padding: 10px 0px 20px 0px;\n",
    "            text-align: center; \n",
    "                \">\n",
    "    <h1>Python Data Science Course - Week 4 - Day 2</h1>\n",
    "</div>\n",
    "\n",
    "## Objectives for this week:\n",
    "* Creating processes and algorithms\n",
    "* Function declaration/Usage/Nesting\n",
    "* Arguments and Keywords, Function scope\n",
    "* Decorators/Recursion\n",
    "\n",
    "## Todays Agenda\n",
    "* Homework Presentations\n",
    "* Advanced functions\n",
    "* lambda functions\n",
    "* Recursion/Decorators/Currying\n"
   ]
  },
  {
   "cell_type": "markdown",
   "metadata": {},
   "source": [
    "# Homework Presentations\n"
   ]
  },
  {
   "cell_type": "markdown",
   "metadata": {},
   "source": [
    "# Exercise 1\n",
    "\n",
    "Write a for loop that sums the values of the following list and appends the different values to the correct list.\n",
    "\n",
    "Remember what we learned about the value of an `int` and `str`.\n",
    "\n",
    "Hint: try one part before the other."
   ]
  },
  {
   "cell_type": "code",
   "execution_count": null,
   "metadata": {},
   "outputs": [],
   "source": [
    "# list to sum\n",
    "list_vals = [82,True,'d',False,'v',7301,False,1,True,'x','F','w','Q','f',True]\n",
    "import hashlib;print(\"list_vals is correct\" if hashlib.md5(str(list_vals).encode()).hexdigest() == '867f5d64395c44f016668cc442fb650c' else \"list_vals is incorrect\")"
   ]
  },
  {
   "cell_type": "code",
   "execution_count": null,
   "metadata": {},
   "outputs": [],
   "source": [
    "list_for_bools = []\n",
    "list_for_ints = []\n",
    "list_for_chars = []\n",
    "sum_of_all = 0\n",
    "\n",
    "\n",
    "# use the following to output your results:\n",
    "print(sum_of_all)\n",
    "print(len(list_for_ints), list_for_ints)\n",
    "print(len(list_for_bools), list_for_bools)\n",
    "print(len(list_for_chars), list_for_chars)"
   ]
  },
  {
   "cell_type": "markdown",
   "metadata": {},
   "source": [
    "### Notes: \n",
    "`sum == 807`  \n",
    "`len(list_for_ints) == 3` \n",
    "`len(list_for_bools) == 5`    \n",
    "`len(list_for_chars) == 7`   "
   ]
  },
  {
   "cell_type": "markdown",
   "metadata": {},
   "source": [
    "# Exercise 2\n",
    "\n",
    "Given a tuple of strings. Find the following value `x` and print it. The loop should end when `x` is found"
   ]
  },
  {
   "cell_type": "code",
   "execution_count": null,
   "metadata": {},
   "outputs": [],
   "source": [
    "x = '------'\n",
    "\n",
    "tuple_of_strings = ('steel', 'collect', 'capable', '------', 'shelter', 'language', 'mug', 'flowers')\n",
    "\n",
    "# enter your code here:\n"
   ]
  },
  {
   "cell_type": "markdown",
   "metadata": {},
   "source": [
    "# Arguments and Keywords continued"
   ]
  },
  {
   "cell_type": "code",
   "execution_count": null,
   "metadata": {},
   "outputs": [],
   "source": [
    "# recap both\n",
    "def func(arg1):\n",
    "    return arg1\n",
    "\n",
    "#def func(kwarg=True):\n",
    "#    return kwarg\n",
    "\n",
    "func()"
   ]
  },
  {
   "cell_type": "code",
   "execution_count": null,
   "metadata": {},
   "outputs": [],
   "source": []
  },
  {
   "cell_type": "markdown",
   "metadata": {},
   "source": [
    "# Arbitrary argument list"
   ]
  },
  {
   "cell_type": "code",
   "execution_count": null,
   "metadata": {},
   "outputs": [],
   "source": [
    "def func(arg1, arg2, arg3):  #functions are first class citizens\n",
    "    return arg1, arg2, arg3\n",
    "\n",
    "args = (\"arg1\", \"arg2\", \"arg3\")\n",
    "func(*args)"
   ]
  },
  {
   "cell_type": "code",
   "execution_count": null,
   "metadata": {},
   "outputs": [],
   "source": [
    "def func(*args):\n",
    "    for arg in args:\n",
    "        print(arg)\n",
    "\n",
    "func(3,4,5,6)"
   ]
  },
  {
   "cell_type": "code",
   "execution_count": null,
   "metadata": {},
   "outputs": [],
   "source": [
    "def func(kwarg1=True, kwarg2=True):\n",
    "    return kwarg1 and kwarg2\n",
    "\n",
    "kwargs = {'kwarg1': True, 'kwarg2': False}\n",
    "func(**kwargs)"
   ]
  },
  {
   "cell_type": "code",
   "execution_count": 1,
   "metadata": {},
   "outputs": [
    {
     "data": {
      "text/plain": [
       "True"
      ]
     },
     "execution_count": 1,
     "metadata": {},
     "output_type": "execute_result"
    }
   ],
   "source": [
    "def func(kwarg1=True, kwarg2=False):\n",
    "    return kwarg1  #only returning Kwarg1\n",
    "\n",
    "func(kwarg2= 8)   #we won't see kwarg2 "
   ]
  },
  {
   "cell_type": "code",
   "execution_count": 4,
   "metadata": {},
   "outputs": [
    {
     "data": {
      "text/plain": [
       "('a', 'b', 'c')"
      ]
     },
     "execution_count": 4,
     "metadata": {},
     "output_type": "execute_result"
    }
   ],
   "source": [
    "def function(arg1, arg2, arg3):\n",
    "    return arg1, arg2, arg3\n",
    "\n",
    "args = ['a', 'b', 'c']\n",
    "function(*args)   # syntax with * means there are multiple arguments"
   ]
  },
  {
   "cell_type": "code",
   "execution_count": 7,
   "metadata": {},
   "outputs": [
    {
     "name": "stdout",
     "output_type": "stream",
     "text": [
      "[3, 4, 5, 6, 'a', 'a', 'b']\n",
      "3\n",
      "4\n",
      "5\n",
      "6\n",
      "a\n",
      "a\n",
      "b\n"
     ]
    }
   ],
   "source": [
    "def example(*args):\n",
    "    for arg in args:\n",
    "        print(arg)\n",
    "example([3,4,5,6, 'a', 'a', 'b'])   #if we leave it as a list it will take as many\n",
    "#arguments inside the list as we want\n",
    "\n",
    "example(*[3,4,5,6, 'a', 'a', 'b'])   #if we want to unpack the list"
   ]
  },
  {
   "cell_type": "code",
   "execution_count": 9,
   "metadata": {},
   "outputs": [
    {
     "data": {
      "text/plain": [
       "True"
      ]
     },
     "execution_count": 9,
     "metadata": {},
     "output_type": "execute_result"
    }
   ],
   "source": [
    "def example_2(kwarg1 = True, kwarg2=True):\n",
    "    return kwarg1 and kwarg2\n",
    "kwargs = {'kwarg1':True, 'kwarg2':True}    #key and argument have to match in name\n",
    "example_2(**kwargs) #two *means unpacking both key and value of a dict"
   ]
  },
  {
   "cell_type": "code",
   "execution_count": 11,
   "metadata": {},
   "outputs": [
    {
     "name": "stdout",
     "output_type": "stream",
     "text": [
      "position 0 argument is 3\n",
      "position 1 argument is 4\n",
      "position 2 argument is 5\n",
      "keyword argument a is 1\n",
      "keyword argument b is 2\n",
      "keyword argument c is 3\n"
     ]
    }
   ],
   "source": [
    "def func(*args, **kwargs): #will take as many keyword argument as wanted\n",
    "    for i, arg in enumerate(args):\n",
    "        print(f\"position {i} argument is {arg}\")\n",
    "    for kwarg, val in kwargs.items():  #treating kwargs as a dict \n",
    "        #you use kwarg,val to unpack it\n",
    "        #you get a tuple with (key,value) \n",
    "        print(f\"keyword argument {kwarg} is {val}\")\n",
    "\n",
    "func(3, 4, 5, a=1, b=2, c=3)"
   ]
  },
  {
   "cell_type": "code",
   "execution_count": null,
   "metadata": {},
   "outputs": [],
   "source": [
    "def func(*args, **kwargs):\n",
    "    for i, arg in enumerate(args):\n",
    "        print(f\"position {i} argument is {arg}\")\n",
    "    for kwarg, val in kwargs.items():  #treating kwargs as a dict\n",
    "        #you get a tuple with (key,value)\n",
    "        print(f\"keyword argument {kwarg} is {val}\")\n",
    "\n",
    "func(3, 4, 5, a=1, b=2, c=3)"
   ]
  },
  {
   "cell_type": "code",
   "execution_count": 12,
   "metadata": {},
   "outputs": [
    {
     "name": "stdout",
     "output_type": "stream",
     "text": [
      "3 4 5 6 False False\n",
      "3 4 5 6 False False\n"
     ]
    },
    {
     "ename": "TypeError",
     "evalue": "func() missing 1 required positional argument: 'marg2'",
     "output_type": "error",
     "traceback": [
      "\u001b[0;31m---------------------------------------------------------------------------\u001b[0m",
      "\u001b[0;31mTypeError\u001b[0m                                 Traceback (most recent call last)",
      "\u001b[0;32m<ipython-input-12-b2694cf9d1d6>\u001b[0m in \u001b[0;36m<module>\u001b[0;34m\u001b[0m\n\u001b[1;32m      6\u001b[0m \u001b[0mfunc\u001b[0m\u001b[0;34m(\u001b[0m\u001b[0;36m3\u001b[0m\u001b[0;34m,\u001b[0m\u001b[0;36m4\u001b[0m\u001b[0;34m,\u001b[0m\u001b[0;36m5\u001b[0m\u001b[0;34m,\u001b[0m\u001b[0;36m6\u001b[0m\u001b[0;34m,\u001b[0m\u001b[0mkwarg1\u001b[0m\u001b[0;34m=\u001b[0m\u001b[0;34m\"False\"\u001b[0m\u001b[0;34m,\u001b[0m \u001b[0mkwarg2\u001b[0m\u001b[0;34m=\u001b[0m\u001b[0;34m\"False\"\u001b[0m\u001b[0;34m)\u001b[0m\u001b[0;34m\u001b[0m\u001b[0;34m\u001b[0m\u001b[0m\n\u001b[1;32m      7\u001b[0m \u001b[0mfunc\u001b[0m\u001b[0;34m(\u001b[0m\u001b[0;36m3\u001b[0m\u001b[0;34m,\u001b[0m\u001b[0;36m4\u001b[0m\u001b[0;34m,\u001b[0m \u001b[0mmarg1\u001b[0m\u001b[0;34m=\u001b[0m\u001b[0;36m5\u001b[0m\u001b[0;34m,\u001b[0m \u001b[0mmarg2\u001b[0m\u001b[0;34m=\u001b[0m\u001b[0;36m6\u001b[0m\u001b[0;34m,\u001b[0m \u001b[0mkwarg1\u001b[0m\u001b[0;34m=\u001b[0m\u001b[0;34m\"False\"\u001b[0m\u001b[0;34m,\u001b[0m \u001b[0mkwarg2\u001b[0m\u001b[0;34m=\u001b[0m\u001b[0;34m\"False\"\u001b[0m\u001b[0;34m)\u001b[0m\u001b[0;34m\u001b[0m\u001b[0;34m\u001b[0m\u001b[0m\n\u001b[0;32m----> 8\u001b[0;31m \u001b[0mfunc\u001b[0m\u001b[0;34m(\u001b[0m\u001b[0;36m3\u001b[0m\u001b[0;34m,\u001b[0m\u001b[0;36m4\u001b[0m\u001b[0;34m,\u001b[0m\u001b[0;36m6\u001b[0m\u001b[0;34m,\u001b[0m\u001b[0mkwarg1\u001b[0m\u001b[0;34m=\u001b[0m\u001b[0;34m\"False\"\u001b[0m\u001b[0;34m,\u001b[0m \u001b[0mkwarg2\u001b[0m\u001b[0;34m=\u001b[0m\u001b[0;34m\"False\"\u001b[0m\u001b[0;34m)\u001b[0m \u001b[0;31m#you will get an error\u001b[0m\u001b[0;34m\u001b[0m\u001b[0;34m\u001b[0m\u001b[0m\n\u001b[0m\u001b[1;32m      9\u001b[0m \u001b[0;31m#because you are missing value for marg2\u001b[0m\u001b[0;34m\u001b[0m\u001b[0;34m\u001b[0m\u001b[0;34m\u001b[0m\u001b[0m\n",
      "\u001b[0;31mTypeError\u001b[0m: func() missing 1 required positional argument: 'marg2'"
     ]
    }
   ],
   "source": [
    "def func(arg1, arg2, /, marg1, marg2, *, kwarg1=True, kwarg2=True):\n",
    "    #before / positional arguments, after * you will get keyword arguments\n",
    "    #and in between you will get a mix\n",
    "    print(f\"{arg1} {arg2} {marg1} {marg2} {kwarg1} {kwarg2}\")\n",
    "    \n",
    "func(3,4,5,6,kwarg1=\"False\", kwarg2=\"False\")\n",
    "func(3,4, marg1=5, marg2=6, kwarg1=\"False\", kwarg2=\"False\")\n",
    "func(3,4,6,kwarg1=\"False\", kwarg2=\"False\") #you will get an error\n",
    "#because you are missing value for marg2"
   ]
  },
  {
   "cell_type": "markdown",
   "metadata": {},
   "source": [
    "# Currying functions\n",
    "\n",
    "Using a curried function, we can essentially simplify functions to make them easier to use.  Mathematically, what we're doing is operating on the functions themselves in order to make our programming easier. So examples of this are: \n",
    "\n",
    "```\n",
    "f(x,y) -> x + y  \n",
    "y = 2  \n",
    "h(x) -> x + 2  \n",
    "```\n",
    "\n",
    "```\n",
    "f(x) = x + 3\n",
    "g(x) = x + 5\n",
    "f(g(x)) = x + 5 + 3\n",
    "```\n",
    "There's many ways to do this but we'll cover some to demonstrate.\n"
   ]
  },
  {
   "cell_type": "code",
   "execution_count": null,
   "metadata": {},
   "outputs": [],
   "source": [
    "f(x+5) = x + 8"
   ]
  },
  {
   "cell_type": "code",
   "execution_count": 72,
   "metadata": {},
   "outputs": [
    {
     "name": "stdout",
     "output_type": "stream",
     "text": [
      "name: B, device: Android\n"
     ]
    }
   ],
   "source": [
    "# f(x, y)\n",
    "def mobile_info(name, device): #we can change it\n",
    "    print(f\"name: {name}, device: {device}\")\n",
    "    \n",
    "mobile_info(\"B\", \"Android\")"
   ]
  },
  {
   "cell_type": "code",
   "execution_count": null,
   "metadata": {},
   "outputs": [],
   "source": [
    "# curried function\n",
    "# g(x) = f(x,y) where y = \"android\"\n",
    "def android_user(name):\n",
    "    mobile_info(name,\"android\")  #the android\n",
    "    #part doesn't change. Treat android as\n",
    "    #default value. Here \"android can't change\"\n",
    "    \n",
    "android_user(\"A\")"
   ]
  },
  {
   "cell_type": "code",
   "execution_count": 15,
   "metadata": {},
   "outputs": [
    {
     "name": "stdout",
     "output_type": "stream",
     "text": [
      "6\n",
      "6\n"
     ]
    }
   ],
   "source": [
    "# f(x) = x * 3\n",
    "def multiply_by_3(num): #take a number and\n",
    "    #multiply by 3\n",
    "    return num * 3 \n",
    "\n",
    "# g(x) = x * 2\n",
    "def multiply_by_2(num): #multiple by 2\n",
    "    return num * 2 \n",
    "\n",
    "print(multiply_by_3(2))\n",
    "print(multiply_by_2(3))"
   ]
  },
  {
   "cell_type": "code",
   "execution_count": 16,
   "metadata": {},
   "outputs": [
    {
     "data": {
      "text/plain": [
       "36"
      ]
     },
     "execution_count": 16,
     "metadata": {},
     "output_type": "execute_result"
    }
   ],
   "source": [
    "# curried function\n",
    "# f(g(x)) = x * 3 * 2 #istead of writting code\n",
    "#again, use the code you already created\n",
    "\n",
    "def multiply_by_6(num):\n",
    "    return multiply_by_2(multiply_by_3(num))\n",
    "\n",
    "multiply_by_6(6)"
   ]
  },
  {
   "cell_type": "markdown",
   "metadata": {},
   "source": [
    "# Lambda Expressions\n",
    "\n",
    "Lambda expressions are a way to create functions on the fly. In other programming languages, they might be called anonymous functions. We've seen that we can use the map function like this:\n",
    "\n",
    "```python\n",
    "def stringer(x):\n",
    "    return str(x) #takes the argument and returns string of it\n",
    "\n",
    "map(stringer,  [1,2,3,4,5,6])\n",
    "```\n",
    "\n",
    "we could've also done this with a lambda expression:\n",
    "\n",
    "```python\n",
    "map(lambda x: str(x), [1,2,3,4,5,6])\n",
    "```"
   ]
  },
  {
   "cell_type": "code",
   "execution_count": 17,
   "metadata": {},
   "outputs": [
    {
     "data": {
      "text/plain": [
       "['1', '2', '3', '4', '5', '6']"
      ]
     },
     "execution_count": 17,
     "metadata": {},
     "output_type": "execute_result"
    }
   ],
   "source": [
    "def stringer(x):\n",
    "    return str(x)\n",
    "\n",
    "list(map(stringer,  [1,2,3,4,5,6]))"
   ]
  },
  {
   "cell_type": "code",
   "execution_count": 25,
   "metadata": {},
   "outputs": [
    {
     "data": {
      "text/plain": [
       "['1', '2', '3', '4', '5', '6']"
      ]
     },
     "execution_count": 25,
     "metadata": {},
     "output_type": "execute_result"
    }
   ],
   "source": [
    "list(map(lambda x: str(x), [1,2,3,4,5,6]))  #map needs\n",
    "#two arguments. when you are using map\n",
    "#better to wrap it in a list so we can get a list"
   ]
  },
  {
   "cell_type": "code",
   "execution_count": 24,
   "metadata": {},
   "outputs": [
    {
     "data": {
      "text/plain": [
       "['1', '2', '3', '4', '5']"
      ]
     },
     "execution_count": 24,
     "metadata": {},
     "output_type": "execute_result"
    }
   ],
   "source": [
    "#same as the lambda but calling the stringer function\n",
    "list(map(stringer , [1,2,3,4,5]))"
   ]
  },
  {
   "cell_type": "code",
   "execution_count": 18,
   "metadata": {},
   "outputs": [],
   "source": [
    "s = map(stringer , [1,2,3,4,5])"
   ]
  },
  {
   "cell_type": "code",
   "execution_count": 22,
   "metadata": {},
   "outputs": [
    {
     "data": {
      "text/plain": [
       "'3'"
      ]
     },
     "execution_count": 22,
     "metadata": {},
     "output_type": "execute_result"
    }
   ],
   "source": [
    "next(s) #Iterator(?)  "
   ]
  },
  {
   "cell_type": "code",
   "execution_count": 26,
   "metadata": {},
   "outputs": [
    {
     "name": "stdout",
     "output_type": "stream",
     "text": [
      "718\n",
      "718\n"
     ]
    }
   ],
   "source": [
    "# function taking one argument and returning one value\n",
    "def stringer(x):\n",
    "    return str(x)\n",
    "\n",
    "# lambda function taking one argument and returning one value\n",
    "lambda_string = lambda x: str(x) \n",
    "\n",
    "print(stringer(0x2ce))\n",
    "print(lambda_string(0x2ce))"
   ]
  },
  {
   "cell_type": "code",
   "execution_count": null,
   "metadata": {},
   "outputs": [],
   "source": [
    "# here we're using a lambda expression\n",
    "map(lambda x: str(x), [1,2,3,4,5,6])\n",
    "\n",
    "# here we're creating a lambda function\n",
    "function_a = lambda x: str(x)\n",
    "\n",
    "# similar way we could've done this using def\n",
    "def function_b(x): return str(x)\n",
    "\n",
    "print(function_a(0x2ce))\n",
    "print(function_b(0x2ce))"
   ]
  },
  {
   "cell_type": "code",
   "execution_count": 31,
   "metadata": {},
   "outputs": [
    {
     "data": {
      "text/plain": [
       "'goodbye'"
      ]
     },
     "execution_count": 31,
     "metadata": {},
     "output_type": "execute_result"
    }
   ],
   "source": [
    "lambda_with_if = lambda x: 'hello' if type(x) == str else 'goodbye'\n",
    "lambda_with_if(3)"
   ]
  },
  {
   "cell_type": "markdown",
   "metadata": {},
   "source": [
    "#### example of lambda function taking one argument"
   ]
  },
  {
   "cell_type": "code",
   "execution_count": 27,
   "metadata": {},
   "outputs": [
    {
     "data": {
      "text/plain": [
       "64"
      ]
     },
     "execution_count": 27,
     "metadata": {},
     "output_type": "execute_result"
    }
   ],
   "source": [
    "square_it = lambda a: a ** 2\n",
    "\n",
    "square_it(8)"
   ]
  },
  {
   "cell_type": "code",
   "execution_count": 29,
   "metadata": {},
   "outputs": [
    {
     "data": {
      "text/plain": [
       "64"
      ]
     },
     "execution_count": 29,
     "metadata": {},
     "output_type": "execute_result"
    }
   ],
   "source": [
    "def square_it_defined(num):\n",
    "    return num**2\n",
    "\n",
    "square_it_defined(8)"
   ]
  },
  {
   "cell_type": "markdown",
   "metadata": {},
   "source": [
    "#### example of lambda function taking two arguments"
   ]
  },
  {
   "cell_type": "code",
   "execution_count": 30,
   "metadata": {},
   "outputs": [
    {
     "data": {
      "text/plain": [
       "30"
      ]
     },
     "execution_count": 30,
     "metadata": {},
     "output_type": "execute_result"
    }
   ],
   "source": [
    "x = lambda a, b : a * b\n",
    "\n",
    "x(5, 6)"
   ]
  },
  {
   "cell_type": "code",
   "execution_count": null,
   "metadata": {},
   "outputs": [],
   "source": [
    "def x_function(a,b): return a * b\n",
    "\n",
    "x_function(5,6)"
   ]
  },
  {
   "cell_type": "code",
   "execution_count": 34,
   "metadata": {},
   "outputs": [
    {
     "name": "stdout",
     "output_type": "stream",
     "text": [
      "33\n",
      "33\n"
     ]
    },
    {
     "data": {
      "text/plain": [
       "33"
      ]
     },
     "execution_count": 34,
     "metadata": {},
     "output_type": "execute_result"
    }
   ],
   "source": [
    "# example of a function\n",
    "# that takes argument n and returns the lambda function that multiplies n by `a`\n",
    "# to use we assign `mult_func` to a new variable `mytripler`\n",
    "# and when we call that function `mytripler`, the `\n",
    "# argument we pass is the `a`\n",
    "\n",
    "# essentially \n",
    "# mytripler(n) -> mult_func(3)(n)\n",
    "\n",
    "completely_different_function = lambda a, n: a * n\n",
    "\n",
    "def mult_func(n): \n",
    "     return lambda a : a * n\n",
    "\n",
    "mytripler = mult_func(3)  #3 will be the value of lambda\n",
    "mydoubler = mult_func(2)\n",
    "myquadrupuler = mult_func(4)\n",
    "\n",
    "print(completely_different_function(11,3))\n",
    "print(mytripler(11))  #11 will be the value of \n",
    "mult_func(11)(3)"
   ]
  },
  {
   "cell_type": "code",
   "execution_count": 33,
   "metadata": {},
   "outputs": [
    {
     "name": "stdout",
     "output_type": "stream",
     "text": [
      "33\n"
     ]
    },
    {
     "data": {
      "text/plain": [
       "33"
      ]
     },
     "execution_count": 33,
     "metadata": {},
     "output_type": "execute_result"
    }
   ],
   "source": [
    "def tripler_function(n):\n",
    "    def anon_mult_func(a):\n",
    "        return a * n\n",
    "    return anon_mult_func\n",
    "\n",
    "my_tripler = tripler_function(3)\n",
    "print(my_tripler(11))\n",
    "tripler_function(11)(3)"
   ]
  },
  {
   "cell_type": "markdown",
   "metadata": {},
   "source": [
    "# Decorator functions\n",
    "\n",
    "Decorator functions are a way to wrap a function in python to modify it's behavior. What this means is it allows you to do things before and after the function call you were making. This can be demonstrated as follows"
   ]
  },
  {
   "cell_type": "code",
   "execution_count": 35,
   "metadata": {},
   "outputs": [
    {
     "name": "stdout",
     "output_type": "stream",
     "text": [
      "hello world\n"
     ]
    }
   ],
   "source": [
    "def hello_world():\n",
    "    print(\"hello world\")\n",
    "    \n",
    "hello_world()"
   ]
  },
  {
   "cell_type": "code",
   "execution_count": 46,
   "metadata": {},
   "outputs": [
    {
     "name": "stdout",
     "output_type": "stream",
     "text": [
      "<pre>\n",
      "hello world\n",
      "</pre>\n"
     ]
    }
   ],
   "source": [
    "# example of decorator functions and why theyre useful\n",
    "# decorator_function(func) -> wrapper(func())\n",
    "\n",
    "def decorator_function(func):\n",
    "    def wrapper():\n",
    "        print(\"<pre>\")\n",
    "        func()\n",
    "        print(\"</pre>\")\n",
    "    return wrapper\n",
    "\n",
    "def hello_world():\n",
    "    print(\"hello world\")\n",
    "    \n",
    "wrapped_hello_world = decorator_function(hello_world)\n",
    "wrapped_hello_world()"
   ]
  },
  {
   "cell_type": "code",
   "execution_count": 57,
   "metadata": {},
   "outputs": [
    {
     "name": "stdout",
     "output_type": "stream",
     "text": [
      "<pre>\n",
      "hello world\n",
      "</pre>\n"
     ]
    }
   ],
   "source": [
    "# def decorator_function(func): #higher level function\n",
    "#     def wrapper():\n",
    "#         print(\"<pre>\")\n",
    "#         func()\n",
    "#         print(\"</pre>\")\n",
    "#     return wrapper\n",
    "\n",
    "@decorator_function  #to wrap a function same as:\n",
    "#wrapped_hello_world = decorator_function(hello_world)\n",
    "def hello_world():\n",
    "    print(\"hello world\")\n",
    "    \n",
    "hello_world()"
   ]
  },
  {
   "cell_type": "code",
   "execution_count": 58,
   "metadata": {},
   "outputs": [
    {
     "name": "stdout",
     "output_type": "stream",
     "text": [
      "<pre>\n",
      "hello world\n",
      "</pre>\n"
     ]
    }
   ],
   "source": [
    "hello_world()"
   ]
  },
  {
   "cell_type": "code",
   "execution_count": 59,
   "metadata": {},
   "outputs": [
    {
     "name": "stdout",
     "output_type": "stream",
     "text": [
      "<pre>\n",
      "hello world\n",
      "</pre>\n"
     ]
    }
   ],
   "source": [
    "wrapped_hello_world()"
   ]
  },
  {
   "cell_type": "code",
   "execution_count": 60,
   "metadata": {},
   "outputs": [
    {
     "name": "stdout",
     "output_type": "stream",
     "text": [
      "<pre>\n",
      "goodbye world\n",
      "</pre>\n"
     ]
    }
   ],
   "source": [
    "@decorator_function\n",
    "def goodbye_world():\n",
    "    print(\"goodbye world\")\n",
    "    \n",
    "goodbye_world()"
   ]
  },
  {
   "cell_type": "code",
   "execution_count": null,
   "metadata": {},
   "outputs": [],
   "source": [
    "import flask, render_template\n",
    "\n",
    "app = Flask()\n",
    "\n",
    "#www.website.com/home\n"
   ]
  },
  {
   "cell_type": "markdown",
   "metadata": {},
   "source": [
    "# Recursion\n",
    "\n",
    "A recursive function is a function that calls itself. If given some initial argument, you can iterate based on that value calling the function repeatedly to get a result. In this sense, it is similar to a loop. It will continue to call itself until it reaches a condition that terminates it. A simplified example of this is below.\n",
    "\n",
    "```python\n",
    "    def recursive_function(n):\n",
    "        if n == 1:\n",
    "            return 1\n",
    "        return recursive_function(n-1)\n",
    "```"
   ]
  },
  {
   "cell_type": "code",
   "execution_count": 61,
   "metadata": {},
   "outputs": [
    {
     "name": "stdout",
     "output_type": "stream",
     "text": [
      "10\n",
      "9\n",
      "8\n",
      "7\n",
      "6\n",
      "5\n",
      "4\n",
      "3\n",
      "2\n"
     ]
    },
    {
     "data": {
      "text/plain": [
       "1"
      ]
     },
     "execution_count": 61,
     "metadata": {},
     "output_type": "execute_result"
    }
   ],
   "source": [
    "def recursive_function(n): #why use recursion?\n",
    "    #\n",
    "    if n == 1:\n",
    "        return 1\n",
    "    print(n)\n",
    "    return recursive_function(n-1)\n",
    "    \n",
    "recursive_function(10)"
   ]
  },
  {
   "cell_type": "code",
   "execution_count": 63,
   "metadata": {},
   "outputs": [
    {
     "data": {
      "text/plain": [
       "15"
      ]
     },
     "execution_count": 63,
     "metadata": {},
     "output_type": "execute_result"
    }
   ],
   "source": [
    "def sum_of_list(lst):  #sum function\n",
    "    sum = 0\n",
    "    for i in range(len(lst)):\n",
    "        sum = sum + lst[i]\n",
    "    return sum\n",
    "\n",
    "sum_of_list([1,2,3,4,5])"
   ]
  },
  {
   "cell_type": "code",
   "execution_count": 64,
   "metadata": {},
   "outputs": [
    {
     "data": {
      "text/plain": [
       "15"
      ]
     },
     "execution_count": 64,
     "metadata": {},
     "output_type": "execute_result"
    }
   ],
   "source": [
    "def sum_of_list_2(lst):\n",
    "    if len(lst) == 1:\n",
    "        return lst[0]\n",
    "    else:\n",
    "        return lst[0] + sum_of_list_2(lst[1:]) #recursion\n",
    "      #1 + sum_of_list_2([2,3,4,5])\n",
    "      #1 + 2 + sum_of_list_2([3,4,5])\n",
    "      #1 + 2 + 3 + sum_of_list_2([4,5])\n",
    "      # 1+2+3+4 + sum_of_list_2([5])\n",
    "sum_of_list_2([1,2,3,4,5])    "
   ]
  },
  {
   "cell_type": "markdown",
   "metadata": {},
   "source": [
    "#### How can we find the fibonnaci sequence using recursion?\n",
    "\n",
    "$$ 0, 1, 1, 2, 3, 5, 8, 13, 21, 34... $$\n",
    "\n",
    "```\n",
    "F(0) = 0\n",
    "F(1) = 1\n",
    "F(n) = F(n-1) + F(n-2)\n",
    "```"
   ]
  },
  {
   "cell_type": "code",
   "execution_count": 71,
   "metadata": {},
   "outputs": [
    {
     "data": {
      "text/plain": [
       "[0, 1, 1, 2, 3, 5, 8, 13, 21, 34]"
      ]
     },
     "execution_count": 71,
     "metadata": {},
     "output_type": "execute_result"
    }
   ],
   "source": [
    "def fibseq(num):\n",
    "    if num <=1:\n",
    "        return num\n",
    "    else:\n",
    "        return fibseq(num-1) + fibseq(num-2)\n",
    "fibs = []\n",
    "for i in range(10):\n",
    "    fibs.append(fibseq(i))\n",
    "    \n",
    "fibs\n",
    "    "
   ]
  },
  {
   "cell_type": "markdown",
   "metadata": {},
   "source": [
    "Recursion:\n",
    "-Base case\n",
    "-Induction: else: if you know step x, here's how to get to get to step x + 1\n",
    "\"induction\""
   ]
  }
 ],
 "metadata": {
  "kernelspec": {
   "display_name": "Python 3",
   "language": "python",
   "name": "python3"
  },
  "language_info": {
   "codemirror_mode": {
    "name": "ipython",
    "version": 3
   },
   "file_extension": ".py",
   "mimetype": "text/x-python",
   "name": "python",
   "nbconvert_exporter": "python",
   "pygments_lexer": "ipython3",
   "version": "3.8.3"
  }
 },
 "nbformat": 4,
 "nbformat_minor": 4
}
