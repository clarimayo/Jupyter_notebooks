{
 "cells": [
  {
   "cell_type": "markdown",
   "metadata": {},
   "source": [
    "<div style=\"background: #000;\n",
    "            color: #FFF;\n",
    "            margin: 0px;\n",
    "                padding: 10px 0px 20px 0px;\n",
    "            text-align: center; \n",
    "                \">\n",
    "    <h1>Week 5 - Class 2 - 10/14</h1>\n",
    "</div>\n",
    "\n",
    "## Objectives for this week:\n",
    "* Creating processes and algorithms\n",
    "* Function declaration/Usage/Nesting\n",
    "* Arguments and Keywords, Function scope\n",
    "* Recursion\n",
    "\n",
    "## Todays Agenda\n",
    "* Homework Presentations\n",
    "* More algorithms"
   ]
  },
  {
   "cell_type": "code",
   "execution_count": null,
   "metadata": {},
   "outputs": [],
   "source": [
    "from IPython.lib.display import YouTubeVideo"
   ]
  },
  {
   "cell_type": "code",
   "execution_count": null,
   "metadata": {},
   "outputs": [],
   "source": [
    "#%load_ext tutormagic"
   ]
  },
  {
   "cell_type": "code",
   "execution_count": null,
   "metadata": {},
   "outputs": [],
   "source": [
    "#%%tutor --lang python3 --verticalStack -h 650 -k"
   ]
  },
  {
   "cell_type": "markdown",
   "metadata": {},
   "source": [
    "# Exercise 3\n",
    "\n",
    "Write a function that has an algorithm that is worst case 0(n)."
   ]
  },
  {
   "cell_type": "code",
   "execution_count": null,
   "metadata": {},
   "outputs": [],
   "source": []
  },
  {
   "cell_type": "markdown",
   "metadata": {},
   "source": [
    "# Exercise 4\n",
    "\n",
    "Write a function called `summer` that takes an arbitrary number of keyword arguments and then adds any arguments that are ints/floats to produce a sum.\n",
    "\n",
    "Hint:  \n",
    "`summer(**{'a':True, 'b':1})` would return 1.   \n",
    "`summer(**{'c':3, 'd':\"4\" })` would return 3."
   ]
  },
  {
   "cell_type": "code",
   "execution_count": null,
   "metadata": {},
   "outputs": [],
   "source": []
  },
  {
   "cell_type": "markdown",
   "metadata": {},
   "source": [
    "# Bonus\n",
    "\n",
    "Create a function that returns a lambda function. Show how it can be used to create new functions. Can you turn this into a decorator?\n",
    "\n",
    "Hint: see example from `week-04-class-02.ipynb` with the `mytripler` function"
   ]
  },
  {
   "cell_type": "code",
   "execution_count": null,
   "metadata": {},
   "outputs": [],
   "source": [
    "def decorator_function(func):\n",
    "    def wrapper():\n",
    "        func()\n",
    "        print(\"completed\")\n",
    "    return wrapper\n",
    "\n",
    "@decorator_function\n",
    "def function_A():\n",
    "    print(\"hello\")\n",
    "    \n",
    "function_A()"
   ]
  },
  {
   "cell_type": "code",
   "execution_count": null,
   "metadata": {},
   "outputs": [],
   "source": []
  },
  {
   "cell_type": "markdown",
   "metadata": {},
   "source": [
    "# More on decorators:\n",
    "\n",
    "How can we add an argumentto the decorator?"
   ]
  },
  {
   "cell_type": "code",
   "execution_count": null,
   "metadata": {},
   "outputs": [],
   "source": [
    "def decorator_function(func):\n",
    "    def wrapper():\n",
    "        print(\"<a>\")\n",
    "        func()\n",
    "        print(\"</a>\")\n",
    "    return wrapper\n",
    "\n",
    "@decorator_function\n",
    "def function_A():\n",
    "    print(\"hello\")\n",
    "    \n",
    "function_A()"
   ]
  },
  {
   "cell_type": "code",
   "execution_count": 1,
   "metadata": {},
   "outputs": [
    {
     "name": "stdout",
     "output_type": "stream",
     "text": [
      "<a>this is inner content for html</a>\n"
     ]
    }
   ],
   "source": [
    "def decorator_function(func):\n",
    "    def wrapper(name):   #decorator w argument\n",
    "        print(f\"<a>{func(name)}</a>\")\n",
    "    return wrapper\n",
    "    \n",
    "@decorator_function\n",
    "def function_A(name):\n",
    "    return name\n",
    "    \n",
    "function_A(\"this is inner content for html\")"
   ]
  },
  {
   "cell_type": "code",
   "execution_count": 2,
   "metadata": {},
   "outputs": [
    {
     "name": "stdout",
     "output_type": "stream",
     "text": [
      "<('h1', 'div', 'b')>inner content</('h1', 'div', 'b')>\n"
     ]
    }
   ],
   "source": [
    "def tagger(*tag_name):\n",
    "    def decorator_function(func):\n",
    "        def wrapper(name):\n",
    "            print(f\"<{tag_name[0]}>{func(name)}</{tag_name[0]}>\")\n",
    "        return wrapper\n",
    "    return decorator_function\n",
    "\n",
    "@tagger('h1','div', 'b')\n",
    "def function_A(name):\n",
    "    return name\n",
    "\n",
    "function_A(\"inner content\")"
   ]
  },
  {
   "cell_type": "markdown",
   "metadata": {},
   "source": [
    "# More Recursion\n",
    "\n",
    "Using recursion, how can we show if a number is prime?"
   ]
  },
  {
   "cell_type": "code",
   "execution_count": 5,
   "metadata": {},
   "outputs": [
    {
     "name": "stdout",
     "output_type": "stream",
     "text": [
      "True\n"
     ]
    }
   ],
   "source": [
    "#%%tutor --lang python3 --verticalStack -h 650\n",
    "def is_prime(n, i=2):\n",
    "    n = abs(n)\n",
    "    if n == 0 or n == 1:\n",
    "        return False\n",
    "    if n == 2:        \n",
    "        return True\n",
    "    if n % i == 0:\n",
    "        return False\n",
    "    if (i * i > n):\n",
    "        return True\n",
    "    return is_prime(n, i + 1)\n",
    "\n",
    "print(is_prime(19))\n",
    "  "
   ]
  },
  {
   "cell_type": "code",
   "execution_count": 6,
   "metadata": {},
   "outputs": [
    {
     "name": "stdout",
     "output_type": "stream",
     "text": [
      "9 False\n",
      "12 False\n",
      "28 False\n",
      "51 False\n",
      "110 False\n",
      "256 False\n",
      "930 False\n"
     ]
    }
   ],
   "source": [
    "for i in [9,12,28,51,110,256,930]:\n",
    "    print(i, is_prime(i))"
   ]
  },
  {
   "cell_type": "code",
   "execution_count": 7,
   "metadata": {},
   "outputs": [
    {
     "name": "stdout",
     "output_type": "stream",
     "text": [
      "19 True\n",
      "109 True\n",
      "457 True\n",
      "601 True\n",
      "1453 True\n",
      "2203 True\n",
      "3637 True\n",
      "5003 True\n",
      "6397 True\n",
      "7919 True\n"
     ]
    }
   ],
   "source": [
    "for i in [19,109,457,601,1453,2203,3637,5003,6397,7919]:\n",
    "    print(i, is_prime(i))"
   ]
  },
  {
   "attachments": {
    "d0f66ee2-c05e-4f58-a05e-a61488f195e1.png": {
     "image/png": "[encoded data removed]"
    }
   },
   "cell_type": "markdown",
   "metadata": {},
   "source": [
    "## Big O Notation\n",
    "\n",
    "[Video on Big-O Notation](https://www.youtube.com/watch?v=__vX2sjlpXU)\n",
    "\n",
    "![image.png](attachment:d0f66ee2-c05e-4f58-a05e-a61488f195e1.png)"
   ]
  },
  {
   "cell_type": "code",
   "execution_count": 8,
   "metadata": {},
   "outputs": [
    {
     "data": {
      "image/jpeg": "[encoded data removed]",
      "text/html": [
       "\n",
       "        <iframe\n",
       "            width=\"600\"\n",
       "            height=\"300\"\n",
       "            src=\"https://www.youtube.com/embed/__vX2sjlpXU\"\n",
       "            frameborder=\"0\"\n",
       "            allowfullscreen\n",
       "        ></iframe>\n",
       "        "
      ],
      "text/plain": [
       "<IPython.lib.display.YouTubeVideo at 0x7fe7eeb5b880>"
      ]
     },
     "execution_count": 8,
     "metadata": {},
     "output_type": "execute_result"
    }
   ],
   "source": [
    "from IPython.lib.display import YouTubeVideo\n",
    "YouTubeVideo('__vX2sjlpXU', width=600)"
   ]
  },
  {
   "cell_type": "code",
   "execution_count": null,
   "metadata": {},
   "outputs": [],
   "source": [
    "def func(lst):\n",
    "    for i in lst:\n",
    "        #it will loop through each element = n\n",
    "        for j in lst:\n",
    "        # it will loop thorugh each element = n\n",
    "        \n",
    "#         n*n  == n^2\n",
    "        \n",
    "len(lst) == 100\n",
    "            "
   ]
  },
  {
   "cell_type": "code",
   "execution_count": null,
   "metadata": {},
   "outputs": [],
   "source": []
  },
  {
   "cell_type": "markdown",
   "metadata": {},
   "source": [
    "# O(1)\n",
    "\n",
    "O(1) means the algorithm runs in constant time relative to it's input. No matter how big the list we input, it takes the same amount of time to return the value it does."
   ]
  },
  {
   "cell_type": "code",
   "execution_count": 9,
   "metadata": {},
   "outputs": [],
   "source": [
    "#is not whar you are doing is how many times you\n",
    "#are doing it\n",
    "\n",
    "#1 example\n",
    "def hello(): #no inputs so it will almost always run\n",
    "    #around the same time \n",
    "    print(\"hello\")  \n",
    "    \n",
    "#2 example\n",
    "def adder(x,y):\n",
    "    return(x+y) #same operation will be contant\n",
    "\n",
    "#3 example\n",
    "#you are just printing the value as it goes in\n",
    "def stdfs():\n",
    "    for i in range(10): #because its always going to\n",
    "        #be range(10) == constant\n",
    "        print(i)\n"
   ]
  },
  {
   "cell_type": "markdown",
   "metadata": {},
   "source": [
    "# O(n)\n",
    "\n",
    "O(n) means the algorithm will run in linear time relative to it's input. Meaning an input with n values would require the same n operations to complete. Meaning 5 inputs will require 5 steps. 100 inputs, 100 steps."
   ]
  },
  {
   "cell_type": "code",
   "execution_count": null,
   "metadata": {},
   "outputs": [],
   "source": [
    "#it's O(n) because we don't know how big n will be\n",
    "def hsgd(n):  \n",
    "    for i in range(n):\n",
    "        print(i)"
   ]
  },
  {
   "cell_type": "markdown",
   "metadata": {},
   "source": [
    "# O(log n)\n",
    "\n",
    "$$ log_3 9 = 2$$\n",
    "\n",
    "$$ log_5 25 = 2$$\n",
    "\n",
    "O(log n) means that the algorithm runs in logarithmic time. This means that as the inputs rises, the amount of time that the algorithm takes to run does not increase linearly (see O(n)). It essentially halves as input increases."
   ]
  },
  {
   "cell_type": "markdown",
   "metadata": {},
   "source": [
    "## How can we find a value in a sorted list:"
   ]
  },
  {
   "cell_type": "code",
   "execution_count": null,
   "metadata": {},
   "outputs": [],
   "source": [
    "lst = [0,1,2,3,4,5,6,7,8,9,10]\n",
    "\n",
    "# this is considered a linear search:\n",
    "def find(num, lst):\n",
    "    loops = 0\n",
    "    for index, val in enumerate(lst):\n",
    "        loops += 1\n",
    "        if val == num:\n",
    "            return loops, index\n",
    "    else:\n",
    "        return loops, -1\n",
    "            \n",
    "find(9, lst)"
   ]
  },
  {
   "cell_type": "markdown",
   "metadata": {},
   "source": [
    "### What is a better way?\n",
    "\n",
    "Binary search. It is O(log n) in the worst case.\n",
    "\n",
    "The thinking behind binary search is in these steps:\n",
    "1. Binary search begins by comparing the middle element of the array with the target value.\n",
    "2. If the target value matches the middle element, its position in the array is returned.\n",
    "3. If the target value is less than the middle element, the search continues in the lower half of the array.\n",
    "4. If the target value is greater than the middle element, the search continues in the upper half of the array. By doing this, the algorithm eliminates the half in which the target value cannot lie in each iteration"
   ]
  },
  {
   "cell_type": "markdown",
   "metadata": {},
   "source": [
    "Pseudocode:  \n",
    "    1. Set L to 0 and R to n-1  \n",
    "    2. If L > R search is Unsuccessful  \n",
    "    3. Set m to the floor of ((L+R) / 2),  \n",
    "    4. If A[m] < T, set L = m + 1, and goto step 2.  \n",
    "    5. If A[m] > T, set R = m – 1, and goto step 2.  \n",
    "    6. If A[m] == T, Search is done, return m  "
   ]
  },
  {
   "cell_type": "code",
   "execution_count": null,
   "metadata": {},
   "outputs": [],
   "source": [
    "#%%tutor --lang python3\n",
    "lst = [0,1,2,3,4,5,6,7,8,9,10]\n",
    "\n",
    "#it will increase but more gradually\n",
    "def binary_search(search, lst):\n",
    "    length = len(lst)\n",
    "    left = 0\n",
    "    right = length - 1\n",
    "    loops = 0\n",
    "    \n",
    "    while left <= right:\n",
    "        loops += 1\n",
    "        mid = (left+right) // 2\n",
    "        if lst[mid] < search:\n",
    "            left = mid + 1\n",
    "        elif lst[mid] > search:\n",
    "            right = mid - 1\n",
    "        else:\n",
    "            return loops, mid\n",
    "    return loops, -1"
   ]
  },
  {
   "cell_type": "code",
   "execution_count": null,
   "metadata": {},
   "outputs": [],
   "source": [
    "binary_search(9, lst)"
   ]
  },
  {
   "cell_type": "markdown",
   "metadata": {},
   "source": [
    "# Sorting algorithms\n",
    "\n",
    "Notice how the previous searching algorithm (binary search) only worked on sorted list. What sort of algorithms exist for sorting data structures?\n",
    "\n",
    "Sorting Algorithms:\n",
    "* Insertion Sort\n",
    "* Selection Sort\n",
    "* Bubble Sort\n",
    "* Merge Sort\n",
    "* Quick Sort\n"
   ]
  },
  {
   "cell_type": "markdown",
   "metadata": {},
   "source": [
    "# Insertion Sort\n",
    "\n",
    "Algorithm:\n",
    "\n",
    "1. Assume that the first element in the list is in the sorted section of the list and remaining all elements are in the unsorted section.\n",
    "2. Consider the first element from the unsorted list and insert that element into the sorted list in the order specified (ascending or descending)\n",
    "3. Repeat the above steps until all the elements from the unsorted list are moved to the sorted list.\n",
    "\n",
    "Best case: `O(n)`  \n",
    "Worst case: `O(n²)`  \n",
    "Average case: `O(n²)`\n",
    "\n",
    "https://www.youtube.com/watch?v=8oJS1BMKE64\n",
    "\n",
    "https://www.youtube.com/watch?v=JU767SDMDvA"
   ]
  },
  {
   "cell_type": "code",
   "execution_count": null,
   "metadata": {},
   "outputs": [],
   "source": [
    "YouTubeVideo('JU767SDMDvA', width=600)"
   ]
  },
  {
   "cell_type": "code",
   "execution_count": 10,
   "metadata": {},
   "outputs": [
    {
     "data": {
      "image/jpeg": "[encoded data removed]",
      "text/html": [
       "\n",
       "        <iframe\n",
       "            width=\"600\"\n",
       "            height=\"300\"\n",
       "            src=\"https://www.youtube.com/embed/8oJS1BMKE64\"\n",
       "            frameborder=\"0\"\n",
       "            allowfullscreen\n",
       "        ></iframe>\n",
       "        "
      ],
      "text/plain": [
       "<IPython.lib.display.YouTubeVideo at 0x7fe7eeb3d7c0>"
      ]
     },
     "execution_count": 10,
     "metadata": {},
     "output_type": "execute_result"
    }
   ],
   "source": [
    "YouTubeVideo('8oJS1BMKE64', width=600) #green line\n",
    "#separates the sorted side from the unsorted side"
   ]
  },
  {
   "cell_type": "code",
   "execution_count": null,
   "metadata": {},
   "outputs": [],
   "source": [
    "# This function takes unsorted array as an input \n",
    "# and returns sorted array.\n",
    "def insertion_sort(arr):\n",
    "    #loop over all the elements in the list \n",
    "    for i in range(1, len(arr)): \n",
    "   \n",
    "        val = arr[i]\n",
    "   \n",
    "        # move elements of list [0..i-1], that are \n",
    "        # greater than val, to one position ahead \n",
    "        # of the current position \n",
    "        j = i-1\n",
    "        while j >=0 and val < arr[j] : \n",
    "            arr[j+1] = arr[j] \n",
    "            j -= 1\n",
    "        arr[j+1] = val\n",
    "     \n",
    "    return arr\n",
    " \n",
    "#given array\n",
    "arr = [74, 14, 13, 42, 7]\n",
    " \n",
    "sorted_arr = insertion_sort(arr)\n",
    "print(sorted_arr)"
   ]
  },
  {
   "cell_type": "markdown",
   "metadata": {},
   "source": [
    "# Selection Sort\n",
    "\n",
    "Algorithm:\n",
    "1. Take the first element of the list\n",
    "2. Compare the first element with all other elements in the list.\n",
    "3. While comparing if any element is smaller than the selected element (ascending order), then these two are swapped.\n",
    "4. Repeat the same process with all the positions in the list until the entire list is sorted.\n",
    "\n",
    "Best case: `O(n²)` comparisons, `O(1)` swaps   \n",
    "Worst case: `O(n²)` comparisons, `O(n)` swaps    \n",
    "Average case: `O(n²)` comparisons, `O(n)`swaps\n",
    "\n",
    "https://www.youtube.com/watch?v=92BfuxHn2XE\n",
    "\n",
    "https://www.youtube.com/watch?v=g-PGLbMth_g"
   ]
  },
  {
   "cell_type": "code",
   "execution_count": null,
   "metadata": {},
   "outputs": [],
   "source": [
    "YouTubeVideo('g-PGLbMth_g', width=600)"
   ]
  },
  {
   "cell_type": "code",
   "execution_count": 11,
   "metadata": {},
   "outputs": [
    {
     "data": {
      "image/jpeg": "[encoded data removed]",
      "text/html": [
       "\n",
       "        <iframe\n",
       "            width=\"600\"\n",
       "            height=\"300\"\n",
       "            src=\"https://www.youtube.com/embed/92BfuxHn2XE\"\n",
       "            frameborder=\"0\"\n",
       "            allowfullscreen\n",
       "        ></iframe>\n",
       "        "
      ],
      "text/plain": [
       "<IPython.lib.display.YouTubeVideo at 0x7fe7eeb5b580>"
      ]
     },
     "execution_count": 11,
     "metadata": {},
     "output_type": "execute_result"
    }
   ],
   "source": [
    "YouTubeVideo('92BfuxHn2XE', width=600)"
   ]
  },
  {
   "cell_type": "code",
   "execution_count": null,
   "metadata": {},
   "outputs": [],
   "source": [
    "#swap two elements in nArr at postion i and j\n",
    "def swap(i, j, nArr):\n",
    "    if i!=j:     \n",
    "        temp = nArr[j]\n",
    "        nArr[j] = nArr[i]\n",
    "        nArr[i] = temp\n",
    " \n",
    "#function to sort elements in the list\n",
    "def selectionSort(nArr):    \n",
    "    for i in range(0, len(nArr)):\n",
    "        small = i\n",
    "        for j in range(i+1, len(nArr)):\n",
    "            if nArr[j] < nArr[small]:\n",
    "                small = j\n",
    "        swap(i, small, nArr)\n",
    " \n",
    "#list containing elements to sort        \n",
    "nArr = [34,456, 5, 5,67]\n",
    "selectionSort(nArr)\n",
    "print(nArr)"
   ]
  },
  {
   "cell_type": "markdown",
   "metadata": {},
   "source": [
    "# Bubble Sort\n",
    "\n",
    "Algorithm:\n",
    "\n",
    "1. Take the array as input\n",
    "2. For each element (say x) in the array:\n",
    "         1. For each adjacent element (say y) to x in the array\n",
    "            Compare element x with y.\n",
    "         2. Swap if it is not in order\n",
    "\n",
    "\n",
    "Best case: `O(n)`  \n",
    "Worst case: `O(n log n)`  \n",
    "Average case: `O(n log n)`\n",
    "\n",
    "https://www.youtube.com/watch?v=Cq7SMsQBEUw\n",
    "\n",
    "https://www.youtube.com/watch?v=xli_FI7CuzA"
   ]
  },
  {
   "cell_type": "code",
   "execution_count": null,
   "metadata": {},
   "outputs": [],
   "source": [
    "YouTubeVideo('xli_FI7CuzA', width=600)"
   ]
  },
  {
   "cell_type": "code",
   "execution_count": null,
   "metadata": {},
   "outputs": [],
   "source": [
    "YouTubeVideo('Cq7SMsQBEUw', width=600)"
   ]
  },
  {
   "cell_type": "code",
   "execution_count": null,
   "metadata": {},
   "outputs": [],
   "source": [
    "def bubbleSort(arr): \n",
    "    n = len(arr) \n",
    "  \n",
    "    # Traverse through all array elements \n",
    "    for i in range(n-1): \n",
    "    # range(n) also work but outer loop will repeat one time more than needed. \n",
    "  \n",
    "        # Last i elements are already in place \n",
    "        for j in range(0, n-i-1): \n",
    "  \n",
    "            # traverse the array from 0 to n-i-1 \n",
    "            # Swap if the element found is greater \n",
    "            # than the next element \n",
    "            if arr[j] > arr[j+1] : \n",
    "                arr[j], arr[j+1] = arr[j+1], arr[j] \n",
    "  \n",
    "# Driver code to test above \n",
    "arr = [64, 34, 25, 12, 22, 11, 90] \n",
    "  \n",
    "bubbleSort(arr) \n",
    "  \n",
    "print(f\"Sorted array is: {arr}\") "
   ]
  },
  {
   "cell_type": "markdown",
   "metadata": {},
   "source": [
    "# Merge Sort\n",
    "\n",
    "Algorithm:\n",
    "1. Divide the list recursively into two or more sub-problems until it can no more be divided\n",
    "2. Solve the sub-problems until it is reached to the base case\n",
    "3. Merge the smaller lists into the new list in sorted order\n",
    "\n",
    "Best case: `O(n log n)`  \n",
    "Worst case: `O(n log n)`  \n",
    "Average case: `O(n log n)`\n",
    "\n",
    "https://www.youtube.com/watch?v=ZRPoEKHXTJg\n",
    "\n",
    "https://www.youtube.com/watch?v=4VqmGXwpLqc"
   ]
  },
  {
   "cell_type": "code",
   "execution_count": null,
   "metadata": {},
   "outputs": [],
   "source": [
    "YouTubeVideo('4VqmGXwpLqc', width=600)"
   ]
  },
  {
   "cell_type": "code",
   "execution_count": null,
   "metadata": {},
   "outputs": [],
   "source": [
    "YouTubeVideo('ZRPoEKHXTJg', width=600)"
   ]
  },
  {
   "cell_type": "code",
   "execution_count": null,
   "metadata": {},
   "outputs": [],
   "source": [
    "def merge_sort(inp_arr):\n",
    "    size = len(inp_arr)\n",
    "    if size > 1:\n",
    "        middle = size // 2\n",
    "        left_arr = inp_arr[:middle]\n",
    "        right_arr = inp_arr[middle:]\n",
    " \n",
    "        merge_sort(left_arr)\n",
    "        merge_sort(right_arr)\n",
    " \n",
    "        p = 0\n",
    "        q = 0\n",
    "        r = 0\n",
    " \n",
    "        left_size = len(left_arr)\n",
    "        right_size = len(right_arr)\n",
    "        while p < left_size and q < right_size:\n",
    "            if left_arr[p] < right_arr[q]:\n",
    "              inp_arr[r] = left_arr[p]\n",
    "              p += 1\n",
    "            else:\n",
    "                inp_arr[r] = right_arr[q]\n",
    "                q += 1\n",
    "             \n",
    "            r += 1\n",
    " \n",
    "        \n",
    "        while p < left_size:\n",
    "            inp_arr[r] = left_arr[p]\n",
    "            p += 1\n",
    "            r += 1\n",
    " \n",
    "        while q < right_size:\n",
    "            inp_arr[r]=right_arr[q]\n",
    "            q += 1\n",
    "            r += 1\n",
    " \n",
    "inp_arr = [11, 31, 7, 41, 101, 56, 77, 2]\n",
    "print(\"Input Array:\\n\")\n",
    "print(inp_arr)\n",
    "merge_sort(inp_arr)\n",
    "print(\"Sorted Array:\\n\")\n",
    "print(inp_arr)"
   ]
  },
  {
   "cell_type": "markdown",
   "metadata": {},
   "source": [
    "# Quick Sort\n",
    "\n",
    "Algorithm:\n",
    "\n",
    "1. Divide the list by any chosen element and call it a Pivot element. Rearrange the elements, all the elements that are less than equal to the pivot element must be in left and larger ones on the right. This procedure is called Partitioning.\n",
    "2. Conquer which mean recursively ordering the subarrays\n",
    "3. There is nothing left in the combined stage as the conquer stage organizes everything. The smaller or equal elements to the pivot are organized at the left side and larger elements are organized at the right.\n",
    "\n",
    "\n",
    "\n",
    "Best case: `O(n log n)`  \n",
    "Worst case: `O(n²)`  \n",
    "Average case: `O(n log n)`\n",
    "\n",
    "https://www.youtube.com/watch?v=8hEyhs3OV1w\n",
    "\n",
    "https://www.youtube.com/watch?v=Hoixgm4-P4M"
   ]
  },
  {
   "cell_type": "code",
   "execution_count": null,
   "metadata": {},
   "outputs": [],
   "source": [
    "YouTubeVideo('Hoixgm4-P4M', width=600)"
   ]
  },
  {
   "cell_type": "code",
   "execution_count": null,
   "metadata": {},
   "outputs": [],
   "source": [
    "YouTubeVideo('8hEyhs3OV1w', width=600)"
   ]
  },
  {
   "cell_type": "code",
   "execution_count": null,
   "metadata": {},
   "outputs": [],
   "source": [
    "# Python program for implementation of Quicksort Sort\n",
    " \n",
    "# This function takes last element as pivot, places\n",
    "# the pivot element at its correct position in sorted\n",
    "# array, and places all smaller (smaller than pivot)\n",
    "# to left of pivot and all greater elements to right\n",
    "# of pivot\n",
    " \n",
    " \n",
    "def partition(arr, low, high):\n",
    "    i = (low-1)         # index of smaller element\n",
    "    pivot = arr[high]     # pivot\n",
    " \n",
    "    for j in range(low, high):\n",
    " \n",
    "        # If current element is smaller than or\n",
    "        # equal to pivot\n",
    "        if arr[j] <= pivot:\n",
    " \n",
    "            # increment index of smaller element\n",
    "            i = i+1\n",
    "            arr[i], arr[j] = arr[j], arr[i]\n",
    " \n",
    "    arr[i+1], arr[high] = arr[high], arr[i+1]\n",
    "    return (i+1)\n",
    " \n",
    "# The main function that implements QuickSort\n",
    "# arr[] --> Array to be sorted,\n",
    "# low  --> Starting index,\n",
    "# high  --> Ending index\n",
    " \n",
    "# Function to do Quick sort\n",
    " \n",
    " \n",
    "def quickSort(arr, low, high):\n",
    "    if len(arr) == 1:\n",
    "        return arr\n",
    "    if low < high:\n",
    " \n",
    "        # pi is partitioning index, arr[p] is now\n",
    "        # at right place\n",
    "        pi = partition(arr, low, high)\n",
    " \n",
    "        # Separately sort elements before\n",
    "        # partition and after partition\n",
    "        quickSort(arr, low, pi-1)\n",
    "        quickSort(arr, pi+1, high)\n",
    " \n",
    " \n",
    "# Driver code to test above\n",
    "arr = [10, 7, 8, 9, 1, 5]\n",
    "n = len(arr)\n",
    "quickSort(arr, 0, n-1)\n",
    "print(f\"Sorted array is: {arr}\")\n"
   ]
  },
  {
   "cell_type": "markdown",
   "metadata": {},
   "source": [
    "# Timsort  - Python uses it\n",
    "\n",
    "Based on merge sort and insertion sort.  \n",
    "[Timsort wiki](https://en.wikipedia.org/wiki/Timsort)\n",
    "\n",
    "The sorting algorithm python uses for `sorted()` and `lst.sort()`\n",
    "\n",
    "Best case: `O(n)`  \n",
    "Worst case: `O(n log n)`  \n",
    "Average case: `O(n log n)`\n",
    "\n",
    "https://www.youtube.com/watch?v=NVIjHj-lrT4"
   ]
  },
  {
   "cell_type": "code",
   "execution_count": null,
   "metadata": {},
   "outputs": [],
   "source": [
    "YouTubeVideo('NVIjHj-lrT4', width=600)"
   ]
  },
  {
   "cell_type": "code",
   "execution_count": null,
   "metadata": {},
   "outputs": [],
   "source": [
    "minrun = 32\n",
    "\n",
    "def InsSort(arr,start,end):    \n",
    "    for i in range(start+1,end+1):\n",
    "        elem = arr[i]\n",
    "        j = i-1\n",
    "        while j>=start and elem<arr[j]:\n",
    "            arr[j+1] = arr[j]\n",
    "            j -= 1\n",
    "        arr[j+1] = elem\n",
    "    return arr\n",
    "\n",
    "def merge(arr,start,mid,end):\n",
    "    if mid==end:\n",
    "        return arr\n",
    "    first = arr[start:mid+1]\n",
    "    last = arr[mid+1:end+1]\n",
    "    len1 = mid-start+1\n",
    "    len2 = end-mid\n",
    "    ind1 = 0\n",
    "    ind2 = 0\n",
    "    ind  = start\n",
    "     \n",
    "    while ind1<len1 and ind2<len2:\n",
    "        if first[ind1]<last[ind2]:\n",
    "            arr[ind] = first[ind1]\n",
    "            ind1 += 1\n",
    "        else:\n",
    "            arr[ind] = last[ind2]\n",
    "            ind2 += 1\n",
    "        ind += 1\n",
    "     \n",
    "    while ind1<len1:\n",
    "        arr[ind] = first[ind1]\n",
    "        ind1 += 1\n",
    "        ind += 1\n",
    "              \n",
    "    while ind2<len2:\n",
    "        arr[ind] = last[ind2]\n",
    "        ind2 += 1\n",
    "        ind += 1   \n",
    "              \n",
    "    return arr\n",
    "            \n",
    "\n",
    "def TimSort(arr):\n",
    "    n = len(arr)\n",
    "    \n",
    "    for start in range(0,n,minrun):\n",
    "        end = min(start+minrun-1,n-1)\n",
    "        arr = InsSort(arr,start,end)\n",
    "        \n",
    "    curr_size = minrun\n",
    "    while curr_size<n:    \n",
    "        for start in range(0,n,curr_size*2):\n",
    "            mid = min(n-1,start+curr_size-1)\n",
    "            end = min(n-1,mid+curr_size)\n",
    "            arr = merge(arr,start,mid,end)\n",
    "        curr_size *= 2\n",
    "    return arr\n",
    "\n",
    "arr = [10, 7, 8, 9, 1, 5]\n",
    "new_arr = TimSort(arr)\n",
    "print(new_arr)"
   ]
  },
  {
   "cell_type": "markdown",
   "metadata": {},
   "source": []
  },
  {
   "cell_type": "markdown",
   "metadata": {},
   "source": []
  }
 ],
 "metadata": {
  "kernelspec": {
   "display_name": "Python 3",
   "language": "python",
   "name": "python3"
  },
  "language_info": {
   "codemirror_mode": {
    "name": "ipython",
    "version": 3
   },
   "file_extension": ".py",
   "mimetype": "text/x-python",
   "name": "python",
   "nbconvert_exporter": "python",
   "pygments_lexer": "ipython3",
   "version": "3.8.3"
  }
 },
 "nbformat": 4,
 "nbformat_minor": 4
}
