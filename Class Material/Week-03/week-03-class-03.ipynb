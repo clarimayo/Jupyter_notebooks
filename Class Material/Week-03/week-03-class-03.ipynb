{
 "cells": [
  {
   "cell_type": "markdown",
   "metadata": {},
   "source": [
    "<div style=\"background: #000;\n",
    "            color: #FFF;\n",
    "            margin: 0px;\n",
    "                padding: 10px 0px 20px 0px;\n",
    "            text-align: center; \n",
    "                \">\n",
    "    <h1>Week 3 - Class 3 - 9/30</h1>\n",
    "</div>\n",
    "\n",
    "## Objectives for this week:\n",
    "* If Statements, If and Elif\n",
    "* Conditional Statements, Nested Conditionals\n",
    "* While & For loops, Nested Loops\n",
    "* List Comprehension\n",
    "\n",
    "## Todays Agenda\n",
    "* Homework Presentations\n",
    "* While Loops"
   ]
  },
  {
   "cell_type": "markdown",
   "metadata": {},
   "source": [
    "# Homework Presentations"
   ]
  },
  {
   "cell_type": "markdown",
   "metadata": {},
   "source": [
    "# Exercise 3\n",
    "\n",
    "### Given the following code, fix it so the code outputs `\"hello\"`:\n",
    "\n",
    "Hint: for each, you just have to edit one line of code\n",
    "\n",
    "(Don't worry, you aren't meant to understand everything going on in them yet)"
   ]
  },
  {
   "cell_type": "code",
   "execution_count": null,
   "metadata": {},
   "outputs": [],
   "source": [
    "def function(x):\n",
    "    if type(x) == bool:\n",
    "        print(x)\n",
    "\n",
    "function(\"hello\")"
   ]
  },
  {
   "cell_type": "code",
   "execution_count": null,
   "metadata": {},
   "outputs": [],
   "source": [
    "s = [\"h\", \"e\", \"l\", \"l\", \"o\"]\n",
    "\"\""
   ]
  },
  {
   "cell_type": "code",
   "execution_count": 1,
   "metadata": {},
   "outputs": [
    {
     "data": {
      "text/plain": [
       "''"
      ]
     },
     "execution_count": 1,
     "metadata": {},
     "output_type": "execute_result"
    }
   ],
   "source": [
    "a = True\n",
    "b = False\n",
    "c = True\n",
    "d = False\n",
    "\"hello\" if (b or a and b == d and b or b) else \"\""
   ]
  },
  {
   "cell_type": "code",
   "execution_count": null,
   "metadata": {},
   "outputs": [],
   "source": [
    "class Example:\n",
    "    def __init__(self, val):\n",
    "        self.a = val and print(\"hello\")\n",
    "    def say_hi(self):\n",
    "        print(\"hello\") if self.a == \"fixed\" else print(\"\")\n",
    "    def hello(self):\n",
    "        return \"olleh\".reverse()\n",
    "        \n",
    "e = Example(\"\")\n",
    "e.say_hi()"
   ]
  },
  {
   "cell_type": "markdown",
   "metadata": {},
   "source": [
    "# For loops continued"
   ]
  },
  {
   "cell_type": "code",
   "execution_count": 1,
   "metadata": {},
   "outputs": [
    {
     "name": "stdout",
     "output_type": "stream",
     "text": [
      "0\n",
      "2\n",
      "4\n",
      "6\n",
      "8\n"
     ]
    }
   ],
   "source": [
    "x = [0,1,2,3,4,5,6,7,8,9]\n",
    "for i in x:\n",
    "    if i % 2 == 0:  #printing even numbers\n",
    "        print(i)"
   ]
  },
  {
   "cell_type": "code",
   "execution_count": 2,
   "metadata": {},
   "outputs": [
    {
     "name": "stdout",
     "output_type": "stream",
     "text": [
      "    i: 0 j: a\n",
      "    i: 0 j: b\n",
      "    i: 0 j: c\n",
      "    i: 1 j: a\n",
      "    i: 1 j: b\n",
      "    i: 1 j: c\n",
      "    i: 2 j: a\n",
      "    i: 2 j: b\n",
      "    i: 2 j: c\n"
     ]
    }
   ],
   "source": [
    "for i in range(3):\n",
    "    for j in ['a', 'b', 'c']:\n",
    "        print(f\"    i: {i} j: {j}\")   \n",
    "        #loop inside a loop"
   ]
  },
  {
   "cell_type": "code",
   "execution_count": null,
   "metadata": {},
   "outputs": [],
   "source": [
    "for i in range(3):\n",
    "    print(f\"running loop for {i}\")\n",
    "    for j in ['a', 'b', 'c']:\n",
    "        print(f\"    inner loop for {j}\")\n",
    "        print(f\"    i: {i} \\t j: {j}\")"
   ]
  },
  {
   "cell_type": "code",
   "execution_count": null,
   "metadata": {},
   "outputs": [],
   "source": [
    "for i in range(3):\n",
    "    for j in ['a', 'b', 'c']:\n",
    "        for k in range(3):\n",
    "            print(f\"i: {i} j: {j} k: {k}\")"
   ]
  },
  {
   "cell_type": "code",
   "execution_count": null,
   "metadata": {},
   "outputs": [],
   "source": [
    "for i in range(3):\n",
    "    print(f\"running loop for i = {i}\\n\")\n",
    "    for j in ['a', 'b', 'c']:\n",
    "        print(f\"\\trunning loop for j = {j}\\n\")\n",
    "        for k in range(3):\n",
    "            print(f\"\\t\\trunning loop for k = {k}\\n\")\n",
    "            print(f\"\\t\\t\\ti: {i} \\t j: {j} \\t k: {k}\\n\")"
   ]
  },
  {
   "cell_type": "markdown",
   "metadata": {},
   "source": [
    "### Multiple for loops in list comprehensions:"
   ]
  },
  {
   "cell_type": "code",
   "execution_count": 1,
   "metadata": {},
   "outputs": [
    {
     "data": {
      "text/plain": [
       "['f', 'f', 't', 't']"
      ]
     },
     "execution_count": 1,
     "metadata": {},
     "output_type": "execute_result"
    }
   ],
   "source": [
    "[x for x in ['f', 't']  for y in ['f', 't']]"
   ]
  },
  {
   "cell_type": "code",
   "execution_count": 21,
   "metadata": {},
   "outputs": [
    {
     "data": {
      "text/plain": [
       "[(0, 'a'),\n",
       " (0, 'b'),\n",
       " (0, 'c'),\n",
       " (1, 'a'),\n",
       " (1, 'b'),\n",
       " (1, 'c'),\n",
       " (2, 'a'),\n",
       " (2, 'b'),\n",
       " (2, 'c')]"
      ]
     },
     "execution_count": 21,
     "metadata": {},
     "output_type": "execute_result"
    }
   ],
   "source": [
    "[(x,y) for x in range(3) for y in ['a', 'b', 'c']]"
   ]
  },
  {
   "cell_type": "code",
   "execution_count": 18,
   "metadata": {},
   "outputs": [
    {
     "data": {
      "text/plain": [
       "[(0, 'a'),\n",
       " (0, 'b'),\n",
       " (0, 'c'),\n",
       " (1, 'a'),\n",
       " (1, 'b'),\n",
       " (1, 'c'),\n",
       " (2, 'a'),\n",
       " (2, 'b'),\n",
       " (2, 'c')]"
      ]
     },
     "execution_count": 18,
     "metadata": {},
     "output_type": "execute_result"
    }
   ],
   "source": [
    "l = []\n",
    "\n",
    "for x in range(3):\n",
    "    for y in ['a', 'b', 'c']:\n",
    "        l.append((x,y))\n",
    "l"
   ]
  },
  {
   "cell_type": "markdown",
   "metadata": {},
   "source": [
    "# While loops\n",
    "\n",
    "\n",
    "```python\n",
    "    condition = True\n",
    "    \n",
    "    while condition:\n",
    "        <statement 1>\n",
    "        <statement 2>\n",
    "    \n",
    "```"
   ]
  },
  {
   "cell_type": "code",
   "execution_count": 3,
   "metadata": {
    "scrolled": true
   },
   "outputs": [
    {
     "name": "stdout",
     "output_type": "stream",
     "text": [
      "Hello World\n"
     ]
    }
   ],
   "source": [
    "# infinite loop - do not run\n",
    "\n",
    "condition = True\n",
    "while condition:   #while loop will keep going as long as the condition is met\n",
    "    print(\"Hello World\")\n",
    "    condition = False   #it ran once because it encountered False\n",
    "#    # This never reaches"
   ]
  },
  {
   "cell_type": "code",
   "execution_count": null,
   "metadata": {},
   "outputs": [],
   "source": [
    "while not True: #same as while False, it will not run \n",
    "    print(\"Hello World\")\n",
    " "
   ]
  },
  {
   "cell_type": "code",
   "execution_count": null,
   "metadata": {},
   "outputs": [],
   "source": [
    "i = 4\n",
    "\n",
    "while i < 9:\n",
    "    print(i)\n",
    "    i += 1   #whithout this it will become infinite because i would\n",
    "    #never be bigger than 9"
   ]
  },
  {
   "cell_type": "code",
   "execution_count": 5,
   "metadata": {},
   "outputs": [
    {
     "name": "stdout",
     "output_type": "stream",
     "text": [
      "100\n",
      "99\n",
      "98\n",
      "97\n",
      "96\n",
      "95\n",
      "94\n",
      "93\n",
      "92\n",
      "91\n"
     ]
    },
    {
     "data": {
      "text/plain": [
       "90"
      ]
     },
     "execution_count": 5,
     "metadata": {},
     "output_type": "execute_result"
    }
   ],
   "source": [
    "i = 100   \n",
    "\n",
    "while i > 90:\n",
    "    print(i)   #start with 100 because we are printing first\n",
    "    i -= 1   #substract\n",
    "    \n",
    "i   #last value - 1"
   ]
  },
  {
   "cell_type": "markdown",
   "metadata": {},
   "source": [
    "# Useful examples of `while` loops"
   ]
  },
  {
   "cell_type": "code",
   "execution_count": 7,
   "metadata": {},
   "outputs": [
    {
     "name": "stdout",
     "output_type": "stream",
     "text": [
      "our code is running without errors\n",
      "2\n",
      "our code is running without errors\n",
      "3\n",
      "our code is running without errors\n",
      "3\n",
      "our code is running without errors\n",
      "1\n",
      "our code is running without errors\n",
      "4\n",
      "we found an error!\n",
      "done\n"
     ]
    }
   ],
   "source": [
    "import random  #importing random library\n",
    "\n",
    "def check_for_errors():   #function for error checking\n",
    "    random_int = random.randint(0,5)   #playing random integers (randint) from 0-4 randomly\n",
    "    print(random_int)\n",
    "    if random_int == 4:    #if the random integer equals to 4 then it will say we found an error\n",
    "        print(\"we found an error!\")\n",
    "        return False\n",
    "    else:\n",
    "        return True\n",
    "\n",
    "no_errors = True\n",
    "\n",
    "while no_errors:\n",
    "    print(\"our code is running without errors\")\n",
    "    no_errors = check_for_errors()\n",
    "print(\"done\")"
   ]
  },
  {
   "cell_type": "code",
   "execution_count": 13,
   "metadata": {},
   "outputs": [
    {
     "name": "stdout",
     "output_type": "stream",
     "text": [
      "searching...\n",
      "4\n",
      "searching...\n",
      "3\n",
      "searching...\n",
      "5\n",
      "searching...\n",
      "0\n",
      "searching...\n",
      "2\n",
      "searching...\n",
      "0\n",
      "searching...\n",
      "1\n",
      "we found it!\n"
     ]
    }
   ],
   "source": [
    "import random\n",
    "\n",
    "def search_function():\n",
    "    random_int = random.randint(0,5)\n",
    "    print(random_int)  #to see which random integer we are getting\n",
    "    if random_int == 1:  #same function but condition is different\n",
    "        return True\n",
    "    else:\n",
    "        return False\n",
    "    \n",
    "    \n",
    "found = False\n",
    "\n",
    "\n",
    "\n",
    "while not found:\n",
    "    print(\"searching...\")\n",
    "    found = search_function()\n",
    "\n",
    "print(\"we found it!\")"
   ]
  },
  {
   "cell_type": "code",
   "execution_count": null,
   "metadata": {},
   "outputs": [],
   "source": [
    "# uncomment and run the line below in order to install the requests library\n",
    "#!python3 -m pip install --user requests"
   ]
  },
  {
   "cell_type": "code",
   "execution_count": 9,
   "metadata": {},
   "outputs": [
    {
     "name": "stdout",
     "output_type": "stream",
     "text": [
      "<Response [404]>\n",
      "False 404\n",
      "<Response [200]>\n",
      "True 200\n"
     ]
    }
   ],
   "source": [
    "import requests, random\n",
    "\n",
    "def get_page():\n",
    "    url = {   #dictionary of pages\n",
    "        0: \"https://httpbin.org/status/200\", \n",
    "        1: \"https://httpbin.org/status/301\",\n",
    "        2: \"https://httpbin.org/status/400\",\n",
    "        3: \"https://httpbin.org/status/401\",\n",
    "        4: \"https://httpbin.org/status/403\",\n",
    "        5: \"https://httpbin.org/status/404\",\n",
    "        \n",
    "    }\n",
    "    rand_int = random.randint(0,5)   #generating a number between zero-5\n",
    "    request = requests.get(url[rand_int])  #requesting the url of that random integer ext: integer 1 = key 1 : http.. 301 \n",
    "    print(request)\n",
    "    if (stat_code := request.status_code) == 200: #simulating the response of a web browser of finding a website\n",
    "        return (True, stat_code)\n",
    "    else:\n",
    "        return (False, stat_code)\n",
    "    \n",
    "##############################################################################################\n",
    "\n",
    "fetched_page = False    \n",
    "    \n",
    "while not fetched_page:   #equates to True\n",
    "    success, resp = get_page()\n",
    "    print(success, resp)\n",
    "    fetched_page = success\n",
    "    \n",
    "    \n",
    "    \n",
    "#post request: sent data to a server. example: putting credit card info to buy some shoes. you want to keep trying\n",
    "#until you get a true repsonse because you want to buy them and get confirmation \n",
    "\n",
    "\n",
    "#if you are going through loop through a predetermined number of times/amount of times (ex list of 15 elements) then use a for loop. \n",
    "#When you are waiting for a condition to be met and loop through: while loop. Similar to an if statement because it's\n",
    "#based on conditional"
   ]
  },
  {
   "cell_type": "markdown",
   "metadata": {},
   "source": [
    "# Other Useful Control Structure keywords"
   ]
  },
  {
   "cell_type": "code",
   "execution_count": 2,
   "metadata": {},
   "outputs": [
    {
     "name": "stdout",
     "output_type": "stream",
     "text": [
      "0\n",
      "1\n",
      "2\n",
      "3\n",
      "4\n",
      "5\n",
      "6\n",
      "7\n",
      "8\n",
      "9\n"
     ]
    }
   ],
   "source": [
    "# pass example\n",
    "\n",
    "for i in range(10):\n",
    "    if i % 2 == 0:\n",
    "        pass   # you want to use pass when you don't want to run extra code. a non operation\n",
    "    print(i)"
   ]
  },
  {
   "cell_type": "code",
   "execution_count": null,
   "metadata": {},
   "outputs": [],
   "source": [
    "def func():\n",
    "    pass\n",
    "    \n",
    "print(\"coding\")"
   ]
  },
  {
   "cell_type": "code",
   "execution_count": 17,
   "metadata": {},
   "outputs": [
    {
     "name": "stdout",
     "output_type": "stream",
     "text": [
      "1\n",
      "3\n",
      "5\n",
      "7\n",
      "9\n"
     ]
    }
   ],
   "source": [
    "# continue example\n",
    "for i in range(10):\n",
    "    if i % 2 == 0:\n",
    "        continue  #when it encounters even numbers it will not do anything with it and continue the loop\n",
    "        #and print the next number which in this case are odd\n",
    "    print(i)\n",
    "    "
   ]
  },
  {
   "cell_type": "code",
   "execution_count": 4,
   "metadata": {},
   "outputs": [
    {
     "name": "stdout",
     "output_type": "stream",
     "text": [
      "1\n",
      "2\n"
     ]
    }
   ],
   "source": [
    "# break example\n",
    "for i in range(1,10):\n",
    "    if i % 3 == 0:\n",
    "        break   #to break out of the loop\n",
    "    print(i)"
   ]
  },
  {
   "cell_type": "code",
   "execution_count": 3,
   "metadata": {},
   "outputs": [
    {
     "name": "stdout",
     "output_type": "stream",
     "text": [
      "no iterable found\n"
     ]
    }
   ],
   "source": [
    "# for else statement\n",
    "iterable = \"\"\n",
    "\n",
    "for i in iterable:\n",
    "    print(i)\n",
    "else:   #else when you have an empty string for example\n",
    "    print(\"no iterable found\")"
   ]
  },
  {
   "cell_type": "code",
   "execution_count": null,
   "metadata": {},
   "outputs": [],
   "source": []
  }
 ],
 "metadata": {
  "kernelspec": {
   "display_name": "Python 3",
   "language": "python",
   "name": "python3"
  },
  "language_info": {
   "codemirror_mode": {
    "name": "ipython",
    "version": 3
   },
   "file_extension": ".py",
   "mimetype": "text/x-python",
   "name": "python",
   "nbconvert_exporter": "python",
   "pygments_lexer": "ipython3",
   "version": "3.8.3"
  }
 },
 "nbformat": 4,
 "nbformat_minor": 4
}
