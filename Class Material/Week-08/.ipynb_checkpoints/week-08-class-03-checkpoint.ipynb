{
 "cells": [
  {
   "cell_type": "markdown",
   "metadata": {},
   "source": [
    "<div style=\"background: #000;\n",
    "            color: #FFF;\n",
    "            margin: 0px;\n",
    "                padding: 10px 0px 20px 0px;\n",
    "            text-align: center; \n",
    "                \">\n",
    "    <h1>Week 8 - Class 3 - 11/04</h1>\n",
    "</div>\n",
    "\n",
    "## Objectives for this week:\n",
    "* HTML/CSS Review\n",
    "* RLLib3/BS4\n",
    "* Web Crawling\n",
    "* JSON data in Python\n",
    "* Reading/Writing to Files\n",
    "\n",
    "## Today's Agenda\n",
    "* JSON data in Python\n",
    "* Reading/Writing to Files"
   ]
  },
  {
   "cell_type": "markdown",
   "metadata": {},
   "source": [
    "# Homework Presentations"
   ]
  },
  {
   "cell_type": "markdown",
   "metadata": {},
   "source": [
    "# Exercise 3"
   ]
  },
  {
   "cell_type": "markdown",
   "metadata": {},
   "source": [
    "Create a script that will do the following:\n",
    "\n",
    "if you ran the script with an arbitrary amount of strings:\n",
    "```bash\n",
    "$ python your-name-ex3-script.py word1 word2 word3\n",
    "\n",
    "```\n",
    "\n",
    "the script would produce a file in the same directory called `output.html` with the following text:\n",
    "\n",
    "```\n",
    "<body>\n",
    "word1 word2 word3\n",
    "</body>\n",
    "\n",
    "```\n",
    "\n",
    "Submit your script. Not necessary to submit `output.html` file."
   ]
  },
  {
   "cell_type": "code",
   "execution_count": null,
   "metadata": {},
   "outputs": [],
   "source": [
    "#module knows it's name\n",
    "# the __name__ should be at the bottom\n",
    "#the sys library allows you to use the arguments you pass in your system(terminal)\n",
    "\n",
    "def fn(lst):\n",
    "    with open(\"output.html\", \"w\") as filename:\n",
    "        filename.write(\"<body>\\n\")\n",
    "        filename.write(\" \".join(lst[1:]))\n",
    "        filename.write(\"\\n</body>\")\n",
    "        \n",
    "if __name__ == '__main__':  #you want to run your script in the command line (terminal)\n",
    "    import sys\n",
    "    fn(sys.argv) "
   ]
  },
  {
   "cell_type": "markdown",
   "metadata": {},
   "source": [
    "# Walrus operators\n",
    "\n",
    "python 3.8 or above only\n",
    "check with:\n",
    "\n"
   ]
  },
  {
   "cell_type": "code",
   "execution_count": null,
   "metadata": {},
   "outputs": [],
   "source": [
    "!python --version"
   ]
  },
  {
   "cell_type": "code",
   "execution_count": null,
   "metadata": {},
   "outputs": [],
   "source": [
    "s = \"4\"\n",
    "\n",
    "# without walrus example\n",
    "int_s = int(s)\n",
    "if int_s < 10:\n",
    "    print(int_s + 5)\n",
    "\n",
    "# walrus example\n",
    "if (int_s := int(s)) < 10:  #the two lines in one\n",
    "    print(int_s + 5)"
   ]
  },
  {
   "cell_type": "code",
   "execution_count": null,
   "metadata": {},
   "outputs": [],
   "source": [
    "s = \"string\"\n",
    "\n",
    "if (s_upper := s.upper()).lower() == \"string\":\n",
    "    print(f\"{s_upper} is not a 'string'\")\n",
    "    \n",
    "s_upper = s.upper()\n",
    "if s_upper.lower() == \"string\":\n",
    "    print(f\"{s_upper} is not a 'string'\")"
   ]
  },
  {
   "cell_type": "markdown",
   "metadata": {},
   "source": [
    "# JSON Data in python\n",
    "\n",
    "python has a standard library module for json"
   ]
  },
  {
   "cell_type": "code",
   "execution_count": null,
   "metadata": {},
   "outputs": [],
   "source": [
    "import json  #load the json library and create an instance that we will be able to reference "
   ]
  },
  {
   "cell_type": "markdown",
   "metadata": {},
   "source": [
    "#### `json.dump(data, file)`"
   ]
  },
  {
   "cell_type": "code",
   "execution_count": null,
   "metadata": {},
   "outputs": [],
   "source": [
    "data = {\n",
    "    \"this\": [0,1,2,3],\n",
    "    \"is\" : True,\n",
    "    \"our\" : 10,\n",
    "    \"data\": \"string\"\n",
    "}\n",
    "\n",
    "with open(\"data_file.json\", \"w\") as file:\n",
    "    json.dump(data, file, indent=4)"
   ]
  },
  {
   "cell_type": "markdown",
   "metadata": {},
   "source": [
    "#### `json.loads(json_string)`"
   ]
  },
  {
   "cell_type": "code",
   "execution_count": null,
   "metadata": {},
   "outputs": [],
   "source": [
    "#first example\n",
    "json_string = \"\"\"  \n",
    "{\n",
    "    \"researcher\": {\n",
    "        \"name\": \"Ford Prefect\",\n",
    "        \"species\": \"Betelgeusian\",\n",
    "        \"relatives\": [\n",
    "            {\n",
    "                \"name\": \"Zaphod Beeblebrox\",\n",
    "                \"species\": \"Betelgeusian\"\n",
    "            }\n",
    "        ]\n",
    "    }\n",
    "}\n",
    "\"\"\"\n",
    "#second example\n",
    "json_string = \"\"\"\n",
    "{\n",
    "    \"key\": \"val\"\n",
    "}\n",
    "\"\"\"\n",
    "\n",
    "\n",
    "data = json.loads(json_string)\n",
    "print(data)  #data variable is outputter. you get back a dictionary and you are able to access \n",
    "# data['researcher']['name']   #you are able to assest data using dict methods"
   ]
  },
  {
   "cell_type": "code",
   "execution_count": null,
   "metadata": {},
   "outputs": [],
   "source": [
    "json_string[50:60]   # is not s useful as assessign the data using dict methods"
   ]
  },
  {
   "cell_type": "code",
   "execution_count": null,
   "metadata": {},
   "outputs": [],
   "source": [
    "s = None\n",
    "\n",
    "with open(\"data_file.json\", \"r\") as file: #created a json file\n",
    "    s = json.load(file)\n",
    "\n",
    "print(s)\n",
    "print(type(s))"
   ]
  },
  {
   "cell_type": "markdown",
   "metadata": {},
   "source": [
    "#### using it with request"
   ]
  },
  {
   "cell_type": "code",
   "execution_count": null,
   "metadata": {
    "scrolled": true
   },
   "outputs": [],
   "source": [
    "import requests\n",
    "\n",
    "response = requests.get(\"https://jsonplaceholder.typicode.com/todos\")\n",
    "todos = json.loads(response.text)\n",
    "todos"
   ]
  },
  {
   "cell_type": "code",
   "execution_count": null,
   "metadata": {},
   "outputs": [],
   "source": [
    "help(json.loads)"
   ]
  },
  {
   "cell_type": "code",
   "execution_count": null,
   "metadata": {},
   "outputs": [],
   "source": [
    "li[]"
   ]
  },
  {
   "cell_type": "code",
   "execution_count": 4,
   "metadata": {},
   "outputs": [],
   "source": [
    "url = \"https://www.theknowledgehouse.org\""
   ]
  },
  {
   "cell_type": "code",
   "execution_count": 5,
   "metadata": {},
   "outputs": [],
   "source": [
    "import requests\n",
    "from bs4 import BeautifulSoup"
   ]
  },
  {
   "cell_type": "code",
   "execution_count": 6,
   "metadata": {},
   "outputs": [],
   "source": [
    "r = requests.get(url)\n",
    "soup = BeautifulSoup(r.text)"
   ]
  },
  {
   "cell_type": "code",
   "execution_count": 7,
   "metadata": {
    "scrolled": true
   },
   "outputs": [
    {
     "data": {
      "text/plain": [
       "[<a href=\"#\">About</a>,\n",
       " <a class=\"mp-back\" href=\"#\">back<i class=\"fas fa-chevron-right icon\"></i></a>,\n",
       " <a href=\"/about/\">Our Story</a>,\n",
       " <a href=\"/team/\">Team</a>,\n",
       " <a href=\"/support/\">Supporters</a>,\n",
       " <a href=\"#\">Our Programs</a>,\n",
       " <a class=\"mp-back\" href=\"#\">back<i class=\"fas fa-chevron-right icon\"></i></a>,\n",
       " <a href=\"/apply/\">Innovation Fellowship</a>,\n",
       " <a href=\"/FrenchMontana/\">Kharim Karbouch Coding Fellowship</a>,\n",
       " <a href=\"#\">Partner</a>,\n",
       " <a class=\"mp-back\" href=\"#\">back<i class=\"fas fa-chevron-right icon\"></i></a>,\n",
       " <a href=\"/employ/\">Hire our Graduates</a>,\n",
       " <a href=\"/get-involved/\">Get Involved</a>,\n",
       " <a href=\"https://www.classy.org/campaign/sponsor-a-fellow-change-a-life/c295935\">Become a Champion</a>,\n",
       " <a href=\"/events/\">Events</a>,\n",
       " <a href=\"/news/\">News</a>,\n",
       " <a href=\"/contact/\">Contact Us</a>,\n",
       " <a href=\"/donate/\">Donate</a>,\n",
       " <a class=\"mt-1 mr-1\" id=\"trigger\">\n",
       " <svg fill=\"none\" height=\"35\" style=\"fill:black;\" viewbox=\"0 0 24 25\" width=\"43\" xmlns=\"http://www.w3.org/2000/svg\">\n",
       " <path clip-rule=\"evenodd\" d=\"M22 7.5V5.5H2V7.5H22ZM22 11.5V13.5H2V11.5H22ZM22 17.5V19.5H2V17.5H22Z\" fill-rule=\"evenodd\"></path>\n",
       " </svg>\n",
       " </a>,\n",
       " <a class=\"mr-auto d-md-inline d-none\" href=\"/\">\n",
       " <img class=\"logo\" src=\"https://tkhv2-static.s3.amazonaws.com/static-final/assets/img/sec_logo1.png\" style=\"width:auto;height: 30px\"/>\n",
       " </a>,\n",
       " <a class=\"mr-auto d-inline d-md-none\" href=\"/\">\n",
       " <img class=\"logo\" src=\"https://tkhv2-static.s3.amazonaws.com/static-final/assets/img/logo.png\" style=\"width:auto;height: 40px\"/>\n",
       " </a>,\n",
       " <a class=\"ml-auto\" href=\"/donate/\" style=\"height: 50%;width: 10%;min-width:100px; padding-top: auto; background-color:#FFC20A; color: black!important;border:3px solid;box-shadow: 4px 7px;font-weight: 400;border-radius: 1000vw;font-size: 1em;\">DONATE</a>,\n",
       " <a href=\"https://www.classy.org/campaign/sponsor-a-fellow-change-a-life/c295935\">\n",
       " <button class=\"button hvr-fade text-uppercase\" style=\"float: left; color: #fff;background-color:#134F5C;border-color: #fff\">\n",
       "                 JOIN US\n",
       "               </button>\n",
       " </a>,\n",
       " <a href=\"/about/\">\n",
       " <button class=\"button hvr-fade\" style=\"background-color: #134F5C;color: #fff \">\n",
       "                       LEARN MORE\n",
       "                     </button>\n",
       " </a>,\n",
       " <a href=\"https://www.linkedin.com/in/jen516/ \">\n",
       " <img class=\"rounded-circle img-fluidcenter\" height=\"auto\" src=\"https://tkhv2-static.s3.amazonaws.com/media/testimonail/images/Group_54.png\" style=\"height: 20vh; max-height: 200px\"/>\n",
       " </a>,\n",
       " <a href=\"https://www.linkedin.com/ \">\n",
       " <img class=\"rounded-circle img-fluidcenter\" height=\"auto\" src=\"https://tkhv2-static.s3.amazonaws.com/media/testimonail/images/Group_54_1.png\" style=\"height: 20vh; max-height: 200px\"/>\n",
       " </a>,\n",
       " <a href=\"/apply/\" target=\"_blank\"><button class=\"button hvr-fade\" style=\"background-color:#fff; \">APPLY</button></a>,\n",
       " <a class=\"mb-2\" href=\"https://vimeo.com/showcase/6718486?video=449261067\"><div style=\"height: 25vh;width: auto;background-image:url('https://tkhv2-static.s3.amazonaws.com/media/news/images/Screen_Shot_2020-09-23_at_11.13.11_AM.png');background-size: cover;background-position: center;background-repeat: no-repeat;\"></div></a>,\n",
       " <a href=\"https://vimeo.com/showcase/6718486?video=449261067\" target=\"blank\">\n",
       " <h3 class=\"m-1 text-lg-left text-center\" style=\"color: #fff;\">The Knowledge House Virtually Rings The Opening Bell®</h3>\n",
       " </a>,\n",
       " <a class=\"mb-2\" href=\"https://www.ny1noticias.com/nyc/noticias/noticias/2020/08/13/the-knowledge-house--organizacion-en-el-bronx-que-da-educacion-en-tecnologia-a-jovenes\"><div style=\"height: 25vh;width: auto;background-image:url('https://tkhv2-static.s3.amazonaws.com/media/news/images/es_jerelyn_rodriguezprofile3771134304412002png.jpeg');background-size: cover;background-position: center;background-repeat: no-repeat;\"></div></a>,\n",
       " <a href=\"https://www.ny1noticias.com/nyc/noticias/noticias/2020/08/13/the-knowledge-house--organizacion-en-el-bronx-que-da-educacion-en-tecnologia-a-jovenes\" target=\"blank\">\n",
       " <h3 class=\"m-1 text-lg-left text-center\" style=\"color: #fff;\">The Knowledge House: Technology Education</h3>\n",
       " </a>,\n",
       " <a class=\"mb-2\" href=\"https://www.bxtimes.com/the-knowledge-house-and-capital-one-community-powered-by-technology/\"><div style=\"height: 25vh;width: auto;background-image:url('https://tkhv2-static.s3.amazonaws.com/media/news/images/TKH-Image-2048x1365.jpg');background-size: cover;background-position: center;background-repeat: no-repeat;\"></div></a>,\n",
       " <a href=\"https://www.bxtimes.com/the-knowledge-house-and-capital-one-community-powered-by-technology/\" target=\"blank\">\n",
       " <h3 class=\"m-1 text-lg-left text-center\" style=\"color: #fff;\">The Knowledge House and Capital One: Community Powered by Technology</h3>\n",
       " </a>,\n",
       " <a href=\"/employ/\" target=\"_blank\"><button class=\"button hvr-fade mt-3\" style=\"color: #fff; background-color:#134F5C;\">HIRE OUR GRADS</button></a>,\n",
       " <a href=\"https://www.classy.org/campaign/sponsor-a-fellow-change-a-life/c295935\"><button class=\"button hvr-fade text-uppercase\" style=\"width:80vw; max-width: 281;\">Become a Champion</button></a>,\n",
       " <a class=\"mr-2\" href=\"https://www.instagram.com/theknowledgehouse/?hl=en\" style=\"display: inline-block;\">\n",
       " <img alt=\"instagram\" class=\"center img-fluid rounded-circle mr-auto\" src=\"https://tkhv2-static.s3.amazonaws.com/media/footer/link/iconmonstr-instagram-9-240_1_np3SRZc.png\" style=\" width: auto; height: 45px;\"/>\n",
       " </a>,\n",
       " <a class=\"mr-2\" href=\"https://www.facebook.com/theknowledgehouse/\" style=\"display: inline-block;\">\n",
       " <img alt=\"Facebook\" class=\"center img-fluid rounded-circle mr-auto\" src=\"https://tkhv2-static.s3.amazonaws.com/media/footer/link/iconmonstr-facebook-4-240_1.png\" style=\" width: auto; height: 45px;\"/>\n",
       " </a>,\n",
       " <a class=\"mr-2\" href=\"https://www.linkedin.com/school/theknowledgehouse/\" style=\"display: inline-block;\">\n",
       " <img alt=\"linkedin\" class=\"center img-fluid rounded-circle mr-auto\" src=\"https://tkhv2-static.s3.amazonaws.com/media/footer/link/iconmonstr-linkedin-4-240_1.png\" style=\" width: auto; height: 45px;\"/>\n",
       " </a>,\n",
       " <a class=\"mr-2\" href=\"https://www.youtube.com/channel/UChfWv3rKwkaH_nbPrQPkH6w\" style=\"display: inline-block;\">\n",
       " <img alt=\"Youtube\" class=\"center img-fluid rounded-circle mr-auto\" src=\"https://tkhv2-static.s3.amazonaws.com/media/footer/link/iconmonstr-youtube-9-240_1_DXrfFIG.png\" style=\" width: auto; height: 45px;\"/>\n",
       " </a>,\n",
       " <a class=\"mr-2\" href=\"https://twitter.com/theknowledgehou?lang=en\" style=\"display: inline-block;\">\n",
       " <img alt=\"twitter\" class=\"center img-fluid rounded-circle mr-auto\" src=\"https://tkhv2-static.s3.amazonaws.com/media/footer/link/iconmonstr-twitter-4-240_1.png\" style=\" width: auto; height: 45px;\"/>\n",
       " </a>,\n",
       " <a class=\"mr-2\" href=\"https://www.protectblackbusiness.org/\" style=\"display: inline-block;\">\n",
       " <img alt=\"black business\" class=\"center img-fluid rounded-circle mr-auto\" src=\"https://tkhv2-static.s3.amazonaws.com/media/footer/link/imageonline-co-whitebackgroundremoved_1.png\" style=\" width: auto; height: 45px;\"/>\n",
       " </a>]"
      ]
     },
     "execution_count": 7,
     "metadata": {},
     "output_type": "execute_result"
    }
   ],
   "source": [
    "a_tags = soup.find_all('a')\n",
    "a_tags"
   ]
  },
  {
   "cell_type": "code",
   "execution_count": 8,
   "metadata": {},
   "outputs": [
    {
     "name": "stdout",
     "output_type": "stream",
     "text": [
      "https://www.theknowledgehouse.org#\n",
      "https://www.theknowledgehouse.org#\n",
      "https://www.theknowledgehouse.org/about/\n",
      "https://www.theknowledgehouse.org/team/\n",
      "https://www.theknowledgehouse.org/support/\n",
      "https://www.theknowledgehouse.org#\n",
      "https://www.theknowledgehouse.org#\n",
      "https://www.theknowledgehouse.org/apply/\n",
      "https://www.theknowledgehouse.org/FrenchMontana/\n",
      "https://www.theknowledgehouse.org#\n",
      "https://www.theknowledgehouse.org#\n",
      "https://www.theknowledgehouse.org/employ/\n",
      "https://www.theknowledgehouse.org/get-involved/\n",
      "https://www.classy.org/campaign/sponsor-a-fellow-change-a-life/c295935\n",
      "https://www.theknowledgehouse.org/events/\n",
      "https://www.theknowledgehouse.org/news/\n",
      "https://www.theknowledgehouse.org/contact/\n",
      "https://www.theknowledgehouse.org/donate/\n",
      "https://www.theknowledgehouse.org/\n",
      "https://www.theknowledgehouse.org/\n",
      "https://www.theknowledgehouse.org/donate/\n",
      "https://www.classy.org/campaign/sponsor-a-fellow-change-a-life/c295935\n",
      "https://www.theknowledgehouse.org/about/\n",
      "https://www.linkedin.com/in/jen516/ \n",
      "https://www.linkedin.com/ \n",
      "https://www.theknowledgehouse.org/apply/\n",
      "https://vimeo.com/showcase/6718486?video=449261067\n",
      "https://vimeo.com/showcase/6718486?video=449261067\n",
      "https://www.ny1noticias.com/nyc/noticias/noticias/2020/08/13/the-knowledge-house--organizacion-en-el-bronx-que-da-educacion-en-tecnologia-a-jovenes\n",
      "https://www.ny1noticias.com/nyc/noticias/noticias/2020/08/13/the-knowledge-house--organizacion-en-el-bronx-que-da-educacion-en-tecnologia-a-jovenes\n",
      "https://www.bxtimes.com/the-knowledge-house-and-capital-one-community-powered-by-technology/\n",
      "https://www.bxtimes.com/the-knowledge-house-and-capital-one-community-powered-by-technology/\n",
      "https://www.theknowledgehouse.org/employ/\n",
      "https://www.classy.org/campaign/sponsor-a-fellow-change-a-life/c295935\n",
      "https://www.instagram.com/theknowledgehouse/?hl=en\n",
      "https://www.facebook.com/theknowledgehouse/\n",
      "https://www.linkedin.com/school/theknowledgehouse/\n",
      "https://www.youtube.com/channel/UChfWv3rKwkaH_nbPrQPkH6w\n",
      "https://twitter.com/theknowledgehou?lang=en\n",
      "https://www.protectblackbusiness.org/\n"
     ]
    }
   ],
   "source": [
    "# filter a tags\n",
    "links = []\n",
    "for anchor in a_tags:\n",
    "    try:\n",
    "        if (link := anchor['href']).startswith('http'):\n",
    "            links.append(link)\n",
    "        else:\n",
    "            links.append(url + link)\n",
    "    except KeyError:\n",
    "        continue\n",
    "\n",
    "for link in links:\n",
    "    print(link)"
   ]
  },
  {
   "cell_type": "code",
   "execution_count": 1,
   "metadata": {},
   "outputs": [
    {
     "name": "stdout",
     "output_type": "stream",
     "text": [
      "starting crawling\n"
     ]
    },
    {
     "ename": "AttributeError",
     "evalue": "'function' object has no attribute 'find_all'",
     "output_type": "error",
     "traceback": [
      "\u001b[0;31m---------------------------------------------------------------------------\u001b[0m",
      "\u001b[0;31mAttributeError\u001b[0m                            Traceback (most recent call last)",
      "\u001b[0;32m<ipython-input-1-bc280d46a991>\u001b[0m in \u001b[0;36m<module>\u001b[0;34m\u001b[0m\n\u001b[1;32m     68\u001b[0m \u001b[0mspidey\u001b[0m \u001b[0;34m=\u001b[0m \u001b[0mWebCrawler\u001b[0m\u001b[0;34m(\u001b[0m\u001b[0;34m\"https://www.theknowledgehouse.org\"\u001b[0m\u001b[0;34m)\u001b[0m\u001b[0;34m\u001b[0m\u001b[0;34m\u001b[0m\u001b[0m\n\u001b[1;32m     69\u001b[0m \u001b[0;31m# spidey.url_to_soup()\u001b[0m\u001b[0;34m\u001b[0m\u001b[0;34m\u001b[0m\u001b[0;34m\u001b[0m\u001b[0m\n\u001b[0;32m---> 70\u001b[0;31m \u001b[0mspidey\u001b[0m\u001b[0;34m.\u001b[0m\u001b[0mstart\u001b[0m\u001b[0;34m(\u001b[0m\u001b[0;34m)\u001b[0m\u001b[0;34m\u001b[0m\u001b[0;34m\u001b[0m\u001b[0m\n\u001b[0m",
      "\u001b[0;32m<ipython-input-1-bc280d46a991>\u001b[0m in \u001b[0;36mstart\u001b[0;34m(self)\u001b[0m\n\u001b[1;32m     30\u001b[0m         \u001b[0mprint\u001b[0m\u001b[0;34m(\u001b[0m\u001b[0;34m\"starting crawling\"\u001b[0m\u001b[0;34m)\u001b[0m\u001b[0;34m\u001b[0m\u001b[0;34m\u001b[0m\u001b[0m\n\u001b[1;32m     31\u001b[0m         \u001b[0mself\u001b[0m\u001b[0;34m.\u001b[0m\u001b[0msoup\u001b[0m \u001b[0;34m=\u001b[0m \u001b[0mself\u001b[0m\u001b[0;34m.\u001b[0m\u001b[0murl_to_soup\u001b[0m\u001b[0;34m\u001b[0m\u001b[0;34m\u001b[0m\u001b[0m\n\u001b[0;32m---> 32\u001b[0;31m         \u001b[0mself\u001b[0m\u001b[0;34m.\u001b[0m\u001b[0mlinks\u001b[0m \u001b[0;34m+=\u001b[0m \u001b[0mself\u001b[0m\u001b[0;34m.\u001b[0m\u001b[0mget_links\u001b[0m\u001b[0;34m(\u001b[0m\u001b[0;34m)\u001b[0m\u001b[0;34m\u001b[0m\u001b[0;34m\u001b[0m\u001b[0m\n\u001b[0m\u001b[1;32m     33\u001b[0m         \u001b[0mself\u001b[0m\u001b[0;34m.\u001b[0m\u001b[0mhandle_links\u001b[0m\u001b[0;34m(\u001b[0m\u001b[0;34m)\u001b[0m \u001b[0;31m# is going to take no arguments besides self\u001b[0m\u001b[0;34m\u001b[0m\u001b[0;34m\u001b[0m\u001b[0m\n\u001b[1;32m     34\u001b[0m \u001b[0;34m\u001b[0m\u001b[0m\n",
      "\u001b[0;32m<ipython-input-1-bc280d46a991>\u001b[0m in \u001b[0;36mget_links\u001b[0;34m(self)\u001b[0m\n\u001b[1;32m     51\u001b[0m \u001b[0;34m\u001b[0m\u001b[0m\n\u001b[1;32m     52\u001b[0m     \u001b[0;32mdef\u001b[0m \u001b[0mget_links\u001b[0m\u001b[0;34m(\u001b[0m\u001b[0mself\u001b[0m\u001b[0;34m)\u001b[0m\u001b[0;34m:\u001b[0m  \u001b[0;31m#passing the contents\u001b[0m\u001b[0;34m\u001b[0m\u001b[0;34m\u001b[0m\u001b[0m\n\u001b[0;32m---> 53\u001b[0;31m         \u001b[0ma_tags\u001b[0m \u001b[0;34m=\u001b[0m \u001b[0mself\u001b[0m\u001b[0;34m.\u001b[0m\u001b[0msoup\u001b[0m\u001b[0;34m.\u001b[0m\u001b[0mfind_all\u001b[0m\u001b[0;34m(\u001b[0m\u001b[0;34m'a'\u001b[0m\u001b[0;34m)\u001b[0m\u001b[0;34m\u001b[0m\u001b[0;34m\u001b[0m\u001b[0m\n\u001b[0m\u001b[1;32m     54\u001b[0m         \u001b[0mlinks\u001b[0m \u001b[0;34m=\u001b[0m \u001b[0;34m[\u001b[0m\u001b[0;34m]\u001b[0m\u001b[0;34m\u001b[0m\u001b[0;34m\u001b[0m\u001b[0m\n\u001b[1;32m     55\u001b[0m         \u001b[0;32mfor\u001b[0m \u001b[0manchor\u001b[0m \u001b[0;32min\u001b[0m \u001b[0ma_tags\u001b[0m\u001b[0;34m:\u001b[0m\u001b[0;34m\u001b[0m\u001b[0;34m\u001b[0m\u001b[0m\n",
      "\u001b[0;31mAttributeError\u001b[0m: 'function' object has no attribute 'find_all'"
     ]
    }
   ],
   "source": [
    "# create functions\n",
    "\n",
    "#breaking down this function\n",
    "# def get_links(url):\n",
    "#     resp = requests.get(url)\n",
    "#     soup = BeautifulSoup(resp.text)\n",
    "#     a_tags = soup.find_all('a')\n",
    "#     links = []\n",
    "#     for anchor in a_tags:\n",
    "#         try:\n",
    "#             if (link := anchor['href']).startswith('http'):\n",
    "#                 links.append(link)\n",
    "#             else:\n",
    "#                 links.append(url + link)\n",
    "#         except KeyError:\n",
    "#             continue\n",
    "#     return links\n",
    "\n",
    "from bs4 import BeautifulSoup\n",
    "import requests\n",
    "\n",
    "class WebCrawler:\n",
    "    def __init__(self, url):\n",
    "        self.url = url   \n",
    "#         self.soup = self.url_to_soup() #we dont want to do scrawping in the init because it will slow down everything else\n",
    "        self.links_set = {url}\n",
    "        self.links = [url]\n",
    "        \n",
    "    def start(self):\n",
    "        print(\"starting crawling\")\n",
    "        self.soup = self.url_to_soup\n",
    "        self.links += self.get_links()\n",
    "        self.handle_links() # is going to take no arguments besides self\n",
    "        \n",
    "    def handle_links(self):\n",
    "        print(\"handling liks\")\n",
    "        for link in self.links:\n",
    "            print(f\"processing {links}\")\n",
    "            if not link in self.links_set:\n",
    "                self.url = link\n",
    "                self.soup = url_to_soup\n",
    "                self.links += self.get_links()\n",
    "                self.links_set.add(self.url)\n",
    "                     \n",
    "    def url_to_soup(self):\n",
    "        try:\n",
    "            resp = request.get(self.url) \n",
    "        except Exception:\n",
    "            resp = requests.Response()\n",
    "        return BeautifulSoup(resp.text)\n",
    "\n",
    "    def get_links(self):  #passing the contents\n",
    "        a_tags = self.soup.find_all('a')\n",
    "        links = []\n",
    "        for anchor in a_tags:\n",
    "            try:\n",
    "                if (link := anchor['href']).startswith('http'):\n",
    "                    links.append(link)\n",
    "                else:\n",
    "                    links.append(self.url + link)\n",
    "            except KeyError:\n",
    "                continue\n",
    "        return links\n",
    "\n",
    "# soup = url_to_soup('http://www.google.com')\n",
    "# get_links(soup,'http://www.google.com')\n",
    "\n",
    "spidey = WebCrawler(\"https://www.theknowledgehouse.org\")\n",
    "# spidey.url_to_soup()\n",
    "spidey.start()"
   ]
  },
  {
   "cell_type": "code",
   "execution_count": null,
   "metadata": {},
   "outputs": [],
   "source": [
    "from bs4 import BeautifulSoup\n",
    "import requests\n",
    "\n",
    "# 1. start at page a\n",
    "# 2. parse page a\n",
    "# 3. look for links in parsed page a\n",
    "# 4. assume pages b, c, d are found\n",
    "# 5. repeat steps 1-4 for b,c,d\n",
    "# 6. repeat steps 1-5 until no more links\n",
    "\n",
    "class Crawler:\n",
    "    def __init__(self, url):\n",
    "        self.url = url\n",
    "        self.link_set = {url}\n",
    "        self.links = [url]\n",
    "        \n",
    "    def start(self):\n",
    "        print(\"starting crawler\")\n",
    "        self.soup = self.url_to_soup()\n",
    "        self.links += self.find_links()\n",
    "        self.handle_links()\n",
    "    \n",
    "    def handle_links(self):\n",
    "        print(\"handling links\")\n",
    "        for link in self.links:\n",
    "            print(f\"processing {link}\")\n",
    "            if not link in self.link_set: #stops it from infinite loop\n",
    "                self.url = link\n",
    "                self.soup = self.url_to_soup()\n",
    "                self.links += self.find_links()\n",
    "                self.link_set.add(self.url)      \n",
    "\n",
    "    def url_to_soup(self, type_='GET'):\n",
    "        if type_ == 'GET':\n",
    "            resp = requests.get(self.url)\n",
    "        else:\n",
    "            resp = requests.Response()\n",
    "        return BeautifulSoup(resp.text)\n",
    "\n",
    "    def find_links(self):\n",
    "        a_tags = self.soup.find_all('a')\n",
    "        links = []\n",
    "        for anchor in a_tags:\n",
    "            try:\n",
    "                if (link := anchor['href']).startswith('http'):\n",
    "                    links.append(link)\n",
    "            except KeyError:\n",
    "                continue\n",
    "        return links\n",
    "\n",
    "spidey = Crawler('https://www.theknowledgehouse.org')\n",
    "print(spidey.links)\n",
    "spidey.start()"
   ]
  },
  {
   "cell_type": "markdown",
   "metadata": {},
   "source": [
    "#### Notes:\n",
    "\n",
    "This is the logic behind the crawler"
   ]
  },
  {
   "cell_type": "code",
   "execution_count": null,
   "metadata": {},
   "outputs": [],
   "source": [
    "import time\n",
    "\n",
    "s = [0]\n",
    "for i in s:\n",
    "    print(i)\n",
    "    s.append(i+1)\n",
    "    time.sleep(1)"
   ]
  },
  {
   "cell_type": "code",
   "execution_count": null,
   "metadata": {},
   "outputs": [],
   "source": [
    "# More on Web Scraping\n",
    "\n",
    "html = \\\n",
    "\"\"\"\n",
    "<body>\n",
    "  <h1>hello world</h1>\n",
    "  <ul>\n",
    "    <li><a class=\"nav-link\" href='#1'>link 1</a></li>\n",
    "    <li><a class=\"nav-link\" href='#2'>link 2</a></li>\n",
    "    <li><a class=\"nav-link\" href='#3'>link 3</a></li>\n",
    "  </ul>\n",
    "  <p>some text</p>\n",
    "</body>\n",
    "\"\"\""
   ]
  },
  {
   "cell_type": "code",
   "execution_count": null,
   "metadata": {},
   "outputs": [],
   "source": [
    "# Web Scraping Code Along"
   ]
  },
  {
   "cell_type": "code",
   "execution_count": null,
   "metadata": {},
   "outputs": [],
   "source": [
    "import requests\n",
    "from bs4 import BeautifulSoup"
   ]
  },
  {
   "cell_type": "markdown",
   "metadata": {},
   "source": [
    "# Required reading for next week:\n",
    "\n",
    "Pep 8 Style Guide  \n",
    "https://pep8.org/  \n",
    "https://www.python.org/dev/peps/pep-0008/  \n",
    "\n",
    "Web Applications & Frameworks from 'The Hitchhiker's Guide to Python'  \n",
    "https://docs.python-guide.org/scenarios/web/  \n",
    "https://docs.python-guide.org/ (web version is free)  "
   ]
  },
  {
   "cell_type": "markdown",
   "metadata": {},
   "source": [
    "<div style=\"background: #000;\n",
    "            color: #FFF;\n",
    "            margin: 0px;\n",
    "                padding: 10px 0px 20px 0px;\n",
    "            text-align: center; \n",
    "                \">\n",
    "    <h1>Lab</h1>\n",
    "</div>\n"
   ]
  },
  {
   "cell_type": "markdown",
   "metadata": {},
   "source": [
    "# Exercise 1\n",
    "\n",
    "Complete the following code to print the tag: \n",
    "\n",
    "`<a href=\"https:///www.duckduckgo\">duckduckgo</a>`"
   ]
  },
  {
   "cell_type": "code",
   "execution_count": null,
   "metadata": {},
   "outputs": [],
   "source": [
    "html = \\\n",
    "\"\"\"\n",
    "<body>\n",
    "  <h1>hello world</h1>\n",
    "  <ul>\n",
    "    <li><a href=\"#link1\">link 1</a></li>\n",
    "    <li><a href=\"#link2\">link 2</a></li>\n",
    "    <li><a href=\"#link3\">link 3</a></li>\n",
    "    <li><a href=\"#link4\">link 4</a></li>\n",
    "    <li><a href=\"#link5\">link 5</a></li>\n",
    "  </ul>\n",
    "  <p>some text</p>\n",
    "  <div>\n",
    "    <p>links\n",
    "      <a href=\"https:///www.duckduckgo\">duckduckgo</a>\n",
    "    </p>\n",
    "  </div>\n",
    "</body>\n",
    "\n",
    "\"\"\"\n",
    "### enter your code below"
   ]
  },
  {
   "cell_type": "code",
   "execution_count": null,
   "metadata": {},
   "outputs": [],
   "source": [
    "# Exercise 2\n",
    "\n"
   ]
  }
 ],
 "metadata": {
  "kernelspec": {
   "display_name": "Python 3",
   "language": "python",
   "name": "python3"
  },
  "language_info": {
   "codemirror_mode": {
    "name": "ipython",
    "version": 3
   },
   "file_extension": ".py",
   "mimetype": "text/x-python",
   "name": "python",
   "nbconvert_exporter": "python",
   "pygments_lexer": "ipython3",
   "version": "3.8.3"
  }
 },
 "nbformat": 4,
 "nbformat_minor": 4
}
