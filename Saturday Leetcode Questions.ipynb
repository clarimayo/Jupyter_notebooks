{
 "cells": [
  {
   "cell_type": "raw",
   "metadata": {},
   "source": [
    "Week 14 - 204. Count Primes\n",
    "Count the number of prime numbers less than a non-negative number, n.\n",
    "Example 1\n",
    "Input: n = 10\n",
    "Output: 4\n",
    "Explanation: There are 4 prime numbers less than 10, they are 2, 3, 5, 7.\n",
    "Example 2:\n",
    "Input: n = 0\n",
    "Output: 0\n",
    "Example 3:\n",
    "Input: n = 1\n",
    "Output: 0\n",
    "Constraints:\n",
    "0 <= n <= 5 * 106"
   ]
  },
  {
   "cell_type": "code",
   "execution_count": 18,
   "metadata": {},
   "outputs": [
    {
     "name": "stdout",
     "output_type": "stream",
     "text": [
      "[False, False, False, False, False, False, False, False, False, False]\n",
      "True\n",
      "True\n",
      "True\n",
      "True\n"
     ]
    },
    {
     "data": {
      "text/plain": [
       "4"
      ]
     },
     "execution_count": 18,
     "metadata": {},
     "output_type": "execute_result"
    }
   ],
   "source": [
    "def previous_prime(n):\n",
    "    if n ==0:\n",
    "        return 0\n",
    "    count = 0\n",
    "    #make a list of True = Prime or False= \n",
    "    notPrimes = [False] * n\n",
    "    print(notPrimes)\n",
    "    for i in range(2, n):\n",
    "        if(notPrimes[i]):\n",
    "            print(notPrimes[i])\n",
    "            continue\n",
    "        count += 1\n",
    "        for j in range(i*i, n, i):\n",
    "            notPrimes[j] = True\n",
    "    return count\n",
    "\n",
    "previous_prime(10)"
   ]
  },
  {
   "cell_type": "code",
   "execution_count": 3,
   "metadata": {},
   "outputs": [],
   "source": [
    "import numpy as np"
   ]
  },
  {
   "cell_type": "code",
   "execution_count": 5,
   "metadata": {},
   "outputs": [
    {
     "data": {
      "text/plain": [
       "4"
      ]
     },
     "execution_count": 5,
     "metadata": {},
     "output_type": "execute_result"
    }
   ],
   "source": [
    "def previous_prime(n):\n",
    "    j = np.arange(1,n)\n",
    "    for i in range(2,11):\n",
    "        j[(j != i) & (j %i == 0)] = 0\n",
    "    final = j[(j != 0) & (j!=1)]\n",
    "    return final.size\n",
    "    \n",
    "previous_prime(10)"
   ]
  },
  {
   "cell_type": "code",
   "execution_count": 6,
   "metadata": {},
   "outputs": [],
   "source": [
    "class Solution:\n",
    "    def countPrimes(self, n: int) -> int:\n",
    "        sieve = [False, False] + [True for i in range(n-2)]\n",
    "        count = 2\n",
    "        while count*count < n:\n",
    "            if sieve[count]:\n",
    "                for c2 in range(2*count, n, count): #range(start, stop, skip)\n",
    "                    sieve[c2] = False\n",
    "                    \n",
    "            count += 1\n",
    "            \n",
    "        return sieve.count(True)\n",
    "    \n"
   ]
  },
  {
   "cell_type": "raw",
   "metadata": {},
   "source": [
    "771. Jewels and Stones  - 02/13/21\n",
    "Easy\n",
    "\n",
    "Share\n",
    "You're given strings jewels representing the types of stones that are jewels, and stones representing the stones you have. Each character in stones is a type of stone you have. You want to know how many of the stones you have are also jewels.\n",
    "\n",
    "Letters are case sensitive, so \"a\" is considered a different type of stone from \"A\".\n",
    "\n",
    " \n",
    "\n",
    "Example 1:\n",
    "\n",
    "Input: jewels = \"aA\", stones = \"aAAbbbb\"\n",
    "Output: 3\n",
    "Example 2:\n",
    "\n",
    "Input: jewels = \"z\", stones = \"ZZ\"\n",
    "Output: 0\n",
    " \n",
    "\n",
    "Constraints:\n",
    "\n",
    "1 <= jewels.length, stones.length <= 50\n",
    "jewels and stones consist of only English letters.\n",
    "All the characters of jewels are unique."
   ]
  },
  {
   "cell_type": "code",
   "execution_count": 3,
   "metadata": {},
   "outputs": [
    {
     "name": "stdout",
     "output_type": "stream",
     "text": [
      "3\n",
      "0\n"
     ]
    }
   ],
   "source": [
    "class Solution:\n",
    "    def numJewelsInStones(self,jewels, stones):\n",
    "        counter = 0\n",
    "        for stone in stones:\n",
    "            for jewel in jewels:\n",
    "                if stone == jewel:\n",
    "                    counter+=1\n",
    "        return counter\n",
    "    \n",
    "new_solution = Solution()\n",
    "print(new_solution.numJewelsInStones(\"aA\",\"aAAbbbb\" ))\n",
    "print(new_solution.numJewelsInStones(\"z\",\"ZZ\"))"
   ]
  },
  {
   "cell_type": "markdown",
   "metadata": {},
   "source": [
    "Week 15 - 231. Power of Two\n",
    "Given an integer n, return true if it is a power of two. Otherwise, return false.An integer n is a power of two, if there exists an integer x such that n == 2x.\n",
    "\n",
    "Example 1:\n",
    "Input: n = 1\n",
    "Output: true\n",
    "Explanation: 20 = 1\n",
    "\n",
    "Example 2:\n",
    "Input: n = 16\n",
    "Output: true\n",
    "Explanation: 24 = 16\n",
    "\n",
    "Example 3:\n",
    "Input: n = 3\n",
    "Output: false\n",
    "\n",
    "Example 4:\n",
    "Input: n = 4\n",
    "Output: true\n",
    "\n",
    "Example 5:\n",
    "Input: n = 5\n",
    "Output: fals\n",
    "\n",
    "\n",
    "Constraints:\n",
    "-231 <= n <= 231 - 1\n"
   ]
  },
  {
   "cell_type": "raw",
   "metadata": {},
   "source": [
    "Write a python function to index all items in a list.\n",
    "Input: list to search, value to search for\n",
    "Output: list of indices\n",
    "Input: example = [[[1,2,3],2,[1,3]],[1,2,3],2]\n",
    "    index_all(example,2)\n",
    "Output: [[0,0,1],[0,1],[1,1],[2]]"
   ]
  },
  {
   "cell_type": "code",
   "execution_count": 69,
   "metadata": {},
   "outputs": [
    {
     "name": "stdout",
     "output_type": "stream",
     "text": [
      "[[0, 0, 1], [1, 1, 1]]\n"
     ]
    }
   ],
   "source": [
    "example = [[[1,2,3],2,[1,3]],[1,2,3]]\n",
    "def index_all(example,num):\n",
    "    output = []\n",
    "    lenght = len(example)\n",
    "    for i in range(lenght):\n",
    "        if type(example[i])==list:\n",
    "            first_index =[i]\n",
    "            output.append(first_index)\n",
    "            for elem in example[i]:\n",
    "                if elem == num:\n",
    "                    first_index.append(i) \n",
    "                    first_index.append(example[i].index(elem))     \n",
    "        else:\n",
    "            if example[i]==num:\n",
    "                output.append([example.index(i)])\n",
    "            \n",
    "    print(output)\n",
    "index_all(example, 2)"
   ]
  },
  {
   "cell_type": "code",
   "execution_count": 61,
   "metadata": {},
   "outputs": [
    {
     "data": {
      "text/plain": [
       "[[1, 2, 3], 2, [1, 3]]"
      ]
     },
     "execution_count": 61,
     "metadata": {},
     "output_type": "execute_result"
    }
   ],
   "source": [
    "example = [[[1,2,3],2,[1,3]],[1,2,3],2]\n",
    "            #*      *           *    *\n",
    "# example[0][0][1] --> [0,0,1]\n",
    "example[0][1]   --> [0,1]\n",
    "# example[1][1] -- [1,1]\n",
    "# example[2]\n",
    "example[0]"
   ]
  },
  {
   "cell_type": "code",
   "execution_count": null,
   "metadata": {},
   "outputs": [],
   "source": [
    "range_ = [0]\n",
    "example[]"
   ]
  },
  {
   "cell_type": "code",
   "execution_count": null,
   "metadata": {},
   "outputs": [],
   "source": []
  }
 ],
 "metadata": {
  "kernelspec": {
   "display_name": "Python 3",
   "language": "python",
   "name": "python3"
  },
  "language_info": {
   "codemirror_mode": {
    "name": "ipython",
    "version": 3
   },
   "file_extension": ".py",
   "mimetype": "text/x-python",
   "name": "python",
   "nbconvert_exporter": "python",
   "pygments_lexer": "ipython3",
   "version": "3.8.3"
  }
 },
 "nbformat": 4,
 "nbformat_minor": 4
}
