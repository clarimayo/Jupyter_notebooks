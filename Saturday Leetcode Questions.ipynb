{
 "cells": [
  {
   "cell_type": "raw",
   "metadata": {},
   "source": [
    "Week 14 - 204. Count Primes\n",
    "Count the number of prime numbers less than a non-negative number, n.\n",
    "Example 1\n",
    "Input: n = 10\n",
    "Output: 4\n",
    "Explanation: There are 4 prime numbers less than 10, they are 2, 3, 5, 7.\n",
    "Example 2:\n",
    "Input: n = 0\n",
    "Output: 0\n",
    "Example 3:\n",
    "Input: n = 1\n",
    "Output: 0\n",
    "Constraints:\n",
    "0 <= n <= 5 * 106"
   ]
  },
  {
   "cell_type": "code",
   "execution_count": 18,
   "metadata": {},
   "outputs": [
    {
     "name": "stdout",
     "output_type": "stream",
     "text": [
      "[False, False, False, False, False, False, False, False, False, False]\n",
      "True\n",
      "True\n",
      "True\n",
      "True\n"
     ]
    },
    {
     "data": {
      "text/plain": [
       "4"
      ]
     },
     "execution_count": 18,
     "metadata": {},
     "output_type": "execute_result"
    }
   ],
   "source": [
    "def previous_prime(n):\n",
    "    if n ==0:\n",
    "        return 0\n",
    "    count = 0\n",
    "    #make a list of True = Prime or False= \n",
    "    notPrimes = [False] * n\n",
    "    print(notPrimes)\n",
    "    for i in range(2, n):\n",
    "        if(notPrimes[i]):\n",
    "            print(notPrimes[i])\n",
    "            continue\n",
    "        count += 1\n",
    "        for j in range(i*i, n, i):\n",
    "            notPrimes[j] = True\n",
    "    return count\n",
    "\n",
    "previous_prime(10)"
   ]
  },
  {
   "cell_type": "code",
   "execution_count": 1,
   "metadata": {},
   "outputs": [],
   "source": [
    "import numpy as np"
   ]
  },
  {
   "cell_type": "code",
   "execution_count": 16,
   "metadata": {},
   "outputs": [
    {
     "name": "stdout",
     "output_type": "stream",
     "text": [
      "[ 2  3  5  7 11 13 17 19]\n"
     ]
    }
   ],
   "source": [
    "def previous_prime(n):\n",
    "    j = np.arange(1,n)\n",
    "    for i in range(2,11):\n",
    "        j[(j != i) & (j %i == 0)] = 0\n",
    "    final = j[(j != 0) & (j!=1)]\n",
    "    print(final)\n",
    "    j[(j = n)\n",
    "    \n",
    "previous_prime(20)"
   ]
  },
  {
   "cell_type": "code",
   "execution_count": null,
   "metadata": {},
   "outputs": [],
   "source": []
  }
 ],
 "metadata": {
  "kernelspec": {
   "display_name": "Python 3",
   "language": "python",
   "name": "python3"
  },
  "language_info": {
   "codemirror_mode": {
    "name": "ipython",
    "version": 3
   },
   "file_extension": ".py",
   "mimetype": "text/x-python",
   "name": "python",
   "nbconvert_exporter": "python",
   "pygments_lexer": "ipython3",
   "version": "3.8.3"
  }
 },
 "nbformat": 4,
 "nbformat_minor": 4
}
