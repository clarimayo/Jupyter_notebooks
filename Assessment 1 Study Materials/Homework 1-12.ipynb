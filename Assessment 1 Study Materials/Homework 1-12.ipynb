{
 "cells": [
  {
   "cell_type": "markdown",
   "metadata": {},
   "source": [
    "<div style=\"background: #000;\n",
    "            color: #FFF;\n",
    "            margin: 0px;\n",
    "                padding: 10px 0px 20px 0px;\n",
    "            text-align: center; \n",
    "                \">\n",
    "    <h1>Week 02</h1>\n",
    "</div>"
   ]
  },
  {
   "cell_type": "markdown",
   "metadata": {},
   "source": [
    "# Exercise #1\n",
    "\n",
    "### Given the following variable `money_moves`"
   ]
  },
  {
   "cell_type": "code",
   "execution_count": 3,
   "metadata": {},
   "outputs": [],
   "source": [
    "money_moves = [\"fur coats\",\"money fans\",\"Diamonds\",\"MoNeY FaNs\",\"FUR COATS\",\"barrels of gold\"]"
   ]
  },
  {
   "cell_type": "markdown",
   "metadata": {},
   "source": [
    "### a. Print the list of unique elements. Then output the length."
   ]
  },
  {
   "cell_type": "code",
   "execution_count": 4,
   "metadata": {},
   "outputs": [
    {
     "name": "stdout",
     "output_type": "stream",
     "text": [
      "{'fur coats', 'MoNeY FaNs', 'barrels of gold', 'money fans', 'Diamonds', 'FUR COATS'}\n"
     ]
    },
    {
     "data": {
      "text/plain": [
       "6"
      ]
     },
     "execution_count": 4,
     "metadata": {},
     "output_type": "execute_result"
    }
   ],
   "source": [
    "# place code here\n",
    "unique_elements = set(money_moves)\n",
    "print(unique_elements)\n",
    "len(unique_elements)"
   ]
  },
  {
   "cell_type": "markdown",
   "metadata": {},
   "source": [
    "### d. Create a new list, append odd number items from the original list`money_moves` and output the new list"
   ]
  },
  {
   "cell_type": "code",
   "execution_count": 5,
   "metadata": {},
   "outputs": [],
   "source": [
    "money_moves = [\"fur coats\",\"money fans\",\"Diamonds\",\"MoNeY FaNs\",\"FUR COATS\",\"barrels of gold\"]"
   ]
  },
  {
   "cell_type": "code",
   "execution_count": 6,
   "metadata": {},
   "outputs": [],
   "source": [
    "dictionary = {}"
   ]
  },
  {
   "cell_type": "code",
   "execution_count": 8,
   "metadata": {},
   "outputs": [
    {
     "name": "stdout",
     "output_type": "stream",
     "text": [
      "{'0': 'fur coats', '1': 'money fans', '2': 'Diamonds', '3': 'MoNeY FaNs', '4': 'FUR COATS', '5': 'barrels of gold'}\n"
     ]
    }
   ],
   "source": [
    "dictionary['0'] = money_moves[0]\n",
    "dictionary['1'] = money_moves[1]\n",
    "dictionary['2'] = money_moves[2]\n",
    "dictionary['3'] = money_moves[3]\n",
    "dictionary['4'] = money_moves[4]\n",
    "dictionary['5'] = money_moves[5]\n",
    "print(dictionary)"
   ]
  },
  {
   "cell_type": "code",
   "execution_count": 9,
   "metadata": {},
   "outputs": [
    {
     "data": {
      "text/plain": [
       "'hello'"
      ]
     },
     "execution_count": 9,
     "metadata": {},
     "output_type": "execute_result"
    }
   ],
   "source": [
    "s = [\"h\", \"e\", \"l\", \"l\", \"o\"]\n",
    "\"\".join(s)"
   ]
  },
  {
   "cell_type": "code",
   "execution_count": 10,
   "metadata": {},
   "outputs": [
    {
     "name": "stdout",
     "output_type": "stream",
     "text": [
      "hello\n",
      "\n"
     ]
    }
   ],
   "source": [
    "class Example:\n",
    "    def __init__(self, val):\n",
    "        self.a = val and print(\"hello\")\n",
    "    def say_hi(self):\n",
    "        print(\"hello\") if self.a == \"fixed\" else print(\"\")\n",
    "    def hello(self):\n",
    "        return \"olleh\".reverse()\n",
    "        \n",
    "e = Example(\"fixed\")\n",
    "e.say_hi()"
   ]
  },
  {
   "cell_type": "markdown",
   "metadata": {},
   "source": [
    "<div style=\"background: #000;\n",
    "            color: #FFF;\n",
    "            margin: 0px;\n",
    "                padding: 10px 0px 20px 0px;\n",
    "            text-align: center; \n",
    "                \">\n",
    "    <h1>Week 03</h1>\n",
    "</div>"
   ]
  },
  {
   "cell_type": "markdown",
   "metadata": {},
   "source": [
    "# Exercise 1\n",
    "\n",
    "Write a for loop that sums the values of the following list and appends the different values to the correct list.\n",
    "\n",
    "Remember what we learned about the value of an `int` and `str`.\n",
    "\n",
    "Hint: try one part before the other."
   ]
  },
  {
   "cell_type": "code",
   "execution_count": 11,
   "metadata": {},
   "outputs": [
    {
     "name": "stdout",
     "output_type": "stream",
     "text": [
      "list_vals is correct\n"
     ]
    }
   ],
   "source": [
    "# list to sum\n",
    "list_vals = [82,True,'d',False,'v',7301,False,1,True,'x','F','w','Q','f',True]\n",
    "import hashlib;print(\"list_vals is correct\" if hashlib.md5(str(list_vals).encode()).hexdigest() == '867f5d64395c44f016668cc442fb650c' else \"list_vals is incorrect\")"
   ]
  },
  {
   "cell_type": "code",
   "execution_count": 12,
   "metadata": {},
   "outputs": [
    {
     "name": "stdout",
     "output_type": "stream",
     "text": [
      "8097\n",
      "[True, False, False, True, True]\n",
      "[82, 7301, 1]\n",
      "['d', 'v', 'x', 'F', 'w', 'Q', 'f']\n"
     ]
    }
   ],
   "source": [
    "list_for_bools = []\n",
    "list_for_ints = []\n",
    "list_for_chars = []\n",
    "sum_of_all = 0\n",
    "\n",
    "for value in list_vals:\n",
    "    if type(value) == int:\n",
    "        sum_of_all += value\n",
    "        list_for_ints.append(value)\n",
    "    elif type(value) == str:\n",
    "        sum_of_all += ord(value)\n",
    "        list_for_chars.append(value)\n",
    "    elif type(value) == bool:\n",
    "        sum_of_all += value\n",
    "        list_for_bools.append(value)\n",
    "    \n",
    "\n",
    "\n",
    "# use the following to output your results:\n",
    "print(sum_of_all)\n",
    "print(list_for_bools)\n",
    "print(list_for_ints)\n",
    "print(list_for_chars)"
   ]
  },
  {
   "cell_type": "markdown",
   "metadata": {},
   "source": [
    "# Exercise 2\n",
    "\n",
    "Given a tuple of strings. Find the following value `x` and print it. The loop should end when `x` is found"
   ]
  },
  {
   "cell_type": "code",
   "execution_count": 13,
   "metadata": {},
   "outputs": [],
   "source": [
    "x = '------'\n",
    "\n",
    "tuple_of_strings = ('steel', 'collect', 'capable', '------', 'shelter', 'language', 'mug', 'flowers')"
   ]
  },
  {
   "cell_type": "code",
   "execution_count": 14,
   "metadata": {},
   "outputs": [
    {
     "name": "stdout",
     "output_type": "stream",
     "text": [
      "steel\n",
      "collect\n",
      "capable\n",
      "------\n",
      "found x! Time to stop\n"
     ]
    }
   ],
   "source": [
    "# enter your code here:\n",
    "for string in tuple_of_strings:\n",
    "    print(string)\n",
    "    if string == x:\n",
    "        print(\"found x! Time to stop\")\n",
    "        break"
   ]
  },
  {
   "cell_type": "code",
   "execution_count": 15,
   "metadata": {},
   "outputs": [
    {
     "name": "stdout",
     "output_type": "stream",
     "text": [
      "------\n"
     ]
    }
   ],
   "source": [
    "#finding something in a list using a while loop\n",
    "found = False\n",
    "i = 0\n",
    "while not found:\n",
    "    if tuple_of_strings[i] == x:\n",
    "        print(tuple_of_strings[i])\n",
    "        found = True\n",
    "    i+=1"
   ]
  },
  {
   "cell_type": "markdown",
   "metadata": {},
   "source": [
    "# Exercise 3\n",
    "\n",
    "Create a game in python. \n",
    "\n",
    "Rules:  \n",
    "    1. You have 3 tries to guess a secret number.   \n",
    "    2. Each try you are prompted to input a number.  \n",
    "    3. You get a success message if you guess correctly and stop looping, else you subtract a try and go again."
   ]
  },
  {
   "cell_type": "code",
   "execution_count": 16,
   "metadata": {},
   "outputs": [
    {
     "name": "stdout",
     "output_type": "stream",
     "text": [
      "3\n"
     ]
    }
   ],
   "source": [
    "##### use secret_number in your code but don't cheat\n",
    "import random\n",
    "secret_number = random.randint(0,3)\n",
    "print(secret_number)"
   ]
  },
  {
   "cell_type": "code",
   "execution_count": 17,
   "metadata": {},
   "outputs": [
    {
     "name": "stdout",
     "output_type": "stream",
     "text": [
      "guess the secret number between 0 and 3 :0\n",
      "you have  2  guesses left\n",
      "guess the secret number between 0 and 3 :2\n",
      "you have  1  guesses left\n",
      "guess the secret number between 0 and 3 :1\n",
      "you have  0  guesses left\n"
     ]
    }
   ],
   "source": [
    "number_of_tries = 3\n",
    "for i in range(number_of_tries):\n",
    "    number = int(input(\"guess the secret number between 0 and 3 :\"))\n",
    "    if secret_number == number:\n",
    "        print(\"Great job! You guessed correctly!\")\n",
    "        break\n",
    "    elif secret_number != number:\n",
    "        print(\"you have \", number_of_tries -1 , \" guesses left\")\n",
    "        number_of_tries -= 1\n",
    "        if number_of_tries == 0:\n",
    "            break"
   ]
  },
  {
   "cell_type": "code",
   "execution_count": 18,
   "metadata": {},
   "outputs": [
    {
     "name": "stdout",
     "output_type": "stream",
     "text": [
      "2\n",
      "enter a guess: 3\n",
      "3\n",
      "enter a guess: 2\n"
     ]
    },
    {
     "data": {
      "text/plain": [
       "'you win'"
      ]
     },
     "execution_count": 18,
     "metadata": {},
     "output_type": "execute_result"
    }
   ],
   "source": [
    "import random\n",
    "\n",
    "def game():\n",
    "    tries = 3\n",
    "    secret_number = random.randint(0,3)\n",
    "    print(secret_number)\n",
    "    while tries >0:\n",
    "        guess= int(input(\"enter a guess: \"))\n",
    "        if guess == secret_number:\n",
    "            return \"you win\"\n",
    "        print(tries)\n",
    "        tries -=1\n",
    "    return \"you lose\"\n",
    "        \n",
    "game()"
   ]
  },
  {
   "cell_type": "markdown",
   "metadata": {},
   "source": [
    "# Exercise 4\n",
    "\n",
    "a. \n",
    "Create a list comprehension that prints the following.\n",
    "```python\n",
    "[0, '*',2, '*', 4, '*', 6]\n",
    "\n",
    "```\n",
    "\n",
    "Hint: start from the most basic list comprehension  "
   ]
  },
  {
   "cell_type": "code",
   "execution_count": 20,
   "metadata": {},
   "outputs": [
    {
     "data": {
      "text/plain": [
       "[0, '*', 2, '*', 4, '*', 6]"
      ]
     },
     "execution_count": 20,
     "metadata": {},
     "output_type": "execute_result"
    }
   ],
   "source": [
    "#figuring out the list comprehension by writting it out. Using odd numbers.\n",
    "some_list_one = []\n",
    "for x in range(7):\n",
    "    if x % 2:\n",
    "        some_list_one.append('*')\n",
    "    else:\n",
    "        some_list_one.append(x)\n",
    "some_list_one"
   ]
  },
  {
   "cell_type": "code",
   "execution_count": 21,
   "metadata": {},
   "outputs": [
    {
     "name": "stdout",
     "output_type": "stream",
     "text": [
      "[0, '*', 2, '*', 4, '*', 6]\n"
     ]
    }
   ],
   "source": [
    "#Transforming the solution from above into a list comprehension. Answer #1\n",
    "first_list_comp = ['*' if x % 2 else x for x in range(7)]\n",
    "print(first_list_comp)"
   ]
  },
  {
   "cell_type": "code",
   "execution_count": 22,
   "metadata": {},
   "outputs": [
    {
     "data": {
      "text/plain": [
       "[0, '*', 2, '*', 4, '*', 6]"
      ]
     },
     "execution_count": 22,
     "metadata": {},
     "output_type": "execute_result"
    }
   ],
   "source": [
    "#figuring out the list comprehension by writting it out. Using even numbers.\n",
    "some_list = []\n",
    "for x in range(7):\n",
    "    if not x % 2:   # or we can use if (x+1) % 2:\n",
    "        some_list.append(x)\n",
    "    else:\n",
    "        some_list.append('*')\n",
    "some_list"
   ]
  },
  {
   "cell_type": "code",
   "execution_count": 23,
   "metadata": {},
   "outputs": [
    {
     "data": {
      "text/plain": [
       "[0, '*', 2, '*', 4, '*', 6]"
      ]
     },
     "execution_count": 23,
     "metadata": {},
     "output_type": "execute_result"
    }
   ],
   "source": [
    "#Transforming the solution from above into a list comprehension. Answer #2\n",
    "new_list = [x if not x % 2 else '*' for x in range(7)]\n",
    "new_list"
   ]
  },
  {
   "cell_type": "markdown",
   "metadata": {},
   "source": [
    "b. Create a dict comprehension that prints the following:\n",
    "```python\n",
    "{'a': ['*', '*'], 'b': ['*', '*'],}\n",
    "\n",
    "```"
   ]
  },
  {
   "cell_type": "code",
   "execution_count": 25,
   "metadata": {},
   "outputs": [
    {
     "data": {
      "text/plain": [
       "{'a': ['*', '*'], 'b': ['*', '*']}"
      ]
     },
     "execution_count": 25,
     "metadata": {},
     "output_type": "execute_result"
    }
   ],
   "source": [
    "#figuring out the list comprehension by writting it out.\n",
    "l = ['a', 'b']\n",
    "s = '*'\n",
    "\n",
    "dict_ = {}\n",
    "for elem in l:\n",
    "    array = []\n",
    "    for _ in range(2):\n",
    "        array.append(s)    \n",
    "    dict_[elem] = array   \n",
    "dict_"
   ]
  },
  {
   "cell_type": "code",
   "execution_count": 26,
   "metadata": {},
   "outputs": [
    {
     "data": {
      "text/plain": [
       "{'a': ['*', '*'], 'b': ['*', '*']}"
      ]
     },
     "execution_count": 26,
     "metadata": {},
     "output_type": "execute_result"
    }
   ],
   "source": [
    "# For each element in `l` i want the element `s` twice.\n",
    "new_dict = {elem: [s] * 2 for elem in l}    # [s] * 2 is also equal to [s for _ in range(2)]\n",
    "new_dict"
   ]
  },
  {
   "cell_type": "code",
   "execution_count": 27,
   "metadata": {},
   "outputs": [],
   "source": [
    "new_dict = {elem: [s] * 2 for elem in l} \n",
    "l = ['a', 'b']\n",
    "s = '*'"
   ]
  },
  {
   "cell_type": "markdown",
   "metadata": {},
   "source": [
    "<div style=\"background: #000;\n",
    "            color: #FFF;\n",
    "            margin: 0px;\n",
    "                padding: 10px 0px 20px 0px;\n",
    "            text-align: center; \n",
    "                \">\n",
    "    <h1>Week 04</h1>\n",
    "</div>"
   ]
  },
  {
   "cell_type": "markdown",
   "metadata": {},
   "source": [
    "# Exercise 1\n",
    "\n",
    "Create a function that takes both postional arguments and a keyword arguments. "
   ]
  },
  {
   "cell_type": "code",
   "execution_count": 28,
   "metadata": {},
   "outputs": [
    {
     "name": "stdout",
     "output_type": "stream",
     "text": [
      "silvia 56\n",
      "joseph 7\n",
      "hector 45\n"
     ]
    }
   ],
   "source": [
    "def multi_purpose_func(age, name=\"hector\"):\n",
    "    print(f\"{name} {age}\")\n",
    "    \n",
    "\n",
    "multi_purpose_func(56, \"silvia\") #This uses positional parameters\n",
    "multi_purpose_func(name=\"joseph\", age=7) #This uses keyword arguments\n",
    "multi_purpose_func(45) #This uses default value for name"
   ]
  },
  {
   "cell_type": "markdown",
   "metadata": {},
   "source": [
    "# Exercise 2\n",
    "\n",
    "Fix the following function so that it takes an arbitrary number of arguments. Demonstrate this function works by unpacking `lst` into the function as 11 arguements."
   ]
  },
  {
   "cell_type": "code",
   "execution_count": 29,
   "metadata": {},
   "outputs": [
    {
     "data": {
      "text/plain": [
       "['1', '2', '3', '4', '5', '6', '7', '8', '9', '10']"
      ]
     },
     "execution_count": 29,
     "metadata": {},
     "output_type": "execute_result"
    }
   ],
   "source": [
    "#original function and list\n",
    "lst = [1,2,3,4,5,6,7,8,9,10]\n",
    "\n",
    "def values_to_string(lst):\n",
    "    new_list = []\n",
    "    for i in lst:\n",
    "        new_list.append(str(i))\n",
    "    return new_list\n",
    "\n",
    "values_to_string(lst)"
   ]
  },
  {
   "cell_type": "code",
   "execution_count": 30,
   "metadata": {},
   "outputs": [
    {
     "name": "stdout",
     "output_type": "stream",
     "text": [
      "['1', '2', '3', '4', '5', '6', '7', '8', '9', '10', '11']\n",
      "['1', '2', '3', '4', '5', 'a', '4.5', 'True']\n"
     ]
    }
   ],
   "source": [
    "lst = [1,2,3,4,5,6,7,8,9,10]\n",
    "\n",
    "def values_to_string(*lst): #* means multiple positional arguments\n",
    "    new_list = []\n",
    "    for i in lst:\n",
    "        new_list.append(str(i))\n",
    "    return new_list\n",
    "\n",
    "print(values_to_string(*lst,11)) #* unpacking lst\n",
    "print(values_to_string(1,2,3,4,5,'a',4.5, True))"
   ]
  },
  {
   "cell_type": "markdown",
   "metadata": {},
   "source": [
    "# Exercise 3\n",
    "\n",
    "Write a function that has an algorithm that is worst case 0(n)."
   ]
  },
  {
   "cell_type": "code",
   "execution_count": 31,
   "metadata": {},
   "outputs": [
    {
     "name": "stdout",
     "output_type": "stream",
     "text": [
      "the best case scenario is \n",
      "2\n",
      "the worst case scenario is \n",
      "3\n",
      "2\n",
      "1\n",
      "2\n",
      "3\n",
      "4\n"
     ]
    }
   ],
   "source": [
    "best_case_num = [2,1,2,3,4]\n",
    "worst_case_num = [3,2,1,2,3,4]\n",
    "\n",
    "def numbers_(numbers):\n",
    "    if numbers[0] % 2 == 0:\n",
    "        return numbers[0]\n",
    "    else:\n",
    "        for i in numbers:\n",
    "            print(i)\n",
    "print(\"the best case scenario is \")\n",
    "print(numbers_(best_case_num))\n",
    "print(\"the worst case scenario is \")\n",
    "numbers_(worst_case_num)  "
   ]
  },
  {
   "cell_type": "markdown",
   "metadata": {},
   "source": [
    "# Exercise 4\n",
    "\n",
    "Write a function called `summer` that takes an arbitrary number of keyword arguments and then adds any arguments that are ints/floats to produce a sum.\n",
    "\n",
    "Hint:  \n",
    "`summer(**{a=True, b=1})` would return 1.   \n",
    "`summer(**{c=3, d=\"4\" })` would return 3."
   ]
  },
  {
   "cell_type": "code",
   "execution_count": 32,
   "metadata": {},
   "outputs": [
    {
     "name": "stdout",
     "output_type": "stream",
     "text": [
      "1\n"
     ]
    },
    {
     "data": {
      "text/plain": [
       "3"
      ]
     },
     "execution_count": 32,
     "metadata": {},
     "output_type": "execute_result"
    }
   ],
   "source": [
    "def summer(**kwargs):\n",
    "    sum_ = 0\n",
    "    for key,value in kwargs.items():\n",
    "        if type(value) is int or type(value) is float:\n",
    "            sum_ += value\n",
    "    return sum_\n",
    "                  \n",
    "print(summer(a=True, b=1))\n",
    "summer(c=3, d='4')"
   ]
  },
  {
   "cell_type": "markdown",
   "metadata": {},
   "source": [
    "# Bonus\n",
    "\n",
    "Create a function that returns a lambda function. Show how it can be used to create new functions. Can you turn this into a decorator?\n",
    "\n",
    "Hint: see example from `week-04-class-02.ipynb` with the `mytripler` function"
   ]
  },
  {
   "cell_type": "code",
   "execution_count": 42,
   "metadata": {},
   "outputs": [
    {
     "name": "stdout",
     "output_type": "stream",
     "text": [
      "This is beginning of the function\n",
      "50\n",
      "This is end of the function\n"
     ]
    }
   ],
   "source": [
    "def new_func(func):\n",
    "    def wrapper(x, num):\n",
    "        print(\"This is beginning of the function\")\n",
    "        y = func(x, num)\n",
    "        print(y(x))\n",
    "        print(\"This is end of the function\")\n",
    "    return wrapper\n",
    "\n",
    "@new_func\n",
    "def third_func(x,num):\n",
    "    return lambda x: x * num\n",
    "\n",
    "third_func(5, 10)"
   ]
  },
  {
   "cell_type": "code",
   "execution_count": 34,
   "metadata": {},
   "outputs": [
    {
     "name": "stdout",
     "output_type": "stream",
     "text": [
      "*** This is beginning of the function\n",
      "20\n",
      "*** This is end of the function\n"
     ]
    }
   ],
   "source": [
    "#Making a second decorator that takes multiple arguments\n",
    "def new_func_2(lambda_): \n",
    "    def wrapper(*k):\n",
    "        print(\"*** This is beginning of the function\")\n",
    "        lambda_(*k)\n",
    "        print(\"*** This is end of the function\")              \n",
    "    return wrapper\n",
    "\n",
    "#storing wrapped function in a variable\n",
    "wrapped_new_func_2 = new_func_2(lambda x,num: print(x * num))\n",
    "wrapped_new_func_2(2,10)"
   ]
  },
  {
   "cell_type": "code",
   "execution_count": 6,
   "metadata": {},
   "outputs": [
    {
     "name": "stdout",
     "output_type": "stream",
     "text": [
      "*** This is beginning of the function\n",
      "60\n",
      "*** This is end of the function\n"
     ]
    }
   ],
   "source": [
    "#Creating lambda functions and storing them in variables so I can use it in my decorator\n",
    "lamb = lambda x: print(x)\n",
    "\n",
    "#Making a decorator function that will take the lambda function and then tranform the function that gets passed on it\n",
    "def new_func(lambda_): \n",
    "    def wrapper(x):\n",
    "        print(\"*** This is beginning of the function\")\n",
    "        lambda_(x)\n",
    "        print(\"*** This is end of the function\")              \n",
    "    return wrapper\n",
    "\n",
    "wrapped_new_func = new_func(lamb)\n",
    "wrapped_new_func(60)"
   ]
  },
  {
   "cell_type": "code",
   "execution_count": 5,
   "metadata": {},
   "outputs": [
    {
     "name": "stdout",
     "output_type": "stream",
     "text": [
      "*** This is beginning of the function\n"
     ]
    },
    {
     "ename": "TypeError",
     "evalue": "third_func() argument after * must be an iterable, not int",
     "output_type": "error",
     "traceback": [
      "\u001b[0;31m---------------------------------------------------------------------------\u001b[0m",
      "\u001b[0;31mTypeError\u001b[0m                                 Traceback (most recent call last)",
      "\u001b[0;32m<ipython-input-5-04510356b988>\u001b[0m in \u001b[0;36m<module>\u001b[0;34m\u001b[0m\n\u001b[1;32m     11\u001b[0m     \u001b[0;32mreturn\u001b[0m \u001b[0;32mlambda\u001b[0m \u001b[0mx\u001b[0m\u001b[0;34m:\u001b[0m \u001b[0mx\u001b[0m \u001b[0;34m*\u001b[0m\u001b[0mnum\u001b[0m\u001b[0;34m\u001b[0m\u001b[0;34m\u001b[0m\u001b[0m\n\u001b[1;32m     12\u001b[0m \u001b[0;34m\u001b[0m\u001b[0m\n\u001b[0;32m---> 13\u001b[0;31m \u001b[0mprint\u001b[0m\u001b[0;34m(\u001b[0m\u001b[0mthird_func\u001b[0m\u001b[0;34m(\u001b[0m\u001b[0;36m5\u001b[0m\u001b[0;34m)\u001b[0m\u001b[0;34m)\u001b[0m\u001b[0;34m\u001b[0m\u001b[0;34m\u001b[0m\u001b[0m\n\u001b[0m",
      "\u001b[0;32m<ipython-input-5-04510356b988>\u001b[0m in \u001b[0;36mwrapper\u001b[0;34m(x)\u001b[0m\n\u001b[1;32m      3\u001b[0m     \u001b[0;32mdef\u001b[0m \u001b[0mwrapper\u001b[0m\u001b[0;34m(\u001b[0m\u001b[0mx\u001b[0m\u001b[0;34m)\u001b[0m\u001b[0;34m:\u001b[0m\u001b[0;34m\u001b[0m\u001b[0;34m\u001b[0m\u001b[0m\n\u001b[1;32m      4\u001b[0m         \u001b[0mprint\u001b[0m\u001b[0;34m(\u001b[0m\u001b[0;34m\"*** This is beginning of the function\"\u001b[0m\u001b[0;34m)\u001b[0m\u001b[0;34m\u001b[0m\u001b[0;34m\u001b[0m\u001b[0m\n\u001b[0;32m----> 5\u001b[0;31m         \u001b[0mlambda_\u001b[0m\u001b[0;34m(\u001b[0m\u001b[0;34m*\u001b[0m\u001b[0mx\u001b[0m\u001b[0;34m)\u001b[0m\u001b[0;34m\u001b[0m\u001b[0;34m\u001b[0m\u001b[0m\n\u001b[0m\u001b[1;32m      6\u001b[0m         \u001b[0mprint\u001b[0m\u001b[0;34m(\u001b[0m\u001b[0;34m\"*** This is end of the function\"\u001b[0m\u001b[0;34m)\u001b[0m\u001b[0;34m\u001b[0m\u001b[0;34m\u001b[0m\u001b[0m\n\u001b[1;32m      7\u001b[0m     \u001b[0;32mreturn\u001b[0m \u001b[0mwrapper\u001b[0m\u001b[0;34m\u001b[0m\u001b[0;34m\u001b[0m\u001b[0m\n",
      "\u001b[0;31mTypeError\u001b[0m: third_func() argument after * must be an iterable, not int"
     ]
    }
   ],
   "source": [
    "#Making a decorator function that will take the lambda function and then tranform the function that gets passed on it\n",
    "def new_func(lambda_): \n",
    "    def wrapper(x):\n",
    "        print(\"*** This is beginning of the function\")\n",
    "        lambda_(*x)\n",
    "        print(\"*** This is end of the function\")              \n",
    "    return wrapper\n",
    "\n",
    "@new_func\n",
    "def third_func(x,num):\n",
    "    return lambda x: x * num\n",
    "    \n",
    "print(third_func(5))"
   ]
  },
  {
   "cell_type": "code",
   "execution_count": null,
   "metadata": {},
   "outputs": [],
   "source": [
    "#tring to make it cleaner but I couldn't accomplish that.\n",
    "#I will revisit this problem after some more practice\n",
    "def new_func(lambda_): \n",
    "    def wrapper(*x):\n",
    "        print(\"*** This is beginning of the function\")\n",
    "        lambda_(x)\n",
    "        print(\"*** This is end of the function\")              \n",
    "    return wrapper\n",
    "\n",
    "\n",
    "@new_func\n",
    "lamb = lambda x: print(x)\n",
    "\n",
    "lamb(5)"
   ]
  },
  {
   "cell_type": "markdown",
   "metadata": {},
   "source": [
    "<div style=\"background: #000;\n",
    "            color: #FFF;\n",
    "            margin: 0px;\n",
    "                padding: 10px 0px 20px 0px;\n",
    "            text-align: center; \n",
    "                \">\n",
    "    <h1>Week 05</h1>\n",
    "</div>"
   ]
  },
  {
   "cell_type": "markdown",
   "metadata": {},
   "source": [
    "# Exercise 1\n",
    "\n",
    "Create a function that calculates the double factorial of an odd number. The double factorial of `n` is denoted by `n!!` and is the product of all odd integers up to and including `n`. You can do it using recursion (for bonus points) or any other method you can come up with.\n",
    "\n",
    "e.g. \n",
    "\n",
    "```\n",
    "9!! = 1 x 3 x 5 x 7 x 9 = 945\n",
    "```\n",
    "\n",
    "Output the following once your function works.\n",
    "\n",
    "`double_factorial(13)"
   ]
  },
  {
   "cell_type": "code",
   "execution_count": 38,
   "metadata": {},
   "outputs": [
    {
     "name": "stdout",
     "output_type": "stream",
     "text": [
      "input: 0, output: 1 \n",
      "\n",
      "12 is not an odd number.\n",
      "input: 12, output: None \n",
      "\n",
      "input: 9, output: 945 \n",
      "\n",
      "input: -1, output: 1 \n",
      "\n",
      "4.0 is not an odd number.\n",
      "input: 4.0, output: None \n",
      "\n"
     ]
    }
   ],
   "source": [
    "def double_factorial(n=13):\n",
    "    if n <= 0:            \n",
    "        return 1\n",
    "    elif n % 2 == 1:\n",
    "        return n * double_factorial(n-2)\n",
    "    else:\n",
    "        print(f\"{n} is not an odd number.\")\n",
    "            \n",
    "#testing different values for n            \n",
    "input_number = [0,12,9,-1,4.0]\n",
    "for n in input_number:\n",
    "    print(f\"input: {n}, output: {double_factorial(n)} \\n\")"
   ]
  },
  {
   "cell_type": "code",
   "execution_count": 39,
   "metadata": {},
   "outputs": [
    {
     "name": "stdout",
     "output_type": "stream",
     "text": [
      "135135\n"
     ]
    },
    {
     "data": {
      "text/plain": [
       "135135"
      ]
     },
     "execution_count": 39,
     "metadata": {},
     "output_type": "execute_result"
    }
   ],
   "source": [
    "#To make sure we still multiple the odds in an even input\n",
    "def double_factorial_2(n=13):\n",
    "    if (n == 1) or (n ==0):           \n",
    "        return 1\n",
    "    elif n % 2 == 0:\n",
    "        return 1 * double_factorial_2(n-1)\n",
    "    else:\n",
    "        return n * double_factorial_2(n-2)\n",
    "\n",
    "print(double_factorial_2(13))\n",
    "double_factorial_2(14)"
   ]
  },
  {
   "cell_type": "markdown",
   "metadata": {},
   "source": [
    "# Exercise 2\n",
    "\n",
    "Create the decorator function(s) that wraps the `hello` function in the following html tags.\n",
    "\n",
    "hello() -> `<div><p><b>hello</b></p></div>`"
   ]
  },
  {
   "cell_type": "code",
   "execution_count": 40,
   "metadata": {},
   "outputs": [
    {
     "name": "stdout",
     "output_type": "stream",
     "text": [
      "<div><p><b>hello</b></p></div>\n"
     ]
    }
   ],
   "source": [
    "def tagger(tag1,tag2,tag3):\n",
    "    def decorator_function(func):\n",
    "        def wrapper():\n",
    "            print(f\"<{tag1}><{tag2}><{tag3}>{func()}</{tag3}></{tag2}></{tag1}>\")\n",
    "        return wrapper\n",
    "    return decorator_function\n",
    "    \n",
    "@tagger(tag1='div',tag2='p',tag3='b')\n",
    "def hello():\n",
    "    return \"hello\"\n",
    "\n",
    "hello()"
   ]
  },
  {
   "cell_type": "code",
   "execution_count": 41,
   "metadata": {},
   "outputs": [
    {
     "data": {
      "text/plain": [
       "'<div><b><p>hello</p></b></div>'"
      ]
     },
     "execution_count": 41,
     "metadata": {},
     "output_type": "execute_result"
    }
   ],
   "source": [
    "def tagger(tag):\n",
    "    def decorator_function(func):\n",
    "        def wrapper():\n",
    "            return f\"<{tag}>{func()}</{tag}>\"\n",
    "        return wrapper\n",
    "    return decorator_function\n",
    "@tagger('div')\n",
    "@tagger('b')\n",
    "@tagger('p')\n",
    "def hello():\n",
    "    return \"hello\"\n",
    "hello()"
   ]
  },
  {
   "cell_type": "markdown",
   "metadata": {},
   "source": [
    "# Exercise 3\n",
    "\n",
    "If we list all the natural numbers below 10 that are multiples of 3 or 5, we get 3, 5, 6 and 9. The sum of these multiples is 23.\n",
    "\n",
    "Create a function that returns the sum of all the multiples of 3 or 5 below `n` where `n` is the inputted number.\n",
    "\n",
    "e.g. \n",
    "\n",
    "```\n",
    "n=10 -> 23\n",
    "n=25 -> 143\n",
    "n=50 -> 543\n",
    "n=100 -> 2318\n",
    "```"
   ]
  },
  {
   "cell_type": "code",
   "execution_count": 42,
   "metadata": {},
   "outputs": [
    {
     "name": "stdout",
     "output_type": "stream",
     "text": [
      "input: 10, output: 23 \n",
      "\n",
      "input: 25, output: 143 \n",
      "\n",
      "input: 50, output: 543 \n",
      "\n",
      "input: 100, output: 2318 \n",
      "\n",
      "input: 3, output: 0 \n",
      "\n",
      "input: 5, output: 3 \n",
      "\n",
      "input: 0, output: 0 \n",
      "\n",
      "input: -1, output: 0 \n",
      "\n"
     ]
    }
   ],
   "source": [
    "def sum_of_threes_and_fives(n=100):\n",
    "    summation = 0\n",
    "    for num in range(n):\n",
    "        if num % 3==0 or num % 5==0:\n",
    "            summation += num\n",
    "    return summation\n",
    "\n",
    "input_number = [10,25,50,100,3,5,0,-1]\n",
    "for n in input_number:\n",
    "    print(f\"input: {n}, output: {sum_of_threes_and_fives(n)} \\n\")"
   ]
  },
  {
   "cell_type": "markdown",
   "metadata": {},
   "source": [
    "<div style=\"background: #000;\n",
    "            color: #FFF;\n",
    "            margin: 0px;\n",
    "                padding: 10px 0px 20px 0px;\n",
    "            text-align: center; \n",
    "                \">\n",
    "    <h1>Week 06</h1>\n",
    "</div>"
   ]
  },
  {
   "cell_type": "markdown",
   "metadata": {},
   "source": [
    "# Exercise 1\n",
    "\n",
    "Create a class called `Course` and a class called `Student` based on what you think they will need. Create a way to store 20 \"students\" (instances of the `Student` class into an instance of `Course` to represent our Data Science course. \n",
    "\n",
    "Demonstrate that your code works. Message on slack if stuck or need clarification."
   ]
  },
  {
   "cell_type": "code",
   "execution_count": 45,
   "metadata": {},
   "outputs": [
    {
     "data": {
      "text/plain": [
       "[(first name: Amy,last name: Rosa, hw grade: 100),\n",
       " (first name: Anna,last name: Levy, hw grade: 100),\n",
       " (first name: Bryant,last name: Novas, hw grade: 100),\n",
       " (first name: Chioma,last name: Dunkley, hw grade: 100),\n",
       " (first name: Clariza,last name: Mayo, hw grade: 100),\n",
       " (first name: Claudia,last name: De Los Santos, hw grade: 100),\n",
       " (first name: Elston,last name: Bell, hw grade: 100),\n",
       " (first name: Fausto,last name: Rosado, hw grade: 100),\n",
       " (first name: Gyasi,last name: Sturgis, hw grade: 100),\n",
       " (first name: Irene,last name: Merette, hw grade: 100),\n",
       " (first name: Janet,last name: Perez, hw grade: 100),\n",
       " (first name: Jessica,last name: D., hw grade: 100),\n",
       " (first name: Ishraq,last name: Khan, hw grade: 100),\n",
       " (first name: Juan,last name: Peralta, hw grade: 100),\n",
       " (first name: Judi,last name: Desire, hw grade: 100),\n",
       " (first name: Kari,last name: Sakib, hw grade: 100),\n",
       " (first name: Luis,last name: Alejo, hw grade: 100),\n",
       " (first name: Michael,last name: Alford, hw grade: 100),\n",
       " (first name: Rakhshanda,last name: Mirza, hw grade: 100),\n",
       " (first name: Stanislava,last name: Hristova, hw grade: 100)]"
      ]
     },
     "execution_count": 45,
     "metadata": {},
     "output_type": "execute_result"
    }
   ],
   "source": [
    "class Course:\n",
    "    def __init__(self,subject,professor,room_number, students = []):\n",
    "        self.subject = subject\n",
    "        self.professor = professor\n",
    "        self.students = students\n",
    "        self.room_number = room_number\n",
    "        \n",
    "    def add_student(self,student):\n",
    "        self.students.append(student)\n",
    "        \n",
    "    def get_students(self):\n",
    "        return self.students\n",
    "           \n",
    "class Student:\n",
    "    def __init__(self,first_name, last_name, hw_grade):\n",
    "        self.first_name = first_name\n",
    "        self.last_name = last_name\n",
    "        self.hw_grade = hw_grade\n",
    "    \n",
    "    def __str__(self):\n",
    "        return f\"(first name: {self.first_name},last name: {self.last_name}, hw grade: {self.hw_grade})\"\n",
    "    \n",
    "    def __repr__(self):\n",
    "        return self.__str__()\n",
    "\n",
    "students = [[\"Amy\",\"Rosa\", 100],\n",
    "            [\"Anna\",\"Levy\", 100],\n",
    "            [\"Bryant\",\"Novas\", 100],\n",
    "            [\"Chioma\",\"Dunkley\", 100],\n",
    "            [\"Clariza\", \"Mayo\", 100],\n",
    "            [\"Claudia\", \"De Los Santos\", 100],\n",
    "            [\"Elston\", \"Bell\", 100],\n",
    "            [\"Fausto\",\"Rosado\", 100],\n",
    "            [\"Gyasi\",\"Sturgis\", 100],\n",
    "            [\"Irene\",\"Merette\", 100],\n",
    "            [\"Janet\",\"Perez\", 100],\n",
    "            [\"Jessica\",\"D.\", 100],\n",
    "            [\"Ishraq\",\"Khan\", 100],\n",
    "            [\"Juan\",\"Peralta\", 100],\n",
    "            [\"Judi\",\"Desire\", 100],\n",
    "            [\"Kari\",\"Sakib\", 100],\n",
    "            [\"Luis\",\"Alejo\", 100],\n",
    "            [\"Michael\",\"Alford\", 100],\n",
    "            [\"Rakhshanda\",\"Mirza\", 100],\n",
    "            [\"Stanislava\",\"Hristova\", 100]]\n",
    "students_array = []\n",
    "for student in students:\n",
    "    students_array.append(Student(*student)) \n",
    "\n",
    "new_course = Course(\"Data Science\", \"Anil\", \"Online\", students_array)\n",
    "new_course.get_students()"
   ]
  },
  {
   "cell_type": "markdown",
   "metadata": {},
   "source": [
    "# Exercise 2\n",
    "\n",
    "Create a class called `SafeFloat` that stores an attribute called `num` as an instance attribute set during initialization and sets `num_as_float` based on `num`\n",
    "\n",
    "Include the following three methods:\n",
    "\n",
    "`to_float` - that converts `num` to a float and stores that an attribute `num_as_float`. If `num` cannot be converted, set `num_as_float` to `None`. Do on mutate the original `num`, we'd like to keep it.\n",
    "\n",
    "`check_type` - that returns `True` if `num_as_float` is a float. It should create `num_as_float` if it doesn't exist. \n",
    "\n",
    "and a method that overrides the addition operator so that when instances of `SafeFloat` are added, `num_as_float` is used to add. Return the sum of the two instances or return `None` if the two cannot be added.\n",
    "\n",
    "Demonstrate that this works for strings, ints, bools and floats."
   ]
  },
  {
   "cell_type": "code",
   "execution_count": 46,
   "metadata": {},
   "outputs": [
    {
     "name": "stdout",
     "output_type": "stream",
     "text": [
      "0.0\n",
      "0.0\n",
      "True\n",
      "True\n",
      "0.0\n",
      "\n",
      "\n",
      "1.4\n",
      "1.0\n",
      "True\n",
      "True\n",
      "2.4\n",
      "\n",
      "\n",
      "None\n",
      "None\n",
      "False\n",
      "False\n",
      "None\n",
      "\n",
      "\n",
      "1.5\n",
      "2.0\n",
      "True\n",
      "True\n",
      "3.5\n"
     ]
    }
   ],
   "source": [
    "class SafeFloat:\n",
    "    def __init__(self,num):\n",
    "        self.num = num\n",
    "        self.to_float()\n",
    "        \n",
    "    def to_float(self):\n",
    "        try: \n",
    "            self.num_as_float = float(self.num)\n",
    "        except:\n",
    "            self.num_as_float = None        \n",
    "    \n",
    "    def check_type(self):\n",
    "        if hasattr(SafeFloat,\"num_as_float\"):  #checking whether attribute is in the class hasattr(class, attribute)\n",
    "            self.num_as_float = self.num\n",
    "        if type(self.num_as_float) == float:\n",
    "            return True\n",
    "        else:\n",
    "            return False\n",
    "\n",
    "    def __add__(self,other):  #oevrloading the + operator\n",
    "        if self.check_type() == False:\n",
    "            return None\n",
    "        else:\n",
    "            return self.num_as_float + other.num_as_float\n",
    "                                   \n",
    "# test with ints, floats, bools and strings\n",
    "e = SafeFloat(0)\n",
    "f = SafeFloat(0)\n",
    "print(e.num_as_float)\n",
    "print(f.num_as_float)\n",
    "print(e.check_type())\n",
    "print(f.check_type())\n",
    "print(e + f)    # e.__add__(f)   e = self, f = other\n",
    "print(\"\\n\")\n",
    "a = SafeFloat(1.4)\n",
    "b = SafeFloat(True)\n",
    "print(a.num_as_float)\n",
    "print(b.num_as_float)\n",
    "print(a.check_type())\n",
    "print(b.check_type())\n",
    "print(a + b)\n",
    "print(\"\\n\")\n",
    "c = SafeFloat(\"str1\")\n",
    "d = SafeFloat(\"string2\")\n",
    "print(d.num_as_float)\n",
    "print(d.num_as_float)\n",
    "print(c.check_type())\n",
    "print(d.check_type())\n",
    "print(c + d)\n",
    "print(\"\\n\")\n",
    "g = SafeFloat(\"1.5\")\n",
    "h = SafeFloat(\"2\")\n",
    "print(g.num_as_float)\n",
    "print(h.num_as_float)\n",
    "print(g.check_type())\n",
    "print(h.check_type())\n",
    "g.num_as_float\n",
    "h.num_as_float\n",
    "print(g + h)"
   ]
  },
  {
   "cell_type": "markdown",
   "metadata": {},
   "source": [
    "# Exercise 3\n",
    "\n",
    "Create a base class `Shape` and two classes that inherits that base class called `Triangle` and `Rectangle`. Consider what those two share in common (height and width) and use that to create your base class `Shape`. Create a method for base class called `area` that returns `None` for the base class. Override that method for `Triangle` and `Rectangle` so instances of those two classes can calculate the correct area.\n",
    "\n",
    "Demonstrate that your code works."
   ]
  },
  {
   "cell_type": "code",
   "execution_count": 47,
   "metadata": {},
   "outputs": [
    {
     "name": "stdout",
     "output_type": "stream",
     "text": [
      "The area of the restangle is 27\n",
      "The area of the restangle is 91\n"
     ]
    }
   ],
   "source": [
    "class Shape:\n",
    "    def __init__(self,height, width):  \n",
    "        self.height = height         \n",
    "        self.width = width\n",
    "        \n",
    "    def area(self):\n",
    "        return None\n",
    "        \n",
    "class Triangle(Shape):\n",
    "    def area(self):\n",
    "        area = 0.5 * self.height * self.width\n",
    "        return area\n",
    "        \n",
    "class Rectangle(Shape):   \n",
    "    def area(self):\n",
    "        area = self.height * self.width\n",
    "        return area\n",
    "        \n",
    "new_triangle = Triangle(9,6)\n",
    "new_rectangle = Rectangle(7,13)\n",
    "\n",
    "print(\"The area of the restangle is %0.0f\" % new_triangle.area())\n",
    "print(\"The area of the restangle is %0.0f\" % new_rectangle.area())"
   ]
  },
  {
   "cell_type": "markdown",
   "metadata": {},
   "source": [
    "<div style=\"background: #000;\n",
    "            color: #FFF;\n",
    "            margin: 0px;\n",
    "                padding: 10px 0px 20px 0px;\n",
    "            text-align: center; \n",
    "                \">\n",
    "    <h1>Week 07</h1>\n",
    "</div>"
   ]
  },
  {
   "cell_type": "markdown",
   "metadata": {},
   "source": [
    "# Exercise 1\n",
    "\n",
    "Fix the following class declaration:"
   ]
  },
  {
   "cell_type": "code",
   "execution_count": 3,
   "metadata": {},
   "outputs": [
    {
     "name": "stdout",
     "output_type": "stream",
     "text": [
      "['2♠', '2♥', '2♣', '2♦', '3♠', '3♥', '3♣', '3♦', '4♠', '4♥', '4♣', '4♦', '5♠', '5♥', '5♣', '5♦', '6♠', '6♥', '6♣', '6♦', '7♠', '7♥', '7♣', '7♦', '8♠', '8♥', '8♣', '8♦', '9♠', '9♥', '9♣', '9♦', '10♠', '10♥', '10♣', '10♦', 'J♠', 'J♥', 'J♣', 'J♦', 'Q♠', 'Q♥', 'Q♣', 'Q♦', 'K♠', 'K♥', 'K♣', 'K♦', 'A♠', 'A♥', 'A♣', 'A♦']\n",
      "\n",
      "\n",
      "['A♣', '2♠', 'A♠', '4♥', '3♦', '5♠', '7♦', '2♣', '4♦', 'Q♦', '9♣', '7♣', 'K♦', 'J♣', '6♦', 'J♠', 'Q♥', '6♥', '3♥', '10♦', '10♥', 'A♥', '10♠', 'J♦', '6♣', '2♦', '7♠', '5♥', '9♥', '5♦', '3♣', '6♠', '8♠', 'A♦', '7♥', '9♦', 'J♥', 'K♠', '10♣', '8♣', '2♥', 'K♥', '5♣', '8♥', 'Q♣', '4♣', 'K♣', '4♠', '3♠', '9♠', '8♦', 'Q♠']\n"
     ]
    }
   ],
   "source": [
    "import random\n",
    "\n",
    "class Deck:\n",
    "    faces = ['2', '3', '4', '5', '6', '7', \\\n",
    "             '8', '9', '10', 'J', 'Q', 'K', 'A']\n",
    "    suits = ['♠', '♥', '♣', '♦']\n",
    "    \n",
    "    def __init__(self):\n",
    "        self.cards = self.generate_deck()\n",
    "    \n",
    "    def generate_deck(self):\n",
    "        return ['{}{}'.format(face,suit) for face in self.faces for suit in self.suits]\n",
    "    \n",
    "    def random_shuffle(self):\n",
    "        return random.shuffle(self.cards)\n",
    "    \n",
    "deck = Deck()\n",
    "print(deck.cards)\n",
    "print(\"\\n\")\n",
    "deck.random_shuffle()\n",
    "print(deck.cards)"
   ]
  },
  {
   "cell_type": "markdown",
   "metadata": {},
   "source": [
    "# Exercise 2\n",
    "#### a. Create a function that takes a dictionary and returns two lists."
   ]
  },
  {
   "cell_type": "code",
   "execution_count": 4,
   "metadata": {},
   "outputs": [],
   "source": [
    "# fix the following function defintion so it \n",
    "# so no AssertionError is thrown\n",
    "def ex1a(args):\n",
    "    keys = []\n",
    "    values = []\n",
    "    for key,value in args.items():\n",
    "        keys.append(key)\n",
    "        values.append(value)\n",
    "    return keys, values \n",
    "\n",
    "#class solution:\n",
    "#     list1 = list(args.keys())\n",
    "#     list2 = list(args.values())\n",
    "#     return list1,list2\n",
    "\n",
    "\n",
    "assert(ex1a({'a':1,'b':2}) == (['a','b'], [1,2]))\n",
    "assert(ex1a({1:'a', 2:'b'}) == ([1,2], ['a', 'b']))"
   ]
  },
  {
   "cell_type": "markdown",
   "metadata": {},
   "source": [
    "#### b. Create a function that takes two sets and returns a list of the shared elements.\n",
    "\n",
    "Use `for` loops. Do not use any set methods. "
   ]
  },
  {
   "cell_type": "code",
   "execution_count": 5,
   "metadata": {},
   "outputs": [
    {
     "name": "stdout",
     "output_type": "stream",
     "text": [
      "code runs without error\n"
     ]
    }
   ],
   "source": [
    "# fix the following code so the cell\n",
    "# runs without error\n",
    "def ex1b(s,t):\n",
    "    shared_list = []\n",
    "    for item in s:\n",
    "        if item in t:   # this is the same as: for second_item in t:if item == second_item:\n",
    "            shared_list.append(item)\n",
    "    return shared_list\n",
    "\n",
    "# use the following code to check your solution -- catching an specific assertion error.\n",
    "try:\n",
    "    assert(ex1b({}, {1}) == [])\n",
    "    assert(ex1b({1,2}, {2,3}) == [2])\n",
    "    assert(ex1b({1,2,3,4}, {3,4,5,6}) == [3,4])\n",
    "    print(\"code runs without error\")\n",
    "except AssertionError:\n",
    "    print(\"code is incorrect\")"
   ]
  },
  {
   "cell_type": "markdown",
   "metadata": {},
   "source": [
    "#### c. Create the code to test the following function.\n",
    "\n",
    "Hint: Take a look at how it's set up in _**a**_ and _**b**_"
   ]
  },
  {
   "cell_type": "code",
   "execution_count": 6,
   "metadata": {},
   "outputs": [
    {
     "name": "stdout",
     "output_type": "stream",
     "text": [
      "code runs without error\n"
     ]
    }
   ],
   "source": [
    "from functools import reduce\n",
    "\n",
    "def ex1c(g):\n",
    "    if isinstance(g, list):\n",
    "        if len(g) == 0:\n",
    "            return []\n",
    "        else:\n",
    "            return reduce(lambda x,y: x+y, g)\n",
    "    \n",
    "# Use the following test cases in your solution:\n",
    "try:\n",
    "    assert(ex1c(\"sd\") == None)\n",
    "    assert(ex1c([]) == [])\n",
    "    assert(ex1c([0]) == 0)\n",
    "    assert(ex1c([1,2,3,4,5]) == 15)\n",
    "    print(\"code runs without error\")\n",
    "except AssertionError:\n",
    "    print(\"code is incorrect\")"
   ]
  },
  {
   "cell_type": "markdown",
   "metadata": {},
   "source": [
    "# Exercise 3\n",
    "Create a script that will do the following:\n",
    "\n",
    "if you ran the script with an arbitrary amount of strings:\n",
    "```bash\n",
    "$ python your-name-ex3-script.py word1 word2 word3\n",
    "\n",
    "```\n",
    "\n",
    "the script would produce a file in the same directory called `output.html` with the following text:\n",
    "\n",
    "```\n",
    "<body>\n",
    "word1 word2 word3\n",
    "</body>\n",
    "\n",
    "\n",
    "```\n",
    "\n",
    "Submit your script. Not necessary to submit `output.html` file."
   ]
  },
  {
   "cell_type": "code",
   "execution_count": null,
   "metadata": {},
   "outputs": [],
   "source": [
    "def main(args):\n",
    "    file = open(\"output.html\", \"a\")\n",
    "    file.write(f\"<body>\\n\")\n",
    "    for arg in args:\n",
    "        file.write(arg)\n",
    "        file.write(\" \")\n",
    "    file.write(f\"\\n</body>\")\n",
    "    file.close()\n",
    "    \n",
    "if __name__== \"__main__\":\n",
    "    import sys\n",
    "    main(sys.argv[1:])"
   ]
  },
  {
   "cell_type": "code",
   "execution_count": 7,
   "metadata": {},
   "outputs": [
    {
     "name": "stdout",
     "output_type": "stream",
     "text": [
      "cat: output.html: No such file or directory\r\n"
     ]
    }
   ],
   "source": [
    "!cat output.html   #to see the contents "
   ]
  },
  {
   "cell_type": "markdown",
   "metadata": {},
   "source": [
    "<div style=\"background: #000;\n",
    "            color: #FFF;\n",
    "            margin: 0px;\n",
    "                padding: 10px 0px 20px 0px;\n",
    "            text-align: center; \n",
    "                \">\n",
    "    <h1>Week 08</h1>\n",
    "</div>"
   ]
  },
  {
   "cell_type": "markdown",
   "metadata": {},
   "source": [
    "# Exercise 1:\n",
    "\n",
    "Fix the following code:"
   ]
  },
  {
   "cell_type": "code",
   "execution_count": 3,
   "metadata": {},
   "outputs": [
    {
     "name": "stdout",
     "output_type": "stream",
     "text": [
      "THE KNOWLEDGE HOUSE\n",
      "Connection:keep-alive\n",
      "Server:gunicorn/19.9.0\n",
      "Date:Mon, 14 Dec 2020 21:50:12 GMT\n",
      "X-Frame-Options:ALLOW-FROM HTTPS://WWW.CLASSY.ORG/GIVE/295935/#!/DONATION/CHECKOUT\n",
      "Content-Length:89382\n",
      "Content-Type:text/html; charset=utf-8\n",
      "Via:1.1 vegur\n"
     ]
    }
   ],
   "source": [
    "#fixed code\n",
    "import requests\n",
    "from bs4 import BeautifulSoup                                              \n",
    "\n",
    "class Scraper:\n",
    "    def __init__(self, url):\n",
    "        self.url = url\n",
    "        self.scrape()\n",
    "        \n",
    "    def do_request(self):\n",
    "        response = requests.get(self.url)\n",
    "        self.headers = response.headers\n",
    "        self.text = response.text\n",
    "        \n",
    "    def get_response_attributes(self):\n",
    "        results = [self.headers, self.text]\n",
    "        return results\n",
    "    \n",
    "    def set_soup(self):\n",
    "        self.soup = BeautifulSoup(self.text)\n",
    "        return self.soup\n",
    "        \n",
    "    def scrape(self):\n",
    "        self.do_request()\n",
    "        return self.set_soup()\n",
    "    \n",
    "    @property\n",
    "    def title(self):\n",
    "        title = self.soup.find('title')  # self.soup.find('title').contents[0]\n",
    "        return title.text\n",
    "    \n",
    "    @property\n",
    "    def header(self):\n",
    "        temp = [f\"{key}:{value}\" for key,value in self.headers.items()]\n",
    "        return \"\\n\".join(temp)\n",
    "\n",
    "# DO NOT change the following code.\n",
    "# Your changes to the code above should allow\n",
    "# the code below to work without error.\n",
    "# hint: @\n",
    "s = Scraper('http://www.theknowledgehouse.org')\n",
    "print(s.title)    #we use the property decorator so that title\n",
    "print(s.header)   # and header can both be assesed as  an attribute"
   ]
  },
  {
   "cell_type": "markdown",
   "metadata": {},
   "source": [
    "# Exercise 2:\n",
    "\n",
    "Given an int `n`, create a function that creates an `n` x `n` matrix containing increasing integers starting with 1 and write the matrix into a csv file. \n",
    "\n",
    "\n",
    "#### Example:\n",
    "```    \n",
    "Input: 1\n",
    "Output: output.csv\n",
    "```\n",
    "The `output.csv` file should contain:\n",
    "```\n",
    "1\n",
    "```\n",
    "#### Example:\n",
    "```    \n",
    "Input: 2\n",
    "Output: output.csv\n",
    "```\n",
    "The `output.csv` file should contain:\n",
    "\n",
    "```\n",
    "1,2\n",
    "3,4\n",
    "```\n",
    "\n",
    "\n",
    "#### Example:\n",
    "```    \n",
    "Input: 3\n",
    "Output: output.csv\n",
    "```\n",
    "The `output.csv` file should contain:\n",
    "\n",
    "```\n",
    "1,2,3\n",
    "4,5,6\n",
    "7,8,9\n",
    "```"
   ]
  },
  {
   "cell_type": "code",
   "execution_count": null,
   "metadata": {},
   "outputs": [],
   "source": [
    "# complete the following code:\n",
    "#solution #1\n",
    "def create_matrix(n):\n",
    "    matrix = []\n",
    "    for i in range(0, n*n, n):\n",
    "        row = []\n",
    "        for j in range(i, i + n):\n",
    "            row.append(j+1)\n",
    "        matrix.append(row)\n",
    "    return matrix\n",
    "    \n",
    "def matrix_to_csv(n):\n",
    "    import csv\n",
    "    with open(\"clariza_output.csv\", \"w\") as csvfile:\n",
    "        file = csv.writer(csvfile, delimiter=\",\")\n",
    "        file.writerows(create_matrix(n))\n",
    "        \n",
    "matrix_to_csv(5)"
   ]
  },
  {
   "cell_type": "code",
   "execution_count": null,
   "metadata": {},
   "outputs": [],
   "source": [
    "#solution @2\n",
    "import csv\n",
    "# complete the following code:\n",
    "def matrix_to_csv(n, filename, write=True):\n",
    "    matrix = [[i*n+j+1 for j in range(n)] for i in range(n)]\n",
    "    [print(row) for row in matrix]\n",
    "    if not write: return\n",
    "    with open(filename, \"w\") as file:\n",
    "        writefile = csv.writer(file)\n",
    "        writefile.writerows(matrix)\n",
    "matrix_to_csv(10, \"output.csv\", write=False)"
   ]
  },
  {
   "cell_type": "markdown",
   "metadata": {},
   "source": [
    "# Exercise 3:\n",
    "\n",
    "Given a string s containing just the characters `'('`, `')'`, `'{'`, `'}'`, `'['` and `']'`, determine if the input string is valid.\n",
    "\n",
    "An input string is valid if:\n",
    "* Open brackets must be closed by the same type of brackets.\n",
    "* Open brackets must be closed in the correct order.\n",
    "\n",
    "test cases:\n",
    "```\n",
    "Input: s = \"()\"\n",
    "Output: True\n",
    "\n",
    "Input: s = \"()[]{}\"\n",
    "Output: True\n",
    "\n",
    "Input: s = \"(]\"\n",
    "Output: False\n",
    "\n",
    "Input: s = \"([)]\"\n",
    "Output: False\n",
    "\n",
    "Input: s = \"{[]}\"\n",
    "Output: True\n",
    "```"
   ]
  },
  {
   "cell_type": "code",
   "execution_count": 4,
   "metadata": {},
   "outputs": [
    {
     "name": "stdout",
     "output_type": "stream",
     "text": [
      "solution is correct\n"
     ]
    }
   ],
   "source": [
    "# complete the following function:\n",
    "#I made three answers. 1st one passes all test but requires a list and a dictionary to be used. \n",
    "def check_string(input):\n",
    "    temp = []\n",
    "    all_options = {')': '(', '}': '{', ']': '['}\n",
    "    for ch in input:\n",
    "        if ch ==\"[\" or ch==\"(\" or ch==\"{\":\n",
    "            temp.append(ch)\n",
    "        else:\n",
    "            if len(temp) == 0 or all_options[ch] != temp[-1]: \n",
    "                return False\n",
    "            else: temp.pop()\n",
    "    if temp == []:\n",
    "        return True\n",
    "    else:\n",
    "        return False  \n",
    "        \n",
    "#second one passes almost all test. But fails: assert(check_string(\"([)]\")==False) because it's not able to recorgnize\n",
    "#closing parenthesis in between open ones. \n",
    "# def check_string(input):\n",
    "#     temp = []\n",
    "#     for ch in input:\n",
    "#         if ch ==\"[\" or ch==\"(\" or ch==\"{\":   #stack [, (, {\n",
    "#             temp.append(ch)\n",
    "#         for par in temp:\n",
    "#             if ch == \"]\" and par ==\"[\":\n",
    "#                 temp.remove(par)\n",
    "#             elif ch == \")\" and par ==\"(\":\n",
    "#                 temp.remove(par)\n",
    "#             elif ch == \"}\" and par ==\"{\":\n",
    "#                 temp.remove(par)\n",
    "                \n",
    "#     if temp == []:\n",
    "#         return True\n",
    "#     else:\n",
    "# #         print(f\"{temp} still has an open parenthesis in it.\")\n",
    "#         return False\n",
    "\n",
    "\n",
    "#third one passes almost all test. It fails at: assert(check_string(\"()[]{}\") == True) because it can't pair sets of \n",
    "#parenthesis\n",
    "# def check_string(input):\n",
    "#     user_input = input\n",
    "#     while len(user_input)>0:\n",
    "#         if (user_input[0]==\"[\" and user_input[-1] == \"]\") or (user_input[0]==\"(\" and user_input[-1] == \")\") or (user_input[0]==\"{\" and user_input[-1] == \"}\"):\n",
    "#             user_input = user_input[1:-1]\n",
    "#         else:\n",
    "#             return False\n",
    "#     return True\n",
    "\n",
    "\n",
    "# run the cell with the following code\n",
    "# to test your solution\n",
    "try:\n",
    "    assert(check_string(\"()\") == True)\n",
    "    assert(check_string(\"()[]{}\") == True)\n",
    "    assert(check_string(\"(]\") == False)\n",
    "    # bonus points:\n",
    "    # get this test case to work\n",
    "    assert(check_string(\"([)]\")==False)\n",
    "    assert(check_string(\"{[]}\") == True)\n",
    "    assert(check_string(\"[[[\") == False)\n",
    "    print(\"solution is correct\")\n",
    "except AssertionError:\n",
    "    print(\"solution is incorrect\")\n",
    "    print(\"please check your code.\")"
   ]
  },
  {
   "cell_type": "markdown",
   "metadata": {},
   "source": [
    "<div style=\"background: #000;\n",
    "            color: #FFF;\n",
    "            margin: 0px;\n",
    "                padding: 10px 0px 20px 0px;\n",
    "            text-align: center; \n",
    "                \">\n",
    "    <h1>Week 09</h1>\n",
    "</div>"
   ]
  },
  {
   "cell_type": "markdown",
   "metadata": {},
   "source": [
    "# Exercise 1\n",
    "\n",
    "Given a valid (IPv4) IP address, return a defanged version of that IP address.\n",
    "\n",
    "A defanged IP address replaces every period \".\" with \"[.]\".\n",
    "\n",
    "Example 1:\n",
    "```\n",
    "Input: address = \"1.1.1.1\"\n",
    "Output: \"1[.]1[.]1[.]1\"\n",
    "```\n",
    "Example 2:\n",
    "```\n",
    "Input: address = \"255.100.50.0\"\n",
    "Output: \"255[.]100[.]50[.]0\"\n",
    "```\n",
    "\n",
    "Bonus: Try completing it without using string methods and just looping through the string."
   ]
  },
  {
   "cell_type": "code",
   "execution_count": 5,
   "metadata": {},
   "outputs": [
    {
     "name": "stdout",
     "output_type": "stream",
     "text": [
      "your solution is valid\n"
     ]
    }
   ],
   "source": [
    "# change the following\n",
    "def ex1(ip_addr):\n",
    "#     creating a new string because strings are immutable\n",
    "    new_ip_addr = ''\n",
    "#     constructing the new string with the char from the old string\n",
    "    for char in ip_addr:\n",
    "        if char == '.':\n",
    "            new_ip_addr += '[.]'\n",
    "        else:\n",
    "            new_ip_addr += char\n",
    "    return new_ip_addr\n",
    "\n",
    "#we can also do the built it function\n",
    "# def ex1(ip_addr):\n",
    "#     return ip_addr.replace(\".\", \"[.]\")    \n",
    "            \n",
    "# use the try/except block below\n",
    "# to test your solution\n",
    "try:\n",
    "    assert(ex1(\"1.1.1.1\") == \"1[.]1[.]1[.]1\")\n",
    "    assert(ex1(\"255.100.50.0\") == \"255[.]100[.]50[.]0\")\n",
    "    print(\"your solution is valid\")\n",
    "except AssertionError:\n",
    "    print(\"your solution is incorrect\")"
   ]
  },
  {
   "cell_type": "markdown",
   "metadata": {},
   "source": [
    "# Exercise 2\n",
    "Given an array nums. We define a running sum of an array as runningSum[i] = sum(nums[0]…nums[i]).\n",
    "\n",
    "Return the running sum of nums.\n",
    "\n",
    "Example 1:\n",
    "```\n",
    "Input: nums = [1,2,3,4]\n",
    "Output: [1,3,6,10]\n",
    "Explanation: Running sum is obtained as follows: [1, 1+2, 1+2+3, 1+2+3+4].\n",
    "```\n",
    "Example 2:\n",
    "```\n",
    "Input: nums = [1,1,1,1,1]\n",
    "Output: [1,2,3,4,5]\n",
    "Explanation: Running sum is obtained as follows: [1, 1+1, 1+1+1, 1+1+1+1, 1+1+1+1+1].\n",
    "```\n",
    "Example 3:\n",
    "```\n",
    "Input: nums = [3,1,2,10,1]\n",
    "Output: [3,4,6,16,17]\n",
    "```"
   ]
  },
  {
   "cell_type": "code",
   "execution_count": 6,
   "metadata": {},
   "outputs": [
    {
     "name": "stdout",
     "output_type": "stream",
     "text": [
      "your solution is valid\n"
     ]
    }
   ],
   "source": [
    "# change the following\n",
    "#first solution\n",
    "def ex2(nums):\n",
    "    nums_summated = []\n",
    "    int_sum = 0\n",
    "    for num in nums:\n",
    "        int_sum += num\n",
    "        nums_summated.append(int_sum)\n",
    "    return nums_summated\n",
    "\n",
    "# use the try/except block below\n",
    "# to test your solution\n",
    "try:\n",
    "    assert(ex2([1,2,3,4]) == [1,3,6,10])\n",
    "    assert(ex2([1,1,1,1,1]) == [1,2,3,4,5])\n",
    "    assert(ex2([3,1,2,10,1]) == [3,4,6,16,17])\n",
    "    print(\"your solution is valid\")\n",
    "except AssertionError:\n",
    "    print(\"your solution is incorrect\")"
   ]
  },
  {
   "cell_type": "code",
   "execution_count": 11,
   "metadata": {},
   "outputs": [],
   "source": [
    "#other valid solutions\n",
    "def ex2_a(nums):\n",
    "    sum_ = 0\n",
    "    list_ = []\n",
    "    for nums in nums:\n",
    "        sum_ += nums\n",
    "        list_.append(sum_)\n",
    "    return list_\n",
    "def ex2_b(nums):\n",
    "    s = [sum(nums[0:i]) for i, k in enumerate(nums)]\n",
    "    return s\n",
    "def ex2_c(nums):\n",
    "    sum_ = 0\n",
    "    for nums in nums:\n",
    "        sum_ += nums\n",
    "        yield sum_\n",
    "def ex2_d(nums):\n",
    "    return map(lambda x: sum(nums[:x[0]+1]), enumerate(nums))"
   ]
  },
  {
   "cell_type": "markdown",
   "metadata": {},
   "source": [
    "<div style=\"background: #000;\n",
    "            color: #FFF;\n",
    "            margin: 0px;\n",
    "                padding: 10px 0px 20px 0px;\n",
    "            text-align: center; \n",
    "                \">\n",
    "    <h1>No homework for Week 10</h1>\n",
    "</div>"
   ]
  },
  {
   "cell_type": "markdown",
   "metadata": {},
   "source": [
    "<div style=\"background: #000;\n",
    "            color: #FFF;\n",
    "            margin: 0px;\n",
    "                padding: 10px 0px 20px 0px;\n",
    "            text-align: center; \n",
    "                \">\n",
    "    <h1>Week 11</h1>\n",
    "</div>"
   ]
  },
  {
   "cell_type": "markdown",
   "metadata": {},
   "source": [
    "# Exercise 1\n",
    "\n",
    "Edit the following cell so only unique numbers are stored in variable `s`"
   ]
  },
  {
   "cell_type": "code",
   "execution_count": 15,
   "metadata": {},
   "outputs": [],
   "source": [
    "s = [9,4,5,6,3,4,7,8,10,22,5,6,9,23]\n",
    "s = set(s)\n",
    "s = list(s)\n",
    "assert(s == [3, 4, 5, 6, 7, 8, 9, 10, 22, 23])"
   ]
  },
  {
   "cell_type": "code",
   "execution_count": 16,
   "metadata": {},
   "outputs": [],
   "source": [
    "s = [9,4,5,6,3,4,7,8,10,22,5,6,9,23]\n",
    "m = []\n",
    "list_comprehension = [m.append(num) for num in s if num not in m]\n",
    "s = sorted(m) \n",
    "assert(s == [3, 4, 5, 6, 7, 8, 9, 10, 22, 23])"
   ]
  },
  {
   "cell_type": "markdown",
   "metadata": {},
   "source": [
    "# Exercise 2\n",
    "\n",
    "Convert the following two lists into a dictionary where the keys are the letters and the values are the corresponding numbers. Assign the dictionary to variable `d`"
   ]
  },
  {
   "cell_type": "code",
   "execution_count": 17,
   "metadata": {},
   "outputs": [],
   "source": [
    "import string\n",
    "\n",
    "s = [i for i in string.ascii_letters]\n",
    "j = [i for i in range(1,27)]\n",
    "d = {}\n",
    "d = dict(zip(s,j))\n",
    "                      \n",
    "assert(d == {'a': 1,'b': 2,'c': 3,'d': 4,'e': 5,'f': 6,\n",
    "        'g': 7,'h': 8,'i': 9,'j': 10,'k': 11,'l': 12,\n",
    "        'm': 13,'n': 14,'o': 15,'p': 16,'q': 17,'r': 18,\n",
    "        's': 19,'t': 20,'u': 21,'v': 22,'w': 23,'x': 24,\n",
    "        'y': 25,'z': 26})"
   ]
  },
  {
   "cell_type": "markdown",
   "metadata": {},
   "source": [
    "# Exercise 3\n",
    "\n",
    "Switch the values of the following two variables."
   ]
  },
  {
   "cell_type": "code",
   "execution_count": 18,
   "metadata": {},
   "outputs": [],
   "source": [
    "s,t = 0, 1\n",
    "# insert solution below this comment\n",
    "s, t = t, s\n",
    "\n",
    "assert(s==1)\n",
    "assert(t==0)"
   ]
  },
  {
   "cell_type": "markdown",
   "metadata": {},
   "source": [
    "<div style=\"background: #000;\n",
    "            color: #FFF;\n",
    "            margin: 0px;\n",
    "                padding: 10px 0px 20px 0px;\n",
    "            text-align: center; \n",
    "                \">\n",
    "    <h1>Week 12</h1>\n",
    "</div>"
   ]
  },
  {
   "cell_type": "markdown",
   "metadata": {},
   "source": [
    "### Exercise 1\n",
    "\n",
    "Create a function that takes a list of strings and outputs a dictionary where the key is the string and the value is the length of the corresponding string."
   ]
  },
  {
   "cell_type": "code",
   "execution_count": 21,
   "metadata": {},
   "outputs": [
    {
     "name": "stdout",
     "output_type": "stream",
     "text": [
      "solution is correct\n"
     ]
    }
   ],
   "source": [
    "def ex1(lst):\n",
    "    return {string: len(string) for string in lst }\n",
    "\n",
    "try:\n",
    "    assert(ex1(['']) == {'': 0})\n",
    "    assert(ex1(['a']) == {'a': 1})\n",
    "    assert(ex1(['hello', 'world']) == {'hello': 5, 'world': 5})\n",
    "    assert(ex1(['python', 'data', 'science']) == {'python': 6, 'data': 4, 'science': 7})\n",
    "    assert(ex1(['a']) == {'a': 1})\n",
    "    print(\"solution is correct\")\n",
    "except:\n",
    "    print(\"solution is incorrect\")"
   ]
  },
  {
   "cell_type": "markdown",
   "metadata": {},
   "source": [
    "### Exercise 2\n",
    "\n",
    "Create a function that outputs all the even numbers under 500 that are also divisible by 9."
   ]
  },
  {
   "cell_type": "code",
   "execution_count": 22,
   "metadata": {},
   "outputs": [
    {
     "name": "stdout",
     "output_type": "stream",
     "text": [
      "solution is correct\n"
     ]
    }
   ],
   "source": [
    "def ex2():\n",
    "    new_list = []\n",
    "    for num in range(500):\n",
    "        if num % 2 ==0 and num % 9 == 0:\n",
    "            new_list.append(num)\n",
    "    return new_list\n",
    "\n",
    "try:\n",
    "    assert(ex2() == [0,18,36,54,72,90,108,126,144,162,180,198,216,234,252,270,288,306,324,342,360,378,396,414,432,450,468,486])\n",
    "    print(\"solution is correct\")\n",
    "except:\n",
    "    print(\"solution is incorrect\")"
   ]
  },
  {
   "cell_type": "markdown",
   "metadata": {},
   "source": [
    "### Exercise 3\n",
    "\n",
    "Create a class that implements a linked list."
   ]
  },
  {
   "cell_type": "code",
   "execution_count": 23,
   "metadata": {},
   "outputs": [
    {
     "data": {
      "text/plain": [
       "4"
      ]
     },
     "execution_count": 23,
     "metadata": {},
     "output_type": "execute_result"
    }
   ],
   "source": [
    "class Node:  #1.create reference to Node class\n",
    "    def __init__(self, data): #structure of the data that we will be putting inside the list. The elements\n",
    "        self.data = data  #piece of data\n",
    "        self.next = None  #pointer to the other class\n",
    "        \n",
    "class LinkedList: ##2. creare reference of second class\n",
    "    def __init__(self):  #we could pass node = None so is optional to pass \n",
    "        self.tail = None #and then set this to node\n",
    "        self.head = None  #and this to node\n",
    "        self.count = 0   #zero elements\n",
    "        \n",
    "    def iterate_items(self):   #generator that iterate through the list. we can pass it in next() to get one value at a time\n",
    "        current_item = self.head  #start from the beginning of the list\n",
    "        while current_item:\n",
    "            val = current_item.data\n",
    "            current_item = current_item.next\n",
    "            yield val\n",
    "            \n",
    "    def append(self, data):   \n",
    "        node = Node(data)  #we will pass the data inside the tail. #create a node using data\n",
    "        if self.tail:  #if there is a list that exist because if there is\n",
    "            #a list then there is already a tail\n",
    "            self.tail.next = node\n",
    "            self.tail = node\n",
    "        else:\n",
    "            self.tail = node  #if tail doesn't exist the list is empty\n",
    "            self.head = node\n",
    "        self.count += 1\n",
    "        \n",
    "items = LinkedList()\n",
    "items.append('HTML')  # we can pass a value to method append\n",
    "items.append('CSS')\n",
    "items.append('Javascript')\n",
    "items.append('Python')\n",
    "items.count"
   ]
  },
  {
   "cell_type": "code",
   "execution_count": 24,
   "metadata": {},
   "outputs": [
    {
     "name": "stdout",
     "output_type": "stream",
     "text": [
      "<Node data: 5>\n",
      "<Node data: 10>\n",
      "<Node data: 15>\n",
      "<Node data: 20>\n",
      "<Node data: 25>\n",
      "<Node data: 30>\n",
      "<Node data: 35>\n",
      "<Node data: 40>\n"
     ]
    }
   ],
   "source": [
    "#another example of LinkedList\n",
    "class Node:\n",
    "    def __init__(self, data):\n",
    "        self.data = data\n",
    "        self.next = None\n",
    "    def __repr__(self):\n",
    "        return f\"<Node data: {self.data}>\"\n",
    "class LinkedList:\n",
    "    def __init__(self, node=None):\n",
    "        self.head = node\n",
    "        self.tail = node\n",
    "    def append(self, data):\n",
    "        new_node = Node(data)\n",
    "        if self.tail:\n",
    "            self.tail.next = new_node\n",
    "            self.tail = new_node\n",
    "        else: \n",
    "            self.head = new_node\n",
    "            self.tail = new_node\n",
    "    def output_list(self):\n",
    "        current_node = self.head\n",
    "        while current_node:\n",
    "            print(current_node)\n",
    "            current_node = current_node.next\n",
    "    def __repr__(self):\n",
    "        return f\"<Linked List {self.head} {self.tail}>\"\n",
    "node = Node(5)        \n",
    "linked_list = LinkedList(node)\n",
    "linked_list.append(10)\n",
    "linked_list.append(15)\n",
    "linked_list.append(20)\n",
    "linked_list.append(25)\n",
    "linked_list.append(30)\n",
    "linked_list.append(35)\n",
    "linked_list.append(40)\n",
    "linked_list.output_list()"
   ]
  },
  {
   "cell_type": "markdown",
   "metadata": {},
   "source": [
    "### Exercise 4\n",
    "\n",
    "Given the following two sets, assign to variable `m` the numbers that are contained by both sets (the numbers that are in both s and t)."
   ]
  },
  {
   "cell_type": "code",
   "execution_count": 25,
   "metadata": {},
   "outputs": [
    {
     "name": "stdout",
     "output_type": "stream",
     "text": [
      "solution is correct\n"
     ]
    }
   ],
   "source": [
    "s = {0,2,4,6,8,10}\n",
    "t = {0,1,3,5,7,9}\n",
    "\n",
    "m = s.intersection(t)\n",
    "\n",
    "try:\n",
    "    assert(m == {0})\n",
    "    print(\"solution is correct\")\n",
    "except:\n",
    "    print(\"solution is incorrect\")"
   ]
  },
  {
   "cell_type": "markdown",
   "metadata": {},
   "source": [
    "### Exercise 5\n",
    "\n",
    "Fix the following class definition so that the code runs without error. (Only change the class definition)."
   ]
  },
  {
   "cell_type": "code",
   "execution_count": 26,
   "metadata": {},
   "outputs": [
    {
     "name": "stdout",
     "output_type": "stream",
     "text": [
      "solution is correct\n"
     ]
    }
   ],
   "source": [
    "class Exercise5:\n",
    "    def __init__(self, num, lname, fname):\n",
    "        self.num = num\n",
    "        self.last_name = lname\n",
    "        self.first_name = fname\n",
    "        \n",
    "    @property\n",
    "    def get_attrs(self):\n",
    "        return [self.num, self.last_name, self.first_name]\n",
    "    \n",
    "instance = Exercise5('46', 'Biden', 'Joe')\n",
    "\n",
    "try:\n",
    "    assert(instance.get_attrs == ['46', 'Biden', 'Joe'])\n",
    "    print(\"solution is correct\")\n",
    "except:\n",
    "    print(\"solution is incorrect\")"
   ]
  },
  {
   "cell_type": "markdown",
   "metadata": {},
   "source": [
    "### Exercise 6\n",
    "\n",
    "Create a class called `Time` that takes two arguments (`hours` and `minutes`) and sets them as instance attributes. Then create a function that overloads the addition and equality operators so you can add the times together and then check if two instances are equal in time."
   ]
  },
  {
   "cell_type": "code",
   "execution_count": 27,
   "metadata": {},
   "outputs": [
    {
     "name": "stdout",
     "output_type": "stream",
     "text": [
      "solution is correct\n"
     ]
    }
   ],
   "source": [
    "class Time:\n",
    "    def __init__(self, hours, minutes):\n",
    "        self.hours = hours\n",
    "        self.minutes= minutes\n",
    "        \n",
    "    def __add__(self, other):\n",
    "        #30 + 30 = 60 --> 1 hour\n",
    "        minutes = self.minutes + other.minutes\n",
    "        carry = 0\n",
    "        if minutes >= 60:\n",
    "            minutes -= 60\n",
    "            carry += 1\n",
    "            \n",
    "        hours = self.hours + other.hours + carry\n",
    "        return Time(hours,minutes)\n",
    "    \n",
    "    def __eq__(self,other):\n",
    "        return self.minutes == other.minutes and self.hours == other.hours\n",
    "        \n",
    "time1 = Time(0, 30)\n",
    "time2 = Time(1, 30)\n",
    "time3 = Time(2, 0)\n",
    "\n",
    "try:\n",
    "    assert(time1 + time2 == time3)\n",
    "    print(\"solution is correct\")\n",
    "except:\n",
    "    print(\"solution is incorrect\")"
   ]
  },
  {
   "cell_type": "code",
   "execution_count": 28,
   "metadata": {},
   "outputs": [
    {
     "name": "stdout",
     "output_type": "stream",
     "text": [
      "solution is correct\n"
     ]
    }
   ],
   "source": [
    "#Second solution we worked on in class\n",
    "class Time:\n",
    "    def __init__(self, hours, minutes):\n",
    "        self.hours = hours\n",
    "        self.minutes= minutes\n",
    "        self.total_time = self.hours * 60 + self.minutes\n",
    "        \n",
    "    def __repr__(self):\n",
    "        return f\"Time h: {self.hours} m: {self.minutes})\"\n",
    "\n",
    "    def __add__(self, other):\n",
    "        if isinstance(other, Time):\n",
    "            added_time = self.total_time +other.total_time\n",
    "            return Time(added_time // 60 , added_time % 60)\n",
    "    \n",
    "    def __eq__(self,other):\n",
    "        if isinstance(other, Time):     \n",
    "            if self.total_time == other.total_time:\n",
    "                return True\n",
    "\n",
    "        \n",
    "time1 = Time(0, 30)\n",
    "time2 = Time(1, 30)\n",
    "time3 = Time(2, 0)\n",
    "\n",
    "try:\n",
    "    assert(time1 + time2 == time3)\n",
    "    print(\"solution is correct\")\n",
    "except:\n",
    "    print(\"solution is incorrect\")"
   ]
  },
  {
   "cell_type": "markdown",
   "metadata": {},
   "source": [
    "### Exercise 7\n",
    "\n",
    "Create a function that creates an `m` by `n` matrix (`m` rows and `n` columns) filled with zeros."
   ]
  },
  {
   "cell_type": "code",
   "execution_count": 47,
   "metadata": {},
   "outputs": [
    {
     "name": "stdout",
     "output_type": "stream",
     "text": [
      "solution is correct\n"
     ]
    }
   ],
   "source": [
    "def ex7(m,n):\n",
    "    return [[0] *n for num in range(m)]\n",
    "\n",
    "try:\n",
    "    assert(ex7(0,0) == [])\n",
    "    assert(ex7(1,1) == [[0]])\n",
    "    assert(ex7(2,2) == [[0,0],[0,0]])\n",
    "    assert(ex7(3,5) == [[0, 0, 0, 0, 0], [0, 0, 0, 0, 0], [0, 0, 0, 0, 0]])\n",
    "    print(\"solution is correct\")\n",
    "except:\n",
    "    print(\"solution is incorrect\")"
   ]
  },
  {
   "cell_type": "markdown",
   "metadata": {},
   "source": [
    "### Exercise 8\n",
    "\n",
    "Create a function that takes an arbitrary number of integer arguments and sums them."
   ]
  },
  {
   "cell_type": "code",
   "execution_count": 30,
   "metadata": {},
   "outputs": [
    {
     "name": "stdout",
     "output_type": "stream",
     "text": [
      "solution is correct\n"
     ]
    }
   ],
   "source": [
    "def ex8(*args):\n",
    "    return sum(args)\n",
    "        \n",
    "try:\n",
    "    assert(ex8(3,5,7) == 15)\n",
    "    assert(ex8(2,4) == 6)\n",
    "    assert(ex8(*range(10)) == 45)\n",
    "    print(\"solution is correct\")\n",
    "except:\n",
    "    print(\"solution is incorrect\")"
   ]
  },
  {
   "cell_type": "markdown",
   "metadata": {},
   "source": [
    "### Exercise 9\n",
    "\n",
    "Create a decorator function that wraps the following function so that the string returned has anchor tags (e.g `<a>hello world</a>`)"
   ]
  },
  {
   "cell_type": "code",
   "execution_count": 31,
   "metadata": {},
   "outputs": [
    {
     "name": "stdout",
     "output_type": "stream",
     "text": [
      "solution is correct\n"
     ]
    }
   ],
   "source": [
    "def decorator_function(func):\n",
    "    def wrapper():\n",
    "        return f\"<a>{func()}</a>\"   #if we print it will only print but function will not return something\n",
    "    return wrapper\n",
    "\n",
    "@decorator_function\n",
    "def func():\n",
    "    return \"hello world\"\n",
    "try:\n",
    "    assert(func() == '<a>hello world</a>')  #asserting that it returns something\n",
    "    print(\"solution is correct\")\n",
    "except:\n",
    "    print(\"solution is incorrect\")"
   ]
  },
  {
   "cell_type": "markdown",
   "metadata": {},
   "source": [
    "### Exercise 10\n",
    "\n",
    "Using list comprehension, create a list with two for loops that generate the following output:\n",
    "\n",
    "[('0', '0'), ('0', '1'), ('1', '0'), ('1', '1')]"
   ]
  },
  {
   "cell_type": "code",
   "execution_count": 33,
   "metadata": {},
   "outputs": [
    {
     "name": "stdout",
     "output_type": "stream",
     "text": [
      "solution is correct\n"
     ]
    }
   ],
   "source": [
    "l = [(str(num), str(new_num)) for num in range(2) for new_num in range(2)]\n",
    "\n",
    "try:\n",
    "    assert(l == [('0', '0'), ('0', '1'), ('1', '0'), ('1', '1')])\n",
    "    print(\"solution is correct\")\n",
    "except:\n",
    "    print(\"solution is incorrect\")"
   ]
  },
  {
   "cell_type": "markdown",
   "metadata": {},
   "source": [
    "### Exercise 11\n",
    "\n",
    "Create a dictionary comprehension that generates the following dictionary:\n",
    "```\n",
    "{'a': ['*'], 'b': ['*'], 'c': ['*']}\n",
    "```"
   ]
  },
  {
   "cell_type": "code",
   "execution_count": 34,
   "metadata": {},
   "outputs": [
    {
     "name": "stdout",
     "output_type": "stream",
     "text": [
      "solution is correct\n"
     ]
    }
   ],
   "source": [
    "abc = ['a','b', 'c']\n",
    "d = {key:[val] for key in abc for val in ['*']}\n",
    "\n",
    "try:\n",
    "    assert(d == {'a': ['*'], 'b': ['*'], 'c': ['*']})\n",
    "    print(\"solution is correct\")\n",
    "except:\n",
    "    print(\"solution is incorrect\")"
   ]
  },
  {
   "cell_type": "markdown",
   "metadata": {},
   "source": [
    "### Exercise 12\n",
    "\n",
    "Create a lambda expression that takes `a` and `b` and computes `c`: \n",
    "\n",
    "$$ a^2 + b^2 = c^2 $$"
   ]
  },
  {
   "cell_type": "code",
   "execution_count": 35,
   "metadata": {},
   "outputs": [
    {
     "name": "stdout",
     "output_type": "stream",
     "text": [
      "solution is correct\n"
     ]
    }
   ],
   "source": [
    "from math import sqrt\n",
    "\n",
    "f = lambda a,b: sqrt(a**2 + b**2)\n",
    "\n",
    "try:\n",
    "    assert(f(3,4) == 5.0)\n",
    "    assert(f(5,12) == 13.0)\n",
    "    print(\"solution is correct\")\n",
    "except:\n",
    "    print(\"solution is incorrect\")"
   ]
  },
  {
   "cell_type": "markdown",
   "metadata": {},
   "source": [
    "### Exercise 13\n",
    "\n",
    "Create a generator function that yields one even number at a time."
   ]
  },
  {
   "cell_type": "code",
   "execution_count": 36,
   "metadata": {},
   "outputs": [],
   "source": [
    "def print_even(n) : \n",
    "    for i in range(n): \n",
    "        if i % 2 == 0:\n",
    "            yield i\n",
    "\n",
    "var = print_even(25)"
   ]
  },
  {
   "cell_type": "code",
   "execution_count": 38,
   "metadata": {},
   "outputs": [
    {
     "data": {
      "text/plain": [
       "2"
      ]
     },
     "execution_count": 38,
     "metadata": {},
     "output_type": "execute_result"
    }
   ],
   "source": [
    "next(var)  #iterate through all the numbers one at a time"
   ]
  },
  {
   "cell_type": "markdown",
   "metadata": {},
   "source": [
    "### Exercise 14\n",
    "\n",
    "Write a function that recursively calculates the following if `n` is greater than 0. If `n` is less than 0, return 0.5.\n",
    "\n",
    "$$ n = (n-1) + (n-1)$$"
   ]
  },
  {
   "cell_type": "code",
   "execution_count": 39,
   "metadata": {},
   "outputs": [
    {
     "name": "stdout",
     "output_type": "stream",
     "text": [
      "solution is correct\n"
     ]
    }
   ],
   "source": [
    "def ex14(n):\n",
    "    if n < 0:\n",
    "        return 0.5\n",
    "    else:\n",
    "        return 2 * ex14(n-1)        \n",
    "try:\n",
    "    assert(ex14(1) == 2**1)\n",
    "    assert(ex14(2) == 2**2) \n",
    "    assert(ex14(3) == 2**3) \n",
    "    assert(ex14(4) == 2**4) \n",
    "    assert(ex14(10) == 2**10)\n",
    "    print(\"solution is correct\")\n",
    "except:\n",
    "    print(\"solution is incorrect\")"
   ]
  },
  {
   "cell_type": "markdown",
   "metadata": {},
   "source": [
    "#### Exercise 15\n",
    "\n",
    "Write a function that sends a get request to a url and returns the headers. Use the following url to test.\n",
    "\n",
    "https://www.httpbin.org"
   ]
  },
  {
   "cell_type": "code",
   "execution_count": 40,
   "metadata": {},
   "outputs": [
    {
     "data": {
      "text/plain": [
       "{'Date': 'Mon, 14 Dec 2020 22:15:03 GMT', 'Content-Type': 'text/html; charset=utf-8', 'Content-Length': '9593', 'Connection': 'keep-alive', 'Server': 'gunicorn/19.9.0', 'Access-Control-Allow-Origin': '*', 'Access-Control-Allow-Credentials': 'true'}"
      ]
     },
     "execution_count": 40,
     "metadata": {},
     "output_type": "execute_result"
    }
   ],
   "source": [
    "import requests\n",
    "def get_headers():\n",
    "    url = \"https://www.httpbin.org\"\n",
    "    request = requests.get(url)\n",
    "    return request.headers\n",
    "    \n",
    "r = get_headers()\n",
    "r"
   ]
  },
  {
   "cell_type": "markdown",
   "metadata": {},
   "source": [
    "### Exercise 16\n",
    "\n",
    "Write a ternary operator that sets the variable `s` to an input if the length of the input is greater than 25 characters, otherwise set `s` to `None`"
   ]
  },
  {
   "cell_type": "code",
   "execution_count": 53,
   "metadata": {},
   "outputs": [
    {
     "name": "stdout",
     "output_type": "stream",
     "text": [
      "use this inputjshfgjs\n",
      "False\n"
     ]
    }
   ],
   "source": [
    "m = input(\"use this input\")\n",
    "\n",
    "s = len(m) > 25 and False\n",
    "\n",
    "print(s)"
   ]
  },
  {
   "cell_type": "markdown",
   "metadata": {},
   "source": [
    "### Exercise 17\n",
    "\n",
    "Using the json library, output the value of the key `menuitem`."
   ]
  },
  {
   "cell_type": "code",
   "execution_count": 42,
   "metadata": {},
   "outputs": [
    {
     "data": {
      "text/plain": [
       "[{'value': 'New', 'onclick': 'CreateNewDoc()'},\n",
       " {'value': 'Open', 'onclick': 'OpenDoc()'},\n",
       " {'value': 'Close', 'onclick': 'CloseDoc()'}]"
      ]
     },
     "execution_count": 42,
     "metadata": {},
     "output_type": "execute_result"
    }
   ],
   "source": [
    "import json\n",
    "\n",
    "s = \"\"\"{\"menu\": {\n",
    "  \"id\": \"file\",\n",
    "  \"value\": \"File\",\n",
    "  \"popup\": {\n",
    "    \"menuitem\": [\n",
    "      {\"value\": \"New\", \"onclick\": \"CreateNewDoc()\"},\n",
    "      {\"value\": \"Open\", \"onclick\": \"OpenDoc()\"},\n",
    "      {\"value\": \"Close\", \"onclick\": \"CloseDoc()\"}\n",
    "    ]\n",
    "  }\n",
    "}}\"\"\"\n",
    "\n",
    "dct = json.loads(s)\n",
    "\n",
    "dct[\"menu\"][\"popup\"][\"menuitem\"]"
   ]
  },
  {
   "cell_type": "markdown",
   "metadata": {},
   "source": [
    "### Exercise 18\n",
    "\n",
    "Using a slice, output the even numbers backwards"
   ]
  },
  {
   "cell_type": "code",
   "execution_count": 43,
   "metadata": {},
   "outputs": [
    {
     "name": "stdout",
     "output_type": "stream",
     "text": [
      "solution is correct\n"
     ]
    }
   ],
   "source": [
    "s = [1,2,3,4,5,6,7,8,9,10]\n",
    "\n",
    "s = s[::-2]\n",
    "\n",
    "try:\n",
    "    assert(s == [10, 8, 6, 4, 2])\n",
    "    print(\"solution is correct\")\n",
    "except:\n",
    "    print(\"solution is incorrect\")"
   ]
  },
  {
   "cell_type": "markdown",
   "metadata": {},
   "source": [
    "### Exercise 19\n",
    "\n",
    "Create a class called `Square` that inherits from `Shape` and overrides the area method."
   ]
  },
  {
   "cell_type": "code",
   "execution_count": 44,
   "metadata": {},
   "outputs": [
    {
     "data": {
      "text/plain": [
       "25"
      ]
     },
     "execution_count": 44,
     "metadata": {},
     "output_type": "execute_result"
    }
   ],
   "source": [
    "class Shape:\n",
    "    def __init__(self, color):\n",
    "        self.color = color\n",
    "        \n",
    "    def area():\n",
    "        pass\n",
    "    \n",
    "class Square(Shape):\n",
    "    def area(self,x):\n",
    "        return x**2\n",
    "        \n",
    "b = Square(\"blue\")\n",
    "b.area(5)  "
   ]
  },
  {
   "cell_type": "code",
   "execution_count": 45,
   "metadata": {},
   "outputs": [
    {
     "name": "stdout",
     "output_type": "stream",
     "text": [
      "True\n"
     ]
    }
   ],
   "source": [
    "class Shape:\n",
    "    def __init__(self, color):\n",
    "        self.color = color\n",
    "        self.shape = \"Shape\"\n",
    "    \n",
    "    def shape_type(self):\n",
    "        return self.shape\n",
    "    \n",
    "    def area():\n",
    "        pass\n",
    "    \n",
    "class Square(Shape):\n",
    "    def __init__(self, color, length):\n",
    "        super().__init__(color)\n",
    "        self.shape = \"Square\"\n",
    "        self.length = length\n",
    "    \n",
    "    def is_square(self):\n",
    "        return True\n",
    "    \n",
    "    def area(self):\n",
    "        return self.length**2\n",
    "    \n",
    "s = Square(\"blue\", 2)\n",
    "print(s.is_square())"
   ]
  },
  {
   "cell_type": "markdown",
   "metadata": {},
   "source": [
    "### Exercise 20\n",
    "\n",
    "Create a function that at worst executes in linear time."
   ]
  },
  {
   "cell_type": "code",
   "execution_count": 46,
   "metadata": {},
   "outputs": [
    {
     "name": "stdout",
     "output_type": "stream",
     "text": [
      "1\n",
      "2\n",
      "3\n",
      "4\n",
      "5\n",
      "6\n",
      "7\n",
      "8\n",
      "9\n"
     ]
    }
   ],
   "source": [
    "#finding item in a list\n",
    "#anything that goes through every item in a list for a constant number of times\n",
    "\n",
    "lst = [1,2,3,4,5,6,7,8,9]\n",
    "for num in lst:\n",
    "    print(num)"
   ]
  },
  {
   "cell_type": "code",
   "execution_count": null,
   "metadata": {},
   "outputs": [],
   "source": []
  }
 ],
 "metadata": {
  "kernelspec": {
   "display_name": "Python 3",
   "language": "python",
   "name": "python3"
  },
  "language_info": {
   "codemirror_mode": {
    "name": "ipython",
    "version": 3
   },
   "file_extension": ".py",
   "mimetype": "text/x-python",
   "name": "python",
   "nbconvert_exporter": "python",
   "pygments_lexer": "ipython3",
   "version": "3.8.3"
  }
 },
 "nbformat": 4,
 "nbformat_minor": 4
}
