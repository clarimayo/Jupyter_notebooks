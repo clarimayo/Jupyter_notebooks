{
 "cells": [
  {
   "cell_type": "markdown",
   "metadata": {},
   "source": [
    "<div style=\"background: #000;\n",
    "            color: #FFF;\n",
    "            margin: 0px;\n",
    "            padding: 10px 0px 20px 0px;\n",
    "            text-align: center; \n",
    "                \">\n",
    "    <h1 >Week 25 Lab</h1>\n",
    "</div>\n",
    "\n",
    "### Open Ended Questions:"
   ]
  },
  {
   "cell_type": "markdown",
   "metadata": {},
   "source": [
    "#### 1. What do you understand by Machine Learning? What does it mean and how does it work?*"
   ]
  },
  {
   "cell_type": "markdown",
   "metadata": {},
   "source": [
    "Machine learning is training or programming a machine to do something based on met conditions. If the model is properly trained and effective it should be able to predict of conduct the behavior we programmed it to do. In supervised learning we feed it training and test data so that next time it encounters similar data, it's able to predict the outcome. **include statistical methods to help predict method. "
   ]
  },
  {
   "cell_type": "markdown",
   "metadata": {},
   "source": [
    "#### 2. What are the different Algorithms techniques in Machine Learning?*"
   ]
  },
  {
   "cell_type": "markdown",
   "metadata": {},
   "source": [
    "The four main algorithms techniques that we can use in machine learning are classification, regression, clustering and hybrids. The firrst two are considered supervised machine learning while the third unsupervised. Making the last one a mix of both. The main differences between the two supervised machine learning techniques (classification and regression) are: regression predicts the output using a given input but in order to do this the data has to be labeled into dependent and independent variables. On the other hand, classification is looking to take the data and group it into specific categories defined by the model. Next we have clustering which is unsupervised which means it will require less training and supervision. Clustering will take a set of data and group it according to similaries with one another. It wil create as many clusters as it is asked to which can be good or back depending on the type of data we have. Lasly, Hybrid will apply when we need to do a mix of both supervised and unsupervised techniques in order to achieve a sucessful model. classification is: **descrite(9clearly defined categories) vs continous(range of numbers). The space in between.  --> score: confience level: % of chance that x predicts y value"
   ]
  },
  {
   "cell_type": "markdown",
   "metadata": {},
   "source": [
    "#### 3. What is the difference between supervised and unsupervised machine learning?*"
   ]
  },
  {
   "cell_type": "markdown",
   "metadata": {},
   "source": [
    "As stated abocve sometimes we need a hybrid of both supervised and unsupervised machine learning but if we need to do just one of them there are clear differences between them. In order to do supervised learning we need to clearly define/label which feature will be the dependent(output) and all the independents (input or inputs). Also there will be human interaction with the model, meaning that if the model need tweeking we must do this manually to find the best model with the least errors. On the other hand, unsupervised learning doesn't need labeling. Instead it uses the algorithm to optimize the clustering until the most similarities between the data are found. "
   ]
  },
  {
   "cell_type": "markdown",
   "metadata": {},
   "source": [
    "#### 4. What is overfitting in machine learning?"
   ]
  },
  {
   "cell_type": "markdown",
   "metadata": {},
   "source": [
    "Overfitting is when we make our model too specific for a data so it only works for that one data and can't apply well to new data and it will give us inaccurate/variance in our outputs. "
   ]
  },
  {
   "cell_type": "markdown",
   "metadata": {},
   "source": [
    "#### 5. What is the difference between classification and regression?"
   ]
  },
  {
   "cell_type": "markdown",
   "metadata": {},
   "source": [
    "The main differences between the two supervised machine learning techniques (classification and regression) are: regression predicts the output using a given input but in order to do this the data has to be labeled into dependent and independent variables. On the other hand, classification is looking to take the data and group it into specific categories defined by the model. Two groups means binary classification, many groups means multi-classification."
   ]
  },
  {
   "cell_type": "markdown",
   "metadata": {},
   "source": [
    "#### 6. In what situations would you use a linear regression? What do you need for a linear regression? Briefly explain the process*"
   ]
  },
  {
   "cell_type": "markdown",
   "metadata": {},
   "source": [
    "Linear regression would be used in the instance where we want to find a correlation between an input and an output. For instance if we wanted to check if there is a correlation between growth of a plant and the amount of water it's given. We might hypothesize that the more water it gets the more it will grow, making growth the dependent variable. We tend to use scatter plots to view the relationship and if we see a \"linear relationship\" then we will go ahead and do a linear regression model on it. First, we will need to label at least one independent variable and only one dependent variable. Using Sklearn we will first split the total sample in 4 groups: 2 test (x and y) and 2 train (x and y). Second we will make a linear regression model. Third, pass the train x data in the linear model and give us a score.Fourth, we will pass our test x data to make y predictions. FInally, we will compare our y predictions to our actuals to find how accurate our model is. "
   ]
  },
  {
   "cell_type": "markdown",
   "metadata": {},
   "source": [
    "#### 7. In what situations would you use a logistic regression? What do you need for a logistic regression? Briefly explain the process"
   ]
  },
  {
   "cell_type": "markdown",
   "metadata": {},
   "source": [
    "I would use logistic regression when we have a binary outcome meaning that there are two possibilities to the outcome we want to predict. For example the possibility of someone passing or failing. The reason it has to be binary it's because the model only produce a 1 or 0 outcome. If we graph the database/csv and notice a sydmoid relationshiop, we will want to explore doing a logictic regression on it. We also have to keep in mind that sometimes the relationship might not be clear in the graph so it might not show a perfect sydmoid graph. The process is very similar to linear regression as it will take the data split it into 4 variables. Next it will make a logistic regression instance form the sklearn library which will run fit on the data using the x_train and y_train to predict the classifications."
   ]
  },
  {
   "cell_type": "markdown",
   "metadata": {},
   "source": [
    "#### 8. What is cross validation? Why is it useful?"
   ]
  },
  {
   "cell_type": "markdown",
   "metadata": {},
   "source": [
    "Cross validation is trying different ways to assign the test and train data.Cross-validation is helpful in predicting the performance of a model and seeing how the model will work for an independent data set. "
   ]
  },
  {
   "cell_type": "markdown",
   "metadata": {},
   "source": [
    "#### 9. Explain the Bias vs. Variance issue and how it affects our machine learning models."
   ]
  },
  {
   "cell_type": "markdown",
   "metadata": {},
   "source": [
    "The Bias-variance tradeoff refers to the process of balancing variability and bias. Variability is an error where our model is too sensitive to minor changes in the training set. This occurs when the model has been overfitted and is only used to our original dataset. On the other hand, Bias is an error caused by incorrect assumptions in our learning algorithm that causes our model to not detect the relationship between features and target outputs. It's difficult to balance both and we ideally sant to choose a model that accurately captures the regularities of our training data but also generalizes well to unseen data."
   ]
  },
  {
   "cell_type": "markdown",
   "metadata": {},
   "source": [
    "#### 10. Explain the sklearn method `test_train_split`. Why do we use it?"
   ]
  },
  {
   "cell_type": "markdown",
   "metadata": {},
   "source": [
    "The method test_train_split from the sklearn library splits the data into 4 variables. It takes an argument test_size that will determine all the sizes of the variables. For example if we start with 100% data of both our dependent and independent variables and specify we want the test_size will be equal to 0.25 the following will happen:\n",
    "\n",
    "1. Test_train_split will take the 100 data and assign 25% to the test variables while setting the remaining 75% to the train variables. This will then be further divided into the two variables of each group.X_test and y_test will get 12.5% each and y_train and x_train will be 37.5% each.\n",
    "This values are very important because they will determine the performance of your model and will be adjusted depending on what type of data you are dealing with, if it has an overfitting or underfitting problem. "
   ]
  },
  {
   "cell_type": "markdown",
   "metadata": {},
   "source": [
    "#### 11. Why do we calculate errors for supervised learning? "
   ]
  },
  {
   "cell_type": "markdown",
   "metadata": {},
   "source": [
    "We want to calculate our errors in order to check if our model accurately describes the relationship between the independent(s) and dependent variable. There are multiple mehtods we can use to calculate the errors but the main thing we are looking to find if the deviance between the actual values and the predicted values. The higher the difference, or the residual, which is the distance between the actual data and the new regression line made by our model, the higher the error will be. "
   ]
  },
  {
   "cell_type": "markdown",
   "metadata": {},
   "source": [
    "#### 12. What is $R^{2}$ and why do we use it to analyze the fitness of our linear regressions?*"
   ]
  },
  {
   "cell_type": "markdown",
   "metadata": {},
   "source": [
    "$R^{2}$ is the score of a linear regression, also known as it's coefficient of determination. It tells us how well our prediction of the dependent variable is if we use a independent variable. If the score is higher than 0.70 it usually means that the line is a good fit for our data. The closer our $R^{2}$ is to zero usually means that our model might not be so accurate at predicting the output. "
   ]
  },
  {
   "cell_type": "markdown",
   "metadata": {},
   "source": [
    "#### 13. Explain what the metrics we use to evaluate the performance of our logistic regressions mean (accuracy, precision, recall). What is a confusion matrix and what does it help us understand?"
   ]
  },
  {
   "cell_type": "markdown",
   "metadata": {},
   "source": [
    "To evaluate if a logistic regression is a good model we look into three values: it's accuracy, precision and recall. The accuracy reflects the values we predicted correctly. Precision is the proportion of positive identifications and recall what proportion of actual positives were identified. \n",
    "If we want to visually identify our results, we plot them in a confusion matrix. This table is composed of 4 values: True positives(we predicted positive and it was positive), True Negative(we predicted negative and it was negative), False positive(we predicted positive and it was negative) and lastly False negative(we. predicted negative and it was positive). By analysing this we can visualize how many we got TP and TN.   "
   ]
  }
 ],
 "metadata": {
  "kernelspec": {
   "display_name": "Python 3",
   "language": "python",
   "name": "python3"
  },
  "language_info": {
   "codemirror_mode": {
    "name": "ipython",
    "version": 3
   },
   "file_extension": ".py",
   "mimetype": "text/x-python",
   "name": "python",
   "nbconvert_exporter": "python",
   "pygments_lexer": "ipython3",
   "version": "3.8.3"
  }
 },
 "nbformat": 4,
 "nbformat_minor": 5
}
