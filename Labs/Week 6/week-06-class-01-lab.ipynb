{
 "cells": [
  {
   "cell_type": "markdown",
   "metadata": {},
   "source": [
    "<div style=\"background: #000;\n",
    "            color: #FFF;\n",
    "            margin: 0px;\n",
    "                padding: 10px 0px 20px 0px;\n",
    "            text-align: center; \n",
    "                \">\n",
    "    <h1>Week 6 - Class 1 - Lab</h1>\n",
    "</div>\n"
   ]
  },
  {
   "cell_type": "markdown",
   "metadata": {},
   "source": [
    "# Question 1\n",
    "\n",
    "What is a class? What is an object? What is the difference? How can we use objects in python?"
   ]
  },
  {
   "cell_type": "code",
   "execution_count": null,
   "metadata": {},
   "outputs": [],
   "source": []
  },
  {
   "cell_type": "markdown",
   "metadata": {},
   "source": [
    "# Execise 1\n",
    "\n",
    "Create a class. Show that the class can be used to create an object."
   ]
  },
  {
   "cell_type": "code",
   "execution_count": 2,
   "metadata": {},
   "outputs": [
    {
     "name": "stdout",
     "output_type": "stream",
     "text": [
      "model: ford, year: 1997\n"
     ]
    }
   ],
   "source": [
    "class car:\n",
    "    model = 'ford'\n",
    "    year = 1997\n",
    "    \n",
    "    def print_car_info(self):\n",
    "        print(f\"model: {self.model}, year: {self.year}\")\n",
    "        \n",
    "new_car = car()\n",
    "new_car.print_car_info()"
   ]
  },
  {
   "cell_type": "markdown",
   "metadata": {},
   "source": [
    "# Exercise 2\n",
    "\n",
    "Create a class including an `__init__` function that initializes some sort of state when objects are created. Demonstrate that the state is initialized."
   ]
  },
  {
   "cell_type": "code",
   "execution_count": 16,
   "metadata": {},
   "outputs": [
    {
     "name": "stdout",
     "output_type": "stream",
     "text": [
      "model: honda, year: 2005\n",
      "model: sedan, year: 1997\n"
     ]
    }
   ],
   "source": [
    "class carWithArg:\n",
    "    def __init__(self, model, year=1997):\n",
    "        self.model = model\n",
    "        self.year = year\n",
    "        \n",
    "    def print_car_info_2(self):\n",
    "        print(f\"model: {self.model}, year: {self.year}\")\n",
    "        \n",
    "michael_car = carWithArg(\"honda\", 2005)\n",
    "my_car = carWithArg(\"sedan\")\n",
    "\n",
    "michael_car.print_car_info_2()\n",
    "\n",
    "my_car.print_car_info_2()"
   ]
  },
  {
   "cell_type": "markdown",
   "metadata": {},
   "source": [
    "# Exercise 3\n",
    "\n",
    "Building on our point example, add code to alter the class to store three values `x`, `y`, and `z`. Bonus if you're able to implement the distance method for this new class."
   ]
  },
  {
   "cell_type": "code",
   "execution_count": 15,
   "metadata": {},
   "outputs": [
    {
     "name": "stdout",
     "output_type": "stream",
     "text": [
      "5.385164807134504\n",
      "distance formula is: ((x1-x2)**2)+((y1-y2)**2) + ((z1-z2)**2) **0.5)\n"
     ]
    }
   ],
   "source": [
    "class Point:\n",
    "    def __init__(self, x, y,z):\n",
    "        self.x = x\n",
    "        self.y = y\n",
    "        self.z = z\n",
    "        \n",
    "    @staticmethod\n",
    "    def distance_formula():\n",
    "        return \"distance formula is: ((x1-x2)**2)+((y1-y2)**2) + ((z1-z2)**2) **0.5)\"   \n",
    "    \n",
    "    def print_coords(self):        \n",
    "            print(f\"x : {self.x}, y: {self.y}, z:{self.z}\")\n",
    "            print(f\"x : {other_point.x}, y: {other_point.y}, z:{other_point.z}\")\n",
    "            # we want to create a method that calculates distance\n",
    "            # between one point and another\n",
    "\n",
    "    def calculate_distance(self, other_point):\n",
    "        #if type(other_point) == Point:\n",
    "        if isinstance(other_point, Point):            \n",
    "            return ((other_point.x - self.x)**2 + (other_point.y - self.y)**2 + (other_point.z - self.z)**2)**0.5\n",
    "        else:            \n",
    "            print(\"other point is not a point\")\n",
    "\n",
    "p = Point(2, 3,5) \n",
    "q = Point(5,7,3)\n",
    "print(q.calculate_distance(p))  \n",
    "\n",
    "print(Point.distance_formula())"
   ]
  },
  {
   "cell_type": "markdown",
   "metadata": {},
   "source": [
    "# Exercise 4\n",
    "\n",
    "Create an example of a class that uses either `@staticmethod` or `@classmethod`"
   ]
  },
  {
   "cell_type": "code",
   "execution_count": null,
   "metadata": {},
   "outputs": [],
   "source": [
    "class ccallr():\n",
    "    def __init__(self,car,color,model):\n",
    "        self.car = car\n",
    "        self.color = color\n",
    "        self.model = model\n",
    "        \n",
    "    @staticmethod\n",
    "    def retailer_\n",
    "    \n",
    "\n"
   ]
  },
  {
   "cell_type": "markdown",
   "metadata": {},
   "source": [
    "# Exercise 5\n",
    "\n",
    "Create an object called `Student` with attributes that store the `first_name`, `last_name`, and `age` of the student. Also create an attribute `hw_grades` that stores hw grades depending on how you think it might be stored. Create methods that prints the full name of the student, adds grades to the attribute`hw_grades` and even calculates the average hw grade. Use additional attributes and methods if needed.\n",
    "\n",
    "Demonstrate that your code works by creating an instance of the class and storing the requisite information."
   ]
  },
  {
   "cell_type": "code",
   "execution_count": null,
   "metadata": {},
   "outputs": [],
   "source": []
  }
 ],
 "metadata": {
  "kernelspec": {
   "display_name": "Python 3",
   "language": "python",
   "name": "python3"
  },
  "language_info": {
   "codemirror_mode": {
    "name": "ipython",
    "version": 3
   },
   "file_extension": ".py",
   "mimetype": "text/x-python",
   "name": "python",
   "nbconvert_exporter": "python",
   "pygments_lexer": "ipython3",
   "version": "3.8.3"
  }
 },
 "nbformat": 4,
 "nbformat_minor": 4
}
