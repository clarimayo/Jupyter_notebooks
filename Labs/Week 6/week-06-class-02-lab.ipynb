{
 "cells": [
  {
   "cell_type": "markdown",
   "metadata": {},
   "source": [
    "<div style=\"background: #000;\n",
    "            color: #FFF;\n",
    "            margin: 0px;\n",
    "                padding: 10px 0px 20px 0px;\n",
    "            text-align: center; \n",
    "                \">\n",
    "    <h1>Week 06 - Class 02 - Lab</h1>\n",
    "</div>\n"
   ]
  },
  {
   "cell_type": "markdown",
   "metadata": {},
   "source": [
    "## Question 1:\n",
    "    \n",
    "Explain one of the dunder methods describing what it does, how it works and why we might need to use it."
   ]
  },
  {
   "cell_type": "markdown",
   "metadata": {},
   "source": [
    "The __init__ dunder method is used to initialize an instance of a class which is also refered as an object.This method allows the object to initialize the attributes and other functions that are inside the class and be able to call on them later. Anytime we want to create a __init__ function we will pass self(the instance) and the arguments or keyword arguments we want to define as attributes of the class.\n",
    "\n",
    "The format we follow to create an instance is: \n",
    "\n",
    "class ClassName:\n",
    "    \n",
    "    def __init__(self,args):\n",
    "        \n",
    "        self.args = args\n",
    "\n",
    "instance_name = ClassName(args= \"value\")"
   ]
  },
  {
   "cell_type": "markdown",
   "metadata": {},
   "source": [
    "## Exercise 1:\n",
    "\n",
    "Create a class called `Employee`, add in attributes and methods you think would be associated with an employee. Use at least 2 attributes and 2 methods (not including the `__init__` method you'll create as well)."
   ]
  },
  {
   "cell_type": "code",
   "execution_count": 1,
   "metadata": {},
   "outputs": [
    {
     "name": "stdout",
     "output_type": "stream",
     "text": [
      "employee's name: Mark, position: Vicepresident and employee id: 1232434\n",
      "Mark worked 35 hours this week\n"
     ]
    }
   ],
   "source": [
    "class Employee:\n",
    "    def __init__(self, name=None, title=None, employeeid=None, hours=None):\n",
    "        self.name = name\n",
    "        self.title = title\n",
    "        self.employeeid = employeeid\n",
    "        self.hours = hours\n",
    "        \n",
    "    def name_tag(self):\n",
    "        print(f\"employee's name: {self.name}, position: {self.title} and employee id: {self.employeeid}\")\n",
    "        \n",
    "    def clock_in_card(self):\n",
    "        print(f\"{self.name} worked {self.hours} hours this week\")\n",
    "        \n",
    "employee1 = Employee(\"Mark\", \"Vicepresident\", 1232434, 35)\n",
    "\n",
    "employee1.name_tag()\n",
    "\n",
    "employee1.clock_in_card()"
   ]
  },
  {
   "cell_type": "markdown",
   "metadata": {},
   "source": [
    "## Exercise 2:\n",
    "\n",
    "Create a class called `Paper` with the `content`, `length`, `width`, `margin`, `print_layout` (landscape or portrait) and `doublesided` (boolean value) as attributes. Provide methods that allow us to change those attributes."
   ]
  },
  {
   "cell_type": "code",
   "execution_count": 4,
   "metadata": {},
   "outputs": [
    {
     "name": "stdout",
     "output_type": "stream",
     "text": [
      "landscape\n",
      "portrait\n",
      "please select from landscape or portrait options only\n"
     ]
    }
   ],
   "source": [
    "class Paper:        \n",
    "    def __init__(self, content=None, length=None, width=None, margin=None,print_layout=\"landscape\",\n",
    "                 doublesided= True):\n",
    "        self.content = content\n",
    "        self.length = length\n",
    "        self.width = width\n",
    "        self.margin = margin\n",
    "        self.print_layout = print_layout\n",
    "        self.doublesided = doublesided\n",
    "        \n",
    "    def paper_surface_area(self):\n",
    "        return self.width * self.length\n",
    "    \n",
    "    def get_print_layout(self):\n",
    "        return self.print_layout\n",
    "    \n",
    "    def set_print_layout(self, new_print_layout):\n",
    "        if new_print_layout == \"portrait\":\n",
    "            self.print_layout = new_print_layout   \n",
    "        else: \n",
    "            print(f\"please select from landscape or portrait options only\")\n",
    "          \n",
    "        \n",
    "paper_2 = Paper()\n",
    "print(paper_2.print_layout)   #original value of print_layout\n",
    "paper_2.set_print_layout(\"portrait\")   #calling the function and plugging in the new value\n",
    "print(paper_2.print_layout)   #changed value of print_layout\n",
    "paper_2.set_print_layout(\"another value\") "
   ]
  },
  {
   "cell_type": "markdown",
   "metadata": {},
   "source": [
    "## Exercise 3\n",
    "\n",
    "Create a class called `Printer` that implements a queue. You should be able to store `Paper` objects in this queue so provide methods that add instances of `Paper` to the `Printer`'s queue and a toy method that \"prints\" `n` amount of \"jobs\" from the queue at a time. Demonstrate that this code works."
   ]
  },
  {
   "cell_type": "code",
   "execution_count": 14,
   "metadata": {},
   "outputs": [
    {
     "name": "stdout",
     "output_type": "stream",
     "text": [
      "[<__main__.Paper object at 0x7ff11a243d00>, <__main__.Paper object at 0x7ff11a20ef70>, <__main__.Paper object at 0x7ff11a2f1f70>, <__main__.Paper object at 0x7ff11a20eb50>, <__main__.Paper object at 0x7ff11a2f1f40>, <__main__.Paper object at 0x7ff11a2f1fa0>]\n",
      "portrait\n",
      "the paper printout is: content: None,length: None,width: None,margin: None,print_layout: portrait,doublesided: True\n",
      "the paper printout is: content: None,length: None,width: None,margin: None,print_layout: landscape,doublesided: True\n",
      "4\n"
     ]
    }
   ],
   "source": [
    "class Printer():\n",
    "    def __init__(self,queue = []):\n",
    "        self.queue = queue\n",
    "#storing paper objects to queue        \n",
    "    def storing_papers(self,paper_objs):\n",
    "        self.queue.append(paper_objs)\n",
    "        \n",
    "    def print_first_job(self):\n",
    "        print(f\"the paper printout is: content: {self.queue[0].content},length: {self.queue[0].length},\\\n",
    "width: {self.queue[0].width},margin: {self.queue[0].margin},print_layout: {self.queue[0].print_layout},\\\n",
    "doublesided: {self.queue[0].doublesided}\")\n",
    "        del self.queue[0]\n",
    "        \n",
    "    def print_number_jobs(self, n):\n",
    "        for i in range(n):\n",
    "            self.print_first_job()\n",
    "        \n",
    "new_printer = Printer()\n",
    "paper_3 = Paper()\n",
    "paper_4 = Paper()\n",
    "paper_5 = Paper()\n",
    "paper_6 = Paper()\n",
    "paper_7 = Paper()\n",
    "#storing paper instances to printer\n",
    "new_printer.storing_papers(paper_2)\n",
    "new_printer.storing_papers(paper_3)\n",
    "new_printer.storing_papers(paper_4)\n",
    "new_printer.storing_papers(paper_5)\n",
    "new_printer.storing_papers(paper_6)\n",
    "new_printer.storing_papers(paper_7)\n",
    "#checking what is inside queue\n",
    "print(new_printer.queue)\n",
    "print(new_printer.queue[0].print_layout)\n",
    "# new_printer.print_first_job()\n",
    "#printing n amount of jobs\n",
    "new_printer.print_number_jobs(2)\n",
    "print(len(new_printer.queue))"
   ]
  },
  {
   "cell_type": "markdown",
   "metadata": {},
   "source": [
    "## Exercise 4:\n",
    "    \n",
    "Create a class called `Square` that overloads the addition operator by adding the area of two squares. You will need at least an attribute for length, a method for calculating area and the overloaded `+` operator method.\n",
    "\n",
    "e.g. `Square(3) + Square(4) == 25`"
   ]
  },
  {
   "cell_type": "code",
   "execution_count": 9,
   "metadata": {},
   "outputs": [
    {
     "name": "stdout",
     "output_type": "stream",
     "text": [
      "49\n",
      "the sum of the areas of the two squares is: 130\n",
      "130\n"
     ]
    }
   ],
   "source": [
    "class Square:\n",
    "    def __init__(self, side_value):\n",
    "        self.side_value = side_value\n",
    "    \n",
    "    def square_area(self):\n",
    "        print (self.side_value * self.side_value)\n",
    "        return self.side_value*self.side_value\n",
    "        \n",
    "    def __add__(self, other):\n",
    "        if isinstance(other, Square):\n",
    "            print(f\"the sum of the areas of the two squares is: {self.side_value*self.side_value + other.side_value*other.side_value}\")\n",
    "            return (self.side_value*self.side_value) + (other.side_value*other.side_value)\n",
    "        else:            \n",
    "            print(\"other point is not a point\")\n",
    "    \n",
    "    def __repr__(self, other):\n",
    "        return f\"Sum of Area({self.side_value*self.side_value}) + ({other.side_value*other.side_value})\"\n",
    "    \n",
    "    def __str__(self, other):\n",
    "        return f\"Area first_square: {self.side_value*self.side_value} second_square: {other.side_value*other.side_value}\"   \n",
    "    \n",
    "first_square = Square(7)\n",
    "second_square = Square(9)\n",
    "\n",
    "first_square.square_area()\n",
    "print(first_square + second_square)"
   ]
  },
  {
   "cell_type": "code",
   "execution_count": 10,
   "metadata": {},
   "outputs": [
    {
     "name": "stdout",
     "output_type": "stream",
     "text": [
      "the sum of the areas of the two squares is: 25\n"
     ]
    },
    {
     "data": {
      "text/plain": [
       "25"
      ]
     },
     "execution_count": 10,
     "metadata": {},
     "output_type": "execute_result"
    }
   ],
   "source": [
    "Square(3) + Square(4)"
   ]
  },
  {
   "cell_type": "code",
   "execution_count": null,
   "metadata": {},
   "outputs": [],
   "source": []
  }
 ],
 "metadata": {
  "kernelspec": {
   "display_name": "Python 3",
   "language": "python",
   "name": "python3"
  },
  "language_info": {
   "codemirror_mode": {
    "name": "ipython",
    "version": 3
   },
   "file_extension": ".py",
   "mimetype": "text/x-python",
   "name": "python",
   "nbconvert_exporter": "python",
   "pygments_lexer": "ipython3",
   "version": "3.8.3"
  }
 },
 "nbformat": 4,
 "nbformat_minor": 4
}
