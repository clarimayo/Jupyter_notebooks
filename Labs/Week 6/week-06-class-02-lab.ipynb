{
 "cells": [
  {
   "cell_type": "markdown",
   "metadata": {},
   "source": [
    "<div style=\"background: #000;\n",
    "            color: #FFF;\n",
    "            margin: 0px;\n",
    "                padding: 10px 0px 20px 0px;\n",
    "            text-align: center; \n",
    "                \">\n",
    "    <h1>Week 6 - Class 2 - Lab</h1>\n",
    "</div>\n"
   ]
  },
  {
   "cell_type": "markdown",
   "metadata": {},
   "source": [
    "## Question 1:\n",
    "    \n",
    "Explain one of the dunder methods describing what it does, how it works and why we might need to use it."
   ]
  },
  {
   "cell_type": "markdown",
   "metadata": {},
   "source": [
    "The __init__ dunder method is used to \n",
    "This method is called when an object is created from a class and it allows the class to initialize the attributes of the class. When we "
   ]
  },
  {
   "cell_type": "markdown",
   "metadata": {},
   "source": [
    "## Exercise 1:\n",
    "\n",
    "Create a class called `Employee`, add in attributes and methods you think would be associated with an employee. Use at least 2 attributes and 2 methods (not including the `__init__` method you'll create as well)."
   ]
  },
  {
   "cell_type": "code",
   "execution_count": 11,
   "metadata": {},
   "outputs": [
    {
     "name": "stdout",
     "output_type": "stream",
     "text": [
      "employee's name: Mark, position: Vicepresident and employee id: 1232434\n",
      "Mark worked 35 hours this week\n"
     ]
    }
   ],
   "source": [
    "class Employee:\n",
    "    def __init__(self, name=None, title=None, employeeid=None, hours=None):\n",
    "        self.name = name\n",
    "        self.title = title\n",
    "        self.employeeid = employeeid\n",
    "        self.hours = hours\n",
    "        \n",
    "    def name_tag(self):\n",
    "        print(f\"employee's name: {self.name}, position: {self.title} and employee id: {self.employeeid}\")\n",
    "        \n",
    "    def clock_in_card(self):\n",
    "        print(f\"{self.name} worked {self.hours} hours this week\")\n",
    "        \n",
    "employee1 = Employee(\"Mark\", \"Vicepresident\", 1232434, 35)\n",
    "\n",
    "employee1.name_tag()\n",
    "\n",
    "employee1.clock_in_card()"
   ]
  },
  {
   "cell_type": "markdown",
   "metadata": {},
   "source": [
    "## Exercise 2:\n",
    "\n",
    "Create a class called `Paper` with the `content`, `length`, `width`, `margin`, `print_layout` (landscape or portrait) and `doublesided` (boolean value) as attributes. Provide methods that allow us to change those attributes."
   ]
  },
  {
   "cell_type": "code",
   "execution_count": 43,
   "metadata": {},
   "outputs": [
    {
     "name": "stdout",
     "output_type": "stream",
     "text": [
      "landscape\n",
      "portrait\n"
     ]
    }
   ],
   "source": [
    "class Paper:        \n",
    "    def __init__(self, content=None, length=None, width=None, margin=None,print_layout=\"landscape\",\n",
    "                 doublesided= True):\n",
    "        self.content = content\n",
    "        self.length = length\n",
    "        self.width = width\n",
    "        self.margin = margin\n",
    "        self.print_layout = print_layout\n",
    "        self.doublesided = doublesided\n",
    "        \n",
    "    def paper_surface_area(self):\n",
    "        return self.width * self.length\n",
    "    \n",
    "    def get_print_layout(self):\n",
    "        return self.print_layout\n",
    "    \n",
    "    def set_print_layout(self, new_print_layout):\n",
    "        if type(new_print_layout) == str:\n",
    "            self.print_layout = new_print_layout           \n",
    "\n",
    "            \n",
    "paper_2 = Paper()\n",
    "print(paper_2.print_layout)\n",
    "paper_2.set_print_layout(\"portrait\")\n",
    "print(paper_2.print_layout)"
   ]
  },
  {
   "cell_type": "markdown",
   "metadata": {},
   "source": [
    "## Exercise 3\n",
    "\n",
    "Create a class called `Printer` that implements a queue. You should be able to store `Paper` objects in this queue so provide methods that add instances of `Paper` to the `Printer`'s queue and a toy method that \"prints\" `n` amount of \"jobs\" from the queue at a time. Demonstrate that this code works."
   ]
  },
  {
   "cell_type": "code",
   "execution_count": null,
   "metadata": {},
   "outputs": [],
   "source": [
    "class Printer:\n",
    "    def __init__(self, queue):\n",
    "    self.queue = queue\n",
    "    \n",
    "    return Paper()  \n",
    "    "
   ]
  },
  {
   "cell_type": "markdown",
   "metadata": {},
   "source": [
    "## Exercise 4:\n",
    "    \n",
    "Create a class called `Square` that overloads the addition operator by adding the area of two squares. You will need at least an attribute for length, a method for calculating area and the overloaded `+` operator method.\n",
    "\n",
    "e.g. `Square(3) + Square(4) == 25`"
   ]
  },
  {
   "cell_type": "code",
   "execution_count": 34,
   "metadata": {},
   "outputs": [
    {
     "name": "stdout",
     "output_type": "stream",
     "text": [
      "49\n",
      "the sum of the areas of the two squares is: 130\n",
      "130\n"
     ]
    }
   ],
   "source": [
    "class Square:\n",
    "    def __init__(self, side_value):\n",
    "        self.side_value = side_value\n",
    "    \n",
    "    def square_area(self):\n",
    "        print (self.side_value * self.side_value)\n",
    "        return self.side_value*self.side_value\n",
    "        \n",
    "    def __add__(self, other):\n",
    "        if isinstance(other, Square):\n",
    "            print(f\"the sum of the areas of the two squares is: {self.side_value*self.side_value + other.side_value*other.side_value}\")\n",
    "            return (self.side_value*self.side_value) + (other.side_value*other.side_value)\n",
    "        else:            \n",
    "            print(\"other point is not a point\")\n",
    "    \n",
    "    def __repr__(self, other):\n",
    "        return f\"Sum of Area({self.side_value*self.side_value}) + ({other.side_value*other.side_value})\"\n",
    "    \n",
    "    def __str__(self, other):\n",
    "        return f\"Area first_square: {self.side_value*self.side_value} second_square: {other.side_value*other.side_value}\"   \n",
    "    \n",
    "first_square = Square(7)\n",
    "second_square = Square(9)\n",
    "\n",
    "first_square.square_area()\n",
    "print(first_square + second_square)"
   ]
  },
  {
   "cell_type": "code",
   "execution_count": 19,
   "metadata": {},
   "outputs": [
    {
     "data": {
      "text/plain": [
       "25"
      ]
     },
     "execution_count": 19,
     "metadata": {},
     "output_type": "execute_result"
    }
   ],
   "source": [
    "Square(3) + Square(4)"
   ]
  },
  {
   "cell_type": "code",
   "execution_count": null,
   "metadata": {},
   "outputs": [],
   "source": []
  }
 ],
 "metadata": {
  "kernelspec": {
   "display_name": "Python 3",
   "language": "python",
   "name": "python3"
  },
  "language_info": {
   "codemirror_mode": {
    "name": "ipython",
    "version": 3
   },
   "file_extension": ".py",
   "mimetype": "text/x-python",
   "name": "python",
   "nbconvert_exporter": "python",
   "pygments_lexer": "ipython3",
   "version": "3.8.3"
  }
 },
 "nbformat": 4,
 "nbformat_minor": 4
}
