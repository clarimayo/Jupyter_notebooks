{
 "cells": [
  {
   "cell_type": "markdown",
   "metadata": {},
   "source": [
    "<div style=\"background: #000;\n",
    "            color: #FFF;\n",
    "            margin: 0px;\n",
    "                padding: 10px 0px 20px 0px;\n",
    "            text-align: center; \n",
    "                \">\n",
    "    <h1>Lab</h1>\n",
    "</div>\n"
   ]
  },
  {
   "cell_type": "markdown",
   "metadata": {},
   "source": [
    "# Question 1\n",
    "\n",
    "What is object inheritance? What does it mean for a class instance to inherit another? How can this be useful in our programming?"
   ]
  },
  {
   "cell_type": "markdown",
   "metadata": {},
   "source": [
    "Object inheritance is when an instance is created from a class that shares methods and atributes from another class. The origin class will be the \"parental\" class and will have the more general attributes. For example: a class that describes a person will have a general idea of what a person is and what it does. If we create another class that inherits from this class- for example, a student. The student is also a person but it has more specific functions and wualities such as having an attribute for grade. Being able to associate one class with another is very useful because we can call the attributes they share and be able to compare them or act upon both of them with one method. "
   ]
  },
  {
   "cell_type": "markdown",
   "metadata": {},
   "source": [
    "# Exercise 1 \n",
    "\n",
    "Create a class that uses `@property` with the associated `setter` and `deleter` methods."
   ]
  },
  {
   "cell_type": "code",
   "execution_count": 2,
   "metadata": {},
   "outputs": [
    {
     "ename": "AttributeError",
     "evalue": "'FullAddress' object has no attribute 'house_number'",
     "output_type": "error",
     "traceback": [
      "\u001b[0;31m---------------------------------------------------------------------------\u001b[0m",
      "\u001b[0;31mAttributeError\u001b[0m                            Traceback (most recent call last)",
      "\u001b[0;32m<ipython-input-2-2a36968b0713>\u001b[0m in \u001b[0;36m<module>\u001b[0;34m\u001b[0m\n\u001b[1;32m     30\u001b[0m \u001b[0;32mdel\u001b[0m \u001b[0mwork_address\u001b[0m\u001b[0;34m.\u001b[0m\u001b[0maddress\u001b[0m\u001b[0;34m\u001b[0m\u001b[0;34m\u001b[0m\u001b[0m\n\u001b[1;32m     31\u001b[0m \u001b[0;34m\u001b[0m\u001b[0m\n\u001b[0;32m---> 32\u001b[0;31m \u001b[0mwork_address\u001b[0m\u001b[0;34m.\u001b[0m\u001b[0maddress\u001b[0m\u001b[0;34m\u001b[0m\u001b[0;34m\u001b[0m\u001b[0m\n\u001b[0m\u001b[1;32m     33\u001b[0m \u001b[0;31m# work_address.zip_code\u001b[0m\u001b[0;34m\u001b[0m\u001b[0;34m\u001b[0m\u001b[0;34m\u001b[0m\u001b[0m\n\u001b[1;32m     34\u001b[0m \u001b[0;34m\u001b[0m\u001b[0m\n",
      "\u001b[0;32m<ipython-input-2-2a36968b0713>\u001b[0m in \u001b[0;36maddress\u001b[0;34m(self)\u001b[0m\n\u001b[1;32m      9\u001b[0m     \u001b[0;34m@\u001b[0m\u001b[0mproperty\u001b[0m\u001b[0;34m\u001b[0m\u001b[0;34m\u001b[0m\u001b[0m\n\u001b[1;32m     10\u001b[0m     \u001b[0;32mdef\u001b[0m \u001b[0maddress\u001b[0m\u001b[0;34m(\u001b[0m\u001b[0mself\u001b[0m\u001b[0;34m)\u001b[0m\u001b[0;34m:\u001b[0m\u001b[0;34m\u001b[0m\u001b[0;34m\u001b[0m\u001b[0m\n\u001b[0;32m---> 11\u001b[0;31m         \u001b[0;32mreturn\u001b[0m \u001b[0;34mf\"{self.house_number} {self.street_name} {self.city} {self.state} {self.zip_code}\"\u001b[0m\u001b[0;34m\u001b[0m\u001b[0;34m\u001b[0m\u001b[0m\n\u001b[0m\u001b[1;32m     12\u001b[0m \u001b[0;34m\u001b[0m\u001b[0m\n\u001b[1;32m     13\u001b[0m     \u001b[0;34m@\u001b[0m\u001b[0maddress\u001b[0m\u001b[0;34m.\u001b[0m\u001b[0msetter\u001b[0m\u001b[0;34m\u001b[0m\u001b[0;34m\u001b[0m\u001b[0m\n",
      "\u001b[0;31mAttributeError\u001b[0m: 'FullAddress' object has no attribute 'house_number'"
     ]
    }
   ],
   "source": [
    "class FullAddress:\n",
    "    def __init__(self, house_number, street_name, city, state, zip_code):\n",
    "        self.house_number = house_number\n",
    "        self.street_name= street_name\n",
    "        self.city = city\n",
    "        self.state = state\n",
    "        self.zip_code = zip_code          \n",
    "            \n",
    "    @property\n",
    "    def address(self):\n",
    "        return f\"{self.house_number} {self.street_name} {self.city} {self.state} {self.zip_code}\"\n",
    "        \n",
    "    @address.setter\n",
    "    def address(self, fulladdress):\n",
    "        self.house_number, self.street_name, self.city, self.state, self.zip_code  = fulladdress.split(' ')\n",
    "        \n",
    "    @address.deleter\n",
    "    def address(self):\n",
    "        del self.zip_code\n",
    "        del self.state\n",
    "        del self.street_name\n",
    "        del self.house_number\n",
    "\n",
    "work_address = FullAddress(\"35\", \"Broadway\",\"Astoria\", \"NY\", \"11102\")\n",
    "\n",
    "work_address.address = \"8325 37thAve Brooklyn NY 11372\"\n",
    "\n",
    "work_address.zip_code\n",
    "\n",
    "del work_address.address\n",
    "\n",
    "work_address.address\n",
    "# work_address.zip_code\n",
    "\n",
    "# work_address.address = \"8337 37thAve Brooklyn NY 11372\"\n",
    "\n",
    "# work_address.address"
   ]
  },
  {
   "cell_type": "markdown",
   "metadata": {},
   "source": [
    "# Exercise 2\n",
    "\n",
    "Using the following class, overload the `+` operator so when the two instances are added, the salaries are added and the sum is outputted. Also override the `__repr__` method so you can output a string that will create the same exact class (`\"Employee(**insert correct values here**)\"`)"
   ]
  },
  {
   "cell_type": "code",
   "execution_count": 8,
   "metadata": {},
   "outputs": [
    {
     "data": {
      "text/plain": [
       "Employee(Anil,100001)"
      ]
     },
     "execution_count": 8,
     "metadata": {},
     "output_type": "execute_result"
    }
   ],
   "source": [
    "class Employee:\n",
    "    def __init__(self, name, salary):\n",
    "        self.name = name\n",
    "        self.salary = salary\n",
    "        \n",
    "    def __add__(self, other):\n",
    "        if isinstance(other, Employee):\n",
    "            return self.salary + other.salary\n",
    "        \n",
    "    def __repr__(self):\n",
    "        return f\"Employee({self.name},{self.salary})\"\n",
    "\n",
    "first_employee = Employee(\"Anil\", 100001)\n",
    "second_employee = Employee(\"Malcolm\", 90001)\n",
    "first_employee + second_employee\n",
    "first_employee"
   ]
  },
  {
   "cell_type": "markdown",
   "metadata": {},
   "source": [
    "# Exercise 3:\n",
    "\n",
    "Create a class called `Store`, create an attribute called `inventory` that holds the product name as key and an int representing the count/number of that product as the value. \n",
    "\n",
    "Create a method that decrements from the product's count each time a specific product is purchased. Create a least one addtional method to help your class simulate a store (e.g. a method that lists the products for sale could be one). Also consider how you might want to add products to the store via the `__init__` method and later when the instance has already been created.\n",
    "\n",
    "When you're finished, create an instance of `Store` and demonstrate that your methods/code work. Bonus points for addtional methods/functionality."
   ]
  },
  {
   "cell_type": "code",
   "execution_count": 50,
   "metadata": {},
   "outputs": [
    {
     "name": "stdout",
     "output_type": "stream",
     "text": [
      "{'sneakers': 5, 'stilettos': 10, 'flats': 25}\n",
      "{'sneakers': 4, 'stilettos': 10, 'flats': 25}\n",
      "The products for sale are: ['sneakers', 'stilettos', 'flats']\n",
      "{'sneakers': 4, 'stilettos': 10, 'flats': 25, 'boots': 5}\n"
     ]
    }
   ],
   "source": [
    "class Store:\n",
    "    def __init__(self, inventory):  #constructor method\n",
    "        self.inventory = inventory\n",
    "            \n",
    "    def decrement_product(self,product):\n",
    "        self.inventory[product] -= 1  \n",
    "        \n",
    "    def list_product(self):\n",
    "        print(f\"The products for sale are: {list(self.inventory.keys())}\")\n",
    "    \n",
    "    def add_product(self,new_product,new_value):\n",
    "        if type(new_product) == str and type(new_value)==int:\n",
    "            self.inventory[new_product] = new_value\n",
    "\n",
    "second_store = Store({\"sneakers\":5, \"stilettos\":10, \"flats\":25})\n",
    "print(second_store.inventory)\n",
    "\n",
    "second_store.decrement_product(\"sneakers\")\n",
    "print(second_store.inventory)\n",
    "\n",
    "second_store.list_product()\n",
    "second_store.add_product(\"boots\", 5)\n",
    "\n",
    "print(second_store.inventory)"
   ]
  },
  {
   "cell_type": "markdown",
   "metadata": {},
   "source": [
    "# Exercise 4:\n",
    "\n",
    "Create two classes. One that acts as a parent class and the other that acts as a child class that inherits from the parent. Create a method of the child class that uses attributes from the parent class. Demonstrate your code works by creating an instance of the child class and showing that the method works."
   ]
  },
  {
   "cell_type": "code",
   "execution_count": 1,
   "metadata": {},
   "outputs": [
    {
     "name": "stdout",
     "output_type": "stream",
     "text": [
      "melo learned manners and science from Prof. Lopez\n",
      "science\n"
     ]
    },
    {
     "data": {
      "text/plain": [
       "{'student': 'melo',\n",
       " 'lessons': ('manners', 'science'),\n",
       " 'teacher': 'Prof. Lopez'}"
      ]
     },
     "execution_count": 1,
     "metadata": {},
     "output_type": "execute_result"
    }
   ],
   "source": [
    "class Teacher:\n",
    "        name_teacher = \"Prof. Lopez\"\n",
    "        knowledge = \"science\"\n",
    "        etiquette = \"manners\"\n",
    "        \n",
    "class Student(Teacher):\n",
    "    def __init__(self,name_student):\n",
    "        self.name_student = name_student\n",
    "        \n",
    "    def teacher_lessons(self):\n",
    "        print(f\"{self.name_student} learned {self.etiquette} and {self.knowledge} from {self.name_teacher}\")\n",
    "        \n",
    "    def __repr__(self):\n",
    "        return {\"student\":self.name_student,\"lessons\":(self.etiquette,self.knowledge), \"teacher\": self.name_teacher}\n",
    "    \n",
    "    def __str__(self):\n",
    "        return f\"{self.name_student} learned {self.etiquette} and {self.knowledge} from {self.name_teacher}\"\n",
    "\n",
    "second_student = Student(\"melo\")\n",
    "second_student.teacher_lessons()\n",
    "\n",
    "print(second_student.knowledge)\n",
    "second_student.__repr__()\n",
    "\n",
    "\n",
    "#person class : teacher & student both inherit from\n"
   ]
  },
  {
   "cell_type": "code",
   "execution_count": null,
   "metadata": {},
   "outputs": [],
   "source": []
  }
 ],
 "metadata": {
  "kernelspec": {
   "display_name": "Python 3",
   "language": "python",
   "name": "python3"
  },
  "language_info": {
   "codemirror_mode": {
    "name": "ipython",
    "version": 3
   },
   "file_extension": ".py",
   "mimetype": "text/x-python",
   "name": "python",
   "nbconvert_exporter": "python",
   "pygments_lexer": "ipython3",
   "version": "3.8.3"
  }
 },
 "nbformat": 4,
 "nbformat_minor": 4
}
