{
 "cells": [
  {
   "cell_type": "markdown",
   "metadata": {},
   "source": [
    "<div style=\"background: #000;\n",
    "            color: #FFF;\n",
    "            margin: 0px;\n",
    "                padding: 10px 0px 20px 0px;\n",
    "            text-align: center; \n",
    "                \">\n",
    "    <h1>Week 8 - Class 2 - Lab</h1>\n",
    "</div>\n"
   ]
  },
  {
   "cell_type": "markdown",
   "metadata": {},
   "source": [
    "# Question 1:\n",
    "    \n",
    "In your own words, why might we need both crawling and scraping in a piece of code?"
   ]
  },
  {
   "cell_type": "raw",
   "metadata": {},
   "source": [
    "Web scraping is a process of automating the extraction of data in an efficient and fast way. With the help of web scraping, you can extract data from any website, no matter how large is the data, on your computer. creates easy access to the scrapped data by providing it in a CSV format. It’s a programmatic analysis of a web page to download information from it. It does not copy and paste but directly fetches the data in a precise and accurate manner. It does not limit itself to the web; data can be scraped virtually from anywhere it is stored. It does. \n",
    "**crawling: getting there/searching\n"
   ]
  },
  {
   "cell_type": "markdown",
   "metadata": {},
   "source": [
    "# Exercise 1:\n",
    "\n",
    "Write the code that accesses the h3 tag in the following html."
   ]
  },
  {
   "cell_type": "code",
   "execution_count": 3,
   "metadata": {},
   "outputs": [
    {
     "data": {
      "text/plain": [
       "[<h3>tag line</h3>]"
      ]
     },
     "execution_count": 3,
     "metadata": {},
     "output_type": "execute_result"
    }
   ],
   "source": [
    "from bs4 import BeautifulSoup\n",
    "\n",
    "html = \\\n",
    "\"\"\"\n",
    "<html>\n",
    "  <head>\n",
    "    <title>our webpage</title>\n",
    "  </head>\n",
    "  <body>\n",
    "    <header>\n",
    "      <h1>hello world</h1>\n",
    "      <div>\n",
    "        <h3>tag line</h3>\n",
    "      </div>\n",
    "    </header>\n",
    "    <p>paragraph</p>\n",
    "    <ul>\n",
    "      <li><a href='#' id='link1'>link 1</a></li>\n",
    "      <li><a href='#' id='link2'>link 2</a></li>\n",
    "      <li><a href='#' id='link3'>link 3</a></li>\n",
    "    </ul>\n",
    "  </body>\n",
    "</html>\n",
    "\"\"\"\n",
    "\n",
    "# write your code below:\n",
    "soup = BeautifulSoup(html)\n",
    "h3 = soup.findAll('h3') # will return a list of all the h3 tags\n",
    "h3"
   ]
  },
  {
   "cell_type": "markdown",
   "metadata": {},
   "source": [
    "# Exercise 2\n",
    "\n",
    "Create a function that will take a list of web pages and return a list of all the anchor tags on those pages."
   ]
  },
  {
   "cell_type": "code",
   "execution_count": 1,
   "metadata": {},
   "outputs": [],
   "source": [
    "import requests\n",
    "from bs4 import BeautifulSoup\n",
    "\n",
    "class AnchorTags: \n",
    "    def __init__(self,url_list):\n",
    "        self.url_list = url_list\n",
    "        self.list_of_tags = []\n",
    "        \n",
    "    def get_individual_request(self, url):\n",
    "        response = requests.get(url) \n",
    "        return response.content\n",
    "    \n",
    "    def get_url_contents(self):\n",
    "        for url in self.url_list: #go through each url\n",
    "            self.list_of_tags.append(self.get_tags(url))\n",
    "        return self.list_of_tags\n",
    "    \n",
    "    def get_tags(self,url):\n",
    "        soup = BeautifulSoup(self.get_individual_request(url))\n",
    "        tags = soup.find_all('a')\n",
    "        return tags\n",
    "    \n",
    "    "
   ]
  },
  {
   "cell_type": "code",
   "execution_count": 3,
   "metadata": {},
   "outputs": [
    {
     "data": {
      "text/plain": [
       "[[<a class=\"gb1\" href=\"https://www.google.com/imghp?hl=en&amp;tab=wi\">Images</a>,\n",
       "  <a class=\"gb1\" href=\"https://maps.google.com/maps?hl=en&amp;tab=wl\">Maps</a>,\n",
       "  <a class=\"gb1\" href=\"https://play.google.com/?hl=en&amp;tab=w8\">Play</a>,\n",
       "  <a class=\"gb1\" href=\"https://www.youtube.com/?gl=US&amp;tab=w1\">YouTube</a>,\n",
       "  <a class=\"gb1\" href=\"https://news.google.com/?tab=wn\">News</a>,\n",
       "  <a class=\"gb1\" href=\"https://mail.google.com/mail/?tab=wm\">Gmail</a>,\n",
       "  <a class=\"gb1\" href=\"https://drive.google.com/?tab=wo\">Drive</a>,\n",
       "  <a class=\"gb1\" href=\"https://www.google.com/intl/en/about/products?tab=wh\" style=\"text-decoration:none\"><u>More</u> »</a>,\n",
       "  <a class=\"gb4\" href=\"http://www.google.com/history/optout?hl=en\">Web History</a>,\n",
       "  <a class=\"gb4\" href=\"/preferences?hl=en\">Settings</a>,\n",
       "  <a class=\"gb4\" href=\"https://accounts.google.com/ServiceLogin?hl=en&amp;passive=true&amp;continue=https://www.google.com/&amp;ec=GAZAAQ\" id=\"gb_70\" target=\"_top\">Sign in</a>,\n",
       "  <a href=\"/advanced_search?hl=en&amp;authuser=0\">Advanced search</a>,\n",
       "  <a href=\"/intl/en/ads/\">Advertising Programs</a>,\n",
       "  <a href=\"/services/\">Business Solutions</a>,\n",
       "  <a href=\"/intl/en/about.html\">About Google</a>,\n",
       "  <a href=\"/intl/en/policies/privacy/\">Privacy</a>,\n",
       "  <a href=\"/intl/en/policies/terms/\">Terms</a>],\n",
       " [<a class=\"navigation__container-skip-nav\" href=\"#masthead\">Skip Navigation</a>,\n",
       "  <a aria-label=\"Browse navigation\" class=\"navigation__browse-toggler\" role=\"button\" tabindex=\"0\"><img alt=\"Browse navigation items\" role=\"presentation\" src=\"/static/hitch/static/icons/icon_browse.svg\"/>Browse</a>,\n",
       "  <a aria-label=\"Additional Details about promotion\" data-target=\"#bundle_details\" data-toggle=\"modal\" href=\"#\" name=\"view-ribbon-more-details\">More Details</a>,\n",
       "  <a aria-describedby=\"new-window-activate\" aria-label=\"Legal Terms that apply to the promotion\" class=\"Ribbon__legal_modal\" href=\"https://www.hulu.com/terms/disney-bundle\" name=\"view-ribbon-terms\" target=\"_blank\">Terms Apply</a>,\n",
       "  <a aria-label=\"Open Zip Code Module\" class=\"SectionTitle__container__disclaimer\" data-target=\"#zip-modal\" data-toggle=\"modal\">VIEW CHANNELS IN YOUR AREA</a>,\n",
       "  <a class=\"plan-addon__info\" data-target=\"#feature-description-tooltip_0\" data-toggle=\"modal\" role=\"button\" title=\"Streaming Library of 80,000+ TV episodes and movies info\"><img alt=\"Streaming Library of 80,000+ TV episodes and movies\" role=\"presentation\" src=\"/static/hitch/static/icons/Info_Icon_Dark_Grey.svg\"/></a>,\n",
       "  <a class=\"plan-addon__info\" data-target=\"#feature-description-tooltip_4\" data-toggle=\"modal\" role=\"button\" title=\"Up to 6 user profiles info\"><img alt=\"Up to 6 user profiles\" role=\"presentation\" src=\"/static/hitch/static/icons/Info_Icon_Dark_Grey.svg\"/></a>,\n",
       "  <a class=\"plan-addon__info\" data-target=\"#feature-description-tooltip_6\" data-toggle=\"modal\" role=\"button\" title=\"No ads in streaming library info\"><img alt=\"No ads in streaming library\" role=\"presentation\" src=\"/static/hitch/static/icons/Info_Icon_Dark_Grey.svg\"/></a>,\n",
       "  <a class=\"plan-addon__info\" data-target=\"#feature-description-tooltip_7\" data-toggle=\"modal\" role=\"button\" title=\"Download and watch info\"><img alt=\"Download and watch\" role=\"presentation\" src=\"/static/hitch/static/icons/Info_Icon_Dark_Grey.svg\"/></a>,\n",
       "  <a class=\"plan-addon__info\" data-target=\"#feature-description-tooltip_8\" data-toggle=\"modal\" role=\"button\" title=\"Live TV with 65+ top channels. No cable required. info\"><img alt=\"Live TV with 65+ top channels. No cable required.\" role=\"presentation\" src=\"/static/hitch/static/icons/Info_Icon_Dark_Grey.svg\"/></a>,\n",
       "  <a class=\"plan-addon__info\" data-target=\"#addon-description-tooltip_4\" data-toggle=\"modal\" role=\"button\" title=\"Unlimited Screens info\"><img alt=\"Unlimited Screens\" role=\"presentation\" src=\"/static/hitch/static/icons/Info_Icon_Dark_Grey.svg\"/></a>,\n",
       "  <a class=\"plan-addon__info\" data-target=\"#addon-description-tooltip_5\" data-toggle=\"modal\" role=\"button\" title=\"Enhanced Cloud DVR info\"><img alt=\"Enhanced Cloud DVR\" role=\"presentation\" src=\"/static/hitch/static/icons/Info_Icon_Dark_Grey.svg\"/></a>,\n",
       "  <a class=\"plan-addon__info\" data-target=\"#entertainment-modal\" data-toggle=\"modal\" role=\"button\" title=\"Entertainment Add-on info\"><img alt=\"Entertainment Add-on\" role=\"presentation\" src=\"/static/hitch/static/icons/Info_Icon_Dark_Grey.svg\"/></a>,\n",
       "  <a class=\"plan-addon__info\" data-target=\"#espanol-modal\" data-toggle=\"modal\" role=\"button\" title=\"Espanol Add-on info\"><img alt=\"Espanol Add-on\" role=\"presentation\" src=\"/static/hitch/static/icons/Info_Icon_Dark_Grey.svg\"/></a>,\n",
       "  <a data-action-specifier=\"learn_more_click\" data-element-specifier=\"ribbon_modal\" data-events=\"user_interaction,utag\" data-utag-object=\"event_name:ribbon_modal_learn_more\" href=\"/hulu-disney-espn-bundle-offer?source=control\">Learn More</a>,\n",
       "  <a data-target=\"#zip-modal\" data-toggle=\"modal\">Click here</a>,\n",
       "  <a href=\"/terms\">Terms of Use</a>,\n",
       "  <a href=\"/privacy\">Privacy Policy</a>,\n",
       "  <a aria-label=\"Streaming Library\" href=\"/content\" title=\"Streaming Library\">Streaming Library</a>,\n",
       "  <a aria-label=\"Live TV\" href=\"/live-tv\" title=\"Live TV\">Live TV</a>,\n",
       "  <a aria-label=\"Live News\" href=\"/live-news\" title=\"Live News\">Live News</a>,\n",
       "  <a aria-label=\"Live Sports\" href=\"/live-sports\" title=\"Live Sports\">Live Sports</a>,\n",
       "  <a aria-label=\"TV Shows\" href=\"/hub/tv\" title=\"TV Shows\">TV Shows</a>,\n",
       "  <a aria-label=\"Movies\" href=\"/hub/movies\" title=\"Movies\">Movies</a>,\n",
       "  <a aria-label=\"Originals\" href=\"/hub/originals\" title=\"Originals\">Originals</a>,\n",
       "  <a aria-label=\"Networks\" href=\"/hub/networks\" title=\"Networks\">Networks</a>,\n",
       "  <a aria-label=\"Kids\" href=\"/hub/kids\" title=\"Kids\">Kids</a>,\n",
       "  <a aria-label=\"FX on Hulu\" href=\"/fx-on-hulu\" title=\"FX on Hulu\">FX on Hulu</a>,\n",
       "  <a aria-label=\"HBO Max™\" href=\"/hbomax\" title=\"HBO Max™\">HBO Max™</a>,\n",
       "  <a aria-label=\"Cinemax\" href=\"/cinemax\" title=\"Cinemax\">Cinemax</a>,\n",
       "  <a aria-label=\"Showtime\" href=\"/showtime\" title=\"Showtime\">Showtime</a>,\n",
       "  <a aria-label=\"STARZ\" href=\"/starz\" title=\"STARZ\">STARZ</a>,\n",
       "  <a aria-label=\"Hulu, Disney+, and ESPN+\" href=\"/hulu-disney-espn-bundle-offer\" title=\"Hulu, Disney+, and ESPN+\">Hulu, Disney+, and ESPN+</a>,\n",
       "  <a aria-label=\"Disney bundle with Hulu (No Ads)\" href=\"/disney-bundle-hulu-no-ads\" title=\"Disney bundle with Hulu (No Ads)\">Disney bundle with Hulu (No Ads)</a>,\n",
       "  <a aria-label=\"Disney bundle with Hulu + Live TV\" href=\"/disney-bundle-hulu-live\" title=\"Disney bundle with Hulu + Live TV\">Disney bundle with Hulu + Live TV</a>,\n",
       "  <a aria-label=\"Account &amp; Billing\" href=\"//help.hulu.com/s/article/manage-subscription\" title=\"Account &amp; Billing\">Account &amp; Billing</a>,\n",
       "  <a aria-label=\"Plans &amp; Pricing\" href=\"//help.hulu.com/s/article/how-much-does-hulu-cost\" title=\"Plans &amp; Pricing\">Plans &amp; Pricing</a>,\n",
       "  <a aria-label=\"Supported Devices\" href=\"//help.hulu.com/s/article/supported-devices\" title=\"Supported Devices\">Supported Devices</a>,\n",
       "  <a aria-label=\"Accessibility\" href=\"//help.hulu.com/s/article/accessibility-features\" title=\"Accessibility\">Accessibility</a>,\n",
       "  <a aria-label=\"Press\" href=\"/press\" title=\"Press\">Press</a>,\n",
       "  <a aria-label=\"Jobs\" href=\"/jobs\" title=\"Jobs\">Jobs</a>,\n",
       "  <a aria-label=\"Contact\" href=\"//help.hulu.com/s/article/how-to-contact-Hulu\" title=\"Contact\">Contact</a>,\n",
       "  <a aria-label=\"Hulu Facebook\" href=\"//www.facebook.com/hulu\" rel=\"noopener noreferrer nofollow\" target=\"_blank\" title=\"Hulu Facebook\"><img role=\"presentation\" src=\"/static/hitch/static/icons/facebook.svg\"/></a>,\n",
       "  <a aria-label=\"Hulu Twitter\" href=\"//twitter.com/hulu\" rel=\"noopener noreferrer nofollow\" target=\"_blank\" title=\"Hulu Twitter\"><img role=\"presentation\" src=\"/static/hitch/static/icons/twitter.svg\"/></a>,\n",
       "  <a aria-label=\"Hulu Youtube\" href=\"//www.youtube.com/channel/UCE5mQnNl8Q4H2qcv4ikaXeA\" rel=\"noopener noreferrer nofollow\" target=\"_blank\" title=\"Hulu Youtube\"><img role=\"presentation\" src=\"/static/hitch/static/icons/youtube.svg\"/></a>,\n",
       "  <a aria-label=\"Hulu Instagram\" href=\"//www.instagram.com/hulu\" rel=\"noopener noreferrer nofollow\" target=\"_blank\" title=\"Hulu Instagram\"><img role=\"presentation\" src=\"/static/hitch/static/icons/instagram.svg\"/></a>,\n",
       "  <a aria-label=\"About Ads\" class=\"footer--legal-link\" href=\"//info.evidon.com/pub_info/3920?v=1&amp;nt=0&amp;nw=false\" rel=\"noopener noreferrer nofollow\" target=\"_blank\" title=\"About Ads\"><img alt=\"Evidon AdChoices\" role=\"presentation\" src=\"//c.evidon.com/pub/icon1.png\"/>About Ads</a>,\n",
       "  <a aria-label=\"Terms of Use\" class=\"footer--legal-link\" href=\"/terms\" rel=\"noopener noreferrer nofollow\" target=\"_self\" title=\"Terms of Use\">Terms of Use</a>,\n",
       "  <a aria-label=\"Privacy Policy\" class=\"footer--legal-link\" href=\"/privacy\" rel=\"noopener noreferrer nofollow\" target=\"_self\" title=\"Privacy Policy\">Privacy Policy</a>,\n",
       "  <a aria-label=\"Do Not Sell My Personal Information\" class=\"footer--legal-link\" href=\"/do-not-sell-my-info\" rel=\"\" target=\"_self\" title=\"Do Not Sell My Personal Information\">Do Not Sell My Personal Information</a>,\n",
       "  <a aria-label=\"Your California Privacy Rights\" class=\"footer--legal-link\" href=\"/ca-privacy-rights\" rel=\"\" target=\"_self\" title=\"Your California Privacy Rights\">Your California Privacy Rights</a>,\n",
       "  <a aria-label=\"TV Parental Guidelines\" class=\"footer--legal-link\" href=\"http://www.tvguidelines.org\" rel=\"noopener noreferrer nofollow\" target=\"_blank\" title=\"TV Parental Guidelines\">TV Parental Guidelines</a>,\n",
       "  <a aria-label=\"Sitemap\" class=\"footer--legal-link\" href=\"/sitemap\" rel=\"\" target=\"_self\" title=\"Sitemap\">Sitemap</a>],\n",
       " [<a href=\"/ref=cs_503_logo\"><img alt=\"Amazon.com\" id=\"b\" src=\"https://images-na.ssl-images-amazon.com/images/G/01/error/logo._TTD_.png\"/></a>,\n",
       "  <a href=\"/ref=cs_503_link\"><img alt=\"Sorry! Something went wrong on our end. Please go back and try again or go to Amazon's home page.\" src=\"https://images-na.ssl-images-amazon.com/images/G/01/error/500_503.png\"/></a>,\n",
       "  <a href=\"/dogsofamazon/ref=cs_503_d\" rel=\"noopener noreferrer\" target=\"_blank\"><img alt=\"Dogs of Amazon\" id=\"d\"/></a>]]"
      ]
     },
     "execution_count": 3,
     "metadata": {},
     "output_type": "execute_result"
    }
   ],
   "source": [
    "def get_anchor_tag(urls):\n",
    "    new_anchor_tags = AnchorTags(urls)\n",
    "    return new_anchor_tags.get_url_contents()\n",
    "    \n",
    "get_anchor_tag([\"https://google.com\", \"https://hulu.com\", \"https://amazon.com\"])"
   ]
  },
  {
   "cell_type": "markdown",
   "metadata": {},
   "source": [
    "# Exercise 3:\n",
    "\n",
    "Create a function that accesses a web page and returns data from that page."
   ]
  },
  {
   "cell_type": "code",
   "execution_count": null,
   "metadata": {},
   "outputs": [],
   "source": []
  }
 ],
 "metadata": {
  "kernelspec": {
   "display_name": "Python 3",
   "language": "python",
   "name": "python3"
  },
  "language_info": {
   "codemirror_mode": {
    "name": "ipython",
    "version": 3
   },
   "file_extension": ".py",
   "mimetype": "text/x-python",
   "name": "python",
   "nbconvert_exporter": "python",
   "pygments_lexer": "ipython3",
   "version": "3.8.3"
  }
 },
 "nbformat": 4,
 "nbformat_minor": 4
}
