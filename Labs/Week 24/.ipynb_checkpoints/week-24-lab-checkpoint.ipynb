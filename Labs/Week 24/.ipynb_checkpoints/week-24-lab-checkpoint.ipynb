{
 "cells": [
  {
   "cell_type": "markdown",
   "metadata": {},
   "source": [
    "<div style=\"background: #000;\n",
    "            color: #FFF;\n",
    "            margin: 0px;\n",
    "            padding: 10px 0px 20px 0px;\n",
    "            text-align: center; \n",
    "                \">\n",
    "    <h1>Week 24 Lab</h1>\n",
    "</div>\n"
   ]
  },
  {
   "cell_type": "code",
   "execution_count": 11,
   "metadata": {},
   "outputs": [],
   "source": [
    "import pandas as pd\n",
    "import numpy as np\n",
    "import matplotlib.pyplot as plt"
   ]
  },
  {
   "cell_type": "markdown",
   "metadata": {},
   "source": [
    "## Part 1 - Python Problems\n",
    "<hr>"
   ]
  },
  {
   "cell_type": "markdown",
   "metadata": {},
   "source": [
    "### Exercise 1\n",
    "\n",
    "Create a function that takes a list of integers and calculates the mean. Use the following formula for calculating averages and not any `mean`/`average` method.\n",
    "\n",
    "$$ \\mu = {\\frac {1}{n}}\\sum _{i=1}^{n}a_{i}={\\frac {a_{1}+a_{2}+\\cdots +a_{n}}{n}}$$"
   ]
  },
  {
   "cell_type": "code",
   "execution_count": 12,
   "metadata": {},
   "outputs": [
    {
     "data": {
      "text/plain": [
       "0"
      ]
     },
     "execution_count": 12,
     "metadata": {},
     "output_type": "execute_result"
    }
   ],
   "source": [
    "example_list = [1,2,3,4,5,6,7,8,9]   #don't forget to think about edge cases\n",
    "\n",
    "def mean_calculator(lst):\n",
    "    if lst:\n",
    "        return sum(lst)//len(lst)\n",
    "    return 0\n",
    "\n",
    "mean_calculator([])"
   ]
  },
  {
   "cell_type": "markdown",
   "metadata": {},
   "source": [
    "### Exercise 2\n",
    "\n",
    "Create a class that operates like a stack.  "
   ]
  },
  {
   "cell_type": "markdown",
   "metadata": {},
   "source": [
    "a stack receives adds to the top and pops from the top"
   ]
  },
  {
   "cell_type": "code",
   "execution_count": null,
   "metadata": {},
   "outputs": [],
   "source": [
    "LIFO--> BOX With books inside"
   ]
  },
  {
   "cell_type": "code",
   "execution_count": 99,
   "metadata": {},
   "outputs": [
    {
     "name": "stdout",
     "output_type": "stream",
     "text": [
      "The Hunger Games\n",
      "Twilight\n",
      "Color Purple\n",
      "The Giver\n",
      "\n",
      "\n",
      "The Hunger Games\n",
      "Twilight\n",
      "Color Purple\n"
     ]
    }
   ],
   "source": [
    "#Use a list []\n",
    "\n",
    "class Box:\n",
    "    def __init__(self,lst=[]):\n",
    "        self.lst= lst\n",
    "        \n",
    "    def __add__(self,book):\n",
    "        self.lst.append(book)\n",
    "    \n",
    "    def __pop__(self):\n",
    "        self.lst.pop()\n",
    "    \n",
    "    def look_inside(self):\n",
    "        for i in self.lst:\n",
    "            print(i)\n",
    "        \n",
    "box_1 = Box()\n",
    "box_1.__add__(\"The Hunger Games\")\n",
    "box_1.__add__(\"Twilight\")\n",
    "box_1.__add__(\"Color Purple\")\n",
    "box_1.__add__(\"The Giver\")\n",
    "box_1.look_inside()\n",
    "box_1.__pop__()\n",
    "print(\"\\n\")\n",
    "box_1.look_inside()"
   ]
  },
  {
   "cell_type": "markdown",
   "metadata": {},
   "source": [
    "### Exercise 3\n",
    "\n",
    "Write a generator function which returns a few values and then use it to retrieve a value using `next` (the global function). "
   ]
  },
  {
   "cell_type": "code",
   "execution_count": 13,
   "metadata": {},
   "outputs": [],
   "source": [
    "nums = [1,5,14,5,4]\n",
    "def generator(nums):\n",
    "    for num in nums:\n",
    "        yield num\n",
    "\n",
    "a= generator(nums)"
   ]
  },
  {
   "cell_type": "code",
   "execution_count": 14,
   "metadata": {},
   "outputs": [
    {
     "data": {
      "text/plain": [
       "1"
      ]
     },
     "execution_count": 14,
     "metadata": {},
     "output_type": "execute_result"
    }
   ],
   "source": [
    "next(a)"
   ]
  },
  {
   "cell_type": "markdown",
   "metadata": {},
   "source": [
    "### Exercise 4\n",
    "\n",
    "Create a namedtuple `'Point'` that contains the points `x` and `y`."
   ]
  },
  {
   "cell_type": "code",
   "execution_count": 100,
   "metadata": {},
   "outputs": [],
   "source": [
    "from collections import namedtuple"
   ]
  },
  {
   "cell_type": "code",
   "execution_count": 106,
   "metadata": {},
   "outputs": [
    {
     "name": "stdout",
     "output_type": "stream",
     "text": [
      "5\n"
     ]
    },
    {
     "data": {
      "text/plain": [
       "2"
      ]
     },
     "execution_count": 106,
     "metadata": {},
     "output_type": "execute_result"
    }
   ],
   "source": [
    "Point = namedtuple('Point',['x','y'])\n",
    "\n",
    "first_point = Point(5,2)\n",
    "print(first_point.x)\n",
    "first_point.y"
   ]
  },
  {
   "cell_type": "code",
   "execution_count": null,
   "metadata": {},
   "outputs": [],
   "source": [
    "Point = namedtuple('Point',['x','y'])\n",
    "\n",
    "class Point:\n",
    "    def __init__(self,x,y):\n",
    "        self.x= x\n",
    "        self.y=y"
   ]
  },
  {
   "cell_type": "markdown",
   "metadata": {},
   "source": [
    "### Exercise 5\n",
    "\n",
    "Create a moving average class that:\n",
    "* has a method `add` that is used to add new values\n",
    "* has a method `avg` that calculates the average of the 5 most recently added values\n",
    "* if theres less than 5 values the avg method should return the avg of those values\n",
    "* has an attribute `values` that contain all values added\n",
    "* has an attribute `window` that contains the 5 most recently added values"
   ]
  },
  {
   "cell_type": "code",
   "execution_count": 15,
   "metadata": {},
   "outputs": [
    {
     "data": {
      "text/plain": [
       "[4, 3, 2, 1, 0]"
      ]
     },
     "execution_count": 15,
     "metadata": {},
     "output_type": "execute_result"
    }
   ],
   "source": [
    "class MovingAverage:\n",
    "    def __init__(self,values=[], window=[]):\n",
    "        self.values =values\n",
    "        self.window =window\n",
    "        \n",
    "    def __add__(self,value):\n",
    "        self.values.append(value)\n",
    "        if len(self.values)>=5:\n",
    "            self.window =self.values[-5:]\n",
    "        else:\n",
    "            self.window=self.values\n",
    "        \n",
    "    def __avg__(self):\n",
    "        if len(self.values)>5:\n",
    "            return mean_calculator(self.window)\n",
    "        return mean_calculator(self.values)\n",
    "    \n",
    "    \n",
    "moving1 = MovingAverage()\n",
    "moving1.__add__(5)\n",
    "moving1.values\n",
    "moving1.__add__(4)\n",
    "moving1.__add__(3)\n",
    "moving1.__add__(2)\n",
    "moving1.__add__(1)\n",
    "moving1.__add__(0)\n",
    "# moving1.values\n",
    "moving1.window"
   ]
  },
  {
   "cell_type": "markdown",
   "metadata": {},
   "source": [
    "## Part 2 - Numpy Problems\n",
    "<hr>"
   ]
  },
  {
   "cell_type": "markdown",
   "metadata": {},
   "source": [
    "### Exercise 1\n",
    "\n",
    "Using numpy, create an array that contains the values of $y$ for each of the $x$ values ranging from 0 to 100.\n",
    "\n",
    "$$ y = 12x+4  $$"
   ]
  },
  {
   "cell_type": "code",
   "execution_count": 16,
   "metadata": {},
   "outputs": [
    {
     "data": {
      "text/plain": [
       "array([   4,   16,   28,   40,   52,   64,   76,   88,  100,  112,  124,\n",
       "        136,  148,  160,  172,  184,  196,  208,  220,  232,  244,  256,\n",
       "        268,  280,  292,  304,  316,  328,  340,  352,  364,  376,  388,\n",
       "        400,  412,  424,  436,  448,  460,  472,  484,  496,  508,  520,\n",
       "        532,  544,  556,  568,  580,  592,  604,  616,  628,  640,  652,\n",
       "        664,  676,  688,  700,  712,  724,  736,  748,  760,  772,  784,\n",
       "        796,  808,  820,  832,  844,  856,  868,  880,  892,  904,  916,\n",
       "        928,  940,  952,  964,  976,  988, 1000, 1012, 1024, 1036, 1048,\n",
       "       1060, 1072, 1084, 1096, 1108, 1120, 1132, 1144, 1156, 1168, 1180,\n",
       "       1192, 1204])"
      ]
     },
     "execution_count": 16,
     "metadata": {},
     "output_type": "execute_result"
    }
   ],
   "source": [
    "y = 12*np.arange(0,101) +4\n",
    "y"
   ]
  },
  {
   "cell_type": "markdown",
   "metadata": {},
   "source": [
    "### Exercise 2\n",
    "\n",
    "Create a 2-dimensional numpy array that contains the numbers from 1 to 20 with even numbers in the first column and odd numbers in the second."
   ]
  },
  {
   "cell_type": "code",
   "execution_count": 22,
   "metadata": {},
   "outputs": [
    {
     "data": {
      "text/plain": [
       "array([[ 2,  1],\n",
       "       [ 4,  3],\n",
       "       [ 6,  5],\n",
       "       [ 8,  7],\n",
       "       [10,  9],\n",
       "       [12, 11],\n",
       "       [14, 13],\n",
       "       [16, 15],\n",
       "       [18, 17],\n",
       "       [20, 19]])"
      ]
     },
     "execution_count": 22,
     "metadata": {},
     "output_type": "execute_result"
    }
   ],
   "source": [
    "a = np.arange(1,21)\n",
    "np.array([a[a%2==0], a[a%2==1]]).T"
   ]
  },
  {
   "cell_type": "markdown",
   "metadata": {},
   "source": [
    "### Exercise 3\n",
    "\n",
    "Create a numpy array with random numbers between 0 and 1."
   ]
  },
  {
   "cell_type": "code",
   "execution_count": 49,
   "metadata": {},
   "outputs": [
    {
     "data": {
      "text/plain": [
       "array([0.02919281, 0.35761832, 0.21275419, 0.92029429, 0.50626754,\n",
       "       0.13190383, 0.47653847, 0.87302766, 0.84319462, 0.50286825])"
      ]
     },
     "execution_count": 49,
     "metadata": {},
     "output_type": "execute_result"
    }
   ],
   "source": [
    "rng = np.random.uniform(0,1,10) #start, stop, size\n",
    "rng"
   ]
  },
  {
   "cell_type": "markdown",
   "metadata": {},
   "source": [
    "### Exercise 4\n",
    "\n",
    "Create an array that contains 100 numbers. All of them between 0 and 5. Then add that to an array that contains the numbers from 0 to 99."
   ]
  },
  {
   "cell_type": "code",
   "execution_count": 50,
   "metadata": {},
   "outputs": [
    {
     "data": {
      "text/plain": [
       "array([  0.        ,   1.05050505,   2.1010101 ,   3.15151515,\n",
       "         4.2020202 ,   5.25252525,   6.3030303 ,   7.35353535,\n",
       "         8.4040404 ,   9.45454545,  10.50505051,  11.55555556,\n",
       "        12.60606061,  13.65656566,  14.70707071,  15.75757576,\n",
       "        16.80808081,  17.85858586,  18.90909091,  19.95959596,\n",
       "        21.01010101,  22.06060606,  23.11111111,  24.16161616,\n",
       "        25.21212121,  26.26262626,  27.31313131,  28.36363636,\n",
       "        29.41414141,  30.46464646,  31.51515152,  32.56565657,\n",
       "        33.61616162,  34.66666667,  35.71717172,  36.76767677,\n",
       "        37.81818182,  38.86868687,  39.91919192,  40.96969697,\n",
       "        42.02020202,  43.07070707,  44.12121212,  45.17171717,\n",
       "        46.22222222,  47.27272727,  48.32323232,  49.37373737,\n",
       "        50.42424242,  51.47474747,  52.52525253,  53.57575758,\n",
       "        54.62626263,  55.67676768,  56.72727273,  57.77777778,\n",
       "        58.82828283,  59.87878788,  60.92929293,  61.97979798,\n",
       "        63.03030303,  64.08080808,  65.13131313,  66.18181818,\n",
       "        67.23232323,  68.28282828,  69.33333333,  70.38383838,\n",
       "        71.43434343,  72.48484848,  73.53535354,  74.58585859,\n",
       "        75.63636364,  76.68686869,  77.73737374,  78.78787879,\n",
       "        79.83838384,  80.88888889,  81.93939394,  82.98989899,\n",
       "        84.04040404,  85.09090909,  86.14141414,  87.19191919,\n",
       "        88.24242424,  89.29292929,  90.34343434,  91.39393939,\n",
       "        92.44444444,  93.49494949,  94.54545455,  95.5959596 ,\n",
       "        96.64646465,  97.6969697 ,  98.74747475,  99.7979798 ,\n",
       "       100.84848485, 101.8989899 , 102.94949495, 104.        ])"
      ]
     },
     "execution_count": 50,
     "metadata": {},
     "output_type": "execute_result"
    }
   ],
   "source": [
    "new_array = np.linspace(0,5,100) +np.arange(0,100)\n",
    "new_array"
   ]
  },
  {
   "cell_type": "markdown",
   "metadata": {},
   "source": [
    "### Exercise 5\n",
    "\n",
    "Create a 10 by 10 matrix containing zeros. Then create a 10 by 10 matrix containing ones. Combine the two matrices so that the new dimensions are 20 by 10."
   ]
  },
  {
   "cell_type": "code",
   "execution_count": 59,
   "metadata": {},
   "outputs": [
    {
     "name": "stdout",
     "output_type": "stream",
     "text": [
      "(20, 10)\n"
     ]
    },
    {
     "data": {
      "text/plain": [
       "array([[0., 0., 0., 0., 0., 0., 0., 0., 0., 0.],\n",
       "       [0., 0., 0., 0., 0., 0., 0., 0., 0., 0.],\n",
       "       [0., 0., 0., 0., 0., 0., 0., 0., 0., 0.],\n",
       "       [0., 0., 0., 0., 0., 0., 0., 0., 0., 0.],\n",
       "       [0., 0., 0., 0., 0., 0., 0., 0., 0., 0.],\n",
       "       [0., 0., 0., 0., 0., 0., 0., 0., 0., 0.],\n",
       "       [0., 0., 0., 0., 0., 0., 0., 0., 0., 0.],\n",
       "       [0., 0., 0., 0., 0., 0., 0., 0., 0., 0.],\n",
       "       [0., 0., 0., 0., 0., 0., 0., 0., 0., 0.],\n",
       "       [0., 0., 0., 0., 0., 0., 0., 0., 0., 0.],\n",
       "       [1., 1., 1., 1., 1., 1., 1., 1., 1., 1.],\n",
       "       [1., 1., 1., 1., 1., 1., 1., 1., 1., 1.],\n",
       "       [1., 1., 1., 1., 1., 1., 1., 1., 1., 1.],\n",
       "       [1., 1., 1., 1., 1., 1., 1., 1., 1., 1.],\n",
       "       [1., 1., 1., 1., 1., 1., 1., 1., 1., 1.],\n",
       "       [1., 1., 1., 1., 1., 1., 1., 1., 1., 1.],\n",
       "       [1., 1., 1., 1., 1., 1., 1., 1., 1., 1.],\n",
       "       [1., 1., 1., 1., 1., 1., 1., 1., 1., 1.],\n",
       "       [1., 1., 1., 1., 1., 1., 1., 1., 1., 1.],\n",
       "       [1., 1., 1., 1., 1., 1., 1., 1., 1., 1.]])"
      ]
     },
     "execution_count": 59,
     "metadata": {},
     "output_type": "execute_result"
    }
   ],
   "source": [
    "zeros_matrix = np.zeros((10,10))\n",
    "ones_matrix = np.ones((10,10))\n",
    "mixed_matrix = np.concatenate((zeros_matrix, ones_matrix))\n",
    "print(mixed_matrix.shape)\n",
    "mixed_matrix\n"
   ]
  },
  {
   "cell_type": "markdown",
   "metadata": {},
   "source": [
    "### Exercise 6\n",
    "\n",
    "Given the following numpy array, find the cumulative sum along the rows. Then find the cumulative sum along the columns. Then output the 2nd (1st index) column but only the first 10 rows. You should get a very recognizable pattern."
   ]
  },
  {
   "cell_type": "code",
   "execution_count": 60,
   "metadata": {},
   "outputs": [
    {
     "data": {
      "text/plain": [
       "array([[ 0,  1,  2,  3,  4,  5,  6,  7,  8,  9, 10],\n",
       "       [ 1,  2,  3,  4,  5,  6,  7,  8,  9, 10,  0],\n",
       "       [ 2,  3,  4,  5,  6,  7,  8,  9, 10,  0,  1],\n",
       "       [ 3,  4,  5,  6,  7,  8,  9, 10,  0,  1,  2],\n",
       "       [ 4,  5,  6,  7,  8,  9, 10,  0,  1,  2,  3],\n",
       "       [ 5,  6,  7,  8,  9, 10,  0,  1,  2,  3,  4],\n",
       "       [ 6,  7,  8,  9, 10,  0,  1,  2,  3,  4,  5],\n",
       "       [ 7,  8,  9, 10,  0,  1,  2,  3,  4,  5,  6],\n",
       "       [ 8,  9, 10,  0,  1,  2,  3,  4,  5,  6,  7],\n",
       "       [ 9, 10,  0,  1,  2,  3,  4,  5,  6,  7,  8],\n",
       "       [10,  0,  1,  2,  3,  4,  5,  6,  7,  8,  9]])"
      ]
     },
     "execution_count": 60,
     "metadata": {},
     "output_type": "execute_result"
    }
   ],
   "source": [
    "a = np.array([[0,1,2,3,4,5,6,7,8,9,10],[1,2,3,4,5,6,7,8,9,10,0], [2,3,4,5,6,7,8,9,10,0,1], [3,4,5,6,7,8,9,10,0,1,2],[4,5,6,7,8,9,10,0,1,2,3],[5,6,7,8,9,10,0,1,2,3,4],[6,7,8,9,10,0,1,2,3,4,5],[7,8,9,10,0,1,2,3,4,5,6],[8,9,10,0,1,2,3,4,5,6,7],[9,10,0,1,2,3,4,5,6,7,8],[10,0,1,2,3,4,5,6,7,8,9]])\n",
    "a"
   ]
  },
  {
   "cell_type": "code",
   "execution_count": 61,
   "metadata": {},
   "outputs": [
    {
     "data": {
      "text/plain": [
       "array([[ 0,  1,  2,  3,  4,  5,  6,  7,  8,  9, 10],\n",
       "       [ 1,  3,  5,  7,  9, 11, 13, 15, 17, 19, 10],\n",
       "       [ 3,  6,  9, 12, 15, 18, 21, 24, 27, 19, 11],\n",
       "       [ 6, 10, 14, 18, 22, 26, 30, 34, 27, 20, 13],\n",
       "       [10, 15, 20, 25, 30, 35, 40, 34, 28, 22, 16],\n",
       "       [15, 21, 27, 33, 39, 45, 40, 35, 30, 25, 20],\n",
       "       [21, 28, 35, 42, 49, 45, 41, 37, 33, 29, 25],\n",
       "       [28, 36, 44, 52, 49, 46, 43, 40, 37, 34, 31],\n",
       "       [36, 45, 54, 52, 50, 48, 46, 44, 42, 40, 38],\n",
       "       [45, 55, 54, 53, 52, 51, 50, 49, 48, 47, 46],\n",
       "       [55, 55, 55, 55, 55, 55, 55, 55, 55, 55, 55]])"
      ]
     },
     "execution_count": 61,
     "metadata": {},
     "output_type": "execute_result"
    }
   ],
   "source": [
    "cumsum_row= np.cumsum(a, axis=0)\n",
    "cumsum_row"
   ]
  },
  {
   "cell_type": "code",
   "execution_count": 62,
   "metadata": {},
   "outputs": [
    {
     "data": {
      "text/plain": [
       "array([[ 0,  1,  3,  6, 10, 15, 21, 28, 36, 45, 55],\n",
       "       [ 1,  3,  6, 10, 15, 21, 28, 36, 45, 55, 55],\n",
       "       [ 2,  5,  9, 14, 20, 27, 35, 44, 54, 54, 55],\n",
       "       [ 3,  7, 12, 18, 25, 33, 42, 52, 52, 53, 55],\n",
       "       [ 4,  9, 15, 22, 30, 39, 49, 49, 50, 52, 55],\n",
       "       [ 5, 11, 18, 26, 35, 45, 45, 46, 48, 51, 55],\n",
       "       [ 6, 13, 21, 30, 40, 40, 41, 43, 46, 50, 55],\n",
       "       [ 7, 15, 24, 34, 34, 35, 37, 40, 44, 49, 55],\n",
       "       [ 8, 17, 27, 27, 28, 30, 33, 37, 42, 48, 55],\n",
       "       [ 9, 19, 19, 20, 22, 25, 29, 34, 40, 47, 55],\n",
       "       [10, 10, 11, 13, 16, 20, 25, 31, 38, 46, 55]])"
      ]
     },
     "execution_count": 62,
     "metadata": {},
     "output_type": "execute_result"
    }
   ],
   "source": [
    "cumsum_col = np.cumsum(a, axis=1)\n",
    "cumsum_col"
   ]
  },
  {
   "cell_type": "code",
   "execution_count": 63,
   "metadata": {},
   "outputs": [
    {
     "data": {
      "text/plain": [
       "array([ 1,  2,  3,  4,  5,  6,  7,  8,  9, 10])"
      ]
     },
     "execution_count": 63,
     "metadata": {},
     "output_type": "execute_result"
    }
   ],
   "source": [
    "#Then output the 2nd (1st index) column but only the first 10 rows. You should get a very recognizable pattern.\n",
    "a[:10,1]"
   ]
  },
  {
   "cell_type": "markdown",
   "metadata": {},
   "source": [
    "### Exercise 7\n",
    "\n",
    "Using the following string. Turn it into a numpy array where all the letters are their own element."
   ]
  },
  {
   "cell_type": "code",
   "execution_count": 64,
   "metadata": {},
   "outputs": [],
   "source": [
    "s = \"helloworld\""
   ]
  },
  {
   "cell_type": "code",
   "execution_count": 65,
   "metadata": {},
   "outputs": [
    {
     "data": {
      "text/plain": [
       "['h', 'e', 'l', 'l', 'o', 'w', 'o', 'r', 'l', 'd']"
      ]
     },
     "execution_count": 65,
     "metadata": {},
     "output_type": "execute_result"
    }
   ],
   "source": [
    "lst = [letter for letter in s]\n",
    "lst"
   ]
  },
  {
   "cell_type": "code",
   "execution_count": 66,
   "metadata": {},
   "outputs": [
    {
     "data": {
      "text/plain": [
       "array(['h', 'e', 'l', 'l', 'o', 'w', 'o', 'r', 'l', 'd'], dtype='<U1')"
      ]
     },
     "execution_count": 66,
     "metadata": {},
     "output_type": "execute_result"
    }
   ],
   "source": [
    "#option 1\n",
    "np.array(lst)"
   ]
  },
  {
   "cell_type": "code",
   "execution_count": 67,
   "metadata": {},
   "outputs": [
    {
     "data": {
      "text/plain": [
       "array([list(['h']), list(['e']), list(['l']), list(['l']), list(['o']),\n",
       "       list(['w']), list(['o']), list(['r']), list(['l']), list(['d'])],\n",
       "      dtype=object)"
      ]
     },
     "execution_count": 67,
     "metadata": {},
     "output_type": "execute_result"
    }
   ],
   "source": [
    "#option 2\n",
    "np.char.split(lst)"
   ]
  },
  {
   "cell_type": "markdown",
   "metadata": {},
   "source": [
    "### Exercise 8\n",
    "\n",
    "How would we flatten the following array?"
   ]
  },
  {
   "cell_type": "code",
   "execution_count": 68,
   "metadata": {},
   "outputs": [
    {
     "data": {
      "text/plain": [
       "array([1., 0., 0., 0., 0., 0., 0., 0., 0., 0., 0., 1., 0., 0., 0., 0., 0.,\n",
       "       0., 0., 0., 0., 0., 1., 0., 0., 0., 0., 0., 0., 0., 0., 0., 0., 1.,\n",
       "       0., 0., 0., 0., 0., 0., 0., 0., 0., 0., 1., 0., 0., 0., 0., 0., 0.,\n",
       "       0., 0., 0., 0., 1., 0., 0., 0., 0., 0., 0., 0., 0., 0., 0., 1., 0.,\n",
       "       0., 0., 0., 0., 0., 0., 0., 0., 0., 1., 0., 0., 0., 0., 0., 0., 0.,\n",
       "       0., 0., 0., 1., 0., 0., 0., 0., 0., 0., 0., 0., 0., 0., 1.])"
      ]
     },
     "execution_count": 68,
     "metadata": {},
     "output_type": "execute_result"
    }
   ],
   "source": [
    "a = np.eye(10)\n",
    "a.flatten()"
   ]
  },
  {
   "cell_type": "markdown",
   "metadata": {},
   "source": [
    "## Part 3 - Pandas Problems\n",
    "<hr>"
   ]
  },
  {
   "cell_type": "markdown",
   "metadata": {},
   "source": [
    "**1.** Create a dataframe using the following:"
   ]
  },
  {
   "cell_type": "code",
   "execution_count": 69,
   "metadata": {},
   "outputs": [],
   "source": [
    "lst = [['Red',4],['Blue',6],['Green',1],\\\n",
    "       ['Yellow',5],['White',3],['Black',2],]\n"
   ]
  },
  {
   "cell_type": "code",
   "execution_count": 70,
   "metadata": {},
   "outputs": [],
   "source": [
    "df = pd.DataFrame(lst, columns= [\"color\", \"count\"])"
   ]
  },
  {
   "cell_type": "code",
   "execution_count": 71,
   "metadata": {},
   "outputs": [
    {
     "data": {
      "text/html": [
       "<div>\n",
       "<style scoped>\n",
       "    .dataframe tbody tr th:only-of-type {\n",
       "        vertical-align: middle;\n",
       "    }\n",
       "\n",
       "    .dataframe tbody tr th {\n",
       "        vertical-align: top;\n",
       "    }\n",
       "\n",
       "    .dataframe thead th {\n",
       "        text-align: right;\n",
       "    }\n",
       "</style>\n",
       "<table border=\"1\" class=\"dataframe\">\n",
       "  <thead>\n",
       "    <tr style=\"text-align: right;\">\n",
       "      <th></th>\n",
       "      <th>color</th>\n",
       "      <th>count</th>\n",
       "    </tr>\n",
       "  </thead>\n",
       "  <tbody>\n",
       "    <tr>\n",
       "      <th>0</th>\n",
       "      <td>Red</td>\n",
       "      <td>4</td>\n",
       "    </tr>\n",
       "    <tr>\n",
       "      <th>1</th>\n",
       "      <td>Blue</td>\n",
       "      <td>6</td>\n",
       "    </tr>\n",
       "    <tr>\n",
       "      <th>2</th>\n",
       "      <td>Green</td>\n",
       "      <td>1</td>\n",
       "    </tr>\n",
       "    <tr>\n",
       "      <th>3</th>\n",
       "      <td>Yellow</td>\n",
       "      <td>5</td>\n",
       "    </tr>\n",
       "    <tr>\n",
       "      <th>4</th>\n",
       "      <td>White</td>\n",
       "      <td>3</td>\n",
       "    </tr>\n",
       "    <tr>\n",
       "      <th>5</th>\n",
       "      <td>Black</td>\n",
       "      <td>2</td>\n",
       "    </tr>\n",
       "  </tbody>\n",
       "</table>\n",
       "</div>"
      ],
      "text/plain": [
       "    color  count\n",
       "0     Red      4\n",
       "1    Blue      6\n",
       "2   Green      1\n",
       "3  Yellow      5\n",
       "4   White      3\n",
       "5   Black      2"
      ]
     },
     "execution_count": 71,
     "metadata": {},
     "output_type": "execute_result"
    }
   ],
   "source": [
    "df"
   ]
  },
  {
   "cell_type": "markdown",
   "metadata": {},
   "source": [
    "**2.** Create a dataframe using the following:"
   ]
  },
  {
   "cell_type": "code",
   "execution_count": 72,
   "metadata": {},
   "outputs": [],
   "source": [
    "dct = {'red':4, 'blue':6, 'green':1,\\\n",
    "       'yellow':5, 'white':3, 'black':2 }\n"
   ]
  },
  {
   "cell_type": "code",
   "execution_count": 73,
   "metadata": {},
   "outputs": [],
   "source": [
    "df = pd.DataFrame(list(dct.items()), columns= [\"color\",\"amount\"])"
   ]
  },
  {
   "cell_type": "code",
   "execution_count": 74,
   "metadata": {},
   "outputs": [
    {
     "data": {
      "text/html": [
       "<div>\n",
       "<style scoped>\n",
       "    .dataframe tbody tr th:only-of-type {\n",
       "        vertical-align: middle;\n",
       "    }\n",
       "\n",
       "    .dataframe tbody tr th {\n",
       "        vertical-align: top;\n",
       "    }\n",
       "\n",
       "    .dataframe thead th {\n",
       "        text-align: right;\n",
       "    }\n",
       "</style>\n",
       "<table border=\"1\" class=\"dataframe\">\n",
       "  <thead>\n",
       "    <tr style=\"text-align: right;\">\n",
       "      <th></th>\n",
       "      <th>color</th>\n",
       "      <th>amount</th>\n",
       "    </tr>\n",
       "  </thead>\n",
       "  <tbody>\n",
       "    <tr>\n",
       "      <th>0</th>\n",
       "      <td>red</td>\n",
       "      <td>4</td>\n",
       "    </tr>\n",
       "    <tr>\n",
       "      <th>1</th>\n",
       "      <td>blue</td>\n",
       "      <td>6</td>\n",
       "    </tr>\n",
       "    <tr>\n",
       "      <th>2</th>\n",
       "      <td>green</td>\n",
       "      <td>1</td>\n",
       "    </tr>\n",
       "    <tr>\n",
       "      <th>3</th>\n",
       "      <td>yellow</td>\n",
       "      <td>5</td>\n",
       "    </tr>\n",
       "    <tr>\n",
       "      <th>4</th>\n",
       "      <td>white</td>\n",
       "      <td>3</td>\n",
       "    </tr>\n",
       "    <tr>\n",
       "      <th>5</th>\n",
       "      <td>black</td>\n",
       "      <td>2</td>\n",
       "    </tr>\n",
       "  </tbody>\n",
       "</table>\n",
       "</div>"
      ],
      "text/plain": [
       "    color  amount\n",
       "0     red       4\n",
       "1    blue       6\n",
       "2   green       1\n",
       "3  yellow       5\n",
       "4   white       3\n",
       "5   black       2"
      ]
     },
     "execution_count": 74,
     "metadata": {},
     "output_type": "execute_result"
    }
   ],
   "source": [
    "df"
   ]
  },
  {
   "cell_type": "markdown",
   "metadata": {},
   "source": [
    "**The following exercises will use the dataset imported below:**\n"
   ]
  },
  {
   "cell_type": "code",
   "execution_count": 80,
   "metadata": {},
   "outputs": [
    {
     "data": {
      "text/html": [
       "<div>\n",
       "<style scoped>\n",
       "    .dataframe tbody tr th:only-of-type {\n",
       "        vertical-align: middle;\n",
       "    }\n",
       "\n",
       "    .dataframe tbody tr th {\n",
       "        vertical-align: top;\n",
       "    }\n",
       "\n",
       "    .dataframe thead th {\n",
       "        text-align: right;\n",
       "    }\n",
       "</style>\n",
       "<table border=\"1\" class=\"dataframe\">\n",
       "  <thead>\n",
       "    <tr style=\"text-align: right;\">\n",
       "      <th></th>\n",
       "      <th>year</th>\n",
       "      <th>make</th>\n",
       "      <th>model</th>\n",
       "      <th>number sold</th>\n",
       "      <th>price</th>\n",
       "      <th>revenue (in thousands)</th>\n",
       "    </tr>\n",
       "  </thead>\n",
       "  <tbody>\n",
       "    <tr>\n",
       "      <th>0</th>\n",
       "      <td>NaN</td>\n",
       "      <td>Toyota</td>\n",
       "      <td>Camry</td>\n",
       "      <td>336978.0</td>\n",
       "      <td>24765.0</td>\n",
       "      <td>NaN</td>\n",
       "    </tr>\n",
       "    <tr>\n",
       "      <th>1</th>\n",
       "      <td>2019.0</td>\n",
       "      <td>Toyota</td>\n",
       "      <td>Corolla</td>\n",
       "      <td>304850.0</td>\n",
       "      <td>NaN</td>\n",
       "      <td>4560556.00</td>\n",
       "    </tr>\n",
       "    <tr>\n",
       "      <th>2</th>\n",
       "      <td>2019.0</td>\n",
       "      <td>Toyota</td>\n",
       "      <td>Supra</td>\n",
       "      <td>NaN</td>\n",
       "      <td>35545.0</td>\n",
       "      <td>102511.78</td>\n",
       "    </tr>\n",
       "    <tr>\n",
       "      <th>3</th>\n",
       "      <td>2019.0</td>\n",
       "      <td>NaN</td>\n",
       "      <td>Avalon</td>\n",
       "      <td>NaN</td>\n",
       "      <td>36480.0</td>\n",
       "      <td>1012940.16</td>\n",
       "    </tr>\n",
       "  </tbody>\n",
       "</table>\n",
       "</div>"
      ],
      "text/plain": [
       "     year    make    model  number sold    price  revenue (in thousands)\n",
       "0     NaN  Toyota    Camry     336978.0  24765.0                     NaN\n",
       "1  2019.0  Toyota  Corolla     304850.0      NaN              4560556.00\n",
       "2  2019.0  Toyota    Supra          NaN  35545.0               102511.78\n",
       "3  2019.0     NaN   Avalon          NaN  36480.0              1012940.16"
      ]
     },
     "execution_count": 80,
     "metadata": {},
     "output_type": "execute_result"
    }
   ],
   "source": [
    "df = pd.DataFrame([[np.nan,'Toyota','Camry',336978, 24765,np.nan],[2019,'Toyota','Corolla',304850, np.nan,4560556],[2019,'Toyota','Supra',np.nan, 35545,102511.78],[2019,np.nan,'Avalon',np.nan ,36480,1012940.16]])\n",
    "df.columns = ['year', 'make', 'model', 'number sold', 'price', 'revenue (in thousands)']\n",
    "df"
   ]
  },
  {
   "cell_type": "markdown",
   "metadata": {},
   "source": [
    "### Exercise 4\n",
    "\n",
    "Fix the `year` column in the dataframe by replacing missing values with the average value of that column."
   ]
  },
  {
   "cell_type": "code",
   "execution_count": 81,
   "metadata": {},
   "outputs": [],
   "source": [
    "df[\"year\"] = df[\"year\"].fillna(df[\"year\"].mean())"
   ]
  },
  {
   "cell_type": "code",
   "execution_count": 82,
   "metadata": {},
   "outputs": [],
   "source": [
    "df[\"year\"] = df[\"year\"].astype('int32')"
   ]
  },
  {
   "cell_type": "code",
   "execution_count": 83,
   "metadata": {},
   "outputs": [
    {
     "data": {
      "text/plain": [
       "0    2019\n",
       "1    2019\n",
       "2    2019\n",
       "3    2019\n",
       "Name: year, dtype: int32"
      ]
     },
     "execution_count": 83,
     "metadata": {},
     "output_type": "execute_result"
    }
   ],
   "source": [
    "df[\"year\"]"
   ]
  },
  {
   "cell_type": "markdown",
   "metadata": {},
   "source": [
    "### Exercise 5\n",
    "\n",
    "Fix the `'make'` column by replacing the missing value with the value that occurred most frequently (mode)."
   ]
  },
  {
   "cell_type": "code",
   "execution_count": 84,
   "metadata": {},
   "outputs": [],
   "source": [
    "df[\"make\"] = df[\"make\"].fillna(df[\"make\"].mode()[0])"
   ]
  },
  {
   "cell_type": "code",
   "execution_count": 85,
   "metadata": {},
   "outputs": [
    {
     "data": {
      "text/plain": [
       "0    Toyota\n",
       "1    Toyota\n",
       "2    Toyota\n",
       "3    Toyota\n",
       "Name: make, dtype: object"
      ]
     },
     "execution_count": 85,
     "metadata": {},
     "output_type": "execute_result"
    }
   ],
   "source": [
    "df[\"make\"]"
   ]
  },
  {
   "cell_type": "markdown",
   "metadata": {},
   "source": [
    "### Exercise 6\n",
    "\n",
    "Fix the `'revenue (in thousands)'` column by calculating the approximate revenue. Remember that the value of `'revenue'` is in the 1000s.\n",
    "\n",
    "$$ \\textrm{revenue} = \\textrm{number sold} * \\textrm{price} $$"
   ]
  },
  {
   "cell_type": "code",
   "execution_count": 87,
   "metadata": {},
   "outputs": [],
   "source": [
    "df[\"revenue (in thousands)\"] = df[\"revenue (in thousands)\"].fillna((df[\"number sold\"]*df[\"price\"])/1000)"
   ]
  },
  {
   "cell_type": "code",
   "execution_count": 88,
   "metadata": {},
   "outputs": [
    {
     "data": {
      "text/html": [
       "<div>\n",
       "<style scoped>\n",
       "    .dataframe tbody tr th:only-of-type {\n",
       "        vertical-align: middle;\n",
       "    }\n",
       "\n",
       "    .dataframe tbody tr th {\n",
       "        vertical-align: top;\n",
       "    }\n",
       "\n",
       "    .dataframe thead th {\n",
       "        text-align: right;\n",
       "    }\n",
       "</style>\n",
       "<table border=\"1\" class=\"dataframe\">\n",
       "  <thead>\n",
       "    <tr style=\"text-align: right;\">\n",
       "      <th></th>\n",
       "      <th>year</th>\n",
       "      <th>make</th>\n",
       "      <th>model</th>\n",
       "      <th>number sold</th>\n",
       "      <th>price</th>\n",
       "      <th>revenue (in thousands)</th>\n",
       "    </tr>\n",
       "  </thead>\n",
       "  <tbody>\n",
       "    <tr>\n",
       "      <th>0</th>\n",
       "      <td>2019</td>\n",
       "      <td>Toyota</td>\n",
       "      <td>Camry</td>\n",
       "      <td>336978.0</td>\n",
       "      <td>24765.0</td>\n",
       "      <td>8345260.17</td>\n",
       "    </tr>\n",
       "    <tr>\n",
       "      <th>1</th>\n",
       "      <td>2019</td>\n",
       "      <td>Toyota</td>\n",
       "      <td>Corolla</td>\n",
       "      <td>304850.0</td>\n",
       "      <td>NaN</td>\n",
       "      <td>4560556.00</td>\n",
       "    </tr>\n",
       "    <tr>\n",
       "      <th>2</th>\n",
       "      <td>2019</td>\n",
       "      <td>Toyota</td>\n",
       "      <td>Supra</td>\n",
       "      <td>NaN</td>\n",
       "      <td>35545.0</td>\n",
       "      <td>102511.78</td>\n",
       "    </tr>\n",
       "    <tr>\n",
       "      <th>3</th>\n",
       "      <td>2019</td>\n",
       "      <td>Toyota</td>\n",
       "      <td>Avalon</td>\n",
       "      <td>NaN</td>\n",
       "      <td>36480.0</td>\n",
       "      <td>1012940.16</td>\n",
       "    </tr>\n",
       "  </tbody>\n",
       "</table>\n",
       "</div>"
      ],
      "text/plain": [
       "   year    make    model  number sold    price  revenue (in thousands)\n",
       "0  2019  Toyota    Camry     336978.0  24765.0              8345260.17\n",
       "1  2019  Toyota  Corolla     304850.0      NaN              4560556.00\n",
       "2  2019  Toyota    Supra          NaN  35545.0               102511.78\n",
       "3  2019  Toyota   Avalon          NaN  36480.0              1012940.16"
      ]
     },
     "execution_count": 88,
     "metadata": {},
     "output_type": "execute_result"
    }
   ],
   "source": [
    "df"
   ]
  },
  {
   "cell_type": "markdown",
   "metadata": {},
   "source": [
    "### Exercise 7\n",
    "\n",
    "Fix the `'price'` column by calculating the approximate price.\n",
    "\n",
    "$$ \\textrm{price} = \\frac{\\textrm{revenue}}{\\textrm{number sold}} $$"
   ]
  },
  {
   "cell_type": "code",
   "execution_count": 89,
   "metadata": {},
   "outputs": [],
   "source": [
    "df[\"price\"] = df[\"price\"].fillna(df[\"revenue (in thousands)\"]*1000/df[\"number sold\"])"
   ]
  },
  {
   "cell_type": "code",
   "execution_count": 90,
   "metadata": {},
   "outputs": [
    {
     "data": {
      "text/html": [
       "<div>\n",
       "<style scoped>\n",
       "    .dataframe tbody tr th:only-of-type {\n",
       "        vertical-align: middle;\n",
       "    }\n",
       "\n",
       "    .dataframe tbody tr th {\n",
       "        vertical-align: top;\n",
       "    }\n",
       "\n",
       "    .dataframe thead th {\n",
       "        text-align: right;\n",
       "    }\n",
       "</style>\n",
       "<table border=\"1\" class=\"dataframe\">\n",
       "  <thead>\n",
       "    <tr style=\"text-align: right;\">\n",
       "      <th></th>\n",
       "      <th>year</th>\n",
       "      <th>make</th>\n",
       "      <th>model</th>\n",
       "      <th>number sold</th>\n",
       "      <th>price</th>\n",
       "      <th>revenue (in thousands)</th>\n",
       "    </tr>\n",
       "  </thead>\n",
       "  <tbody>\n",
       "    <tr>\n",
       "      <th>0</th>\n",
       "      <td>2019</td>\n",
       "      <td>Toyota</td>\n",
       "      <td>Camry</td>\n",
       "      <td>336978.0</td>\n",
       "      <td>24765.0</td>\n",
       "      <td>8345260.17</td>\n",
       "    </tr>\n",
       "    <tr>\n",
       "      <th>1</th>\n",
       "      <td>2019</td>\n",
       "      <td>Toyota</td>\n",
       "      <td>Corolla</td>\n",
       "      <td>304850.0</td>\n",
       "      <td>14960.0</td>\n",
       "      <td>4560556.00</td>\n",
       "    </tr>\n",
       "    <tr>\n",
       "      <th>2</th>\n",
       "      <td>2019</td>\n",
       "      <td>Toyota</td>\n",
       "      <td>Supra</td>\n",
       "      <td>NaN</td>\n",
       "      <td>35545.0</td>\n",
       "      <td>102511.78</td>\n",
       "    </tr>\n",
       "    <tr>\n",
       "      <th>3</th>\n",
       "      <td>2019</td>\n",
       "      <td>Toyota</td>\n",
       "      <td>Avalon</td>\n",
       "      <td>NaN</td>\n",
       "      <td>36480.0</td>\n",
       "      <td>1012940.16</td>\n",
       "    </tr>\n",
       "  </tbody>\n",
       "</table>\n",
       "</div>"
      ],
      "text/plain": [
       "   year    make    model  number sold    price  revenue (in thousands)\n",
       "0  2019  Toyota    Camry     336978.0  24765.0              8345260.17\n",
       "1  2019  Toyota  Corolla     304850.0  14960.0              4560556.00\n",
       "2  2019  Toyota    Supra          NaN  35545.0               102511.78\n",
       "3  2019  Toyota   Avalon          NaN  36480.0              1012940.16"
      ]
     },
     "execution_count": 90,
     "metadata": {},
     "output_type": "execute_result"
    }
   ],
   "source": [
    "df"
   ]
  },
  {
   "cell_type": "markdown",
   "metadata": {},
   "source": [
    "### Exercise 8\n",
    "\n",
    "Fix the `'number sold'` column by calculating the approximate number of vehicles sold.\n",
    "\n",
    "$$ \\textrm{number sold} = \\frac{\\textrm{revenue}}{\\textrm{price}} $$"
   ]
  },
  {
   "cell_type": "code",
   "execution_count": 91,
   "metadata": {},
   "outputs": [],
   "source": [
    "df[\"number sold\"] = df[\"number sold\"].fillna((df[\"revenue (in thousands)\"]*1000)/df[\"price\"])"
   ]
  },
  {
   "cell_type": "code",
   "execution_count": 92,
   "metadata": {},
   "outputs": [
    {
     "data": {
      "text/html": [
       "<div>\n",
       "<style scoped>\n",
       "    .dataframe tbody tr th:only-of-type {\n",
       "        vertical-align: middle;\n",
       "    }\n",
       "\n",
       "    .dataframe tbody tr th {\n",
       "        vertical-align: top;\n",
       "    }\n",
       "\n",
       "    .dataframe thead th {\n",
       "        text-align: right;\n",
       "    }\n",
       "</style>\n",
       "<table border=\"1\" class=\"dataframe\">\n",
       "  <thead>\n",
       "    <tr style=\"text-align: right;\">\n",
       "      <th></th>\n",
       "      <th>year</th>\n",
       "      <th>make</th>\n",
       "      <th>model</th>\n",
       "      <th>number sold</th>\n",
       "      <th>price</th>\n",
       "      <th>revenue (in thousands)</th>\n",
       "    </tr>\n",
       "  </thead>\n",
       "  <tbody>\n",
       "    <tr>\n",
       "      <th>0</th>\n",
       "      <td>2019</td>\n",
       "      <td>Toyota</td>\n",
       "      <td>Camry</td>\n",
       "      <td>336978.0</td>\n",
       "      <td>24765.0</td>\n",
       "      <td>8345260.17</td>\n",
       "    </tr>\n",
       "    <tr>\n",
       "      <th>1</th>\n",
       "      <td>2019</td>\n",
       "      <td>Toyota</td>\n",
       "      <td>Corolla</td>\n",
       "      <td>304850.0</td>\n",
       "      <td>14960.0</td>\n",
       "      <td>4560556.00</td>\n",
       "    </tr>\n",
       "    <tr>\n",
       "      <th>2</th>\n",
       "      <td>2019</td>\n",
       "      <td>Toyota</td>\n",
       "      <td>Supra</td>\n",
       "      <td>2884.0</td>\n",
       "      <td>35545.0</td>\n",
       "      <td>102511.78</td>\n",
       "    </tr>\n",
       "    <tr>\n",
       "      <th>3</th>\n",
       "      <td>2019</td>\n",
       "      <td>Toyota</td>\n",
       "      <td>Avalon</td>\n",
       "      <td>27767.0</td>\n",
       "      <td>36480.0</td>\n",
       "      <td>1012940.16</td>\n",
       "    </tr>\n",
       "  </tbody>\n",
       "</table>\n",
       "</div>"
      ],
      "text/plain": [
       "   year    make    model  number sold    price  revenue (in thousands)\n",
       "0  2019  Toyota    Camry     336978.0  24765.0              8345260.17\n",
       "1  2019  Toyota  Corolla     304850.0  14960.0              4560556.00\n",
       "2  2019  Toyota    Supra       2884.0  35545.0               102511.78\n",
       "3  2019  Toyota   Avalon      27767.0  36480.0              1012940.16"
      ]
     },
     "execution_count": 92,
     "metadata": {},
     "output_type": "execute_result"
    }
   ],
   "source": [
    "df"
   ]
  },
  {
   "cell_type": "code",
   "execution_count": null,
   "metadata": {},
   "outputs": [],
   "source": []
  }
 ],
 "metadata": {
  "kernelspec": {
   "display_name": "Python 3",
   "language": "python",
   "name": "python3"
  },
  "language_info": {
   "codemirror_mode": {
    "name": "ipython",
    "version": 3
   },
   "file_extension": ".py",
   "mimetype": "text/x-python",
   "name": "python",
   "nbconvert_exporter": "python",
   "pygments_lexer": "ipython3",
   "version": "3.8.3"
  }
 },
 "nbformat": 4,
 "nbformat_minor": 5
}
