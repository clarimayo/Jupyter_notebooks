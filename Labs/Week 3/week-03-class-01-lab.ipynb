{
 "cells": [
  {
   "cell_type": "markdown",
   "metadata": {},
   "source": [
    "<div style=\"background: #000;\n",
    "            color: #FFF;\n",
    "            margin: 0px;\n",
    "                padding: 10px 0px 20px 0px;\n",
    "            text-align: center; \n",
    "                \">\n",
    "    <h1>Week 3 - Class 1 - Lab</h1>\n",
    "</div>"
   ]
  },
  {
   "cell_type": "markdown",
   "metadata": {},
   "source": [
    "# Question 1\n",
    "    \n",
    "Why do we need control structures and conditionals? Name one scenario we've encountered in previous assignments that could have benefitted from the use of these things. How would it have helped?"
   ]
  },
  {
   "cell_type": "markdown",
   "metadata": {},
   "source": [
    "I think structures and conditional help keep organize and direct the flow of a the code so certain things only run if the statement is True. That way we have into a account that things might change in the future, this will make the code more versitile and make it less repetible. \n",
    "In week 2 lab 1 we had a question : b. Use del to delete all numbers divisible by 2, 3, 4 and 5. Print the list. I think this example would of flow much better with a loop and an if statemenet because the loop would of gone element by element and deleted the one that fit the criteria instead having to print the index of each element over and over again. "
   ]
  },
  {
   "cell_type": "markdown",
   "metadata": {},
   "source": [
    "# Exercise 1\n",
    "\n",
    "Given the input variable, write conditional statements to return True if an element:\n",
    "* contains a string longer than 30.\n",
    "* is a number greater than 30.\n",
    "* is a string less than 30 characters containing a number.\n",
    "* otherwise store the value to a list."
   ]
  },
  {
   "cell_type": "code",
   "execution_count": 1,
   "metadata": {},
   "outputs": [],
   "source": [
    "# # list of different types to iterate #through and test\n",
    "L = [\"12345678901234567890123456789012345\", \"1324\", \"test\", 234, 4.0]\n",
    "new_list = []"
   ]
  },
  {
   "cell_type": "code",
   "execution_count": 2,
   "metadata": {},
   "outputs": [
    {
     "name": "stdout",
     "output_type": "stream",
     "text": [
      "string is longer than 30\n",
      "True\n",
      "\n",
      "\n",
      "string is less than 30 and has a number in it\n",
      "True\n",
      "\n",
      "\n",
      "string is less than 30 and doesn't have a number in it\n",
      "\n",
      "\n",
      "number is bigger than 30\n",
      "True\n",
      "\n",
      "\n",
      "[4.0]\n"
     ]
    }
   ],
   "source": [
    "for l in L:\n",
    "    if type(l) == str:\n",
    "        if len(l) > 30:\n",
    "            print(\"string is longer than 30\")\n",
    "            print(True)\n",
    "            print(\"\\n\")    \n",
    "        elif len(l) < 30:\n",
    "            if (\"1\" or \"2\" or \"3\" or \"4\" or \"5\" or \"6\" or \"7\" or \"8\" or \"9\" or \"0\") in l:\n",
    "                print(\"string is less than 30 and has a number in it\")\n",
    "                print(True)\n",
    "                print(\"\\n\")\n",
    "            else:\n",
    "                print(\"string is less than 30 and doesn't have a number in it\")\n",
    "                print(\"\\n\")\n",
    "    elif type(l) == int:\n",
    "        if l > 30:\n",
    "            print(\"number is bigger than 30\")\n",
    "            print(True)\n",
    "            print(\"\\n\")\n",
    "    else:\n",
    "         new_list.append(l)\n",
    "print(new_list)"
   ]
  },
  {
   "cell_type": "markdown",
   "metadata": {},
   "source": [
    "# Exercise 2\n",
    "\n",
    "Create a \"switch\" statement that takes a number and prints \"fizz\" if the number is greater than 0 **and** even, \"buzz\" if greater than 0 and odd, an absolute value of the number if negative, \"ZERO\" if 0 and \"not a number\" otherwise. "
   ]
  },
  {
   "cell_type": "code",
   "execution_count": 3,
   "metadata": {},
   "outputs": [
    {
     "name": "stdout",
     "output_type": "stream",
     "text": [
      "1\n",
      "\n",
      "\n",
      "6\n",
      "Fizz\n",
      "\n",
      "\n",
      "ZERO\n",
      "\n",
      "\n",
      "3\n",
      "Buzz\n",
      "\n",
      "\n",
      "7\n",
      "Buzz\n",
      "\n",
      "\n",
      "a\n",
      "is not a number\n",
      "\n",
      "\n",
      "4.2\n",
      "is not a number\n",
      "\n",
      "\n"
     ]
    }
   ],
   "source": [
    "for x in [-1,6,0,3,7,\"a\", 4.2]:\n",
    "    if type(x) == int:\n",
    "        if x > 0 and x % 2 == 0:\n",
    "            print(x)\n",
    "            print(\"Fizz\")\n",
    "            print(\"\\n\")\n",
    "        elif x > 0 and x % 2 == 1:\n",
    "            print(x)\n",
    "            print(\"Buzz\")\n",
    "            print(\"\\n\")\n",
    "        elif x < 0:\n",
    "#           print(x)\n",
    "            print(x * -1)\n",
    "            print(\"\\n\")\n",
    "        elif x == 0:\n",
    "#             print(x)\n",
    "            print(\"ZERO\")\n",
    "            print(\"\\n\")\n",
    "    else:       \n",
    "        print(x)\n",
    "        print(\"is not a number\")\n",
    "        print(\"\\n\")"
   ]
  },
  {
   "cell_type": "markdown",
   "metadata": {},
   "source": [
    "# Exercise 3\n",
    "\n",
    "Using the following code. Write an if statement that takes the `value` returned by the `random_function` and does the following:\n",
    "* print \"true\" if False\n",
    "* print \"false\" if True,\n",
    "* sorts a string and prints it if the string is all lowercase\n",
    "* prints \"one char\" if there's a single uppercase character\n",
    "* prints \"string\" if the other two don't apply (hint: nest)\n",
    "* append the value to a list if a number greater or equal to 0.\n",
    "* add the absolute value of a negative number to a sum"
   ]
  },
  {
   "cell_type": "code",
   "execution_count": 3,
   "metadata": {},
   "outputs": [],
   "source": [
    "import random \n",
    "import string\n",
    "def random_string():\n",
    "    letters = string.ascii_letters\n",
    "    r = [random.choice(letters) for i in range(4)]\n",
    "    return \"\".join(r)\n",
    "def random_number():\n",
    "    return random.randint(-1000,1000)\n",
    "def random_bool():\n",
    "    return bool(random.randint(0,1))\n",
    "def random_function():\n",
    "    s = {\n",
    "        0: random_string(),\n",
    "        1: random_number(), \n",
    "        2: random_bool(),\n",
    "    }\n",
    "    return s[random.randint(0, 2)]"
   ]
  },
  {
   "cell_type": "code",
   "execution_count": 4,
   "metadata": {},
   "outputs": [
    {
     "name": "stdout",
     "output_type": "stream",
     "text": [
      "DYbJ\n"
     ]
    },
    {
     "data": {
      "text/plain": [
       "str"
      ]
     },
     "execution_count": 4,
     "metadata": {},
     "output_type": "execute_result"
    }
   ],
   "source": [
    "value = random_function()\n",
    "print(value)\n",
    "type(value)"
   ]
  },
  {
   "cell_type": "code",
   "execution_count": 1,
   "metadata": {},
   "outputs": [],
   "source": [
    "#put your code here:\n",
    "\n",
    "new_list = []\n",
    "\n",
    "def one_uppercase(string):\n",
    "    count = 0\n",
    "    for i in string:\n",
    "        if i.isupper():\n",
    "            count += 1\n",
    "    if count == 1:\n",
    "        return True\n",
    "    return False\n",
    "        \n",
    "def test_string(my_value):\n",
    "        if type(my_value) == bool:\n",
    "            if my_value == False:\n",
    "                print(\"true\")\n",
    "            elif my_value == True:\n",
    "                print(\"false\")\n",
    "        elif type(my_value) == str:\n",
    "            if my_value.islower():\n",
    "                sorted_my_value = sorted(my_value)\n",
    "                print(\"\".join(sorted_my_value))\n",
    "            elif one_uppercase(my_value):\n",
    "                print(\"one char\")\n",
    "            else:\n",
    "                print(\"string\")\n",
    "        elif type(my_value) == int:\n",
    "            if my_value >= 0:\n",
    "                new_list.append(my_value)\n",
    "                print(new_list)\n",
    "            elif my_value < 0:\n",
    "                print(4 + 5 + abs(my_value))\n",
    "            \n",
    "\n",
    "# test_string(value)       \n",
    "# test_string(False)\n",
    "# test_string(True)\n",
    "# test_string(\"test\")\n",
    "\n",
    "# print(one_uppercase(\"teSt\"))\n",
    "# print(one_uppercase(\"test\"))\n",
    "\n",
    "# test_string(\"teST\")\n",
    "# test_string(\"teSt\")\n",
    "# test_string(45)\n",
    "# test_string(-3)"
   ]
  },
  {
   "cell_type": "code",
   "execution_count": null,
   "metadata": {},
   "outputs": [],
   "source": []
  }
 ],
 "metadata": {
  "kernelspec": {
   "display_name": "Python 3",
   "language": "python",
   "name": "python3"
  },
  "language_info": {
   "codemirror_mode": {
    "name": "ipython",
    "version": 3
   },
   "file_extension": ".py",
   "mimetype": "text/x-python",
   "name": "python",
   "nbconvert_exporter": "python",
   "pygments_lexer": "ipython3",
   "version": "3.8.3"
  }
 },
 "nbformat": 4,
 "nbformat_minor": 4
}
