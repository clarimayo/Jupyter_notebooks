{
 "cells": [
  {
   "cell_type": "markdown",
   "metadata": {},
   "source": [
    "Given an array of unique integers salary where salary[i] is the salary of the employee i.\n",
    "\n",
    "Return the average salary of employees excluding the minimum and maximum salary.\n",
    "\n",
    "\n",
    "\n",
    "`Example 1:`\n",
    "\n",
    "Input: salary = [4000,3000,1000,2000]\n",
    "Output: 2500.00000\n",
    "Explanation: Minimum salary and maximum salary are 1000 and 4000 respectively.\n",
    "Average salary excluding minimum and maximum salary is (2000+3000)/2= 2500\n",
    "\n",
    "`Example 2:`\n",
    "\n",
    "Input: salary = [1000,2000,3000]\n",
    "Output: 2000.00000\n",
    "Explanation: Minimum salary and maximum salary are 1000 and 3000 respectively.\n",
    "Average salary excluding minimum and maximum salary is (2000)/1= 2000\n",
    "\n",
    "`Example 3:`\n",
    "\n",
    "Input: salary = [6000,5000,4000,3000,2000,1000]\n",
    "Output: 3500.00000\n",
    "\n",
    "`Example 4:`\n",
    "\n",
    "Input: salary = [8000,9000,2000,3000,6000,1000]\n",
    "Output: 4750.00000\n",
    "\n"
   ]
  },
  {
   "cell_type": "code",
   "execution_count": 20,
   "metadata": {},
   "outputs": [
    {
     "name": "stdout",
     "output_type": "stream",
     "text": [
      "Salaries    2500.0\n",
      "dtype: float64\n",
      "Salaries    2000.0\n",
      "dtype: float64\n",
      "Salaries    3500.0\n",
      "dtype: float64\n",
      "Salaries    4750.0\n",
      "dtype: float64\n",
      "solution is correct\n"
     ]
    }
   ],
   "source": [
    "import pandas as pd\n",
    "def bonus_ex1(salaries):\n",
    "    salaries_dataframe = pd.DataFrame(\n",
    "        {\n",
    "            \"Salaries\":salaries\n",
    "       }\n",
    "    )\n",
    "    new_dataset = salaries_dataframe.sort_values(\"Salaries\")\n",
    "    return new_dataset[1:-1].mean()\n",
    "\n",
    "print(bonus_ex1([4000,3000,1000,2000]))\n",
    "print(bonus_ex1([1000,2000,3000]))\n",
    "print(bonus_ex1([6000,5000,4000,3000,2000,1000]))\n",
    "print(bonus_ex1([8000,9000,2000,3000,6000,1000]))\n",
    "\n",
    "\n",
    "try:\n",
    "    bonus_ex1([4000,3000,2000,1000]).eq(2500.0)\n",
    "    bonus_ex1([1000,2000,3000]).eq(2000.0)\n",
    "    bonus_ex1([6000,5000,4000,3000,2000,1000]).eq(3500.0)\n",
    "    bonus_ex1([8000,9000,2000,3000,6000,1000]).eq(4750.0)\n",
    "    print(\"solution is correct\")\n",
    "except:\n",
    "    print(\"solution is incorrect\")"
   ]
  },
  {
   "cell_type": "code",
   "execution_count": null,
   "metadata": {},
   "outputs": [],
   "source": []
  },
  {
   "cell_type": "code",
   "execution_count": null,
   "metadata": {},
   "outputs": [],
   "source": []
  }
 ],
 "metadata": {
  "kernelspec": {
   "display_name": "Python 3",
   "language": "python",
   "name": "python3"
  },
  "language_info": {
   "codemirror_mode": {
    "name": "ipython",
    "version": 3
   },
   "file_extension": ".py",
   "mimetype": "text/x-python",
   "name": "python",
   "nbconvert_exporter": "python",
   "pygments_lexer": "ipython3",
   "version": "3.8.3"
  }
 },
 "nbformat": 4,
 "nbformat_minor": 4
}
