{
 "cells": [
  {
   "cell_type": "markdown",
   "metadata": {},
   "source": [
    "<div style=\"background: #000;\n",
    "            color: #FFF;\n",
    "            margin: 0px;\n",
    "            padding: 10px 0px 20px 0px;\n",
    "            text-align: center; \n",
    "                \">\n",
    "    <h1>Week 18 Lab</h1>\n",
    "</div>"
   ]
  },
  {
   "cell_type": "markdown",
   "metadata": {},
   "source": [
    "For today's lab, we'll be using the Marvel comic book characters data set available from [538](https://github.com/fivethirtyeight/data/tree/master/comic-characters)\n",
    "\n",
    "The data comes from [Marvel Wikia](http://marvel.wikia.com/Main_Page) and [DC Wikia](http://dc.wikia.com/wiki/Main_Page). Characters were scraped on August 24. Appearance counts were scraped on September 2. The month and year of the first issue each character appeared in was pulled on October 6.\n",
    "\n",
    "The data is split into two files, for DC and Marvel, respectively: `dc-wikia-data.csv` and `marvel-wikia-data.csv`. Each file has the following variables:\n",
    "\n",
    "Variable | Definition\n",
    "---|---------\n",
    "`page_id` | The unique identifier for that characters page within the wikia\n",
    "`name` | The name of the character\n",
    "`urlslug` | The unique url within the wikia that takes you to the character\n",
    "`ID` | The identity status of the character (Secret Identity, Public identity, [on marvel only: No Dual Identity])\n",
    "`ALIGN` | If the character is Good, Bad or Neutral\n",
    "`EYE` | Eye color of the character\n",
    "`HAIR` | Hair color of the character\n",
    "`SEX` | Sex of the character (e.g. Male, Female, etc.)\n",
    "`GSM` | If the character is a gender or sexual minority (e.g. Homosexual characters, bisexual characters)\n",
    "`ALIVE` | If the character is alive or deceased\n",
    "`APPEARANCES` | The number of appareances of the character in comic books (as of Sep. 2, 2014. Number will become increasingly out of date as time goes on.)\n",
    "`FIRST APPEARANCE` | The month and year of the character's first appearance in a comic book, if available\n",
    "`YEAR` | The year of the character's first appearance in a comic book, if available\n"
   ]
  },
  {
   "cell_type": "markdown",
   "metadata": {},
   "source": [
    "Importing the libraries we'll be using"
   ]
  },
  {
   "cell_type": "code",
   "execution_count": 1,
   "metadata": {},
   "outputs": [],
   "source": [
    "import numpy as np \n",
    "import pandas as pd \n",
    "import datetime"
   ]
  },
  {
   "cell_type": "markdown",
   "metadata": {},
   "source": [
    "Let's open the `marvel-wikia-data.csv` file and generate a dataframe. Then we'll check the top of the `df` to see what we have."
   ]
  },
  {
   "cell_type": "code",
   "execution_count": 2,
   "metadata": {},
   "outputs": [],
   "source": [
    "df = pd.read_csv(\"marvel-wikia-data.csv\")"
   ]
  },
  {
   "cell_type": "markdown",
   "metadata": {},
   "source": [
    "As you can see we have a couple of issues:\n",
    "* The column `names` has, in some cases, both the hero name and their secret identity. In other cases, it has the universe the hero is from (usually Earth-616). We'd like for `name` to be the superhero. If a secret identity name is available, we'd like for that to be in it's own column. We'd also like a column `origin` for the superhero's place of origin (usually Earth-616).\n",
    "* ✓ The `urlslug` column is incorrect. We'd like for that to be a complete link. For example, spiderman's wikia link is https://marvel.fandom.com/wiki/Peter_Parker_(Earth-616) but if you use the `Spider-Man_(Peter_Parker)` from the `urlslug` (https://marvel.fandom.com/wiki/Spider-Man_(Peter_Parker), the page redirects to the correct page. You can choose to fix it various different ways but it should be a working link. Use \"https://marvel.fandom.com/wiki/\" as the beginning of your url.\n",
    "* ✓ For the column `align`, we'd like for the \"Characters\" part to be removed. We'd like for that column to be categorical (Good, Neutral, Evil or blank).\n",
    "* ✓ Same for the columns `EYE`, `HAIR`, `SEX` and `ID`. We want to drop the extraneous data and have simple categories (e.g. for `ID` we want categories [\"Known\",\"Public\", \"Secret\", \"None\"] and for `SEX` we just want [\"Male\", \"Female\",\"Genderfluid\",\"Agender\"]. There's a way shown below that shows the various possible categories.\n",
    "* ✓ Some data is in the wrong format. For example, `Year` and `APPEARANCES` are floats but they really should be ints (as you cannot have a non-int number of appearances). \n",
    "* Some data doesn't match up (like the `FIRST APPEARANCE` and `Year` columns might have not be the same year)\n",
    "* Some columns are unnecessary. Some are missing data. Some rows are duplicates. Fix those as necessary.\n",
    "* Some column names are written as uppercase, some are lowercase and some are mixed case. Normalize them so all the column names are in the same format.\n",
    "\n",
    "Fix as many of these issues as you're able to. At the minimum, complete 4 of the above bulletpoints."
   ]
  },
  {
   "cell_type": "markdown",
   "metadata": {},
   "source": [
    "#### 1. We'd like for that column to be categorical (Good, Neutral, Evil or blank)."
   ]
  },
  {
   "cell_type": "code",
   "execution_count": 4,
   "metadata": {},
   "outputs": [],
   "source": [
    "df['ALIGN'] = df['ALIGN'].str.split(\" \").str[0]"
   ]
  },
  {
   "cell_type": "code",
   "execution_count": 5,
   "metadata": {},
   "outputs": [],
   "source": [
    "df[\"ALIGN\"] = df[\"ALIGN\"].replace([\"Bad\"], \"Evil\")"
   ]
  },
  {
   "cell_type": "code",
   "execution_count": 6,
   "metadata": {},
   "outputs": [
    {
     "data": {
      "text/plain": [
       "11838     True\n",
       "2244      True\n",
       "2227      True\n",
       "13469     True\n",
       "2228      True\n",
       "         ...  \n",
       "10316    False\n",
       "10315    False\n",
       "10314    False\n",
       "10313    False\n",
       "0        False\n",
       "Name: ALIGN, Length: 16376, dtype: bool"
      ]
     },
     "execution_count": 6,
     "metadata": {},
     "output_type": "execute_result"
    }
   ],
   "source": [
    "#blank values\n",
    "df[\"ALIGN\"].isna().sort_values(ascending=False)"
   ]
  },
  {
   "cell_type": "code",
   "execution_count": 7,
   "metadata": {},
   "outputs": [
    {
     "data": {
      "text/html": [
       "<div>\n",
       "<style scoped>\n",
       "    .dataframe tbody tr th:only-of-type {\n",
       "        vertical-align: middle;\n",
       "    }\n",
       "\n",
       "    .dataframe tbody tr th {\n",
       "        vertical-align: top;\n",
       "    }\n",
       "\n",
       "    .dataframe thead th {\n",
       "        text-align: right;\n",
       "    }\n",
       "</style>\n",
       "<table border=\"1\" class=\"dataframe\">\n",
       "  <thead>\n",
       "    <tr style=\"text-align: right;\">\n",
       "      <th></th>\n",
       "      <th>page_id</th>\n",
       "      <th>APPEARANCES</th>\n",
       "      <th>Year</th>\n",
       "    </tr>\n",
       "    <tr>\n",
       "      <th>ALIGN</th>\n",
       "      <th></th>\n",
       "      <th></th>\n",
       "      <th></th>\n",
       "    </tr>\n",
       "  </thead>\n",
       "  <tbody>\n",
       "    <tr>\n",
       "      <th>Evil</th>\n",
       "      <td>2030768533</td>\n",
       "      <td>52910.0</td>\n",
       "      <td>12780912.0</td>\n",
       "    </tr>\n",
       "    <tr>\n",
       "      <th>Good</th>\n",
       "      <td>1310680907</td>\n",
       "      <td>150603.0</td>\n",
       "      <td>8670851.0</td>\n",
       "    </tr>\n",
       "    <tr>\n",
       "      <th>Neutral</th>\n",
       "      <td>771906748</td>\n",
       "      <td>41091.0</td>\n",
       "      <td>4122737.0</td>\n",
       "    </tr>\n",
       "  </tbody>\n",
       "</table>\n",
       "</div>"
      ],
      "text/plain": [
       "            page_id  APPEARANCES        Year\n",
       "ALIGN                                       \n",
       "Evil     2030768533      52910.0  12780912.0\n",
       "Good     1310680907     150603.0   8670851.0\n",
       "Neutral   771906748      41091.0   4122737.0"
      ]
     },
     "execution_count": 7,
     "metadata": {},
     "output_type": "execute_result"
    }
   ],
   "source": [
    "def see_possible_categories(col):\n",
    "    return df.groupby(col).sum()\n",
    "    \n",
    "see_possible_categories(\"ALIGN\")"
   ]
  },
  {
   "cell_type": "markdown",
   "metadata": {},
   "source": [
    "<div style=\"background: #000;\n",
    "            color: #FFF;\n",
    "            margin: 0px;\n",
    "            padding: 3px 0px 3px 0px;\n",
    "            text-align: center; \n",
    "                \">\n",
    "</div>"
   ]
  },
  {
   "cell_type": "markdown",
   "metadata": {},
   "source": [
    "#### 2. Removing extraneous data from EYE, HAIR, SEX,ALIVE and ID \n",
    "#### ID [\"Known\",\"Public\", \"Secret\", \"None\"]  and SEX [\"Male\", \"Female\",\"Genderfluid\",\"Agender\"]"
   ]
  },
  {
   "cell_type": "code",
   "execution_count": 8,
   "metadata": {},
   "outputs": [],
   "source": [
    "df['EYE'] = df['EYE'].str.split(' ').str[0]"
   ]
  },
  {
   "cell_type": "code",
   "execution_count": 9,
   "metadata": {},
   "outputs": [],
   "source": [
    "df['HAIR'] = df['HAIR'].str.split(' ').str[0]"
   ]
  },
  {
   "cell_type": "code",
   "execution_count": 10,
   "metadata": {},
   "outputs": [],
   "source": [
    "df['SEX'] = df['SEX'].str.split(' ').str[0]"
   ]
  },
  {
   "cell_type": "code",
   "execution_count": 11,
   "metadata": {},
   "outputs": [],
   "source": [
    "df['ALIVE'] = df['ALIVE'].str.split(' ').str[0]"
   ]
  },
  {
   "cell_type": "code",
   "execution_count": 12,
   "metadata": {},
   "outputs": [],
   "source": [
    "df['ID']= df['ID'].str.split(' ').str[0]"
   ]
  },
  {
   "cell_type": "code",
   "execution_count": 13,
   "metadata": {},
   "outputs": [],
   "source": [
    "df[\"ID\"] = df[\"ID\"].replace([\"No\"], \"None\")"
   ]
  },
  {
   "cell_type": "code",
   "execution_count": 14,
   "metadata": {},
   "outputs": [],
   "source": [
    "df[\"ID\"] = df[\"ID\"].fillna(\"None\")"
   ]
  },
  {
   "cell_type": "code",
   "execution_count": 15,
   "metadata": {},
   "outputs": [
    {
     "data": {
      "text/html": [
       "<div>\n",
       "<style scoped>\n",
       "    .dataframe tbody tr th:only-of-type {\n",
       "        vertical-align: middle;\n",
       "    }\n",
       "\n",
       "    .dataframe tbody tr th {\n",
       "        vertical-align: top;\n",
       "    }\n",
       "\n",
       "    .dataframe thead th {\n",
       "        text-align: right;\n",
       "    }\n",
       "</style>\n",
       "<table border=\"1\" class=\"dataframe\">\n",
       "  <thead>\n",
       "    <tr style=\"text-align: right;\">\n",
       "      <th></th>\n",
       "      <th>page_id</th>\n",
       "      <th>APPEARANCES</th>\n",
       "      <th>Year</th>\n",
       "    </tr>\n",
       "    <tr>\n",
       "      <th>SEX</th>\n",
       "      <th></th>\n",
       "      <th></th>\n",
       "      <th></th>\n",
       "    </tr>\n",
       "  </thead>\n",
       "  <tbody>\n",
       "    <tr>\n",
       "      <th>Agender</th>\n",
       "      <td>21600803</td>\n",
       "      <td>826.0</td>\n",
       "      <td>71744.0</td>\n",
       "    </tr>\n",
       "    <tr>\n",
       "      <th>Female</th>\n",
       "      <td>1065495438</td>\n",
       "      <td>73005.0</td>\n",
       "      <td>7221317.0</td>\n",
       "    </tr>\n",
       "    <tr>\n",
       "      <th>Genderfluid</th>\n",
       "      <td>25895</td>\n",
       "      <td>565.0</td>\n",
       "      <td>3954.0</td>\n",
       "    </tr>\n",
       "    <tr>\n",
       "      <th>Male</th>\n",
       "      <td>3534969300</td>\n",
       "      <td>182601.0</td>\n",
       "      <td>22013320.0</td>\n",
       "    </tr>\n",
       "  </tbody>\n",
       "</table>\n",
       "</div>"
      ],
      "text/plain": [
       "                page_id  APPEARANCES        Year\n",
       "SEX                                             \n",
       "Agender        21600803        826.0     71744.0\n",
       "Female       1065495438      73005.0   7221317.0\n",
       "Genderfluid       25895        565.0      3954.0\n",
       "Male         3534969300     182601.0  22013320.0"
      ]
     },
     "execution_count": 15,
     "metadata": {},
     "output_type": "execute_result"
    }
   ],
   "source": [
    "def see_possible_categories(col):\n",
    "    return df.groupby(col).sum()\n",
    "    \n",
    "see_possible_categories(\"SEX\")"
   ]
  },
  {
   "cell_type": "markdown",
   "metadata": {},
   "source": [
    "<div style=\"background: #000;\n",
    "            color: #FFF;\n",
    "            margin: 0px;\n",
    "            padding: 3px 0px 3px 0px;\n",
    "            text-align: center; \n",
    "                \">\n",
    "</div>"
   ]
  },
  {
   "cell_type": "markdown",
   "metadata": {},
   "source": [
    "#### 3. Some data is in the wrong format. For example, `Year` and `APPEARANCES` are floats but they really should be ints (as you cannot have a non-int number of appearances). "
   ]
  },
  {
   "cell_type": "code",
   "execution_count": 16,
   "metadata": {},
   "outputs": [],
   "source": [
    "df[\"APPEARANCES\"]= df[\"APPEARANCES\"].astype('Int64')   #Converted into int but NaN is now <NaN> does that matter?\n",
    "df[\"Year\"]= df[\"Year\"].astype('Int64')"
   ]
  },
  {
   "cell_type": "code",
   "execution_count": 17,
   "metadata": {},
   "outputs": [
    {
     "data": {
      "text/plain": [
       "0        4043\n",
       "1        3360\n",
       "2        3061\n",
       "3        2961\n",
       "4        2258\n",
       "         ... \n",
       "16371    <NA>\n",
       "16372    <NA>\n",
       "16373    <NA>\n",
       "16374    <NA>\n",
       "16375    <NA>\n",
       "Name: APPEARANCES, Length: 16376, dtype: Int64"
      ]
     },
     "execution_count": 17,
     "metadata": {},
     "output_type": "execute_result"
    }
   ],
   "source": [
    "df[\"APPEARANCES\"]"
   ]
  },
  {
   "cell_type": "markdown",
   "metadata": {},
   "source": [
    "<div style=\"background: #000;\n",
    "            color: #FFF;\n",
    "            margin: 0px;\n",
    "            padding: 3px 0px 3px 0px;\n",
    "            text-align: center; \n",
    "                \">\n",
    "</div>"
   ]
  },
  {
   "cell_type": "markdown",
   "metadata": {},
   "source": [
    "#### 4. from the `urlslug` (https://marvel.fandom.com/wiki/Spider-Man_(Peter_Parker), the page redirects to the correct page. You can choose to fix it various different ways but it should be a working link. Use \"https://marvel.fandom.com/wiki/\" as the beginning of your url."
   ]
  },
  {
   "cell_type": "code",
   "execution_count": 18,
   "metadata": {},
   "outputs": [],
   "source": [
    "df[\"urlslug\"] = \"https://marvel.fandom.com/wiki/\" + df[\"urlslug\"].str[2:]"
   ]
  },
  {
   "cell_type": "code",
   "execution_count": 19,
   "metadata": {},
   "outputs": [],
   "source": [
    "#changint the display so that the link appears complete and we can click it to open in browser\n",
    "pd.options.display.max_colwidth = 100"
   ]
  },
  {
   "cell_type": "code",
   "execution_count": 21,
   "metadata": {},
   "outputs": [
    {
     "data": {
      "text/plain": [
       "0                https://marvel.fandom.com/wiki/Spider-Man_(Peter_Parker)\n",
       "1          https://marvel.fandom.com/wiki/Captain_America_(Steven_Rogers)\n",
       "2    https://marvel.fandom.com/wiki/Wolverine_(James_%22Logan%22_Howlett)\n",
       "3      https://marvel.fandom.com/wiki/Iron_Man_(Anthony_%22Tony%22_Stark)\n",
       "4                      https://marvel.fandom.com/wiki/Thor_(Thor_Odinson)\n",
       "Name: urlslug, dtype: object"
      ]
     },
     "execution_count": 21,
     "metadata": {},
     "output_type": "execute_result"
    }
   ],
   "source": [
    "df[\"urlslug\"].head()"
   ]
  },
  {
   "cell_type": "markdown",
   "metadata": {},
   "source": [
    "<div style=\"background: #000;\n",
    "            color: #FFF;\n",
    "            margin: 0px;\n",
    "            padding: 3px 0px 3px 0px;\n",
    "            text-align: center; \n",
    "                \">\n",
    "</div>"
   ]
  },
  {
   "cell_type": "markdown",
   "metadata": {},
   "source": [
    "#### We'd like for `name` to be the superhero. If a secret identity name is available, we'd like for that to be in it's own column. We'd also like a column `origin` for the superhero's place of origin (usually Earth-616)."
   ]
  },
  {
   "cell_type": "code",
   "execution_count": null,
   "metadata": {},
   "outputs": [],
   "source": [
    "def see_possible_categories(col):\n",
    "    return df.groupby(col).sum()\n",
    "    \n",
    "see_possible_categories(\"origin\")"
   ]
  },
  {
   "cell_type": "code",
   "execution_count": null,
   "metadata": {},
   "outputs": [],
   "source": [
    "df"
   ]
  },
  {
   "cell_type": "code",
   "execution_count": null,
   "metadata": {},
   "outputs": [],
   "source": [
    "df[\"origin\"] = df['name'].str.split(' ').str[1:]"
   ]
  },
  {
   "cell_type": "code",
   "execution_count": null,
   "metadata": {},
   "outputs": [],
   "source": [
    "df[\"new_colun\"] = df['name'].str.split('(').str[1].replace(\")\",\"\")\n",
    "df[\"new_colun\"].replace([\")\"],\"\")"
   ]
  },
  {
   "cell_type": "code",
   "execution_count": null,
   "metadata": {},
   "outputs": [],
   "source": [
    "def new_columns(col):\n",
    "    lst = df['name'].str.split(' ')\n",
    "    \n",
    "    \n",
    "new_columns"
   ]
  },
  {
   "cell_type": "code",
   "execution_count": null,
   "metadata": {},
   "outputs": [],
   "source": [
    "df['name'].str.split(' ').str[2]"
   ]
  },
  {
   "cell_type": "code",
   "execution_count": null,
   "metadata": {},
   "outputs": [],
   "source": []
  },
  {
   "cell_type": "code",
   "execution_count": null,
   "metadata": {},
   "outputs": [],
   "source": [
    "df[\"secret_identity\"] = df['name'].str.split('(',3).str[1]"
   ]
  },
  {
   "cell_type": "code",
   "execution_count": null,
   "metadata": {},
   "outputs": [],
   "source": [
    "df[\"name\"] = df['name'].str.split('(',3).str[0]"
   ]
  },
  {
   "cell_type": "code",
   "execution_count": null,
   "metadata": {},
   "outputs": [],
   "source": [
    "df.columns.tolist()"
   ]
  },
  {
   "cell_type": "code",
   "execution_count": null,
   "metadata": {},
   "outputs": [],
   "source": [
    "df = df.reindex(['page_id',\n",
    " 'name',\n",
    " 'secret_identity',\n",
    " 'origin',\n",
    " 'urlslug',\n",
    " 'ID',\n",
    " 'ALIGN',\n",
    " 'EYE',\n",
    " 'HAIR',\n",
    " 'SEX',\n",
    " 'GSM',\n",
    " 'ALIVE',\n",
    " 'APPEARANCES',\n",
    " 'FIRST APPEARANCE',\n",
    " 'Year'], axis=1)"
   ]
  }
 ],
 "metadata": {
  "kernelspec": {
   "display_name": "Python 3",
   "language": "python",
   "name": "python3"
  },
  "language_info": {
   "codemirror_mode": {
    "name": "ipython",
    "version": 3
   },
   "file_extension": ".py",
   "mimetype": "text/x-python",
   "name": "python",
   "nbconvert_exporter": "python",
   "pygments_lexer": "ipython3",
   "version": "3.8.3"
  }
 },
 "nbformat": 4,
 "nbformat_minor": 4
}
