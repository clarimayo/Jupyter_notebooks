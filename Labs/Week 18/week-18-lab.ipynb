{
 "cells": [
  {
   "cell_type": "markdown",
   "metadata": {},
   "source": [
    "<div style=\"background: #000;\n",
    "            color: #FFF;\n",
    "            margin: 0px;\n",
    "            padding: 10px 0px 20px 0px;\n",
    "            text-align: center; \n",
    "                \">\n",
    "    <h1>Week 18 Lab</h1>\n",
    "</div>"
   ]
  },
  {
   "cell_type": "markdown",
   "metadata": {},
   "source": [
    "For today's lab, we'll be using the Marvel comic book characters data set available from [538](https://github.com/fivethirtyeight/data/tree/master/comic-characters)\n",
    "\n",
    "The data comes from [Marvel Wikia](http://marvel.wikia.com/Main_Page) and [DC Wikia](http://dc.wikia.com/wiki/Main_Page). Characters were scraped on August 24. Appearance counts were scraped on September 2. The month and year of the first issue each character appeared in was pulled on October 6.\n",
    "\n",
    "The data is split into two files, for DC and Marvel, respectively: `dc-wikia-data.csv` and `marvel-wikia-data.csv`. Each file has the following variables:\n",
    "\n",
    "Variable | Definition\n",
    "---|---------\n",
    "`page_id` | The unique identifier for that characters page within the wikia\n",
    "`name` | The name of the character\n",
    "`urlslug` | The unique url within the wikia that takes you to the character\n",
    "`ID` | The identity status of the character (Secret Identity, Public identity, [on marvel only: No Dual Identity])\n",
    "`ALIGN` | If the character is Good, Bad or Neutral\n",
    "`EYE` | Eye color of the character\n",
    "`HAIR` | Hair color of the character\n",
    "`SEX` | Sex of the character (e.g. Male, Female, etc.)\n",
    "`GSM` | If the character is a gender or sexual minority (e.g. Homosexual characters, bisexual characters)\n",
    "`ALIVE` | If the character is alive or deceased\n",
    "`APPEARANCES` | The number of appareances of the character in comic books (as of Sep. 2, 2014. Number will become increasingly out of date as time goes on.)\n",
    "`FIRST APPEARANCE` | The month and year of the character's first appearance in a comic book, if available\n",
    "`YEAR` | The year of the character's first appearance in a comic book, if available\n"
   ]
  },
  {
   "cell_type": "markdown",
   "metadata": {},
   "source": [
    "Importing the libraries we'll be using"
   ]
  },
  {
   "cell_type": "code",
   "execution_count": 1,
   "metadata": {},
   "outputs": [],
   "source": [
    "import numpy as np \n",
    "import pandas as pd \n",
    "import datetime"
   ]
  },
  {
   "cell_type": "markdown",
   "metadata": {},
   "source": [
    "Let's open the `marvel-wikia-data.csv` file and generate a dataframe. Then we'll check the top of the `df` to see what we have."
   ]
  },
  {
   "cell_type": "code",
   "execution_count": 2,
   "metadata": {},
   "outputs": [],
   "source": [
    "df = pd.read_csv(\"marvel-wikia-data.csv\")"
   ]
  },
  {
   "cell_type": "markdown",
   "metadata": {},
   "source": [
    "As you can see we have a couple of issues:\n",
    "* The column `names` has, in some cases, both the hero name and their secret identity. In other cases, it has the universe the hero is from (usually Earth-616). We'd like for `name` to be the superhero. If a secret identity name is available, we'd like for that to be in it's own column. We'd also like a column `origin` for the superhero's place of origin (usually Earth-616).\n",
    "* The `urlslug` column is incorrect. We'd like for that to be a complete link. For example, spiderman's wikia link is https://marvel.fandom.com/wiki/Peter_Parker_(Earth-616) but if you use the `Spider-Man_(Peter_Parker)` from the `urlslug` (https://marvel.fandom.com/wiki/Spider-Man_(Peter_Parker), the page redirects to the correct page. You can choose to fix it various different ways but it should be a working link. Use \"https://marvel.fandom.com/wiki/\" as the beginning of your url.\n",
    "* ✓ For the column `align`, we'd like for the \"Characters\" part to be removed. We'd like for that column to be categorical (Good, Neutral, Evil or blank).\n",
    "*  Same for the columns `EYE`, `HAIR`, `SEX` and `ID`. We want to drop the extraneous data and have simple categories (e.g. for `ID` we want categories [\"Known\",\"Public\", \"Secret\", \"None\"] and for `SEX` we just want [\"Male\", \"Female\",\"Genderfluid\",\"Agender\"]. There's a way shown below that shows the various possible categories.\n",
    "* Some data is in the wrong format. For example, `Year` and `APPEARANCES` are floats but they really should be ints (as you cannot have a non-int number of appearances). \n",
    "* Some data doesn't match up (like the `FIRST APPEARANCE` and `Year` columns might have not be the same year)\n",
    "* Some columns are unnecessary. Some are missing data. Some rows are duplicates. Fix those as necessary.\n",
    "* Some column names are written as uppercase, some are lowercase and some are mixed case. Normalize them so all the column names are in the same format.\n",
    "\n",
    "Fix as many of these issues as you're able to. At the minimum, complete 4 of the above bulletpoints."
   ]
  },
  {
   "cell_type": "code",
   "execution_count": 3,
   "metadata": {},
   "outputs": [
    {
     "data": {
      "text/plain": [
       "(16376, 13)"
      ]
     },
     "execution_count": 3,
     "metadata": {},
     "output_type": "execute_result"
    }
   ],
   "source": [
    "df.shape"
   ]
  },
  {
   "cell_type": "code",
   "execution_count": 4,
   "metadata": {},
   "outputs": [],
   "source": [
    "#removing character from align\n",
    "df['ALIGN'] = df['ALIGN'].str.split('C').str[0]"
   ]
  },
  {
   "cell_type": "code",
   "execution_count": 5,
   "metadata": {},
   "outputs": [],
   "source": [
    "#removing extraneous data from EYE, HAIR, SEX,ALIVE and ID\n",
    "df['EYE'] = df['EYE'].str.split('E').str[0]"
   ]
  },
  {
   "cell_type": "code",
   "execution_count": 6,
   "metadata": {},
   "outputs": [],
   "source": [
    "df['HAIR'] = df['HAIR'].str.split('H').str[0]"
   ]
  },
  {
   "cell_type": "code",
   "execution_count": 7,
   "metadata": {},
   "outputs": [],
   "source": [
    "df['SEX'] = df['SEX'].str.split('C').str[0]"
   ]
  },
  {
   "cell_type": "code",
   "execution_count": 8,
   "metadata": {},
   "outputs": [],
   "source": [
    "df['ALIVE'] = df['ALIVE'].str.split('C').str[0]"
   ]
  },
  {
   "cell_type": "code",
   "execution_count": 9,
   "metadata": {},
   "outputs": [],
   "source": [
    "df['ID']= df['ID'].str.split('I').str[0]"
   ]
  },
  {
   "cell_type": "code",
   "execution_count": 14,
   "metadata": {},
   "outputs": [
    {
     "data": {
      "text/html": [
       "<div>\n",
       "<style scoped>\n",
       "    .dataframe tbody tr th:only-of-type {\n",
       "        vertical-align: middle;\n",
       "    }\n",
       "\n",
       "    .dataframe tbody tr th {\n",
       "        vertical-align: top;\n",
       "    }\n",
       "\n",
       "    .dataframe thead th {\n",
       "        text-align: right;\n",
       "    }\n",
       "</style>\n",
       "<table border=\"1\" class=\"dataframe\">\n",
       "  <thead>\n",
       "    <tr style=\"text-align: right;\">\n",
       "      <th></th>\n",
       "      <th>page_id</th>\n",
       "      <th>APPEARANCES</th>\n",
       "      <th>Year</th>\n",
       "    </tr>\n",
       "    <tr>\n",
       "      <th>ID</th>\n",
       "      <th></th>\n",
       "      <th></th>\n",
       "      <th></th>\n",
       "    </tr>\n",
       "  </thead>\n",
       "  <tbody>\n",
       "    <tr>\n",
       "      <th>Known</th>\n",
       "      <td>785553</td>\n",
       "      <td>1116.0</td>\n",
       "      <td>29893.0</td>\n",
       "    </tr>\n",
       "    <tr>\n",
       "      <th>None</th>\n",
       "      <td>720142592</td>\n",
       "      <td>41215.0</td>\n",
       "      <td>3165853.0</td>\n",
       "    </tr>\n",
       "    <tr>\n",
       "      <th>Public</th>\n",
       "      <td>1613083818</td>\n",
       "      <td>100208.0</td>\n",
       "      <td>8657706.0</td>\n",
       "    </tr>\n",
       "    <tr>\n",
       "      <th>Secre</th>\n",
       "      <td>1531859636</td>\n",
       "      <td>102871.0</td>\n",
       "      <td>11876655.0</td>\n",
       "    </tr>\n",
       "  </tbody>\n",
       "</table>\n",
       "</div>"
      ],
      "text/plain": [
       "            page_id  APPEARANCES        Year\n",
       "ID                                          \n",
       "Known        785553       1116.0     29893.0\n",
       "None      720142592      41215.0   3165853.0\n",
       "Public   1613083818     100208.0   8657706.0\n",
       "Secre    1531859636     102871.0  11876655.0"
      ]
     },
     "execution_count": 14,
     "metadata": {},
     "output_type": "execute_result"
    }
   ],
   "source": [
    "def see_possible_categories(col):\n",
    "    return df.groupby(col).sum()\n",
    "    \n",
    "see_possible_categories(\"ID\")"
   ]
  },
  {
   "cell_type": "code",
   "execution_count": 11,
   "metadata": {},
   "outputs": [],
   "source": [
    "#replacing \"No dual\" to None\n",
    "# df['column name'].replace(['old value'],'new value')\n",
    "df[\"ID\"] = df[\"ID\"].replace([\"No Dual \"], \"None\")"
   ]
  },
  {
   "cell_type": "code",
   "execution_count": 13,
   "metadata": {},
   "outputs": [],
   "source": [
    "df['ID']= df['ID'].str.split('t').str[0]"
   ]
  },
  {
   "cell_type": "code",
   "execution_count": null,
   "metadata": {},
   "outputs": [],
   "source": [
    "df[\"ID\"] = df[\"ID\"].replace([\"No Dual \"], \"None\")"
   ]
  },
  {
   "cell_type": "code",
   "execution_count": null,
   "metadata": {},
   "outputs": [],
   "source": [
    "df.fillna(\"None\", inplace=True)"
   ]
  },
  {
   "cell_type": "code",
   "execution_count": null,
   "metadata": {},
   "outputs": [],
   "source": [
    "#SEX we just want [\"Male\", \"Female\",\"Genderfluid\",\"Agender\"]"
   ]
  },
  {
   "cell_type": "code",
   "execution_count": null,
   "metadata": {},
   "outputs": [],
   "source": [
    "# df[\"new_name\"] = df['name'].str.split(')',3)\n",
    "# df"
   ]
  },
  {
   "cell_type": "code",
   "execution_count": null,
   "metadata": {},
   "outputs": [],
   "source": []
  },
  {
   "cell_type": "code",
   "execution_count": null,
   "metadata": {},
   "outputs": [],
   "source": [
    "#making the origin column using split \n",
    "df[\"origin\"] = df['name'].str.split('(',3).str[2]"
   ]
  },
  {
   "cell_type": "code",
   "execution_count": null,
   "metadata": {},
   "outputs": [],
   "source": [
    "df[\"secret_identity\"] = df['name'].str.split('(',3).str[1]"
   ]
  },
  {
   "cell_type": "code",
   "execution_count": null,
   "metadata": {},
   "outputs": [],
   "source": [
    "df[\"name\"] = df['name'].str.split('(',3).str[0]"
   ]
  },
  {
   "cell_type": "code",
   "execution_count": null,
   "metadata": {},
   "outputs": [],
   "source": [
    "df"
   ]
  },
  {
   "cell_type": "code",
   "execution_count": null,
   "metadata": {},
   "outputs": [],
   "source": [
    "df.columns.tolist()"
   ]
  },
  {
   "cell_type": "code",
   "execution_count": null,
   "metadata": {},
   "outputs": [],
   "source": [
    "df = df.reindex(['page_id',\n",
    " 'name',\n",
    " 'secret_identity',\n",
    " 'origin',\n",
    " 'urlslug',\n",
    " 'ID',\n",
    " 'ALIGN',\n",
    " 'EYE',\n",
    " 'HAIR',\n",
    " 'SEX',\n",
    " 'GSM',\n",
    " 'ALIVE',\n",
    " 'APPEARANCES',\n",
    " 'FIRST APPEARANCE',\n",
    " 'Year'], axis=1)"
   ]
  },
  {
   "cell_type": "code",
   "execution_count": null,
   "metadata": {},
   "outputs": [],
   "source": [
    "df"
   ]
  },
  {
   "cell_type": "code",
   "execution_count": null,
   "metadata": {},
   "outputs": [],
   "source": [
    "#"
   ]
  }
 ],
 "metadata": {
  "kernelspec": {
   "display_name": "Python 3",
   "language": "python",
   "name": "python3"
  },
  "language_info": {
   "codemirror_mode": {
    "name": "ipython",
    "version": 3
   },
   "file_extension": ".py",
   "mimetype": "text/x-python",
   "name": "python",
   "nbconvert_exporter": "python",
   "pygments_lexer": "ipython3",
   "version": "3.8.5"
  }
 },
 "nbformat": 4,
 "nbformat_minor": 4
}
