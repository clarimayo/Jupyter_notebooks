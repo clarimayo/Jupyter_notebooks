{
 "cells": [
  {
   "cell_type": "markdown",
   "metadata": {},
   "source": [
    "<div style=\"background: #000;\n",
    "            color: #FFF;\n",
    "            margin: 0px;\n",
    "            padding: 10px 0px 20px 0px;\n",
    "            text-align: center; \n",
    "                \">\n",
    "    <h1 >Week 22 Lab</h1>\n",
    "</div>"
   ]
  },
  {
   "cell_type": "code",
   "execution_count": 1,
   "metadata": {},
   "outputs": [],
   "source": [
    "import numpy as np\n",
    "import pandas as pd\n",
    "import matplotlib.pyplot as plt\n",
    "import seaborn as sns"
   ]
  },
  {
   "cell_type": "markdown",
   "metadata": {},
   "source": [
    "# Exercise 1\n",
    "\n",
    "We'd like to analyze the `SNAP_history_1969_2019.csv` dataset, however it's missing some data. Find the missing values. Fix incorrect entries as well.\n",
    "\n",
    "Some helpful formulas:\n",
    "\n",
    "$ \\texttt{Total Costs} = \\texttt{Total Benefits} + \\texttt{Other Costs} $\n",
    "\n",
    "$ \\texttt{Total Benefits} = \\texttt{Total Costs} - \\texttt{Other Costs} $\n",
    "\n",
    "$ \\texttt{Other Costs} = \\texttt{Total Costs} - \\texttt{Total Benefits} $\n",
    "\n",
    "$ \\texttt{Average Participation} = \\frac{\\texttt{Total Benefits}}{\\texttt{Average Benefits Per Person}}$\n",
    "\n",
    "$ \\texttt{Average Benefits Per Person} = \\frac{\\texttt{Total Benefits}}{\\texttt{Average Participation}}$\n",
    "\n",
    "$ \\texttt{Total Benefits} = \\texttt{Average Benefits Per Person} * \\texttt{Average Participation}$\n",
    "\n",
    "Note: `Average Participation` is in the thousands and all costs  are in the millions.\n",
    "\n",
    "Hint: Think about how we can filter for specific columns that are null and apply a fix for those missing values.\n"
   ]
  },
  {
   "cell_type": "code",
   "execution_count": 33,
   "metadata": {},
   "outputs": [],
   "source": [
    "# calling it s_df to not confuse it with the others \n",
    "# and because `snap_df` is too much to constantly write\n",
    "s_df = pd.read_csv('SNAP_history_1969_2019.csv')"
   ]
  },
  {
   "cell_type": "code",
   "execution_count": 34,
   "metadata": {},
   "outputs": [
    {
     "name": "stdout",
     "output_type": "stream",
     "text": [
      "<class 'pandas.core.frame.DataFrame'>\n",
      "RangeIndex: 51 entries, 0 to 50\n",
      "Data columns (total 6 columns):\n",
      " #   Column                      Non-Null Count  Dtype  \n",
      "---  ------                      --------------  -----  \n",
      " 0   Fiscal Year                 50 non-null     object \n",
      " 1   Average Participation       48 non-null     float64\n",
      " 2   Average Benefit Per Person  48 non-null     float64\n",
      " 3   Total Benefits(M)           50 non-null     float64\n",
      " 4   Other Costs                 51 non-null     float64\n",
      " 5   Total Costs(M)              48 non-null     float64\n",
      "dtypes: float64(5), object(1)\n",
      "memory usage: 2.5+ KB\n"
     ]
    }
   ],
   "source": [
    "s_df.info()"
   ]
  },
  {
   "cell_type": "code",
   "execution_count": 35,
   "metadata": {},
   "outputs": [
    {
     "data": {
      "text/html": [
       "<div>\n",
       "<style scoped>\n",
       "    .dataframe tbody tr th:only-of-type {\n",
       "        vertical-align: middle;\n",
       "    }\n",
       "\n",
       "    .dataframe tbody tr th {\n",
       "        vertical-align: top;\n",
       "    }\n",
       "\n",
       "    .dataframe thead th {\n",
       "        text-align: right;\n",
       "    }\n",
       "</style>\n",
       "<table border=\"1\" class=\"dataframe\">\n",
       "  <thead>\n",
       "    <tr style=\"text-align: right;\">\n",
       "      <th></th>\n",
       "      <th>Fiscal Year</th>\n",
       "      <th>Average Participation</th>\n",
       "      <th>Average Benefit Per Person</th>\n",
       "      <th>Total Benefits(M)</th>\n",
       "      <th>Other Costs</th>\n",
       "      <th>Total Costs(M)</th>\n",
       "    </tr>\n",
       "  </thead>\n",
       "  <tbody>\n",
       "    <tr>\n",
       "      <th>3</th>\n",
       "      <td>1972</td>\n",
       "      <td>NaN</td>\n",
       "      <td>13.48</td>\n",
       "      <td>1797.30</td>\n",
       "      <td>69.40</td>\n",
       "      <td>NaN</td>\n",
       "    </tr>\n",
       "    <tr>\n",
       "      <th>7</th>\n",
       "      <td>1976</td>\n",
       "      <td>18549.0</td>\n",
       "      <td>NaN</td>\n",
       "      <td>5326.50</td>\n",
       "      <td>359.00</td>\n",
       "      <td>5685.50</td>\n",
       "    </tr>\n",
       "    <tr>\n",
       "      <th>16</th>\n",
       "      <td>1985</td>\n",
       "      <td>19899.0</td>\n",
       "      <td>NaN</td>\n",
       "      <td>10743.60</td>\n",
       "      <td>959.60</td>\n",
       "      <td>11703.20</td>\n",
       "    </tr>\n",
       "    <tr>\n",
       "      <th>19</th>\n",
       "      <td>1988</td>\n",
       "      <td>18645.0</td>\n",
       "      <td>49.83</td>\n",
       "      <td>11149.10</td>\n",
       "      <td>1167.70</td>\n",
       "      <td>NaN</td>\n",
       "    </tr>\n",
       "    <tr>\n",
       "      <th>22</th>\n",
       "      <td>1991</td>\n",
       "      <td>NaN</td>\n",
       "      <td>63.78</td>\n",
       "      <td>17315.77</td>\n",
       "      <td>1431.50</td>\n",
       "      <td>18747.27</td>\n",
       "    </tr>\n",
       "    <tr>\n",
       "      <th>24</th>\n",
       "      <td>NaN</td>\n",
       "      <td>26987.0</td>\n",
       "      <td>67.95</td>\n",
       "      <td>22006.03</td>\n",
       "      <td>1646.94</td>\n",
       "      <td>23652.97</td>\n",
       "    </tr>\n",
       "    <tr>\n",
       "      <th>33</th>\n",
       "      <td>2002</td>\n",
       "      <td>19096.0</td>\n",
       "      <td>79.67</td>\n",
       "      <td>NaN</td>\n",
       "      <td>2380.82</td>\n",
       "      <td>20637.02</td>\n",
       "    </tr>\n",
       "    <tr>\n",
       "      <th>36</th>\n",
       "      <td>2005</td>\n",
       "      <td>25628.0</td>\n",
       "      <td>92.89</td>\n",
       "      <td>28567.88</td>\n",
       "      <td>2504.13</td>\n",
       "      <td>NaN</td>\n",
       "    </tr>\n",
       "    <tr>\n",
       "      <th>38</th>\n",
       "      <td>2007</td>\n",
       "      <td>26316.0</td>\n",
       "      <td>NaN</td>\n",
       "      <td>30373.27</td>\n",
       "      <td>2800.25</td>\n",
       "      <td>33173.52</td>\n",
       "    </tr>\n",
       "    <tr>\n",
       "      <th>45</th>\n",
       "      <td>2014</td>\n",
       "      <td>NaN</td>\n",
       "      <td>125.01</td>\n",
       "      <td>69998.84</td>\n",
       "      <td>4061.49</td>\n",
       "      <td>74060.33</td>\n",
       "    </tr>\n",
       "  </tbody>\n",
       "</table>\n",
       "</div>"
      ],
      "text/plain": [
       "   Fiscal Year  Average Participation  Average Benefit Per Person  \\\n",
       "3         1972                    NaN                       13.48   \n",
       "7         1976                18549.0                         NaN   \n",
       "16        1985                19899.0                         NaN   \n",
       "19        1988                18645.0                       49.83   \n",
       "22        1991                    NaN                       63.78   \n",
       "24         NaN                26987.0                       67.95   \n",
       "33        2002                19096.0                       79.67   \n",
       "36        2005                25628.0                       92.89   \n",
       "38        2007                26316.0                         NaN   \n",
       "45        2014                    NaN                      125.01   \n",
       "\n",
       "    Total Benefits(M)  Other Costs  Total Costs(M)  \n",
       "3             1797.30        69.40             NaN  \n",
       "7             5326.50       359.00         5685.50  \n",
       "16           10743.60       959.60        11703.20  \n",
       "19           11149.10      1167.70             NaN  \n",
       "22           17315.77      1431.50        18747.27  \n",
       "24           22006.03      1646.94        23652.97  \n",
       "33                NaN      2380.82        20637.02  \n",
       "36           28567.88      2504.13             NaN  \n",
       "38           30373.27      2800.25        33173.52  \n",
       "45           69998.84      4061.49        74060.33  "
      ]
     },
     "execution_count": 35,
     "metadata": {},
     "output_type": "execute_result"
    }
   ],
   "source": [
    "s_df[s_df.isnull().any(axis=1)]"
   ]
  },
  {
   "cell_type": "markdown",
   "metadata": {},
   "source": [
    "Step 1: Populate the missing valuess using the fillna built-in function and the predifined relations (equations) between the columns"
   ]
  },
  {
   "cell_type": "code",
   "execution_count": 36,
   "metadata": {},
   "outputs": [],
   "source": [
    "s_df[\"Total Benefits(M)\"] = s_df[\"Total Benefits(M)\"].fillna((s_df[\"Total Costs(M)\"] - s_df[\"Other Costs\"]))"
   ]
  },
  {
   "cell_type": "code",
   "execution_count": 37,
   "metadata": {},
   "outputs": [],
   "source": [
    "s_df[\"Total Costs(M)\"] = s_df[\"Total Costs(M)\"].fillna((s_df[\"Total Benefits(M)\"] + s_df[\"Other Costs\"]))"
   ]
  },
  {
   "cell_type": "markdown",
   "metadata": {},
   "source": [
    "Note: I spoke with Malcolm and he said the formulas for Average Benefit Per Person and Average Participation are not correct but to still use them to populate the missing values for these two columns"
   ]
  },
  {
   "cell_type": "code",
   "execution_count": 38,
   "metadata": {},
   "outputs": [],
   "source": [
    "#Multiply Total benefits * 1000 to convert millions into thousands between doing the division. Round off to two places\n",
    "#to keep consistency with the values already in that column\n",
    "s_df[\"Average Benefit Per Person\"] = s_df[\"Average Benefit Per Person\"].fillna(((s_df[\"Total Benefits(M)\"] * 1000) / s_df[\"Average Participation\"]).round(2))"
   ]
  },
  {
   "cell_type": "code",
   "execution_count": 39,
   "metadata": {},
   "outputs": [],
   "source": [
    "s_df[\"Average Participation\"] = s_df[\"Average Participation\"].fillna(((s_df[\"Total Benefits(M)\"] * 1000) / s_df[\"Average Benefit Per Person\"]).round(1))"
   ]
  },
  {
   "cell_type": "code",
   "execution_count": 55,
   "metadata": {},
   "outputs": [],
   "source": [
    "#Creating the correct Fiscal Year, dropping the incorrect one and renaming+rearranging columns to have the same\n",
    "#arrangement from the beginning.\n",
    "s_df[\"New Fiscal Year\"] = range(1969, 1969+len(s_df))"
   ]
  },
  {
   "cell_type": "code",
   "execution_count": 59,
   "metadata": {},
   "outputs": [],
   "source": [
    "s_df.drop(\"Fiscal Year\", axis=1, inplace=True)"
   ]
  },
  {
   "cell_type": "code",
   "execution_count": 66,
   "metadata": {},
   "outputs": [],
   "source": [
    "s_df.rename(columns={\"New Fiscal Year\": \"Fiscal Year\"},inplace=True)"
   ]
  },
  {
   "cell_type": "code",
   "execution_count": 71,
   "metadata": {},
   "outputs": [],
   "source": [
    "s_df = s_df.reindex([\"Fiscal Year\",\n",
    "             \"Average Participation\",\n",
    "             \"Average Benefit Per Person\",\n",
    "             \"Total Benefits(M)\",\n",
    "             \"Other Costs\",\n",
    "             \"Total Costs(M)\"], axis=1)"
   ]
  },
  {
   "cell_type": "code",
   "execution_count": 74,
   "metadata": {},
   "outputs": [
    {
     "data": {
      "text/html": [
       "<div>\n",
       "<style scoped>\n",
       "    .dataframe tbody tr th:only-of-type {\n",
       "        vertical-align: middle;\n",
       "    }\n",
       "\n",
       "    .dataframe tbody tr th {\n",
       "        vertical-align: top;\n",
       "    }\n",
       "\n",
       "    .dataframe thead th {\n",
       "        text-align: right;\n",
       "    }\n",
       "</style>\n",
       "<table border=\"1\" class=\"dataframe\">\n",
       "  <thead>\n",
       "    <tr style=\"text-align: right;\">\n",
       "      <th></th>\n",
       "      <th>Fiscal Year</th>\n",
       "      <th>Average Participation</th>\n",
       "      <th>Average Benefit Per Person</th>\n",
       "      <th>Total Benefits(M)</th>\n",
       "      <th>Other Costs</th>\n",
       "      <th>Total Costs(M)</th>\n",
       "    </tr>\n",
       "  </thead>\n",
       "  <tbody>\n",
       "    <tr>\n",
       "      <th>0</th>\n",
       "      <td>1969</td>\n",
       "      <td>2878.0</td>\n",
       "      <td>6.63</td>\n",
       "      <td>228.8</td>\n",
       "      <td>21.7</td>\n",
       "      <td>250.5</td>\n",
       "    </tr>\n",
       "    <tr>\n",
       "      <th>1</th>\n",
       "      <td>1970</td>\n",
       "      <td>4340.0</td>\n",
       "      <td>10.55</td>\n",
       "      <td>549.7</td>\n",
       "      <td>27.2</td>\n",
       "      <td>576.9</td>\n",
       "    </tr>\n",
       "    <tr>\n",
       "      <th>2</th>\n",
       "      <td>1971</td>\n",
       "      <td>9368.0</td>\n",
       "      <td>13.55</td>\n",
       "      <td>1522.7</td>\n",
       "      <td>53.2</td>\n",
       "      <td>1575.9</td>\n",
       "    </tr>\n",
       "    <tr>\n",
       "      <th>3</th>\n",
       "      <td>1972</td>\n",
       "      <td>133330.9</td>\n",
       "      <td>13.48</td>\n",
       "      <td>1797.3</td>\n",
       "      <td>69.4</td>\n",
       "      <td>1866.7</td>\n",
       "    </tr>\n",
       "    <tr>\n",
       "      <th>4</th>\n",
       "      <td>1973</td>\n",
       "      <td>12166.0</td>\n",
       "      <td>14.60</td>\n",
       "      <td>2131.4</td>\n",
       "      <td>76.0</td>\n",
       "      <td>2207.4</td>\n",
       "    </tr>\n",
       "  </tbody>\n",
       "</table>\n",
       "</div>"
      ],
      "text/plain": [
       "   Fiscal Year  Average Participation  Average Benefit Per Person  \\\n",
       "0         1969                 2878.0                        6.63   \n",
       "1         1970                 4340.0                       10.55   \n",
       "2         1971                 9368.0                       13.55   \n",
       "3         1972               133330.9                       13.48   \n",
       "4         1973                12166.0                       14.60   \n",
       "\n",
       "   Total Benefits(M)  Other Costs  Total Costs(M)  \n",
       "0              228.8         21.7           250.5  \n",
       "1              549.7         27.2           576.9  \n",
       "2             1522.7         53.2          1575.9  \n",
       "3             1797.3         69.4          1866.7  \n",
       "4             2131.4         76.0          2207.4  "
      ]
     },
     "execution_count": 74,
     "metadata": {},
     "output_type": "execute_result"
    }
   ],
   "source": [
    "s_df.head()"
   ]
  },
  {
   "cell_type": "code",
   "execution_count": 73,
   "metadata": {},
   "outputs": [
    {
     "name": "stdout",
     "output_type": "stream",
     "text": [
      "<class 'pandas.core.frame.DataFrame'>\n",
      "RangeIndex: 51 entries, 0 to 50\n",
      "Data columns (total 6 columns):\n",
      " #   Column                      Non-Null Count  Dtype  \n",
      "---  ------                      --------------  -----  \n",
      " 0   Fiscal Year                 51 non-null     int64  \n",
      " 1   Average Participation       51 non-null     float64\n",
      " 2   Average Benefit Per Person  51 non-null     float64\n",
      " 3   Total Benefits(M)           51 non-null     float64\n",
      " 4   Other Costs                 51 non-null     float64\n",
      " 5   Total Costs(M)              51 non-null     float64\n",
      "dtypes: float64(5), int64(1)\n",
      "memory usage: 2.5 KB\n"
     ]
    }
   ],
   "source": [
    "s_df.info()"
   ]
  },
  {
   "cell_type": "markdown",
   "metadata": {},
   "source": [
    "# Exercise 2\n",
    "\n",
    "We'd like to do some analysis on our `grades.csv` dataset.\n",
    "\n",
    "Using the following dataframe, do some exploratory analysis and then plot, at least, one chart using matplotlib or seaborn (with title, axes labeled and anything else that would make it look professional).\n",
    "\n",
    "Hint: \n",
    "We've seen how to plot box plots, scatter plots, line charts, bar charts, histograms and even more complicated charts like heatmaps of the correlations. Refer to your notes and try to come up with a useful chart that demonstrates a relationship we might like to explore.\n"
   ]
  },
  {
   "cell_type": "code",
   "execution_count": 78,
   "metadata": {},
   "outputs": [],
   "source": [
    "# calling it g_df to not confuse it with the others \n",
    "# and because `grades_df` is too much to constantly write\n",
    "g_df = pd.read_csv('grades.csv')"
   ]
  },
  {
   "cell_type": "code",
   "execution_count": 76,
   "metadata": {},
   "outputs": [
    {
     "data": {
      "text/plain": [
       "<seaborn.axisgrid.PairGrid at 0x7fec87b294f0>"
      ]
     },
     "execution_count": 76,
     "metadata": {},
     "output_type": "execute_result"
    },
    {
     "data": {
      "image/png": "[encoded data removed]",
      "text/plain": [
       "<Figure size 540x540 with 12 Axes>"
      ]
     },
     "metadata": {
      "needs_background": "light"
     },
     "output_type": "display_data"
    }
   ],
   "source": [
    "sns.pairplot(g_df)"
   ]
  },
  {
   "cell_type": "code",
   "execution_count": 79,
   "metadata": {},
   "outputs": [
    {
     "data": {
      "text/html": [
       "<div>\n",
       "<style scoped>\n",
       "    .dataframe tbody tr th:only-of-type {\n",
       "        vertical-align: middle;\n",
       "    }\n",
       "\n",
       "    .dataframe tbody tr th {\n",
       "        vertical-align: top;\n",
       "    }\n",
       "\n",
       "    .dataframe thead th {\n",
       "        text-align: right;\n",
       "    }\n",
       "</style>\n",
       "<table border=\"1\" class=\"dataframe\">\n",
       "  <thead>\n",
       "    <tr style=\"text-align: right;\">\n",
       "      <th></th>\n",
       "      <th>gender</th>\n",
       "      <th>race/ethnicity</th>\n",
       "      <th>parental level of education</th>\n",
       "      <th>lunch</th>\n",
       "      <th>test preparation course</th>\n",
       "      <th>math score</th>\n",
       "      <th>reading score</th>\n",
       "      <th>writing score</th>\n",
       "    </tr>\n",
       "  </thead>\n",
       "  <tbody>\n",
       "    <tr>\n",
       "      <th>0</th>\n",
       "      <td>female</td>\n",
       "      <td>group B</td>\n",
       "      <td>bachelor's degree</td>\n",
       "      <td>standard</td>\n",
       "      <td>none</td>\n",
       "      <td>72</td>\n",
       "      <td>72</td>\n",
       "      <td>74</td>\n",
       "    </tr>\n",
       "    <tr>\n",
       "      <th>1</th>\n",
       "      <td>female</td>\n",
       "      <td>group C</td>\n",
       "      <td>some college</td>\n",
       "      <td>standard</td>\n",
       "      <td>completed</td>\n",
       "      <td>69</td>\n",
       "      <td>90</td>\n",
       "      <td>88</td>\n",
       "    </tr>\n",
       "    <tr>\n",
       "      <th>2</th>\n",
       "      <td>female</td>\n",
       "      <td>group B</td>\n",
       "      <td>master's degree</td>\n",
       "      <td>standard</td>\n",
       "      <td>none</td>\n",
       "      <td>90</td>\n",
       "      <td>95</td>\n",
       "      <td>93</td>\n",
       "    </tr>\n",
       "    <tr>\n",
       "      <th>3</th>\n",
       "      <td>male</td>\n",
       "      <td>group A</td>\n",
       "      <td>associate's degree</td>\n",
       "      <td>free/reduced</td>\n",
       "      <td>none</td>\n",
       "      <td>47</td>\n",
       "      <td>57</td>\n",
       "      <td>44</td>\n",
       "    </tr>\n",
       "    <tr>\n",
       "      <th>4</th>\n",
       "      <td>male</td>\n",
       "      <td>group C</td>\n",
       "      <td>some college</td>\n",
       "      <td>standard</td>\n",
       "      <td>none</td>\n",
       "      <td>76</td>\n",
       "      <td>78</td>\n",
       "      <td>75</td>\n",
       "    </tr>\n",
       "    <tr>\n",
       "      <th>...</th>\n",
       "      <td>...</td>\n",
       "      <td>...</td>\n",
       "      <td>...</td>\n",
       "      <td>...</td>\n",
       "      <td>...</td>\n",
       "      <td>...</td>\n",
       "      <td>...</td>\n",
       "      <td>...</td>\n",
       "    </tr>\n",
       "    <tr>\n",
       "      <th>995</th>\n",
       "      <td>female</td>\n",
       "      <td>group E</td>\n",
       "      <td>master's degree</td>\n",
       "      <td>standard</td>\n",
       "      <td>completed</td>\n",
       "      <td>88</td>\n",
       "      <td>99</td>\n",
       "      <td>95</td>\n",
       "    </tr>\n",
       "    <tr>\n",
       "      <th>996</th>\n",
       "      <td>male</td>\n",
       "      <td>group C</td>\n",
       "      <td>high school</td>\n",
       "      <td>free/reduced</td>\n",
       "      <td>none</td>\n",
       "      <td>62</td>\n",
       "      <td>55</td>\n",
       "      <td>55</td>\n",
       "    </tr>\n",
       "    <tr>\n",
       "      <th>997</th>\n",
       "      <td>female</td>\n",
       "      <td>group C</td>\n",
       "      <td>high school</td>\n",
       "      <td>free/reduced</td>\n",
       "      <td>completed</td>\n",
       "      <td>59</td>\n",
       "      <td>71</td>\n",
       "      <td>65</td>\n",
       "    </tr>\n",
       "    <tr>\n",
       "      <th>998</th>\n",
       "      <td>female</td>\n",
       "      <td>group D</td>\n",
       "      <td>some college</td>\n",
       "      <td>standard</td>\n",
       "      <td>completed</td>\n",
       "      <td>68</td>\n",
       "      <td>78</td>\n",
       "      <td>77</td>\n",
       "    </tr>\n",
       "    <tr>\n",
       "      <th>999</th>\n",
       "      <td>female</td>\n",
       "      <td>group D</td>\n",
       "      <td>some college</td>\n",
       "      <td>free/reduced</td>\n",
       "      <td>none</td>\n",
       "      <td>77</td>\n",
       "      <td>86</td>\n",
       "      <td>86</td>\n",
       "    </tr>\n",
       "  </tbody>\n",
       "</table>\n",
       "<p>1000 rows × 8 columns</p>\n",
       "</div>"
      ],
      "text/plain": [
       "     gender race/ethnicity parental level of education         lunch  \\\n",
       "0    female        group B           bachelor's degree      standard   \n",
       "1    female        group C                some college      standard   \n",
       "2    female        group B             master's degree      standard   \n",
       "3      male        group A          associate's degree  free/reduced   \n",
       "4      male        group C                some college      standard   \n",
       "..      ...            ...                         ...           ...   \n",
       "995  female        group E             master's degree      standard   \n",
       "996    male        group C                 high school  free/reduced   \n",
       "997  female        group C                 high school  free/reduced   \n",
       "998  female        group D                some college      standard   \n",
       "999  female        group D                some college  free/reduced   \n",
       "\n",
       "    test preparation course  math score  reading score  writing score  \n",
       "0                      none          72             72             74  \n",
       "1                 completed          69             90             88  \n",
       "2                      none          90             95             93  \n",
       "3                      none          47             57             44  \n",
       "4                      none          76             78             75  \n",
       "..                      ...         ...            ...            ...  \n",
       "995               completed          88             99             95  \n",
       "996                    none          62             55             55  \n",
       "997               completed          59             71             65  \n",
       "998               completed          68             78             77  \n",
       "999                    none          77             86             86  \n",
       "\n",
       "[1000 rows x 8 columns]"
      ]
     },
     "execution_count": 79,
     "metadata": {},
     "output_type": "execute_result"
    }
   ],
   "source": [
    "g_df"
   ]
  },
  {
   "cell_type": "code",
   "execution_count": 87,
   "metadata": {},
   "outputs": [
    {
     "data": {
      "text/plain": [
       "<matplotlib.collections.PathCollection at 0x7fec88c11d60>"
      ]
     },
     "execution_count": 87,
     "metadata": {},
     "output_type": "execute_result"
    },
    {
     "data": {
      "image/png": "[encoded data removed]",
      "text/plain": [
       "<Figure size 432x288 with 1 Axes>"
      ]
     },
     "metadata": {
      "needs_background": "light"
     },
     "output_type": "display_data"
    }
   ],
   "source": [
    "plt.scatter(x=\"math score\", y = \"gender\", data= g_df, c=\"purple\", s=0.75, alpha=0.5, label= \"Math Score\")"
   ]
  },
  {
   "cell_type": "code",
   "execution_count": 88,
   "metadata": {},
   "outputs": [
    {
     "data": {
      "text/plain": [
       "<matplotlib.collections.PathCollection at 0x7fec88ccf2e0>"
      ]
     },
     "execution_count": 88,
     "metadata": {},
     "output_type": "execute_result"
    },
    {
     "data": {
      "image/png": "[encoded data removed]",
      "text/plain": [
       "<Figure size 432x288 with 1 Axes>"
      ]
     },
     "metadata": {
      "needs_background": "light"
     },
     "output_type": "display_data"
    }
   ],
   "source": [
    "plt.scatter(x=\"reading score\", y=\"gender\", data= g_df, c= \"blue\", s = 0.75, alpha=0.5, label= \"Reading Score\")"
   ]
  },
  {
   "cell_type": "code",
   "execution_count": 89,
   "metadata": {},
   "outputs": [
    {
     "data": {
      "text/plain": [
       "<matplotlib.collections.PathCollection at 0x7fec88d0f820>"
      ]
     },
     "execution_count": 89,
     "metadata": {},
     "output_type": "execute_result"
    },
    {
     "data": {
      "image/png": "[encoded data removed]",
      "text/plain": [
       "<Figure size 432x288 with 1 Axes>"
      ]
     },
     "metadata": {
      "needs_background": "light"
     },
     "output_type": "display_data"
    }
   ],
   "source": [
    "plt.scatter(x=\"writing score\", y=\"gender\", data= g_df, c= \"blue\", s = 0.75, alpha=0.5, label= \"Reading Score\")"
   ]
  },
  {
   "cell_type": "markdown",
   "metadata": {},
   "source": [
    "# Exercise 3\n",
    "\n",
    "Exercise 3 was a logistic regression on the Titanic dataset. It will be given as a guided project instead."
   ]
  }
 ],
 "metadata": {
  "kernelspec": {
   "display_name": "Python 3",
   "language": "python",
   "name": "python3"
  },
  "language_info": {
   "codemirror_mode": {
    "name": "ipython",
    "version": 3
   },
   "file_extension": ".py",
   "mimetype": "text/x-python",
   "name": "python",
   "nbconvert_exporter": "python",
   "pygments_lexer": "ipython3",
   "version": "3.8.3"
  }
 },
 "nbformat": 4,
 "nbformat_minor": 5
}
