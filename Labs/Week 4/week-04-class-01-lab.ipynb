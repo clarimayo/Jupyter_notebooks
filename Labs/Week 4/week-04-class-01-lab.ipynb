{
 "cells": [
  {
   "cell_type": "markdown",
   "metadata": {},
   "source": [
    "<div style=\"background: #000;\n",
    "            color: #FFF;\n",
    "            margin: 0px;\n",
    "                padding: 10px 0px 20px 0px;\n",
    "            text-align: center; \n",
    "                \">\n",
    "    <h1>Lab</h1>\n",
    "</div>\n"
   ]
  },
  {
   "cell_type": "markdown",
   "metadata": {},
   "source": [
    "# Question 1 \n",
    "\n",
    "We'd like to create a function that takes a number and outputs the number with it's ordinal indictator (e.g. 1 -> 1st, 2 -> 2nd, and so on).\n",
    "\n",
    "Walk us through the steps we might need to take. DO NOT write any code. Try writing what we call \"pseudocode\"."
   ]
  },
  {
   "cell_type": "markdown",
   "metadata": {},
   "source": [
    "First we will create the main function and then inside (indented) we will use range function and specify the start and the ending inside the range function. Then we will do a for loop to go inside the range function- we will check the last digit of each number. We will turn the integer into a string and check for the last element (index = -1). We will start with two conditional statements: 1st one will cover value 4 < number < 20 which all end in \"th\".\n",
    "The second one will cover numbers < 4 \"th\",\"st\", \"nd\", \"rd\"."
   ]
  },
  {
   "cell_type": "markdown",
   "metadata": {},
   "source": [
    "# Exercise 1\n",
    "\n",
    "Create a function that takes two parameters and returns a list."
   ]
  },
  {
   "cell_type": "code",
   "execution_count": 1,
   "metadata": {},
   "outputs": [
    {
     "data": {
      "text/plain": [
       "[25, 56]"
      ]
     },
     "execution_count": 1,
     "metadata": {},
     "output_type": "execute_result"
    }
   ],
   "source": [
    "def function_two(arg1, arg2):\n",
    "    return [arg1, arg2]\n",
    "function_two(25,56)"
   ]
  },
  {
   "cell_type": "markdown",
   "metadata": {},
   "source": [
    "# Exercise 2\n",
    "Create a function that will return the list of square roots from numbers from 1 to `n` (where `n` is the input)"
   ]
  },
  {
   "cell_type": "markdown",
   "metadata": {},
   "source": [
    "Create a function that will return the list of square roots from numbers from 1 to `n` (where `n` is the input)"
   ]
  },
  {
   "cell_type": "code",
   "execution_count": 2,
   "metadata": {},
   "outputs": [
    {
     "data": {
      "text/plain": [
       "[1.0, 1.4142135623730951, 1.7320508075688772, 2.0, 2.23606797749979]"
      ]
     },
     "execution_count": 2,
     "metadata": {},
     "output_type": "execute_result"
    }
   ],
   "source": [
    "import math\n",
    "\n",
    "def square_roots(n):\n",
    "    return [math.sqrt(i) for i in range(1,n+1)]\n",
    "square_roots(5)"
   ]
  },
  {
   "cell_type": "markdown",
   "metadata": {},
   "source": [
    "# Exercise 3\n",
    "\n",
    "Create a mad-lib that instead of using the `input` function, uses keyword arguments."
   ]
  },
  {
   "cell_type": "code",
   "execution_count": 3,
   "metadata": {},
   "outputs": [
    {
     "name": "stdout",
     "output_type": "stream",
     "text": [
      "oscar is 45 years old\n"
     ]
    }
   ],
   "source": [
    "def mad_lib(name= \"oscar\", age= 45):\n",
    "    print(f\"{name} is {age} years old\")\n",
    "mad_lib()"
   ]
  },
  {
   "cell_type": "markdown",
   "metadata": {},
   "source": [
    "# Exercise 4\n",
    "\n",
    "Create a function that takes `n` as the input and returns a `n`x`n` matrix where all the values are zeros. "
   ]
  },
  {
   "cell_type": "code",
   "execution_count": 4,
   "metadata": {},
   "outputs": [
    {
     "data": {
      "text/plain": [
       "[[0, 0], [0, 0]]"
      ]
     },
     "execution_count": 4,
     "metadata": {},
     "output_type": "execute_result"
    }
   ],
   "source": [
    "def matrix(n):\n",
    "    array = []\n",
    "    for i in range(n):  \n",
    "        array.append(0)\n",
    "    new_array = []\n",
    "    for i in range(n):\n",
    "        new_array.append(array)\n",
    "    return new_array\n",
    "matrix(2)"
   ]
  },
  {
   "cell_type": "code",
   "execution_count": 5,
   "metadata": {},
   "outputs": [
    {
     "data": {
      "text/plain": [
       "[[1.5, 1.5], [1.5, 1.5]]"
      ]
     },
     "execution_count": 5,
     "metadata": {},
     "output_type": "execute_result"
    }
   ],
   "source": [
    "#We can make a more general function where we can specify the number of elements inside the list and the number itself.\n",
    "def matrix_2(n, arg1):\n",
    "    array = []\n",
    "    for i in range(n):  \n",
    "        array.append(arg1)\n",
    "    new_array = []\n",
    "    for i in range(n):\n",
    "        new_array.append(array)\n",
    "    return new_array\n",
    "matrix_2(2, 1.5)"
   ]
  },
  {
   "cell_type": "markdown",
   "metadata": {},
   "source": [
    "# Exercise 5\n",
    "\n",
    "Find an exercise from a previous lab and convert it into a function demonstrating the ability to define the function and call it using the correct arguments/keywords"
   ]
  },
  {
   "cell_type": "markdown",
   "metadata": {},
   "source": [
    "<div style=\"background: #000;\n",
    "            color: #FFF;\n",
    "            margin: 0px;\n",
    "                padding: 10px 0px 20px 0px;\n",
    "            text-align: center; \n",
    "                \">\n",
    "    <h1>Week 2 Class 3 Lab</h1>\n",
    "</div>"
   ]
  },
  {
   "cell_type": "markdown",
   "metadata": {},
   "source": [
    "# Exercise 1 \n",
    "\n",
    "Create a dictionary and populate it with keys from 0 to 9 and a default value of \"None\". Then set the values of all keys divisible by 2 to be the value times itself. "
   ]
  },
  {
   "cell_type": "code",
   "execution_count": 6,
   "metadata": {},
   "outputs": [
    {
     "name": "stdout",
     "output_type": "stream",
     "text": [
      "{0: 'None', 1: 'None', 2: 4, 3: 'None', 4: 16, 5: 'None', 6: 36, 7: 'None', 8: 64, 9: 'None'}\n"
     ]
    }
   ],
   "source": [
    "#What I had done\n",
    "first_dict = {}\n",
    "first_dict[0] = \"None\"\n",
    "first_dict[1] = \"None\"\n",
    "first_dict[2] = \"None\"\n",
    "first_dict[3] = \"None\"\n",
    "first_dict[4] = \"None\"\n",
    "first_dict[5] = \"None\"\n",
    "first_dict[6] = \"None\"\n",
    "first_dict[7] = \"None\"\n",
    "first_dict[8] = \"None\"\n",
    "first_dict[9] = \"None\"\n",
    "first_dict[2] = 4\n",
    "first_dict[4] = 16\n",
    "first_dict[6] = 36\n",
    "first_dict[8] = 64\n",
    "print(first_dict)"
   ]
  },
  {
   "cell_type": "code",
   "execution_count": 7,
   "metadata": {},
   "outputs": [
    {
     "data": {
      "text/plain": [
       "{0: 'None',\n",
       " 1: 'None',\n",
       " 2: 4,\n",
       " 3: 'None',\n",
       " 4: 16,\n",
       " 5: 'None',\n",
       " 6: 36,\n",
       " 7: 'None',\n",
       " 8: 64,\n",
       " 9: 'None'}"
      ]
     },
     "execution_count": 7,
     "metadata": {},
     "output_type": "execute_result"
    }
   ],
   "source": [
    "#How to do it in a function. Create an empty dictionary. Then loop through a range of 10 (to include 0-9).\n",
    "def dictionary_maker():\n",
    "    dict_ = {}\n",
    "    for i in range(10):\n",
    "#use if/else statements to assign the key:value of each element in the range()\n",
    "        if i % 2 == 0 and i != 0:\n",
    "            dict_[i] = i*i\n",
    "        else:\n",
    "            dict_[i] = \"None\"\n",
    "#return the new dictionary so it can be used when the function gets called. \n",
    "    return dict_\n",
    "dictionary_maker()"
   ]
  },
  {
   "cell_type": "markdown",
   "metadata": {},
   "source": [
    "# Bonus:\n",
    "    \n",
    "Create a function that has a function within. Demonstrate how you might use this function in a real world application."
   ]
  },
  {
   "cell_type": "code",
   "execution_count": 8,
   "metadata": {},
   "outputs": [],
   "source": [
    "#I can make a function to create addresses strings that contain the number, street and zipcode\n",
    "def convert_addresses(list_of_address_tuples):\n",
    "#we will only want the built address string to exist within this function since they are direcrtly related\n",
    "    def build_address_string(address_tuple):\n",
    "        address_string = ''\n",
    "        for elem in address_tuple:\n",
    "            address_string += str(elem) + ' '\n",
    "        return address_string\n",
    "    \n",
    "    address_list = []\n",
    "    for tuple_ in list_of_address_tuples:\n",
    "        address_list.append(build_address_string(tuple_))\n",
    "    return address_list"
   ]
  },
  {
   "cell_type": "code",
   "execution_count": 9,
   "metadata": {},
   "outputs": [
    {
     "data": {
      "text/plain": [
       "['1 Flower St 12355 ']"
      ]
     },
     "execution_count": 9,
     "metadata": {},
     "output_type": "execute_result"
    }
   ],
   "source": [
    "some_address_tuple = [(1, 'Flower St', '12355')]\n",
    "convert_addresses(some_address_tuple)"
   ]
  },
  {
   "cell_type": "code",
   "execution_count": 10,
   "metadata": {},
   "outputs": [],
   "source": [
    "#if we have a list containing all the information needed\n",
    "add_list = [(1, 'Flower St', '12355'), (45, 'James St', '65352')]"
   ]
  },
  {
   "cell_type": "code",
   "execution_count": 12,
   "metadata": {},
   "outputs": [
    {
     "data": {
      "text/plain": [
       "['1 Flower St 12355 ', '45 James St 65352 ']"
      ]
     },
     "execution_count": 12,
     "metadata": {},
     "output_type": "execute_result"
    }
   ],
   "source": [
    "#we can make tupples using the conver_addresses function\n",
    "convert_addresses(add_list)"
   ]
  },
  {
   "cell_type": "code",
   "execution_count": null,
   "metadata": {},
   "outputs": [],
   "source": []
  }
 ],
 "metadata": {
  "kernelspec": {
   "display_name": "Python 3",
   "language": "python",
   "name": "python3"
  },
  "language_info": {
   "codemirror_mode": {
    "name": "ipython",
    "version": 3
   },
   "file_extension": ".py",
   "mimetype": "text/x-python",
   "name": "python",
   "nbconvert_exporter": "python",
   "pygments_lexer": "ipython3",
   "version": "3.8.3"
  }
 },
 "nbformat": 4,
 "nbformat_minor": 4
}
