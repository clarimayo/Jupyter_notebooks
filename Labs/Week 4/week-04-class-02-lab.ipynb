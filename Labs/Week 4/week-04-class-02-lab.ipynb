{
 "cells": [
  {
   "cell_type": "markdown",
   "metadata": {},
   "source": [
    "<div style=\"background: #000;\n",
    "            color: #FFF;\n",
    "            margin: 0px;\n",
    "                padding: 10px 0px 20px 0px;\n",
    "            text-align: center; \n",
    "                \">\n",
    "    <h1>Week 4 - Class 2 - Lab</h1>\n",
    "</div>\n"
   ]
  },
  {
   "cell_type": "markdown",
   "metadata": {},
   "source": [
    "# Question 1\n",
    "\n",
    "What's a situation where you might need to use curried functions? Write the pseudocode of the steps needed when using it."
   ]
  },
  {
   "cell_type": "markdown",
   "metadata": {},
   "source": [
    "We might want to use a curried function instead of rewritting code again. Curried functions helps us use the code we already created.This will help simplify the programming. For example if we have a function that takes multiple arguments we can put it inside a currying function that can have one argument only.  We will put the all the original functions (the one we want to reuse) inside the currying function and then call all of them as a group inside each other. When we call the currying function it will go inside and once it encounters the function inside- it will then head to that function find the value that it produces and do what we want to do with it inside the curried function. "
   ]
  },
  {
   "cell_type": "markdown",
   "metadata": {},
   "source": [
    "# Exercise 1\n",
    "\n",
    "Create a lambda function that takes two arguments and returns an output using the two. \n",
    "\n",
    "Show the function being called with the correct arguments."
   ]
  },
  {
   "cell_type": "code",
   "execution_count": 1,
   "metadata": {},
   "outputs": [
    {
     "data": {
      "text/plain": [
       "20"
      ]
     },
     "execution_count": 1,
     "metadata": {},
     "output_type": "execute_result"
    }
   ],
   "source": [
    "x = lambda a, b : a * b\n",
    "x(4,5)"
   ]
  },
  {
   "cell_type": "markdown",
   "metadata": {},
   "source": [
    "# Exercise 2\n",
    "\n",
    "Given the two functions, create a function that curries the two. Show the function being called."
   ]
  },
  {
   "cell_type": "code",
   "execution_count": 5,
   "metadata": {},
   "outputs": [
    {
     "name": "stdout",
     "output_type": "stream",
     "text": [
      "HELLO\n",
      "HELLO\n",
      "HELLO\n",
      "hello\n",
      "hello\n",
      "hello\n"
     ]
    }
   ],
   "source": [
    "# f(x)\n",
    "def upper(string):\n",
    "    if type(string) == str:\n",
    "        return string.upper()\n",
    "\n",
    "# g(x)\n",
    "def lower(string):\n",
    "    if type(string) == str:\n",
    "        return string.lower()\n",
    "    \n",
    "#h(x) \n",
    "def curring_string(string):\n",
    "    return upper(lower(string))\n",
    "\n",
    "def reversed_curring_string(string):\n",
    "    return lower(upper(string))\n",
    "\n",
    "\n",
    "print(curring_string(\"HELLO\"))\n",
    "print(curring_string(\"hello\"))\n",
    "print(curring_string(\"HeLlo\"))\n",
    "print(reversed_curring_string(\"HELLO\"))\n",
    "print(reversed_curring_string(\"hello\"))\n",
    "print(reversed_curring_string(\"HeLlo\"))"
   ]
  },
  {
   "cell_type": "markdown",
   "metadata": {},
   "source": [
    "# Exercise 3\n",
    "\n",
    "Using recursion, create a function that finds the factorial of a number. Use the following formula. \n",
    "$$ n! = n * (n-1)! $$\n",
    "$$ 0! = 1$$"
   ]
  },
  {
   "cell_type": "code",
   "execution_count": 43,
   "metadata": {},
   "outputs": [
    {
     "name": "stdout",
     "output_type": "stream",
     "text": [
      "5 times factorial_numbers(4)\n",
      "factorial_numbers(4) = \n",
      "4 times factorial_numbers(3)\n",
      "factorial_numbers(3) = \n",
      "3 times factorial_numbers(2)\n",
      "factorial_numbers(2) = \n",
      "2 times factorial_numbers(1)\n",
      "factorial_numbers(1) = \n",
      "1 times factorial_numbers(0)\n",
      "factorial_numbers(0) = \n",
      "1 =\n",
      "120\n"
     ]
    }
   ],
   "source": [
    "#Define the fucntion and use num as the parameter. Induce the function\n",
    "#call itself to continue multiplying num * the function of num-1 until\n",
    "#it finds the base case which is num == 0 to make it return 1 and stop\n",
    "def factorial_numbers(num):\n",
    "    if num == 0:\n",
    "#I added print statements to see what is going on inside the function\n",
    "        print(1, '=')   \n",
    "        return 1\n",
    "    else:\n",
    "        print(f\"{num} times factorial_numbers({num-1})\")\n",
    "        print(f\"factorial_numbers({num-1}) = \")\n",
    "        return num * factorial_numbers(num-1)\n",
    "\n",
    "print(factorial_numbers(5))"
   ]
  },
  {
   "cell_type": "markdown",
   "metadata": {},
   "source": [
    "# Bonus: \n",
    "\n",
    "Create your own example of a decorator function. "
   ]
  },
  {
   "cell_type": "code",
   "execution_count": 37,
   "metadata": {},
   "outputs": [
    {
     "name": "stdout",
     "output_type": "stream",
     "text": [
      "hello\n",
      "hello\n"
     ]
    }
   ],
   "source": [
    "def print_hello():\n",
    "    print(\"hello\")\n",
    "    \n",
    "def do_twice(func):\n",
    "    func()\n",
    "    func()\n",
    "\n",
    "do_twice(print_hello)"
   ]
  },
  {
   "cell_type": "code",
   "execution_count": 38,
   "metadata": {},
   "outputs": [
    {
     "name": "stdout",
     "output_type": "stream",
     "text": [
      "goodbye\n",
      "goodbye\n"
     ]
    }
   ],
   "source": [
    "@do_twice\n",
    "def print_dif():\n",
    "    print(\"goodbye\")"
   ]
  },
  {
   "cell_type": "code",
   "execution_count": null,
   "metadata": {},
   "outputs": [],
   "source": []
  }
 ],
 "metadata": {
  "kernelspec": {
   "display_name": "Python 3",
   "language": "python",
   "name": "python3"
  },
  "language_info": {
   "codemirror_mode": {
    "name": "ipython",
    "version": 3
   },
   "file_extension": ".py",
   "mimetype": "text/x-python",
   "name": "python",
   "nbconvert_exporter": "python",
   "pygments_lexer": "ipython3",
   "version": "3.8.3"
  }
 },
 "nbformat": 4,
 "nbformat_minor": 4
}
