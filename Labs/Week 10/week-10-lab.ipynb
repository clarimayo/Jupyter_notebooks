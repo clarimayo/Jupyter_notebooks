{
 "cells": [
  {
   "cell_type": "markdown",
   "metadata": {},
   "source": [
    "<div style=\"background: #000;\n",
    "            color: #FFF;\n",
    "            margin: 0px;\n",
    "                padding: 10px 0px 20px 0px;\n",
    "            text-align: center; \n",
    "                \">\n",
    "    <h1>Week 10 Lab</h1>\n",
    "</div>"
   ]
  },
  {
   "cell_type": "markdown",
   "metadata": {},
   "source": [
    "# Exercise 1\n",
    "\n",
    "Building off of your portfolio web application, we'd like to add a form to the page.\n",
    "Use the example flask application code to add a contact page to your web application with an associated form. If you already have a portfolio web app, then add a form of some sort to the same application you created a git repo for.\n",
    "\n",
    "Commit your code to that same repo and submit the link with your lab submission."
   ]
  },
  {
   "cell_type": "markdown",
   "metadata": {},
   "source": [
    "https://github.com/clarizamayo/FlaskApplication"
   ]
  },
  {
   "cell_type": "markdown",
   "metadata": {},
   "source": [
    "# Exercise 2\n",
    "\n",
    "Write a function that creates a sqlite database with a table `customer` with the following columns:\n",
    "* `name` - string of length 255 \n",
    "* `address` - string of length 255\n",
    "* `email` - string of length 255\n",
    "* `company` - string of length 255\n",
    "* `outstanding_invoices` - int"
   ]
  },
  {
   "cell_type": "code",
   "execution_count": 2,
   "metadata": {},
   "outputs": [],
   "source": [
    "#example of list of lists that I will pass to my function to add rows\n",
    "customers = [\n",
    "    [\"student2\", \"datascience\", 93],\n",
    "    [\"student3\", \"datascience\", 100]]"
   ]
  },
  {
   "cell_type": "code",
   "execution_count": 3,
   "metadata": {},
   "outputs": [
    {
     "name": "stdout",
     "output_type": "stream",
     "text": [
      "Opened database successfully\n",
      "Table created successfully\n",
      "Row created successfully\n"
     ]
    }
   ],
   "source": [
    "import sqlite3\n",
    "def table_maker():\n",
    "    conn = sqlite3.connect('clariza_database.db')\n",
    "    print(\"Opened database successfully\")\n",
    "    cursor = conn.cursor()\n",
    "    cursor.execute(\"DROP table IF EXISTS customers ;\") \n",
    "    cursor.execute(\"\"\"\n",
    "    CREATE TABLE customers (\n",
    "     name varchar(255), \n",
    "     address varchar(255),\n",
    "     email varchar(255),\n",
    "     company varchar(255),\n",
    "     outstanding_invoices int\n",
    "    );\n",
    "    \"\"\")\n",
    "    print(\"Table created successfully\")\n",
    "    #adding rows by looping through a list of lists\n",
    "    for customer in customers:\n",
    "        cursor.execute(f\"INSERT INTO customers (name, address) \\\n",
    "                       VALUES ('{customer[0]}','{customer[1]}');\")\n",
    "    conn.commit()\n",
    "    print(\"Row created successfully\")\n",
    "    conn.close()\n",
    "\n",
    "table_maker()"
   ]
  },
  {
   "cell_type": "code",
   "execution_count": 4,
   "metadata": {},
   "outputs": [
    {
     "name": "stdout",
     "output_type": "stream",
     "text": [
      "Opened database successfully\n",
      "[('student2', 'datascience', None, None, None), ('student3', 'datascience', None, None, None)]\n",
      "Operations completed successfully\n"
     ]
    }
   ],
   "source": [
    "conn = sqlite3.connect('clariza_database.db')\n",
    "print(\"Opened database successfully\")\n",
    "cursor = conn.cursor()\n",
    "cursor.execute(\"SELECT * FROM customers;\")\n",
    "row = cursor.fetchall()  #fetch all the results\n",
    "print(row)\n",
    "print(\"Operations completed successfully\")\n",
    "conn.close()"
   ]
  },
  {
   "cell_type": "raw",
   "metadata": {},
   "source": [
    "# Exercise 2\n",
    "\n",
    "Start to create a python script that scrapes the data from the source for your final project.\n",
    "I am a bit confused on which project to choose and will contact Anil to get clarification.\n",
    "\n",
    "What I have in mind so far is:\n",
    "I want my project to focus on how we(humans) are affecting the environment. I am deciding in which subject will be beter to focus on. Right now the two subjects that interest me the most are: \n",
    "-waste production by city \n",
    "-air pollution by state\n",
    "\n",
    "Answer the following below for your lab submission:\n",
    "\n",
    "What is the source of your data?\n",
    "if I choose the first subject I will use this source\n",
    "-https://www.epa.gov\n",
    "\n",
    "For the second subject I think this one will give me the information\n",
    "-https://stacker.com\n",
    "\n",
    "\n",
    "What is the page you will be scraping the data from?\n",
    "-https://www.epa.gov/air-trends/air-quality-cities-and-counties\n",
    "\n",
    "-https://stacker.com/stories/3496/states-most-landfill-waste?page=2\n",
    "\n",
    "What sort of link/elements do you need to target in order to get your data?\n",
    "\n",
    "-I found a database that I will like to narrow down and create a table that is more specific on lowest to highest production of each air contaminant. I'm not sure if that will be accepted for this project but if I can only scrappe from a website then my second option has a scraping option. \n",
    "\n",
    "-On the stacker I will access the data I want by finding all the <section class =\"slideshow-wrapper post\"> - <div class=\"paginated-listicle\"> and eventurally the <ul> and the <div class=\"slideshow-slide_body\">\n",
    "This will allow me to get: The amount of trash in landfills per capita and the Cubic feet of gas produced by landfills per day per capita per state. \n",
    "              \n",
    "\n",
    "What will be the structure of your sqlite database? \n",
    "I will create a function that connects to a database, creates a curson. The it will executes a table by adding columns to it and adds values to it. It will have a for loop that will loop throught my list of lists and create a row on each table.\n",
    "\n",
    "What tables will you need?  \n",
    "-My first table of air pollution will be by city and another one separating each contaminant and each city \n",
    "    \n",
    "-For my other idea the table will have the quantity of waste production by state. I might have to create multiple subtables for the type most commun air contaminants just so I can separate what are the most common and what states are contributing most to the contamination. \n",
    "\n",
    "What columns will those tables have?  \n",
    "For the first table: the air pollution- I will have state, one column for each air contaminant's concentration: example, Ozone (O3), Nitrogen dioxide (NO2),Carbon monoxide (CO) and Sulphur dioxide (SO2).\n",
    "\n",
    "For the second table- the waste production- I want to make a column for state and then the amount of trash in landfills and the Cubic feet of gas produced by landfills. \n",
    "\n",
    "What connections between tables might you need?\n",
    "I am not sure how to answer this question. I don't think I fully understand it."
   ]
  },
  {
   "cell_type": "code",
   "execution_count": null,
   "metadata": {},
   "outputs": [],
   "source": []
  }
 ],
 "metadata": {
  "kernelspec": {
   "display_name": "Python 3",
   "language": "python",
   "name": "python3"
  },
  "language_info": {
   "codemirror_mode": {
    "name": "ipython",
    "version": 3
   },
   "file_extension": ".py",
   "mimetype": "text/x-python",
   "name": "python",
   "nbconvert_exporter": "python",
   "pygments_lexer": "ipython3",
   "version": "3.8.3"
  }
 },
 "nbformat": 4,
 "nbformat_minor": 4
}
