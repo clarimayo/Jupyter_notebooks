{
 "cells": [
  {
   "cell_type": "markdown",
   "metadata": {},
   "source": [
    "<div style=\"background: #000;\n",
    "            color: #FFF;\n",
    "            margin: 0px;\n",
    "                padding: 10px 0px 20px 0px;\n",
    "            text-align: center; \n",
    "                \">\n",
    "    <h1>Week 10 Lab</h1>\n",
    "</div>"
   ]
  },
  {
   "cell_type": "markdown",
   "metadata": {},
   "source": [
    "# Exercise 1\n",
    "\n",
    "Building off of your portfolio web application, we'd like to add a form to the page.\n",
    "Use the example flask application code to add a contact page to your web application with an associated form. If you already have a portfolio web app, then add a form of some sort to the same application you created a git repo for.\n",
    "\n",
    "Commit your code to that same repo and submit the link with your lab submission."
   ]
  },
  {
   "cell_type": "markdown",
   "metadata": {},
   "source": [
    "https://github.com/clarizamayo/FlaskApplication"
   ]
  },
  {
   "cell_type": "markdown",
   "metadata": {},
   "source": [
    "# Exercise 2\n",
    "\n",
    "Write a function that creates a sqlite database with a table `customer` with the following columns:\n",
    "* `name` - string of length 255 \n",
    "* `address` - string of length 255\n",
    "* `email` - string of length 255\n",
    "* `company` - string of length 255\n",
    "* `outstanding_invoices` - int"
   ]
  },
  {
   "cell_type": "code",
   "execution_count": 14,
   "metadata": {},
   "outputs": [],
   "source": [
    "customers = [\n",
    "    [\"student2\", \"datascience\", 93],\n",
    "    [\"student3\", \"datascience\", 100]]"
   ]
  },
  {
   "cell_type": "code",
   "execution_count": 16,
   "metadata": {},
   "outputs": [
    {
     "name": "stdout",
     "output_type": "stream",
     "text": [
      "Opened database successfully\n",
      "Table created successfully\n",
      "Row created successfully\n"
     ]
    }
   ],
   "source": [
    "import sqlite3\n",
    "def table_maker():\n",
    "    conn = sqlite3.connect('clariza_database.db')\n",
    "    print(\"Opened database successfully\")\n",
    "    cursor = conn.cursor()\n",
    "    cursor.execute(\"DROP table IF EXISTS customers ;\") \n",
    "    cursor.execute(\"\"\"\n",
    "    CREATE TABLE customers (\n",
    "     name varchar(255), \n",
    "     address varchar(255),\n",
    "     email varchar(255),\n",
    "     company varchar(255),\n",
    "     outstanding_invoices int\n",
    "    );\n",
    "    \"\"\")\n",
    "    print(\"Table created successfully\")\n",
    "    #adding rows by looping through a list of lists\n",
    "    for customer in customers:\n",
    "        cursor.execute(f\"INSERT INTO customers (name, address) VALUES ('{customer[0]}','{customer[1]}');\")\n",
    "    conn.commit()\n",
    "    print(\"Row created successfully\")\n",
    "    conn.close()\n",
    "\n",
    "table_maker()"
   ]
  },
  {
   "cell_type": "code",
   "execution_count": 17,
   "metadata": {},
   "outputs": [
    {
     "name": "stdout",
     "output_type": "stream",
     "text": [
      "Opened database successfully\n",
      "[('student2', 'datascience', None, None, None), ('student3', 'datascience', None, None, None)]\n",
      "Operations completed successfully\n"
     ]
    }
   ],
   "source": [
    "conn = sqlite3.connect('clariza_database.db')\n",
    "print(\"Opened database successfully\")\n",
    "cursor = conn.cursor()\n",
    "cursor.execute(\"SELECT * FROM customers;\")\n",
    "row = cursor.fetchall()  #fetch all the results\n",
    "print(row)\n",
    "print(\"Operations completed successfully\")\n",
    "conn.close()"
   ]
  },
  {
   "cell_type": "markdown",
   "metadata": {},
   "source": [
    "# Exercise 2\n",
    "\n",
    "Start to create a python script that scrapes the data from the source for your final project.\n",
    "\n",
    "Answer the following below for your lab submission:\n",
    "\n",
    "What is the source of your data?\n",
    "\n",
    "What is the page you will be scraping the data from?\n",
    "\n",
    "What sort of link/elements do you need to target in order to get your data?\n",
    "\n",
    "What will be the structure of your sqlite database?  \n",
    "\n",
    "What tables will you need?  \n",
    "\n",
    "What columns will those tables have?  \n",
    "\n",
    "What connections between tables might you need?\n",
    "\n",
    "\n"
   ]
  },
  {
   "cell_type": "code",
   "execution_count": null,
   "metadata": {},
   "outputs": [],
   "source": [
    "#SQLAlchemy Class example for Customers\n",
    "# class Customer(db.Model):\n",
    "#     id = db.Column(db.Integer, primary_key=True) #unique id# similar to a ssn\n",
    "#     name = db.Column(db.String(255), nullable=False)\n",
    "#     house_address = db.Column(db.String(255), nullable=False)\n",
    "#     email = db.Column(db.String(255), nullable=False)\n",
    "#     company = db.Column(db.String(255), nullable=False)\n",
    "#     outstanding_invoices = db.Column(db.Integer, nullable=False)\n",
    "\n",
    "#     def __repr__(self):\n",
    "#         return f\"<Customer: Id: {self.id}, Name: {self.name}, Address: {self.address}, \\\n",
    "#         Email: {self.email}, Company: {self.company}, Outstanding Invoices: {self.outstanding_invoices}>\" "
   ]
  }
 ],
 "metadata": {
  "kernelspec": {
   "display_name": "Python 3",
   "language": "python",
   "name": "python3"
  },
  "language_info": {
   "codemirror_mode": {
    "name": "ipython",
    "version": 3
   },
   "file_extension": ".py",
   "mimetype": "text/x-python",
   "name": "python",
   "nbconvert_exporter": "python",
   "pygments_lexer": "ipython3",
   "version": "3.8.3"
  }
 },
 "nbformat": 4,
 "nbformat_minor": 4
}
