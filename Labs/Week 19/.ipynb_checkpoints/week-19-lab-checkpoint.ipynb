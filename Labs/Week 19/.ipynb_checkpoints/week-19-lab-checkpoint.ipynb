{
 "cells": [
  {
   "cell_type": "markdown",
   "metadata": {},
   "source": [
    "<div style=\"background: #000;\n",
    "            color: #FFF;\n",
    "            margin: 0px;\n",
    "            padding: 10px 0px 20px 0px;\n",
    "            text-align: center; \n",
    "                \">\n",
    "    <h1>Week 19 Lab</h1>\n",
    "</div>"
   ]
  },
  {
   "cell_type": "markdown",
   "metadata": {},
   "source": [
    "For this lab, we'll be using the `flights.txt` file located in `/datasets`."
   ]
  },
  {
   "cell_type": "code",
   "execution_count": 1,
   "metadata": {},
   "outputs": [],
   "source": [
    "import numpy as np\n",
    "import pandas as pd\n",
    "import matplotlib.pyplot as plt"
   ]
  },
  {
   "cell_type": "markdown",
   "metadata": {},
   "source": [
    "**Part 1**\n",
    "\n",
    "Open `../datasets/flights.txt`. Use the methods we've learned in class to analyze the dataset from the top-level (see how many rows it has, how many null values, what columns are necessary, etc.).\n",
    "\n",
    "**a.** read the file into a dataframe (hint: as a csv)"
   ]
  },
  {
   "cell_type": "code",
   "execution_count": 2,
   "metadata": {},
   "outputs": [],
   "source": [
    "flights = pd.read_csv(\"flights.txt\")"
   ]
  },
  {
   "cell_type": "markdown",
   "metadata": {},
   "source": [
    "**b.** Find the memory usage programmatically (hint: use `help`)"
   ]
  },
  {
   "cell_type": "code",
   "execution_count": 3,
   "metadata": {},
   "outputs": [
    {
     "name": "stdout",
     "output_type": "stream",
     "text": [
      "Help on method info in module pandas.core.frame:\n",
      "\n",
      "info(verbose=None, buf=None, max_cols=None, memory_usage=None, null_counts=None) -> None method of pandas.core.frame.DataFrame instance\n",
      "    Print a concise summary of a DataFrame.\n",
      "    \n",
      "    This method prints information about a DataFrame including\n",
      "    the index dtype and column dtypes, non-null values and memory usage.\n",
      "    \n",
      "    Parameters\n",
      "    ----------\n",
      "    verbose : bool, optional\n",
      "        Whether to print the full summary. By default, the setting in\n",
      "        ``pandas.options.display.max_info_columns`` is followed.\n",
      "    buf : writable buffer, defaults to sys.stdout\n",
      "        Where to send the output. By default, the output is printed to\n",
      "        sys.stdout. Pass a writable buffer if you need to further process\n",
      "        the output.\n",
      "    max_cols : int, optional\n",
      "        When to switch from the verbose to the truncated output. If the\n",
      "        DataFrame has more than `max_cols` columns, the truncated output\n",
      "        is used. By default, the setting in\n",
      "        ``pandas.options.display.max_info_columns`` is used.\n",
      "    memory_usage : bool, str, optional\n",
      "        Specifies whether total memory usage of the DataFrame\n",
      "        elements (including the index) should be displayed. By default,\n",
      "        this follows the ``pandas.options.display.memory_usage`` setting.\n",
      "    \n",
      "        True always show memory usage. False never shows memory usage.\n",
      "        A value of 'deep' is equivalent to \"True with deep introspection\".\n",
      "        Memory usage is shown in human-readable units (base-2\n",
      "        representation). Without deep introspection a memory estimation is\n",
      "        made based in column dtype and number of rows assuming values\n",
      "        consume the same memory amount for corresponding dtypes. With deep\n",
      "        memory introspection, a real memory usage calculation is performed\n",
      "        at the cost of computational resources.\n",
      "    null_counts : bool, optional\n",
      "        Whether to show the non-null counts. By default, this is shown\n",
      "        only if the frame is smaller than\n",
      "        ``pandas.options.display.max_info_rows`` and\n",
      "        ``pandas.options.display.max_info_columns``. A value of True always\n",
      "        shows the counts, and False never shows the counts.\n",
      "    \n",
      "    Returns\n",
      "    -------\n",
      "    None\n",
      "        This method prints a summary of a DataFrame and returns None.\n",
      "    \n",
      "    See Also\n",
      "    --------\n",
      "    DataFrame.describe: Generate descriptive statistics of DataFrame\n",
      "        columns.\n",
      "    DataFrame.memory_usage: Memory usage of DataFrame columns.\n",
      "    \n",
      "    Examples\n",
      "    --------\n",
      "    >>> int_values = [1, 2, 3, 4, 5]\n",
      "    >>> text_values = ['alpha', 'beta', 'gamma', 'delta', 'epsilon']\n",
      "    >>> float_values = [0.0, 0.25, 0.5, 0.75, 1.0]\n",
      "    >>> df = pd.DataFrame({\"int_col\": int_values, \"text_col\": text_values,\n",
      "    ...                   \"float_col\": float_values})\n",
      "    >>> df\n",
      "       int_col text_col  float_col\n",
      "    0        1    alpha       0.00\n",
      "    1        2     beta       0.25\n",
      "    2        3    gamma       0.50\n",
      "    3        4    delta       0.75\n",
      "    4        5  epsilon       1.00\n",
      "    \n",
      "    Prints information of all columns:\n",
      "    \n",
      "    >>> df.info(verbose=True)\n",
      "    <class 'pandas.core.frame.DataFrame'>\n",
      "    RangeIndex: 5 entries, 0 to 4\n",
      "    Data columns (total 3 columns):\n",
      "     #   Column     Non-Null Count  Dtype\n",
      "    ---  ------     --------------  -----\n",
      "     0   int_col    5 non-null      int64\n",
      "     1   text_col   5 non-null      object\n",
      "     2   float_col  5 non-null      float64\n",
      "    dtypes: float64(1), int64(1), object(1)\n",
      "    memory usage: 248.0+ bytes\n",
      "    \n",
      "    Prints a summary of columns count and its dtypes but not per column\n",
      "    information:\n",
      "    \n",
      "    >>> df.info(verbose=False)\n",
      "    <class 'pandas.core.frame.DataFrame'>\n",
      "    RangeIndex: 5 entries, 0 to 4\n",
      "    Columns: 3 entries, int_col to float_col\n",
      "    dtypes: float64(1), int64(1), object(1)\n",
      "    memory usage: 248.0+ bytes\n",
      "    \n",
      "    Pipe output of DataFrame.info to buffer instead of sys.stdout, get\n",
      "    buffer content and writes to a text file:\n",
      "    \n",
      "    >>> import io\n",
      "    >>> buffer = io.StringIO()\n",
      "    >>> df.info(buf=buffer)\n",
      "    >>> s = buffer.getvalue()\n",
      "    >>> with open(\"df_info.txt\", \"w\",\n",
      "    ...           encoding=\"utf-8\") as f:  # doctest: +SKIP\n",
      "    ...     f.write(s)\n",
      "    260\n",
      "    \n",
      "    The `memory_usage` parameter allows deep introspection mode, specially\n",
      "    useful for big DataFrames and fine-tune memory optimization:\n",
      "    \n",
      "    >>> random_strings_array = np.random.choice(['a', 'b', 'c'], 10 ** 6)\n",
      "    >>> df = pd.DataFrame({\n",
      "    ...     'column_1': np.random.choice(['a', 'b', 'c'], 10 ** 6),\n",
      "    ...     'column_2': np.random.choice(['a', 'b', 'c'], 10 ** 6),\n",
      "    ...     'column_3': np.random.choice(['a', 'b', 'c'], 10 ** 6)\n",
      "    ... })\n",
      "    >>> df.info()\n",
      "    <class 'pandas.core.frame.DataFrame'>\n",
      "    RangeIndex: 1000000 entries, 0 to 999999\n",
      "    Data columns (total 3 columns):\n",
      "     #   Column    Non-Null Count    Dtype\n",
      "    ---  ------    --------------    -----\n",
      "     0   column_1  1000000 non-null  object\n",
      "     1   column_2  1000000 non-null  object\n",
      "     2   column_3  1000000 non-null  object\n",
      "    dtypes: object(3)\n",
      "    memory usage: 22.9+ MB\n",
      "    \n",
      "    >>> df.info(memory_usage='deep')\n",
      "    <class 'pandas.core.frame.DataFrame'>\n",
      "    RangeIndex: 1000000 entries, 0 to 999999\n",
      "    Data columns (total 3 columns):\n",
      "     #   Column    Non-Null Count    Dtype\n",
      "    ---  ------    --------------    -----\n",
      "     0   column_1  1000000 non-null  object\n",
      "     1   column_2  1000000 non-null  object\n",
      "     2   column_3  1000000 non-null  object\n",
      "    dtypes: object(3)\n",
      "    memory usage: 188.8 MB\n",
      "\n"
     ]
    }
   ],
   "source": [
    "help(flights.info)"
   ]
  },
  {
   "cell_type": "markdown",
   "metadata": {},
   "source": [
    "**c.** Find the number of missing entries for each column."
   ]
  },
  {
   "cell_type": "code",
   "execution_count": null,
   "metadata": {},
   "outputs": [],
   "source": []
  },
  {
   "cell_type": "markdown",
   "metadata": {},
   "source": [
    "**d.** What columns are unnecessary? Remove them so that the `df` doesn't include them."
   ]
  },
  {
   "cell_type": "code",
   "execution_count": null,
   "metadata": {},
   "outputs": [],
   "source": []
  },
  {
   "cell_type": "markdown",
   "metadata": {},
   "source": [
    "**e.** Carrier/airline information is located below. Use the information in there to create a new column with a human-readable airline name.\n",
    "\n",
    "```\n",
    "\"9E\" \"Endeavor Air Inc.\",\n",
    "\"AA\" \"American Airlines Inc.\",\n",
    "\"AS\" \"Alaska Airlines Inc.\",\n",
    "\"B6\" \"JetBlue Airways\",\n",
    "\"DL\" \"Delta Air Lines Inc.\",\n",
    "\"EV\" \"ExpressJet Airlines Inc.\",\n",
    "\"F9\" \"Frontier Airlines Inc.\",\n",
    "\"FL\" \"AirTran Airways Corporation\",\n",
    "\"HA\" \"Hawaiian Airlines Inc.\",\n",
    "\"MQ\" \"Envoy Air\",\n",
    "\"OO\" \"SkyWest Airlines Inc.\",\n",
    "\"UA\" \"United Air Lines Inc.\",\n",
    "\"US\" \"US Airways Inc.\",\n",
    "\"VX\" \"Virgin America\",\n",
    "\"WN\" \"Southwest Airlines Co.\",\n",
    "\"YV\" \"Mesa Airlines Inc.\",\n",
    "\n",
    "```"
   ]
  },
  {
   "cell_type": "code",
   "execution_count": null,
   "metadata": {},
   "outputs": [],
   "source": []
  },
  {
   "cell_type": "markdown",
   "metadata": {},
   "source": [
    "\n",
    "\n"
   ]
  },
  {
   "cell_type": "markdown",
   "metadata": {},
   "source": [
    "**Part 2** \n",
    "\n",
    "Now we need to fix the missing rows and values.\n",
    "\n"
   ]
  },
  {
   "cell_type": "markdown",
   "metadata": {},
   "source": [
    "**a.** Check out the rows missing values for \"dep_delay\". Can we keep them? If not, remove those rows.\n",
    "\n",
    "(note: we're only interested in rows with flight time information)"
   ]
  },
  {
   "cell_type": "code",
   "execution_count": null,
   "metadata": {},
   "outputs": [],
   "source": []
  },
  {
   "cell_type": "markdown",
   "metadata": {},
   "source": [
    "**b.** Now check out the rows missing \"arr_time\". Can we keep them? Drop them if not."
   ]
  },
  {
   "cell_type": "code",
   "execution_count": null,
   "metadata": {},
   "outputs": [],
   "source": []
  },
  {
   "cell_type": "markdown",
   "metadata": {},
   "source": [
    "**c.** Now let's check out the rows missing `air_time`. Can we keep them? Drop them if not."
   ]
  },
  {
   "cell_type": "code",
   "execution_count": null,
   "metadata": {},
   "outputs": [],
   "source": []
  },
  {
   "cell_type": "markdown",
   "metadata": {},
   "source": [
    "**Part 3**\n",
    "\n",
    "Making observations of what we have."
   ]
  },
  {
   "cell_type": "markdown",
   "metadata": {},
   "source": [
    "**a.** What flight was the longest? Where did it leave from and where did it land?\n",
    "\n",
    "You might need to look up airport codes."
   ]
  },
  {
   "cell_type": "code",
   "execution_count": null,
   "metadata": {},
   "outputs": [],
   "source": []
  },
  {
   "cell_type": "markdown",
   "metadata": {},
   "source": [
    "**b.** What flight was the shortest?"
   ]
  },
  {
   "cell_type": "code",
   "execution_count": null,
   "metadata": {},
   "outputs": [],
   "source": []
  },
  {
   "cell_type": "markdown",
   "metadata": {},
   "source": [
    "**c.** What airline flied the most during this period?\n",
    "\n",
    "hint: `.size()`"
   ]
  },
  {
   "cell_type": "code",
   "execution_count": null,
   "metadata": {},
   "outputs": [],
   "source": []
  },
  {
   "cell_type": "markdown",
   "metadata": {},
   "source": [
    "**d.** Which destination was most flown to?"
   ]
  },
  {
   "cell_type": "code",
   "execution_count": null,
   "metadata": {},
   "outputs": [],
   "source": []
  },
  {
   "cell_type": "markdown",
   "metadata": {},
   "source": [
    "**e.** Which location was flown from the most?"
   ]
  },
  {
   "cell_type": "code",
   "execution_count": null,
   "metadata": {},
   "outputs": [],
   "source": []
  },
  {
   "cell_type": "markdown",
   "metadata": {},
   "source": [
    "**f.** Which flight had the longest departure delay?"
   ]
  },
  {
   "cell_type": "code",
   "execution_count": null,
   "metadata": {},
   "outputs": [],
   "source": []
  },
  {
   "cell_type": "markdown",
   "metadata": {},
   "source": [
    "**g.** Which flight had the longest arrival delay? Should match the previous."
   ]
  },
  {
   "cell_type": "code",
   "execution_count": null,
   "metadata": {},
   "outputs": [],
   "source": []
  },
  {
   "cell_type": "markdown",
   "metadata": {},
   "source": [
    "**h.** Which airline had the longest arrival delays on average?"
   ]
  },
  {
   "cell_type": "code",
   "execution_count": null,
   "metadata": {},
   "outputs": [],
   "source": []
  },
  {
   "cell_type": "markdown",
   "metadata": {},
   "source": [
    "**i.** Which airline had the longest departure delays on average?"
   ]
  },
  {
   "cell_type": "code",
   "execution_count": null,
   "metadata": {},
   "outputs": [],
   "source": []
  },
  {
   "cell_type": "markdown",
   "metadata": {},
   "source": [
    "**j.** Which aircraft (going by tailnumber) flew the most?"
   ]
  },
  {
   "cell_type": "code",
   "execution_count": null,
   "metadata": {},
   "outputs": [],
   "source": []
  },
  {
   "cell_type": "markdown",
   "metadata": {},
   "source": [
    "**Bonus:** What day had the most flights?"
   ]
  },
  {
   "cell_type": "markdown",
   "metadata": {},
   "source": [
    "**Part 4**\n",
    "\n",
    "Using one (or more) of the exercises from **Part 3**, plot the information in a matplotlib chart that has correct ticks, labels, titles and axis. Also ensure that the chart type that you use is the correct one for plotting the data you're using. Create a chart you would proudly show an employer."
   ]
  },
  {
   "cell_type": "code",
   "execution_count": null,
   "metadata": {},
   "outputs": [],
   "source": []
  }
 ],
 "metadata": {
  "kernelspec": {
   "display_name": "Python 3",
   "language": "python",
   "name": "python3"
  },
  "language_info": {
   "codemirror_mode": {
    "name": "ipython",
    "version": 3
   },
   "file_extension": ".py",
   "mimetype": "text/x-python",
   "name": "python",
   "nbconvert_exporter": "python",
   "pygments_lexer": "ipython3",
   "version": "3.8.3"
  }
 },
 "nbformat": 4,
 "nbformat_minor": 4
}
