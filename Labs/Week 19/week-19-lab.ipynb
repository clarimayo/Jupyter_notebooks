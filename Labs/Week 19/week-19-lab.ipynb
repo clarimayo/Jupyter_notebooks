{
 "cells": [
  {
   "cell_type": "markdown",
   "metadata": {},
   "source": [
    "<div style=\"background: #000;\n",
    "            color: #FFF;\n",
    "            margin: 0px;\n",
    "            padding: 10px 0px 20px 0px;\n",
    "            text-align: center; \n",
    "                \">\n",
    "    <h1>Week 19 Lab</h1>\n",
    "</div>"
   ]
  },
  {
   "cell_type": "markdown",
   "metadata": {},
   "source": [
    "For this lab, we'll be using the `flights.txt` file located in `/datasets`."
   ]
  },
  {
   "cell_type": "code",
   "execution_count": 1,
   "metadata": {},
   "outputs": [],
   "source": [
    "import numpy as np\n",
    "import pandas as pd\n",
    "import matplotlib.pyplot as plt"
   ]
  },
  {
   "cell_type": "markdown",
   "metadata": {},
   "source": [
    "**Part 1**\n",
    "\n",
    "Open `../datasets/flights.txt`. Use the methods we've learned in class to analyze the dataset from the top-level (see how many rows it has, how many null values, what columns are necessary, etc.).\n",
    "\n",
    "**a.** read the file into a dataframe (hint: as a csv)"
   ]
  },
  {
   "cell_type": "code",
   "execution_count": 2,
   "metadata": {},
   "outputs": [],
   "source": [
    "flights = pd.read_csv(\"flights.txt\", sep=\"|\")"
   ]
  },
  {
   "cell_type": "markdown",
   "metadata": {},
   "source": [
    "**b.** Find the memory usage programmatically (hint: use `help`)"
   ]
  },
  {
   "cell_type": "code",
   "execution_count": 3,
   "metadata": {},
   "outputs": [
    {
     "data": {
      "text/plain": [
       "16.800128"
      ]
     },
     "execution_count": 3,
     "metadata": {},
     "output_type": "execute_result"
    }
   ],
   "source": [
    "variable = flights.memory_usage().sum()/1000000\n",
    "variable"
   ]
  },
  {
   "cell_type": "markdown",
   "metadata": {},
   "source": [
    "**c.** Find the number of missing entries for each column."
   ]
  },
  {
   "cell_type": "code",
   "execution_count": 4,
   "metadata": {},
   "outputs": [
    {
     "data": {
      "text/plain": [
       "arr_delay         2146\n",
       "air_time          2146\n",
       "arr_time          1964\n",
       "dep_time          1894\n",
       "dep_delay         1894\n",
       "tailnum            547\n",
       "Unnamed: 0.1         0\n",
       "year                 0\n",
       "month                0\n",
       "day                  0\n",
       "sched_dep_time       0\n",
       "time_hour            0\n",
       "sched_arr_time       0\n",
       "minute               0\n",
       "carrier              0\n",
       "flight               0\n",
       "origin               0\n",
       "dest                 0\n",
       "distance             0\n",
       "hour                 0\n",
       "Unnamed: 0           0\n",
       "dtype: int64"
      ]
     },
     "execution_count": 4,
     "metadata": {},
     "output_type": "execute_result"
    }
   ],
   "source": [
    "flights.isna().sum().sort_values(ascending=False)"
   ]
  },
  {
   "cell_type": "markdown",
   "metadata": {},
   "source": [
    "**d.** What columns are unnecessary? Remove them so that the `df` doesn't include them."
   ]
  },
  {
   "cell_type": "code",
   "execution_count": 5,
   "metadata": {},
   "outputs": [],
   "source": [
    "#the unnamed columns seem unnecesary because we don't have a context of what they stand for\n",
    "#in the dataframe\n",
    "flights = flights.drop(['Unnamed: 0', 'Unnamed: 0.1'], axis=1)"
   ]
  },
  {
   "cell_type": "markdown",
   "metadata": {},
   "source": [
    "**e.** Carrier/airline information is located below. Use the information in there to create a new column with a human-readable airline name.\n",
    "\n",
    "```\n",
    "\"9E\" \"Endeavor Air Inc.\",\n",
    "\"AA\" \"American Airlines Inc.\",\n",
    "\"AS\" \"Alaska Airlines Inc.\",\n",
    "\"B6\" \"JetBlue Airways\",\n",
    "\"DL\" \"Delta Air Lines Inc.\",\n",
    "\"EV\" \"ExpressJet Airlines Inc.\",\n",
    "\"F9\" \"Frontier Airlines Inc.\",\n",
    "\"FL\" \"AirTran Airways Corporation\",\n",
    "\"HA\" \"Hawaiian Airlines Inc.\",\n",
    "\"MQ\" \"Envoy Air\",\n",
    "\"OO\" \"SkyWest Airlines Inc.\",\n",
    "\"UA\" \"United Air Lines Inc.\",\n",
    "\"US\" \"US Airways Inc.\",\n",
    "\"VX\" \"Virgin America\",\n",
    "\"WN\" \"Southwest Airlines Co.\",\n",
    "\"YV\" \"Mesa Airlines Inc.\",\n",
    "\n",
    "```"
   ]
  },
  {
   "cell_type": "code",
   "execution_count": 6,
   "metadata": {},
   "outputs": [],
   "source": [
    "values = {\"9E\":\"Endeavor Air Inc.\",\n",
    "\"AA\":\"American Airlines Inc.\",\n",
    "\"AS\":\"Alaska Airlines Inc.\",\n",
    "\"B6\":\"JetBlue Airways\",\n",
    "\"DL\":\"Delta Air Lines Inc.\",\n",
    "\"EV\":\"ExpressJet Airlines Inc.\",\n",
    "\"F9\":\"Frontier Airlines Inc.\",\n",
    "\"FL\":\"AirTran Airways Corporation\",\n",
    "\"HA\":\"Hawaiian Airlines Inc.\",\n",
    "\"MQ\":\"Envoy Air\",\n",
    "\"OO\":\"SkyWest Airlines Inc.\",\n",
    "\"UA\":\"United Air Lines Inc.\",\n",
    "\"US\":\"US Airways Inc.\",\n",
    "\"VX\":\"Virgin America\",\n",
    "\"WN\":\"Southwest Airlines Co.\",\n",
    "\"YV\":\"Mesa Airlines Inc.\"}\n",
    "\n",
    "flights['airline_name'] = flights['carrier'].map(values)"
   ]
  },
  {
   "cell_type": "code",
   "execution_count": 7,
   "metadata": {},
   "outputs": [],
   "source": [
    "flights = flights.reindex(['year',\n",
    " 'month',\n",
    " 'day',\n",
    " 'dep_time',\n",
    " 'sched_dep_time',\n",
    " 'dep_delay',\n",
    " 'arr_time',\n",
    " 'sched_arr_time',\n",
    " 'arr_delay',\n",
    " 'carrier',\n",
    " 'airline_name',\n",
    " 'flight',\n",
    " 'tailnum',\n",
    " 'origin',\n",
    " 'dest',\n",
    " 'air_time',\n",
    " 'distance',\n",
    " 'hour',\n",
    " 'minute',\n",
    " 'time_hour'],axis=1)"
   ]
  },
  {
   "cell_type": "code",
   "execution_count": 8,
   "metadata": {},
   "outputs": [],
   "source": [
    "pd.options.display.max_colwidth = 100"
   ]
  },
  {
   "cell_type": "code",
   "execution_count": 9,
   "metadata": {},
   "outputs": [
    {
     "data": {
      "text/html": [
       "<div>\n",
       "<style scoped>\n",
       "    .dataframe tbody tr th:only-of-type {\n",
       "        vertical-align: middle;\n",
       "    }\n",
       "\n",
       "    .dataframe tbody tr th {\n",
       "        vertical-align: top;\n",
       "    }\n",
       "\n",
       "    .dataframe thead th {\n",
       "        text-align: right;\n",
       "    }\n",
       "</style>\n",
       "<table border=\"1\" class=\"dataframe\">\n",
       "  <thead>\n",
       "    <tr style=\"text-align: right;\">\n",
       "      <th></th>\n",
       "      <th>carrier</th>\n",
       "      <th>airline_name</th>\n",
       "    </tr>\n",
       "  </thead>\n",
       "  <tbody>\n",
       "    <tr>\n",
       "      <th>0</th>\n",
       "      <td>UA</td>\n",
       "      <td>United Air Lines Inc.</td>\n",
       "    </tr>\n",
       "    <tr>\n",
       "      <th>1</th>\n",
       "      <td>UA</td>\n",
       "      <td>United Air Lines Inc.</td>\n",
       "    </tr>\n",
       "    <tr>\n",
       "      <th>2</th>\n",
       "      <td>AA</td>\n",
       "      <td>American Airlines Inc.</td>\n",
       "    </tr>\n",
       "    <tr>\n",
       "      <th>3</th>\n",
       "      <td>B6</td>\n",
       "      <td>JetBlue Airways</td>\n",
       "    </tr>\n",
       "    <tr>\n",
       "      <th>4</th>\n",
       "      <td>DL</td>\n",
       "      <td>Delta Air Lines Inc.</td>\n",
       "    </tr>\n",
       "    <tr>\n",
       "      <th>...</th>\n",
       "      <td>...</td>\n",
       "      <td>...</td>\n",
       "    </tr>\n",
       "    <tr>\n",
       "      <th>99995</th>\n",
       "      <td>EV</td>\n",
       "      <td>ExpressJet Airlines Inc.</td>\n",
       "    </tr>\n",
       "    <tr>\n",
       "      <th>99996</th>\n",
       "      <td>9E</td>\n",
       "      <td>Endeavor Air Inc.</td>\n",
       "    </tr>\n",
       "    <tr>\n",
       "      <th>99997</th>\n",
       "      <td>B6</td>\n",
       "      <td>JetBlue Airways</td>\n",
       "    </tr>\n",
       "    <tr>\n",
       "      <th>99998</th>\n",
       "      <td>UA</td>\n",
       "      <td>United Air Lines Inc.</td>\n",
       "    </tr>\n",
       "    <tr>\n",
       "      <th>99999</th>\n",
       "      <td>UA</td>\n",
       "      <td>United Air Lines Inc.</td>\n",
       "    </tr>\n",
       "  </tbody>\n",
       "</table>\n",
       "<p>100000 rows × 2 columns</p>\n",
       "</div>"
      ],
      "text/plain": [
       "      carrier              airline_name\n",
       "0          UA     United Air Lines Inc.\n",
       "1          UA     United Air Lines Inc.\n",
       "2          AA    American Airlines Inc.\n",
       "3          B6           JetBlue Airways\n",
       "4          DL      Delta Air Lines Inc.\n",
       "...       ...                       ...\n",
       "99995      EV  ExpressJet Airlines Inc.\n",
       "99996      9E         Endeavor Air Inc.\n",
       "99997      B6           JetBlue Airways\n",
       "99998      UA     United Air Lines Inc.\n",
       "99999      UA     United Air Lines Inc.\n",
       "\n",
       "[100000 rows x 2 columns]"
      ]
     },
     "execution_count": 9,
     "metadata": {},
     "output_type": "execute_result"
    }
   ],
   "source": [
    "flights[[\"carrier\",\"airline_name\"]]"
   ]
  },
  {
   "cell_type": "code",
   "execution_count": 10,
   "metadata": {},
   "outputs": [
    {
     "data": {
      "text/plain": [
       "(100000, 20)"
      ]
     },
     "execution_count": 10,
     "metadata": {},
     "output_type": "execute_result"
    }
   ],
   "source": [
    "flights.shape"
   ]
  },
  {
   "cell_type": "markdown",
   "metadata": {},
   "source": [
    "**Part 2** \n",
    "\n",
    "Now we need to fix the missing rows and values.\n",
    "\n"
   ]
  },
  {
   "cell_type": "markdown",
   "metadata": {},
   "source": [
    "**a.** Check out the rows missing values for \"dep_delay\". Can we keep them? If not, remove those rows.\n",
    "\n",
    "(note: we're only interested in rows with flight time information)"
   ]
  },
  {
   "cell_type": "markdown",
   "metadata": {},
   "source": [
    "**b.** Now check out the rows missing \"arr_time\". Can we keep them? Drop them if not."
   ]
  },
  {
   "cell_type": "markdown",
   "metadata": {},
   "source": [
    "**c.** Now let's check out the rows missing `air_time`. Can we keep them? Drop them if not."
   ]
  },
  {
   "cell_type": "code",
   "execution_count": 12,
   "metadata": {},
   "outputs": [],
   "source": [
    "#gets rid of all the rows that have missing values\n",
    "flights.dropna(inplace=True)   #to ask"
   ]
  },
  {
   "cell_type": "code",
   "execution_count": 15,
   "metadata": {},
   "outputs": [
    {
     "data": {
      "text/plain": [
       "time_hour         0\n",
       "minute            0\n",
       "month             0\n",
       "day               0\n",
       "dep_time          0\n",
       "sched_dep_time    0\n",
       "dep_delay         0\n",
       "arr_time          0\n",
       "sched_arr_time    0\n",
       "arr_delay         0\n",
       "carrier           0\n",
       "airline_name      0\n",
       "flight            0\n",
       "tailnum           0\n",
       "origin            0\n",
       "dest              0\n",
       "air_time          0\n",
       "distance          0\n",
       "hour              0\n",
       "year              0\n",
       "dtype: int64"
      ]
     },
     "execution_count": 15,
     "metadata": {},
     "output_type": "execute_result"
    }
   ],
   "source": [
    "flights.isna().sum().sort_values(ascending=False)"
   ]
  },
  {
   "cell_type": "markdown",
   "metadata": {},
   "source": [
    "**Part 3**\n",
    "\n",
    "Making observations of what we have."
   ]
  },
  {
   "cell_type": "markdown",
   "metadata": {},
   "source": [
    "**a.** What flight was the longest? Where did it leave from and where did it land?\n",
    "\n",
    "You might need to look up airport codes."
   ]
  },
  {
   "cell_type": "code",
   "execution_count": 36,
   "metadata": {},
   "outputs": [
    {
     "data": {
      "text/plain": [
       "origin    JFKJFKJFKJFKJFKJFKJFKJFKJFKJFKJFKJFKJFKJFKJFKJFKJFKJFKJFKJFKJFKJFKJFKJFKJFKJFKJFKJFKJFKJFKJFKJFK...\n",
       "dest      HNLHNLHNLHNLHNLHNLHNLHNLHNLHNLHNLHNLHNLHNLHNLHNLHNLHNLHNLHNLHNLHNLHNLHNLHNLHNLHNLHNLHNLHNLHNLHNL...\n",
       "Name: 4983, dtype: object"
      ]
     },
     "execution_count": 36,
     "metadata": {},
     "output_type": "execute_result"
    }
   ],
   "source": [
    "#JFK (New York) - HNL (Honolulu): 4983  #to ask\n",
    "flights.groupby(\"distance\")[[\"origin\",\"dest\"]].sum().sort_values(\"distance\",ascending=False).iloc[0]"
   ]
  },
  {
   "cell_type": "markdown",
   "metadata": {},
   "source": [
    "**b.** What flight was the shortest?"
   ]
  },
  {
   "cell_type": "code",
   "execution_count": 49,
   "metadata": {},
   "outputs": [
    {
     "data": {
      "text/plain": [
       "origin    EWREWREWREWREWREWREWREWREWREWREWREWREWREWREWREWREWREWREWREWREWREWREWREWREWREWREWREWREWREWREWR\n",
       "dest      PHLPHLPHLPHLPHLPHLPHLPHLPHLPHLPHLPHLPHLPHLPHLPHLPHLPHLPHLPHLPHLPHLPHLPHLPHLPHLPHLPHLPHLPHLPHL\n",
       "Name: 80, dtype: object"
      ]
     },
     "execution_count": 49,
     "metadata": {},
     "output_type": "execute_result"
    }
   ],
   "source": [
    "#EWR (New Jersey) - PHL (Philadelphia) : 80\n",
    "flights.groupby(\"distance\")[[\"origin\",\"dest\"]].sum().sort_values(\"distance\",ascending=False).iloc[-1]"
   ]
  },
  {
   "cell_type": "code",
   "execution_count": 37,
   "metadata": {},
   "outputs": [
    {
     "data": {
      "text/html": [
       "<div>\n",
       "<style scoped>\n",
       "    .dataframe tbody tr th:only-of-type {\n",
       "        vertical-align: middle;\n",
       "    }\n",
       "\n",
       "    .dataframe tbody tr th {\n",
       "        vertical-align: top;\n",
       "    }\n",
       "\n",
       "    .dataframe thead th {\n",
       "        text-align: right;\n",
       "    }\n",
       "</style>\n",
       "<table border=\"1\" class=\"dataframe\">\n",
       "  <thead>\n",
       "    <tr style=\"text-align: right;\">\n",
       "      <th></th>\n",
       "      <th>year</th>\n",
       "      <th>month</th>\n",
       "      <th>day</th>\n",
       "      <th>dep_time</th>\n",
       "      <th>sched_dep_time</th>\n",
       "      <th>dep_delay</th>\n",
       "      <th>arr_time</th>\n",
       "      <th>sched_arr_time</th>\n",
       "      <th>arr_delay</th>\n",
       "      <th>carrier</th>\n",
       "      <th>airline_name</th>\n",
       "      <th>flight</th>\n",
       "      <th>tailnum</th>\n",
       "      <th>origin</th>\n",
       "      <th>dest</th>\n",
       "      <th>air_time</th>\n",
       "      <th>distance</th>\n",
       "      <th>hour</th>\n",
       "      <th>minute</th>\n",
       "      <th>time_hour</th>\n",
       "    </tr>\n",
       "  </thead>\n",
       "  <tbody>\n",
       "    <tr>\n",
       "      <th>0</th>\n",
       "      <td>2013</td>\n",
       "      <td>1</td>\n",
       "      <td>1</td>\n",
       "      <td>517.0</td>\n",
       "      <td>515</td>\n",
       "      <td>2.0</td>\n",
       "      <td>830.0</td>\n",
       "      <td>819</td>\n",
       "      <td>11.0</td>\n",
       "      <td>UA</td>\n",
       "      <td>United Air Lines Inc.</td>\n",
       "      <td>1545</td>\n",
       "      <td>N14228</td>\n",
       "      <td>EWR</td>\n",
       "      <td>IAH</td>\n",
       "      <td>227.0</td>\n",
       "      <td>1400</td>\n",
       "      <td>5</td>\n",
       "      <td>15</td>\n",
       "      <td>2013-01-01T10:00:00Z</td>\n",
       "    </tr>\n",
       "    <tr>\n",
       "      <th>1</th>\n",
       "      <td>2013</td>\n",
       "      <td>1</td>\n",
       "      <td>1</td>\n",
       "      <td>533.0</td>\n",
       "      <td>529</td>\n",
       "      <td>4.0</td>\n",
       "      <td>850.0</td>\n",
       "      <td>830</td>\n",
       "      <td>20.0</td>\n",
       "      <td>UA</td>\n",
       "      <td>United Air Lines Inc.</td>\n",
       "      <td>1714</td>\n",
       "      <td>N24211</td>\n",
       "      <td>LGA</td>\n",
       "      <td>IAH</td>\n",
       "      <td>227.0</td>\n",
       "      <td>1416</td>\n",
       "      <td>5</td>\n",
       "      <td>29</td>\n",
       "      <td>2013-01-01T10:00:00Z</td>\n",
       "    </tr>\n",
       "    <tr>\n",
       "      <th>2</th>\n",
       "      <td>2013</td>\n",
       "      <td>1</td>\n",
       "      <td>1</td>\n",
       "      <td>542.0</td>\n",
       "      <td>540</td>\n",
       "      <td>2.0</td>\n",
       "      <td>923.0</td>\n",
       "      <td>850</td>\n",
       "      <td>33.0</td>\n",
       "      <td>AA</td>\n",
       "      <td>American Airlines Inc.</td>\n",
       "      <td>1141</td>\n",
       "      <td>N619AA</td>\n",
       "      <td>JFK</td>\n",
       "      <td>MIA</td>\n",
       "      <td>160.0</td>\n",
       "      <td>1089</td>\n",
       "      <td>5</td>\n",
       "      <td>40</td>\n",
       "      <td>2013-01-01T10:00:00Z</td>\n",
       "    </tr>\n",
       "    <tr>\n",
       "      <th>3</th>\n",
       "      <td>2013</td>\n",
       "      <td>1</td>\n",
       "      <td>1</td>\n",
       "      <td>544.0</td>\n",
       "      <td>545</td>\n",
       "      <td>-1.0</td>\n",
       "      <td>1004.0</td>\n",
       "      <td>1022</td>\n",
       "      <td>-18.0</td>\n",
       "      <td>B6</td>\n",
       "      <td>JetBlue Airways</td>\n",
       "      <td>725</td>\n",
       "      <td>N804JB</td>\n",
       "      <td>JFK</td>\n",
       "      <td>BQN</td>\n",
       "      <td>183.0</td>\n",
       "      <td>1576</td>\n",
       "      <td>5</td>\n",
       "      <td>45</td>\n",
       "      <td>2013-01-01T10:00:00Z</td>\n",
       "    </tr>\n",
       "    <tr>\n",
       "      <th>4</th>\n",
       "      <td>2013</td>\n",
       "      <td>1</td>\n",
       "      <td>1</td>\n",
       "      <td>554.0</td>\n",
       "      <td>600</td>\n",
       "      <td>-6.0</td>\n",
       "      <td>812.0</td>\n",
       "      <td>837</td>\n",
       "      <td>-25.0</td>\n",
       "      <td>DL</td>\n",
       "      <td>Delta Air Lines Inc.</td>\n",
       "      <td>461</td>\n",
       "      <td>N668DN</td>\n",
       "      <td>LGA</td>\n",
       "      <td>ATL</td>\n",
       "      <td>116.0</td>\n",
       "      <td>762</td>\n",
       "      <td>6</td>\n",
       "      <td>0</td>\n",
       "      <td>2013-01-01T11:00:00Z</td>\n",
       "    </tr>\n",
       "    <tr>\n",
       "      <th>...</th>\n",
       "      <td>...</td>\n",
       "      <td>...</td>\n",
       "      <td>...</td>\n",
       "      <td>...</td>\n",
       "      <td>...</td>\n",
       "      <td>...</td>\n",
       "      <td>...</td>\n",
       "      <td>...</td>\n",
       "      <td>...</td>\n",
       "      <td>...</td>\n",
       "      <td>...</td>\n",
       "      <td>...</td>\n",
       "      <td>...</td>\n",
       "      <td>...</td>\n",
       "      <td>...</td>\n",
       "      <td>...</td>\n",
       "      <td>...</td>\n",
       "      <td>...</td>\n",
       "      <td>...</td>\n",
       "      <td>...</td>\n",
       "    </tr>\n",
       "    <tr>\n",
       "      <th>99995</th>\n",
       "      <td>2013</td>\n",
       "      <td>12</td>\n",
       "      <td>19</td>\n",
       "      <td>814.0</td>\n",
       "      <td>817</td>\n",
       "      <td>-3.0</td>\n",
       "      <td>920.0</td>\n",
       "      <td>931</td>\n",
       "      <td>-11.0</td>\n",
       "      <td>EV</td>\n",
       "      <td>ExpressJet Airlines Inc.</td>\n",
       "      <td>4234</td>\n",
       "      <td>N25134</td>\n",
       "      <td>EWR</td>\n",
       "      <td>BWI</td>\n",
       "      <td>40.0</td>\n",
       "      <td>169</td>\n",
       "      <td>8</td>\n",
       "      <td>17</td>\n",
       "      <td>2013-12-19T13:00:00Z</td>\n",
       "    </tr>\n",
       "    <tr>\n",
       "      <th>99996</th>\n",
       "      <td>2013</td>\n",
       "      <td>12</td>\n",
       "      <td>19</td>\n",
       "      <td>815.0</td>\n",
       "      <td>810</td>\n",
       "      <td>5.0</td>\n",
       "      <td>1033.0</td>\n",
       "      <td>1047</td>\n",
       "      <td>-14.0</td>\n",
       "      <td>9E</td>\n",
       "      <td>Endeavor Air Inc.</td>\n",
       "      <td>3741</td>\n",
       "      <td>N293PQ</td>\n",
       "      <td>LGA</td>\n",
       "      <td>MCI</td>\n",
       "      <td>172.0</td>\n",
       "      <td>1107</td>\n",
       "      <td>8</td>\n",
       "      <td>10</td>\n",
       "      <td>2013-12-19T13:00:00Z</td>\n",
       "    </tr>\n",
       "    <tr>\n",
       "      <th>99997</th>\n",
       "      <td>2013</td>\n",
       "      <td>12</td>\n",
       "      <td>19</td>\n",
       "      <td>815.0</td>\n",
       "      <td>815</td>\n",
       "      <td>0.0</td>\n",
       "      <td>1117.0</td>\n",
       "      <td>1123</td>\n",
       "      <td>-6.0</td>\n",
       "      <td>B6</td>\n",
       "      <td>JetBlue Airways</td>\n",
       "      <td>281</td>\n",
       "      <td>N298JB</td>\n",
       "      <td>JFK</td>\n",
       "      <td>HOU</td>\n",
       "      <td>216.0</td>\n",
       "      <td>1428</td>\n",
       "      <td>8</td>\n",
       "      <td>15</td>\n",
       "      <td>2013-12-19T13:00:00Z</td>\n",
       "    </tr>\n",
       "    <tr>\n",
       "      <th>99998</th>\n",
       "      <td>2013</td>\n",
       "      <td>12</td>\n",
       "      <td>19</td>\n",
       "      <td>815.0</td>\n",
       "      <td>749</td>\n",
       "      <td>26.0</td>\n",
       "      <td>1113.0</td>\n",
       "      <td>1103</td>\n",
       "      <td>10.0</td>\n",
       "      <td>UA</td>\n",
       "      <td>United Air Lines Inc.</td>\n",
       "      <td>623</td>\n",
       "      <td>N504UA</td>\n",
       "      <td>EWR</td>\n",
       "      <td>SAN</td>\n",
       "      <td>337.0</td>\n",
       "      <td>2425</td>\n",
       "      <td>7</td>\n",
       "      <td>49</td>\n",
       "      <td>2013-12-19T12:00:00Z</td>\n",
       "    </tr>\n",
       "    <tr>\n",
       "      <th>99999</th>\n",
       "      <td>2013</td>\n",
       "      <td>12</td>\n",
       "      <td>19</td>\n",
       "      <td>816.0</td>\n",
       "      <td>800</td>\n",
       "      <td>16.0</td>\n",
       "      <td>1130.0</td>\n",
       "      <td>1118</td>\n",
       "      <td>12.0</td>\n",
       "      <td>UA</td>\n",
       "      <td>United Air Lines Inc.</td>\n",
       "      <td>997</td>\n",
       "      <td>N536UA</td>\n",
       "      <td>EWR</td>\n",
       "      <td>LAX</td>\n",
       "      <td>346.0</td>\n",
       "      <td>2454</td>\n",
       "      <td>8</td>\n",
       "      <td>0</td>\n",
       "      <td>2013-12-19T13:00:00Z</td>\n",
       "    </tr>\n",
       "  </tbody>\n",
       "</table>\n",
       "<p>97854 rows × 20 columns</p>\n",
       "</div>"
      ],
      "text/plain": [
       "       year  month  day  dep_time  sched_dep_time  dep_delay  arr_time  \\\n",
       "0      2013      1    1     517.0             515        2.0     830.0   \n",
       "1      2013      1    1     533.0             529        4.0     850.0   \n",
       "2      2013      1    1     542.0             540        2.0     923.0   \n",
       "3      2013      1    1     544.0             545       -1.0    1004.0   \n",
       "4      2013      1    1     554.0             600       -6.0     812.0   \n",
       "...     ...    ...  ...       ...             ...        ...       ...   \n",
       "99995  2013     12   19     814.0             817       -3.0     920.0   \n",
       "99996  2013     12   19     815.0             810        5.0    1033.0   \n",
       "99997  2013     12   19     815.0             815        0.0    1117.0   \n",
       "99998  2013     12   19     815.0             749       26.0    1113.0   \n",
       "99999  2013     12   19     816.0             800       16.0    1130.0   \n",
       "\n",
       "       sched_arr_time  arr_delay carrier              airline_name  flight  \\\n",
       "0                 819       11.0      UA     United Air Lines Inc.    1545   \n",
       "1                 830       20.0      UA     United Air Lines Inc.    1714   \n",
       "2                 850       33.0      AA    American Airlines Inc.    1141   \n",
       "3                1022      -18.0      B6           JetBlue Airways     725   \n",
       "4                 837      -25.0      DL      Delta Air Lines Inc.     461   \n",
       "...               ...        ...     ...                       ...     ...   \n",
       "99995             931      -11.0      EV  ExpressJet Airlines Inc.    4234   \n",
       "99996            1047      -14.0      9E         Endeavor Air Inc.    3741   \n",
       "99997            1123       -6.0      B6           JetBlue Airways     281   \n",
       "99998            1103       10.0      UA     United Air Lines Inc.     623   \n",
       "99999            1118       12.0      UA     United Air Lines Inc.     997   \n",
       "\n",
       "      tailnum origin dest  air_time  distance  hour  minute  \\\n",
       "0      N14228    EWR  IAH     227.0      1400     5      15   \n",
       "1      N24211    LGA  IAH     227.0      1416     5      29   \n",
       "2      N619AA    JFK  MIA     160.0      1089     5      40   \n",
       "3      N804JB    JFK  BQN     183.0      1576     5      45   \n",
       "4      N668DN    LGA  ATL     116.0       762     6       0   \n",
       "...       ...    ...  ...       ...       ...   ...     ...   \n",
       "99995  N25134    EWR  BWI      40.0       169     8      17   \n",
       "99996  N293PQ    LGA  MCI     172.0      1107     8      10   \n",
       "99997  N298JB    JFK  HOU     216.0      1428     8      15   \n",
       "99998  N504UA    EWR  SAN     337.0      2425     7      49   \n",
       "99999  N536UA    EWR  LAX     346.0      2454     8       0   \n",
       "\n",
       "                  time_hour  \n",
       "0      2013-01-01T10:00:00Z  \n",
       "1      2013-01-01T10:00:00Z  \n",
       "2      2013-01-01T10:00:00Z  \n",
       "3      2013-01-01T10:00:00Z  \n",
       "4      2013-01-01T11:00:00Z  \n",
       "...                     ...  \n",
       "99995  2013-12-19T13:00:00Z  \n",
       "99996  2013-12-19T13:00:00Z  \n",
       "99997  2013-12-19T13:00:00Z  \n",
       "99998  2013-12-19T12:00:00Z  \n",
       "99999  2013-12-19T13:00:00Z  \n",
       "\n",
       "[97854 rows x 20 columns]"
      ]
     },
     "execution_count": 37,
     "metadata": {},
     "output_type": "execute_result"
    }
   ],
   "source": [
    "flights"
   ]
  },
  {
   "cell_type": "markdown",
   "metadata": {},
   "source": [
    "**c.** What airline flied the most during this period?\n",
    "\n",
    "hint: `.size()`"
   ]
  },
  {
   "cell_type": "code",
   "execution_count": 55,
   "metadata": {},
   "outputs": [
    {
     "data": {
      "text/plain": [
       "airline_name\n",
       "United Air Lines Inc.          17353\n",
       "JetBlue Airways                15623\n",
       "ExpressJet Airlines Inc.       15478\n",
       "Delta Air Lines Inc.           13892\n",
       "American Airlines Inc.          9493\n",
       "Envoy Air                       7552\n",
       "US Airways Inc.                 6040\n",
       "Endeavor Air Inc.               5641\n",
       "Southwest Airlines Co.          3728\n",
       "Virgin America                  1491\n",
       "AirTran Airways Corporation      877\n",
       "Frontier Airlines Inc.           212\n",
       "Alaska Airlines Inc.             205\n",
       "Mesa Airlines Inc.               171\n",
       "Hawaiian Airlines Inc.            92\n",
       "SkyWest Airlines Inc.              6\n",
       "dtype: int64"
      ]
     },
     "execution_count": 55,
     "metadata": {},
     "output_type": "execute_result"
    }
   ],
   "source": [
    "#United Air Lines Inc.: flied 17353\n",
    "flights.groupby(\"airline_name\").size().sort_values(ascending=False) #to ask"
   ]
  },
  {
   "cell_type": "markdown",
   "metadata": {},
   "source": [
    "**d.** Which destination was most flown to?"
   ]
  },
  {
   "cell_type": "code",
   "execution_count": 59,
   "metadata": {},
   "outputs": [
    {
     "data": {
      "text/plain": [
       "dest\n",
       "ATL    5036\n",
       "ORD    4908\n",
       "LAX    4689\n",
       "BOS    4511\n",
       "CLT    4165\n",
       "       ... \n",
       "MTJ       4\n",
       "HDN       4\n",
       "JAC       2\n",
       "EYW       1\n",
       "LEX       1\n",
       "Length: 101, dtype: int64"
      ]
     },
     "execution_count": 59,
     "metadata": {},
     "output_type": "execute_result"
    }
   ],
   "source": [
    "#ATL: Atlanta Georgia flown 5036 times\n",
    "flights.groupby(\"dest\").size().sort_values(ascending=False)"
   ]
  },
  {
   "cell_type": "markdown",
   "metadata": {},
   "source": [
    "**e.** Which location was flown from the most?"
   ]
  },
  {
   "cell_type": "code",
   "execution_count": 60,
   "metadata": {},
   "outputs": [
    {
     "data": {
      "text/plain": [
       "origin\n",
       "EWR    34766\n",
       "JFK    31855\n",
       "LGA    31233\n",
       "dtype: int64"
      ]
     },
     "execution_count": 60,
     "metadata": {},
     "output_type": "execute_result"
    }
   ],
   "source": [
    "flights.groupby(\"origin\").size().sort_values(ascending=False)"
   ]
  },
  {
   "cell_type": "code",
   "execution_count": 72,
   "metadata": {},
   "outputs": [
    {
     "data": {
      "text/html": [
       "<div>\n",
       "<style scoped>\n",
       "    .dataframe tbody tr th:only-of-type {\n",
       "        vertical-align: middle;\n",
       "    }\n",
       "\n",
       "    .dataframe tbody tr th {\n",
       "        vertical-align: top;\n",
       "    }\n",
       "\n",
       "    .dataframe thead th {\n",
       "        text-align: right;\n",
       "    }\n",
       "</style>\n",
       "<table border=\"1\" class=\"dataframe\">\n",
       "  <thead>\n",
       "    <tr style=\"text-align: right;\">\n",
       "      <th></th>\n",
       "      <th>year</th>\n",
       "      <th>month</th>\n",
       "      <th>day</th>\n",
       "      <th>dep_time</th>\n",
       "      <th>sched_dep_time</th>\n",
       "      <th>dep_delay</th>\n",
       "      <th>arr_time</th>\n",
       "      <th>sched_arr_time</th>\n",
       "      <th>arr_delay</th>\n",
       "      <th>air_time</th>\n",
       "      <th>distance</th>\n",
       "      <th>hour</th>\n",
       "      <th>minute</th>\n",
       "    </tr>\n",
       "    <tr>\n",
       "      <th>flight</th>\n",
       "      <th></th>\n",
       "      <th></th>\n",
       "      <th></th>\n",
       "      <th></th>\n",
       "      <th></th>\n",
       "      <th></th>\n",
       "      <th></th>\n",
       "      <th></th>\n",
       "      <th></th>\n",
       "      <th></th>\n",
       "      <th></th>\n",
       "      <th></th>\n",
       "      <th></th>\n",
       "    </tr>\n",
       "  </thead>\n",
       "  <tbody>\n",
       "    <tr>\n",
       "      <th>1</th>\n",
       "      <td>509289</td>\n",
       "      <td>2342</td>\n",
       "      <td>3669</td>\n",
       "      <td>271482.0</td>\n",
       "      <td>270944</td>\n",
       "      <td>1138.0</td>\n",
       "      <td>349812.0</td>\n",
       "      <td>350930</td>\n",
       "      <td>-558.0</td>\n",
       "      <td>58715.0</td>\n",
       "      <td>429857</td>\n",
       "      <td>2651</td>\n",
       "      <td>5844</td>\n",
       "    </tr>\n",
       "    <tr>\n",
       "      <th>2</th>\n",
       "      <td>2013</td>\n",
       "      <td>1</td>\n",
       "      <td>5</td>\n",
       "      <td>1745.0</td>\n",
       "      <td>1740</td>\n",
       "      <td>5.0</td>\n",
       "      <td>1921.0</td>\n",
       "      <td>1905</td>\n",
       "      <td>16.0</td>\n",
       "      <td>131.0</td>\n",
       "      <td>711</td>\n",
       "      <td>17</td>\n",
       "      <td>40</td>\n",
       "    </tr>\n",
       "    <tr>\n",
       "      <th>3</th>\n",
       "      <td>458964</td>\n",
       "      <td>2127</td>\n",
       "      <td>3170</td>\n",
       "      <td>233136.0</td>\n",
       "      <td>236540</td>\n",
       "      <td>676.0</td>\n",
       "      <td>309693.0</td>\n",
       "      <td>307881</td>\n",
       "      <td>572.0</td>\n",
       "      <td>57466.0</td>\n",
       "      <td>427954</td>\n",
       "      <td>2345</td>\n",
       "      <td>2040</td>\n",
       "    </tr>\n",
       "    <tr>\n",
       "      <th>4</th>\n",
       "      <td>177144</td>\n",
       "      <td>322</td>\n",
       "      <td>1343</td>\n",
       "      <td>117874.0</td>\n",
       "      <td>118472</td>\n",
       "      <td>42.0</td>\n",
       "      <td>141421.0</td>\n",
       "      <td>142573</td>\n",
       "      <td>-592.0</td>\n",
       "      <td>11307.0</td>\n",
       "      <td>80143</td>\n",
       "      <td>1163</td>\n",
       "      <td>2172</td>\n",
       "    </tr>\n",
       "    <tr>\n",
       "      <th>5</th>\n",
       "      <td>318054</td>\n",
       "      <td>1712</td>\n",
       "      <td>2264</td>\n",
       "      <td>219127.0</td>\n",
       "      <td>218414</td>\n",
       "      <td>753.0</td>\n",
       "      <td>267565.0</td>\n",
       "      <td>267747</td>\n",
       "      <td>-982.0</td>\n",
       "      <td>37875.0</td>\n",
       "      <td>273893</td>\n",
       "      <td>2133</td>\n",
       "      <td>5114</td>\n",
       "    </tr>\n",
       "    <tr>\n",
       "      <th>...</th>\n",
       "      <td>...</td>\n",
       "      <td>...</td>\n",
       "      <td>...</td>\n",
       "      <td>...</td>\n",
       "      <td>...</td>\n",
       "      <td>...</td>\n",
       "      <td>...</td>\n",
       "      <td>...</td>\n",
       "      <td>...</td>\n",
       "      <td>...</td>\n",
       "      <td>...</td>\n",
       "      <td>...</td>\n",
       "      <td>...</td>\n",
       "    </tr>\n",
       "    <tr>\n",
       "      <th>6101</th>\n",
       "      <td>2013</td>\n",
       "      <td>10</td>\n",
       "      <td>31</td>\n",
       "      <td>1432.0</td>\n",
       "      <td>1436</td>\n",
       "      <td>-4.0</td>\n",
       "      <td>1537.0</td>\n",
       "      <td>1559</td>\n",
       "      <td>-22.0</td>\n",
       "      <td>50.0</td>\n",
       "      <td>229</td>\n",
       "      <td>14</td>\n",
       "      <td>36</td>\n",
       "    </tr>\n",
       "    <tr>\n",
       "      <th>6114</th>\n",
       "      <td>2013</td>\n",
       "      <td>11</td>\n",
       "      <td>25</td>\n",
       "      <td>1028.0</td>\n",
       "      <td>1029</td>\n",
       "      <td>-1.0</td>\n",
       "      <td>1151.0</td>\n",
       "      <td>1158</td>\n",
       "      <td>-7.0</td>\n",
       "      <td>121.0</td>\n",
       "      <td>748</td>\n",
       "      <td>10</td>\n",
       "      <td>29</td>\n",
       "    </tr>\n",
       "    <tr>\n",
       "      <th>6177</th>\n",
       "      <td>150975</td>\n",
       "      <td>811</td>\n",
       "      <td>1064</td>\n",
       "      <td>45033.0</td>\n",
       "      <td>44890</td>\n",
       "      <td>463.0</td>\n",
       "      <td>54839.0</td>\n",
       "      <td>54109</td>\n",
       "      <td>330.0</td>\n",
       "      <td>3544.0</td>\n",
       "      <td>15900</td>\n",
       "      <td>438</td>\n",
       "      <td>1090</td>\n",
       "    </tr>\n",
       "    <tr>\n",
       "      <th>6181</th>\n",
       "      <td>122793</td>\n",
       "      <td>643</td>\n",
       "      <td>934</td>\n",
       "      <td>77997.0</td>\n",
       "      <td>77337</td>\n",
       "      <td>420.0</td>\n",
       "      <td>85647.0</td>\n",
       "      <td>85282</td>\n",
       "      <td>165.0</td>\n",
       "      <td>2908.0</td>\n",
       "      <td>13362</td>\n",
       "      <td>754</td>\n",
       "      <td>1937</td>\n",
       "    </tr>\n",
       "    <tr>\n",
       "      <th>8500</th>\n",
       "      <td>2013</td>\n",
       "      <td>1</td>\n",
       "      <td>30</td>\n",
       "      <td>1222.0</td>\n",
       "      <td>1115</td>\n",
       "      <td>67.0</td>\n",
       "      <td>1402.0</td>\n",
       "      <td>1215</td>\n",
       "      <td>107.0</td>\n",
       "      <td>132.0</td>\n",
       "      <td>733</td>\n",
       "      <td>11</td>\n",
       "      <td>15</td>\n",
       "    </tr>\n",
       "  </tbody>\n",
       "</table>\n",
       "<p>2717 rows × 13 columns</p>\n",
       "</div>"
      ],
      "text/plain": [
       "          year  month   day  dep_time  sched_dep_time  dep_delay  arr_time  \\\n",
       "flight                                                                       \n",
       "1       509289   2342  3669  271482.0          270944     1138.0  349812.0   \n",
       "2         2013      1     5    1745.0            1740        5.0    1921.0   \n",
       "3       458964   2127  3170  233136.0          236540      676.0  309693.0   \n",
       "4       177144    322  1343  117874.0          118472       42.0  141421.0   \n",
       "5       318054   1712  2264  219127.0          218414      753.0  267565.0   \n",
       "...        ...    ...   ...       ...             ...        ...       ...   \n",
       "6101      2013     10    31    1432.0            1436       -4.0    1537.0   \n",
       "6114      2013     11    25    1028.0            1029       -1.0    1151.0   \n",
       "6177    150975    811  1064   45033.0           44890      463.0   54839.0   \n",
       "6181    122793    643   934   77997.0           77337      420.0   85647.0   \n",
       "8500      2013      1    30    1222.0            1115       67.0    1402.0   \n",
       "\n",
       "        sched_arr_time  arr_delay  air_time  distance  hour  minute  \n",
       "flight                                                               \n",
       "1               350930     -558.0   58715.0    429857  2651    5844  \n",
       "2                 1905       16.0     131.0       711    17      40  \n",
       "3               307881      572.0   57466.0    427954  2345    2040  \n",
       "4               142573     -592.0   11307.0     80143  1163    2172  \n",
       "5               267747     -982.0   37875.0    273893  2133    5114  \n",
       "...                ...        ...       ...       ...   ...     ...  \n",
       "6101              1559      -22.0      50.0       229    14      36  \n",
       "6114              1158       -7.0     121.0       748    10      29  \n",
       "6177             54109      330.0    3544.0     15900   438    1090  \n",
       "6181             85282      165.0    2908.0     13362   754    1937  \n",
       "8500              1215      107.0     132.0       733    11      15  \n",
       "\n",
       "[2717 rows x 13 columns]"
      ]
     },
     "execution_count": 72,
     "metadata": {},
     "output_type": "execute_result"
    }
   ],
   "source": [
    "def see_possible_categories(col):\n",
    "    return flights.groupby(col).sum()\n",
    "    \n",
    "see_possible_categories(\"flight\")"
   ]
  },
  {
   "cell_type": "markdown",
   "metadata": {},
   "source": [
    "**f.** Which flight had the longest departure delay?"
   ]
  },
  {
   "cell_type": "code",
   "execution_count": 73,
   "metadata": {},
   "outputs": [
    {
     "data": {
      "text/plain": [
       "7072     1301.0\n",
       "8239     1126.0\n",
       "87238     896.0\n",
       "151       853.0\n",
       "99938     849.0\n",
       "          ...  \n",
       "48335     -25.0\n",
       "24915     -27.0\n",
       "9619      -30.0\n",
       "64501     -32.0\n",
       "89673     -43.0\n",
       "Name: dep_delay, Length: 97854, dtype: float64"
      ]
     },
     "execution_count": 73,
     "metadata": {},
     "output_type": "execute_result"
    }
   ],
   "source": [
    "flights[\"dep_delay\"].sort_values(ascending=False)"
   ]
  },
  {
   "cell_type": "code",
   "execution_count": 83,
   "metadata": {},
   "outputs": [
    {
     "name": "stderr",
     "output_type": "stream",
     "text": [
      "<ipython-input-83-ef1a586c8a80>:1: FutureWarning: Indexing with multiple keys (implicitly converted to a tuple of keys) will be deprecated, use a list instead.\n",
      "  flights.groupby(\"flight\")[\"flight\",\"dep_delay\"].size().sort_values(ascending=False)\n"
     ]
    },
    {
     "data": {
      "text/plain": [
       "flight\n",
       "15      276\n",
       "301     257\n",
       "1       253\n",
       "181     246\n",
       "3       228\n",
       "       ... \n",
       "3586      1\n",
       "1067      1\n",
       "4585      1\n",
       "4570      1\n",
       "8500      1\n",
       "Length: 2717, dtype: int64"
      ]
     },
     "execution_count": 83,
     "metadata": {},
     "output_type": "execute_result"
    }
   ],
   "source": [
    "flights.groupby(\"flight\")[\"flight\",\"dep_delay\"].size().sort_values(ascending=False)"
   ]
  },
  {
   "cell_type": "markdown",
   "metadata": {},
   "source": [
    "**g.** Which flight had the longest arrival delay? Should match the previous."
   ]
  },
  {
   "cell_type": "code",
   "execution_count": null,
   "metadata": {},
   "outputs": [],
   "source": []
  },
  {
   "cell_type": "markdown",
   "metadata": {},
   "source": [
    "**h.** Which airline had the longest arrival delays on average?"
   ]
  },
  {
   "cell_type": "code",
   "execution_count": null,
   "metadata": {},
   "outputs": [],
   "source": []
  },
  {
   "cell_type": "markdown",
   "metadata": {},
   "source": [
    "**i.** Which airline had the longest departure delays on average?"
   ]
  },
  {
   "cell_type": "code",
   "execution_count": null,
   "metadata": {},
   "outputs": [],
   "source": []
  },
  {
   "cell_type": "markdown",
   "metadata": {},
   "source": [
    "**j.** Which aircraft (going by tailnumber) flew the most?"
   ]
  },
  {
   "cell_type": "code",
   "execution_count": null,
   "metadata": {},
   "outputs": [],
   "source": []
  },
  {
   "cell_type": "markdown",
   "metadata": {},
   "source": [
    "**Bonus:** What day had the most flights?"
   ]
  },
  {
   "cell_type": "markdown",
   "metadata": {},
   "source": [
    "**Part 4**\n",
    "\n",
    "Using one (or more) of the exercises from **Part 3**, plot the information in a matplotlib chart that has correct ticks, labels, titles and axis. Also ensure that the chart type that you use is the correct one for plotting the data you're using. Create a chart you would proudly show an employer."
   ]
  },
  {
   "cell_type": "code",
   "execution_count": null,
   "metadata": {},
   "outputs": [],
   "source": []
  }
 ],
 "metadata": {
  "kernelspec": {
   "display_name": "Python 3",
   "language": "python",
   "name": "python3"
  },
  "language_info": {
   "codemirror_mode": {
    "name": "ipython",
    "version": 3
   },
   "file_extension": ".py",
   "mimetype": "text/x-python",
   "name": "python",
   "nbconvert_exporter": "python",
   "pygments_lexer": "ipython3",
   "version": "3.8.5"
  }
 },
 "nbformat": 4,
 "nbformat_minor": 4
}
