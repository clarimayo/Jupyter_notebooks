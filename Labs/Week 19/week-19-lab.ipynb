{
 "cells": [
  {
   "cell_type": "markdown",
   "metadata": {},
   "source": [
    "<div style=\"background: #000;\n",
    "            color: #FFF;\n",
    "            margin: 0px;\n",
    "            padding: 10px 0px 20px 0px;\n",
    "            text-align: center; \n",
    "                \">\n",
    "    <h1>Week 19 Lab</h1>\n",
    "</div>"
   ]
  },
  {
   "cell_type": "markdown",
   "metadata": {},
   "source": [
    "For this lab, we'll be using the `flights.txt` file located in `/datasets`."
   ]
  },
  {
   "cell_type": "code",
   "execution_count": 40,
   "metadata": {},
   "outputs": [],
   "source": [
    "import numpy as np\n",
    "import pandas as pd\n",
    "import matplotlib.pyplot as plt"
   ]
  },
  {
   "cell_type": "markdown",
   "metadata": {},
   "source": [
    "**Part 1**\n",
    "\n",
    "Open `../datasets/flights.txt`. Use the methods we've learned in class to analyze the dataset from the top-level (see how many rows it has, how many null values, what columns are necessary, etc.).\n",
    "\n",
    "**a.** read the file into a dataframe (hint: as a csv)"
   ]
  },
  {
   "cell_type": "code",
   "execution_count": 44,
   "metadata": {},
   "outputs": [],
   "source": [
    "flights = pd.read_csv(\"flights.txt\", sep=\"|\")"
   ]
  },
  {
   "cell_type": "markdown",
   "metadata": {},
   "source": [
    "**b.** Find the memory usage programmatically (hint: use `help`)"
   ]
  },
  {
   "cell_type": "code",
   "execution_count": 55,
   "metadata": {},
   "outputs": [
    {
     "data": {
      "text/plain": [
       "'the total memory in MB is 16.800128'"
      ]
     },
     "execution_count": 55,
     "metadata": {},
     "output_type": "execute_result"
    }
   ],
   "source": [
    "memory = flights.memory_usage().sum()/1000000\n",
    "f\"the total memory in MB is {memory}\""
   ]
  },
  {
   "cell_type": "markdown",
   "metadata": {},
   "source": [
    "**c.** Find the number of missing entries for each column."
   ]
  },
  {
   "cell_type": "code",
   "execution_count": 63,
   "metadata": {
    "scrolled": true
   },
   "outputs": [
    {
     "data": {
      "text/plain": [
       "arr_delay         2146\n",
       "air_time          2146\n",
       "arr_time          1964\n",
       "dep_time          1894\n",
       "dep_delay         1894\n",
       "tailnum            547\n",
       "Unnamed: 0.1         0\n",
       "year                 0\n",
       "month                0\n",
       "day                  0\n",
       "sched_dep_time       0\n",
       "time_hour            0\n",
       "sched_arr_time       0\n",
       "minute               0\n",
       "carrier              0\n",
       "flight               0\n",
       "origin               0\n",
       "dest                 0\n",
       "distance             0\n",
       "hour                 0\n",
       "Unnamed: 0           0\n",
       "dtype: int64"
      ]
     },
     "execution_count": 63,
     "metadata": {},
     "output_type": "execute_result"
    }
   ],
   "source": [
    "flights.isna().sum().sort_values(ascending=False)"
   ]
  },
  {
   "cell_type": "markdown",
   "metadata": {},
   "source": [
    "**d.** What columns are unnecessary? Remove them so that the `df` doesn't include them."
   ]
  },
  {
   "cell_type": "code",
   "execution_count": 5,
   "metadata": {},
   "outputs": [],
   "source": [
    "#the unnamed columns seem unnecesary because we don't have a context of what they stand for\n",
    "#in the dataframe\n",
    "flights = flights.drop(['Unnamed: 0', 'Unnamed: 0.1'], axis=1)"
   ]
  },
  {
   "cell_type": "markdown",
   "metadata": {},
   "source": [
    "**e.** Carrier/airline information is located below. Use the information in there to create a new column with a human-readable airline name.\n",
    "\n",
    "```\n",
    "\"9E\" \"Endeavor Air Inc.\",\n",
    "\"AA\" \"American Airlines Inc.\",\n",
    "\"AS\" \"Alaska Airlines Inc.\",\n",
    "\"B6\" \"JetBlue Airways\",\n",
    "\"DL\" \"Delta Air Lines Inc.\",\n",
    "\"EV\" \"ExpressJet Airlines Inc.\",\n",
    "\"F9\" \"Frontier Airlines Inc.\",\n",
    "\"FL\" \"AirTran Airways Corporation\",\n",
    "\"HA\" \"Hawaiian Airlines Inc.\",\n",
    "\"MQ\" \"Envoy Air\",\n",
    "\"OO\" \"SkyWest Airlines Inc.\",\n",
    "\"UA\" \"United Air Lines Inc.\",\n",
    "\"US\" \"US Airways Inc.\",\n",
    "\"VX\" \"Virgin America\",\n",
    "\"WN\" \"Southwest Airlines Co.\",\n",
    "\"YV\" \"Mesa Airlines Inc.\",\n",
    "\n",
    "```"
   ]
  },
  {
   "cell_type": "code",
   "execution_count": 6,
   "metadata": {},
   "outputs": [],
   "source": [
    "values = {\"9E\":\"Endeavor Air Inc.\",\n",
    "\"AA\":\"American Airlines Inc.\",\n",
    "\"AS\":\"Alaska Airlines Inc.\",\n",
    "\"B6\":\"JetBlue Airways\",\n",
    "\"DL\":\"Delta Air Lines Inc.\",\n",
    "\"EV\":\"ExpressJet Airlines Inc.\",\n",
    "\"F9\":\"Frontier Airlines Inc.\",\n",
    "\"FL\":\"AirTran Airways Corporation\",\n",
    "\"HA\":\"Hawaiian Airlines Inc.\",\n",
    "\"MQ\":\"Envoy Air\",\n",
    "\"OO\":\"SkyWest Airlines Inc.\",\n",
    "\"UA\":\"United Air Lines Inc.\",\n",
    "\"US\":\"US Airways Inc.\",\n",
    "\"VX\":\"Virgin America\",\n",
    "\"WN\":\"Southwest Airlines Co.\",\n",
    "\"YV\":\"Mesa Airlines Inc.\"}\n",
    "\n",
    "flights['airline_name'] = flights['carrier'].map(values)"
   ]
  },
  {
   "cell_type": "code",
   "execution_count": 64,
   "metadata": {},
   "outputs": [],
   "source": [
    "flights = flights.reindex(['year',\n",
    " 'month',\n",
    " 'day',\n",
    " 'dep_time',\n",
    " 'sched_dep_time',\n",
    " 'dep_delay',\n",
    " 'arr_time',\n",
    " 'sched_arr_time',\n",
    " 'arr_delay',\n",
    " 'carrier',\n",
    " 'airline_name',\n",
    " 'flight',\n",
    " 'tailnum',\n",
    " 'origin',\n",
    " 'dest',\n",
    " 'air_time',\n",
    " 'distance',\n",
    " 'hour',\n",
    " 'minute',\n",
    " 'time_hour'],axis=1)"
   ]
  },
  {
   "cell_type": "code",
   "execution_count": 8,
   "metadata": {},
   "outputs": [
    {
     "data": {
      "text/html": [
       "<div>\n",
       "<style scoped>\n",
       "    .dataframe tbody tr th:only-of-type {\n",
       "        vertical-align: middle;\n",
       "    }\n",
       "\n",
       "    .dataframe tbody tr th {\n",
       "        vertical-align: top;\n",
       "    }\n",
       "\n",
       "    .dataframe thead th {\n",
       "        text-align: right;\n",
       "    }\n",
       "</style>\n",
       "<table border=\"1\" class=\"dataframe\">\n",
       "  <thead>\n",
       "    <tr style=\"text-align: right;\">\n",
       "      <th></th>\n",
       "      <th>carrier</th>\n",
       "      <th>airline_name</th>\n",
       "    </tr>\n",
       "  </thead>\n",
       "  <tbody>\n",
       "    <tr>\n",
       "      <th>0</th>\n",
       "      <td>UA</td>\n",
       "      <td>United Air Lines Inc.</td>\n",
       "    </tr>\n",
       "    <tr>\n",
       "      <th>1</th>\n",
       "      <td>UA</td>\n",
       "      <td>United Air Lines Inc.</td>\n",
       "    </tr>\n",
       "    <tr>\n",
       "      <th>2</th>\n",
       "      <td>AA</td>\n",
       "      <td>American Airlines Inc.</td>\n",
       "    </tr>\n",
       "    <tr>\n",
       "      <th>3</th>\n",
       "      <td>B6</td>\n",
       "      <td>JetBlue Airways</td>\n",
       "    </tr>\n",
       "    <tr>\n",
       "      <th>4</th>\n",
       "      <td>DL</td>\n",
       "      <td>Delta Air Lines Inc.</td>\n",
       "    </tr>\n",
       "    <tr>\n",
       "      <th>...</th>\n",
       "      <td>...</td>\n",
       "      <td>...</td>\n",
       "    </tr>\n",
       "    <tr>\n",
       "      <th>99995</th>\n",
       "      <td>EV</td>\n",
       "      <td>ExpressJet Airlines Inc.</td>\n",
       "    </tr>\n",
       "    <tr>\n",
       "      <th>99996</th>\n",
       "      <td>9E</td>\n",
       "      <td>Endeavor Air Inc.</td>\n",
       "    </tr>\n",
       "    <tr>\n",
       "      <th>99997</th>\n",
       "      <td>B6</td>\n",
       "      <td>JetBlue Airways</td>\n",
       "    </tr>\n",
       "    <tr>\n",
       "      <th>99998</th>\n",
       "      <td>UA</td>\n",
       "      <td>United Air Lines Inc.</td>\n",
       "    </tr>\n",
       "    <tr>\n",
       "      <th>99999</th>\n",
       "      <td>UA</td>\n",
       "      <td>United Air Lines Inc.</td>\n",
       "    </tr>\n",
       "  </tbody>\n",
       "</table>\n",
       "<p>100000 rows × 2 columns</p>\n",
       "</div>"
      ],
      "text/plain": [
       "      carrier              airline_name\n",
       "0          UA     United Air Lines Inc.\n",
       "1          UA     United Air Lines Inc.\n",
       "2          AA    American Airlines Inc.\n",
       "3          B6           JetBlue Airways\n",
       "4          DL      Delta Air Lines Inc.\n",
       "...       ...                       ...\n",
       "99995      EV  ExpressJet Airlines Inc.\n",
       "99996      9E         Endeavor Air Inc.\n",
       "99997      B6           JetBlue Airways\n",
       "99998      UA     United Air Lines Inc.\n",
       "99999      UA     United Air Lines Inc.\n",
       "\n",
       "[100000 rows x 2 columns]"
      ]
     },
     "execution_count": 8,
     "metadata": {},
     "output_type": "execute_result"
    }
   ],
   "source": [
    "flights[[\"carrier\",\"airline_name\"]]"
   ]
  },
  {
   "cell_type": "markdown",
   "metadata": {},
   "source": [
    "**Part 2** \n",
    "\n",
    "Now we need to fix the missing rows and values.\n",
    "\n"
   ]
  },
  {
   "cell_type": "markdown",
   "metadata": {},
   "source": [
    "**a.** Check out the rows missing values for \"dep_delay\". Can we keep them? If not, remove those rows.\n",
    "\n",
    "(note: we're only interested in rows with flight time information)"
   ]
  },
  {
   "cell_type": "code",
   "execution_count": 9,
   "metadata": {},
   "outputs": [],
   "source": [
    "flights.dropna(subset=[\"dep_delay\"], inplace=True)"
   ]
  },
  {
   "cell_type": "markdown",
   "metadata": {},
   "source": [
    "**b.** Now check out the rows missing \"arr_time\". Can we keep them? Drop them if not."
   ]
  },
  {
   "cell_type": "code",
   "execution_count": 10,
   "metadata": {},
   "outputs": [],
   "source": [
    "flights.dropna(subset=[\"arr_time\"],inplace=True)"
   ]
  },
  {
   "cell_type": "markdown",
   "metadata": {},
   "source": [
    "**c.** Now let's check out the rows missing `air_time`. Can we keep them? Drop them if not."
   ]
  },
  {
   "cell_type": "code",
   "execution_count": 11,
   "metadata": {},
   "outputs": [],
   "source": [
    "flights.dropna(subset=[\"air_time\"],inplace=True) #to ask"
   ]
  },
  {
   "cell_type": "code",
   "execution_count": 12,
   "metadata": {},
   "outputs": [
    {
     "data": {
      "text/plain": [
       "time_hour         0\n",
       "minute            0\n",
       "month             0\n",
       "day               0\n",
       "dep_time          0\n",
       "sched_dep_time    0\n",
       "dep_delay         0\n",
       "arr_time          0\n",
       "sched_arr_time    0\n",
       "arr_delay         0\n",
       "carrier           0\n",
       "airline_name      0\n",
       "flight            0\n",
       "tailnum           0\n",
       "origin            0\n",
       "dest              0\n",
       "air_time          0\n",
       "distance          0\n",
       "hour              0\n",
       "year              0\n",
       "dtype: int64"
      ]
     },
     "execution_count": 12,
     "metadata": {},
     "output_type": "execute_result"
    }
   ],
   "source": [
    "flights.isna().sum().sort_values(ascending=False)"
   ]
  },
  {
   "cell_type": "markdown",
   "metadata": {},
   "source": [
    "**Part 3**\n",
    "\n",
    "Making observations of what we have."
   ]
  },
  {
   "cell_type": "markdown",
   "metadata": {},
   "source": [
    "**a.** What flight was the longest? Where did it leave from and where did it land?\n",
    "\n",
    "You might need to look up airport codes."
   ]
  },
  {
   "cell_type": "code",
   "execution_count": 13,
   "metadata": {},
   "outputs": [
    {
     "data": {
      "text/plain": [
       "origin    JFKJFKJFKJFKJFKJFKJFKJFKJFKJFKJFKJFKJFKJFKJFKJ...\n",
       "dest      HNLHNLHNLHNLHNLHNLHNLHNLHNLHNLHNLHNLHNLHNLHNLH...\n",
       "Name: 4983, dtype: object"
      ]
     },
     "execution_count": 13,
     "metadata": {},
     "output_type": "execute_result"
    }
   ],
   "source": [
    "#The longest flight is:\n",
    "#JFK (New York) - HNL (Honolulu):\n",
    "flights.groupby(\"distance\")[[\"origin\",\"dest\"]].sum().sort_values(\"distance\",ascending=False).iloc[0]"
   ]
  },
  {
   "cell_type": "markdown",
   "metadata": {},
   "source": [
    "**b.** What flight was the shortest?"
   ]
  },
  {
   "cell_type": "code",
   "execution_count": 66,
   "metadata": {},
   "outputs": [
    {
     "data": {
      "text/plain": [
       "origin    EWREWREWREWREWREWREWREWREWREWREWREWREWREWREWRE...\n",
       "dest      PHLPHLPHLPHLPHLPHLPHLPHLPHLPHLPHLPHLPHLPHLPHLP...\n",
       "Name: 80, dtype: object"
      ]
     },
     "execution_count": 66,
     "metadata": {},
     "output_type": "execute_result"
    }
   ],
   "source": [
    "#The shortest flight\n",
    "#EWR (New Jersey) - PHL (Philadelphia) : 80\n",
    "flights.groupby(\"distance\")[[\"origin\",\"dest\"]].sum().sort_values(\"distance\",ascending=False).iloc[-1]"
   ]
  },
  {
   "cell_type": "markdown",
   "metadata": {},
   "source": [
    "**c.** What airline flied the most during this period?\n",
    "\n",
    "hint: `.size()`"
   ]
  },
  {
   "cell_type": "code",
   "execution_count": null,
   "metadata": {},
   "outputs": [],
   "source": [
    "#United Air Lines Inc.\n",
    "flights[\"airline_name\"].value_counts().to_frame().iloc[0]"
   ]
  },
  {
   "cell_type": "markdown",
   "metadata": {},
   "source": [
    "**d.** Which destination was most flown to?"
   ]
  },
  {
   "cell_type": "code",
   "execution_count": null,
   "metadata": {},
   "outputs": [],
   "source": [
    "flights[\"dest\"].value_counts().to_frame().iloc[0]"
   ]
  },
  {
   "cell_type": "code",
   "execution_count": null,
   "metadata": {},
   "outputs": [],
   "source": [
    "#To get the amount of times\n",
    "flights.groupby(\"dest\").size().sort_values(ascending=False).iloc[0]"
   ]
  },
  {
   "cell_type": "markdown",
   "metadata": {},
   "source": [
    "**e.** Which location was flown from the most?"
   ]
  },
  {
   "cell_type": "code",
   "execution_count": 15,
   "metadata": {},
   "outputs": [
    {
     "data": {
      "text/plain": [
       "EWR    34766\n",
       "JFK    31855\n",
       "LGA    31233\n",
       "Name: origin, dtype: int64"
      ]
     },
     "execution_count": 15,
     "metadata": {},
     "output_type": "execute_result"
    }
   ],
   "source": [
    "flights[\"origin\"].value_counts()\n",
    "#.to_frame().iloc[0]"
   ]
  },
  {
   "cell_type": "markdown",
   "metadata": {},
   "source": [
    "**f.** Which flight had the longest departure delay?"
   ]
  },
  {
   "cell_type": "code",
   "execution_count": 16,
   "metadata": {},
   "outputs": [
    {
     "data": {
      "text/plain": [
       "dep_delay\n",
       "-5.0      7995\n",
       "-4.0      7792\n",
       "-3.0      7386\n",
       "-6.0      6730\n",
       "-2.0      6567\n",
       "          ... \n",
       " 339.0       1\n",
       " 340.0       1\n",
       " 341.0       1\n",
       " 342.0       1\n",
       "-43.0        1\n",
       "Length: 401, dtype: int64"
      ]
     },
     "execution_count": 16,
     "metadata": {},
     "output_type": "execute_result"
    }
   ],
   "source": [
    "flights.groupby(\"dep_delay\").size().sort_values(ascending=False)"
   ]
  },
  {
   "cell_type": "code",
   "execution_count": 17,
   "metadata": {},
   "outputs": [
    {
     "data": {
      "text/plain": [
       "7072    1301.0\n",
       "Name: dep_delay, dtype: float64"
      ]
     },
     "execution_count": 17,
     "metadata": {},
     "output_type": "execute_result"
    }
   ],
   "source": [
    "flights[flights[\"dep_delay\"]== flights[\"dep_delay\"].max()][\"dep_delay\"]"
   ]
  },
  {
   "cell_type": "markdown",
   "metadata": {},
   "source": [
    "**g.** Which flight had the longest arrival delay? Should match the previous."
   ]
  },
  {
   "cell_type": "code",
   "execution_count": 18,
   "metadata": {},
   "outputs": [
    {
     "data": {
      "text/plain": [
       "7072    1272.0\n",
       "Name: arr_delay, dtype: float64"
      ]
     },
     "execution_count": 18,
     "metadata": {},
     "output_type": "execute_result"
    }
   ],
   "source": [
    "flights[flights[\"arr_delay\"]== flights[\"arr_delay\"].max()][\"arr_delay\"]"
   ]
  },
  {
   "cell_type": "markdown",
   "metadata": {},
   "source": [
    "**h.** Which airline had the longest arrival delays on average?"
   ]
  },
  {
   "cell_type": "code",
   "execution_count": 19,
   "metadata": {},
   "outputs": [
    {
     "data": {
      "text/plain": [
       "arr_delay    15.779932\n",
       "Name: AirTran Airways Corporation, dtype: float64"
      ]
     },
     "execution_count": 19,
     "metadata": {},
     "output_type": "execute_result"
    }
   ],
   "source": [
    "flights.groupby([\"airline_name\"])[\"arr_delay\"].mean().to_frame().iloc[0]"
   ]
  },
  {
   "cell_type": "markdown",
   "metadata": {},
   "source": [
    "**i.** Which airline had the longest departure delays on average?"
   ]
  },
  {
   "cell_type": "code",
   "execution_count": 20,
   "metadata": {},
   "outputs": [
    {
     "data": {
      "text/plain": [
       "dep_delay    13.59179\n",
       "Name: AirTran Airways Corporation, dtype: float64"
      ]
     },
     "execution_count": 20,
     "metadata": {},
     "output_type": "execute_result"
    }
   ],
   "source": [
    "flights.groupby([\"airline_name\"])[\"dep_delay\"].mean().to_frame().iloc[0]"
   ]
  },
  {
   "cell_type": "markdown",
   "metadata": {},
   "source": [
    "**j.** Which aircraft (going by tailnumber) flew the most?"
   ]
  },
  {
   "cell_type": "code",
   "execution_count": 21,
   "metadata": {},
   "outputs": [
    {
     "data": {
      "text/plain": [
       "0    149\n",
       "Name: N0EGMQ, dtype: int64"
      ]
     },
     "execution_count": 21,
     "metadata": {},
     "output_type": "execute_result"
    }
   ],
   "source": [
    "flights.groupby(\"tailnum\").size().sort_values(ascending=False).to_frame().iloc[0]"
   ]
  },
  {
   "cell_type": "markdown",
   "metadata": {},
   "source": [
    "**Bonus:** What day had the most flights?"
   ]
  },
  {
   "cell_type": "code",
   "execution_count": 22,
   "metadata": {},
   "outputs": [
    {
     "data": {
      "text/plain": [
       "day    3813\n",
       "Name: 18, dtype: int64"
      ]
     },
     "execution_count": 22,
     "metadata": {},
     "output_type": "execute_result"
    }
   ],
   "source": [
    "flights[\"day\"].value_counts().to_frame().iloc[0]"
   ]
  },
  {
   "cell_type": "markdown",
   "metadata": {},
   "source": [
    "**Part 4**\n",
    "\n",
    "Using one (or more) of the exercises from **Part 3**, plot the information in a matplotlib chart that has correct ticks, labels, titles and axis. Also ensure that the chart type that you use is the correct one for plotting the data you're using. Create a chart you would proudly show an employer."
   ]
  },
  {
   "cell_type": "code",
   "execution_count": 26,
   "metadata": {},
   "outputs": [
    {
     "data": {
      "text/html": [
       "<div>\n",
       "<style scoped>\n",
       "    .dataframe tbody tr th:only-of-type {\n",
       "        vertical-align: middle;\n",
       "    }\n",
       "\n",
       "    .dataframe tbody tr th {\n",
       "        vertical-align: top;\n",
       "    }\n",
       "\n",
       "    .dataframe thead th {\n",
       "        text-align: right;\n",
       "    }\n",
       "</style>\n",
       "<table border=\"1\" class=\"dataframe\">\n",
       "  <thead>\n",
       "    <tr style=\"text-align: right;\">\n",
       "      <th></th>\n",
       "      <th>dest</th>\n",
       "    </tr>\n",
       "  </thead>\n",
       "  <tbody>\n",
       "    <tr>\n",
       "      <th>ATL</th>\n",
       "      <td>5036</td>\n",
       "    </tr>\n",
       "    <tr>\n",
       "      <th>ORD</th>\n",
       "      <td>4908</td>\n",
       "    </tr>\n",
       "    <tr>\n",
       "      <th>LAX</th>\n",
       "      <td>4689</td>\n",
       "    </tr>\n",
       "    <tr>\n",
       "      <th>BOS</th>\n",
       "      <td>4511</td>\n",
       "    </tr>\n",
       "    <tr>\n",
       "      <th>CLT</th>\n",
       "      <td>4165</td>\n",
       "    </tr>\n",
       "    <tr>\n",
       "      <th>...</th>\n",
       "      <td>...</td>\n",
       "    </tr>\n",
       "    <tr>\n",
       "      <th>BZN</th>\n",
       "      <td>4</td>\n",
       "    </tr>\n",
       "    <tr>\n",
       "      <th>PSP</th>\n",
       "      <td>4</td>\n",
       "    </tr>\n",
       "    <tr>\n",
       "      <th>JAC</th>\n",
       "      <td>2</td>\n",
       "    </tr>\n",
       "    <tr>\n",
       "      <th>EYW</th>\n",
       "      <td>1</td>\n",
       "    </tr>\n",
       "    <tr>\n",
       "      <th>LEX</th>\n",
       "      <td>1</td>\n",
       "    </tr>\n",
       "  </tbody>\n",
       "</table>\n",
       "<p>101 rows × 1 columns</p>\n",
       "</div>"
      ],
      "text/plain": [
       "     dest\n",
       "ATL  5036\n",
       "ORD  4908\n",
       "LAX  4689\n",
       "BOS  4511\n",
       "CLT  4165\n",
       "..    ...\n",
       "BZN     4\n",
       "PSP     4\n",
       "JAC     2\n",
       "EYW     1\n",
       "LEX     1\n",
       "\n",
       "[101 rows x 1 columns]"
      ]
     },
     "execution_count": 26,
     "metadata": {},
     "output_type": "execute_result"
    }
   ],
   "source": [
    "flights[\"dest\"].value_counts().to_frame()"
   ]
  },
  {
   "cell_type": "code",
   "execution_count": 39,
   "metadata": {},
   "outputs": [
    {
     "data": {
      "image/png": "[encoded data removed]",
      "text/plain": [
       "<Figure size 432x288 with 1 Axes>"
      ]
     },
     "metadata": {
      "needs_background": "light"
     },
     "output_type": "display_data"
    }
   ],
   "source": [
    "ax = flights[\"dest\"].value_counts().to_frame().iloc[:10].plot.bar()\n",
    "plt.title('Top 5 Most visited Destinations')\n",
    "plt.xlabel('Airline')\n",
    "plt.ylabel('Times it was visited')\n",
    "ax.invert_xaxis()"
   ]
  },
  {
   "cell_type": "code",
   "execution_count": 34,
   "metadata": {},
   "outputs": [
    {
     "data": {
      "text/plain": [
       "<matplotlib.axes._subplots.AxesSubplot at 0x7fb6c205c0d0>"
      ]
     },
     "execution_count": 34,
     "metadata": {},
     "output_type": "execute_result"
    },
    {
     "data": {
      "image/png": "[encoded data removed]",
      "text/plain": [
       "<Figure size 432x288 with 1 Axes>"
      ]
     },
     "metadata": {
      "needs_background": "light"
     },
     "output_type": "display_data"
    }
   ],
   "source": [
    "flights[\"airline_name\"].value_counts().to_frame().iloc[:10].plot.bar()"
   ]
  },
  {
   "cell_type": "code",
   "execution_count": 32,
   "metadata": {},
   "outputs": [
    {
     "data": {
      "text/plain": [
       "<matplotlib.axes._subplots.AxesSubplot at 0x7fb6c1e34f70>"
      ]
     },
     "execution_count": 32,
     "metadata": {},
     "output_type": "execute_result"
    },
    {
     "data": {
      "image/png": "[encoded data removed]",
      "text/plain": [
       "<Figure size 432x288 with 1 Axes>"
      ]
     },
     "metadata": {
      "needs_background": "light"
     },
     "output_type": "display_data"
    }
   ],
   "source": [
    "flights.groupby(\"dep_delay\").size().sort_values(ascending=False).to_frame().iloc[:20].plot.bar()"
   ]
  }
 ],
 "metadata": {
  "kernelspec": {
   "display_name": "Python 3",
   "language": "python",
   "name": "python3"
  },
  "language_info": {
   "codemirror_mode": {
    "name": "ipython",
    "version": 3
   },
   "file_extension": ".py",
   "mimetype": "text/x-python",
   "name": "python",
   "nbconvert_exporter": "python",
   "pygments_lexer": "ipython3",
   "version": "3.8.3"
  }
 },
 "nbformat": 4,
 "nbformat_minor": 4
}
