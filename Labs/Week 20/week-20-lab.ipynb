{
 "cells": [
  {
   "cell_type": "markdown",
   "metadata": {},
   "source": [
    "<div style=\"background: #000;\n",
    "            color: #FFF;\n",
    "            margin: 0px;\n",
    "            padding: 10px 0px 20px 0px;\n",
    "            text-align: center; \n",
    "                \">\n",
    "    <h1 >Week 20 Lab</h1>\n",
    "</div>"
   ]
  },
  {
   "cell_type": "markdown",
   "metadata": {},
   "source": [
    "# Part 1\n",
    "\n",
    "For part one, we're going to be using the following code:\n",
    "\n",
    "(reference week-19 for help with this)"
   ]
  },
  {
   "cell_type": "code",
   "execution_count": 2,
   "metadata": {},
   "outputs": [],
   "source": [
    "# our sql script\n",
    "\n",
    "import sqlite3\n",
    "from contextlib import closing\n",
    "\n",
    "db = 'week-20-lab.db'\n",
    "\n",
    "def connection(db_name=None):\n",
    "    conn = None\n",
    "    try:\n",
    "        db_name = db_name or ':memory:'\n",
    "        conn = sqlite3.connect(db_name)\n",
    "        return conn\n",
    "    except Exception as e:\n",
    "        print(e)\n",
    "\n",
    "def execute(db, cmd, commit=False):\n",
    "    with closing(connection(db)) as conn:\n",
    "        with closing(conn.cursor()) as cursor:\n",
    "            try:\n",
    "                cur = cursor.execute(cmd).fetchall()\n",
    "                if commit:\n",
    "                    conn.commit()\n",
    "                else:\n",
    "                    return cur\n",
    "            except Exception as e:\n",
    "                print(e)    \n",
    "                \n",
    "def get_tables(db):\n",
    "    rows = execute(db, \"SELECT name from sqlite_master where type='table';\")\n",
    "    return [i[0] for i in rows]\n",
    "\n",
    "def get_cols(db, table):\n",
    "    return execute(db, f\"pragma table_info({table});\")"
   ]
  },
  {
   "cell_type": "markdown",
   "metadata": {},
   "source": [
    "a. Create a table called 'students' with the following columns:\n",
    "* first_name (string)\n",
    "* last_name (string)\n",
    "* course (string)"
   ]
  },
  {
   "cell_type": "code",
   "execution_count": 3,
   "metadata": {},
   "outputs": [],
   "source": [
    "execute(db, 'CREATE TABLE students (id INTEGER PRIMARY KEY,first_name CHAR(100) NOT NULL, last_name CHAR(100) NOT NULL, course CHAR(100) NOT NULL);',\\\n",
    "        commit=True)"
   ]
  },
  {
   "cell_type": "code",
   "execution_count": 4,
   "metadata": {},
   "outputs": [
    {
     "data": {
      "text/plain": [
       "['students']"
      ]
     },
     "execution_count": 4,
     "metadata": {},
     "output_type": "execute_result"
    }
   ],
   "source": [
    "get_tables(db)"
   ]
  },
  {
   "cell_type": "markdown",
   "metadata": {},
   "source": [
    "b. Add 30 students to your table. 15 of them taking the course 'progressive web' and 15 taking 'data science'. "
   ]
  },
  {
   "cell_type": "code",
   "execution_count": 5,
   "metadata": {},
   "outputs": [],
   "source": [
    "students_lst = [(\"Amy\",\"Rosa\",\"data_science\"),\n",
    "            (\"Anna\",\"Levy\",\"data_science\"),\n",
    "            (\"Bryant\",\"Novas\",\"data_science\"),\n",
    "            (\"Chioma\",\"Dunkley\",\"data_science\"),\n",
    "            (\"Clariza\", \"Mayo\",\"data_science\"),\n",
    "            (\"Elston\", \"Bell\",\"data_science\"),\n",
    "            (\"Fausto\",\"Rosado\",\"data_science\"),\n",
    "            (\"Gyasi\",\"Sturgis\",\"data_science\"),\n",
    "            (\"Irene\",\"Merette\",\"data_science\"),\n",
    "            (\"Janet\",\"Perez\",\"data_science\"),\n",
    "            (\"Jessica\",\"D.\",\"data_science\"),\n",
    "            (\"Juan\",\"Peralta\",\"data_science\"),\n",
    "            (\"Judi\",\"Desire\",\"data_science\"),\n",
    "            (\"Michael\",\"Alford\",\"data_science\"),\n",
    "            (\"Stanislava\",\"Hristova\",\"data_science\"),\n",
    "            (\"Angel\",\"Fernández\",\"progressive_web\"),\n",
    "            (\"Ayman\",\"Omer\",\"progressive_web\"),\n",
    "            (\"David\",\"Espinal\",\"progressive_web\"),\n",
    "            (\"Diana\",\"Gaona\",\"progressive_web\"),\n",
    "            (\"Julian\",\"Quezada\",\"progressive_web\"),\n",
    "            (\"Katherine\",\"Fernandez\",\"progressive_web\"),\n",
    "            (\"Leesel\",\"Fraser\",\"progressive_web\"),\n",
    "            (\"Nashid\",\"Chowdhury\",\"progressive_web\"),\n",
    "            (\"Quiana\",\"Berry\",\"progressive_web\"),\n",
    "            (\"Shafee\",\"Ahmed\",\"progressive_web\"),\n",
    "            (\"Shan\",\"Siddiqui\",\"progressive_web\"),\n",
    "            (\"Stephanie\",\"Pena\",\"progressive_web\"),\n",
    "            (\"Tinesha\",\"Conway\",\"progressive_web\"),\n",
    "            (\"Zipporah\",\"Najar\",\"progressive_web\"),\n",
    "            (\"Jahaziel\",\"Israel\",\"progressive_web\")]"
   ]
  },
  {
   "cell_type": "code",
   "execution_count": 6,
   "metadata": {},
   "outputs": [
    {
     "data": {
      "text/plain": [
       "\"('Amy', 'Rosa', 'data_science'), ('Anna', 'Levy', 'data_science'), ('Bryant', 'Novas', 'data_science'), ('Chioma', 'Dunkley', 'data_science'), ('Clariza', 'Mayo', 'data_science'), ('Elston', 'Bell', 'data_science'), ('Fausto', 'Rosado', 'data_science'), ('Gyasi', 'Sturgis', 'data_science'), ('Irene', 'Merette', 'data_science'), ('Janet', 'Perez', 'data_science'), ('Jessica', 'D.', 'data_science'), ('Juan', 'Peralta', 'data_science'), ('Judi', 'Desire', 'data_science'), ('Michael', 'Alford', 'data_science'), ('Stanislava', 'Hristova', 'data_science'), ('Angel', 'Fernández', 'progressive_web'), ('Ayman', 'Omer', 'progressive_web'), ('David', 'Espinal', 'progressive_web'), ('Diana', 'Gaona', 'progressive_web'), ('Julian', 'Quezada', 'progressive_web'), ('Katherine', 'Fernandez', 'progressive_web'), ('Leesel', 'Fraser', 'progressive_web'), ('Nashid', 'Chowdhury', 'progressive_web'), ('Quiana', 'Berry', 'progressive_web'), ('Shafee', 'Ahmed', 'progressive_web'), ('Shan', 'Siddiqui', 'progressive_web'), ('Stephanie', 'Pena', 'progressive_web'), ('Tinesha', 'Conway', 'progressive_web'), ('Zipporah', 'Najar', 'progressive_web'), ('Jahaziel', 'Israel', 'progressive_web')\""
      ]
     },
     "execution_count": 6,
     "metadata": {},
     "output_type": "execute_result"
    }
   ],
   "source": [
    "values = ', '.join(map(str, students_lst))\n",
    "values"
   ]
  },
  {
   "cell_type": "code",
   "execution_count": 7,
   "metadata": {},
   "outputs": [],
   "source": [
    "execute(db, \"INSERT INTO students(first_name,last_name,course) VALUES {}\".format(values), commit=True)"
   ]
  },
  {
   "cell_type": "code",
   "execution_count": 8,
   "metadata": {},
   "outputs": [
    {
     "data": {
      "text/plain": [
       "[(0, 'id', 'INTEGER', 0, None, 1),\n",
       " (1, 'first_name', 'CHAR(100)', 1, None, 0),\n",
       " (2, 'last_name', 'CHAR(100)', 1, None, 0),\n",
       " (3, 'course', 'CHAR(100)', 1, None, 0)]"
      ]
     },
     "execution_count": 8,
     "metadata": {},
     "output_type": "execute_result"
    }
   ],
   "source": [
    "get_cols(db,\"students\")"
   ]
  },
  {
   "cell_type": "code",
   "execution_count": 9,
   "metadata": {},
   "outputs": [
    {
     "data": {
      "text/plain": [
       "[(1, 'Amy', 'Rosa', 'data_science'),\n",
       " (2, 'Anna', 'Levy', 'data_science'),\n",
       " (3, 'Bryant', 'Novas', 'data_science'),\n",
       " (4, 'Chioma', 'Dunkley', 'data_science'),\n",
       " (5, 'Clariza', 'Mayo', 'data_science'),\n",
       " (6, 'Elston', 'Bell', 'data_science'),\n",
       " (7, 'Fausto', 'Rosado', 'data_science'),\n",
       " (8, 'Gyasi', 'Sturgis', 'data_science'),\n",
       " (9, 'Irene', 'Merette', 'data_science'),\n",
       " (10, 'Janet', 'Perez', 'data_science'),\n",
       " (11, 'Jessica', 'D.', 'data_science'),\n",
       " (12, 'Juan', 'Peralta', 'data_science'),\n",
       " (13, 'Judi', 'Desire', 'data_science'),\n",
       " (14, 'Michael', 'Alford', 'data_science'),\n",
       " (15, 'Stanislava', 'Hristova', 'data_science'),\n",
       " (16, 'Angel', 'Fernández', 'progressive_web'),\n",
       " (17, 'Ayman', 'Omer', 'progressive_web'),\n",
       " (18, 'David', 'Espinal', 'progressive_web'),\n",
       " (19, 'Diana', 'Gaona', 'progressive_web'),\n",
       " (20, 'Julian', 'Quezada', 'progressive_web'),\n",
       " (21, 'Katherine', 'Fernandez', 'progressive_web'),\n",
       " (22, 'Leesel', 'Fraser', 'progressive_web'),\n",
       " (23, 'Nashid', 'Chowdhury', 'progressive_web'),\n",
       " (24, 'Quiana', 'Berry', 'progressive_web'),\n",
       " (25, 'Shafee', 'Ahmed', 'progressive_web'),\n",
       " (26, 'Shan', 'Siddiqui', 'progressive_web'),\n",
       " (27, 'Stephanie', 'Pena', 'progressive_web'),\n",
       " (28, 'Tinesha', 'Conway', 'progressive_web'),\n",
       " (29, 'Zipporah', 'Najar', 'progressive_web'),\n",
       " (30, 'Jahaziel', 'Israel', 'progressive_web')]"
      ]
     },
     "execution_count": 9,
     "metadata": {},
     "output_type": "execute_result"
    }
   ],
   "source": [
    "execute(db, \"SELECT * FROM students;\")"
   ]
  },
  {
   "cell_type": "markdown",
   "metadata": {},
   "source": [
    "c. One of the students from the data science course got hired! Show the SQL command that will remove this student from the table and then remove them. "
   ]
  },
  {
   "cell_type": "code",
   "execution_count": 14,
   "metadata": {},
   "outputs": [],
   "source": [
    "#For delete is better to put more details about that row to make sure the correct row gets deleted\n",
    "execute(db, \"DELETE FROM students WHERE first_name='Clariza' and last_name='Mayo' and course='data_science';\",commit=True)   #is better to use = instead of "
   ]
  },
  {
   "cell_type": "code",
   "execution_count": 15,
   "metadata": {},
   "outputs": [
    {
     "data": {
      "text/plain": [
       "[(1, 'Amy', 'Rosa', 'data_science'),\n",
       " (2, 'Anna', 'Levy', 'data_science'),\n",
       " (3, 'Bryant', 'Novas', 'data_science'),\n",
       " (4, 'Chioma', 'Dunkley', 'data_science'),\n",
       " (6, 'Elston', 'Bell', 'data_science'),\n",
       " (7, 'Fausto', 'Rosado', 'data_science'),\n",
       " (8, 'Gyasi', 'Sturgis', 'data_science'),\n",
       " (9, 'Irene', 'Merette', 'data_science'),\n",
       " (10, 'Janet', 'Perez', 'data_science'),\n",
       " (11, 'Jessica', 'D.', 'data_science'),\n",
       " (12, 'Juan', 'Peralta', 'data_science'),\n",
       " (13, 'Judi', 'Desire', 'data_science'),\n",
       " (14, 'Michael', 'Alford', 'data_science'),\n",
       " (15, 'Stanislava', 'Hristova', 'data_science'),\n",
       " (16, 'Angel', 'Fernández', 'progressive_web'),\n",
       " (17, 'Ayman', 'Omer', 'progressive_web'),\n",
       " (18, 'David', 'Espinal', 'progressive_web'),\n",
       " (19, 'Diana', 'Gaona', 'progressive_web'),\n",
       " (20, 'Julian', 'Quezada', 'progressive_web'),\n",
       " (21, 'Katherine', 'Fernandez', 'progressive_web'),\n",
       " (22, 'Leesel', 'Fraser', 'progressive_web'),\n",
       " (23, 'Nashid', 'Chowdhury', 'progressive_web'),\n",
       " (24, 'Quiana', 'Berry', 'progressive_web'),\n",
       " (25, 'Shafee', 'Ahmed', 'progressive_web'),\n",
       " (26, 'Shan', 'Siddiqui', 'progressive_web'),\n",
       " (27, 'Stephanie', 'Pena', 'progressive_web'),\n",
       " (28, 'Tinesha', 'Conway', 'progressive_web'),\n",
       " (29, 'Zipporah', 'Najar', 'progressive_web'),\n",
       " (30, 'Jahaziel', 'Israel', 'progressive_web')]"
      ]
     },
     "execution_count": 15,
     "metadata": {},
     "output_type": "execute_result"
    }
   ],
   "source": [
    "execute(db, \"SELECT FROM students ;\")"
   ]
  },
  {
   "cell_type": "markdown",
   "metadata": {},
   "source": [
    "d. Two students named Bill Gates and Elon Musk tested into phase 2 for progressive web. Write the SQL command that will add them to the table and then add them."
   ]
  },
  {
   "cell_type": "code",
   "execution_count": 16,
   "metadata": {},
   "outputs": [],
   "source": [
    "new_students = [(\"Bill\", \"Gates\", \"progressive_web\"),(\"Elon\", \"Musk\", \"progressive_web\")]\n",
    "new_values = ', '.join(map(str, new_students))\n",
    "execute(db, \"INSERT INTO students(first_name,last_name,course) VALUES {}\".format(new_values), commit=True)"
   ]
  },
  {
   "cell_type": "code",
   "execution_count": 17,
   "metadata": {},
   "outputs": [
    {
     "data": {
      "text/plain": [
       "[(1, 'Amy', 'Rosa', 'data_science'),\n",
       " (2, 'Anna', 'Levy', 'data_science'),\n",
       " (3, 'Bryant', 'Novas', 'data_science'),\n",
       " (4, 'Chioma', 'Dunkley', 'data_science'),\n",
       " (6, 'Elston', 'Bell', 'data_science'),\n",
       " (7, 'Fausto', 'Rosado', 'data_science'),\n",
       " (8, 'Gyasi', 'Sturgis', 'data_science'),\n",
       " (9, 'Irene', 'Merette', 'data_science'),\n",
       " (10, 'Janet', 'Perez', 'data_science'),\n",
       " (11, 'Jessica', 'D.', 'data_science'),\n",
       " (12, 'Juan', 'Peralta', 'data_science'),\n",
       " (13, 'Judi', 'Desire', 'data_science'),\n",
       " (14, 'Michael', 'Alford', 'data_science'),\n",
       " (15, 'Stanislava', 'Hristova', 'data_science'),\n",
       " (16, 'Angel', 'Fernández', 'progressive_web'),\n",
       " (17, 'Ayman', 'Omer', 'progressive_web'),\n",
       " (18, 'David', 'Espinal', 'progressive_web'),\n",
       " (19, 'Diana', 'Gaona', 'progressive_web'),\n",
       " (20, 'Julian', 'Quezada', 'progressive_web'),\n",
       " (21, 'Katherine', 'Fernandez', 'progressive_web'),\n",
       " (22, 'Leesel', 'Fraser', 'progressive_web'),\n",
       " (23, 'Nashid', 'Chowdhury', 'progressive_web'),\n",
       " (24, 'Quiana', 'Berry', 'progressive_web'),\n",
       " (25, 'Shafee', 'Ahmed', 'progressive_web'),\n",
       " (26, 'Shan', 'Siddiqui', 'progressive_web'),\n",
       " (27, 'Stephanie', 'Pena', 'progressive_web'),\n",
       " (28, 'Tinesha', 'Conway', 'progressive_web'),\n",
       " (29, 'Zipporah', 'Najar', 'progressive_web'),\n",
       " (30, 'Jahaziel', 'Israel', 'progressive_web'),\n",
       " (31, 'Bill', 'Gates', 'progressive_web'),\n",
       " (32, 'Elon', 'Musk', 'progressive_web')]"
      ]
     },
     "execution_count": 17,
     "metadata": {},
     "output_type": "execute_result"
    }
   ],
   "source": [
    "execute(db, \"SELECT * FROM students;\")"
   ]
  },
  {
   "cell_type": "markdown",
   "metadata": {},
   "source": [
    "e. Elon Musk would like to go by a new name: 'XÆ Dogecoin-12'. Show the SQL command that would change his name and then run it. "
   ]
  },
  {
   "cell_type": "code",
   "execution_count": 18,
   "metadata": {},
   "outputs": [],
   "source": [
    "execute(db, \"UPDATE students SET first_name='XÆ', last_name='Dogecoin-12' WHERE id = 32;\", commit=True)"
   ]
  },
  {
   "cell_type": "code",
   "execution_count": 19,
   "metadata": {},
   "outputs": [
    {
     "data": {
      "text/plain": [
       "[(1, 'Amy', 'Rosa', 'data_science'),\n",
       " (2, 'Anna', 'Levy', 'data_science'),\n",
       " (3, 'Bryant', 'Novas', 'data_science'),\n",
       " (4, 'Chioma', 'Dunkley', 'data_science'),\n",
       " (6, 'Elston', 'Bell', 'data_science'),\n",
       " (7, 'Fausto', 'Rosado', 'data_science'),\n",
       " (8, 'Gyasi', 'Sturgis', 'data_science'),\n",
       " (9, 'Irene', 'Merette', 'data_science'),\n",
       " (10, 'Janet', 'Perez', 'data_science'),\n",
       " (11, 'Jessica', 'D.', 'data_science'),\n",
       " (12, 'Juan', 'Peralta', 'data_science'),\n",
       " (13, 'Judi', 'Desire', 'data_science'),\n",
       " (14, 'Michael', 'Alford', 'data_science'),\n",
       " (15, 'Stanislava', 'Hristova', 'data_science'),\n",
       " (16, 'Angel', 'Fernández', 'progressive_web'),\n",
       " (17, 'Ayman', 'Omer', 'progressive_web'),\n",
       " (18, 'David', 'Espinal', 'progressive_web'),\n",
       " (19, 'Diana', 'Gaona', 'progressive_web'),\n",
       " (20, 'Julian', 'Quezada', 'progressive_web'),\n",
       " (21, 'Katherine', 'Fernandez', 'progressive_web'),\n",
       " (22, 'Leesel', 'Fraser', 'progressive_web'),\n",
       " (23, 'Nashid', 'Chowdhury', 'progressive_web'),\n",
       " (24, 'Quiana', 'Berry', 'progressive_web'),\n",
       " (25, 'Shafee', 'Ahmed', 'progressive_web'),\n",
       " (26, 'Shan', 'Siddiqui', 'progressive_web'),\n",
       " (27, 'Stephanie', 'Pena', 'progressive_web'),\n",
       " (28, 'Tinesha', 'Conway', 'progressive_web'),\n",
       " (29, 'Zipporah', 'Najar', 'progressive_web'),\n",
       " (30, 'Jahaziel', 'Israel', 'progressive_web'),\n",
       " (31, 'Bill', 'Gates', 'progressive_web'),\n",
       " (32, 'XÆ', 'Dogecoin-12', 'progressive_web')]"
      ]
     },
     "execution_count": 19,
     "metadata": {},
     "output_type": "execute_result"
    }
   ],
   "source": [
    "execute(db, \"SELECT * FROM students;\")"
   ]
  },
  {
   "cell_type": "markdown",
   "metadata": {},
   "source": [
    "f. Show the command that would allow us to see only the students who are part of the course `data science`."
   ]
  },
  {
   "cell_type": "code",
   "execution_count": 20,
   "metadata": {},
   "outputs": [
    {
     "data": {
      "text/plain": [
       "[(1, 'Amy', 'Rosa', 'data_science'),\n",
       " (2, 'Anna', 'Levy', 'data_science'),\n",
       " (3, 'Bryant', 'Novas', 'data_science'),\n",
       " (4, 'Chioma', 'Dunkley', 'data_science'),\n",
       " (6, 'Elston', 'Bell', 'data_science'),\n",
       " (7, 'Fausto', 'Rosado', 'data_science'),\n",
       " (8, 'Gyasi', 'Sturgis', 'data_science'),\n",
       " (9, 'Irene', 'Merette', 'data_science'),\n",
       " (10, 'Janet', 'Perez', 'data_science'),\n",
       " (11, 'Jessica', 'D.', 'data_science'),\n",
       " (12, 'Juan', 'Peralta', 'data_science'),\n",
       " (13, 'Judi', 'Desire', 'data_science'),\n",
       " (14, 'Michael', 'Alford', 'data_science'),\n",
       " (15, 'Stanislava', 'Hristova', 'data_science')]"
      ]
     },
     "execution_count": 20,
     "metadata": {},
     "output_type": "execute_result"
    }
   ],
   "source": [
    "execute(db, \"SELECT * from students where course='data_science';\")"
   ]
  },
  {
   "cell_type": "markdown",
   "metadata": {},
   "source": [
    "# Part 2\n",
    "\n",
    "The following section uses the `unknown.csv` dataset located in `../datasets/`"
   ]
  },
  {
   "cell_type": "markdown",
   "metadata": {},
   "source": [
    "a. Import and analyze the dataset. Make sure you do the following:\n",
    "\n",
    "* read the csv file in as a `df`."
   ]
  },
  {
   "cell_type": "code",
   "execution_count": 21,
   "metadata": {},
   "outputs": [],
   "source": [
    "%matplotlib inline\n",
    "\n",
    "import pandas as pd\n",
    "import numpy as np\n",
    "import matplotlib.pyplot as plt\n",
    "import seaborn as sns\n",
    "import sklearn as sk"
   ]
  },
  {
   "cell_type": "code",
   "execution_count": 22,
   "metadata": {},
   "outputs": [
    {
     "data": {
      "text/html": [
       "<div>\n",
       "<style scoped>\n",
       "    .dataframe tbody tr th:only-of-type {\n",
       "        vertical-align: middle;\n",
       "    }\n",
       "\n",
       "    .dataframe tbody tr th {\n",
       "        vertical-align: top;\n",
       "    }\n",
       "\n",
       "    .dataframe thead th {\n",
       "        text-align: right;\n",
       "    }\n",
       "</style>\n",
       "<table border=\"1\" class=\"dataframe\">\n",
       "  <thead>\n",
       "    <tr style=\"text-align: right;\">\n",
       "      <th></th>\n",
       "      <th>x</th>\n",
       "      <th>y</th>\n",
       "    </tr>\n",
       "  </thead>\n",
       "  <tbody>\n",
       "    <tr>\n",
       "      <th>0</th>\n",
       "      <td>77</td>\n",
       "      <td>79.775152</td>\n",
       "    </tr>\n",
       "    <tr>\n",
       "      <th>1</th>\n",
       "      <td>21</td>\n",
       "      <td>23.177279</td>\n",
       "    </tr>\n",
       "    <tr>\n",
       "      <th>2</th>\n",
       "      <td>22</td>\n",
       "      <td>25.609262</td>\n",
       "    </tr>\n",
       "    <tr>\n",
       "      <th>3</th>\n",
       "      <td>20</td>\n",
       "      <td>17.857388</td>\n",
       "    </tr>\n",
       "    <tr>\n",
       "      <th>4</th>\n",
       "      <td>36</td>\n",
       "      <td>41.849864</td>\n",
       "    </tr>\n",
       "    <tr>\n",
       "      <th>...</th>\n",
       "      <td>...</td>\n",
       "      <td>...</td>\n",
       "    </tr>\n",
       "    <tr>\n",
       "      <th>295</th>\n",
       "      <td>71</td>\n",
       "      <td>68.545888</td>\n",
       "    </tr>\n",
       "    <tr>\n",
       "      <th>296</th>\n",
       "      <td>46</td>\n",
       "      <td>47.334876</td>\n",
       "    </tr>\n",
       "    <tr>\n",
       "      <th>297</th>\n",
       "      <td>55</td>\n",
       "      <td>54.090637</td>\n",
       "    </tr>\n",
       "    <tr>\n",
       "      <th>298</th>\n",
       "      <td>62</td>\n",
       "      <td>63.297171</td>\n",
       "    </tr>\n",
       "    <tr>\n",
       "      <th>299</th>\n",
       "      <td>47</td>\n",
       "      <td>52.459467</td>\n",
       "    </tr>\n",
       "  </tbody>\n",
       "</table>\n",
       "<p>300 rows × 2 columns</p>\n",
       "</div>"
      ],
      "text/plain": [
       "      x          y\n",
       "0    77  79.775152\n",
       "1    21  23.177279\n",
       "2    22  25.609262\n",
       "3    20  17.857388\n",
       "4    36  41.849864\n",
       "..   ..        ...\n",
       "295  71  68.545888\n",
       "296  46  47.334876\n",
       "297  55  54.090637\n",
       "298  62  63.297171\n",
       "299  47  52.459467\n",
       "\n",
       "[300 rows x 2 columns]"
      ]
     },
     "execution_count": 22,
     "metadata": {},
     "output_type": "execute_result"
    }
   ],
   "source": [
    "df = pd.read_csv(\"unknown.csv\")\n",
    "df"
   ]
  },
  {
   "cell_type": "markdown",
   "metadata": {},
   "source": [
    "* output the top of the `df`."
   ]
  },
  {
   "cell_type": "code",
   "execution_count": 23,
   "metadata": {},
   "outputs": [
    {
     "data": {
      "text/html": [
       "<div>\n",
       "<style scoped>\n",
       "    .dataframe tbody tr th:only-of-type {\n",
       "        vertical-align: middle;\n",
       "    }\n",
       "\n",
       "    .dataframe tbody tr th {\n",
       "        vertical-align: top;\n",
       "    }\n",
       "\n",
       "    .dataframe thead th {\n",
       "        text-align: right;\n",
       "    }\n",
       "</style>\n",
       "<table border=\"1\" class=\"dataframe\">\n",
       "  <thead>\n",
       "    <tr style=\"text-align: right;\">\n",
       "      <th></th>\n",
       "      <th>x</th>\n",
       "      <th>y</th>\n",
       "    </tr>\n",
       "  </thead>\n",
       "  <tbody>\n",
       "    <tr>\n",
       "      <th>0</th>\n",
       "      <td>77</td>\n",
       "      <td>79.775152</td>\n",
       "    </tr>\n",
       "    <tr>\n",
       "      <th>1</th>\n",
       "      <td>21</td>\n",
       "      <td>23.177279</td>\n",
       "    </tr>\n",
       "    <tr>\n",
       "      <th>2</th>\n",
       "      <td>22</td>\n",
       "      <td>25.609262</td>\n",
       "    </tr>\n",
       "    <tr>\n",
       "      <th>3</th>\n",
       "      <td>20</td>\n",
       "      <td>17.857388</td>\n",
       "    </tr>\n",
       "    <tr>\n",
       "      <th>4</th>\n",
       "      <td>36</td>\n",
       "      <td>41.849864</td>\n",
       "    </tr>\n",
       "  </tbody>\n",
       "</table>\n",
       "</div>"
      ],
      "text/plain": [
       "    x          y\n",
       "0  77  79.775152\n",
       "1  21  23.177279\n",
       "2  22  25.609262\n",
       "3  20  17.857388\n",
       "4  36  41.849864"
      ]
     },
     "execution_count": 23,
     "metadata": {},
     "output_type": "execute_result"
    }
   ],
   "source": [
    "df.head()"
   ]
  },
  {
   "cell_type": "markdown",
   "metadata": {},
   "source": [
    "* output the columns."
   ]
  },
  {
   "cell_type": "code",
   "execution_count": 23,
   "metadata": {},
   "outputs": [
    {
     "name": "stdout",
     "output_type": "stream",
     "text": [
      "x\n",
      "y\n"
     ]
    }
   ],
   "source": [
    "for col in df.columns: \n",
    "    print(col)"
   ]
  },
  {
   "cell_type": "markdown",
   "metadata": {},
   "source": [
    "* show the shape of the `df`"
   ]
  },
  {
   "cell_type": "code",
   "execution_count": 24,
   "metadata": {},
   "outputs": [
    {
     "data": {
      "text/plain": [
       "(300, 2)"
      ]
     },
     "execution_count": 24,
     "metadata": {},
     "output_type": "execute_result"
    }
   ],
   "source": [
    "df.shape"
   ]
  },
  {
   "cell_type": "markdown",
   "metadata": {},
   "source": [
    "* show the info."
   ]
  },
  {
   "cell_type": "code",
   "execution_count": 25,
   "metadata": {},
   "outputs": [
    {
     "name": "stdout",
     "output_type": "stream",
     "text": [
      "<class 'pandas.core.frame.DataFrame'>\n",
      "RangeIndex: 300 entries, 0 to 299\n",
      "Data columns (total 2 columns):\n",
      " #   Column  Non-Null Count  Dtype  \n",
      "---  ------  --------------  -----  \n",
      " 0   x       300 non-null    int64  \n",
      " 1   y       300 non-null    float64\n",
      "dtypes: float64(1), int64(1)\n",
      "memory usage: 4.8 KB\n"
     ]
    }
   ],
   "source": [
    "df.info()"
   ]
  },
  {
   "cell_type": "markdown",
   "metadata": {},
   "source": [
    "* check if we're missing any data and handle it."
   ]
  },
  {
   "cell_type": "code",
   "execution_count": 26,
   "metadata": {},
   "outputs": [
    {
     "data": {
      "text/plain": [
       "y    0\n",
       "x    0\n",
       "dtype: int64"
      ]
     },
     "execution_count": 26,
     "metadata": {},
     "output_type": "execute_result"
    }
   ],
   "source": [
    "#No missing data\n",
    "df.isna().sum().sort_values(ascending=False)"
   ]
  },
  {
   "cell_type": "markdown",
   "metadata": {},
   "source": [
    "* chart the data so we can visualize any relationships"
   ]
  },
  {
   "cell_type": "code",
   "execution_count": 27,
   "metadata": {},
   "outputs": [
    {
     "data": {
      "image/png": "[encoded data removed]",
      "text/plain": [
       "<Figure size 360x360 with 6 Axes>"
      ]
     },
     "metadata": {
      "needs_background": "light"
     },
     "output_type": "display_data"
    }
   ],
   "source": [
    "sns.pairplot(df)\n",
    "plt.show()"
   ]
  },
  {
   "cell_type": "code",
   "execution_count": 28,
   "metadata": {},
   "outputs": [
    {
     "data": {
      "text/plain": [
       "<Figure size 360x360 with 0 Axes>"
      ]
     },
     "metadata": {},
     "output_type": "display_data"
    },
    {
     "data": {
      "image/png": "[encoded data removed]",
      "text/plain": [
       "<Figure size 720x720 with 3 Axes>"
      ]
     },
     "metadata": {
      "needs_background": "light"
     },
     "output_type": "display_data"
    }
   ],
   "source": [
    "plt.figure(figsize=(5,5))\n",
    "sns.jointplot(x=df['x'].values, y=df['y'].values, height=10)  #comparing both columns\n",
    "plt.ylabel('y values')\n",
    "plt.xlabel('x values')\n",
    "plt.show() "
   ]
  },
  {
   "cell_type": "markdown",
   "metadata": {},
   "source": []
  },
  {
   "cell_type": "markdown",
   "metadata": {},
   "source": [
    "* show the covariance and correlation matrixes (including heatmap if you'd like)."
   ]
  },
  {
   "cell_type": "code",
   "execution_count": 29,
   "metadata": {},
   "outputs": [
    {
     "data": {
      "text/html": [
       "<div>\n",
       "<style scoped>\n",
       "    .dataframe tbody tr th:only-of-type {\n",
       "        vertical-align: middle;\n",
       "    }\n",
       "\n",
       "    .dataframe tbody tr th {\n",
       "        vertical-align: top;\n",
       "    }\n",
       "\n",
       "    .dataframe thead th {\n",
       "        text-align: right;\n",
       "    }\n",
       "</style>\n",
       "<table border=\"1\" class=\"dataframe\">\n",
       "  <thead>\n",
       "    <tr style=\"text-align: right;\">\n",
       "      <th></th>\n",
       "      <th>x</th>\n",
       "      <th>y</th>\n",
       "    </tr>\n",
       "  </thead>\n",
       "  <tbody>\n",
       "    <tr>\n",
       "      <th>x</th>\n",
       "      <td>812.494303</td>\n",
       "      <td>824.141698</td>\n",
       "    </tr>\n",
       "    <tr>\n",
       "      <th>y</th>\n",
       "      <td>824.141698</td>\n",
       "      <td>845.150999</td>\n",
       "    </tr>\n",
       "  </tbody>\n",
       "</table>\n",
       "</div>"
      ],
      "text/plain": [
       "            x           y\n",
       "x  812.494303  824.141698\n",
       "y  824.141698  845.150999"
      ]
     },
     "execution_count": 29,
     "metadata": {},
     "output_type": "execute_result"
    }
   ],
   "source": [
    "df.cov()"
   ]
  },
  {
   "cell_type": "code",
   "execution_count": 30,
   "metadata": {},
   "outputs": [
    {
     "data": {
      "text/html": [
       "<div>\n",
       "<style scoped>\n",
       "    .dataframe tbody tr th:only-of-type {\n",
       "        vertical-align: middle;\n",
       "    }\n",
       "\n",
       "    .dataframe tbody tr th {\n",
       "        vertical-align: top;\n",
       "    }\n",
       "\n",
       "    .dataframe thead th {\n",
       "        text-align: right;\n",
       "    }\n",
       "</style>\n",
       "<table border=\"1\" class=\"dataframe\">\n",
       "  <thead>\n",
       "    <tr style=\"text-align: right;\">\n",
       "      <th></th>\n",
       "      <th>x</th>\n",
       "      <th>y</th>\n",
       "    </tr>\n",
       "  </thead>\n",
       "  <tbody>\n",
       "    <tr>\n",
       "      <th>x</th>\n",
       "      <td>1.000000</td>\n",
       "      <td>0.994545</td>\n",
       "    </tr>\n",
       "    <tr>\n",
       "      <th>y</th>\n",
       "      <td>0.994545</td>\n",
       "      <td>1.000000</td>\n",
       "    </tr>\n",
       "  </tbody>\n",
       "</table>\n",
       "</div>"
      ],
      "text/plain": [
       "          x         y\n",
       "x  1.000000  0.994545\n",
       "y  0.994545  1.000000"
      ]
     },
     "execution_count": 30,
     "metadata": {},
     "output_type": "execute_result"
    }
   ],
   "source": [
    "df.corr()"
   ]
  },
  {
   "cell_type": "code",
   "execution_count": 31,
   "metadata": {},
   "outputs": [
    {
     "data": {
      "text/plain": [
       "<matplotlib.axes._subplots.AxesSubplot at 0x7fb63004e4f0>"
      ]
     },
     "execution_count": 31,
     "metadata": {},
     "output_type": "execute_result"
    },
    {
     "data": {
      "image/png": "[encoded data removed]",
      "text/plain": [
       "<Figure size 432x288 with 2 Axes>"
      ]
     },
     "metadata": {
      "needs_background": "light"
     },
     "output_type": "display_data"
    }
   ],
   "source": [
    "sns.heatmap(df.corr())"
   ]
  },
  {
   "cell_type": "markdown",
   "metadata": {},
   "source": [
    "b. Train a linear regression model using week-20-class-2 as reference. We'd like to predict column `y`.\n",
    "\n",
    "Make sure to do the following:\n",
    "* Separate values into `X` and `Y` variables."
   ]
  },
  {
   "cell_type": "code",
   "execution_count": 32,
   "metadata": {},
   "outputs": [],
   "source": [
    "X = df[\"x\"]\n",
    "Y = df[\"y\"]"
   ]
  },
  {
   "cell_type": "markdown",
   "metadata": {},
   "source": [
    "* Generate training and test data for `X` and `Y` using `train_test_split` (with a test size of 20%)"
   ]
  },
  {
   "cell_type": "code",
   "execution_count": 33,
   "metadata": {},
   "outputs": [],
   "source": [
    "from sklearn.model_selection import train_test_split #used to split data  \n",
    "#it will give us back a tuple so we will unpack it\n",
    "X_train, X_test, y_train, y_test= train_test_split(X,Y, test_size=0.2)  #80/20 20% for the test.This gets picked randomly"
   ]
  },
  {
   "cell_type": "code",
   "execution_count": 34,
   "metadata": {},
   "outputs": [
    {
     "data": {
      "text/plain": [
       "array([[ 38.98317436],\n",
       "       [ -2.81991397],\n",
       "       [ 87.84749912],\n",
       "       [ 17.0854783 ],\n",
       "       [ 79.3142548 ],\n",
       "       [ 75.07484683],\n",
       "       [  7.64652976],\n",
       "       [ 67.38654703],\n",
       "       [ 59.07247174],\n",
       "       [ 91.69240746],\n",
       "       [ 63.19354354],\n",
       "       [ 13.83959878],\n",
       "       [ 45.44599591],\n",
       "       [ 57.19103506],\n",
       "       [ 59.61247085],\n",
       "       [ 67.01715955],\n",
       "       [  9.3914168 ],\n",
       "       [ 97.55155344],\n",
       "       [ 62.60089773],\n",
       "       [ 66.61499643],\n",
       "       [ -1.63296825],\n",
       "       [ 13.12109842],\n",
       "       [101.0697879 ],\n",
       "       [ 62.82816355],\n",
       "       [ 48.09843134],\n",
       "       [ 54.09063686],\n",
       "       [ 95.15647284],\n",
       "       [ 90.65513736],\n",
       "       [ 99.87382707],\n",
       "       [ 23.52647153],\n",
       "       [ 46.69013968],\n",
       "       [  8.67333636],\n",
       "       [ 75.59701346],\n",
       "       [ 37.08457698],\n",
       "       [ 95.14907176],\n",
       "       [ 74.45114379],\n",
       "       [ 82.870594  ],\n",
       "       [ 39.3294153 ],\n",
       "       [ 59.10598995],\n",
       "       [ 16.82839701],\n",
       "       [ 58.87465933],\n",
       "       [ 70.3698748 ],\n",
       "       [ 79.44769523],\n",
       "       [ 66.95806869],\n",
       "       [ 89.82634442],\n",
       "       [ 67.68142149],\n",
       "       [  5.3136862 ],\n",
       "       [ 97.27405461],\n",
       "       [ 95.06140858],\n",
       "       [ 35.12724777],\n",
       "       [ 63.29717058],\n",
       "       [ 23.17727887],\n",
       "       [ 46.11021062],\n",
       "       [ 74.25362837],\n",
       "       [ 59.12912974],\n",
       "       [ 97.00148372],\n",
       "       [ 74.68953276],\n",
       "       [ 13.41310757],\n",
       "       [ 50.17008622],\n",
       "       [ 21.71380347],\n",
       "       [ 12.11219941],\n",
       "       [ 62.22635684],\n",
       "       [ 60.91792707],\n",
       "       [ 79.77515201],\n",
       "       [ 59.70864577],\n",
       "       [ 51.69967172],\n",
       "       [ 41.46923883],\n",
       "       [ 69.46306072],\n",
       "       [ 95.12400481],\n",
       "       [  2.81141583],\n",
       "       [ 16.74923937],\n",
       "       [ 67.28725332],\n",
       "       [ 89.899991  ],\n",
       "       [ 74.4993599 ],\n",
       "       [ 95.3958003 ],\n",
       "       [ 34.12473248],\n",
       "       [  5.40522052],\n",
       "       [ 33.37834391],\n",
       "       [ 16.89085185],\n",
       "       [ 80.97144285],\n",
       "       [  8.74674765],\n",
       "       [ 78.79008525],\n",
       "       [ 92.11906278],\n",
       "       [ 70.34969772],\n",
       "       [ 19.87562242],\n",
       "       [ 60.20758349],\n",
       "       [ 56.01448111],\n",
       "       [ 71.00377824],\n",
       "       [ 78.61042432],\n",
       "       [ 97.61793701],\n",
       "       [ 81.40381769],\n",
       "       [ 44.18863945],\n",
       "       [ 17.09537241],\n",
       "       [ 69.45498498],\n",
       "       [ 57.48741435],\n",
       "       [ 31.43524822],\n",
       "       [ 30.49412933],\n",
       "       [ 84.06676818],\n",
       "       [ 59.8313966 ],\n",
       "       [ 96.11982476],\n",
       "       [ 59.225745  ],\n",
       "       [103.5266162 ],\n",
       "       [ 69.39858505],\n",
       "       [ 36.79224762],\n",
       "       [ 19.1315097 ],\n",
       "       [ 96.58888601],\n",
       "       [ 68.94699774],\n",
       "       [ 14.05572877],\n",
       "       [ 49.83538167],\n",
       "       [ 57.01631363],\n",
       "       [ 68.48820749],\n",
       "       [  0.27530726],\n",
       "       [ 38.05766408],\n",
       "       [ 12.59244741],\n",
       "       [ 56.14834113],\n",
       "       [ 47.49374765],\n",
       "       [ 91.30863673],\n",
       "       [ 56.82457013],\n",
       "       [ 28.15668543],\n",
       "       [ 18.84798163],\n",
       "       [ 65.01324035],\n",
       "       [ 44.68913433],\n",
       "       [ 14.99514319],\n",
       "       [ 34.31141446],\n",
       "       [ 55.81628509],\n",
       "       [ 31.93063515],\n",
       "       [ 53.11628433],\n",
       "       [ 39.31485292],\n",
       "       [ 64.37521087],\n",
       "       [ 61.38800663],\n",
       "       [ 36.34644189],\n",
       "       [ 12.42624606],\n",
       "       [ 33.07112825],\n",
       "       [ 63.80768172],\n",
       "       [ 16.63507984],\n",
       "       [ 89.12377509],\n",
       "       [ 68.19721905],\n",
       "       [ 41.84986439],\n",
       "       [ 46.91387709],\n",
       "       [  9.74416426],\n",
       "       [ 64.83296316],\n",
       "       [ 95.58017185],\n",
       "       [ 14.82248589],\n",
       "       [ 15.49301141],\n",
       "       [ 78.39683006],\n",
       "       [ 52.45946688],\n",
       "       [ -3.46788379],\n",
       "       [ 55.37049953],\n",
       "       [ 60.11134958],\n",
       "       [  8.65571417],\n",
       "       [ 60.9105427 ],\n",
       "       [ 36.94173178],\n",
       "       [ 26.59112396],\n",
       "       [ 40.00709598],\n",
       "       [ 58.61466887],\n",
       "       [ 95.79747345],\n",
       "       [ 77.9969477 ],\n",
       "       [ 41.97607107],\n",
       "       [ 55.7383467 ],\n",
       "       [ 19.87846479],\n",
       "       [ 93.03483388],\n",
       "       [ 17.0761107 ],\n",
       "       [ 13.25690647],\n",
       "       [ 70.34329706],\n",
       "       [ 19.38780134],\n",
       "       [  5.6340309 ],\n",
       "       [ 26.48713683],\n",
       "       [ 60.07137496],\n",
       "       [ 47.41006725],\n",
       "       [ 87.36938931],\n",
       "       [ 37.80182795],\n",
       "       [ 46.56141773],\n",
       "       [ 89.73951993],\n",
       "       [ 21.42637785],\n",
       "       [ 63.28312382],\n",
       "       [ 41.04525583],\n",
       "       [ 67.2352155 ],\n",
       "       [ 92.40217686],\n",
       "       [ 18.31396758],\n",
       "       [ 30.41303282],\n",
       "       [ 40.24701716],\n",
       "       [ 21.32273728],\n",
       "       [ 51.80035866],\n",
       "       [ 10.80462727],\n",
       "       [ 17.85738813],\n",
       "       [  9.28169975],\n",
       "       [ 51.57326718],\n",
       "       [ 38.68888682],\n",
       "       [ 78.31056542],\n",
       "       [ 47.33487629],\n",
       "       [ 24.3884599 ],\n",
       "       [ 99.78687252],\n",
       "       [ 21.16523945],\n",
       "       [ 38.43076389],\n",
       "       [ 68.16724757],\n",
       "       [ 97.41206981],\n",
       "       [ -2.34473854],\n",
       "       [ 79.50341495],\n",
       "       [ 54.55446979],\n",
       "       [ 25.60926156],\n",
       "       [ 68.5458879 ],\n",
       "       [ 48.35172635],\n",
       "       [  0.67607675],\n",
       "       [ 72.86282528],\n",
       "       [ 11.89457829],\n",
       "       [  5.60766487],\n",
       "       [ 85.45504157],\n",
       "       [ 38.67780759],\n",
       "       [105.5918375 ],\n",
       "       [ 18.39512747],\n",
       "       [ 24.68362712],\n",
       "       [ 11.21710477],\n",
       "       [ 97.13832018],\n",
       "       [ 94.79081712],\n",
       "       [  9.80523488],\n",
       "       [ 99.43577876],\n",
       "       [ 88.80306911],\n",
       "       [ 77.91032969],\n",
       "       [  2.57662538],\n",
       "       [ 36.06292994],\n",
       "       [ 78.04237454],\n",
       "       [ 68.11367147],\n",
       "       [ 10.34754461],\n",
       "       [ 67.22008001],\n",
       "       [ 10.41468095],\n",
       "       [ 16.68715211],\n",
       "       [ 29.38505024],\n",
       "       [ 12.07991648],\n",
       "       [  9.24113898],\n",
       "       [ 75.69298554],\n",
       "       [ 85.18657275],\n",
       "       [ -2.7611826 ],\n",
       "       [ 88.54475895],\n",
       "       [ 31.32274932],\n",
       "       [ 38.14753871],\n",
       "       [ 54.08170635],\n",
       "       [ 18.98322306],\n",
       "       [ 73.2300846 ],\n",
       "       [ 53.32005764],\n",
       "       [ 48.67252645]])"
      ]
     },
     "execution_count": 34,
     "metadata": {},
     "output_type": "execute_result"
    }
   ],
   "source": [
    "#We will reshape it so we get a column again\n",
    "y_train.values.reshape(-1,1) "
   ]
  },
  {
   "cell_type": "markdown",
   "metadata": {},
   "source": [
    "* Create an instance of the `LinearRegression` class and run the regression."
   ]
  },
  {
   "cell_type": "code",
   "execution_count": 35,
   "metadata": {},
   "outputs": [
    {
     "data": {
      "text/plain": [
       "LinearRegression()"
      ]
     },
     "execution_count": 35,
     "metadata": {},
     "output_type": "execute_result"
    }
   ],
   "source": [
    "from sklearn.linear_model import LinearRegression\n",
    "\n",
    "reg = LinearRegression()\n",
    "\n",
    "reg.fit(X_train.values.reshape(-1,1), y_train.values.reshape(-1,1))"
   ]
  },
  {
   "cell_type": "code",
   "execution_count": 36,
   "metadata": {},
   "outputs": [],
   "source": [
    "score = reg.score(X_test.values.reshape(-1,1), y_test.values.reshape(-1,1))"
   ]
  },
  {
   "cell_type": "markdown",
   "metadata": {},
   "source": [
    "* Output the score of the regression."
   ]
  },
  {
   "cell_type": "code",
   "execution_count": 37,
   "metadata": {},
   "outputs": [
    {
     "data": {
      "text/plain": [
       "0.9868221078351391"
      ]
     },
     "execution_count": 37,
     "metadata": {},
     "output_type": "execute_result"
    }
   ],
   "source": [
    "score"
   ]
  },
  {
   "cell_type": "markdown",
   "metadata": {},
   "source": [
    "* Chart the data."
   ]
  },
  {
   "cell_type": "code",
   "execution_count": 39,
   "metadata": {},
   "outputs": [
    {
     "data": {
      "image/png": "[encoded data removed]",
      "text/plain": [
       "<Figure size 432x288 with 1 Axes>"
      ]
     },
     "metadata": {
      "needs_background": "light"
     },
     "output_type": "display_data"
    }
   ],
   "source": [
    "x_line = np.arange(5,120).reshape(-1,1)\n",
    "ax= sns.regplot(x='x', y='y', data=df, fit_reg=True)\n",
    "plt.plot(x_line, reg.predict(x_line))\n",
    "m, b = np.polyfit(X, Y, 1)\n",
    "plt.show()"
   ]
  },
  {
   "cell_type": "markdown",
   "metadata": {},
   "source": [
    "* Bonus: what was the y-intercept and slope? Use the documentation to find this information out."
   ]
  },
  {
   "cell_type": "code",
   "execution_count": 40,
   "metadata": {},
   "outputs": [
    {
     "data": {
      "text/plain": [
       "'The y intercept is: [-0.40565959]'"
      ]
     },
     "execution_count": 40,
     "metadata": {},
     "output_type": "execute_result"
    }
   ],
   "source": [
    "f\"The y intercept is: {reg.intercept_}\""
   ]
  },
  {
   "cell_type": "code",
   "execution_count": 41,
   "metadata": {},
   "outputs": [
    {
     "data": {
      "text/plain": [
       "'The y intercept is: [[1.01420179]]'"
      ]
     },
     "execution_count": 41,
     "metadata": {},
     "output_type": "execute_result"
    }
   ],
   "source": [
    "f\"The y intercept is: {reg.coef_}\""
   ]
  },
  {
   "cell_type": "code",
   "execution_count": 42,
   "metadata": {},
   "outputs": [
    {
     "data": {
      "text/plain": [
       "'The equation of this line is:  y= [-0.40565959] + [[1.01420179]]x'"
      ]
     },
     "execution_count": 42,
     "metadata": {},
     "output_type": "execute_result"
    }
   ],
   "source": [
    "f\"The equation of this line is:  y= {reg.intercept_} + {reg.coef_}x\""
   ]
  },
  {
   "cell_type": "markdown",
   "metadata": {},
   "source": []
  },
  {
   "cell_type": "markdown",
   "metadata": {},
   "source": [
    "# Part 3\n",
    "\n",
    "Using a dataset of your choosing (try kaggle if stuck). Set up and run a linear regression on the data using the steps from Part 2. Don't worry if your results are inconclusive (it happens). Demonstrate that you're able to do it."
   ]
  },
  {
   "cell_type": "code",
   "execution_count": 43,
   "metadata": {},
   "outputs": [
    {
     "data": {
      "text/html": [
       "<div>\n",
       "<style scoped>\n",
       "    .dataframe tbody tr th:only-of-type {\n",
       "        vertical-align: middle;\n",
       "    }\n",
       "\n",
       "    .dataframe tbody tr th {\n",
       "        vertical-align: top;\n",
       "    }\n",
       "\n",
       "    .dataframe thead th {\n",
       "        text-align: right;\n",
       "    }\n",
       "</style>\n",
       "<table border=\"1\" class=\"dataframe\">\n",
       "  <thead>\n",
       "    <tr style=\"text-align: right;\">\n",
       "      <th></th>\n",
       "      <th>Population</th>\n",
       "      <th>Profit</th>\n",
       "    </tr>\n",
       "  </thead>\n",
       "  <tbody>\n",
       "    <tr>\n",
       "      <th>0</th>\n",
       "      <td>6.1101</td>\n",
       "      <td>17.59200</td>\n",
       "    </tr>\n",
       "    <tr>\n",
       "      <th>1</th>\n",
       "      <td>5.5277</td>\n",
       "      <td>9.13020</td>\n",
       "    </tr>\n",
       "    <tr>\n",
       "      <th>2</th>\n",
       "      <td>8.5186</td>\n",
       "      <td>13.66200</td>\n",
       "    </tr>\n",
       "    <tr>\n",
       "      <th>3</th>\n",
       "      <td>7.0032</td>\n",
       "      <td>11.85400</td>\n",
       "    </tr>\n",
       "    <tr>\n",
       "      <th>4</th>\n",
       "      <td>5.8598</td>\n",
       "      <td>6.82330</td>\n",
       "    </tr>\n",
       "    <tr>\n",
       "      <th>...</th>\n",
       "      <td>...</td>\n",
       "      <td>...</td>\n",
       "    </tr>\n",
       "    <tr>\n",
       "      <th>92</th>\n",
       "      <td>5.8707</td>\n",
       "      <td>7.20290</td>\n",
       "    </tr>\n",
       "    <tr>\n",
       "      <th>93</th>\n",
       "      <td>5.3054</td>\n",
       "      <td>1.98690</td>\n",
       "    </tr>\n",
       "    <tr>\n",
       "      <th>94</th>\n",
       "      <td>8.2934</td>\n",
       "      <td>0.14454</td>\n",
       "    </tr>\n",
       "    <tr>\n",
       "      <th>95</th>\n",
       "      <td>13.3940</td>\n",
       "      <td>9.05510</td>\n",
       "    </tr>\n",
       "    <tr>\n",
       "      <th>96</th>\n",
       "      <td>5.4369</td>\n",
       "      <td>0.61705</td>\n",
       "    </tr>\n",
       "  </tbody>\n",
       "</table>\n",
       "<p>97 rows × 2 columns</p>\n",
       "</div>"
      ],
      "text/plain": [
       "    Population    Profit\n",
       "0       6.1101  17.59200\n",
       "1       5.5277   9.13020\n",
       "2       8.5186  13.66200\n",
       "3       7.0032  11.85400\n",
       "4       5.8598   6.82330\n",
       "..         ...       ...\n",
       "92      5.8707   7.20290\n",
       "93      5.3054   1.98690\n",
       "94      8.2934   0.14454\n",
       "95     13.3940   9.05510\n",
       "96      5.4369   0.61705\n",
       "\n",
       "[97 rows x 2 columns]"
      ]
     },
     "execution_count": 43,
     "metadata": {},
     "output_type": "execute_result"
    }
   ],
   "source": [
    "df2 = pd.read_csv(\"bike_sharing_data.txt\")\n",
    "df2"
   ]
  },
  {
   "cell_type": "code",
   "execution_count": 44,
   "metadata": {},
   "outputs": [
    {
     "data": {
      "text/html": [
       "<div>\n",
       "<style scoped>\n",
       "    .dataframe tbody tr th:only-of-type {\n",
       "        vertical-align: middle;\n",
       "    }\n",
       "\n",
       "    .dataframe tbody tr th {\n",
       "        vertical-align: top;\n",
       "    }\n",
       "\n",
       "    .dataframe thead th {\n",
       "        text-align: right;\n",
       "    }\n",
       "</style>\n",
       "<table border=\"1\" class=\"dataframe\">\n",
       "  <thead>\n",
       "    <tr style=\"text-align: right;\">\n",
       "      <th></th>\n",
       "      <th>Population</th>\n",
       "      <th>Profit</th>\n",
       "    </tr>\n",
       "  </thead>\n",
       "  <tbody>\n",
       "    <tr>\n",
       "      <th>0</th>\n",
       "      <td>6.1101</td>\n",
       "      <td>17.5920</td>\n",
       "    </tr>\n",
       "    <tr>\n",
       "      <th>1</th>\n",
       "      <td>5.5277</td>\n",
       "      <td>9.1302</td>\n",
       "    </tr>\n",
       "    <tr>\n",
       "      <th>2</th>\n",
       "      <td>8.5186</td>\n",
       "      <td>13.6620</td>\n",
       "    </tr>\n",
       "    <tr>\n",
       "      <th>3</th>\n",
       "      <td>7.0032</td>\n",
       "      <td>11.8540</td>\n",
       "    </tr>\n",
       "    <tr>\n",
       "      <th>4</th>\n",
       "      <td>5.8598</td>\n",
       "      <td>6.8233</td>\n",
       "    </tr>\n",
       "  </tbody>\n",
       "</table>\n",
       "</div>"
      ],
      "text/plain": [
       "   Population   Profit\n",
       "0      6.1101  17.5920\n",
       "1      5.5277   9.1302\n",
       "2      8.5186  13.6620\n",
       "3      7.0032  11.8540\n",
       "4      5.8598   6.8233"
      ]
     },
     "execution_count": 44,
     "metadata": {},
     "output_type": "execute_result"
    }
   ],
   "source": [
    "df2.head()"
   ]
  },
  {
   "cell_type": "code",
   "execution_count": 45,
   "metadata": {},
   "outputs": [
    {
     "name": "stdout",
     "output_type": "stream",
     "text": [
      "Population\n",
      "Profit\n"
     ]
    }
   ],
   "source": [
    "for col in df2.columns: \n",
    "    print(col)"
   ]
  },
  {
   "cell_type": "code",
   "execution_count": 46,
   "metadata": {},
   "outputs": [
    {
     "data": {
      "text/plain": [
       "(97, 2)"
      ]
     },
     "execution_count": 46,
     "metadata": {},
     "output_type": "execute_result"
    }
   ],
   "source": [
    "df2.shape"
   ]
  },
  {
   "cell_type": "code",
   "execution_count": 47,
   "metadata": {},
   "outputs": [
    {
     "name": "stdout",
     "output_type": "stream",
     "text": [
      "<class 'pandas.core.frame.DataFrame'>\n",
      "RangeIndex: 97 entries, 0 to 96\n",
      "Data columns (total 2 columns):\n",
      " #   Column      Non-Null Count  Dtype  \n",
      "---  ------      --------------  -----  \n",
      " 0   Population  97 non-null     float64\n",
      " 1   Profit      97 non-null     float64\n",
      "dtypes: float64(2)\n",
      "memory usage: 1.6 KB\n"
     ]
    }
   ],
   "source": [
    "df2.info()"
   ]
  },
  {
   "cell_type": "code",
   "execution_count": 48,
   "metadata": {},
   "outputs": [
    {
     "data": {
      "text/plain": [
       "Profit        0\n",
       "Population    0\n",
       "dtype: int64"
      ]
     },
     "execution_count": 48,
     "metadata": {},
     "output_type": "execute_result"
    }
   ],
   "source": [
    "df2.isna().sum().sort_values(ascending=False)"
   ]
  },
  {
   "cell_type": "code",
   "execution_count": 74,
   "metadata": {},
   "outputs": [
    {
     "data": {
      "image/png": "[encoded data removed]",
      "text/plain": [
       "<Figure size 360x360 with 6 Axes>"
      ]
     },
     "metadata": {
      "needs_background": "light"
     },
     "output_type": "display_data"
    }
   ],
   "source": [
    "sns.pairplot(df2)\n",
    "plt.show()"
   ]
  },
  {
   "cell_type": "code",
   "execution_count": 49,
   "metadata": {},
   "outputs": [
    {
     "data": {
      "text/plain": [
       "<Figure size 360x360 with 0 Axes>"
      ]
     },
     "metadata": {},
     "output_type": "display_data"
    },
    {
     "data": {
      "image/png": "[encoded data removed]",
      "text/plain": [
       "<Figure size 720x720 with 3 Axes>"
      ]
     },
     "metadata": {
      "needs_background": "light"
     },
     "output_type": "display_data"
    }
   ],
   "source": [
    "plt.figure(figsize=(5,5))\n",
    "sns.jointplot(x=df2['Population'].values, y=df2['Profit'].values, height=10)  #comparing both columns\n",
    "plt.ylabel('Population')\n",
    "plt.xlabel('Profit')\n",
    "plt.title(\"Profit of Bike Sales based on Population\")\n",
    "plt.show() "
   ]
  },
  {
   "cell_type": "code",
   "execution_count": 50,
   "metadata": {},
   "outputs": [
    {
     "data": {
      "text/html": [
       "<div>\n",
       "<style scoped>\n",
       "    .dataframe tbody tr th:only-of-type {\n",
       "        vertical-align: middle;\n",
       "    }\n",
       "\n",
       "    .dataframe tbody tr th {\n",
       "        vertical-align: top;\n",
       "    }\n",
       "\n",
       "    .dataframe thead th {\n",
       "        text-align: right;\n",
       "    }\n",
       "</style>\n",
       "<table border=\"1\" class=\"dataframe\">\n",
       "  <thead>\n",
       "    <tr style=\"text-align: right;\">\n",
       "      <th></th>\n",
       "      <th>Population</th>\n",
       "      <th>Profit</th>\n",
       "    </tr>\n",
       "  </thead>\n",
       "  <tbody>\n",
       "    <tr>\n",
       "      <th>Population</th>\n",
       "      <td>14.975999</td>\n",
       "      <td>17.86687</td>\n",
       "    </tr>\n",
       "    <tr>\n",
       "      <th>Profit</th>\n",
       "      <td>17.866870</td>\n",
       "      <td>30.36299</td>\n",
       "    </tr>\n",
       "  </tbody>\n",
       "</table>\n",
       "</div>"
      ],
      "text/plain": [
       "            Population    Profit\n",
       "Population   14.975999  17.86687\n",
       "Profit       17.866870  30.36299"
      ]
     },
     "execution_count": 50,
     "metadata": {},
     "output_type": "execute_result"
    }
   ],
   "source": [
    "df2.cov()"
   ]
  },
  {
   "cell_type": "code",
   "execution_count": 51,
   "metadata": {},
   "outputs": [
    {
     "data": {
      "text/html": [
       "<div>\n",
       "<style scoped>\n",
       "    .dataframe tbody tr th:only-of-type {\n",
       "        vertical-align: middle;\n",
       "    }\n",
       "\n",
       "    .dataframe tbody tr th {\n",
       "        vertical-align: top;\n",
       "    }\n",
       "\n",
       "    .dataframe thead th {\n",
       "        text-align: right;\n",
       "    }\n",
       "</style>\n",
       "<table border=\"1\" class=\"dataframe\">\n",
       "  <thead>\n",
       "    <tr style=\"text-align: right;\">\n",
       "      <th></th>\n",
       "      <th>Population</th>\n",
       "      <th>Profit</th>\n",
       "    </tr>\n",
       "  </thead>\n",
       "  <tbody>\n",
       "    <tr>\n",
       "      <th>Population</th>\n",
       "      <td>1.000000</td>\n",
       "      <td>0.837873</td>\n",
       "    </tr>\n",
       "    <tr>\n",
       "      <th>Profit</th>\n",
       "      <td>0.837873</td>\n",
       "      <td>1.000000</td>\n",
       "    </tr>\n",
       "  </tbody>\n",
       "</table>\n",
       "</div>"
      ],
      "text/plain": [
       "            Population    Profit\n",
       "Population    1.000000  0.837873\n",
       "Profit        0.837873  1.000000"
      ]
     },
     "execution_count": 51,
     "metadata": {},
     "output_type": "execute_result"
    }
   ],
   "source": [
    "df2.corr()"
   ]
  },
  {
   "cell_type": "code",
   "execution_count": 52,
   "metadata": {},
   "outputs": [
    {
     "data": {
      "text/plain": [
       "<matplotlib.axes._subplots.AxesSubplot at 0x7fb62fc87d00>"
      ]
     },
     "execution_count": 52,
     "metadata": {},
     "output_type": "execute_result"
    },
    {
     "data": {
      "image/png": "[encoded data removed]",
      "text/plain": [
       "<Figure size 432x288 with 2 Axes>"
      ]
     },
     "metadata": {
      "needs_background": "light"
     },
     "output_type": "display_data"
    }
   ],
   "source": [
    "sns.heatmap(df2.corr())"
   ]
  },
  {
   "cell_type": "code",
   "execution_count": 53,
   "metadata": {},
   "outputs": [],
   "source": [
    "X = df2[\"Population\"]\n",
    "Y = df2[\"Profit\"]"
   ]
  },
  {
   "cell_type": "code",
   "execution_count": 54,
   "metadata": {},
   "outputs": [],
   "source": [
    "from sklearn.model_selection import train_test_split\n",
    "\n",
    "X_train, X_test, y_train, y_test = train_test_split(X,Y, test_size=0.2)"
   ]
  },
  {
   "cell_type": "code",
   "execution_count": 55,
   "metadata": {},
   "outputs": [
    {
     "data": {
      "text/plain": [
       "LinearRegression()"
      ]
     },
     "execution_count": 55,
     "metadata": {},
     "output_type": "execute_result"
    }
   ],
   "source": [
    "from sklearn.linear_model import LinearRegression\n",
    "\n",
    "reg = LinearRegression()\n",
    "\n",
    "reg.fit(X_train.values.reshape(-1,1), y_train.values.reshape(-1,1))"
   ]
  },
  {
   "cell_type": "code",
   "execution_count": 56,
   "metadata": {},
   "outputs": [],
   "source": [
    "score = reg.score(X_test.values.reshape(-1,1), y_test.values.reshape(-1,1))"
   ]
  },
  {
   "cell_type": "code",
   "execution_count": 57,
   "metadata": {},
   "outputs": [
    {
     "data": {
      "text/plain": [
       "0.5184945470340541"
      ]
     },
     "execution_count": 57,
     "metadata": {},
     "output_type": "execute_result"
    }
   ],
   "source": [
    "score"
   ]
  },
  {
   "cell_type": "code",
   "execution_count": 58,
   "metadata": {},
   "outputs": [
    {
     "data": {
      "image/png": "[encoded data removed]",
      "text/plain": [
       "<Figure size 432x288 with 1 Axes>"
      ]
     },
     "metadata": {
      "needs_background": "light"
     },
     "output_type": "display_data"
    }
   ],
   "source": [
    "x_line = np.arange(5,50).reshape(-1,1)\n",
    "ax= sns.regplot(x='Population', y='Profit', data=df2, fit_reg=True)\n",
    "plt.plot(x_line, reg.predict(x_line))\n",
    "m, b = np.polyfit(X, Y, 1)\n",
    "plt.title(\"Profit of Bike Sales based on Population\")\n",
    "plt.show()"
   ]
  },
  {
   "cell_type": "code",
   "execution_count": 59,
   "metadata": {},
   "outputs": [
    {
     "data": {
      "text/plain": [
       "'The y intercept is: [-3.86672132]'"
      ]
     },
     "execution_count": 59,
     "metadata": {},
     "output_type": "execute_result"
    }
   ],
   "source": [
    "f\"The y intercept is: {reg.intercept_}\""
   ]
  },
  {
   "cell_type": "code",
   "execution_count": 60,
   "metadata": {},
   "outputs": [
    {
     "data": {
      "text/plain": [
       "'The y intercept is: [[1.17268944]]'"
      ]
     },
     "execution_count": 60,
     "metadata": {},
     "output_type": "execute_result"
    }
   ],
   "source": [
    "f\"The y intercept is: {reg.coef_}\""
   ]
  },
  {
   "cell_type": "code",
   "execution_count": 61,
   "metadata": {},
   "outputs": [
    {
     "data": {
      "text/plain": [
       "'The equation of this line is:  y= [-3.86672132] + [[1.17268944]]x'"
      ]
     },
     "execution_count": 61,
     "metadata": {},
     "output_type": "execute_result"
    }
   ],
   "source": [
    "f\"The equation of this line is:  y= {reg.intercept_} + {reg.coef_}x\""
   ]
  },
  {
   "cell_type": "code",
   "execution_count": null,
   "metadata": {},
   "outputs": [],
   "source": []
  }
 ],
 "metadata": {
  "kernelspec": {
   "display_name": "Python 3",
   "language": "python",
   "name": "python3"
  },
  "language_info": {
   "codemirror_mode": {
    "name": "ipython",
    "version": 3
   },
   "file_extension": ".py",
   "mimetype": "text/x-python",
   "name": "python",
   "nbconvert_exporter": "python",
   "pygments_lexer": "ipython3",
   "version": "3.8.3"
  }
 },
 "nbformat": 4,
 "nbformat_minor": 5
}
