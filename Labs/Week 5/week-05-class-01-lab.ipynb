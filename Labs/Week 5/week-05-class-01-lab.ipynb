{
 "cells": [
  {
   "cell_type": "markdown",
   "metadata": {},
   "source": [
    "<div style=\"background: #000;\n",
    "            color: #FFF;\n",
    "            margin: 0px;\n",
    "                padding: 10px 0px 20px 0px;\n",
    "            text-align: center; \n",
    "                \">\n",
    "    <h1>Week 5 - Class 1 - Lab</h1>\n",
    "</div>"
   ]
  },
  {
   "cell_type": "markdown",
   "metadata": {},
   "source": [
    "# Question 1:\n",
    "\n",
    "What are signs you should use a recursive function? What happens when you do a recursive function call in a return statement?\n",
    "\n",
    "Walk us through how recursive functions work in your answer."
   ]
  },
  {
   "cell_type": "markdown",
   "metadata": {},
   "source": [
    "I think the best time to use recursion would be when we have a big problem that needs to be broken down into smaller bills in order to be solved. For example, the fibanacci sequence basically adds the previous two numbers and adds them together to get the third value. So in a sense, it always has to go back in order to go forward. This is kind of what recursion does. It compares the values to the base case over and over until it's reaches. Instead of writting the funtion over and over again or loop through eternity, recursion gives us the chance to do this by having the function call itself. A recursive funtion is given some initial argument that will make the funtion run, the same way we might initialize a loop funtion. Two important things are needed: a base case which will stop the recursion and making sure this base case is always reached"
   ]
  },
  {
   "cell_type": "markdown",
   "metadata": {},
   "source": [
    "# Exercise 1:\n",
    "\n",
    "Create a function that executes in constant time. Then create a function that executes in linear time. Curry the two functions to produce an output."
   ]
  },
  {
   "cell_type": "code",
   "execution_count": 7,
   "metadata": {},
   "outputs": [],
   "source": [
    "list_of_items = [2,3,4,5,6]"
   ]
  },
  {
   "cell_type": "code",
   "execution_count": 13,
   "metadata": {},
   "outputs": [
    {
     "data": {
      "text/plain": [
       "11"
      ]
     },
     "execution_count": 13,
     "metadata": {},
     "output_type": "execute_result"
    }
   ],
   "source": [
    "#constant time = 0(1) or 0(2)\n",
    "def last_elem(list_of_items):\n",
    "    num = list_of_items[-1]   \n",
    "    return int(num)\n",
    "\n",
    "#linear time= 0(n)\n",
    "def adding_num(num):\n",
    "    return num + 5\n",
    "\n",
    "def curried_function(list_of_items):\n",
    "    return adding_num(last_elem(list_of_items))\n",
    "    \n",
    "curried_function(list_of_items)"
   ]
  },
  {
   "cell_type": "markdown",
   "metadata": {},
   "source": [
    "# Exercise 2:\n",
    "\n",
    "Create a function using the following function that will take your choice of the following and input:\n",
    "\n",
    "\"R\" (rock), \"P\" (paper), or \"S\" (scissors) \n",
    "\n",
    "and return whether or not you beat the computer.\n"
   ]
  },
  {
   "cell_type": "code",
   "execution_count": 190,
   "metadata": {},
   "outputs": [
    {
     "data": {
      "text/plain": [
       "(2, 'scissors')"
      ]
     },
     "execution_count": 190,
     "metadata": {},
     "output_type": "execute_result"
    }
   ],
   "source": [
    "import random\n",
    "def computers_turn():\n",
    "    choices = {\n",
    "        0: 'rock',\n",
    "        1: 'paper',\n",
    "        2: 'scissors',\n",
    "    }\n",
    "    turn = random.randint(0,2)\n",
    "    return (turn, choices[turn])\n",
    "\n",
    "computers_turn()"
   ]
  },
  {
   "cell_type": "code",
   "execution_count": 191,
   "metadata": {},
   "outputs": [
    {
     "name": "stdout",
     "output_type": "stream",
     "text": [
      "Please select Rock (R), Paper (P), or Scissors (S): R\n",
      "computer's choice is: (1, 'paper')\n",
      "user's choice is: (0, 'rock')\n"
     ]
    },
    {
     "data": {
      "text/plain": [
       "'Computer Wins'"
      ]
     },
     "execution_count": 191,
     "metadata": {},
     "output_type": "execute_result"
    }
   ],
   "source": [
    "def play_rock_paper_scissors():\n",
    "    user_input = input(\"Please select Rock (R), Paper (P), or Scissors (S): \")\n",
    "    choices = {\n",
    "        'R': (0, 'rock'),\n",
    "        'P': (1, 'paper'),\n",
    "        'S': (2, 'scissors'),\n",
    "    }\n",
    "    \n",
    "    computer_choice = computers_turn()\n",
    "    print(f\"computer's choice is: {computer_choice}\")\n",
    "    user_choice = choices[user_input]\n",
    "    print(f\"user's choice is: {user_choice}\")\n",
    "    \n",
    "    if computer_choice == user_choice:\n",
    "        return \"It's a Draw.\"\n",
    "    elif (user_choice[0] - computer_choice[0]) % 3 == 1:\n",
    "        return \"User Wins\"\n",
    "    elif (user_choice[0] - computer_choice[0]) % 3 == 2:\n",
    "        return \"Computer Wins\"\n",
    "    else:\n",
    "        return \"Unexpected Result.\"\n",
    "    \n",
    "play_rock_paper_scissors()"
   ]
  },
  {
   "cell_type": "markdown",
   "metadata": {},
   "source": [
    "# Exercise 3:\n",
    "\n",
    "Create a function that takes a string, converts it to upper, sorts it and then take the `ord()` of each element of the string and adds it to a list. Output the final list.\n",
    "\n",
    "Once your function runs, optimize it to make it more efficient. "
   ]
  },
  {
   "cell_type": "code",
   "execution_count": 192,
   "metadata": {},
   "outputs": [
    {
     "data": {
      "text/plain": [
       "[65, 66, 68, 71]"
      ]
     },
     "execution_count": 192,
     "metadata": {},
     "output_type": "execute_result"
    }
   ],
   "source": [
    "def string_converter(string): \n",
    "    new_list = []\n",
    "    split_string = [char for char in string.upper()]\n",
    "    sorted_string = sorted(split_string)\n",
    "    for i in sorted_string:\n",
    "        new_list.append(ord(i))      \n",
    "    return new_list\n",
    "\n",
    "string_converter(\"bgad\")  "
   ]
  },
  {
   "cell_type": "markdown",
   "metadata": {},
   "source": [
    "# Exercise 4:\n",
    "\n",
    "Create a recursive function that computers the powers of a number using the following equation:\n",
    "\n",
    "   $$ x^{n} = x * x^{n-1} $$ "
   ]
  },
  {
   "cell_type": "code",
   "execution_count": 193,
   "metadata": {},
   "outputs": [
    {
     "data": {
      "text/plain": [
       "True"
      ]
     },
     "execution_count": 193,
     "metadata": {},
     "output_type": "execute_result"
    }
   ],
   "source": [
    "#Trying to understand the way the mathematical ecuation works\n",
    "4 ** 4 == 4 * 4**(4-1)\n",
    "4**3 == 4 * 4**(3-1)\n",
    "4**2 == 4 * 4**(2-1)\n",
    "4**1 == 4 * 4**(1-1)\n",
    "4**0 == 1  #this should be our base case. "
   ]
  },
  {
   "cell_type": "code",
   "execution_count": 194,
   "metadata": {},
   "outputs": [],
   "source": [
    "def power(x, n):\n",
    "    if n == 0:\n",
    "        return 1\n",
    "    else:\n",
    "        return x * power(x, n-1)"
   ]
  },
  {
   "cell_type": "code",
   "execution_count": 196,
   "metadata": {},
   "outputs": [
    {
     "data": {
      "text/plain": [
       "256"
      ]
     },
     "execution_count": 196,
     "metadata": {},
     "output_type": "execute_result"
    }
   ],
   "source": [
    "power(4, 4)      # power(4, 4)  == 4 * 4 * 4 * 4 * 1"
   ]
  },
  {
   "cell_type": "markdown",
   "metadata": {},
   "source": [
    "# Bonus: \n",
    "\n",
    "Find a lab exercise solution that you previously submitted that you can optimize, make a function out of the solution and make it more efficient."
   ]
  },
  {
   "cell_type": "markdown",
   "metadata": {},
   "source": [
    "<div style=\"background: #000;\n",
    "            color: #FFF;\n",
    "            margin: 0px;\n",
    "                padding: 10px 0px 20px 0px;\n",
    "            text-align: center; \n",
    "                \">\n",
    "    <h1>Week 02 Class 01 Lab</h1>\n",
    "</div>"
   ]
  },
  {
   "cell_type": "markdown",
   "metadata": {},
   "source": [
    "# Exercise 1\n",
    "\n",
    "Using the list below, answer the following questions."
   ]
  },
  {
   "cell_type": "code",
   "execution_count": 2,
   "metadata": {},
   "outputs": [],
   "source": [
    "l = [[[1,2,3], [4,5,6],[7,8,9]],[[10,11,12], [13,14,15],[16,17,18]],[[19,20,21], [22,23,24],[25,26,27]]]"
   ]
  },
  {
   "cell_type": "markdown",
   "metadata": {},
   "source": [
    "b. Use del to delete all numbers divisible by 2, 3, 4 and 5. Print the list."
   ]
  },
  {
   "cell_type": "markdown",
   "metadata": {},
   "source": [
    "c. Create a new 1 x 7 list with the numbers remaining from l."
   ]
  },
  {
   "cell_type": "code",
   "execution_count": 8,
   "metadata": {},
   "outputs": [
    {
     "data": {
      "text/plain": [
       "[1, 7, 11, 13, 17, 19, 23]"
      ]
     },
     "execution_count": 8,
     "metadata": {},
     "output_type": "execute_result"
    }
   ],
   "source": [
    "def def_num_not_div_by_2345(l):\n",
    "    new_list = []\n",
    "    for i in l:\n",
    "        for j in i:\n",
    "            for k in j:\n",
    "                if k % 2 == 0 or k % 3 == 0 or k % 4 == 0 or k % 5 == 0:\n",
    "                    continue\n",
    "                else:\n",
    "                    new_list.append(k)\n",
    "    return new_list     \n",
    "        \n",
    "def_num_not_div_by_2345(l)"
   ]
  },
  {
   "cell_type": "code",
   "execution_count": null,
   "metadata": {},
   "outputs": [],
   "source": []
  }
 ],
 "metadata": {
  "kernelspec": {
   "display_name": "Python 3",
   "language": "python",
   "name": "python3"
  },
  "language_info": {
   "codemirror_mode": {
    "name": "ipython",
    "version": 3
   },
   "file_extension": ".py",
   "mimetype": "text/x-python",
   "name": "python",
   "nbconvert_exporter": "python",
   "pygments_lexer": "ipython3",
   "version": "3.8.3"
  }
 },
 "nbformat": 4,
 "nbformat_minor": 4
}
