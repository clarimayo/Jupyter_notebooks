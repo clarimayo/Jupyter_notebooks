{
 "cells": [
  {
   "cell_type": "markdown",
   "metadata": {},
   "source": [
    "<div style=\"background: #000;\n",
    "            color: #FFF;\n",
    "            margin: 0px;\n",
    "                padding: 10px 0px 20px 0px;\n",
    "            text-align: center; \n",
    "                \">\n",
    "    <h1>Lab</h1>\n",
    "</div>\n"
   ]
  },
  {
   "cell_type": "markdown",
   "metadata": {},
   "source": [
    "# HW Exercise 1\n",
    "\n",
    "Create a class called `Course` and a class called `Student` based on what you think they will need. Create a way to store 20 \"students\" (instances of the `Student` class into an instance of `Course` to represent our Data Science course. \n",
    "\n",
    "Demonstrate that your code works. Message on slack if stuck or need clarification."
   ]
  },
  {
   "cell_type": "code",
   "execution_count": 1,
   "metadata": {
    "scrolled": false
   },
   "outputs": [
    {
     "data": {
      "text/plain": [
       "[(first name: Amy,last name: Rosa, hw grade: 100),\n",
       " (first name: Anna,last name: Levy, hw grade: 100),\n",
       " (first name: Bryant,last name: Novas, hw grade: 100),\n",
       " (first name: Chioma,last name: Dunkley, hw grade: 100),\n",
       " (first name: Clariza,last name: Mayo, hw grade: 100),\n",
       " (first name: Claudia,last name: De Los Santos, hw grade: 100),\n",
       " (first name: Elston,last name: Bell, hw grade: 100),\n",
       " (first name: Fausto,last name: Rosado, hw grade: 100),\n",
       " (first name: Gyasi,last name: Sturgis, hw grade: 100),\n",
       " (first name: Irene,last name: Unkown, hw grade: 100),\n",
       " (first name: Janet,last name: Perez, hw grade: 100),\n",
       " (first name: Jessica,last name: D., hw grade: 100),\n",
       " (first name: Ishraq,last name: Khan, hw grade: 100),\n",
       " (first name: Juan,last name: Peralta, hw grade: 100),\n",
       " (first name: Judi,last name: Desire, hw grade: 100),\n",
       " (first name: Kari,last name: Sakib, hw grade: 100),\n",
       " (first name: Luis,last name: Alejo, hw grade: 100),\n",
       " (first name: Michael,last name: Alford, hw grade: 100),\n",
       " (first name: Rakhshanda,last name: Mirza, hw grade: 100),\n",
       " (first name: Stanislava,last name: Hristova, hw grade: 100)]"
      ]
     },
     "execution_count": 1,
     "metadata": {},
     "output_type": "execute_result"
    }
   ],
   "source": [
    "class Course:\n",
    "    def __init__(self,subject,professor,room_number, students=[]):\n",
    "        self.subject = subject\n",
    "        self.professor = professor\n",
    "        self.students = students\n",
    "        self.room_number = room_number\n",
    "\n",
    "    def add_student(self,student):  #setter\n",
    "        self.students.append(student)\n",
    "        \n",
    "    def get_students(self): #get it\n",
    "        return self.students\n",
    "           \n",
    "class Student:\n",
    "    def __init__(self,first_name, last_name, hw_grade):\n",
    "        self.first_name = first_name\n",
    "        self.last_name = last_name\n",
    "        self.hw_grade = hw_grade\n",
    "    \n",
    "    def __str__(self):  #print\n",
    "        return f\"(first name: {self.first_name},last name: {self.last_name}, hw grade: {self.hw_grade})\"\n",
    "    \n",
    "    def __repr__(self):  #output\n",
    "        return self.__str__()\n",
    "    \n",
    "#create 20 instances of Student\n",
    "students = [[\"Amy\",\"Rosa\", 100],\n",
    "            [\"Anna\",\"Levy\", 100], \n",
    "            [\"Bryant\",\"Novas\", 100],\n",
    "            [\"Chioma\",\"Dunkley\", 100],\n",
    "            [\"Clariza\", \"Mayo\", 100],\n",
    "            [\"Claudia\", \"De Los Santos\", 100],\n",
    "            [\"Elston\", \"Bell\", 100],\n",
    "            [\"Fausto\",\"Rosado\", 100],\n",
    "            [\"Gyasi\",\"Sturgis\", 100],\n",
    "            [\"Irene\",\"Unkown\", 100],\n",
    "            [\"Janet\",\"Perez\", 100],\n",
    "            [\"Jessica\",\"D.\", 100],\n",
    "            [\"Ishraq\",\"Khan\", 100],\n",
    "            [\"Juan\",\"Peralta\", 100],\n",
    "            [\"Judi\",\"Desire\", 100],\n",
    "            [\"Kari\",\"Sakib\", 100],\n",
    "            [\"Luis\",\"Alejo\", 100],\n",
    "            [\"Michael\",\"Alford\", 100],\n",
    "            [\"Rakhshanda\",\"Mirza\", 100],\n",
    "            [\"Stanislava\",\"Hristova\", 100]]\n",
    "\n",
    "students_array = []  #list of instances of Student \n",
    "for student in students:\n",
    "    students_array.append(Student(*student)) \n",
    "\n",
    "\n",
    "new_course = Course(\"Data Science\", \"Anil\", \"Online\",students_array)\n",
    "new_course.get_students()"
   ]
  },
  {
   "cell_type": "code",
   "execution_count": 2,
   "metadata": {},
   "outputs": [
    {
     "name": "stdout",
     "output_type": "stream",
     "text": [
      "{'student1': 'Amy Rosa', 'grade1': 100, 'student2': 'Anna Levy', 'grade2': 100, 'student3': 'Chioma Dunkley', 'grade3': 100, 'student4': 'Clariza Mayo', 'grade4': 100}\n"
     ]
    }
   ],
   "source": [
    "students = {\"student1\":\"Amy Rosa\", \"grade1\":100, \"student2\":\"Anna Levy\", \"grade2\":100, \\\n",
    "\"student3\":\"Bryant Novas\", \"grade3\":100, \"student3\":\"Chioma Dunkley\", \"grade3\":100,\\\n",
    "\"student4\":\"Clariza Mayo\", \"grade4\": 100}\n",
    "#             [\"Claudia\", \"De Los Santos\", 100],\n",
    "#             [\"Elston\", \"Bell\", 100],\n",
    "#             [\"Fausto\",\"Rosado\", 100],\n",
    "#             [\"Gyasi\",\"Sturgis\", 100],\n",
    "#             [\"Irene\",\"Unkown\", 100],\n",
    "#             [\"Janet\",\"Perez\", 100],\n",
    "#             [\"Jessica\",\"D.\", 100],\n",
    "#             [\"Ishraq\",\"Khan\", 100],\n",
    "#             [\"Juan\",\"Peralta\", 100],\n",
    "#             [\"Judi\",\"Desire\", 100],\n",
    "#             [\"Kari\",\"Sakib\", 100],\n",
    "#             [\"Luis\",\"Alejo\", 100],\n",
    "#             [\"Michael\",\"Alford\", 100],\n",
    "#             [\"Rakhshanda\",\"Mirza\", 100],\n",
    "#             [\"Stanislava\",\"Hristova\", 100}]\n",
    "\n",
    "print(students)"
   ]
  },
  {
   "cell_type": "markdown",
   "metadata": {},
   "source": [
    "# Complete previous weeks Labs"
   ]
  },
  {
   "cell_type": "markdown",
   "metadata": {},
   "source": [
    "# Question 1:\n",
    "\n",
    "Give an example of how we could use what we learned today in our python programming."
   ]
  },
  {
   "cell_type": "markdown",
   "metadata": {},
   "source": [
    "The most interesting subject that we saw today was import. I found it very interesting that we can import a file/module, change it and then store it in another file/module. Also the idea of being able to store code in text files and then call those functions and methods into our code to avoid too much repetition sounds like something that will make our code more clean and efficient."
   ]
  },
  {
   "cell_type": "markdown",
   "metadata": {},
   "source": [
    "# Exercise 1:\n",
    "\n",
    "Create a file called `sample.txt`. Create a function takes one argument that opens the file and writes that argument to it."
   ]
  },
  {
   "cell_type": "code",
   "execution_count": 2,
   "metadata": {},
   "outputs": [],
   "source": [
    "def write_to_file(arg_as_string=\"first_argument\",name_of_file_as_string=\"sample.txt\"):\n",
    "    with open(name_of_file_as_string, \"w\") as outfile: #\"w\" will write at beginning- overwrite, \"a\" will be append                                          #\"a\" it will append\n",
    "        outfile.write(arg_as_string)   \n",
    "        outfile.write(\"\\n\")   # to add lines on new arguments being added             \n",
    "\n",
    "write_to_file(arg_as_string=\"third_argument\",name_of_file_as_string=\"sample.txt\")"
   ]
  },
  {
   "cell_type": "markdown",
   "metadata": {},
   "source": [
    "# Exercise 2:\n",
    "    \n",
    "Create a function that takes an argument and opens the argument as a file and prints the contents.\n",
    "\n",
    "Demonstrate that this works for `sample.txt`"
   ]
  },
  {
   "cell_type": "code",
   "execution_count": 3,
   "metadata": {},
   "outputs": [
    {
     "name": "stdout",
     "output_type": "stream",
     "text": [
      "third_argument\n",
      "\n"
     ]
    }
   ],
   "source": [
    "def print_file_contents(name_of_file_as_string=\"sample.txt\"):\n",
    "    with open(name_of_file_as_string, \"r\") as filename:  #name_of_file_as_string gets renamed to filename\n",
    "        contents = filename.read()\n",
    "        print(contents)\n",
    "\n",
    "print_file_contents(name_of_file_as_string=\"sample.txt\")"
   ]
  },
  {
   "cell_type": "markdown",
   "metadata": {},
   "source": [
    "# Week 6 Project\n",
    "\n",
    "#### For this project, you'll be using your solution exercise 2 from week-05-class-01-lab.ipynb and the following piece of code:"
   ]
  },
  {
   "cell_type": "code",
   "execution_count": 4,
   "metadata": {},
   "outputs": [
    {
     "data": {
      "text/plain": [
       "(2, 'scissors')"
      ]
     },
     "execution_count": 4,
     "metadata": {},
     "output_type": "execute_result"
    }
   ],
   "source": [
    "import random\n",
    "def computers_turn():\n",
    "    choices = {\n",
    "        0: 'rock',\n",
    "        1: 'paper',\n",
    "        2: 'scissors',\n",
    "    }\n",
    "    turn = random.randint(0,2)\n",
    "    return (turn, choices[turn])\n",
    "\n",
    "computers_turn()"
   ]
  },
  {
   "cell_type": "markdown",
   "metadata": {},
   "source": [
    "#### Your solution for exercise 2"
   ]
  },
  {
   "cell_type": "code",
   "execution_count": 5,
   "metadata": {},
   "outputs": [
    {
     "name": "stdout",
     "output_type": "stream",
     "text": [
      "Please select Rock (R), Paper (P), or Scissors (S): R\n",
      "computer's choice is: (0, 'rock')\n",
      "user's choice is: (0, 'rock')\n"
     ]
    },
    {
     "data": {
      "text/plain": [
       "\"It's a Draw.\""
      ]
     },
     "execution_count": 5,
     "metadata": {},
     "output_type": "execute_result"
    }
   ],
   "source": [
    "def play_rock_paper_scissors():\n",
    "    user_input = input(\"Please select Rock (R), Paper (P), or Scissors (S): \")\n",
    "    choices = {\n",
    "        'R': (0, 'rock'),\n",
    "        'P': (1, 'paper'),\n",
    "        'S': (2, 'scissors'),\n",
    "    }\n",
    "    \n",
    "    computer_choice = computers_turn()\n",
    "    print(f\"computer's choice is: {computer_choice}\")\n",
    "    user_choice = choices[user_input]\n",
    "    print(f\"user's choice is: {user_choice}\")\n",
    "    \n",
    "    if computer_choice == user_choice:\n",
    "        return \"It's a Draw.\"\n",
    "    elif (user_choice[0] - computer_choice[0]) % 3 == 1:\n",
    "        return \"User Wins\"\n",
    "    elif (user_choice[0] - computer_choice[0]) % 3 == 2:\n",
    "        return \"Computer Wins\"\n",
    "    else:\n",
    "        return \"Unexpected Result.\"\n",
    "    \n",
    "play_rock_paper_scissors()"
   ]
  },
  {
   "cell_type": "markdown",
   "metadata": {},
   "source": [
    "Take your solution to exercise 2 and break it up into two separate functions:\n",
    "\n",
    "`your_turn` -  which takes an input and returns `(turn, choices[turn])` similar to `computers_turn`.\n",
    "\n",
    "`compare_turns` - which takes the two-tuples from `your_turn` and `computers_turn` to declare a winner\n",
    "\n"
   ]
  },
  {
   "cell_type": "code",
   "execution_count": 6,
   "metadata": {},
   "outputs": [],
   "source": [
    "def your_turn(choice):\n",
    "    if choice not in ['R', 'P', 'S']:\n",
    "        raise ValueError(\"Choice must be one of ['R', 'P', 'S']\")\n",
    "    \n",
    "    choices = {\n",
    "        'R': (0, 'rock'),\n",
    "        'P': (1, 'paper'),\n",
    "        'S': (2, 'scissors'),\n",
    "    }    \n",
    "    return choices[choice]"
   ]
  },
  {
   "cell_type": "code",
   "execution_count": 7,
   "metadata": {},
   "outputs": [],
   "source": [
    "def compare_turns(player_choice, computer_choice):\n",
    "    game_results = {\n",
    "        0: 'Draw.',\n",
    "        1: 'User wins.',\n",
    "        2: 'Computer wins.'\n",
    "    }\n",
    "    key = (player_choice[0] - computer_choice[0]) % 3\n",
    "    return game_results[key]"
   ]
  },
  {
   "cell_type": "markdown",
   "metadata": {},
   "source": [
    "Now create a function called `won_round` that calls `computers_turn`, `your_turn` and then `compare_turns` within the function body and then returns True if you won the round, else False."
   ]
  },
  {
   "cell_type": "code",
   "execution_count": 8,
   "metadata": {},
   "outputs": [
    {
     "name": "stdout",
     "output_type": "stream",
     "text": [
      "Please select Rock (R), Paper (P), or Scissors (S).R\n"
     ]
    },
    {
     "data": {
      "text/plain": [
       "'Draw.'"
      ]
     },
     "execution_count": 8,
     "metadata": {},
     "output_type": "execute_result"
    }
   ],
   "source": [
    "def won_round():\n",
    "    user_input = input(\"Please select Rock (R), Paper (P), or Scissors (S).\")\n",
    "    computer_choice = computers_turn()\n",
    "    user_choice = your_turn(user_input)\n",
    "    \n",
    "    return compare_turns(user_choice, computer_choice)\n",
    "\n",
    "won_round()"
   ]
  },
  {
   "cell_type": "markdown",
   "metadata": {},
   "source": [
    "Create a class using these functions (converting them to methods that take `self`) tha has attributes to store the details of who's won. Create an `__init__` function that takes, at minimum, an argument asking how many rounds to play. Also create a function that displays the details of who won each round. Bonus points for implementing other features.\n",
    "\n",
    "Demonstrate that this class can be used to run games of Rock-Paper-Scissors.\n",
    "\n",
    "When submitting, make sure all of your code from above is in this class declaration below and that the below two cells run without error. Failure to do so will result in points taken off."
   ]
  },
  {
   "cell_type": "code",
   "execution_count": 3,
   "metadata": {},
   "outputs": [],
   "source": [
    "import random\n",
    "\n",
    "class RockPaperScissors:\n",
    "    def __init__(self,number_round):\n",
    "        self.number_round = number_round\n",
    "\n",
    "    @staticmethod\n",
    "    def welcome_message():\n",
    "        print(\"Welcome to Rock, Paper, Scissors Game!\")\n",
    "        \n",
    "    def start(self):\n",
    "        count = int(self.number_round)\n",
    "        while count > 0:\n",
    "            RockPaperScissors.welcome_message()\n",
    "            win = self.won_round()\n",
    "            print(win)\n",
    "            count -=1\n",
    "            print(f\"There is {count} round(s) left.\")\n",
    "            print(\"\\n\")\n",
    "\n",
    "    def computers_turn(self):\n",
    "        choices = {\n",
    "            0: 'rock',\n",
    "            1: 'paper',\n",
    "            2: 'scissors',\n",
    "        }\n",
    "        self.computer_turn = random.randint(0,2)\n",
    "        return (self.computer_turn, choices[self.computer_turn])           \n",
    "            \n",
    "    def your_turn(self, choice):\n",
    "        if choice not in ['R', 'P', 'S']:\n",
    "            raise ValueError(\"Choice must be one of ['R', 'P', 'S']\")\n",
    "\n",
    "        choices = {\n",
    "            'R': (0, 'rock'),\n",
    "            'P': (1, 'paper'),\n",
    "            'S': (2, 'scissors'),\n",
    "        }    \n",
    "        return choices[choice]            \n",
    "                       \n",
    "    def compare_turns(self,user_choice, computer_choice):\n",
    "        game_results = {\n",
    "            0: 'Draw.',\n",
    "            1: 'User wins.',\n",
    "            2: 'Computer wins.'\n",
    "        }\n",
    "        key = (user_choice[0] - computer_choice[0]) % 3\n",
    "        return game_results[key]\n",
    "                \n",
    "    def won_round(self):\n",
    "        user_input = input(\"Please select Rock (R), Paper (P), or Scissors (S).\")\n",
    "        computer_choice = self.computers_turn()\n",
    "        print(f\"Computer's choice is: {computer_choice}\")\n",
    "        user_choice = self.your_turn(user_input)\n",
    "        print(f\"your choice is: {user_choice}'\")\n",
    "        return self.compare_turns(user_choice, computer_choice)"
   ]
  },
  {
   "cell_type": "markdown",
   "metadata": {},
   "source": [
    "Create an instance of your class below and run a game of 3 rounds. Then output the results\n",
    "\n"
   ]
  },
  {
   "cell_type": "code",
   "execution_count": null,
   "metadata": {},
   "outputs": [
    {
     "name": "stdout",
     "output_type": "stream",
     "text": [
      "Welcome to Rock, Paper, Scissors Game!\n",
      "Please select Rock (R), Paper (P), or Scissors (S).R\n",
      "Computer's choice is: (0, 'rock')\n",
      "your choice is: (0, 'rock')'\n",
      "Draw.\n",
      "There is 2 round(s) left.\n",
      "\n",
      "\n",
      "Welcome to Rock, Paper, Scissors Game!\n"
     ]
    }
   ],
   "source": [
    "new_game = RockPaperScissors(3)\n",
    "new_game.start()"
   ]
  },
  {
   "cell_type": "code",
   "execution_count": null,
   "metadata": {},
   "outputs": [],
   "source": []
  }
 ],
 "metadata": {
  "kernelspec": {
   "display_name": "Python 3",
   "language": "python",
   "name": "python3"
  },
  "language_info": {
   "codemirror_mode": {
    "name": "ipython",
    "version": 3
   },
   "file_extension": ".py",
   "mimetype": "text/x-python",
   "name": "python",
   "nbconvert_exporter": "python",
   "pygments_lexer": "ipython3",
   "version": "3.8.3"
  }
 },
 "nbformat": 4,
 "nbformat_minor": 4
}
