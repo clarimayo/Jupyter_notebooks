{
 "cells": [
  {
   "cell_type": "markdown",
   "metadata": {},
   "source": [
    "<div style=\"background: #000;\n",
    "            color: #FFF;\n",
    "            margin: 0px;\n",
    "                padding: 10px 0px 20px 0px;\n",
    "            text-align: center; \n",
    "                \">\n",
    "    <h1>Week 7 - Class 2 - Lab</h1>\n",
    "</div>\n"
   ]
  },
  {
   "cell_type": "markdown",
   "metadata": {},
   "source": [
    "# Question\n",
    "\n",
    "What is something we could make with the python we know now? Give an example of something and then describe what parts it might need (functions, classes, etc.) that would be necessary in order to get it to work. "
   ]
  },
  {
   "cell_type": "markdown",
   "metadata": {},
   "source": [
    "We could make a appliance store. Using class of Applicance I could use inheritance to make the subclasses such as fridge, stove, microwave and so on. By using inhertance it will make the code cleaner and more organize. We will be able to put the methods that belong to each class or subclass. We could also use getter and setters to be able to change these attributes later. "
   ]
  },
  {
   "cell_type": "markdown",
   "metadata": {},
   "source": [
    "# Exercise 1\n",
    "\n",
    "Create a class of your own creation. Use at least 3 attributes and 3 methods (excluding `__init__`). Bonus points if you use other dunder methods."
   ]
  },
  {
   "cell_type": "code",
   "execution_count": 1,
   "metadata": {},
   "outputs": [
    {
     "name": "stdout",
     "output_type": "stream",
     "text": [
      "['Jenna', 'rosie']\n",
      "It's time to cut the grass\n",
      "we need to cut 2 inches\n"
     ]
    },
    {
     "data": {
      "text/plain": [
       "'Jenna is at the water station'"
      ]
     },
     "execution_count": 1,
     "metadata": {},
     "output_type": "execute_result"
    }
   ],
   "source": [
    "class dog_park:\n",
    "    def __init__(self, grass_height,station,dogs= []):\n",
    "        self.grass_height = grass_height\n",
    "        self.station = station\n",
    "        self.dogs = dogs\n",
    "        \n",
    "    def add_dog(self,dog):\n",
    "        self.dogs.append(dog)\n",
    "        \n",
    "    def get_dogs(self):\n",
    "        return self.dogs\n",
    "    \n",
    "    def cut_grass(self):\n",
    "        max_height = 5\n",
    "        if self.grass_height > max_height:\n",
    "            print(\"It's time to cut the grass\")\n",
    "            return f\"we need to cut {self.grass_height - max_height} inches\"\n",
    "        \n",
    "    def dog_locator(self):\n",
    "        return f\"{self.dogs[0]} is at the {self.station}\"         \n",
    "    \n",
    "allentown_park = dog_park(7, \"water station\", [\"Jenna\"])\n",
    "allentown_park.add_dog(\"rosie\")\n",
    "print(allentown_park.get_dogs())\n",
    "print(allentown_park.cut_grass())\n",
    "allentown_park.dog_locator()"
   ]
  },
  {
   "cell_type": "markdown",
   "metadata": {},
   "source": [
    "Notes:\n",
    "For the following exercises, you will create a file name using the following function and then submit that file with this notebook.\n"
   ]
  },
  {
   "cell_type": "code",
   "execution_count": 2,
   "metadata": {},
   "outputs": [
    {
     "name": "stdout",
     "output_type": "stream",
     "text": [
      "Clariza_Mayo-module.py\n"
     ]
    }
   ],
   "source": [
    "produce_file_name = lambda name: print(f\"{name}-module.py\")   \n",
    "produce_file_name('Clariza_Mayo')"
   ]
  },
  {
   "cell_type": "markdown",
   "metadata": {},
   "source": [
    "# Exercise 2\n",
    "\n",
    "Create a module that is a commmand line script similar to our guessing game. Include at least 1 class with the related methods. Submit the `.py` file that runs your script with no errors."
   ]
  },
  {
   "cell_type": "code",
   "execution_count": 1,
   "metadata": {},
   "outputs": [
    {
     "name": "stdout",
     "output_type": "stream",
     "text": [
      "Welcome to the Guessing colors' game!\n",
      "Take a guess of a color between 'green', 'blue', 'white': white\n",
      "Take a guess of a color between 'green', 'blue', 'white': white\n",
      "Take a guess of a color between 'green', 'blue', 'white': white\n",
      "you lost\n"
     ]
    }
   ],
   "source": [
    "#Class is saved in Clariza_Mayo-module.py\n",
    "from random import randint\n",
    "\n",
    "class GuessingColors:\n",
    "    def __init__(self):\n",
    "        self.max_guesses = 3\n",
    "        self.guesses = 0\n",
    "        self.colors = [\"green\", \"blue\", \"white\"]     \n",
    "        \n",
    "    @staticmethod    \n",
    "    def welcome_message():\n",
    "        print(\"Welcome to the Guessing colors' game!\")\n",
    "        \n",
    "    def start(self):\n",
    "        GuessingColors.welcome_message()\n",
    "        win = self.handle_guess()\n",
    "        if win:\n",
    "            print(f\"you won!\")\n",
    "        else:\n",
    "            print(f\"you lost\")\n",
    "               \n",
    "    def handle_guess(self):\n",
    "        random_index = randint(0, len(self.colors) - 1)\n",
    "        random_color = self.colors[random_index]\n",
    "        while self.guesses < self.max_guesses:\n",
    "            user_guess = input(\"Take a guess of a color between 'green', 'blue', 'white': \")\n",
    "            if random_color == user_guess:   \n",
    "                  return True \n",
    "            self.guesses +=1\n",
    "        return False\n",
    "    \n",
    "if __name__ == '__main__': #letting me call the name of file    \n",
    "    new_game = GuessingColors()\n",
    "    new_game.start()"
   ]
  },
  {
   "cell_type": "markdown",
   "metadata": {},
   "source": [
    "### If finished, work on Project."
   ]
  }
 ],
 "metadata": {
  "kernelspec": {
   "display_name": "Python 3",
   "language": "python",
   "name": "python3"
  },
  "language_info": {
   "codemirror_mode": {
    "name": "ipython",
    "version": 3
   },
   "file_extension": ".py",
   "mimetype": "text/x-python",
   "name": "python",
   "nbconvert_exporter": "python",
   "pygments_lexer": "ipython3",
   "version": "3.8.3"
  }
 },
 "nbformat": 4,
 "nbformat_minor": 4
}
