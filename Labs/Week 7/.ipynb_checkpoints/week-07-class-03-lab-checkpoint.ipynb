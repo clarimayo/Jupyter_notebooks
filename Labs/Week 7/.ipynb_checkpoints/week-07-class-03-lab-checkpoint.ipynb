{
 "cells": [
  {
   "cell_type": "markdown",
   "metadata": {},
   "source": [
    "<div style=\"background: #000;\n",
    "            color: #FFF;\n",
    "            margin: 0px;\n",
    "                padding: 10px 0px 20px 0px;\n",
    "            text-align: center; \n",
    "                \">\n",
    "    <h1>Week 07 - Class 03 - Lab</h1>\n",
    "</div>"
   ]
  },
  {
   "cell_type": "markdown",
   "metadata": {},
   "source": [
    "# Question 1\n",
    "\n",
    "What is an example of a situation where you might want to use a `try`/`except`? Why?"
   ]
  },
  {
   "cell_type": "markdown",
   "metadata": {},
   "source": [
    "In a situation when you want to inport a library in order to run certain part of a code, you might not know if the user has the library available in their system. In this case you might want to do a try: importing the library and except: \"a message if this fails\" so that the rest of the code can continue without breaking. "
   ]
  },
  {
   "cell_type": "markdown",
   "metadata": {},
   "source": [
    "# Exercise 1\n",
    "\n",
    "Create a base class called `Person` that stores `name`, `birthday`, `age` and `location`. Create methods that allow you to change those attributes (change name, birthday, age and location).\n",
    "\n",
    "Then create a class that inherits from `Person` called `Employee` that stores everything that `Person` sets but also `income`, `position` and `office_location`. Create methods that allow you to change/set those three attributes.\n",
    "\n",
    "Demonstrate that the `Employee` class can change all the attributes mentioned above.\n",
    "\n",
    "Bonus Points: Create a class attribute called `raise` and set that to 10% company wide. Create a method that applies that raise to `income` and demonstrate that you can use it to give employees a raise (company wide and per employee)."
   ]
  },
  {
   "cell_type": "code",
   "execution_count": 38,
   "metadata": {},
   "outputs": [
    {
     "name": "stdout",
     "output_type": "stream",
     "text": [
      "The person's information is: Clariza, March 30, 27, NYC, 100000,Biller,Queens\n",
      "The person's information is: Michael, October 31, 28, PA, 99000,Allentown,Queens\n",
      "99000\n"
     ]
    },
    {
     "data": {
      "text/plain": [
       "\"Michael's new income with 10% raise is: 108900\""
      ]
     },
     "execution_count": 38,
     "metadata": {},
     "output_type": "execute_result"
    }
   ],
   "source": [
    "class Person:\n",
    "    def __init__(self,name,birthday,age,location):  #__init__ = constructor or initializer\n",
    "        self.name = name\n",
    "        self.birthday = birthday\n",
    "        self.age = age\n",
    "        self.location = location\n",
    "        self.income_raise = 0.10\n",
    "        \n",
    "    def set_name(self,new_name):\n",
    "        self.name = new_name\n",
    "        \n",
    "    def set_birthday(self,new_birthday):\n",
    "        self.birthday = new_birthday\n",
    "        \n",
    "    def set_age(self,new_age):\n",
    "        self.age = new_age\n",
    "        \n",
    "    def set_location(self,new_location):\n",
    "        self.location = new_location\n",
    "\n",
    "    def set_income_raise(self):\n",
    "        new_income = self.income + int(self.income * self.income_raise)\n",
    "        return f\"{self.name}'s new income with 10% raise is: {new_income}\"\n",
    "    \n",
    "        \n",
    "    def display(self):\n",
    "        return f\"The person's information is: {self.name}, {self.birthday}, {self.age}, {self.location}\"\n",
    "        \n",
    "class Employee(Person):\n",
    "    def __init__(self,name, birthday,age,location,income, position, office_location):\n",
    "        self.income = income\n",
    "        self.position = position\n",
    "        self.office_location = office_location\n",
    "        super().__init__(name,birthday,age,location)\n",
    "        \n",
    "    def set_income(self,new_income):\n",
    "        self.income = new_income\n",
    "        \n",
    "    def set_position(self,new_position):\n",
    "        self.position = new_position    \n",
    "        \n",
    "    def set_office_location(self,new_position):\n",
    "        self.position = new_position\n",
    "            \n",
    "    def display(self):\n",
    "        return f\"The person's information is: {self.name}, {self.birthday}, {self.age}, {self.location}, {self.income},{self.position},{self.office_location}\"\n",
    "    \n",
    "new_employee = Employee(\"Clariza\", \"March 30\", 27, \"NYC\", 100000, \"Biller\", \"Queens\")\n",
    "print(new_employee.display())\n",
    "new_employee.set_name(\"Michael\")\n",
    "new_employee.set_birthday(\"October 31\")\n",
    "new_employee.set_age(28)\n",
    "new_employee.set_location(\"PA\")\n",
    "new_employee.set_income(99000)\n",
    "new_employee.set_position(\"Area Manager\")\n",
    "new_employee.set_office_location(\"Allentown\")\n",
    "print(new_employee.display())\n",
    "print(new_employee.income)\n",
    "new_employee.set_income_raise()\n"
   ]
  },
  {
   "cell_type": "markdown",
   "metadata": {},
   "source": [
    "# Exercise 2\n",
    "\n",
    "Fix the following code by catching the `IndexError` using try/except."
   ]
  },
  {
   "cell_type": "code",
   "execution_count": 15,
   "metadata": {},
   "outputs": [
    {
     "name": "stdout",
     "output_type": "stream",
     "text": [
      "1\n",
      "2\n",
      "3\n",
      "4\n",
      "5\n",
      "6\n",
      "7\n",
      "8\n",
      "list index out of range\n",
      "IndexError\n"
     ]
    }
   ],
   "source": [
    "s = [[1,2,3], [4,5,6], [7,8]]\n",
    "try:\n",
    "    for row in range(3):\n",
    "        for col in range(3):\n",
    "            print(s[row][col])\n",
    "            \n",
    "except Exception as e: #IndexError will be caught in variable e\n",
    "    print(e)\n",
    "    print(type(e).__name__)"
   ]
  },
  {
   "cell_type": "markdown",
   "metadata": {},
   "source": [
    "# Exercise 3\n",
    "\n",
    "Create a module that contains a single function. The function should be executable from the command line. It should take a series of `int`'s, sum them, and then output the result to the command line. Submit your *.py file with your name in the filename."
   ]
  },
  {
   "cell_type": "code",
   "execution_count": null,
   "metadata": {},
   "outputs": [],
   "source": [
    "#File saved in ClarizaMayo.py\n",
    "\n",
    "users_input =list(map(int,input(\"what numbers do you want to add?(example: 12345)\")))\n",
    "\n",
    "def sum_int(*args):\n",
    "    sum_ = 0\n",
    "    for num in args:\n",
    "        sum_ += num\n",
    "    print(sum_)\n",
    "    return sum_\n",
    "        \n",
    "\n",
    "if __name__ == '__main__': #letting me call the name of file    \n",
    "    sum_int(*users_input)"
   ]
  },
  {
   "cell_type": "code",
   "execution_count": null,
   "metadata": {},
   "outputs": [],
   "source": []
  }
 ],
 "metadata": {
  "kernelspec": {
   "display_name": "Python 3",
   "language": "python",
   "name": "python3"
  },
  "language_info": {
   "codemirror_mode": {
    "name": "ipython",
    "version": 3
   },
   "file_extension": ".py",
   "mimetype": "text/x-python",
   "name": "python",
   "nbconvert_exporter": "python",
   "pygments_lexer": "ipython3",
   "version": "3.8.3"
  }
 },
 "nbformat": 4,
 "nbformat_minor": 4
}
