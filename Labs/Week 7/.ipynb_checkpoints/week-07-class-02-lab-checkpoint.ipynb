{
 "cells": [
  {
   "cell_type": "markdown",
   "metadata": {},
   "source": [
    "<div style=\"background: #000;\n",
    "            color: #FFF;\n",
    "            margin: 0px;\n",
    "                padding: 10px 0px 20px 0px;\n",
    "            text-align: center; \n",
    "                \">\n",
    "    <h1>Week 7 - Class 2 - Lab</h1>\n",
    "</div>\n"
   ]
  },
  {
   "cell_type": "markdown",
   "metadata": {},
   "source": [
    "# Question\n",
    "\n",
    "What is something we could make with the python we know now? Give an example of something and then describe what parts it might need (functions, classes, etc.) that would be necessary in order to get it to work. "
   ]
  },
  {
   "cell_type": "markdown",
   "metadata": {},
   "source": [
    "We could make a appliance store. Using class of Applicance I could use inheritance to make the subclasses such as fridge, stove, microwave and so on. By using inhertance it will make the code cleaner and more organize. We will be able to put the methods that belong to each class or subclass. We could also use getter and setters to be able to change these attributes later. "
   ]
  },
  {
   "cell_type": "markdown",
   "metadata": {},
   "source": [
    "# Exercise 1\n",
    "\n",
    "Create a class of your own creation. Use at least 3 attributes and 3 methods (excluding `__init__`). Bonus points if you use other dunder methods."
   ]
  },
  {
   "cell_type": "code",
   "execution_count": 16,
   "metadata": {},
   "outputs": [
    {
     "name": "stdout",
     "output_type": "stream",
     "text": [
      "['Jenna', 'rosie']\n",
      "It's time to cut the grass\n",
      "we need to cut 2 inches\n"
     ]
    },
    {
     "data": {
      "text/plain": [
       "'Jenna is at the water station'"
      ]
     },
     "execution_count": 16,
     "metadata": {},
     "output_type": "execute_result"
    }
   ],
   "source": [
    "class dog_park:\n",
    "    def __init__(self, grass_height,station,dogs= []):\n",
    "        self.grass_height = grass_height\n",
    "        self.station = station\n",
    "        self.dogs = dogs\n",
    "        \n",
    "    def add_dog(self,dog):\n",
    "        self.dogs.append(dog)\n",
    "        \n",
    "    def get_dogs(self):\n",
    "        return self.dogs\n",
    "    \n",
    "    def cut_grass(self):\n",
    "        max_height = 5\n",
    "        if self.grass_height > max_height and type(self.grass_height) == int:\n",
    "            print(\"It's time to cut the grass\")\n",
    "            return f\"we need to cut {self.grass_height - max_height} inches\"\n",
    "        \n",
    "    def dog_locator(self):\n",
    "        return f\"{self.dogs[0]} is at the {self.station}\"         \n",
    "    \n",
    "allentown_park = dog_park(7, \"water station\", [\"Jenna\"])\n",
    "allentown_park.add_dog(\"rosie\")\n",
    "print(allentown_park.get_dogs())\n",
    "print(allentown_park.cut_grass())\n",
    "allentown_park.dog_locator()"
   ]
  },
  {
   "cell_type": "markdown",
   "metadata": {},
   "source": [
    "Notes:\n",
    "For the following exercises, you will create a file name using the following function and then submit that file with this notebook.\n"
   ]
  },
  {
   "cell_type": "code",
   "execution_count": 1,
   "metadata": {},
   "outputs": [
    {
     "name": "stdout",
     "output_type": "stream",
     "text": [
      "Clariza Mayo-module.py\n"
     ]
    }
   ],
   "source": [
    "produce_file_name = lambda name: print(f\"{name}-module.py\")   \n",
    "produce_file_name('Clariza Mayo')"
   ]
  },
  {
   "cell_type": "markdown",
   "metadata": {},
   "source": [
    "# Exercise 2\n",
    "\n",
    "Create a module that is a commmand line script similar to our guessing game. Include at least 1 class with the related methods. Submit the `.py` file that runs your script with no errors."
   ]
  },
  {
   "cell_type": "code",
   "execution_count": null,
   "metadata": {},
   "outputs": [],
   "source": [
    "from random import randint\n",
    "\n",
    "class GuessingColors:\n",
    "    \"\"\"\n",
    "    max_guess = 3\n",
    "    guesses = 0\n",
    "    \"\"\"\n",
    "    def __init__(self):\n",
    "        self.max_guesses = 3\n",
    "        self.guesses = 0\n",
    "        self.colors = [\"green\", \"blue\", \"white\"]\n",
    "        self.random_index = randint(0, len(self.colors) - 1)\n",
    "        self.random_color = self.colors[self.random_index]\n",
    "        \n",
    "    def welcome_message():\n",
    "        print(f\"asdgifohasgi {self.colors}\")\n",
    "    \n",
    "    def handle_guess(self):\n",
    "        \n",
    "        for self.colors\n",
    "        "
   ]
  },
  {
   "cell_type": "markdown",
   "metadata": {},
   "source": [
    "### If finished, work on Project."
   ]
  }
 ],
 "metadata": {
  "kernelspec": {
   "display_name": "Python 3",
   "language": "python",
   "name": "python3"
  },
  "language_info": {
   "codemirror_mode": {
    "name": "ipython",
    "version": 3
   },
   "file_extension": ".py",
   "mimetype": "text/x-python",
   "name": "python",
   "nbconvert_exporter": "python",
   "pygments_lexer": "ipython3",
   "version": "3.8.3"
  }
 },
 "nbformat": 4,
 "nbformat_minor": 4
}
