{
 "cells": [
  {
   "cell_type": "markdown",
   "metadata": {},
   "source": [
    "<div style=\"background: #000;\n",
    "            color: #FFF;\n",
    "            margin: 0px;\n",
    "                padding: 10px 0px 20px 0px;\n",
    "            text-align: center; \n",
    "                \">\n",
    "    <h1>Week 2 Class 2 Lab</h1>\n",
    "</div>"
   ]
  },
  {
   "cell_type": "markdown",
   "metadata": {},
   "source": [
    "# Question 1\n",
    "\n",
    "In your own words, explain the difference between lists and tuples. Explain a situation where it may be useful to use tuples instead of lists."
   ]
  },
  {
   "cell_type": "markdown",
   "metadata": {},
   "source": [
    "List are mutable so it has more fucntions and attributes that can be done in it like .append and del(). On the other hand, tuples are immutable so they can only be iterated on or need to be unpacked to make it more accessable. I think the best time to use a tuple is when you want data to be set. For instance people's private information like their ssn we might want it to stay the same and not be able to be mutated to not affect someone's record. "
   ]
  },
  {
   "cell_type": "markdown",
   "metadata": {},
   "source": [
    "# Exercise 1\n",
    "\n",
    "Create a tuple with four values (ints or strings) or  in it. Unpack the tuple into four variables. Create a list with those four values. Turn the list into a string. Add that to the end of a separate string (create whatever you'd like). Now make a tuple  from  that string and output one element from it.\n",
    "\n",
    "Follow each step as described. Show all your work in python statements. "
   ]
  },
  {
   "cell_type": "code",
   "execution_count": 1,
   "metadata": {
    "scrolled": true
   },
   "outputs": [
    {
     "name": "stdout",
     "output_type": "stream",
     "text": [
      "2\n",
      "[1, 2, 3, 4]\n",
      "1 2 3 4\n",
      "my favorite numbers are 1 2 3 4\n",
      "('m', 'y', ' ', 'f', 'a', 'v', 'o', 'r', 'i', 't', 'e', ' ', 'n', 'u', 'm', 'b', 'e', 'r', 's', ' ', 'a', 'r', 'e', ' ', '1', ' ', '2', ' ', '3', ' ', '4')\n"
     ]
    },
    {
     "data": {
      "text/plain": [
       "tuple"
      ]
     },
     "execution_count": 1,
     "metadata": {},
     "output_type": "execute_result"
    }
   ],
   "source": [
    "tuple_example = (1,2,3,4)    #create a tuple \n",
    "one, two, three, four = tuple_example   #unpack it into four variables\n",
    "print(two)\n",
    "l = []\n",
    "l.append(one)\n",
    "l.append(two)\n",
    "l.append(three)\n",
    "l.append(four)\n",
    "print(l)  #create a list with those four values\n",
    "\n",
    "list_string = ' '.join([str(elem) for elem in l])    #turn the list into a string\n",
    "print(list_string)\n",
    "type(list_string)\n",
    "\n",
    "favorite = \"my favorite numbers are \"\n",
    "new_string = favorite + list_string    #add it to the end of another string\n",
    "print(new_string)\n",
    "new_tuple = tuple(new_string)    #make a tuple from that string\n",
    "print(new_tuple)\n",
    "new_tuple[5]    #output one element from it\n",
    "type(new_tuple)"
   ]
  },
  {
   "cell_type": "markdown",
   "metadata": {},
   "source": [
    "# Exercise 2\n",
    "\n",
    "Given the following list. Use list indexing and operations to normalize the data so all values are floats.\n",
    "\n",
    "Convert alphabetical characters to their ordinal value."
   ]
  },
  {
   "cell_type": "code",
   "execution_count": 1,
   "metadata": {},
   "outputs": [
    {
     "name": "stdout",
     "output_type": "stream",
     "text": [
      "97\n",
      "[23.0, 95.0, 4.0, 718.0, 9.0, 35.0, 97.0, 40.0]\n"
     ]
    }
   ],
   "source": [
    "a = ['23', 95, '4', 0x2ce, 9, '35', 'a', 40.0,]\n",
    "a[0] = 23.0\n",
    "a[1] = 95.0\n",
    "a[2] = 4.0\n",
    "a[3] = 718.0\n",
    "a[4] = 9.0\n",
    "a[5] = 35.0\n",
    "print(ord(a[6]))\n",
    "a[6] = 97.0\n",
    "print(a)"
   ]
  },
  {
   "cell_type": "markdown",
   "metadata": {},
   "source": [
    "# Exercise 3\n",
    "\n",
    "We would like to use a list as a queue. A queue in computer science is a structure that operates using FIFO (first in first out). As entries come in, they're added/inserted to the back of the queue. When the code processing the entries is ready for a new entry, it pulls/removes from the front of the queue. Similar to how lines at a supermarket work.\n",
    "\n",
    "Create an empty list to represent our queue. What list operation would allow us to add new entries at the back of the queue. What list operation would remove the first entry on the list? Write python code that creates an empty 'queue', add entries to the queue, and pulls from the front of the queue. \n",
    "\n",
    "Show these steps in a series of python statements. (No need to create a function or do anything we haven't covered in depth.)"
   ]
  },
  {
   "cell_type": "code",
   "execution_count": 2,
   "metadata": {},
   "outputs": [
    {
     "name": "stdout",
     "output_type": "stream",
     "text": [
      "[]\n",
      "[1, 2, 3]\n",
      "1\n",
      "[2, 3]\n"
     ]
    }
   ],
   "source": [
    "queue = []\n",
    "print(queue)\n",
    "#to add entried to the back of the queue we will use .append\n",
    "queue.append(1)\n",
    "queue.append(2)\n",
    "queue.append(3)   #and so on everytime a new entry comes in\n",
    "print(queue)\n",
    "\n",
    "#to pull request from the front of the queue- we could use .pop(0) to remove and return the first element. \n",
    "#this element can get assigned into a variable so then we can reuse it in the future.\n",
    "first_pull = queue.pop(0)\n",
    "print(first_pull)    #we can access the pop element by calling the varible that it was stored in\n",
    "print(queue)    #the updated queue will print without the pop element\n",
    "\n",
    "#we can use both of these attributes inside for loops to automize it. I will come back to this example once I have\n",
    "#more practice in that. "
   ]
  },
  {
   "cell_type": "code",
   "execution_count": null,
   "metadata": {},
   "outputs": [],
   "source": []
  }
 ],
 "metadata": {
  "kernelspec": {
   "display_name": "Python 3",
   "language": "python",
   "name": "python3"
  },
  "language_info": {
   "codemirror_mode": {
    "name": "ipython",
    "version": 3
   },
   "file_extension": ".py",
   "mimetype": "text/x-python",
   "name": "python",
   "nbconvert_exporter": "python",
   "pygments_lexer": "ipython3",
   "version": "3.8.3"
  }
 },
 "nbformat": 4,
 "nbformat_minor": 4
}
