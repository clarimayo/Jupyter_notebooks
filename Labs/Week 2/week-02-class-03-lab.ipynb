{
 "cells": [
  {
   "cell_type": "markdown",
   "metadata": {},
   "source": [
    "<div style=\"background: #000;\n",
    "            color: #FFF;\n",
    "            margin: 0px;\n",
    "                padding: 10px 0px 20px 0px;\n",
    "            text-align: center; \n",
    "                \">\n",
    "    <h1>Week 2 Class 3 Lab</h1>\n",
    "</div>"
   ]
  },
  {
   "cell_type": "markdown",
   "metadata": {},
   "source": [
    "# Question 1\n",
    "\n",
    "When might you use a dictionary? Why? Explain in your own words"
   ]
  },
  {
   "cell_type": "markdown",
   "metadata": {},
   "source": [
    "I think using a dictionary will make it more understandable when you want to make list that have two values that relate to each other. For instance you, if you want to put the name pair with the age of someone. It will make it easier to understand which person has which age. "
   ]
  },
  {
   "cell_type": "markdown",
   "metadata": {},
   "source": [
    "# Question 2\n",
    "\n",
    "When might you use a set? Why? Explain in your own words."
   ]
  },
  {
   "cell_type": "markdown",
   "metadata": {},
   "source": [
    "You might want to use a set when you want to have a list that doesn't repeat. For example if you want to have all the letter of the alpabeth then is better to do sets since the alphabeth has only one letter of each. If you use another data structure this might cause conflict if it lets you add the same item twice. "
   ]
  },
  {
   "cell_type": "markdown",
   "metadata": {},
   "source": [
    "# Exercise 1 \n",
    "\n",
    "Create a dictionary and populate it with keys from 0 to 9 and a default value of \"None\". Then set the values of all keys divisible by 2 to be the value times itself. "
   ]
  },
  {
   "cell_type": "code",
   "execution_count": null,
   "metadata": {},
   "outputs": [],
   "source": [
    "first_dict = {}\n",
    "type(first_dict)\n",
    "print(first_dict)"
   ]
  },
  {
   "cell_type": "code",
   "execution_count": null,
   "metadata": {},
   "outputs": [],
   "source": [
    "first_dict[0] = \"None\"\n",
    "first_dict[1] = \"None\"\n",
    "first_dict[2] = \"None\"\n",
    "first_dict[3] = \"None\"\n",
    "first_dict[4] = \"None\"\n",
    "first_dict[5] = \"None\"\n",
    "first_dict[6] = \"None\"\n",
    "first_dict[7] = \"None\"\n",
    "first_dict[8] = \"None\"\n",
    "first_dict[9] = \"None\"\n",
    "first_dict.keys()"
   ]
  },
  {
   "cell_type": "code",
   "execution_count": null,
   "metadata": {},
   "outputs": [],
   "source": [
    "print(first_dict)"
   ]
  },
  {
   "cell_type": "code",
   "execution_count": null,
   "metadata": {},
   "outputs": [],
   "source": [
    "first_dict[2] = 4\n",
    "first_dict[4] = 8\n",
    "first_dict[6] = 12\n",
    "first_dict[8] = 16\n",
    "print(first_dict)"
   ]
  },
  {
   "cell_type": "markdown",
   "metadata": {},
   "source": [
    "# Exercise 2\n",
    "\n",
    "Given a list of words and utilizing set methods print the words that can be typed using letters of alphabet on only one row's of the (American) keyboard. You may use one character in the keyboard more than once. \n",
    "\n",
    " "
   ]
  },
  {
   "cell_type": "code",
   "execution_count": 43,
   "metadata": {},
   "outputs": [
    {
     "name": "stdout",
     "output_type": "stream",
     "text": [
      "type\n",
      "router\n",
      "top\n",
      "rower\n",
      "the words that can be printed are['type', 'router', 'top', 'rower']\n"
     ]
    }
   ],
   "source": [
    "words = ['type', 'router', 'pine', 'dash', 'top', 'rower', 'freedom']\n",
    "word = words[0]\n",
    "matching = set('qwertyuiop')\n",
    "set(word).issubset(matching) and print(word) \n",
    "#use the boolean result and print to show if the word prints out\n",
    "\n",
    "word1 = words[1]   #repeaat it for each word\n",
    "matching = set('qwertyuiop')\n",
    "set(word1).issubset(matching) and print(word1)\n",
    "\n",
    "word2 = words[2]\n",
    "matching = set('qwertyuiop')\n",
    "set(word2).issubset(matching) and print(word2)\n",
    "\n",
    "word3 = words[3]   \n",
    "matching = set('qwertyuiop')\n",
    "set(word3).issubset(matching) and print(word3) \n",
    "\n",
    "word4 = words[4]\n",
    "matching = set('qwertyuiop')\n",
    "set(word4).issubset(matching) and print(word4)\n",
    "\n",
    "word5 = words[5]\n",
    "matching = set('qwertyuiop')\n",
    "set(word5).issubset(matching) and print(word5)\n",
    "\n",
    "word6 = words[6]\n",
    "matching = set('qwertyuiop')\n",
    "set(word6).issubset(matching) and print(word6)\n",
    "\n",
    "valid_words = []\n",
    "valid_words.append(word)\n",
    "valid_words.append(word1)\n",
    "valid_words.append(word4)\n",
    "valid_words.append(word5)\n",
    "print('the words that can be printed are' + str(valid_words))\n"
   ]
  },
  {
   "cell_type": "markdown",
   "metadata": {},
   "source": [
    "# Exercise 3\n",
    "\n",
    "Given a list of students, find the students who favorite colors are the same utitlizng set methods. Print the name of the students who share similar tastes in colors. "
   ]
  },
  {
   "cell_type": "code",
   "execution_count": 45,
   "metadata": {},
   "outputs": [
    {
     "name": "stdout",
     "output_type": "stream",
     "text": [
      "[{'name': 'Rob', 'student_id': 115, 'favorite_colors': {'red', 'green'}}, {'name': 'Clara', 'student_id': 15, 'favorite_colors': {'red', 'green', 'blue'}}, {'name': 'Sally', 'student_id': 21, 'favorite_colors': {'black'}}, {'name': 'Jim', 'student_id': 33, 'favorite_colors': {'green', 'blue'}}]\n"
     ]
    }
   ],
   "source": [
    "students = [{\"name\":\"Rob\",\"student_id\": 115, \"favorite_colors\":{\"red\",\"green\"}},{\"name\":\"Clara\",\"student_id\": 15, \"favorite_colors\":{\"blue\",\"red\",\"green\"}}, {\"name\":\"Sally\",\"student_id\": 21, \"favorite_colors\":{\"black\"}}, {\"name\":\"Jim\",\"student_id\": 33, \"favorite_colors\":{\"blue\",\"green\"}}]\n",
    "print(students)\n"
   ]
  },
  {
   "cell_type": "code",
   "execution_count": 55,
   "metadata": {},
   "outputs": [
    {
     "name": "stdout",
     "output_type": "stream",
     "text": [
      "Rob Clara\n"
     ]
    }
   ],
   "source": [
    "variable0 = (students[0][\"favorite_colors\"])\n",
    "variable1 = (students[1][\"favorite_colors\"])\n",
    "variable0.intersection(variable1) and print(students[0]['name'], students[1]['name'])"
   ]
  },
  {
   "cell_type": "code",
   "execution_count": 54,
   "metadata": {},
   "outputs": [
    {
     "data": {
      "text/plain": [
       "set()"
      ]
     },
     "execution_count": 54,
     "metadata": {},
     "output_type": "execute_result"
    }
   ],
   "source": [
    "variable1 = (students[0][\"favorite_colors\"])\n",
    "variable2 = (students[2][\"favorite_colors\"])\n",
    "variable1.intersection(variable2) and print(students[0]['name'], students[2]['name'])"
   ]
  },
  {
   "cell_type": "code",
   "execution_count": 56,
   "metadata": {},
   "outputs": [
    {
     "name": "stdout",
     "output_type": "stream",
     "text": [
      "Clara Jim\n"
     ]
    }
   ],
   "source": [
    "variable1 = (students[0][\"favorite_colors\"])\n",
    "variable3 = (students[3][\"favorite_colors\"])\n",
    "variable1.intersection(variable3) and print(students[1]['name'], students[3]['name'])"
   ]
  },
  {
   "cell_type": "code",
   "execution_count": 58,
   "metadata": {},
   "outputs": [
    {
     "name": "stdout",
     "output_type": "stream",
     "text": [
      "Rob Jim\n"
     ]
    }
   ],
   "source": [
    "variable0.intersection(variable3) and print(students[0]['name'], students[3]['name'])"
   ]
  },
  {
   "cell_type": "code",
   "execution_count": 59,
   "metadata": {},
   "outputs": [
    {
     "data": {
      "text/plain": [
       "set()"
      ]
     },
     "execution_count": 59,
     "metadata": {},
     "output_type": "execute_result"
    }
   ],
   "source": [
    "variable2.intersection(variable3) and print(students[2]['name'], students[3]['name'])"
   ]
  }
 ],
 "metadata": {
  "kernelspec": {
   "display_name": "Python 3",
   "language": "python",
   "name": "python3"
  },
  "language_info": {
   "codemirror_mode": {
    "name": "ipython",
    "version": 3
   },
   "file_extension": ".py",
   "mimetype": "text/x-python",
   "name": "python",
   "nbconvert_exporter": "python",
   "pygments_lexer": "ipython3",
   "version": "3.8.3"
  }
 },
 "nbformat": 4,
 "nbformat_minor": 4
}
