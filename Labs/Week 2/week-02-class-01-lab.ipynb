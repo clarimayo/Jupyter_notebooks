{
 "cells": [
  {
   "cell_type": "markdown",
   "metadata": {},
   "source": [
    "<div style=\"background: #000;\n",
    "            color: #FFF;\n",
    "            margin: 0px;\n",
    "                padding: 10px 0px 20px 0px;\n",
    "            text-align: center; \n",
    "                \">\n",
    "    <h1>Week 02 Class 01 Lab</h1>\n",
    "</div>"
   ]
  },
  {
   "cell_type": "markdown",
   "metadata": {},
   "source": [
    "###### Question 1\n",
    "\n",
    "In your own words, explain what data structures are. Then name one python data type and explain what sort of problem might require it. "
   ]
  },
  {
   "cell_type": "markdown",
   "metadata": {},
   "source": [
    "# Exercise 1\n",
    "\n",
    "Using the list below, answer the following questions."
   ]
  },
  {
   "cell_type": "code",
   "execution_count": 2,
   "metadata": {},
   "outputs": [],
   "source": [
    "l = [[[1,2,3], [4,5,6],[7,8,9]],[[10,11,12], [13,14,15],[16,17,18]],[[19,20,21], [22,23,24],[25,26,27]]]"
   ]
  },
  {
   "cell_type": "code",
   "execution_count": 3,
   "metadata": {},
   "outputs": [
    {
     "name": "stdout",
     "output_type": "stream",
     "text": [
      "[[1, 2, 3], [4, 5, 6], [7, 8, 9]]\n",
      "[[10, 11, 12], [13, 14, 15], [16, 17, 18]]\n",
      "[[19, 20, 21], [22, 23, 24], [25, 26, 27]]\n"
     ]
    }
   ],
   "source": [
    "for i in l:\n",
    "    print(i)"
   ]
  },
  {
   "cell_type": "markdown",
   "metadata": {},
   "source": [
    "a. What index gives you the number 15? "
   ]
  },
  {
   "cell_type": "code",
   "execution_count": 4,
   "metadata": {},
   "outputs": [
    {
     "data": {
      "text/plain": [
       "15"
      ]
     },
     "execution_count": 4,
     "metadata": {},
     "output_type": "execute_result"
    }
   ],
   "source": [
    "l[1][1][2]"
   ]
  },
  {
   "cell_type": "markdown",
   "metadata": {},
   "source": [
    " b. Use `del` to delete all numbers divisible by 2, 3, 4 and 5. Print the list.  "
   ]
  },
  {
   "cell_type": "code",
   "execution_count": 5,
   "metadata": {},
   "outputs": [],
   "source": [
    "del l[0][0][1]"
   ]
  },
  {
   "cell_type": "code",
   "execution_count": 6,
   "metadata": {},
   "outputs": [],
   "source": [
    "del l[0][0][1]"
   ]
  },
  {
   "cell_type": "code",
   "execution_count": 7,
   "metadata": {},
   "outputs": [],
   "source": [
    "del l[0][1][0]"
   ]
  },
  {
   "cell_type": "code",
   "execution_count": 8,
   "metadata": {},
   "outputs": [],
   "source": [
    "del l[0][1][0]"
   ]
  },
  {
   "cell_type": "code",
   "execution_count": 9,
   "metadata": {},
   "outputs": [],
   "source": [
    "del l[0][1][0]"
   ]
  },
  {
   "cell_type": "code",
   "execution_count": 10,
   "metadata": {},
   "outputs": [],
   "source": [
    "del l[0][2][1]"
   ]
  },
  {
   "cell_type": "code",
   "execution_count": 11,
   "metadata": {},
   "outputs": [],
   "source": [
    "del l[0][2][1]"
   ]
  },
  {
   "cell_type": "code",
   "execution_count": 12,
   "metadata": {},
   "outputs": [],
   "source": [
    "del l[1][0][0]"
   ]
  },
  {
   "cell_type": "code",
   "execution_count": 13,
   "metadata": {},
   "outputs": [],
   "source": [
    "del l[1][0][1]"
   ]
  },
  {
   "cell_type": "code",
   "execution_count": 14,
   "metadata": {},
   "outputs": [],
   "source": [
    "del l[1][1][1]"
   ]
  },
  {
   "cell_type": "code",
   "execution_count": 15,
   "metadata": {},
   "outputs": [],
   "source": [
    "del l[1][1][1]"
   ]
  },
  {
   "cell_type": "code",
   "execution_count": 16,
   "metadata": {},
   "outputs": [],
   "source": [
    "del l[1][2][0]"
   ]
  },
  {
   "cell_type": "code",
   "execution_count": 17,
   "metadata": {},
   "outputs": [],
   "source": [
    "del l[1][2][1]"
   ]
  },
  {
   "cell_type": "code",
   "execution_count": 18,
   "metadata": {},
   "outputs": [],
   "source": [
    "del l[2][0][1]"
   ]
  },
  {
   "cell_type": "code",
   "execution_count": 19,
   "metadata": {},
   "outputs": [],
   "source": [
    "del l[2][0][1]"
   ]
  },
  {
   "cell_type": "code",
   "execution_count": 20,
   "metadata": {},
   "outputs": [],
   "source": [
    "del l[2][1][0]"
   ]
  },
  {
   "cell_type": "code",
   "execution_count": 21,
   "metadata": {},
   "outputs": [],
   "source": [
    "del l[2][1][1]"
   ]
  },
  {
   "cell_type": "code",
   "execution_count": 22,
   "metadata": {},
   "outputs": [],
   "source": [
    "del l[2][2][0]"
   ]
  },
  {
   "cell_type": "code",
   "execution_count": 23,
   "metadata": {},
   "outputs": [],
   "source": [
    "del l[2][2][0]"
   ]
  },
  {
   "cell_type": "code",
   "execution_count": 24,
   "metadata": {},
   "outputs": [],
   "source": [
    "del l[2][2][0]"
   ]
  },
  {
   "cell_type": "code",
   "execution_count": 25,
   "metadata": {},
   "outputs": [
    {
     "name": "stdout",
     "output_type": "stream",
     "text": [
      "[[1], [], [7]]\n",
      "[[11], [13], [17]]\n",
      "[[19], [23], []]\n"
     ]
    }
   ],
   "source": [
    "for i in l:\n",
    "    print(i)"
   ]
  },
  {
   "cell_type": "markdown",
   "metadata": {},
   "source": [
    "c. Create a new 1 x 7 list with the numbers remaining from `l`."
   ]
  },
  {
   "cell_type": "code",
   "execution_count": 26,
   "metadata": {},
   "outputs": [
    {
     "name": "stdout",
     "output_type": "stream",
     "text": [
      "[[1], [7], [11], [13], [17], [19], [23]]\n"
     ]
    }
   ],
   "source": [
    "new_list = [[1], [7], [11], [13], [17], [19],[23]]\n",
    "print(new_list)"
   ]
  },
  {
   "cell_type": "markdown",
   "metadata": {},
   "source": [
    "# Exercise 2\n",
    "\n",
    "Using only the following string, use string methods/slices/indexing to produce the following quote from the late Justice Ruth Bader Ginsberg:\n",
    "\n",
    "\"Real change, enduring change, happens one step at a time.\"\n",
    "\n",
    "hint: try splitting the string up."
   ]
  },
  {
   "cell_type": "code",
   "execution_count": 27,
   "metadata": {},
   "outputs": [],
   "source": [
    "string = 'stepataenduringrealdemocracyblmchange,progresschangefreedomonetimehappens,equalityjustice'"
   ]
  },
  {
   "cell_type": "code",
   "execution_count": 28,
   "metadata": {},
   "outputs": [
    {
     "name": "stdout",
     "output_type": "stream",
     "text": [
      "Real change, enduring change, happens one step at a time.\n"
     ]
    }
   ],
   "source": [
    "real = string[15:19]\n",
    "capital_real = real.capitalize()\n",
    "change_one = change_two = string[31:38]\n",
    "enduring = string[7:15]                \n",
    "beginning = capital_real + \" \" + change_one + \" \" + enduring + \" \" + change_two + \" \"\n",
    "happens = string[66:73]\n",
    "one = string[59:62]\n",
    "step = string[:4]\n",
    "at = string[4:6]\n",
    "a = string[6:7]\n",
    "time = string[62:66]\n",
    "ending = happens + \" \" + one + \" \" + step + \" \" + at + \" \" + a + \" \" + time + \".\"\n",
    "word = beginning + ending\n",
    "print(word)"
   ]
  },
  {
   "cell_type": "markdown",
   "metadata": {},
   "source": [
    "# Exercise 3\n",
    "\n",
    "Given the following matrix, find the determinant:\n",
    "$$\n",
    "\\begin{equation*}\n",
    "A = \n",
    "\\begin{vmatrix}\n",
    "1 & 2 & 3 \\\\\n",
    "4 & 5 & 6 \\\\\n",
    "7 & 8 & 9\n",
    "\\end{vmatrix}\n",
    "\\end{equation*}\n",
    "$$\n",
    "The determinant of a matrix is calculated as follows:\n",
    "$$\n",
    "\\begin{equation*}\n",
    "A = \n",
    "\\begin{vmatrix}\n",
    "a & b & c \\\\\n",
    "d & e & f \\\\\n",
    "g & h & i\n",
    "\\end{vmatrix}\n",
    "= a \n",
    "\\begin{vmatrix}\n",
    "e & f \\\\\n",
    "h & i \\\\\n",
    "\\end{vmatrix}\n",
    "- b\n",
    "\\begin{vmatrix}\n",
    "d & f \\\\\n",
    "g & i \\\\\n",
    "\\end{vmatrix}\n",
    "+ c\n",
    "\\begin{vmatrix}\n",
    "d & e \\\\\n",
    "g & h \\\\\n",
    "\\end{vmatrix}\n",
    "\\end{equation*}\n",
    "$$\n",
    "\n",
    "$$ \n",
    "= aei + bfg + cdh - ceg - bdi -afh\n",
    "$$\n",
    "\n",
    "Create a 3 x 3 matrix using a list. Then use list indexing to access the elements to perform your calculation. Do not use numbers not stored in your matrix to perform your calcuation"
   ]
  },
  {
   "cell_type": "code",
   "execution_count": 38,
   "metadata": {},
   "outputs": [
    {
     "name": "stdout",
     "output_type": "stream",
     "text": [
      "[[1, 2, 3]]\n",
      "[[4, 5, 6]]\n",
      "[[7, 8, 9]]\n"
     ]
    }
   ],
   "source": [
    "matrix= [[[1,2,3]],[[4,5,6]],[[7,8,9]]]\n",
    "for i in matrix:\n",
    "    print(i)"
   ]
  },
  {
   "cell_type": "code",
   "execution_count": 62,
   "metadata": {},
   "outputs": [
    {
     "name": "stdout",
     "output_type": "stream",
     "text": [
      "0\n"
     ]
    }
   ],
   "source": [
    "A = (matrix[0][0][0] * matrix[1][0][1] * matrix[2][0][2]) + (matrix[0][0][1] * matrix[1][0][2] * matrix[2][0][0]) + (matrix[0][0][2] * matrix[1][0][0] * matrix[2][0][1])- (matrix[0][0][2] * matrix[1][0][1] * matrix[2][0][0])- (matrix[0][0][1] * matrix[1][0][0] * matrix[2][0][2])- (matrix[0][0][0] * matrix[1][0][2] * matrix[2][0][1])          \n",
    "print(A)\n",
    "\n"
   ]
  },
  {
   "cell_type": "markdown",
   "metadata": {},
   "source": [
    "a = 1 = matrix[0][0][0]\n",
    "b = 2 = matrix[0][0][1]\n",
    "c = 3 = matrix[0][0][2]\n",
    "d = 4 = matrix[1][0][0]\n",
    "e = 5 = matrix[1][0][1]\n",
    "f = 6 = matrix[1][0][2]\n",
    "g = 7 = matrix[2][0][0]\n",
    "h = 8 = matrix[2][0][1]\n",
    "i = 9 = matrix[2][0][2]"
   ]
  }
 ],
 "metadata": {
  "kernelspec": {
   "display_name": "Python 3",
   "language": "python",
   "name": "python3"
  },
  "language_info": {
   "codemirror_mode": {
    "name": "ipython",
    "version": 3
   },
   "file_extension": ".py",
   "mimetype": "text/x-python",
   "name": "python",
   "nbconvert_exporter": "python",
   "pygments_lexer": "ipython3",
   "version": "3.8.3"
  }
 },
 "nbformat": 4,
 "nbformat_minor": 4
}
