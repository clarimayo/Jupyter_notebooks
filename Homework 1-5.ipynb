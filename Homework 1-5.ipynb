{
 "cells": [
  {
   "cell_type": "markdown",
   "metadata": {},
   "source": [
    "<div style=\"background: #000;\n",
    "            color: #FFF;\n",
    "            margin: 0px;\n",
    "                padding: 10px 0px 20px 0px;\n",
    "            text-align: center; \n",
    "                \">\n",
    "    <h1>Week 02</h1>\n",
    "</div>"
   ]
  },
  {
   "cell_type": "markdown",
   "metadata": {},
   "source": [
    "# Exercise #1\n",
    "\n",
    "### Given the following variable `money_moves`"
   ]
  },
  {
   "cell_type": "code",
   "execution_count": 3,
   "metadata": {},
   "outputs": [],
   "source": [
    "money_moves = [\"fur coats\",\"money fans\",\"Diamonds\",\"MoNeY FaNs\",\"FUR COATS\",\"barrels of gold\"]"
   ]
  },
  {
   "cell_type": "markdown",
   "metadata": {},
   "source": [
    "### a. Print the list of unique elements. Then output the length."
   ]
  },
  {
   "cell_type": "code",
   "execution_count": 4,
   "metadata": {},
   "outputs": [
    {
     "name": "stdout",
     "output_type": "stream",
     "text": [
      "{'fur coats', 'MoNeY FaNs', 'barrels of gold', 'money fans', 'Diamonds', 'FUR COATS'}\n"
     ]
    },
    {
     "data": {
      "text/plain": [
       "6"
      ]
     },
     "execution_count": 4,
     "metadata": {},
     "output_type": "execute_result"
    }
   ],
   "source": [
    "# place code here\n",
    "unique_elements = set(money_moves)\n",
    "print(unique_elements)\n",
    "len(unique_elements)"
   ]
  },
  {
   "cell_type": "markdown",
   "metadata": {},
   "source": [
    "### d. Create a new list, append odd number items from the original list`money_moves` and output the new list"
   ]
  },
  {
   "cell_type": "code",
   "execution_count": 5,
   "metadata": {},
   "outputs": [],
   "source": [
    "money_moves = [\"fur coats\",\"money fans\",\"Diamonds\",\"MoNeY FaNs\",\"FUR COATS\",\"barrels of gold\"]"
   ]
  },
  {
   "cell_type": "code",
   "execution_count": 6,
   "metadata": {},
   "outputs": [],
   "source": [
    "dictionary = {}"
   ]
  },
  {
   "cell_type": "code",
   "execution_count": 8,
   "metadata": {},
   "outputs": [
    {
     "name": "stdout",
     "output_type": "stream",
     "text": [
      "{'0': 'fur coats', '1': 'money fans', '2': 'Diamonds', '3': 'MoNeY FaNs', '4': 'FUR COATS', '5': 'barrels of gold'}\n"
     ]
    }
   ],
   "source": [
    "dictionary['0'] = money_moves[0]\n",
    "dictionary['1'] = money_moves[1]\n",
    "dictionary['2'] = money_moves[2]\n",
    "dictionary['3'] = money_moves[3]\n",
    "dictionary['4'] = money_moves[4]\n",
    "dictionary['5'] = money_moves[5]\n",
    "print(dictionary)"
   ]
  },
  {
   "cell_type": "code",
   "execution_count": 9,
   "metadata": {},
   "outputs": [
    {
     "data": {
      "text/plain": [
       "'hello'"
      ]
     },
     "execution_count": 9,
     "metadata": {},
     "output_type": "execute_result"
    }
   ],
   "source": [
    "s = [\"h\", \"e\", \"l\", \"l\", \"o\"]\n",
    "\"\".join(s)"
   ]
  },
  {
   "cell_type": "code",
   "execution_count": 10,
   "metadata": {},
   "outputs": [
    {
     "name": "stdout",
     "output_type": "stream",
     "text": [
      "hello\n",
      "\n"
     ]
    }
   ],
   "source": [
    "class Example:\n",
    "    def __init__(self, val):\n",
    "        self.a = val and print(\"hello\")\n",
    "    def say_hi(self):\n",
    "        print(\"hello\") if self.a == \"fixed\" else print(\"\")\n",
    "    def hello(self):\n",
    "        return \"olleh\".reverse()\n",
    "        \n",
    "e = Example(\"fixed\")\n",
    "e.say_hi()"
   ]
  },
  {
   "cell_type": "markdown",
   "metadata": {},
   "source": [
    "<div style=\"background: #000;\n",
    "            color: #FFF;\n",
    "            margin: 0px;\n",
    "                padding: 10px 0px 20px 0px;\n",
    "            text-align: center; \n",
    "                \">\n",
    "    <h1>Week 03</h1>\n",
    "</div>"
   ]
  },
  {
   "cell_type": "markdown",
   "metadata": {},
   "source": [
    "# Exercise 1\n",
    "\n",
    "Write a for loop that sums the values of the following list and appends the different values to the correct list.\n",
    "\n",
    "Remember what we learned about the value of an `int` and `str`.\n",
    "\n",
    "Hint: try one part before the other."
   ]
  },
  {
   "cell_type": "code",
   "execution_count": 11,
   "metadata": {},
   "outputs": [
    {
     "name": "stdout",
     "output_type": "stream",
     "text": [
      "list_vals is correct\n"
     ]
    }
   ],
   "source": [
    "# list to sum\n",
    "list_vals = [82,True,'d',False,'v',7301,False,1,True,'x','F','w','Q','f',True]\n",
    "import hashlib;print(\"list_vals is correct\" if hashlib.md5(str(list_vals).encode()).hexdigest() == '867f5d64395c44f016668cc442fb650c' else \"list_vals is incorrect\")"
   ]
  },
  {
   "cell_type": "code",
   "execution_count": 12,
   "metadata": {},
   "outputs": [
    {
     "name": "stdout",
     "output_type": "stream",
     "text": [
      "8097\n",
      "[True, False, False, True, True]\n",
      "[82, 7301, 1]\n",
      "['d', 'v', 'x', 'F', 'w', 'Q', 'f']\n"
     ]
    }
   ],
   "source": [
    "list_for_bools = []\n",
    "list_for_ints = []\n",
    "list_for_chars = []\n",
    "sum_of_all = 0\n",
    "\n",
    "for value in list_vals:\n",
    "    if type(value) == int:\n",
    "        sum_of_all += value\n",
    "        list_for_ints.append(value)\n",
    "    elif type(value) == str:\n",
    "        sum_of_all += ord(value)\n",
    "        list_for_chars.append(value)\n",
    "    elif type(value) == bool:\n",
    "        sum_of_all += value\n",
    "        list_for_bools.append(value)\n",
    "    \n",
    "\n",
    "\n",
    "# use the following to output your results:\n",
    "print(sum_of_all)\n",
    "print(list_for_bools)\n",
    "print(list_for_ints)\n",
    "print(list_for_chars)"
   ]
  },
  {
   "cell_type": "markdown",
   "metadata": {},
   "source": [
    "# Exercise 2\n",
    "\n",
    "Given a tuple of strings. Find the following value `x` and print it. The loop should end when `x` is found"
   ]
  },
  {
   "cell_type": "code",
   "execution_count": 13,
   "metadata": {},
   "outputs": [],
   "source": [
    "x = '------'\n",
    "\n",
    "tuple_of_strings = ('steel', 'collect', 'capable', '------', 'shelter', 'language', 'mug', 'flowers')"
   ]
  },
  {
   "cell_type": "code",
   "execution_count": 14,
   "metadata": {},
   "outputs": [
    {
     "name": "stdout",
     "output_type": "stream",
     "text": [
      "steel\n",
      "collect\n",
      "capable\n",
      "------\n",
      "found x! Time to stop\n"
     ]
    }
   ],
   "source": [
    "# enter your code here:\n",
    "for string in tuple_of_strings:\n",
    "    print(string)\n",
    "    if string == x:\n",
    "        print(\"found x! Time to stop\")\n",
    "        break"
   ]
  },
  {
   "cell_type": "code",
   "execution_count": 15,
   "metadata": {},
   "outputs": [
    {
     "name": "stdout",
     "output_type": "stream",
     "text": [
      "------\n"
     ]
    }
   ],
   "source": [
    "#finding something in a list using a while loop\n",
    "found = False\n",
    "i = 0\n",
    "while not found:\n",
    "    if tuple_of_strings[i] == x:\n",
    "        print(tuple_of_strings[i])\n",
    "        found = True\n",
    "    i+=1"
   ]
  },
  {
   "cell_type": "markdown",
   "metadata": {},
   "source": [
    "# Exercise 3\n",
    "\n",
    "Create a game in python. \n",
    "\n",
    "Rules:  \n",
    "    1. You have 3 tries to guess a secret number.   \n",
    "    2. Each try you are prompted to input a number.  \n",
    "    3. You get a success message if you guess correctly and stop looping, else you subtract a try and go again."
   ]
  },
  {
   "cell_type": "code",
   "execution_count": 16,
   "metadata": {},
   "outputs": [
    {
     "name": "stdout",
     "output_type": "stream",
     "text": [
      "3\n"
     ]
    }
   ],
   "source": [
    "##### use secret_number in your code but don't cheat\n",
    "import random\n",
    "secret_number = random.randint(0,3)\n",
    "print(secret_number)"
   ]
  },
  {
   "cell_type": "code",
   "execution_count": 17,
   "metadata": {},
   "outputs": [
    {
     "name": "stdout",
     "output_type": "stream",
     "text": [
      "guess the secret number between 0 and 3 :0\n",
      "you have  2  guesses left\n",
      "guess the secret number between 0 and 3 :2\n",
      "you have  1  guesses left\n",
      "guess the secret number between 0 and 3 :1\n",
      "you have  0  guesses left\n"
     ]
    }
   ],
   "source": [
    "number_of_tries = 3\n",
    "for i in range(number_of_tries):\n",
    "    number = int(input(\"guess the secret number between 0 and 3 :\"))\n",
    "    if secret_number == number:\n",
    "        print(\"Great job! You guessed correctly!\")\n",
    "        break\n",
    "    elif secret_number != number:\n",
    "        print(\"you have \", number_of_tries -1 , \" guesses left\")\n",
    "        number_of_tries -= 1\n",
    "        if number_of_tries == 0:\n",
    "            break"
   ]
  },
  {
   "cell_type": "code",
   "execution_count": 18,
   "metadata": {},
   "outputs": [
    {
     "name": "stdout",
     "output_type": "stream",
     "text": [
      "2\n",
      "enter a guess: 3\n",
      "3\n",
      "enter a guess: 2\n"
     ]
    },
    {
     "data": {
      "text/plain": [
       "'you win'"
      ]
     },
     "execution_count": 18,
     "metadata": {},
     "output_type": "execute_result"
    }
   ],
   "source": [
    "import random\n",
    "\n",
    "def game():\n",
    "    tries = 3\n",
    "    secret_number = random.randint(0,3)\n",
    "    print(secret_number)\n",
    "    while tries >0:\n",
    "        guess= int(input(\"enter a guess: \"))\n",
    "        if guess == secret_number:\n",
    "            return \"you win\"\n",
    "        print(tries)\n",
    "        tries -=1\n",
    "    return \"you lose\"\n",
    "        \n",
    "game()"
   ]
  },
  {
   "cell_type": "markdown",
   "metadata": {},
   "source": [
    "# Exercise 4\n",
    "\n",
    "a. \n",
    "Create a list comprehension that prints the following.\n",
    "```python\n",
    "[0, '*',2, '*', 4, '*', 6]\n",
    "\n",
    "```\n",
    "\n",
    "Hint: start from the most basic list comprehension  "
   ]
  },
  {
   "cell_type": "code",
   "execution_count": 20,
   "metadata": {},
   "outputs": [
    {
     "data": {
      "text/plain": [
       "[0, '*', 2, '*', 4, '*', 6]"
      ]
     },
     "execution_count": 20,
     "metadata": {},
     "output_type": "execute_result"
    }
   ],
   "source": [
    "#figuring out the list comprehension by writting it out. Using odd numbers.\n",
    "some_list_one = []\n",
    "for x in range(7):\n",
    "    if x % 2:\n",
    "        some_list_one.append('*')\n",
    "    else:\n",
    "        some_list_one.append(x)\n",
    "some_list_one"
   ]
  },
  {
   "cell_type": "code",
   "execution_count": 21,
   "metadata": {},
   "outputs": [
    {
     "name": "stdout",
     "output_type": "stream",
     "text": [
      "[0, '*', 2, '*', 4, '*', 6]\n"
     ]
    }
   ],
   "source": [
    "#Transforming the solution from above into a list comprehension. Answer #1\n",
    "first_list_comp = ['*' if x % 2 else x for x in range(7)]\n",
    "print(first_list_comp)"
   ]
  },
  {
   "cell_type": "code",
   "execution_count": 22,
   "metadata": {},
   "outputs": [
    {
     "data": {
      "text/plain": [
       "[0, '*', 2, '*', 4, '*', 6]"
      ]
     },
     "execution_count": 22,
     "metadata": {},
     "output_type": "execute_result"
    }
   ],
   "source": [
    "#figuring out the list comprehension by writting it out. Using even numbers.\n",
    "some_list = []\n",
    "for x in range(7):\n",
    "    if not x % 2:   # or we can use if (x+1) % 2:\n",
    "        some_list.append(x)\n",
    "    else:\n",
    "        some_list.append('*')\n",
    "some_list"
   ]
  },
  {
   "cell_type": "code",
   "execution_count": 23,
   "metadata": {},
   "outputs": [
    {
     "data": {
      "text/plain": [
       "[0, '*', 2, '*', 4, '*', 6]"
      ]
     },
     "execution_count": 23,
     "metadata": {},
     "output_type": "execute_result"
    }
   ],
   "source": [
    "#Transforming the solution from above into a list comprehension. Answer #2\n",
    "new_list = [x if not x % 2 else '*' for x in range(7)]\n",
    "new_list"
   ]
  },
  {
   "cell_type": "markdown",
   "metadata": {},
   "source": [
    "b. Create a dict comprehension that prints the following:\n",
    "```python\n",
    "{'a': ['*', '*'], 'b': ['*', '*'],}\n",
    "\n",
    "```"
   ]
  },
  {
   "cell_type": "code",
   "execution_count": 25,
   "metadata": {},
   "outputs": [
    {
     "data": {
      "text/plain": [
       "{'a': ['*', '*'], 'b': ['*', '*']}"
      ]
     },
     "execution_count": 25,
     "metadata": {},
     "output_type": "execute_result"
    }
   ],
   "source": [
    "#figuring out the list comprehension by writting it out.\n",
    "l = ['a', 'b']\n",
    "s = '*'\n",
    "\n",
    "dict_ = {}\n",
    "for elem in l:\n",
    "    array = []\n",
    "    for _ in range(2):\n",
    "        array.append(s)    \n",
    "    dict_[elem] = array   \n",
    "dict_"
   ]
  },
  {
   "cell_type": "code",
   "execution_count": 26,
   "metadata": {},
   "outputs": [
    {
     "data": {
      "text/plain": [
       "{'a': ['*', '*'], 'b': ['*', '*']}"
      ]
     },
     "execution_count": 26,
     "metadata": {},
     "output_type": "execute_result"
    }
   ],
   "source": [
    "# For each element in `l` i want the element `s` twice.\n",
    "new_dict = {elem: [s] * 2 for elem in l}    # [s] * 2 is also equal to [s for _ in range(2)]\n",
    "new_dict"
   ]
  },
  {
   "cell_type": "code",
   "execution_count": 27,
   "metadata": {},
   "outputs": [],
   "source": [
    "new_dict = {elem: [s] * 2 for elem in l} \n",
    "l = ['a', 'b']\n",
    "s = '*'"
   ]
  },
  {
   "cell_type": "markdown",
   "metadata": {},
   "source": [
    "<div style=\"background: #000;\n",
    "            color: #FFF;\n",
    "            margin: 0px;\n",
    "                padding: 10px 0px 20px 0px;\n",
    "            text-align: center; \n",
    "                \">\n",
    "    <h1>Week 04</h1>\n",
    "</div>"
   ]
  },
  {
   "cell_type": "markdown",
   "metadata": {},
   "source": [
    "# Exercise 1\n",
    "\n",
    "Create a function that takes both postional arguments and a keyword arguments. "
   ]
  },
  {
   "cell_type": "code",
   "execution_count": 28,
   "metadata": {},
   "outputs": [
    {
     "name": "stdout",
     "output_type": "stream",
     "text": [
      "silvia 56\n",
      "joseph 7\n",
      "hector 45\n"
     ]
    }
   ],
   "source": [
    "def multi_purpose_func(age, name=\"hector\"):\n",
    "    print(f\"{name} {age}\")\n",
    "    \n",
    "\n",
    "multi_purpose_func(56, \"silvia\") #This uses positional parameters\n",
    "multi_purpose_func(name=\"joseph\", age=7) #This uses keyword arguments\n",
    "multi_purpose_func(45) #This uses default value for name"
   ]
  },
  {
   "cell_type": "markdown",
   "metadata": {},
   "source": [
    "# Exercise 2\n",
    "\n",
    "Fix the following function so that it takes an arbitrary number of arguments. Demonstrate this function works by unpacking `lst` into the function as 11 arguements."
   ]
  },
  {
   "cell_type": "code",
   "execution_count": 29,
   "metadata": {},
   "outputs": [
    {
     "data": {
      "text/plain": [
       "['1', '2', '3', '4', '5', '6', '7', '8', '9', '10']"
      ]
     },
     "execution_count": 29,
     "metadata": {},
     "output_type": "execute_result"
    }
   ],
   "source": [
    "#original function and list\n",
    "lst = [1,2,3,4,5,6,7,8,9,10]\n",
    "\n",
    "def values_to_string(lst):\n",
    "    new_list = []\n",
    "    for i in lst:\n",
    "        new_list.append(str(i))\n",
    "    return new_list\n",
    "\n",
    "values_to_string(lst)"
   ]
  },
  {
   "cell_type": "code",
   "execution_count": 30,
   "metadata": {},
   "outputs": [
    {
     "name": "stdout",
     "output_type": "stream",
     "text": [
      "['1', '2', '3', '4', '5', '6', '7', '8', '9', '10', '11']\n",
      "['1', '2', '3', '4', '5', 'a', '4.5', 'True']\n"
     ]
    }
   ],
   "source": [
    "lst = [1,2,3,4,5,6,7,8,9,10]\n",
    "\n",
    "def values_to_string(*lst): #* means multiple positional arguments\n",
    "    new_list = []\n",
    "    for i in lst:\n",
    "        new_list.append(str(i))\n",
    "    return new_list\n",
    "\n",
    "print(values_to_string(*lst,11)) #* unpacking lst\n",
    "print(values_to_string(1,2,3,4,5,'a',4.5, True))"
   ]
  },
  {
   "cell_type": "markdown",
   "metadata": {},
   "source": [
    "# Exercise 3\n",
    "\n",
    "Write a function that has an algorithm that is worst case 0(n)."
   ]
  },
  {
   "cell_type": "code",
   "execution_count": 31,
   "metadata": {},
   "outputs": [
    {
     "name": "stdout",
     "output_type": "stream",
     "text": [
      "the best case scenario is \n",
      "2\n",
      "the worst case scenario is \n",
      "3\n",
      "2\n",
      "1\n",
      "2\n",
      "3\n",
      "4\n"
     ]
    }
   ],
   "source": [
    "best_case_num = [2,1,2,3,4]\n",
    "worst_case_num = [3,2,1,2,3,4]\n",
    "\n",
    "def numbers_(numbers):\n",
    "    if numbers[0] % 2 == 0:\n",
    "        return numbers[0]\n",
    "    else:\n",
    "        for i in numbers:\n",
    "            print(i)\n",
    "print(\"the best case scenario is \")\n",
    "print(numbers_(best_case_num))\n",
    "print(\"the worst case scenario is \")\n",
    "numbers_(worst_case_num)  "
   ]
  },
  {
   "cell_type": "markdown",
   "metadata": {},
   "source": [
    "# Exercise 4\n",
    "\n",
    "Write a function called `summer` that takes an arbitrary number of keyword arguments and then adds any arguments that are ints/floats to produce a sum.\n",
    "\n",
    "Hint:  \n",
    "`summer(**{a=True, b=1})` would return 1.   \n",
    "`summer(**{c=3, d=\"4\" })` would return 3."
   ]
  },
  {
   "cell_type": "code",
   "execution_count": 32,
   "metadata": {},
   "outputs": [
    {
     "name": "stdout",
     "output_type": "stream",
     "text": [
      "1\n"
     ]
    },
    {
     "data": {
      "text/plain": [
       "3"
      ]
     },
     "execution_count": 32,
     "metadata": {},
     "output_type": "execute_result"
    }
   ],
   "source": [
    "def summer(**kwargs):\n",
    "    sum_ = 0\n",
    "    for key,value in kwargs.items():\n",
    "        if type(value) is int or type(value) is float:\n",
    "            sum_ += value\n",
    "    return sum_\n",
    "                  \n",
    "print(summer(a=True, b=1))\n",
    "summer(c=3, d='4')"
   ]
  },
  {
   "cell_type": "markdown",
   "metadata": {},
   "source": [
    "# Bonus\n",
    "\n",
    "Create a function that returns a lambda function. Show how it can be used to create new functions. Can you turn this into a decorator?\n",
    "\n",
    "Hint: see example from `week-04-class-02.ipynb` with the `mytripler` function"
   ]
  },
  {
   "cell_type": "code",
   "execution_count": 33,
   "metadata": {},
   "outputs": [
    {
     "name": "stdout",
     "output_type": "stream",
     "text": [
      "This is beginning of the function\n",
      "50\n",
      "This is end of the function\n"
     ]
    }
   ],
   "source": [
    "def new_func(func):\n",
    "    def wrapper(num,x):\n",
    "        print(\"This is beginning of the function\")\n",
    "        y = func(num,x)\n",
    "        print(y(x))\n",
    "        print(\"This is end of the function\")\n",
    "    return wrapper\n",
    "\n",
    "@new_func\n",
    "def third_func(num,x):\n",
    "    return lambda x: x * num\n",
    "\n",
    "third_func(5,10)"
   ]
  },
  {
   "cell_type": "code",
   "execution_count": 34,
   "metadata": {},
   "outputs": [
    {
     "name": "stdout",
     "output_type": "stream",
     "text": [
      "*** This is beginning of the function\n",
      "20\n",
      "*** This is end of the function\n"
     ]
    }
   ],
   "source": [
    "#Making a second decorator that takes multiple arguments\n",
    "def new_func_2(lambda_): \n",
    "    def wrapper(*k):\n",
    "        print(\"*** This is beginning of the function\")\n",
    "        lambda_(*k)\n",
    "        print(\"*** This is end of the function\")              \n",
    "    return wrapper\n",
    "\n",
    "#storing wrapped function in a variable\n",
    "wrapped_new_func_2 = new_func_2(lambda x,num: print(x * num))\n",
    "wrapped_new_func_2(2,10)"
   ]
  },
  {
   "cell_type": "code",
   "execution_count": 35,
   "metadata": {},
   "outputs": [
    {
     "name": "stdout",
     "output_type": "stream",
     "text": [
      "*** This is beginning of the function\n",
      "60\n",
      "*** This is end of the function\n"
     ]
    }
   ],
   "source": [
    "#Creating lambda functions and storing them in variables so I can use it in my decorator\n",
    "lamb = lambda x: print(x)\n",
    "\n",
    "#Making a decorator function that will take the lambda function and then tranform the function that gets passed on it\n",
    "def new_func(lambda_): \n",
    "    def wrapper(x):\n",
    "        print(\"*** This is beginning of the function\")\n",
    "        lambda_(x)\n",
    "        print(\"*** This is end of the function\")              \n",
    "    return wrapper\n",
    "\n",
    "wrapped_new_func = new_func(lamb)\n",
    "wrapped_new_func(60)"
   ]
  },
  {
   "cell_type": "code",
   "execution_count": null,
   "metadata": {},
   "outputs": [],
   "source": [
    "#Making a decorator function that will take the lambda function and then tranform the function that gets passed on it\n",
    "def new_func(lambda_): \n",
    "    def wrapper():\n",
    "        print(\"*** This is beginning of the function\")\n",
    "        lambda_(*x)\n",
    "        print(\"*** This is end of the function\")              \n",
    "    return wrapper\n",
    "\n",
    "@new_func\n",
    "def third_func(x,num):\n",
    "    return lambda x: x *num\n",
    "    \n",
    "print(third_func(5)())"
   ]
  },
  {
   "cell_type": "code",
   "execution_count": null,
   "metadata": {},
   "outputs": [],
   "source": [
    "#tring to make it cleaner but I couldn't accomplish that.\n",
    "#I will revisit this problem after some more practice\n",
    "def new_func(lambda_): \n",
    "    def wrapper(*x):\n",
    "        print(\"*** This is beginning of the function\")\n",
    "        lambda_(x)\n",
    "        print(\"*** This is end of the function\")              \n",
    "    return wrapper\n",
    "\n",
    "\n",
    "@new_func\n",
    "lamb = lambda x: print(x)\n",
    "\n",
    "lamb(5)"
   ]
  },
  {
   "cell_type": "markdown",
   "metadata": {},
   "source": [
    "<div style=\"background: #000;\n",
    "            color: #FFF;\n",
    "            margin: 0px;\n",
    "                padding: 10px 0px 20px 0px;\n",
    "            text-align: center; \n",
    "                \">\n",
    "    <h1>Week 05</h1>\n",
    "</div>"
   ]
  },
  {
   "cell_type": "markdown",
   "metadata": {},
   "source": [
    "# Exercise 1\n",
    "\n",
    "Create a function that calculates the double factorial of an odd number. The double factorial of `n` is denoted by `n!!` and is the product of all odd integers up to and including `n`. You can do it using recursion (for bonus points) or any other method you can come up with.\n",
    "\n",
    "e.g. \n",
    "\n",
    "```\n",
    "9!! = 1 x 3 x 5 x 7 x 9 = 945\n",
    "```\n",
    "\n",
    "Output the following once your function works.\n",
    "\n",
    "`double_factorial(13)"
   ]
  },
  {
   "cell_type": "code",
   "execution_count": 38,
   "metadata": {},
   "outputs": [
    {
     "name": "stdout",
     "output_type": "stream",
     "text": [
      "input: 0, output: 1 \n",
      "\n",
      "12 is not an odd number.\n",
      "input: 12, output: None \n",
      "\n",
      "input: 9, output: 945 \n",
      "\n",
      "input: -1, output: 1 \n",
      "\n",
      "4.0 is not an odd number.\n",
      "input: 4.0, output: None \n",
      "\n"
     ]
    }
   ],
   "source": [
    "def double_factorial(n=13):\n",
    "    if n <= 0:            \n",
    "        return 1\n",
    "    elif n % 2 == 1:\n",
    "        return n * double_factorial(n-2)\n",
    "    else:\n",
    "        print(f\"{n} is not an odd number.\")\n",
    "            \n",
    "#testing different values for n            \n",
    "input_number = [0,12,9,-1,4.0]\n",
    "for n in input_number:\n",
    "    print(f\"input: {n}, output: {double_factorial(n)} \\n\")"
   ]
  },
  {
   "cell_type": "code",
   "execution_count": 39,
   "metadata": {},
   "outputs": [
    {
     "name": "stdout",
     "output_type": "stream",
     "text": [
      "135135\n"
     ]
    },
    {
     "data": {
      "text/plain": [
       "135135"
      ]
     },
     "execution_count": 39,
     "metadata": {},
     "output_type": "execute_result"
    }
   ],
   "source": [
    "#To make sure we still multiple the odds in an even input\n",
    "def double_factorial_2(n=13):\n",
    "    if (n == 1) or (n ==0):           \n",
    "        return 1\n",
    "    elif n % 2 == 0:\n",
    "        return 1 * double_factorial_2(n-1)\n",
    "    else:\n",
    "        return n * double_factorial_2(n-2)\n",
    "\n",
    "print(double_factorial_2(13))\n",
    "double_factorial_2(14)"
   ]
  },
  {
   "cell_type": "markdown",
   "metadata": {},
   "source": [
    "# Exercise 2\n",
    "\n",
    "Create the decorator function(s) that wraps the `hello` function in the following html tags.\n",
    "\n",
    "hello() -> `<div><p><b>hello</b></p></div>`"
   ]
  },
  {
   "cell_type": "code",
   "execution_count": 40,
   "metadata": {},
   "outputs": [
    {
     "name": "stdout",
     "output_type": "stream",
     "text": [
      "<div><p><b>hello</b></p></div>\n"
     ]
    }
   ],
   "source": [
    "def tagger(tag1,tag2,tag3):\n",
    "    def decorator_function(func):\n",
    "        def wrapper():\n",
    "            print(f\"<{tag1}><{tag2}><{tag3}>{func()}</{tag3}></{tag2}></{tag1}>\")\n",
    "        return wrapper\n",
    "    return decorator_function\n",
    "    \n",
    "@tagger(tag1='div',tag2='p',tag3='b')\n",
    "def hello():\n",
    "    return \"hello\"\n",
    "\n",
    "hello()"
   ]
  },
  {
   "cell_type": "code",
   "execution_count": 41,
   "metadata": {},
   "outputs": [
    {
     "data": {
      "text/plain": [
       "'<div><b><p>hello</p></b></div>'"
      ]
     },
     "execution_count": 41,
     "metadata": {},
     "output_type": "execute_result"
    }
   ],
   "source": [
    "def tagger(tag):\n",
    "    def decorator_function(func):\n",
    "        def wrapper():\n",
    "            return f\"<{tag}>{func()}</{tag}>\"\n",
    "        return wrapper\n",
    "    return decorator_function\n",
    "@tagger('div')\n",
    "@tagger('b')\n",
    "@tagger('p')\n",
    "def hello():\n",
    "    return \"hello\"\n",
    "hello()"
   ]
  },
  {
   "cell_type": "markdown",
   "metadata": {},
   "source": [
    "# Exercise 3\n",
    "\n",
    "If we list all the natural numbers below 10 that are multiples of 3 or 5, we get 3, 5, 6 and 9. The sum of these multiples is 23.\n",
    "\n",
    "Create a function that returns the sum of all the multiples of 3 or 5 below `n` where `n` is the inputted number.\n",
    "\n",
    "e.g. \n",
    "\n",
    "```\n",
    "n=10 -> 23\n",
    "n=25 -> 143\n",
    "n=50 -> 543\n",
    "n=100 -> 2318\n",
    "```"
   ]
  },
  {
   "cell_type": "code",
   "execution_count": 42,
   "metadata": {},
   "outputs": [
    {
     "name": "stdout",
     "output_type": "stream",
     "text": [
      "input: 10, output: 23 \n",
      "\n",
      "input: 25, output: 143 \n",
      "\n",
      "input: 50, output: 543 \n",
      "\n",
      "input: 100, output: 2318 \n",
      "\n",
      "input: 3, output: 0 \n",
      "\n",
      "input: 5, output: 3 \n",
      "\n",
      "input: 0, output: 0 \n",
      "\n",
      "input: -1, output: 0 \n",
      "\n"
     ]
    }
   ],
   "source": [
    "def sum_of_threes_and_fives(n=100):\n",
    "    summation = 0\n",
    "    for num in range(n):\n",
    "        if num % 3==0 or num % 5==0:\n",
    "            summation += num\n",
    "    return summation\n",
    "\n",
    "input_number = [10,25,50,100,3,5,0,-1]\n",
    "for n in input_number:\n",
    "    print(f\"input: {n}, output: {sum_of_threes_and_fives(n)} \\n\")"
   ]
  },
  {
   "cell_type": "markdown",
   "metadata": {},
   "source": [
    "<div style=\"background: #000;\n",
    "            color: #FFF;\n",
    "            margin: 0px;\n",
    "                padding: 10px 0px 20px 0px;\n",
    "            text-align: center; \n",
    "                \">\n",
    "    <h1>Week 06</h1>\n",
    "</div>"
   ]
  },
  {
   "cell_type": "markdown",
   "metadata": {},
   "source": [
    "# Exercise 1\n",
    "\n",
    "Create a class called `Course` and a class called `Student` based on what you think they will need. Create a way to store 20 \"students\" (instances of the `Student` class into an instance of `Course` to represent our Data Science course. \n",
    "\n",
    "Demonstrate that your code works. Message on slack if stuck or need clarification."
   ]
  },
  {
   "cell_type": "code",
   "execution_count": 45,
   "metadata": {},
   "outputs": [
    {
     "data": {
      "text/plain": [
       "[(first name: Amy,last name: Rosa, hw grade: 100),\n",
       " (first name: Anna,last name: Levy, hw grade: 100),\n",
       " (first name: Bryant,last name: Novas, hw grade: 100),\n",
       " (first name: Chioma,last name: Dunkley, hw grade: 100),\n",
       " (first name: Clariza,last name: Mayo, hw grade: 100),\n",
       " (first name: Claudia,last name: De Los Santos, hw grade: 100),\n",
       " (first name: Elston,last name: Bell, hw grade: 100),\n",
       " (first name: Fausto,last name: Rosado, hw grade: 100),\n",
       " (first name: Gyasi,last name: Sturgis, hw grade: 100),\n",
       " (first name: Irene,last name: Merette, hw grade: 100),\n",
       " (first name: Janet,last name: Perez, hw grade: 100),\n",
       " (first name: Jessica,last name: D., hw grade: 100),\n",
       " (first name: Ishraq,last name: Khan, hw grade: 100),\n",
       " (first name: Juan,last name: Peralta, hw grade: 100),\n",
       " (first name: Judi,last name: Desire, hw grade: 100),\n",
       " (first name: Kari,last name: Sakib, hw grade: 100),\n",
       " (first name: Luis,last name: Alejo, hw grade: 100),\n",
       " (first name: Michael,last name: Alford, hw grade: 100),\n",
       " (first name: Rakhshanda,last name: Mirza, hw grade: 100),\n",
       " (first name: Stanislava,last name: Hristova, hw grade: 100)]"
      ]
     },
     "execution_count": 45,
     "metadata": {},
     "output_type": "execute_result"
    }
   ],
   "source": [
    "class Course:\n",
    "    def __init__(self,subject,professor,room_number, students = []):\n",
    "        self.subject = subject\n",
    "        self.professor = professor\n",
    "        self.students = students\n",
    "        self.room_number = room_number\n",
    "        \n",
    "    def add_student(self,student):\n",
    "        self.students.append(student)\n",
    "        \n",
    "    def get_students(self):\n",
    "        return self.students\n",
    "           \n",
    "class Student:\n",
    "    def __init__(self,first_name, last_name, hw_grade):\n",
    "        self.first_name = first_name\n",
    "        self.last_name = last_name\n",
    "        self.hw_grade = hw_grade\n",
    "    \n",
    "    def __str__(self):\n",
    "        return f\"(first name: {self.first_name},last name: {self.last_name}, hw grade: {self.hw_grade})\"\n",
    "    \n",
    "    def __repr__(self):\n",
    "        return self.__str__()\n",
    "\n",
    "students = [[\"Amy\",\"Rosa\", 100],\n",
    "            [\"Anna\",\"Levy\", 100],\n",
    "            [\"Bryant\",\"Novas\", 100],\n",
    "            [\"Chioma\",\"Dunkley\", 100],\n",
    "            [\"Clariza\", \"Mayo\", 100],\n",
    "            [\"Claudia\", \"De Los Santos\", 100],\n",
    "            [\"Elston\", \"Bell\", 100],\n",
    "            [\"Fausto\",\"Rosado\", 100],\n",
    "            [\"Gyasi\",\"Sturgis\", 100],\n",
    "            [\"Irene\",\"Merette\", 100],\n",
    "            [\"Janet\",\"Perez\", 100],\n",
    "            [\"Jessica\",\"D.\", 100],\n",
    "            [\"Ishraq\",\"Khan\", 100],\n",
    "            [\"Juan\",\"Peralta\", 100],\n",
    "            [\"Judi\",\"Desire\", 100],\n",
    "            [\"Kari\",\"Sakib\", 100],\n",
    "            [\"Luis\",\"Alejo\", 100],\n",
    "            [\"Michael\",\"Alford\", 100],\n",
    "            [\"Rakhshanda\",\"Mirza\", 100],\n",
    "            [\"Stanislava\",\"Hristova\", 100]]\n",
    "students_array = []\n",
    "for student in students:\n",
    "    students_array.append(Student(*student)) \n",
    "\n",
    "new_course = Course(\"Data Science\", \"Anil\", \"Online\", students_array)\n",
    "new_course.get_students()"
   ]
  },
  {
   "cell_type": "markdown",
   "metadata": {},
   "source": [
    "# Exercise 2\n",
    "\n",
    "Create a class called `SafeFloat` that stores an attribute called `num` as an instance attribute set during initialization and sets `num_as_float` based on `num`\n",
    "\n",
    "Include the following three methods:\n",
    "\n",
    "`to_float` - that converts `num` to a float and stores that an attribute `num_as_float`. If `num` cannot be converted, set `num_as_float` to `None`. Do on mutate the original `num`, we'd like to keep it.\n",
    "\n",
    "`check_type` - that returns `True` if `num_as_float` is a float. It should create `num_as_float` if it doesn't exist. \n",
    "\n",
    "and a method that overrides the addition operator so that when instances of `SafeFloat` are added, `num_as_float` is used to add. Return the sum of the two instances or return `None` if the two cannot be added.\n",
    "\n",
    "Demonstrate that this works for strings, ints, bools and floats."
   ]
  },
  {
   "cell_type": "code",
   "execution_count": 46,
   "metadata": {},
   "outputs": [
    {
     "name": "stdout",
     "output_type": "stream",
     "text": [
      "0.0\n",
      "0.0\n",
      "True\n",
      "True\n",
      "0.0\n",
      "\n",
      "\n",
      "1.4\n",
      "1.0\n",
      "True\n",
      "True\n",
      "2.4\n",
      "\n",
      "\n",
      "None\n",
      "None\n",
      "False\n",
      "False\n",
      "None\n",
      "\n",
      "\n",
      "1.5\n",
      "2.0\n",
      "True\n",
      "True\n",
      "3.5\n"
     ]
    }
   ],
   "source": [
    "class SafeFloat:\n",
    "    def __init__(self,num):\n",
    "        self.num = num\n",
    "        self.to_float()\n",
    "        \n",
    "    def to_float(self):\n",
    "        try: \n",
    "            self.num_as_float = float(self.num)\n",
    "        except:\n",
    "            self.num_as_float = None        \n",
    "    \n",
    "    def check_type(self):\n",
    "        if hasattr(SafeFloat,\"num_as_float\"):  #checking whether attribute is in the class hasattr(class, attribute)\n",
    "            self.num_as_float = self.num\n",
    "        if type(self.num_as_float) == float:\n",
    "            return True\n",
    "        else:\n",
    "            return False\n",
    "\n",
    "    def __add__(self,other):  #oevrloading the + operator\n",
    "        if self.check_type() == False:\n",
    "            return None\n",
    "        else:\n",
    "            return self.num_as_float + other.num_as_float\n",
    "                                   \n",
    "# test with ints, floats, bools and strings\n",
    "e = SafeFloat(0)\n",
    "f = SafeFloat(0)\n",
    "print(e.num_as_float)\n",
    "print(f.num_as_float)\n",
    "print(e.check_type())\n",
    "print(f.check_type())\n",
    "print(e + f)    # e.__add__(f)   e = self, f = other\n",
    "print(\"\\n\")\n",
    "a = SafeFloat(1.4)\n",
    "b = SafeFloat(True)\n",
    "print(a.num_as_float)\n",
    "print(b.num_as_float)\n",
    "print(a.check_type())\n",
    "print(b.check_type())\n",
    "print(a + b)\n",
    "print(\"\\n\")\n",
    "c = SafeFloat(\"str1\")\n",
    "d = SafeFloat(\"string2\")\n",
    "print(d.num_as_float)\n",
    "print(d.num_as_float)\n",
    "print(c.check_type())\n",
    "print(d.check_type())\n",
    "print(c + d)\n",
    "print(\"\\n\")\n",
    "g = SafeFloat(\"1.5\")\n",
    "h = SafeFloat(\"2\")\n",
    "print(g.num_as_float)\n",
    "print(h.num_as_float)\n",
    "print(g.check_type())\n",
    "print(h.check_type())\n",
    "g.num_as_float\n",
    "h.num_as_float\n",
    "print(g + h)"
   ]
  },
  {
   "cell_type": "markdown",
   "metadata": {},
   "source": [
    "# Exercise 3\n",
    "\n",
    "Create a base class `Shape` and two classes that inherits that base class called `Triangle` and `Rectangle`. Consider what those two share in common (height and width) and use that to create your base class `Shape`. Create a method for base class called `area` that returns `None` for the base class. Override that method for `Triangle` and `Rectangle` so instances of those two classes can calculate the correct area.\n",
    "\n",
    "Demonstrate that your code works."
   ]
  },
  {
   "cell_type": "code",
   "execution_count": 47,
   "metadata": {},
   "outputs": [
    {
     "name": "stdout",
     "output_type": "stream",
     "text": [
      "The area of the restangle is 27\n",
      "The area of the restangle is 91\n"
     ]
    }
   ],
   "source": [
    "class Shape:\n",
    "    def __init__(self,height, width):  \n",
    "        self.height = height         \n",
    "        self.width = width\n",
    "        \n",
    "    def area(self):\n",
    "        return None\n",
    "        \n",
    "class Triangle(Shape):\n",
    "    def area(self):\n",
    "        area = 0.5 * self.height * self.width\n",
    "        return area\n",
    "        \n",
    "class Rectangle(Shape):   \n",
    "    def area(self):\n",
    "        area = self.height * self.width\n",
    "        return area\n",
    "        \n",
    "new_triangle = Triangle(9,6)\n",
    "new_rectangle = Rectangle(7,13)\n",
    "\n",
    "print(\"The area of the restangle is %0.0f\" % new_triangle.area())\n",
    "print(\"The area of the restangle is %0.0f\" % new_rectangle.area())"
   ]
  },
  {
   "cell_type": "code",
   "execution_count": null,
   "metadata": {},
   "outputs": [],
   "source": []
  }
 ],
 "metadata": {
  "kernelspec": {
   "display_name": "Python 3",
   "language": "python",
   "name": "python3"
  },
  "language_info": {
   "codemirror_mode": {
    "name": "ipython",
    "version": 3
   },
   "file_extension": ".py",
   "mimetype": "text/x-python",
   "name": "python",
   "nbconvert_exporter": "python",
   "pygments_lexer": "ipython3",
   "version": "3.8.3"
  }
 },
 "nbformat": 4,
 "nbformat_minor": 4
}
